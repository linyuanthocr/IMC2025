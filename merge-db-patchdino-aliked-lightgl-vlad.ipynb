{
 "cells": [
  {
   "cell_type": "markdown",
   "id": "708dd697",
   "metadata": {
    "_cell_guid": "b1076dfc-b9ad-4769-8c92-a6c4dae69d19",
    "_uuid": "8f2839f25d086af736a60e9eeb907d3b93b6e0e5",
    "papermill": {
     "duration": 0.007364,
     "end_time": "2025-05-30T00:20:25.562414",
     "exception": false,
     "start_time": "2025-05-30T00:20:25.555050",
     "status": "completed"
    },
    "tags": []
   },
   "source": [
    "## Example submission\n",
    "\n",
    "Image Matching Challenge 2025: https://www.kaggle.com/competitions/image-matching-challenge-2025\n",
    "\n",
    "This notebook creates a simple submission using ALIKED and LightGlue, plus DINO for shortlisting, on GPU. Adapted from [last year](https://www.kaggle.com/code/oldufo/imc-2024-submission-example).\n",
    "\n",
    "Remember to select an accelerator on the sidebar to the right, and to disable internet access when submitting a notebook to the competition."
   ]
  },
  {
   "cell_type": "code",
   "execution_count": 1,
   "id": "80cb3793",
   "metadata": {
    "execution": {
     "iopub.execute_input": "2025-05-30T00:20:25.575926Z",
     "iopub.status.busy": "2025-05-30T00:20:25.575646Z",
     "iopub.status.idle": "2025-05-30T00:20:30.498811Z",
     "shell.execute_reply": "2025-05-30T00:20:30.497640Z"
    },
    "papermill": {
     "duration": 4.931972,
     "end_time": "2025-05-30T00:20:30.500672",
     "exception": false,
     "start_time": "2025-05-30T00:20:25.568700",
     "status": "completed"
    },
    "tags": []
   },
   "outputs": [
    {
     "name": "stdout",
     "output_type": "stream",
     "text": [
      "Processing /kaggle/input/imc2024-packages-lightglue-rerun-kornia/kornia-0.7.2-py2.py3-none-any.whl\r\n",
      "Processing /kaggle/input/imc2024-packages-lightglue-rerun-kornia/kornia_moons-0.2.9-py3-none-any.whl\r\n",
      "Processing /kaggle/input/imc2024-packages-lightglue-rerun-kornia/kornia_rs-0.1.2-cp310-cp310-manylinux_2_17_x86_64.manylinux2014_x86_64.whl\r\n",
      "Processing /kaggle/input/imc2024-packages-lightglue-rerun-kornia/lightglue-0.0-py3-none-any.whl\r\n",
      "Processing /kaggle/input/imc2024-packages-lightglue-rerun-kornia/pycolmap-0.6.1-cp310-cp310-manylinux_2_17_x86_64.manylinux2014_x86_64.whl\r\n",
      "Processing /kaggle/input/imc2024-packages-lightglue-rerun-kornia/rerun_sdk-0.15.0a2-cp38-abi3-manylinux_2_31_x86_64.whl\r\n",
      "Installing collected packages: rerun-sdk, pycolmap, lightglue, kornia-rs, kornia-moons, kornia\r\n",
      "  Attempting uninstall: kornia-rs\r\n",
      "    Found existing installation: kornia_rs 0.1.8\r\n",
      "    Uninstalling kornia_rs-0.1.8:\r\n",
      "      Successfully uninstalled kornia_rs-0.1.8\r\n",
      "  Attempting uninstall: kornia\r\n",
      "    Found existing installation: kornia 0.8.0\r\n",
      "    Uninstalling kornia-0.8.0:\r\n",
      "      Successfully uninstalled kornia-0.8.0\r\n",
      "Successfully installed kornia-0.7.2 kornia-moons-0.2.9 kornia-rs-0.1.2 lightglue-0.0 pycolmap-0.6.1 rerun-sdk-0.15.0a2\r\n"
     ]
    }
   ],
   "source": [
    "# IMPORTANT \n",
    "#Install dependencies and copy model weights to run the notebook without internet access when submitting to the competition.\n",
    "\n",
    "!pip install --no-index /kaggle/input/imc2024-packages-lightglue-rerun-kornia/* --no-deps\n",
    "!mkdir -p /root/.cache/torch/hub/checkpoints\n",
    "!cp /kaggle/input/aliked/pytorch/aliked-n16/1/aliked-n16.pth /root/.cache/torch/hub/checkpoints/\n",
    "!cp /kaggle/input/lightglue/pytorch/aliked/1/aliked_lightglue.pth /root/.cache/torch/hub/checkpoints/\n",
    "!cp /kaggle/input/lightglue/pytorch/aliked/1/aliked_lightglue.pth /root/.cache/torch/hub/checkpoints/aliked_lightglue_v0-1_arxiv-pth"
   ]
  },
  {
   "cell_type": "code",
   "execution_count": 2,
   "id": "2a72dbf4",
   "metadata": {
    "execution": {
     "iopub.execute_input": "2025-05-30T00:20:30.515907Z",
     "iopub.status.busy": "2025-05-30T00:20:30.515651Z",
     "iopub.status.idle": "2025-05-30T00:20:31.483851Z",
     "shell.execute_reply": "2025-05-30T00:20:31.482675Z"
    },
    "papermill": {
     "duration": 0.977504,
     "end_time": "2025-05-30T00:20:31.485570",
     "exception": false,
     "start_time": "2025-05-30T00:20:30.508066",
     "status": "completed"
    },
    "tags": []
   },
   "outputs": [],
   "source": [
    "!cp /kaggle/input/disk-depth/disk_lightglue.pth /root/.cache/torch/hub/checkpoints/\n",
    "!cp /kaggle/input/disk-depth/disk_lightglue.pth /root/.cache/torch/hub/checkpoints/disk_lightglue_v0-1_arxiv-pth\n",
    "!cp /kaggle/input/disk-depth/depth-save.pth /root/.cache/torch/hub/checkpoints/depth-save.pth\n",
    "!cp /kaggle/input/disk-depth/depth-save.pth /root/.cache/torch/hub/checkpoints/"
   ]
  },
  {
   "cell_type": "code",
   "execution_count": 3,
   "id": "e14c63bd",
   "metadata": {
    "execution": {
     "iopub.execute_input": "2025-05-30T00:20:31.500177Z",
     "iopub.status.busy": "2025-05-30T00:20:31.499925Z",
     "iopub.status.idle": "2025-05-30T00:20:32.324133Z",
     "shell.execute_reply": "2025-05-30T00:20:32.323187Z"
    },
    "papermill": {
     "duration": 0.83309,
     "end_time": "2025-05-30T00:20:32.325697",
     "exception": false,
     "start_time": "2025-05-30T00:20:31.492607",
     "status": "completed"
    },
    "tags": []
   },
   "outputs": [],
   "source": [
    "!cp /kaggle/input/superpoint-lightglue/superpoint_lightglue.pth /root/.cache/torch/hub/checkpoints/\n",
    "!cp /kaggle/input/superpoint-lightglue/superpoint_lightglue.pth  /root/.cache/torch/hub/checkpoints/superpoint_lightglue_v0-1_arxiv-pth\n",
    "!cp /kaggle/input/superpoint-lightglue/superpoint_v1.pth /root/.cache/torch/hub/checkpoints/superpoint_v1.pth\n",
    "!cp /kaggle/input/superpoint-lightglue/superpoint_v1.pth /root/.cache/torch/hub/checkpoints/"
   ]
  },
  {
   "cell_type": "code",
   "execution_count": 4,
   "id": "4dc90287",
   "metadata": {
    "execution": {
     "iopub.execute_input": "2025-05-30T00:20:32.339955Z",
     "iopub.status.busy": "2025-05-30T00:20:32.339723Z",
     "iopub.status.idle": "2025-05-30T00:20:32.343928Z",
     "shell.execute_reply": "2025-05-30T00:20:32.343250Z"
    },
    "papermill": {
     "duration": 0.0125,
     "end_time": "2025-05-30T00:20:32.345153",
     "exception": false,
     "start_time": "2025-05-30T00:20:32.332653",
     "status": "completed"
    },
    "tags": []
   },
   "outputs": [
    {
     "name": "stdout",
     "output_type": "stream",
     "text": [
      "True\n"
     ]
    }
   ],
   "source": [
    "import os\n",
    "print(os.path.exists(\"/root/.cache/torch/hub/checkpoints/depth-save.pth\"))"
   ]
  },
  {
   "cell_type": "code",
   "execution_count": 5,
   "id": "5c3e8bd0",
   "metadata": {
    "execution": {
     "iopub.execute_input": "2025-05-30T00:20:32.358852Z",
     "iopub.status.busy": "2025-05-30T00:20:32.358655Z",
     "iopub.status.idle": "2025-05-30T00:20:56.125346Z",
     "shell.execute_reply": "2025-05-30T00:20:56.124664Z"
    },
    "papermill": {
     "duration": 23.775121,
     "end_time": "2025-05-30T00:20:56.126915",
     "exception": false,
     "start_time": "2025-05-30T00:20:32.351794",
     "status": "completed"
    },
    "tags": []
   },
   "outputs": [
    {
     "name": "stderr",
     "output_type": "stream",
     "text": [
      "/usr/local/lib/python3.10/dist-packages/kornia/feature/lightglue.py:44: FutureWarning: `torch.cuda.amp.custom_fwd(args...)` is deprecated. Please use `torch.amp.custom_fwd(args..., device_type='cuda')` instead.\n",
      "  @torch.cuda.amp.custom_fwd(cast_inputs=torch.float32)\n",
      "/usr/local/lib/python3.10/dist-packages/lightglue/lightglue.py:24: FutureWarning: `torch.cuda.amp.custom_fwd(args...)` is deprecated. Please use `torch.amp.custom_fwd(args..., device_type='cuda')` instead.\n",
      "  @torch.cuda.amp.custom_fwd(cast_inputs=torch.float32)\n"
     ]
    }
   ],
   "source": [
    "import sys\n",
    "import os\n",
    "from tqdm import tqdm\n",
    "from time import time, sleep\n",
    "import gc\n",
    "import numpy as np\n",
    "import h5py\n",
    "import dataclasses\n",
    "import pandas as pd\n",
    "from IPython.display import clear_output\n",
    "from collections import defaultdict\n",
    "from copy import deepcopy\n",
    "from PIL import Image\n",
    "\n",
    "import cv2\n",
    "import torch\n",
    "import torch.nn.functional as F\n",
    "import kornia as K\n",
    "import kornia.feature as KF\n",
    "\n",
    "import torch\n",
    "from lightglue import match_pair\n",
    "from lightglue import ALIKED, LightGlue\n",
    "from lightglue.utils import load_image, rbd\n",
    "from transformers import AutoImageProcessor, AutoModel\n",
    "\n",
    "# from lightglue import DISK\n",
    "from kornia.feature import LightGlueMatcher as KF_LightGlueMatcher\n",
    "from scipy.spatial import cKDTree # For efficient nearest neighbor search to remove duplicate keypoints\n",
    "\n",
    "# IMPORTANT Utilities: importing data into colmap and competition metric\n",
    "import pycolmap\n",
    "sys.path.append('/kaggle/input/imc25-utils')\n",
    "from database import *\n",
    "from h5_to_db import *\n",
    "import metric\n",
    "\n",
    "\n",
    "# LightGlue\n",
    "from lightglue import match_pair\n",
    "from lightglue import ALIKED, SuperPoint,DISK, DoGHardNet, LightGlue, SIFT\n",
    "from fastprogress import progress_bar\n"
   ]
  },
  {
   "cell_type": "code",
   "execution_count": 6,
   "id": "b1a6067c",
   "metadata": {
    "execution": {
     "iopub.execute_input": "2025-05-30T00:20:56.142333Z",
     "iopub.status.busy": "2025-05-30T00:20:56.141843Z",
     "iopub.status.idle": "2025-05-30T00:20:56.145375Z",
     "shell.execute_reply": "2025-05-30T00:20:56.144582Z"
    },
    "papermill": {
     "duration": 0.012386,
     "end_time": "2025-05-30T00:20:56.146565",
     "exception": false,
     "start_time": "2025-05-30T00:20:56.134179",
     "status": "completed"
    },
    "tags": []
   },
   "outputs": [],
   "source": [
    "from collections import defaultdict\n",
    "from copy import deepcopy\n",
    "import concurrent.futures\n"
   ]
  },
  {
   "cell_type": "code",
   "execution_count": 7,
   "id": "e51296db",
   "metadata": {
    "execution": {
     "iopub.execute_input": "2025-05-30T00:20:56.160541Z",
     "iopub.status.busy": "2025-05-30T00:20:56.160319Z",
     "iopub.status.idle": "2025-05-30T00:20:56.269825Z",
     "shell.execute_reply": "2025-05-30T00:20:56.268792Z"
    },
    "papermill": {
     "duration": 0.117995,
     "end_time": "2025-05-30T00:20:56.271117",
     "exception": false,
     "start_time": "2025-05-30T00:20:56.153122",
     "status": "completed"
    },
    "tags": []
   },
   "outputs": [
    {
     "name": "stdout",
     "output_type": "stream",
     "text": [
      "PyTorch version: 2.5.1+cu121\n",
      "Python version: 3.10.12 (main, Nov  6 2024, 20:22:13) [GCC 11.4.0]\n",
      "CUDA available: True\n",
      "CUDA version: 12.1\n",
      "Device count: 2\n",
      "Current device: 0\n",
      "Device name: Tesla T4\n"
     ]
    }
   ],
   "source": [
    "\n",
    "print(\"PyTorch version:\", torch.__version__)\n",
    "import sys\n",
    "print(\"Python version:\", sys.version)\n",
    "\n",
    "print(\"CUDA available:\", torch.cuda.is_available())\n",
    "print(\"CUDA version:\", torch.version.cuda)\n",
    "print(\"Device count:\", torch.cuda.device_count())\n",
    "print(\"Current device:\", torch.cuda.current_device())\n",
    "print(\"Device name:\", torch.cuda.get_device_name(torch.cuda.current_device()))\n"
   ]
  },
  {
   "cell_type": "code",
   "execution_count": 8,
   "id": "27552a3a",
   "metadata": {
    "execution": {
     "iopub.execute_input": "2025-05-30T00:20:56.285623Z",
     "iopub.status.busy": "2025-05-30T00:20:56.285367Z",
     "iopub.status.idle": "2025-05-30T00:20:56.289579Z",
     "shell.execute_reply": "2025-05-30T00:20:56.288844Z"
    },
    "papermill": {
     "duration": 0.012572,
     "end_time": "2025-05-30T00:20:56.290709",
     "exception": false,
     "start_time": "2025-05-30T00:20:56.278137",
     "status": "completed"
    },
    "tags": []
   },
   "outputs": [
    {
     "name": "stdout",
     "output_type": "stream",
     "text": [
      "device=device(type='cuda', index=0)\n"
     ]
    }
   ],
   "source": [
    "# Do not forget to select an accelerator on the sidebar to the right.\n",
    "device = K.utils.get_cuda_device_if_available(0)\n",
    "print(f'{device=}')"
   ]
  },
  {
   "cell_type": "code",
   "execution_count": 9,
   "id": "40bda330",
   "metadata": {
    "execution": {
     "iopub.execute_input": "2025-05-30T00:20:56.304760Z",
     "iopub.status.busy": "2025-05-30T00:20:56.304556Z",
     "iopub.status.idle": "2025-05-30T00:20:56.307229Z",
     "shell.execute_reply": "2025-05-30T00:20:56.306658Z"
    },
    "papermill": {
     "duration": 0.010924,
     "end_time": "2025-05-30T00:20:56.308322",
     "exception": false,
     "start_time": "2025-05-30T00:20:56.297398",
     "status": "completed"
    },
    "tags": []
   },
   "outputs": [],
   "source": [
    "VERBOSE = True"
   ]
  },
  {
   "cell_type": "code",
   "execution_count": 10,
   "id": "66803aa3",
   "metadata": {
    "execution": {
     "iopub.execute_input": "2025-05-30T00:20:56.322601Z",
     "iopub.status.busy": "2025-05-30T00:20:56.322396Z",
     "iopub.status.idle": "2025-05-30T00:20:56.329864Z",
     "shell.execute_reply": "2025-05-30T00:20:56.329264Z"
    },
    "papermill": {
     "duration": 0.015899,
     "end_time": "2025-05-30T00:20:56.331004",
     "exception": false,
     "start_time": "2025-05-30T00:20:56.315105",
     "status": "completed"
    },
    "tags": []
   },
   "outputs": [],
   "source": [
    "class CONFIG:\n",
    "    # DEBUG Settings\n",
    "    DRY_RUN = False\n",
    "    DRY_RUN_MAX_IMAGES = 10\n",
    "\n",
    "    # Pipeline settings\n",
    "    NUM_CORES = 2\n",
    "    \n",
    "    # COLMAP Reconstruction\n",
    "    CAMERA_MODEL = \"simple-radial\"\n",
    "    \n",
    "    # Rotation correction\n",
    "    ROTATION_CORRECTION = False\n",
    "    \n",
    "    # Keypoints handling\n",
    "    MERGE_PARAMS = {\n",
    "        \"min_matches\" : 15,\n",
    "        # When merging keypoints, it is enable to filtering matches with cv2.findFundamentalMatrix.\n",
    "        \"filter_FundamentalMatrix\" : True,\n",
    "        \"filter_iterations\" : 5,\n",
    "        \"filter_threshold\" : 4,\n",
    "    }\n",
    "    \n",
    "    # Keypoints Extraction\n",
    "    use_aliked_lightglue = True\n",
    "    use_doghardnet_lightglue = False\n",
    "    use_superpoint_lightglue = True\n",
    "    use_disk_lightglue = True\n",
    "    use_sift_lightglue = False\n",
    "    use_loftr = False\n",
    "    use_dkm = False\n",
    "    use_superglue = False\n",
    "    use_matchformer = False\n",
    "        \n",
    "    # Keypoints Extraction Parameters\n",
    "    params_aliked_lightglue = {\n",
    "        \"num_features\" : 4096,\n",
    "        \"detection_threshold\" : 0.1,\n",
    "        \"min_matches\" : 100,\n",
    "        \"resize_to\" : 2048,\n",
    "        \"match_confidence_threshold\":0.2\n",
    "    }\n",
    "    \n",
    "    params_doghardnet_lightglue = {\n",
    "        \"num_features\" : 8192,\n",
    "        \"detection_threshold\" : 0.001,\n",
    "        \"min_matches\" : 15,\n",
    "        \"resize_to\" : 1024,\n",
    "    }\n",
    "    \n",
    "    params_superpoint_lightglue = {\n",
    "        \"num_features\" : 2048,\n",
    "        \"detection_threshold\" : 0.1,\n",
    "        \"min_matches\" : 50,\n",
    "        \"resize_to\" : 2048,\n",
    "        \"match_confidence_threshold\":0.2\n",
    "    }\n",
    "    \n",
    "    params_disk_lightglue = {\n",
    "        \"num_features\" : 2048,\n",
    "        \"detection_threshold\" : 0.1,\n",
    "        \"min_matches\" : 100,\n",
    "        \"resize_to\" : 2048,\n",
    "        \"match_confidence_threshold\":0.2\n",
    "    }\n",
    "\n",
    "    params_sift_lightglue = {\n",
    "        \"num_features\" : 8192,\n",
    "        \"detection_threshold\" : 0.001,\n",
    "        \"min_matches\" : 15,\n",
    "        \"resize_to\" : 1024,\n",
    "    }\n",
    "\n",
    "    params_loftr = {\n",
    "        \"resize_small_edge_to\" : 750,\n",
    "        \"min_matches\" : 15,\n",
    "    }\n",
    "    \n",
    "    params_dkm = {\n",
    "        \"num_features\" : 2048,\n",
    "        \"detection_threshold\" : 0.4,\n",
    "        \"min_matches\" : 15,\n",
    "        \"resize_to\" : (540, 720),    \n",
    "    }\n",
    "    \n",
    "    # superpoint + superglue  ...  https://www.kaggle.com/competitions/image-matching-challenge-2023/discussion/416873\n",
    "    params_sg1 = {\n",
    "        \"sg_config\" : \n",
    "        {\n",
    "            \"superpoint\": {\n",
    "                \"nms_radius\": 4, \n",
    "                \"keypoint_threshold\": 0.005,\n",
    "                \"max_keypoints\": -1,\n",
    "            },\n",
    "            \"superglue\": {\n",
    "                \"weights\": \"outdoor\",\n",
    "                \"sinkhorn_iterations\": 20,\n",
    "                \"match_threshold\": 0.2,\n",
    "            },\n",
    "        },\n",
    "        \"resize_to\": 1088,\n",
    "        \"min_matches\": 15,\n",
    "    }\n",
    "    params_sg2 = {\n",
    "        \"sg_config\" : \n",
    "        {\n",
    "            \"superpoint\": {\n",
    "                \"nms_radius\": 4, \n",
    "                \"keypoint_threshold\": 0.005,\n",
    "                \"max_keypoints\": -1,\n",
    "            },\n",
    "            \"superglue\": {\n",
    "                \"weights\": \"outdoor\",\n",
    "                \"sinkhorn_iterations\": 20,\n",
    "                \"match_threshold\": 0.2,\n",
    "            },\n",
    "        },\n",
    "        \"resize_to\": 1280,\n",
    "        \"min_matches\": 15,\n",
    "    }\n",
    "    params_sg3 = {\n",
    "        \"sg_config\" : \n",
    "        {\n",
    "            \"superpoint\": {\n",
    "                \"nms_radius\": 4, \n",
    "                \"keypoint_threshold\": 0.005,\n",
    "                \"max_keypoints\": -1,\n",
    "            },\n",
    "            \"superglue\": {\n",
    "                \"weights\": \"outdoor\",\n",
    "                \"sinkhorn_iterations\": 20,\n",
    "                \"match_threshold\": 0.2,\n",
    "            },\n",
    "        },\n",
    "        \"resize_to\": 1376,\n",
    "        \"min_matches\": 15,\n",
    "    }\n",
    "    params_sgs = [params_sg1, params_sg2, params_sg3]\n",
    "    \n",
    "    params_matchformer = {\n",
    "        \"detection_threshold\" : 0.15,\n",
    "        \"resize_to\" : (560, 750),\n",
    "        \"num_features\" : 2000,\n",
    "        \"min_matches\" : 15, \n",
    "    }"
   ]
  },
  {
   "cell_type": "code",
   "execution_count": 11,
   "id": "eb31c6b9",
   "metadata": {
    "execution": {
     "iopub.execute_input": "2025-05-30T00:20:56.345674Z",
     "iopub.status.busy": "2025-05-30T00:20:56.345448Z",
     "iopub.status.idle": "2025-05-30T00:20:56.399791Z",
     "shell.execute_reply": "2025-05-30T00:20:56.398948Z"
    },
    "papermill": {
     "duration": 0.063306,
     "end_time": "2025-05-30T00:20:56.401095",
     "exception": false,
     "start_time": "2025-05-30T00:20:56.337789",
     "status": "completed"
    },
    "tags": []
   },
   "outputs": [],
   "source": [
    "# Assume these are available from your environment or previous code\n",
    "# from .utils import load_torch_image # Assuming load_torch_image is defined elsewhere\n",
    "# from kornia.feature import ALIKED # Already in your detect_aliked\n",
    "# from kornia.feature import LightGlueMatcher as KF_LightGlueMatcher # Already in your match_with_lightglue\n",
    "# from kornia.geometry import laf_from_center_scale_ori # Already in your match_with_lightglue\n",
    "# from colmap_database import COLMAPDatabase, add_keypoints, add_matches # Already in your colmap_import\n",
    "\n",
    "# --- Helper function for image loading (if not already defined) ---\n",
    "def load_torch_image(fname, device=torch.device('cpu')):\n",
    "    img = K.io.load_image(fname, K.io.ImageLoadType.RGB32, device=device)[None, ...]\n",
    "    return img\n",
    "def get_dino_patch_features_for_keypoints(img_path, keypoints_xy, dino_processor, dino_model, patch_size=16, device=torch.device('cpu')):\n",
    "    \"\"\"\n",
    "    Extracts DINO patch features corresponding to given ALIKED keypoint locations.\n",
    "    It correctly infers the DINO patch grid dimensions from the processed input.\n",
    "\n",
    "    Args:\n",
    "        img_path (str): Path to the image file.\n",
    "        keypoints_xy (torch.Tensor): Nx2 tensor of (x, y) keypoint coordinates in image pixel space.\n",
    "                                     These keypoints are assumed to be in the original image's coordinate system.\n",
    "        dino_processor: HuggingFace AutoImageProcessor for DINO.\n",
    "        dino_model: HuggingFace AutoModel for DINO.\n",
    "        patch_size (int): The patch size used by the DINO model (e.g., 14 or 16).\n",
    "        device (torch.device): Device to run the models on.\n",
    "\n",
    "    Returns:\n",
    "        torch.Tensor: NxD_dino tensor of DINO patch features for each keypoint.\n",
    "                      Returns None if no keypoints or image loading fails.\n",
    "    \"\"\"\n",
    "    if len(keypoints_xy) == 0:\n",
    "        dino_feature_dim = dino_model.config.hidden_size # Get actual DINO hidden size\n",
    "        return torch.empty((0, dino_feature_dim), device=device)\n",
    "\n",
    "    # 1. Load the original image (ALIKED processed this size)\n",
    "    original_img = load_torch_image(img_path, device=device)\n",
    "    original_h, original_w = original_img.shape[-2], original_img.shape[-1]\n",
    "\n",
    "\n",
    "    # 2. Process the image with DINO's processor\n",
    "    #    This step performs resizing, padding, etc., as needed by the DINO model\n",
    "    with torch.inference_mode():\n",
    "        # dino_processor returns a BatchFeature object which includes pixel_values\n",
    "        # and potentially other information like `pixel_mask`\n",
    "        inputs = dino_processor(images=original_img, return_tensors=\"pt\", do_rescale=False).to(device)\n",
    "        outputs = dino_model(**inputs)\n",
    "\n",
    "        # Get the actual dimensions of the image as processed by the DINO model\n",
    "        # This is the crucial part: the actual H and W that produced `patch_tokens`\n",
    "        # We can infer this from the `pixel_values` shape\n",
    "        processed_h = inputs['pixel_values'].shape[-2]\n",
    "        processed_w = inputs['pixel_values'].shape[-1]\n",
    "\n",
    "        # Extract patch tokens (excluding the CLS token)\n",
    "        patch_tokens = outputs.last_hidden_state[:, 1:].squeeze(0) # Shape: (num_patches, hidden_size)\n",
    "\n",
    "        # Calculate the actual grid dimensions based on the *processed* image size\n",
    "        # and the model's patch size.\n",
    "        # This should perfectly match the number of patch_tokens if the model is well-behaved.\n",
    "        num_patches_h = processed_h // patch_size\n",
    "        num_patches_w = processed_w // patch_size\n",
    "\n",
    "        # Safety check: ensure calculated grid matches actual token count\n",
    "        expected_token_count = num_patches_h * num_patches_w\n",
    "        if patch_tokens.shape[0] != expected_token_count:\n",
    "            # This indicates a deeper issue with how the model's output tokens\n",
    "            # map to the spatial grid, or an unexpected patch size/model behavior.\n",
    "            # Some models might have slightly different patch token arrangements.\n",
    "            # DINOv2 typically aligns well.\n",
    "            raise ValueError(\n",
    "                f\"DINO patch token count ({patch_tokens.shape[0]}) does not match \"\n",
    "                f\"expected grid dimensions ({num_patches_h}x{num_patches_w} = {expected_token_count}) \"\n",
    "                f\"for processed image size {processed_w}x{processed_h} with patch size {patch_size}. \"\n",
    "                f\"Please verify DINO model and processor configuration.\"\n",
    "            )\n",
    "\n",
    "        # Reshape patch tokens into a 2D grid\n",
    "        patch_features_grid = patch_tokens.reshape(num_patches_h, num_patches_w, -1)\n",
    "        dino_feature_dim = patch_features_grid.shape[-1] # Actual feature dimension\n",
    "\n",
    "\n",
    "    dino_features_for_kpts = torch.zeros((len(keypoints_xy), dino_feature_dim), device=device)\n",
    "\n",
    "    # 3. Rescale ALIKED keypoints to the DINO *processed* image dimensions\n",
    "    #    ALIKED keypoints are in original_w x original_h coordinates.\n",
    "    #    DINO patches correspond to processed_w x processed_h coordinates.\n",
    "    scale_x = processed_w / original_w\n",
    "    scale_y = processed_h / original_h\n",
    "\n",
    "    scaled_keypoints_xy = keypoints_xy.clone()\n",
    "    scaled_keypoints_xy[:, 0] *= scale_x\n",
    "    scaled_keypoints_xy[:, 1] *= scale_y\n",
    "\n",
    "    # 4. Map scaled keypoints to DINO patch grid indices\n",
    "    keypoint_cols = (scaled_keypoints_xy[:, 0] / patch_size).long()\n",
    "    keypoint_rows = (scaled_keypoints_xy[:, 1] / patch_size).long()\n",
    "\n",
    "    # Clip indices to ensure they are within bounds of the patch grid\n",
    "    keypoint_rows = torch.clamp(keypoint_rows, 0, num_patches_h - 1)\n",
    "    keypoint_cols = torch.clamp(keypoint_cols, 0, num_patches_w - 1)\n",
    "\n",
    "    # Gather DINO features for each keypoint's corresponding patch\n",
    "    dino_features_for_kpts = patch_features_grid[keypoint_rows, keypoint_cols]\n",
    "\n",
    "    return dino_features_for_kpts\n",
    "\n",
    "\n",
    "def convert_coord(r, w, h, rotk):\n",
    "    if rotk == 0:\n",
    "        return r\n",
    "    elif rotk == 1:\n",
    "        rx = w-1-r[:, 1]\n",
    "        ry = r[:, 0]\n",
    "        return torch.concat([rx[None], ry[None]], dim=0).T\n",
    "    elif rotk == 2:\n",
    "        rx = w-1-r[:, 0]\n",
    "        ry = h-1-r[:, 1]\n",
    "        return torch.concat([rx[None], ry[None]], dim=0).T\n",
    "    elif rotk == 3:\n",
    "        rx = r[:, 1]\n",
    "        ry = h-1-r[:, 0]\n",
    "        return torch.concat([rx[None], ry[None]], dim=0).T\n",
    "\n",
    "def detect_common(img_fnames,\n",
    "                  model_name,\n",
    "                  rots,\n",
    "                  file_keypoints,\n",
    "                  feature_dir = '.featureout',\n",
    "                  num_features = 4096,\n",
    "                  resize_to = 1024,\n",
    "                  detection_threshold = 0.01,\n",
    "                  device=torch.device('cpu'),\n",
    "                  min_matches=15,\n",
    "                  match_confidence_threshold = 0.0,\n",
    "                  verbose=VERBOSE\n",
    "                 ):\n",
    "    if not os.path.isdir(feature_dir):\n",
    "        os.makedirs(feature_dir)\n",
    "\n",
    "    #####################################################\n",
    "    # Extract keypoints and descriptions\n",
    "    #####################################################\n",
    "    dict_model = {\n",
    "        \"aliked\" : ALIKED,\n",
    "        \"superpoint\" : SuperPoint,\n",
    "        \"doghardnet\" : DoGHardNet,\n",
    "        \"disk\" : DISK,\n",
    "        \"sift\" : SIFT,\n",
    "    }\n",
    "    extractor_class = dict_model[model_name]\n",
    "    dtype = torch.float32 # ALIKED has issues with float16\n",
    "    # extractor = extractor_class(max_num_keypoints=num_features, detection_threshold=detection_threshold, \n",
    "    #                             resize=resize_to).eval().to(device, dtype)\n",
    "    # if model_name == 'disk':\n",
    "    #     extractor = DISK(\n",
    "    #         max_num_keypoints=num_features,\n",
    "    #         detection_threshold=detection_threshold,\n",
    "    #         resize=resize_to\n",
    "    #     ).to(device).eval()\n",
    "    #     checkpoint = torch.load(ckpt_path, map_location=device)\n",
    "    #     extractor.load_state_dict(checkpoint['model'])\n",
    "    # else:\n",
    "    #     extractor_class = dict_model[model_name]\n",
    "    #     extractor = extractor_class(\n",
    "    #         max_num_keypoints=num_features,\n",
    "    #         detection_threshold=detection_threshold,\n",
    "    #         resize=resize_to\n",
    "    #     ).to(device, dtype).eval()\n",
    "\n",
    "    extractor_class = dict_model[model_name]\n",
    "    extractor = extractor_class(\n",
    "        max_num_keypoints=num_features,\n",
    "        detection_threshold=detection_threshold,\n",
    "        resize=resize_to\n",
    "    ).to(device, dtype).eval()\n",
    "    dict_kpts_cuda = {}\n",
    "    dict_descs_cuda = {}\n",
    "    for (img_path, rot_k) in zip(img_fnames, rots):\n",
    "        img_fname = img_path.split('/')[-1]\n",
    "        key = img_fname\n",
    "        with torch.inference_mode():\n",
    "            image0 = load_torch_image(img_path, device=device).to(dtype)\n",
    "            h, w = image0.shape[2], image0.shape[3]\n",
    "            image1 = torch.rot90(image0, rot_k, [2, 3])\n",
    "            feats0 = extractor.extract(image1)  # auto-resize the image, disable with resize=None\n",
    "            kpts = feats0['keypoints'].reshape(-1, 2).detach()\n",
    "            descs = feats0['descriptors'].reshape(len(kpts), -1).detach()\n",
    "            kpts = convert_coord(kpts, w, h, rot_k)\n",
    "            dict_kpts_cuda[f\"{key}\"] = kpts\n",
    "            dict_descs_cuda[f\"{key}\"] = descs\n",
    "            if verbose:\n",
    "                print(f\"{model_name} > rot_k={rot_k}, kpts.shape={kpts.shape}, descs.shape={descs.shape}\")\n",
    "    del extractor\n",
    "    gc.collect()\n",
    "\n",
    "    #####################################################\n",
    "    # Matching keypoints\n",
    "    #####################################################\n",
    "    lg_matcher = KF.LightGlueMatcher(model_name, {\"width_confidence\": -1,\n",
    "                                            \"depth_confidence\": -1,\n",
    "                                            \"filter_threshold\":match_confidence_threshold,\n",
    "                                             \"mp\": True if 'cuda' in str(device) else False}).eval().to(device)\n",
    "    \n",
    "    cnt_pairs = 0\n",
    "    with h5py.File(file_keypoints, mode='w') as f_match:\n",
    "        for pair_idx in tqdm(index_pairs):\n",
    "            idx1, idx2 = pair_idx\n",
    "            fname1, fname2 = img_fnames[idx1], img_fnames[idx2]\n",
    "            \n",
    "            key1, key2 = fname1.split('/')[-1], fname2.split('/')[-1]\n",
    "            \n",
    "            kp1 = dict_kpts_cuda[key1]\n",
    "            kp2 = dict_kpts_cuda[key2]\n",
    "            desc1 = dict_descs_cuda[key1]\n",
    "            desc2 = dict_descs_cuda[key2]\n",
    "            with torch.inference_mode():\n",
    "                try:\n",
    "                    dists, idxs = lg_matcher(desc1,\n",
    "                                              desc2,\n",
    "                                              KF.laf_from_center_scale_ori(kp1[None]),\n",
    "                                              KF.laf_from_center_scale_ori(kp2[None]))\n",
    "                except Exception as e:\n",
    "                    print(\"!!!!!!!!!!!!!!!!!!!!!!!!!!!!!!!!!!!!!!!!!!!!!\")\n",
    "                    print(f\"LightGlueMatcher failed on {key1}-{key2}\")\n",
    "                    print(f\"desc1.shape={desc1.shape}, desc2.shape={desc2.shape}\")\n",
    "                    print(f\"kp1.shape={kp1.shape}, kp2.shape={kp2.shape}\")\n",
    "                    continue\n",
    "            if len(idxs)  == 0:\n",
    "                continue\n",
    "            len1 = len(idxs)\n",
    "            n_matches = len1\n",
    "            kp1 = kp1[idxs[:,0], :].cpu().numpy().reshape(-1, 2).astype(np.float32)\n",
    "            kp2 = kp2[idxs[:,1], :].cpu().numpy().reshape(-1, 2).astype(np.float32)\n",
    "            group  = f_match.require_group(key1)\n",
    "            if n_matches >= min_matches:\n",
    "                group.create_dataset(key2, data=np.concatenate([kp1, kp2], axis=1))\n",
    "                cnt_pairs+=1\n",
    "                if verbose:\n",
    "                    print (f'{model_name}> {key1}-{key2}: {n_matches} matches @ {cnt_pairs}th pair({model_name}+lightglue)')            \n",
    "            else:\n",
    "                pass\n",
    "                # if verbose:\n",
    "                #     print (f'{model_name}> {key1}-{key2}: {n_matches} matches --> skipped')\n",
    "    del lg_matcher\n",
    "    torch.cuda.empty_cache()\n",
    "    gc.collect()\n",
    "    return\n",
    "\n",
    "def detect_lightglue_common(\n",
    "    img_fnames, model_name, index_pairs, feature_dir, device, file_keypoints, rots,\n",
    "    resize_to=1024,\n",
    "    detection_threshold=0.01, \n",
    "    num_features=4096, \n",
    "    min_matches=15,\n",
    "    match_confidence_threshold = 0.0\n",
    "):\n",
    "    t=time()\n",
    "    detect_common(\n",
    "        img_fnames, model_name, rots, file_keypoints, feature_dir, \n",
    "        resize_to=resize_to,\n",
    "        num_features=num_features, \n",
    "        detection_threshold=detection_threshold, \n",
    "        device=device,\n",
    "        min_matches=min_matches,\n",
    "        match_confidence_threshold = match_confidence_threshold\n",
    "    )\n",
    "    gc.collect()\n",
    "    t=time() -t \n",
    "    print(f'Features matched in  {t:.4f} sec ({model_name}+LightGlue)')\n",
    "    return t\n",
    "\n",
    "def get_unique_idxs(A, dim=0):\n",
    "    # https://stackoverflow.com/questions/72001505/how-to-get-unique-elements-and-their-firstly-appeared-indices-of-a-pytorch-tenso\n",
    "    unique, idx, counts = torch.unique(A, dim=dim, sorted=True, return_inverse=True, return_counts=True)\n",
    "    _, ind_sorted = torch.sort(idx, stable=True)\n",
    "    cum_sum = counts.cumsum(0)\n",
    "    cum_sum = torch.cat((torch.tensor([0],device=cum_sum.device), cum_sum[:-1]))\n",
    "    first_indices = ind_sorted[cum_sum]\n",
    "    return first_indices\n",
    "\n",
    "def get_keypoint_from_h5(fp, key1, key2):\n",
    "    rc = -1\n",
    "    try:\n",
    "        kpts = np.array(fp[key1][key2])\n",
    "        rc = 0\n",
    "        return (rc, kpts)\n",
    "    except:\n",
    "        return (rc, None)\n",
    "\n",
    "def get_keypoint_from_multi_h5(fps, key1, key2):\n",
    "    list_mkpts = []\n",
    "    for fp in fps:\n",
    "        rc, mkpts = get_keypoint_from_h5(fp, key1, key2)\n",
    "        if rc == 0:\n",
    "            list_mkpts.append(mkpts)\n",
    "    if len(list_mkpts) > 0:\n",
    "        list_mkpts = np.concatenate(list_mkpts, axis=0)\n",
    "    else:\n",
    "        list_mkpts = None\n",
    "    return list_mkpts\n",
    "\n",
    "def matches_merger(\n",
    "    img_fnames,\n",
    "    index_pairs,\n",
    "    files_keypoints,\n",
    "    save_file,\n",
    "    feature_dir = 'featureout',\n",
    "    filter_FundamentalMatrix = False,\n",
    "    filter_iterations = 10,\n",
    "    filter_threshold = 8,\n",
    "    verbose = VERBOSE\n",
    "):\n",
    "    # open h5 files\n",
    "    fps = [ h5py.File(file, mode=\"r\") for file in files_keypoints ]\n",
    "\n",
    "    with h5py.File(save_file, mode='w') as f_match:\n",
    "        counter = 0\n",
    "        for pair_idx in progress_bar(index_pairs):\n",
    "            idx1, idx2 = pair_idx\n",
    "            fname1, fname2 = img_fnames[idx1], img_fnames[idx2]\n",
    "            key1, key2 = fname1.split('/')[-1], fname2.split('/')[-1]\n",
    "\n",
    "            # extract keypoints\n",
    "            mkpts = get_keypoint_from_multi_h5(fps, key1, key2)\n",
    "            if mkpts is None:\n",
    "                # if verbose:\n",
    "                #     print(f\"skipped key1={key1}, key2={key2}\")\n",
    "                continue\n",
    "\n",
    "            ori_size = mkpts.shape[0]\n",
    "            if mkpts.shape[0] < CONFIG.MERGE_PARAMS[\"min_matches\"]:\n",
    "                continue\n",
    "            \n",
    "            if filter_FundamentalMatrix:\n",
    "                store_inliers = { idx:0 for idx in range(mkpts.shape[0]) }\n",
    "                idxs = np.array(range(mkpts.shape[0]))\n",
    "                for iter in range(filter_iterations):\n",
    "                    try:\n",
    "                        Fm, inliers = cv2.findFundamentalMat(\n",
    "                            mkpts[:,:2], mkpts[:,2:4], cv2.USAC_MAGSAC, 3, 0.9999, 20000)\n",
    "                        if Fm is not None:\n",
    "                            inliers = inliers > 0\n",
    "                            inlier_idxs = idxs[inliers[:, 0]]\n",
    "                            #print(inliers.shape, inlier_idxs[:5])\n",
    "                            for idx in inlier_idxs:\n",
    "                                store_inliers[idx] += 1\n",
    "                    except:\n",
    "                        print(f\"Failed to cv2.findFundamentalMat. mkpts.shape={mkpts.shape}\")\n",
    "                inliers = np.array([ count for (idx, count) in store_inliers.items() ]) >= filter_threshold\n",
    "                mkpts = mkpts[inliers]\n",
    "                if mkpts.shape[0] < 15:\n",
    "                    if verbose:\n",
    "                        print(f\"skipped key1={key1}, key2={key2}: mkpts.shape={mkpts.shape} after filtered.\")\n",
    "                    continue\n",
    "                if verbose:\n",
    "                    print(f\"filter_FundamentalMatrix: {len(store_inliers)} matches --> {mkpts.shape[0]} matches\")\n",
    "            \n",
    "            if verbose:\n",
    "                print (f'{key1}-{key2}: {ori_size} --> {mkpts.shape[0]} matches')            \n",
    "            # regist tmp file\n",
    "            group  = f_match.require_group(key1)\n",
    "            group.create_dataset(key2, data=mkpts)\n",
    "            counter += 1\n",
    "    print( f\"Ensembled pairs : {counter} pairs\" )\n",
    "    for fp in fps:\n",
    "        fp.close()\n",
    "\n",
    "def keypoints_merger(\n",
    "    img_fnames,\n",
    "    index_pairs,\n",
    "    files_keypoints,\n",
    "    feature_dir = 'featureout',\n",
    "    filter_FundamentalMatrix = False,\n",
    "    filter_iterations = 10,\n",
    "    filter_threshold = 8,\n",
    "):\n",
    "    save_file = f'{feature_dir}/merge_tmp.h5'\n",
    "    !rm -rf {save_file}\n",
    "    matches_merger(\n",
    "        img_fnames,\n",
    "        index_pairs,\n",
    "        files_keypoints,\n",
    "        save_file,\n",
    "        feature_dir = feature_dir,\n",
    "        filter_FundamentalMatrix = filter_FundamentalMatrix,\n",
    "        filter_iterations = filter_iterations,\n",
    "        filter_threshold = filter_threshold,\n",
    "    )\n",
    "        \n",
    "    # Let's find unique loftr pixels and group them together.\n",
    "    kpts = defaultdict(list)\n",
    "    match_indexes = defaultdict(dict)\n",
    "    total_kpts=defaultdict(int)\n",
    "    with h5py.File(save_file, mode='r') as f_match:\n",
    "        for k1 in f_match.keys():\n",
    "            group  = f_match[k1]\n",
    "            for k2 in group.keys():\n",
    "                matches = group[k2][...]\n",
    "                total_kpts[k1]\n",
    "                kpts[k1].append(matches[:, :2])\n",
    "                kpts[k2].append(matches[:, 2:])\n",
    "                current_match = torch.arange(len(matches)).reshape(-1, 1).repeat(1, 2)\n",
    "                current_match[:, 0]+=total_kpts[k1]\n",
    "                current_match[:, 1]+=total_kpts[k2]\n",
    "                total_kpts[k1]+=len(matches)\n",
    "                total_kpts[k2]+=len(matches)\n",
    "                match_indexes[k1][k2]=current_match\n",
    "\n",
    "    for k in kpts.keys():\n",
    "        kpts[k] = np.round(np.concatenate(kpts[k], axis=0))\n",
    "    unique_kpts = {}\n",
    "    unique_match_idxs = {}\n",
    "    out_match = defaultdict(dict)\n",
    "    for k in kpts.keys():\n",
    "        uniq_kps, uniq_reverse_idxs = torch.unique(torch.from_numpy(kpts[k]),dim=0, return_inverse=True)\n",
    "        unique_match_idxs[k] = uniq_reverse_idxs\n",
    "        unique_kpts[k] = uniq_kps.numpy()\n",
    "    for k1, group in match_indexes.items():\n",
    "        for k2, m in group.items():\n",
    "            m2 = deepcopy(m)\n",
    "            m2[:,0] = unique_match_idxs[k1][m2[:,0]]\n",
    "            m2[:,1] = unique_match_idxs[k2][m2[:,1]]\n",
    "            mkpts = np.concatenate([unique_kpts[k1][ m2[:,0]],\n",
    "                                    unique_kpts[k2][  m2[:,1]],\n",
    "                                   ],\n",
    "                                   axis=1)\n",
    "            unique_idxs_current = get_unique_idxs(torch.from_numpy(mkpts), dim=0)\n",
    "            m2_semiclean = m2[unique_idxs_current]\n",
    "            unique_idxs_current1 = get_unique_idxs(m2_semiclean[:, 0], dim=0)\n",
    "            m2_semiclean = m2_semiclean[unique_idxs_current1]\n",
    "            unique_idxs_current2 = get_unique_idxs(m2_semiclean[:, 1], dim=0)\n",
    "            m2_semiclean2 = m2_semiclean[unique_idxs_current2]\n",
    "            out_match[k1][k2] = m2_semiclean2.numpy()\n",
    "    with h5py.File(f'{feature_dir}/keypoints.h5', mode='w') as f_kp:\n",
    "        for k, kpts1 in unique_kpts.items():\n",
    "            f_kp[k] = kpts1\n",
    "    \n",
    "    with h5py.File(f'{feature_dir}/matches.h5', mode='w') as f_match:\n",
    "        for k1, gr in out_match.items():\n",
    "            group  = f_match.require_group(k1)\n",
    "            for k2, match in gr.items():\n",
    "                group[k2] = match\n",
    "                # print(f\"KKKKKKK KKKKKK {k1} - {k2}: {len(match)} matches\")\n",
    "    return"
   ]
  },
  {
   "cell_type": "code",
   "execution_count": 12,
   "id": "6e3bdb5c",
   "metadata": {
    "execution": {
     "iopub.execute_input": "2025-05-30T00:20:56.415839Z",
     "iopub.status.busy": "2025-05-30T00:20:56.415564Z",
     "iopub.status.idle": "2025-05-30T00:20:56.418763Z",
     "shell.execute_reply": "2025-05-30T00:20:56.417875Z"
    },
    "papermill": {
     "duration": 0.011792,
     "end_time": "2025-05-30T00:20:56.420090",
     "exception": false,
     "start_time": "2025-05-30T00:20:56.408298",
     "status": "completed"
    },
    "tags": []
   },
   "outputs": [],
   "source": [
    "# !rm -rf /kaggle/working/result"
   ]
  },
  {
   "cell_type": "code",
   "execution_count": 13,
   "id": "d93e0c6d",
   "metadata": {
    "execution": {
     "iopub.execute_input": "2025-05-30T00:20:56.434515Z",
     "iopub.status.busy": "2025-05-30T00:20:56.434241Z",
     "iopub.status.idle": "2025-05-30T00:20:56.441525Z",
     "shell.execute_reply": "2025-05-30T00:20:56.440723Z"
    },
    "papermill": {
     "duration": 0.015649,
     "end_time": "2025-05-30T00:20:56.442724",
     "exception": false,
     "start_time": "2025-05-30T00:20:56.427075",
     "status": "completed"
    },
    "tags": []
   },
   "outputs": [],
   "source": [
    "# --- MODIFIED: Detect ALIKED and Combine with DINO Patch Features ---\n",
    "def detect_aliked_and_combine_with_dino(img_fnames,\n",
    "                                        feature_dir='.featureout',\n",
    "                                        num_features=4096,\n",
    "                                        resize_to=1024,\n",
    "                                        dino_processor=None,\n",
    "                                        dino_model=None,\n",
    "                                        dino_patch_size=16, # Typically 14 or 16 for DINO\n",
    "                                        device=torch.device('cpu')):\n",
    "    dtype = torch.float32 # ALIKED has issues with float16\n",
    "    aliked_extractor = ALIKED(max_num_keypoints=num_features, detection_threshold=0.1).eval().to(device, dtype)\n",
    "    aliked_extractor.preprocess_conf[\"resize\"] = resize_to\n",
    "    if not os.path.isdir(feature_dir):\n",
    "        os.makedirs(feature_dir)\n",
    "\n",
    "    with h5py.File(f'{feature_dir}/keypoints.h5', mode='w') as f_kp, \\\n",
    "         h5py.File(f'{feature_dir}/descriptors_aliked.h5', mode='w') as f_desc_aliked, \\\n",
    "         h5py.File(f'{feature_dir}/descriptors_combined.h5', mode='w') as f_desc_combined: # New HDF5 for combined features\n",
    "        for img_path in tqdm(img_fnames):\n",
    "            img_fname = img_path.split('/')[-1]\n",
    "            key = img_fname\n",
    "\n",
    "            with torch.inference_mode():\n",
    "                image0 = load_torch_image(img_path, device=device).to(dtype)\n",
    "                feats0 = aliked_extractor.extract(image0)\n",
    "                kpts = feats0['keypoints'].reshape(-1, 2).detach().cpu().numpy() # ALIKED keypoints (x,y)\n",
    "                descs_aliked = feats0['descriptors'].reshape(len(kpts), -1).detach().cpu().numpy() # ALIKED descriptors\n",
    "\n",
    "                # Get DINO patch features for these keypoints\n",
    "                kpts_torch = torch.from_numpy(kpts).to(device)\n",
    "                descs_dino_patch = get_dino_patch_features_for_keypoints(\n",
    "                    img_path, kpts_torch, dino_processor, dino_model, dino_patch_size, device\n",
    "                ).detach().cpu().numpy()\n",
    "\n",
    "                # Concatenate ALIKED and DINO features\n",
    "                if len(descs_aliked) > 0 and len(descs_dino_patch) > 0:\n",
    "                    combined_descs = np.concatenate((descs_aliked, descs_dino_patch), axis=1)\n",
    "                elif len(descs_aliked) > 0: # Only ALIKED if no DINO features (shouldn't happen often)\n",
    "                    combined_descs = descs_aliked\n",
    "                else: # No features found\n",
    "                    combined_descs = np.array([]) # Empty array\n",
    "\n",
    "                f_kp[key] = kpts\n",
    "                f_desc_aliked[key] = descs_aliked # Keep ALIKED descriptors for debugging or other uses\n",
    "                f_desc_combined[key] = combined_descs # Store the new combined descriptors\n",
    "    print(f\"Combined features saved to {feature_dir}/descriptors_combined.h5\")\n",
    "    return"
   ]
  },
  {
   "cell_type": "code",
   "execution_count": 14,
   "id": "808c3d3c",
   "metadata": {
    "execution": {
     "iopub.execute_input": "2025-05-30T00:20:56.457018Z",
     "iopub.status.busy": "2025-05-30T00:20:56.456775Z",
     "iopub.status.idle": "2025-05-30T00:20:56.767876Z",
     "shell.execute_reply": "2025-05-30T00:20:56.767199Z"
    },
    "papermill": {
     "duration": 0.319864,
     "end_time": "2025-05-30T00:20:56.769379",
     "exception": false,
     "start_time": "2025-05-30T00:20:56.449515",
     "status": "completed"
    },
    "tags": []
   },
   "outputs": [],
   "source": [
    "from sklearn.cluster import MiniBatchKMeans # MiniBatchKMeans is faster for large datasets\n",
    "\n",
    "# --- VLAD Aggregation Function ---\n",
    "def vlad_encode(descriptors, centroids):\n",
    "    \"\"\"\n",
    "    Performs VLAD encoding.\n",
    "\n",
    "    Args:\n",
    "        descriptors (np.ndarray): NxM array of local descriptors.\n",
    "        centroids (np.ndarray): KxM array of K-Means cluster centroids.\n",
    "\n",
    "    Returns:\n",
    "        np.ndarray: 1x(K*M) VLAD descriptor.\n",
    "    \"\"\"\n",
    "    if descriptors.shape[0] == 0:\n",
    "        return np.zeros(centroids.shape[0] * centroids.shape[1], dtype=np.float32)\n",
    "\n",
    "    num_descriptors, desc_dim = descriptors.shape\n",
    "    num_centroids, _ = centroids.shape\n",
    "\n",
    "    # Assign each descriptor to its nearest centroid\n",
    "    # Using cdist for efficiency\n",
    "    distances = np.sqrt(np.sum((descriptors[:, None, :] - centroids[None, :, :])**2, axis=2))\n",
    "    # distances = cdist(descriptors, centroids, 'sqeuclidean') # Could use cdist for sqeuclidean\n",
    "    cluster_assignments = np.argmin(distances, axis=1)\n",
    "\n",
    "    # Initialize VLAD accumulator\n",
    "    vlad_accumulator = np.zeros((num_centroids, desc_dim), dtype=np.float32)\n",
    "\n",
    "    # Accumulate residuals\n",
    "    for i in range(num_descriptors):\n",
    "        cluster_idx = cluster_assignments[i]\n",
    "        residual = descriptors[i] - centroids[cluster_idx]\n",
    "        vlad_accumulator[cluster_idx] += residual\n",
    "\n",
    "    # Flatten and L2 normalize\n",
    "    vlad_descriptor = vlad_accumulator.flatten()\n",
    "    vlad_descriptor = F.normalize(torch.from_numpy(vlad_descriptor).unsqueeze(0), dim=1, p=2).squeeze(0).numpy()\n",
    "\n",
    "    return vlad_descriptor"
   ]
  },
  {
   "cell_type": "code",
   "execution_count": 15,
   "id": "185d479f",
   "metadata": {
    "execution": {
     "iopub.execute_input": "2025-05-30T00:20:56.784372Z",
     "iopub.status.busy": "2025-05-30T00:20:56.784091Z",
     "iopub.status.idle": "2025-05-30T00:20:56.791709Z",
     "shell.execute_reply": "2025-05-30T00:20:56.791111Z"
    },
    "papermill": {
     "duration": 0.016279,
     "end_time": "2025-05-30T00:20:56.792915",
     "exception": false,
     "start_time": "2025-05-30T00:20:56.776636",
     "status": "completed"
    },
    "tags": []
   },
   "outputs": [],
   "source": [
    "# --- NEW: Get Global Descriptors using K-Means + VLAD ---\n",
    "def get_global_desc_vlad(fnames, feature_dir='.featureout', num_clusters=64, device=torch.device('cpu')):\n",
    "    \"\"\"\n",
    "    Generates global descriptors for images using K-Means + VLAD on combined ALIKED+DINO features.\n",
    "\n",
    "    Args:\n",
    "        fnames (list): List of image file paths.\n",
    "        feature_dir (str): Directory where combined descriptors are stored.\n",
    "        num_clusters (int): Number of clusters for K-Means (K in VLAD).\n",
    "        device (torch.device): Not directly used for VLAD computation, but passed for consistency.\n",
    "\n",
    "    Returns:\n",
    "        torch.Tensor: Nx(K*M) tensor of global VLAD descriptors.\n",
    "    \"\"\"\n",
    "    all_local_descs = []\n",
    "    keys_order = [] # To maintain order of descriptors with respect to fnames\n",
    "\n",
    "    # 1. Load all combined local descriptors\n",
    "    with h5py.File(f'{feature_dir}/descriptors_combined.h5', mode='r') as f_desc_combined:\n",
    "        for img_path in tqdm(fnames, desc=\"Loading combined local descriptors for K-Means\"):\n",
    "            key = img_path.split('/')[-1]\n",
    "            if key in f_desc_combined:\n",
    "                descs = f_desc_combined[key][...]\n",
    "                if descs.shape[0] > 0:\n",
    "                    all_local_descs.append(descs)\n",
    "                    keys_order.append(key)\n",
    "\n",
    "    if not all_local_descs:\n",
    "        print(\"No combined local descriptors found. Cannot train K-Means or compute VLAD.\")\n",
    "        return torch.empty((0, num_clusters * 0), dtype=torch.float32) # Return empty tensor\n",
    "\n",
    "    # Concatenate all descriptors for K-Means training\n",
    "    all_local_descs_flat = np.concatenate(all_local_descs, axis=0)\n",
    "\n",
    "    # 2. Train K-Means on a subset of descriptors if the dataset is too large\n",
    "    # Or directly on all_local_descs_flat if memory permits\n",
    "    print(f\"Training K-Means with {num_clusters} clusters on {all_local_descs_flat.shape[0]} descriptors...\")\n",
    "    # Use MiniBatchKMeans for efficiency\n",
    "    kmeans = MiniBatchKMeans(n_clusters=num_clusters, random_state=0, n_init='auto', batch_size=256).fit(all_local_descs_flat)\n",
    "    centroids = kmeans.cluster_centers_\n",
    "    print(\"K-Means training complete.\")\n",
    "\n",
    "    # 3. Compute VLAD descriptor for each image\n",
    "    global_descs_vlad = []\n",
    "    # Re-iterate through original fnames to match the output order\n",
    "    with h5py.File(f'{feature_dir}/descriptors_combined.h5', mode='r') as f_desc_combined:\n",
    "        for img_path in tqdm(fnames, desc=\"Computing VLAD descriptors\"):\n",
    "            key = img_path.split('/')[-1]\n",
    "            if key in f_desc_combined:\n",
    "                descs = f_desc_combined[key][...]\n",
    "                vlad_desc = vlad_encode(descs, centroids)\n",
    "                global_descs_vlad.append(torch.from_numpy(vlad_desc).unsqueeze(0))\n",
    "            else:\n",
    "                # Handle cases where an image might not have any combined descriptors\n",
    "                # (e.g., no ALIKED keypoints detected). Append a zero vector of correct size.\n",
    "                print(f\"Warning: No combined descriptors for {key}. Appending zero VLAD descriptor.\")\n",
    "                # Determine descriptor dimension from centroids\n",
    "                desc_dim_per_cluster = centroids.shape[1] if centroids.shape[1] > 0 else 0 # Should not be 0 normally\n",
    "                zero_vlad = np.zeros(num_clusters * desc_dim_per_cluster, dtype=np.float32)\n",
    "                global_descs_vlad.append(torch.from_numpy(zero_vlad).unsqueeze(0))\n",
    "\n",
    "\n",
    "    if not global_descs_vlad:\n",
    "        return torch.empty((0, num_clusters * centroids.shape[1] if centroids.shape[1] > 0 else 0), dtype=torch.float32)\n",
    "\n",
    "    global_descs_vlad = torch.cat(global_descs_vlad, dim=0)\n",
    "    return global_descs_vlad"
   ]
  },
  {
   "cell_type": "code",
   "execution_count": 16,
   "id": "3c500ecb",
   "metadata": {
    "execution": {
     "iopub.execute_input": "2025-05-30T00:20:56.807672Z",
     "iopub.status.busy": "2025-05-30T00:20:56.807446Z",
     "iopub.status.idle": "2025-05-30T00:20:56.814741Z",
     "shell.execute_reply": "2025-05-30T00:20:56.814104Z"
    },
    "papermill": {
     "duration": 0.015848,
     "end_time": "2025-05-30T00:20:56.815998",
     "exception": false,
     "start_time": "2025-05-30T00:20:56.800150",
     "status": "completed"
    },
    "tags": []
   },
   "outputs": [],
   "source": [
    "# --- RE-DEFINED: get_image_pairs_shortlist to use the new VLAD global descriptor ---\n",
    "def get_image_pairs_shortlist_vlad(fnames,\n",
    "                                   sim_th=0.6, # should be strict\n",
    "                                   min_pairs=30,\n",
    "                                   exhaustive_if_less=20,\n",
    "                                   feature_dir='.featureout', # Pass feature_dir\n",
    "                                   num_clusters_vlad=64, # New parameter for VLAD\n",
    "                                   device=torch.device('cpu')):\n",
    "    num_imgs = len(fnames)\n",
    "    if num_imgs <= exhaustive_if_less:\n",
    "        return get_img_pairs_exhaustive(fnames) # You need to define get_img_pairs_exhaustive if not done.\n",
    "\n",
    "    # Use the new VLAD-based global descriptor\n",
    "    descs = get_global_desc_vlad(fnames, feature_dir=feature_dir, num_clusters=num_clusters_vlad, device=device)\n",
    "\n",
    "    if descs.shape[0] == 0:\n",
    "        print(\"No global descriptors generated. Returning empty matching list.\")\n",
    "        return []\n",
    "\n",
    "    dm = torch.cdist(descs, descs, p=2).detach().cpu().numpy()\n",
    "\n",
    "    # 只分析上三角（去掉对角线），避免重复\n",
    "    triu_indices = np.triu_indices_from(dm, k=1)\n",
    "    dm_flat = dm[triu_indices]\n",
    "    \n",
    "    # 打印统计信息\n",
    "    print(\"Distance Matrix Statistics:\")\n",
    "    print(f\"Min:  {dm_flat.min():.4f}\")\n",
    "    print(f\"Max:  {dm_flat.max():.4f}\")\n",
    "    print(f\"Mean: {dm_flat.mean():.4f}\")\n",
    "    print(f\"Std:  {dm_flat.std():.4f}\")\n",
    "    print(f\"20%:  {np.percentile(dm_flat, 20):.4f}\")\n",
    "    print(f\"25%:  {np.percentile(dm_flat, 25):.4f}\")\n",
    "    print(f\"USED 60%:  {np.percentile(dm_flat, 60):.4f}\")\n",
    "    print(f\"75%:  {np.percentile(dm_flat, 75):.4f}\")\n",
    "    threshold = np.percentile(dm_flat, 60) + np.sqrt(3) * dm_flat.std()\n",
    "\n",
    "    # removing half\n",
    "    mask = dm <= np.percentile(dm_flat, 60)\n",
    "    total = 0\n",
    "    matching_list = []\n",
    "    ar = np.arange(num_imgs)\n",
    "    already_there_set = set() # Use a set for faster lookup of already added pairs\n",
    "\n",
    "    for st_idx in range(num_imgs - 1):\n",
    "        mask_idx = mask[st_idx]\n",
    "        to_match = ar[mask_idx]\n",
    "        if len(to_match) < min_pairs:\n",
    "            to_match = np.argsort(dm[st_idx])[:min_pairs]\n",
    "\n",
    "        for idx in to_match:\n",
    "            if st_idx == idx:\n",
    "                continue\n",
    "            if dm[st_idx, idx] < threshold: # Ensure distance is not effectively infinite\n",
    "                pair = tuple(sorted((st_idx, idx.item())))\n",
    "                if pair not in already_there_set:\n",
    "                    matching_list.append(pair)\n",
    "                    already_there_set.add(pair)\n",
    "                    total += 1\n",
    "    matching_list = sorted(list(matching_list)) # Sort the list of tuples\n",
    "    return matching_list"
   ]
  },
  {
   "cell_type": "code",
   "execution_count": 17,
   "id": "5c7a50f9",
   "metadata": {
    "execution": {
     "iopub.execute_input": "2025-05-30T00:20:56.830448Z",
     "iopub.status.busy": "2025-05-30T00:20:56.830200Z",
     "iopub.status.idle": "2025-05-30T00:20:56.833550Z",
     "shell.execute_reply": "2025-05-30T00:20:56.832859Z"
    },
    "papermill": {
     "duration": 0.012009,
     "end_time": "2025-05-30T00:20:56.834767",
     "exception": false,
     "start_time": "2025-05-30T00:20:56.822758",
     "status": "completed"
    },
    "tags": []
   },
   "outputs": [],
   "source": [
    "def get_img_pairs_exhaustive(img_fnames):\n",
    "    index_pairs = []\n",
    "    for i in range(len(img_fnames)):\n",
    "        for j in range(i+1, len(img_fnames)):\n",
    "            index_pairs.append((i,j))\n",
    "    return index_pairs"
   ]
  },
  {
   "cell_type": "code",
   "execution_count": 18,
   "id": "af3885ed",
   "metadata": {
    "execution": {
     "iopub.execute_input": "2025-05-30T00:20:56.849062Z",
     "iopub.status.busy": "2025-05-30T00:20:56.848831Z",
     "iopub.status.idle": "2025-05-30T00:20:56.858581Z",
     "shell.execute_reply": "2025-05-30T00:20:56.858004Z"
    },
    "papermill": {
     "duration": 0.018192,
     "end_time": "2025-05-30T00:20:56.859754",
     "exception": false,
     "start_time": "2025-05-30T00:20:56.841562",
     "status": "completed"
    },
    "tags": []
   },
   "outputs": [],
   "source": [
    "# Must Use efficientnet global descriptor to get matching shortlists.\n",
    "def get_global_desc(fnames, device = torch.device('cpu')):\n",
    "    processor = AutoImageProcessor.from_pretrained('/kaggle/input/dinov2/pytorch/base/1')\n",
    "    model = AutoModel.from_pretrained('/kaggle/input/dinov2/pytorch/base/1')\n",
    "    model = model.eval()\n",
    "    model = model.to(device)\n",
    "    global_descs_dinov2 = []\n",
    "    for i, img_fname_full in tqdm(enumerate(fnames),total= len(fnames)):\n",
    "        key = os.path.splitext(os.path.basename(img_fname_full))[0]\n",
    "        timg = load_torch_image(img_fname_full)\n",
    "        with torch.inference_mode():\n",
    "            inputs = processor(images=timg, return_tensors=\"pt\", do_rescale=False).to(device)\n",
    "            outputs = model(**inputs)\n",
    "            dino_mac = F.normalize(outputs.last_hidden_state[:,1:].max(dim=1)[0], dim=1, p=2)\n",
    "        global_descs_dinov2.append(dino_mac.detach().cpu())\n",
    "    global_descs_dinov2 = torch.cat(global_descs_dinov2, dim=0)\n",
    "    return global_descs_dinov2\n",
    "\n",
    "\n",
    "def get_img_pairs_exhaustive(img_fnames):\n",
    "    index_pairs = []\n",
    "    for i in range(len(img_fnames)):\n",
    "        for j in range(i+1, len(img_fnames)):\n",
    "            index_pairs.append((i,j))\n",
    "    return index_pairs\n",
    "\n",
    "\n",
    "def get_image_pairs_shortlist(fnames,\n",
    "                              sim_th=0.6,\n",
    "                              min_pairs=30,\n",
    "                              max_pairs=100,  # 每张图像最多匹配 max_pairs 个\n",
    "                              exhaustive_if_less=20,\n",
    "                              device=torch.device('cpu')):\n",
    "    num_imgs = len(fnames)\n",
    "    if num_imgs <= exhaustive_if_less:\n",
    "        return get_img_pairs_exhaustive(fnames)\n",
    "\n",
    "    descs = get_global_desc(fnames, device=device)\n",
    "    dm = torch.cdist(descs, descs, p=2).detach().cpu().numpy()\n",
    "\n",
    "    # 上三角分析（排除重复）\n",
    "    triu_indices = np.triu_indices_from(dm, k=1)\n",
    "    dm_flat = dm[triu_indices]\n",
    "\n",
    "    print(\"Distance Matrix Statistics:\")\n",
    "    print(f\"Min:  {dm_flat.min():.4f}\")\n",
    "    print(f\"Max:  {dm_flat.max():.4f}\")\n",
    "    print(f\"Mean: {dm_flat.mean():.4f}\")\n",
    "    print(f\"Std:  {dm_flat.std():.4f}\")\n",
    "    print(f\"20%:  {np.percentile(dm_flat, 20):.4f}\")\n",
    "    print(f\"25%:  {np.percentile(dm_flat, 25):.4f}\")\n",
    "    print(f\"60%:  {np.percentile(dm_flat, 60):.4f}\")\n",
    "    print(f\"75%:  {np.percentile(dm_flat, 75):.4f}\")\n",
    "\n",
    "    threshold = np.percentile(dm_flat, 60) + np.sqrt(3) * dm_flat.std()\n",
    "    mask = dm <= np.percentile(dm_flat, 50)\n",
    "\n",
    "    ar = np.arange(num_imgs)\n",
    "    matching_set = set()\n",
    "\n",
    "    for st_idx in range(num_imgs):\n",
    "        mask_idx = mask[st_idx]\n",
    "        to_match = ar[mask_idx]\n",
    "\n",
    "        # 保证每张图像至少有 min_pairs 个\n",
    "        if len(to_match) < min_pairs:\n",
    "            to_match = np.argsort(dm[st_idx])[:min_pairs]\n",
    "\n",
    "        # 按距离排序，选出前 max_pairs\n",
    "        sorted_matches = sorted(\n",
    "            [(idx, dm[st_idx, idx]) for idx in to_match if idx != st_idx and dm[st_idx, idx] < threshold],\n",
    "            key=lambda x: x[1]\n",
    "        )\n",
    "        for idx, _ in sorted_matches[:max_pairs]:\n",
    "            pair = tuple(sorted((st_idx, idx)))\n",
    "            matching_set.add(pair)\n",
    "\n",
    "    matching_list = sorted(list(matching_set))\n",
    "    return matching_list\n"
   ]
  },
  {
   "cell_type": "code",
   "execution_count": 19,
   "id": "6c8717f2",
   "metadata": {
    "execution": {
     "iopub.execute_input": "2025-05-30T00:20:56.873918Z",
     "iopub.status.busy": "2025-05-30T00:20:56.873702Z",
     "iopub.status.idle": "2025-05-30T00:20:56.893500Z",
     "shell.execute_reply": "2025-05-30T00:20:56.892848Z"
    },
    "papermill": {
     "duration": 0.028199,
     "end_time": "2025-05-30T00:20:56.894778",
     "exception": false,
     "start_time": "2025-05-30T00:20:56.866579",
     "status": "completed"
    },
    "tags": []
   },
   "outputs": [],
   "source": [
    "def wrapper_keypoints(\n",
    "    img_fnames, index_pairs, feature_dir, device, timings, rots\n",
    "):\n",
    "    #############################################################\n",
    "    # get keypoints\n",
    "    #############################################################\n",
    "    files_keypoints = []\n",
    "    \n",
    "    if CONFIG.use_superglue:\n",
    "        for params_sg in CONFIG.params_sgs:\n",
    "            resize_to = params_sg[\"resize_to\"]\n",
    "            file_keypoints = f\"{feature_dir}/matches_superglue_{resize_to}pix.h5\"\n",
    "            !rm -rf {file_keypoints}\n",
    "            t = detect_superglue(\n",
    "                img_fnames, index_pairs, feature_dir, device, \n",
    "                params_sg[\"sg_config\"], file_keypoints, \n",
    "                resize_to=params_sg[\"resize_to\"], \n",
    "                min_matches=params_sg[\"min_matches\"],\n",
    "            )\n",
    "            gc.collect()\n",
    "            files_keypoints.append( file_keypoints )\n",
    "            timings['feature_matching'].append(t)\n",
    "\n",
    "    if CONFIG.use_aliked_lightglue:\n",
    "        model_name = \"aliked\"\n",
    "        file_keypoints = f'{feature_dir}/matches_lightglue_{model_name}.h5'\n",
    "        t = detect_lightglue_common(\n",
    "            img_fnames, model_name, index_pairs, feature_dir, device, file_keypoints, rots,\n",
    "            resize_to=CONFIG.params_aliked_lightglue[\"resize_to\"],\n",
    "            detection_threshold=CONFIG.params_aliked_lightglue[\"detection_threshold\"],\n",
    "            num_features=CONFIG.params_aliked_lightglue[\"num_features\"],\n",
    "            min_matches=CONFIG.params_aliked_lightglue[\"min_matches\"],\n",
    "            match_confidence_threshold=CONFIG.params_aliked_lightglue[\"match_confidence_threshold\"]\n",
    "        )\n",
    "        gc.collect()\n",
    "        files_keypoints.append(file_keypoints)\n",
    "        timings['feature_matching'].append(t)\n",
    "\n",
    "    if CONFIG.use_doghardnet_lightglue:\n",
    "        model_name = \"doghardnet\"\n",
    "        file_keypoints = f'{feature_dir}/matches_lightglue_{model_name}.h5'\n",
    "        t = detect_lightglue_common(\n",
    "            img_fnames, model_name, index_pairs, feature_dir, device, file_keypoints, rots,\n",
    "            resize_to=CONFIG.params_doghardnet_lightglue[\"resize_to\"],\n",
    "            detection_threshold=CONFIG.params_doghardnet_lightglue[\"detection_threshold\"],\n",
    "            num_features=CONFIG.params_doghardnet_lightglue[\"num_features\"],\n",
    "            min_matches=CONFIG.params_doghardnet_lightglue[\"min_matches\"],\n",
    "        )\n",
    "        gc.collect()\n",
    "        files_keypoints.append(file_keypoints)\n",
    "        timings['feature_matching'].append(t)\n",
    "\n",
    "    if CONFIG.use_superpoint_lightglue:\n",
    "        model_name = \"superpoint\"\n",
    "        file_keypoints = f'{feature_dir}/matches_lightglue_{model_name}.h5'\n",
    "        t = detect_lightglue_common(\n",
    "            img_fnames, model_name, index_pairs, feature_dir, device, file_keypoints, rots,\n",
    "            resize_to=CONFIG.params_superpoint_lightglue[\"resize_to\"],\n",
    "            detection_threshold=CONFIG.params_superpoint_lightglue[\"detection_threshold\"],\n",
    "            num_features=CONFIG.params_superpoint_lightglue[\"num_features\"],\n",
    "            min_matches=CONFIG.params_superpoint_lightglue[\"min_matches\"],\n",
    "            match_confidence_threshold=CONFIG.params_superpoint_lightglue[\"match_confidence_threshold\"]\n",
    "        )\n",
    "        gc.collect()\n",
    "        files_keypoints.append(file_keypoints)\n",
    "        timings['feature_matching'].append(t)\n",
    "\n",
    "    if CONFIG.use_disk_lightglue:\n",
    "        model_name = \"disk\"\n",
    "        file_keypoints = f'{feature_dir}/matches_lightglue_{model_name}.h5'\n",
    "        t = detect_lightglue_common(\n",
    "            img_fnames, model_name, index_pairs, feature_dir, device, file_keypoints, rots,\n",
    "            resize_to=CONFIG.params_disk_lightglue[\"resize_to\"],\n",
    "            detection_threshold=CONFIG.params_disk_lightglue[\"detection_threshold\"],\n",
    "            num_features=CONFIG.params_disk_lightglue[\"num_features\"],\n",
    "            min_matches=CONFIG.params_disk_lightglue[\"min_matches\"],\n",
    "            match_confidence_threshold=CONFIG.params_disk_lightglue[\"match_confidence_threshold\"]\n",
    "        )\n",
    "        gc.collect()\n",
    "        files_keypoints.append(file_keypoints)\n",
    "        timings['feature_matching'].append(t)\n",
    "\n",
    "    if CONFIG.use_sift_lightglue:\n",
    "        model_name = \"sift\"\n",
    "        file_keypoints = f'{feature_dir}/matches_lightglue_{model_name}.h5'\n",
    "        t = detect_lightglue_common(\n",
    "            img_fnames, model_name, index_pairs, feature_dir, device, file_keypoints, rots,\n",
    "            resize_to=CONFIG.params_sift_lightglue[\"resize_to\"],\n",
    "            detection_threshold=CONFIG.params_sift_lightglue[\"detection_threshold\"],\n",
    "            num_features=CONFIG.params_sift_lightglue[\"num_features\"],\n",
    "            min_matches=CONFIG.params_sift_lightglue[\"min_matches\"],\n",
    "        )\n",
    "        gc.collect()\n",
    "        files_keypoints.append(file_keypoints)\n",
    "        timings['feature_matching'].append(t)\n",
    "\n",
    "    if CONFIG.use_loftr:\n",
    "        file_keypoints = f'{feature_dir}/matches_loftr_{CONFIG.params_loftr[\"resize_small_edge_to\"]}pix.h5'\n",
    "        t = detect_loftr(\n",
    "            img_fnames, index_pairs, feature_dir, device, file_keypoints,\n",
    "            resize_small_edge_to=CONFIG.params_loftr[\"resize_small_edge_to\"],\n",
    "            min_matches=CONFIG.params_loftr[\"min_matches\"],\n",
    "        )\n",
    "        gc.collect()\n",
    "        files_keypoints.append( file_keypoints )\n",
    "        timings['feature_matching'].append(t)\n",
    "\n",
    "    if CONFIG.use_dkm:\n",
    "        file_keypoints = f'{feature_dir}/matches_dkm.h5'\n",
    "        t = detect_dkm(\n",
    "            img_fnames, index_pairs, feature_dir, device, file_keypoints,\n",
    "            resize_to=CONFIG.params_dkm[\"resize_to\"], \n",
    "            detection_threshold=CONFIG.params_dkm[\"detection_threshold\"], \n",
    "            num_features=CONFIG.params_dkm[\"num_features\"], \n",
    "            min_matches=CONFIG.params_dkm[\"min_matches\"]\n",
    "        )\n",
    "        gc.collect()\n",
    "        files_keypoints.append(file_keypoints)\n",
    "        timings['feature_matching'].append(t)\n",
    "\n",
    "    if CONFIG.use_matchformer:\n",
    "        file_keypoints = f'{feature_dir}/matches_matchformer_{CONFIG.params_matchformer[\"resize_to\"]}pix.h5'\n",
    "        t = detect_matchformer(\n",
    "            img_fnames, index_pairs, feature_dir, device, file_keypoints,\n",
    "            resize_to=CONFIG.params_matchformer[\"resize_to\"],\n",
    "            num_features=CONFIG.params_matchformer[\"num_features\"], \n",
    "            min_matches=CONFIG.params_matchformer[\"min_matches\"]\n",
    "        )\n",
    "        gc.collect()\n",
    "        files_keypoints.append( file_keypoints )\n",
    "        timings['feature_matching'].append(t)\n",
    "\n",
    "    #############################################################\n",
    "    # merge keypoints\n",
    "    #############################################################\n",
    "    keypoints_merger(\n",
    "        img_fnames,\n",
    "        index_pairs,\n",
    "        files_keypoints,\n",
    "        feature_dir = feature_dir,\n",
    "        filter_FundamentalMatrix = CONFIG.MERGE_PARAMS[\"filter_FundamentalMatrix\"],\n",
    "        filter_iterations = CONFIG.MERGE_PARAMS[\"filter_iterations\"],\n",
    "        filter_threshold = CONFIG.MERGE_PARAMS[\"filter_threshold\"],\n",
    "    )    \n",
    "    return timings\n",
    "\n",
    "\n",
    "def import_into_colmap(img_dir, feature_dir ='.featureout', database_path = 'colmap.db'):\n",
    "    db = COLMAPDatabase.connect(database_path)\n",
    "    db.create_tables()\n",
    "    single_camera = False\n",
    "    fname_to_id = add_keypoints(db, feature_dir, img_dir, '', 'simple-pinhole', single_camera)\n",
    "    add_matches(\n",
    "        db,\n",
    "        feature_dir,\n",
    "        fname_to_id,\n",
    "    )\n",
    "    db.commit()\n",
    "    return"
   ]
  },
  {
   "cell_type": "code",
   "execution_count": 20,
   "id": "21a254a1",
   "metadata": {
    "execution": {
     "iopub.execute_input": "2025-05-30T00:20:56.909288Z",
     "iopub.status.busy": "2025-05-30T00:20:56.909019Z",
     "iopub.status.idle": "2025-05-30T00:20:56.917576Z",
     "shell.execute_reply": "2025-05-30T00:20:56.916807Z"
    },
    "papermill": {
     "duration": 0.016947,
     "end_time": "2025-05-30T00:20:56.918781",
     "exception": false,
     "start_time": "2025-05-30T00:20:56.901834",
     "status": "completed"
    },
    "tags": []
   },
   "outputs": [],
   "source": [
    "from itertools import combinations\n",
    "from collections import defaultdict\n",
    "\n",
    "\n",
    "def find_connected_components(pairs):\n",
    "    graph = defaultdict(set)\n",
    "    for i, j in pairs:\n",
    "        graph[i].add(j)\n",
    "        graph[j].add(i)\n",
    "\n",
    "    visited = set()\n",
    "    components = []\n",
    "\n",
    "    def dfs(u, comp):\n",
    "        visited.add(u)\n",
    "        comp.append(u)\n",
    "        for v in graph[u]:\n",
    "            if v not in visited:\n",
    "                dfs(v, comp)\n",
    "\n",
    "    for node in graph:\n",
    "        if node not in visited:\n",
    "            comp = []\n",
    "            dfs(node, comp)\n",
    "            components.append(comp)\n",
    "\n",
    "    return components\n",
    "\n",
    "\n",
    "def affine_matrix_from_points(v0, v1):\n",
    "    v0 = np.array(v0, dtype=np.float64, copy=True)\n",
    "    v1 = np.array(v1, dtype=np.float64, copy=True)\n",
    "    t0 = -np.mean(v0, axis=1)\n",
    "    t1 = -np.mean(v1, axis=1)\n",
    "    v0 += t0.reshape(3, 1)\n",
    "    v1 += t1.reshape(3, 1)\n",
    "    u, s, vh = np.linalg.svd(np.dot(v1, v0.T))\n",
    "    R = np.dot(u, vh)\n",
    "    if np.linalg.det(R) < 0:\n",
    "        R[:, -1] *= -1\n",
    "    scale = np.linalg.norm(v1) / np.linalg.norm(v0)\n",
    "    T = np.eye(4)\n",
    "    T[:3, :3] = scale * R\n",
    "    T[:3, 3] = np.mean(v1, axis=1) - np.dot(scale * R, np.mean(v0, axis=1))\n",
    "    return T\n",
    "\n",
    "\n",
    "def register_by_Horn(ev_coord, gt_coord, threshold=1.0):\n",
    "    if ev_coord.shape[1] < 3:\n",
    "        return None\n",
    "    T = affine_matrix_from_points(ev_coord, gt_coord)\n",
    "    transformed = (T[:3, :3] @ ev_coord) + T[:3, 3:4]\n",
    "    err = np.linalg.norm(transformed - gt_coord, axis=0)\n",
    "    inliers = err < threshold\n",
    "    if np.sum(inliers) < 3:\n",
    "        return None\n",
    "    T_refined = affine_matrix_from_points(ev_coord[:, inliers], gt_coord[:, inliers])\n",
    "    return T_refined\n"
   ]
  },
  {
   "cell_type": "code",
   "execution_count": 21,
   "id": "b2e35822",
   "metadata": {
    "execution": {
     "iopub.execute_input": "2025-05-30T00:20:56.933012Z",
     "iopub.status.busy": "2025-05-30T00:20:56.932809Z",
     "iopub.status.idle": "2025-05-30T00:20:56.944013Z",
     "shell.execute_reply": "2025-05-30T00:20:56.943409Z"
    },
    "papermill": {
     "duration": 0.019618,
     "end_time": "2025-05-30T00:20:56.945191",
     "exception": false,
     "start_time": "2025-05-30T00:20:56.925573",
     "status": "completed"
    },
    "tags": []
   },
   "outputs": [],
   "source": [
    "def reconstruct_from_db(feature_dir, img_dir):\n",
    "    result = {}\n",
    "    local_timings = {'RANSAC': [], 'Reconstruction': []}\n",
    "    database_path = f'{feature_dir}/colmap.db'\n",
    "    if os.path.isfile(database_path):\n",
    "        os.remove(database_path)\n",
    "    gc.collect()\n",
    "    import_into_colmap(img_dir, feature_dir=feature_dir, database_path=database_path)\n",
    "    output_path = f'{feature_dir}/colmap_rec'\n",
    "    os.makedirs(output_path, exist_ok=True)\n",
    "\n",
    "    t = time()\n",
    "    pycolmap.match_exhaustive(database_path)\n",
    "    local_timings['RANSAC'].append(time() - t)\n",
    "\n",
    "    t = time()\n",
    "    mapper_options = pycolmap.IncrementalPipelineOptions()\n",
    "    mapper_options.min_model_size = 5\n",
    "    mapper_options.max_num_models = 12\n",
    "    maps = pycolmap.incremental_mapping(database_path=database_path, image_path=img_dir,\n",
    "                                        output_path=output_path, options=mapper_options)\n",
    "    print(\"Original results\")\n",
    "    print(maps)\n",
    "    local_timings['Reconstruction'].append(time() - t)\n",
    "\n",
    "    map_ids = list(maps.keys())\n",
    "    map_graph = {}\n",
    "    for i, j in combinations(map_ids, 2):\n",
    "        shared = []\n",
    "        for name in maps[i].images:\n",
    "            if name in maps[j].images:\n",
    "                C_i = -maps[i].images[name].cam_from_world.rotation.matrix().T @ maps[i].images[name].cam_from_world.translation\n",
    "                C_j = -maps[j].images[name].cam_from_world.rotation.matrix().T @ maps[j].images[name].cam_from_world.translation\n",
    "                shared.append((C_i.reshape(3, 1), C_j.reshape(3, 1)))\n",
    "        if len(shared) >= 3:\n",
    "            u, g = zip(*shared)\n",
    "            u = np.concatenate(u, axis=1)\n",
    "            g = np.concatenate(g, axis=1)\n",
    "            T_ij = register_by_Horn(u, g)\n",
    "            if T_ij is not None:\n",
    "                map_graph[(i, j)] = T_ij\n",
    "    print(map_graph)\n",
    "    connected_components = find_connected_components(map_graph.keys())\n",
    "    for group in connected_components:\n",
    "        transforms = {group[0]: np.eye(4)}\n",
    "        queue = [group[0]]\n",
    "        while queue:\n",
    "            current = queue.pop(0)\n",
    "            for other in group:\n",
    "                if other == current or other in transforms:\n",
    "                    continue\n",
    "                if (current, other) in map_graph:\n",
    "                    transforms[other] = map_graph[(current, other)] @ transforms[current]\n",
    "                    queue.append(other)\n",
    "                elif (other, current) in map_graph:\n",
    "                    transforms[other] = np.linalg.inv(map_graph[(other, current)]) @ transforms[current]\n",
    "                    queue.append(other)\n",
    "\n",
    "        for map_index in group:\n",
    "            result[map_index] = {}\n",
    "            T = transforms.get(map_index, np.eye(4))\n",
    "            for img_id, image in maps[map_index].images.items():\n",
    "                T_cam = np.eye(4)\n",
    "                T_cam[:3, :3] = image.cam_from_world.rotation.matrix()\n",
    "                T_cam[:3, 3] = image.cam_from_world.translation\n",
    "                T_global = T @ T_cam\n",
    "                result[map_index][image.name] = {\n",
    "                    'R': T_global[:3, :3].tolist(),\n",
    "                    't': T_global[:3, 3].tolist()\n",
    "                }\n",
    "\n",
    "    for map_index in maps:\n",
    "        if map_index not in result:\n",
    "            result[map_index] = {}\n",
    "            for img_id, image in maps[map_index].images.items():\n",
    "                result[map_index][image.name] = {\n",
    "                    'R': image.cam_from_world.rotation.matrix().tolist(),\n",
    "                    't': image.cam_from_world.translation.tolist()\n",
    "                }\n",
    "    if VERBOSE:\n",
    "        for map_index in maps:\n",
    "            for img_id, image in maps[map_index].images.items():\n",
    "                print(f\"map {map_index}:{image}\")\n",
    "    return result, local_timings"
   ]
  },
  {
   "cell_type": "code",
   "execution_count": 22,
   "id": "7d039524",
   "metadata": {
    "execution": {
     "iopub.execute_input": "2025-05-30T00:20:56.960127Z",
     "iopub.status.busy": "2025-05-30T00:20:56.959918Z",
     "iopub.status.idle": "2025-05-30T00:20:57.109370Z",
     "shell.execute_reply": "2025-05-30T00:20:57.108334Z"
    },
    "papermill": {
     "duration": 0.158826,
     "end_time": "2025-05-30T00:20:57.110826",
     "exception": false,
     "start_time": "2025-05-30T00:20:56.952000",
     "status": "completed"
    },
    "tags": []
   },
   "outputs": [
    {
     "name": "stdout",
     "output_type": "stream",
     "text": [
      "Dataset \"imc2023_haiper\" -> num_images=54\n",
      "Dataset \"imc2023_heritage\" -> num_images=209\n",
      "Dataset \"imc2023_theather_imc2024_church\" -> num_images=76\n",
      "Dataset \"imc2024_dioscuri_baalshamin\" -> num_images=138\n",
      "Dataset \"imc2024_lizard_pond\" -> num_images=214\n",
      "Dataset \"pt_brandenburg_british_buckingham\" -> num_images=225\n",
      "Dataset \"pt_piazzasanmarco_grandplace\" -> num_images=168\n",
      "Dataset \"pt_sacrecoeur_trevi_tajmahal\" -> num_images=225\n",
      "Dataset \"pt_stpeters_stpauls\" -> num_images=200\n",
      "Dataset \"amy_gardens\" -> num_images=200\n",
      "Dataset \"fbk_vineyard\" -> num_images=163\n",
      "Dataset \"ETs\" -> num_images=22\n",
      "Dataset \"stairs\" -> num_images=51\n"
     ]
    }
   ],
   "source": [
    "# Collect vital info from the dataset\n",
    "\n",
    "@dataclasses.dataclass\n",
    "class Prediction:\n",
    "    image_id: str | None  # A unique identifier for the row -- unused otherwise. Used only on the hidden test set.\n",
    "    dataset: str\n",
    "    filename: str\n",
    "    cluster_index: int | None = None\n",
    "    rotation: np.ndarray | None = None\n",
    "    translation: np.ndarray | None = None\n",
    "\n",
    "# Set is_train=True to run the notebook on the training data.\n",
    "# Set is_train=False if submitting an entry to the competition (test data is hidden, and different from what you see on the \"test\" folder).\n",
    "is_train = True\n",
    "data_dir = '/kaggle/input/image-matching-challenge-2025'\n",
    "workdir = '/kaggle/working/result/'\n",
    "os.makedirs(workdir, exist_ok=True)\n",
    "\n",
    "if is_train:\n",
    "    sample_submission_csv = os.path.join(data_dir, 'train_labels.csv')\n",
    "else:\n",
    "    sample_submission_csv = os.path.join(data_dir, 'sample_submission.csv')\n",
    "\n",
    "samples = {}\n",
    "competition_data = pd.read_csv(sample_submission_csv)\n",
    "for _, row in competition_data.iterrows():\n",
    "    # Note: For the test data, the \"scene\" column has no meaning, and the rotation_matrix and translation_vector columns are random.\n",
    "    if row.dataset not in samples:\n",
    "        samples[row.dataset] = []\n",
    "    samples[row.dataset].append(\n",
    "        Prediction(\n",
    "            image_id=None if is_train else row.image_id,\n",
    "            dataset=row.dataset,\n",
    "            filename=row.image\n",
    "        )\n",
    "    )\n",
    "\n",
    "for dataset in samples:\n",
    "    print(f'Dataset \"{dataset}\" -> num_images={len(samples[dataset])}')"
   ]
  },
  {
   "cell_type": "code",
   "execution_count": 23,
   "id": "cc6e8ecd",
   "metadata": {
    "execution": {
     "iopub.execute_input": "2025-05-30T00:20:57.126601Z",
     "iopub.status.busy": "2025-05-30T00:20:57.126324Z",
     "iopub.status.idle": "2025-05-30T00:20:57.141302Z",
     "shell.execute_reply": "2025-05-30T00:20:57.140656Z"
    },
    "papermill": {
     "duration": 0.024467,
     "end_time": "2025-05-30T00:20:57.142400",
     "exception": false,
     "start_time": "2025-05-30T00:20:57.117933",
     "status": "completed"
    },
    "tags": []
   },
   "outputs": [],
   "source": [
    "import cv2\n",
    "import h5py\n",
    "import numpy as np\n",
    "import matplotlib.pyplot as plt\n",
    "import matplotlib.patches as patches\n",
    "\n",
    "\n",
    "def draw_keypoints_and_matches(images_input, unified_kp_path, remapped_matches_path, feature_dir='visualization_output'):\n",
    "    output_dir = os.path.join(feature_dir, 'visualization_output')\n",
    "    os.makedirs(output_dir, exist_ok=True)\n",
    "\n",
    "    # Load images and determine image_keys for HDF5 lookup\n",
    "    if isinstance(images_input[0], str):\n",
    "        loaded_images = [cv2.imread(img_path) for img_path in images_input]\n",
    "        image_keys = [os.path.basename(img_path) for img_path in images_input]\n",
    "    else:\n",
    "        loaded_images = images_input\n",
    "        # If images_input are already arrays, you need to provide the corresponding keys\n",
    "        # This part is crucial: image_keys MUST align with the HDF5 keys\n",
    "        image_keys = image_keys_in_h5 # Use the predefined list for the dummy case\n",
    "\n",
    "    # Load unified keypoints\n",
    "    keypoints_data = {}\n",
    "    with h5py.File(unified_kp_path, 'r') as f_kp:\n",
    "        for img_name_raw in f_kp.keys():\n",
    "            img_name = img_name_raw.decode('utf-8') if isinstance(img_name_raw, bytes) else img_name_raw\n",
    "            keypoints_data[img_name] = f_kp[img_name_raw][()] # Access with raw key if bytes\n",
    "\n",
    "    # Load remapped matches - CORRECTED LOGIC\n",
    "    # Store (img1_key, img2_key) directly with matches for robust iteration\n",
    "    matches_data_pairs = [] # Will store (img1_key, img2_key, matches_array)\n",
    "    with h5py.File(remapped_matches_path, 'r') as f_matches:\n",
    "        print(\"\\n--- Loading remapped matches from HDF5 ---\")\n",
    "        for img1_group_key_candidate in tqdm(f_matches.keys(), desc=\"Loading matches\"):\n",
    "            img1_key = img1_group_key_candidate.decode('utf-8') if isinstance(img1_group_key_candidate, bytes) else img1_group_key_candidate\n",
    "\n",
    "            img1_group = f_matches[img1_group_key_candidate] # Access with raw key\n",
    "\n",
    "            if isinstance(img1_group, h5py.Group):\n",
    "                for img2_dataset_key_candidate in img1_group.keys():\n",
    "                    img2_key = img2_dataset_key_candidate.decode('utf-8') if isinstance(img2_dataset_key_candidate, bytes) else img2_dataset_key_candidate\n",
    "\n",
    "                    try:\n",
    "                        matches_array = img1_group[img2_dataset_key_candidate][()]\n",
    "                        matches_data_pairs.append((img1_key, img2_key, matches_array))\n",
    "                    except Exception as e:\n",
    "                        print(f\"Error loading matches for pair ({img1_key}, {img2_key}): {e}\")\n",
    "            else:\n",
    "                print(f\"Warning: Expected '{img1_key}' to be a group, but found {type(img1_group)}. Skipping its contents.\")\n",
    "\n",
    "\n",
    "    # --- Drawing Keypoints ---\n",
    "    print(\"\\n--- Drawing Keypoints ---\")\n",
    "    for i, img_key in enumerate(image_keys):\n",
    "        if img_key in keypoints_data:\n",
    "            img = loaded_images[i].copy()\n",
    "            kpts = keypoints_data[img_key]\n",
    "\n",
    "            for kp in kpts:\n",
    "                x, y = int(kp[0]), int(kp[1])\n",
    "                cv2.circle(img, (x, y), 3, (0, 255, 0), -1) # Green circle for keypoint\n",
    "\n",
    "            output_kp_path = os.path.join(output_dir, f\"keypoints_{img_key}\")\n",
    "            if len(img.shape) == 2:\n",
    "                img = cv2.cvtColor(img, cv2.COLOR_GRAY2BGR)\n",
    "            cv2.imwrite(output_kp_path, img)\n",
    "            print(f\"Keypoints drawn on {img_key}, saved to {output_kp_path}\")\n",
    "        else:\n",
    "            print(f\"No keypoints found for {img_key} in unified keypoints file.\")\n",
    "\n",
    "    # --- Drawing Matches ---\n",
    "    print(\"\\n--- Drawing Matches ---\")\n",
    "    # Iterate through the (img1_key, img2_key, matches) tuples directly\n",
    "    for img_name1, img_name2, matches in matches_data_pairs:\n",
    "        # We no longer need to split img_pair_key, as we have img_name1 and img_name2 directly\n",
    "\n",
    "        # Find the actual image objects and their keypoints using image_keys list\n",
    "        try:\n",
    "            img1_idx = image_keys.index(img_name1)\n",
    "            img2_idx = image_keys.index(img_name2)\n",
    "        except ValueError:\n",
    "            print(f\"Skipping matches for {img_name1}-{img_name2}: One or both image names not found in the provided 'images' list/keys.\")\n",
    "            continue\n",
    "\n",
    "        img1 = loaded_images[img1_idx].copy()\n",
    "        img2 = loaded_images[img2_idx].copy()\n",
    "\n",
    "        kpts1 = keypoints_data.get(img_name1)\n",
    "        kpts2 = keypoints_data.get(img_name2)\n",
    "\n",
    "        if kpts1 is None or kpts2 is None:\n",
    "            print(f\"Skipping matches for {img_name1}-{img_name2}: keypoints not found for one or both images in unified keypoints.\")\n",
    "            continue\n",
    "        if len(matches) == 0:\n",
    "            print(f\"No matches to draw for {img_name1}-{img_name2}.\")\n",
    "            continue\n",
    "\n",
    "        # Ensure images are 3 channels for drawing lines\n",
    "        if len(img1.shape) == 2:\n",
    "            img1 = cv2.cvtColor(img1, cv2.COLOR_GRAY2BGR)\n",
    "        if len(img2.shape) == 2:\n",
    "            img2 = cv2.cvtColor(img2, cv2.COLOR_GRAY2BGR)\n",
    "\n",
    "        # Create a concatenated image for drawing matches\n",
    "        h1, w1 = img1.shape[:2]\n",
    "        h2, w2 = img2.shape[:2]\n",
    "        max_h = max(h1, h2)\n",
    "        matched_img = np.zeros((max_h, w1 + w2, 3), dtype=np.uint8)\n",
    "        matched_img[0:h1, 0:w1] = img1\n",
    "        matched_img[0:h2, w1:w1+w2] = img2\n",
    "\n",
    "        num_matches_to_draw = min(len(matches), 200) # Draw up to 200 matches to avoid clutter, adjust as needed\n",
    "\n",
    "        for i in range(num_matches_to_draw):\n",
    "            match = matches[i]\n",
    "            kp1_idx, kp2_idx = int(match[0]), int(match[1])\n",
    "\n",
    "            # Bounds check for keypoint indices\n",
    "            if kp1_idx >= len(kpts1) or kp2_idx >= len(kpts2):\n",
    "                # print(f\"Warning: Match index out of bounds for {img_name1}-{img_name2}. Skipping match {kp1_idx}-{kp2_idx}.\")\n",
    "                continue\n",
    "\n",
    "            pt1 = tuple(map(int, kpts1[kp1_idx][:2]))\n",
    "            pt2 = tuple(map(int, kpts2[kp2_idx][:2]))\n",
    "\n",
    "            # Draw circles on the concatenated image\n",
    "            cv2.circle(matched_img, pt1, 5, (0, 0, 255), 2) # Red circle on img1 side\n",
    "            cv2.circle(matched_img, (pt2[0] + w1, pt2[1]), 5, (255, 0, 0), 2) # Blue circle on img2 side\n",
    "\n",
    "            # Draw a line connecting the matched keypoints\n",
    "            color = tuple(np.random.randint(0, 255, 3).tolist())\n",
    "            cv2.line(matched_img, pt1, (pt2[0] + w1, pt2[1]), color, 1)\n",
    "\n",
    "        output_match_path = os.path.join(output_dir, f\"matches_{img_name1}_{img_name2}.png\")\n",
    "        cv2.imwrite(output_match_path, matched_img)\n",
    "        print(f\"Matches drawn between {img_name1} and {img_name2}, saved to {output_match_path}\")\n",
    "\n",
    "\n",
    "# Example call (replace with your actual 'images' list)\n",
    "# If your 'images' are file paths:\n",
    "# images_file_paths = ['path/to/your/image1.jpg', 'path/to/your/image2.jpg', ...]\n",
    "# draw_keypoints_and_matches(images_file_paths, unified_kp_path, remapped_matches_path)\n",
    "\n",
    "# If your 'images' are loaded numpy arrays (as in the dummy example above):\n",
    "# draw_keypoints_and_matches(images, unified_kp_path, remapped_matches_path)"
   ]
  },
  {
   "cell_type": "code",
   "execution_count": 24,
   "id": "fc19599e",
   "metadata": {
    "execution": {
     "iopub.execute_input": "2025-05-30T00:20:57.157319Z",
     "iopub.status.busy": "2025-05-30T00:20:57.157044Z",
     "iopub.status.idle": "2025-05-30T00:32:37.974411Z",
     "shell.execute_reply": "2025-05-30T00:32:37.973389Z"
    },
    "papermill": {
     "duration": 700.826362,
     "end_time": "2025-05-30T00:32:37.975762",
     "exception": false,
     "start_time": "2025-05-30T00:20:57.149400",
     "status": "completed"
    },
    "tags": []
   },
   "outputs": [
    {
     "name": "stdout",
     "output_type": "stream",
     "text": [
      "Loading DINOv2 model for patch feature extraction...\n",
      "DINOv2 model loaded.\n",
      "Skipping \"imc2023_haiper\"\n",
      "Skipping \"imc2023_heritage\"\n",
      "Skipping \"imc2023_theather_imc2024_church\"\n",
      "Skipping \"imc2024_dioscuri_baalshamin\"\n",
      "Skipping \"imc2024_lizard_pond\"\n",
      "Skipping \"pt_brandenburg_british_buckingham\"\n",
      "Skipping \"pt_piazzasanmarco_grandplace\"\n",
      "Skipping \"pt_sacrecoeur_trevi_tajmahal\"\n",
      "Skipping \"pt_stpeters_stpauls\"\n",
      "Skipping \"amy_gardens\"\n",
      "\n",
      "Processing dataset \"fbk_vineyard\": 163 images\n",
      "rotation_detection for 163 images : 0.0000 sec\n"
     ]
    },
    {
     "name": "stderr",
     "output_type": "stream",
     "text": [
      "100%|██████████| 163/163 [00:12<00:00, 12.89it/s]\n"
     ]
    },
    {
     "name": "stdout",
     "output_type": "stream",
     "text": [
      "Distance Matrix Statistics:\n",
      "Min:  0.1510\n",
      "Max:  0.3338\n",
      "Mean: 0.2232\n",
      "Std:  0.0303\n",
      "20%:  0.1980\n",
      "25%:  0.2014\n",
      "60%:  0.2244\n",
      "75%:  0.2396\n",
      "Shortlisting. Number of pairs to match: 2277. Done in 12.9611 sec\n",
      "Generated 2277 image pairs using VLAD global descriptor.\n",
      "Shortlisting. Number of pairs to match: 2277. Done in 13.2630 sec\n",
      "aliked > rot_k=0, kpts.shape=torch.Size([4096, 2]), descs.shape=torch.Size([4096, 128])\n",
      "aliked > rot_k=0, kpts.shape=torch.Size([4096, 2]), descs.shape=torch.Size([4096, 128])\n",
      "aliked > rot_k=0, kpts.shape=torch.Size([4096, 2]), descs.shape=torch.Size([4096, 128])\n",
      "aliked > rot_k=0, kpts.shape=torch.Size([4096, 2]), descs.shape=torch.Size([4096, 128])\n",
      "aliked > rot_k=0, kpts.shape=torch.Size([4096, 2]), descs.shape=torch.Size([4096, 128])\n",
      "aliked > rot_k=0, kpts.shape=torch.Size([4096, 2]), descs.shape=torch.Size([4096, 128])\n",
      "aliked > rot_k=0, kpts.shape=torch.Size([4096, 2]), descs.shape=torch.Size([4096, 128])\n",
      "aliked > rot_k=0, kpts.shape=torch.Size([4096, 2]), descs.shape=torch.Size([4096, 128])\n",
      "aliked > rot_k=0, kpts.shape=torch.Size([4096, 2]), descs.shape=torch.Size([4096, 128])\n",
      "aliked > rot_k=0, kpts.shape=torch.Size([4096, 2]), descs.shape=torch.Size([4096, 128])\n",
      "aliked > rot_k=0, kpts.shape=torch.Size([4096, 2]), descs.shape=torch.Size([4096, 128])\n",
      "aliked > rot_k=0, kpts.shape=torch.Size([4096, 2]), descs.shape=torch.Size([4096, 128])\n",
      "aliked > rot_k=0, kpts.shape=torch.Size([4096, 2]), descs.shape=torch.Size([4096, 128])\n",
      "aliked > rot_k=0, kpts.shape=torch.Size([4096, 2]), descs.shape=torch.Size([4096, 128])\n",
      "aliked > rot_k=0, kpts.shape=torch.Size([4096, 2]), descs.shape=torch.Size([4096, 128])\n",
      "aliked > rot_k=0, kpts.shape=torch.Size([4096, 2]), descs.shape=torch.Size([4096, 128])\n",
      "aliked > rot_k=0, kpts.shape=torch.Size([4096, 2]), descs.shape=torch.Size([4096, 128])\n",
      "aliked > rot_k=0, kpts.shape=torch.Size([4096, 2]), descs.shape=torch.Size([4096, 128])\n",
      "aliked > rot_k=0, kpts.shape=torch.Size([4096, 2]), descs.shape=torch.Size([4096, 128])\n",
      "aliked > rot_k=0, kpts.shape=torch.Size([4096, 2]), descs.shape=torch.Size([4096, 128])\n",
      "aliked > rot_k=0, kpts.shape=torch.Size([4096, 2]), descs.shape=torch.Size([4096, 128])\n",
      "aliked > rot_k=0, kpts.shape=torch.Size([4096, 2]), descs.shape=torch.Size([4096, 128])\n",
      "aliked > rot_k=0, kpts.shape=torch.Size([4096, 2]), descs.shape=torch.Size([4096, 128])\n",
      "aliked > rot_k=0, kpts.shape=torch.Size([4096, 2]), descs.shape=torch.Size([4096, 128])\n",
      "aliked > rot_k=0, kpts.shape=torch.Size([4096, 2]), descs.shape=torch.Size([4096, 128])\n",
      "aliked > rot_k=0, kpts.shape=torch.Size([4096, 2]), descs.shape=torch.Size([4096, 128])\n",
      "aliked > rot_k=0, kpts.shape=torch.Size([4096, 2]), descs.shape=torch.Size([4096, 128])\n",
      "aliked > rot_k=0, kpts.shape=torch.Size([4096, 2]), descs.shape=torch.Size([4096, 128])\n",
      "aliked > rot_k=0, kpts.shape=torch.Size([4096, 2]), descs.shape=torch.Size([4096, 128])\n",
      "aliked > rot_k=0, kpts.shape=torch.Size([4096, 2]), descs.shape=torch.Size([4096, 128])\n",
      "aliked > rot_k=0, kpts.shape=torch.Size([4096, 2]), descs.shape=torch.Size([4096, 128])\n",
      "aliked > rot_k=0, kpts.shape=torch.Size([4096, 2]), descs.shape=torch.Size([4096, 128])\n",
      "aliked > rot_k=0, kpts.shape=torch.Size([4096, 2]), descs.shape=torch.Size([4096, 128])\n",
      "aliked > rot_k=0, kpts.shape=torch.Size([4096, 2]), descs.shape=torch.Size([4096, 128])\n",
      "aliked > rot_k=0, kpts.shape=torch.Size([4096, 2]), descs.shape=torch.Size([4096, 128])\n",
      "aliked > rot_k=0, kpts.shape=torch.Size([4096, 2]), descs.shape=torch.Size([4096, 128])\n",
      "aliked > rot_k=0, kpts.shape=torch.Size([4096, 2]), descs.shape=torch.Size([4096, 128])\n",
      "aliked > rot_k=0, kpts.shape=torch.Size([4096, 2]), descs.shape=torch.Size([4096, 128])\n",
      "aliked > rot_k=0, kpts.shape=torch.Size([4096, 2]), descs.shape=torch.Size([4096, 128])\n",
      "aliked > rot_k=0, kpts.shape=torch.Size([4096, 2]), descs.shape=torch.Size([4096, 128])\n",
      "aliked > rot_k=0, kpts.shape=torch.Size([4096, 2]), descs.shape=torch.Size([4096, 128])\n",
      "aliked > rot_k=0, kpts.shape=torch.Size([4096, 2]), descs.shape=torch.Size([4096, 128])\n",
      "aliked > rot_k=0, kpts.shape=torch.Size([3824, 2]), descs.shape=torch.Size([3824, 128])\n",
      "aliked > rot_k=0, kpts.shape=torch.Size([4096, 2]), descs.shape=torch.Size([4096, 128])\n",
      "aliked > rot_k=0, kpts.shape=torch.Size([4096, 2]), descs.shape=torch.Size([4096, 128])\n",
      "aliked > rot_k=0, kpts.shape=torch.Size([4096, 2]), descs.shape=torch.Size([4096, 128])\n",
      "aliked > rot_k=0, kpts.shape=torch.Size([4096, 2]), descs.shape=torch.Size([4096, 128])\n",
      "aliked > rot_k=0, kpts.shape=torch.Size([3926, 2]), descs.shape=torch.Size([3926, 128])\n",
      "aliked > rot_k=0, kpts.shape=torch.Size([4096, 2]), descs.shape=torch.Size([4096, 128])\n",
      "aliked > rot_k=0, kpts.shape=torch.Size([4096, 2]), descs.shape=torch.Size([4096, 128])\n",
      "aliked > rot_k=0, kpts.shape=torch.Size([4096, 2]), descs.shape=torch.Size([4096, 128])\n",
      "aliked > rot_k=0, kpts.shape=torch.Size([4096, 2]), descs.shape=torch.Size([4096, 128])\n",
      "aliked > rot_k=0, kpts.shape=torch.Size([4096, 2]), descs.shape=torch.Size([4096, 128])\n",
      "aliked > rot_k=0, kpts.shape=torch.Size([4096, 2]), descs.shape=torch.Size([4096, 128])\n",
      "aliked > rot_k=0, kpts.shape=torch.Size([4096, 2]), descs.shape=torch.Size([4096, 128])\n",
      "aliked > rot_k=0, kpts.shape=torch.Size([4096, 2]), descs.shape=torch.Size([4096, 128])\n",
      "aliked > rot_k=0, kpts.shape=torch.Size([4096, 2]), descs.shape=torch.Size([4096, 128])\n",
      "aliked > rot_k=0, kpts.shape=torch.Size([4096, 2]), descs.shape=torch.Size([4096, 128])\n",
      "aliked > rot_k=0, kpts.shape=torch.Size([4096, 2]), descs.shape=torch.Size([4096, 128])\n",
      "aliked > rot_k=0, kpts.shape=torch.Size([4096, 2]), descs.shape=torch.Size([4096, 128])\n",
      "aliked > rot_k=0, kpts.shape=torch.Size([4096, 2]), descs.shape=torch.Size([4096, 128])\n",
      "aliked > rot_k=0, kpts.shape=torch.Size([4096, 2]), descs.shape=torch.Size([4096, 128])\n",
      "aliked > rot_k=0, kpts.shape=torch.Size([4096, 2]), descs.shape=torch.Size([4096, 128])\n",
      "aliked > rot_k=0, kpts.shape=torch.Size([4096, 2]), descs.shape=torch.Size([4096, 128])\n",
      "aliked > rot_k=0, kpts.shape=torch.Size([4096, 2]), descs.shape=torch.Size([4096, 128])\n",
      "aliked > rot_k=0, kpts.shape=torch.Size([4096, 2]), descs.shape=torch.Size([4096, 128])\n",
      "aliked > rot_k=0, kpts.shape=torch.Size([4096, 2]), descs.shape=torch.Size([4096, 128])\n",
      "aliked > rot_k=0, kpts.shape=torch.Size([4096, 2]), descs.shape=torch.Size([4096, 128])\n",
      "aliked > rot_k=0, kpts.shape=torch.Size([4096, 2]), descs.shape=torch.Size([4096, 128])\n",
      "aliked > rot_k=0, kpts.shape=torch.Size([4096, 2]), descs.shape=torch.Size([4096, 128])\n",
      "aliked > rot_k=0, kpts.shape=torch.Size([4096, 2]), descs.shape=torch.Size([4096, 128])\n",
      "aliked > rot_k=0, kpts.shape=torch.Size([4096, 2]), descs.shape=torch.Size([4096, 128])\n",
      "aliked > rot_k=0, kpts.shape=torch.Size([4096, 2]), descs.shape=torch.Size([4096, 128])\n",
      "aliked > rot_k=0, kpts.shape=torch.Size([4096, 2]), descs.shape=torch.Size([4096, 128])\n",
      "aliked > rot_k=0, kpts.shape=torch.Size([4096, 2]), descs.shape=torch.Size([4096, 128])\n",
      "aliked > rot_k=0, kpts.shape=torch.Size([4096, 2]), descs.shape=torch.Size([4096, 128])\n",
      "aliked > rot_k=0, kpts.shape=torch.Size([4096, 2]), descs.shape=torch.Size([4096, 128])\n",
      "aliked > rot_k=0, kpts.shape=torch.Size([4096, 2]), descs.shape=torch.Size([4096, 128])\n",
      "aliked > rot_k=0, kpts.shape=torch.Size([4096, 2]), descs.shape=torch.Size([4096, 128])\n",
      "aliked > rot_k=0, kpts.shape=torch.Size([4096, 2]), descs.shape=torch.Size([4096, 128])\n",
      "aliked > rot_k=0, kpts.shape=torch.Size([4096, 2]), descs.shape=torch.Size([4096, 128])\n",
      "aliked > rot_k=0, kpts.shape=torch.Size([4096, 2]), descs.shape=torch.Size([4096, 128])\n",
      "aliked > rot_k=0, kpts.shape=torch.Size([4096, 2]), descs.shape=torch.Size([4096, 128])\n",
      "aliked > rot_k=0, kpts.shape=torch.Size([4096, 2]), descs.shape=torch.Size([4096, 128])\n",
      "aliked > rot_k=0, kpts.shape=torch.Size([4096, 2]), descs.shape=torch.Size([4096, 128])\n",
      "aliked > rot_k=0, kpts.shape=torch.Size([4096, 2]), descs.shape=torch.Size([4096, 128])\n",
      "aliked > rot_k=0, kpts.shape=torch.Size([4096, 2]), descs.shape=torch.Size([4096, 128])\n",
      "aliked > rot_k=0, kpts.shape=torch.Size([4096, 2]), descs.shape=torch.Size([4096, 128])\n",
      "aliked > rot_k=0, kpts.shape=torch.Size([4096, 2]), descs.shape=torch.Size([4096, 128])\n",
      "aliked > rot_k=0, kpts.shape=torch.Size([4096, 2]), descs.shape=torch.Size([4096, 128])\n",
      "aliked > rot_k=0, kpts.shape=torch.Size([4096, 2]), descs.shape=torch.Size([4096, 128])\n",
      "aliked > rot_k=0, kpts.shape=torch.Size([4096, 2]), descs.shape=torch.Size([4096, 128])\n",
      "aliked > rot_k=0, kpts.shape=torch.Size([4096, 2]), descs.shape=torch.Size([4096, 128])\n",
      "aliked > rot_k=0, kpts.shape=torch.Size([4096, 2]), descs.shape=torch.Size([4096, 128])\n",
      "aliked > rot_k=0, kpts.shape=torch.Size([4096, 2]), descs.shape=torch.Size([4096, 128])\n",
      "aliked > rot_k=0, kpts.shape=torch.Size([4096, 2]), descs.shape=torch.Size([4096, 128])\n",
      "aliked > rot_k=0, kpts.shape=torch.Size([4096, 2]), descs.shape=torch.Size([4096, 128])\n",
      "aliked > rot_k=0, kpts.shape=torch.Size([4096, 2]), descs.shape=torch.Size([4096, 128])\n",
      "aliked > rot_k=0, kpts.shape=torch.Size([4096, 2]), descs.shape=torch.Size([4096, 128])\n",
      "aliked > rot_k=0, kpts.shape=torch.Size([4096, 2]), descs.shape=torch.Size([4096, 128])\n",
      "aliked > rot_k=0, kpts.shape=torch.Size([4096, 2]), descs.shape=torch.Size([4096, 128])\n",
      "aliked > rot_k=0, kpts.shape=torch.Size([4096, 2]), descs.shape=torch.Size([4096, 128])\n",
      "aliked > rot_k=0, kpts.shape=torch.Size([4096, 2]), descs.shape=torch.Size([4096, 128])\n",
      "aliked > rot_k=0, kpts.shape=torch.Size([4096, 2]), descs.shape=torch.Size([4096, 128])\n",
      "aliked > rot_k=0, kpts.shape=torch.Size([4096, 2]), descs.shape=torch.Size([4096, 128])\n",
      "aliked > rot_k=0, kpts.shape=torch.Size([4096, 2]), descs.shape=torch.Size([4096, 128])\n",
      "aliked > rot_k=0, kpts.shape=torch.Size([4096, 2]), descs.shape=torch.Size([4096, 128])\n",
      "aliked > rot_k=0, kpts.shape=torch.Size([4096, 2]), descs.shape=torch.Size([4096, 128])\n",
      "aliked > rot_k=0, kpts.shape=torch.Size([4096, 2]), descs.shape=torch.Size([4096, 128])\n",
      "aliked > rot_k=0, kpts.shape=torch.Size([4096, 2]), descs.shape=torch.Size([4096, 128])\n",
      "aliked > rot_k=0, kpts.shape=torch.Size([4096, 2]), descs.shape=torch.Size([4096, 128])\n",
      "aliked > rot_k=0, kpts.shape=torch.Size([4096, 2]), descs.shape=torch.Size([4096, 128])\n",
      "aliked > rot_k=0, kpts.shape=torch.Size([4096, 2]), descs.shape=torch.Size([4096, 128])\n",
      "aliked > rot_k=0, kpts.shape=torch.Size([4096, 2]), descs.shape=torch.Size([4096, 128])\n",
      "aliked > rot_k=0, kpts.shape=torch.Size([4096, 2]), descs.shape=torch.Size([4096, 128])\n",
      "aliked > rot_k=0, kpts.shape=torch.Size([4096, 2]), descs.shape=torch.Size([4096, 128])\n",
      "aliked > rot_k=0, kpts.shape=torch.Size([4096, 2]), descs.shape=torch.Size([4096, 128])\n",
      "aliked > rot_k=0, kpts.shape=torch.Size([4096, 2]), descs.shape=torch.Size([4096, 128])\n",
      "aliked > rot_k=0, kpts.shape=torch.Size([4096, 2]), descs.shape=torch.Size([4096, 128])\n",
      "aliked > rot_k=0, kpts.shape=torch.Size([4096, 2]), descs.shape=torch.Size([4096, 128])\n",
      "aliked > rot_k=0, kpts.shape=torch.Size([4096, 2]), descs.shape=torch.Size([4096, 128])\n",
      "aliked > rot_k=0, kpts.shape=torch.Size([4096, 2]), descs.shape=torch.Size([4096, 128])\n",
      "aliked > rot_k=0, kpts.shape=torch.Size([4096, 2]), descs.shape=torch.Size([4096, 128])\n",
      "aliked > rot_k=0, kpts.shape=torch.Size([4096, 2]), descs.shape=torch.Size([4096, 128])\n",
      "aliked > rot_k=0, kpts.shape=torch.Size([4096, 2]), descs.shape=torch.Size([4096, 128])\n",
      "aliked > rot_k=0, kpts.shape=torch.Size([4096, 2]), descs.shape=torch.Size([4096, 128])\n",
      "aliked > rot_k=0, kpts.shape=torch.Size([4096, 2]), descs.shape=torch.Size([4096, 128])\n",
      "aliked > rot_k=0, kpts.shape=torch.Size([4096, 2]), descs.shape=torch.Size([4096, 128])\n",
      "aliked > rot_k=0, kpts.shape=torch.Size([4096, 2]), descs.shape=torch.Size([4096, 128])\n",
      "aliked > rot_k=0, kpts.shape=torch.Size([4096, 2]), descs.shape=torch.Size([4096, 128])\n",
      "aliked > rot_k=0, kpts.shape=torch.Size([4096, 2]), descs.shape=torch.Size([4096, 128])\n",
      "aliked > rot_k=0, kpts.shape=torch.Size([4096, 2]), descs.shape=torch.Size([4096, 128])\n",
      "aliked > rot_k=0, kpts.shape=torch.Size([4096, 2]), descs.shape=torch.Size([4096, 128])\n",
      "aliked > rot_k=0, kpts.shape=torch.Size([4096, 2]), descs.shape=torch.Size([4096, 128])\n",
      "aliked > rot_k=0, kpts.shape=torch.Size([4096, 2]), descs.shape=torch.Size([4096, 128])\n",
      "aliked > rot_k=0, kpts.shape=torch.Size([4096, 2]), descs.shape=torch.Size([4096, 128])\n",
      "aliked > rot_k=0, kpts.shape=torch.Size([4096, 2]), descs.shape=torch.Size([4096, 128])\n",
      "aliked > rot_k=0, kpts.shape=torch.Size([4096, 2]), descs.shape=torch.Size([4096, 128])\n",
      "aliked > rot_k=0, kpts.shape=torch.Size([4096, 2]), descs.shape=torch.Size([4096, 128])\n",
      "aliked > rot_k=0, kpts.shape=torch.Size([4096, 2]), descs.shape=torch.Size([4096, 128])\n",
      "aliked > rot_k=0, kpts.shape=torch.Size([4096, 2]), descs.shape=torch.Size([4096, 128])\n",
      "aliked > rot_k=0, kpts.shape=torch.Size([4096, 2]), descs.shape=torch.Size([4096, 128])\n",
      "aliked > rot_k=0, kpts.shape=torch.Size([4096, 2]), descs.shape=torch.Size([4096, 128])\n",
      "aliked > rot_k=0, kpts.shape=torch.Size([4096, 2]), descs.shape=torch.Size([4096, 128])\n",
      "aliked > rot_k=0, kpts.shape=torch.Size([4096, 2]), descs.shape=torch.Size([4096, 128])\n",
      "aliked > rot_k=0, kpts.shape=torch.Size([4096, 2]), descs.shape=torch.Size([4096, 128])\n",
      "aliked > rot_k=0, kpts.shape=torch.Size([4096, 2]), descs.shape=torch.Size([4096, 128])\n",
      "aliked > rot_k=0, kpts.shape=torch.Size([4096, 2]), descs.shape=torch.Size([4096, 128])\n",
      "aliked > rot_k=0, kpts.shape=torch.Size([4096, 2]), descs.shape=torch.Size([4096, 128])\n",
      "aliked > rot_k=0, kpts.shape=torch.Size([4096, 2]), descs.shape=torch.Size([4096, 128])\n",
      "aliked > rot_k=0, kpts.shape=torch.Size([4096, 2]), descs.shape=torch.Size([4096, 128])\n",
      "aliked > rot_k=0, kpts.shape=torch.Size([4096, 2]), descs.shape=torch.Size([4096, 128])\n",
      "aliked > rot_k=0, kpts.shape=torch.Size([4096, 2]), descs.shape=torch.Size([4096, 128])\n",
      "aliked > rot_k=0, kpts.shape=torch.Size([4096, 2]), descs.shape=torch.Size([4096, 128])\n",
      "aliked > rot_k=0, kpts.shape=torch.Size([4096, 2]), descs.shape=torch.Size([4096, 128])\n",
      "aliked > rot_k=0, kpts.shape=torch.Size([4096, 2]), descs.shape=torch.Size([4096, 128])\n",
      "aliked > rot_k=0, kpts.shape=torch.Size([4096, 2]), descs.shape=torch.Size([4096, 128])\n",
      "aliked > rot_k=0, kpts.shape=torch.Size([4096, 2]), descs.shape=torch.Size([4096, 128])\n",
      "aliked > rot_k=0, kpts.shape=torch.Size([4096, 2]), descs.shape=torch.Size([4096, 128])\n",
      "aliked > rot_k=0, kpts.shape=torch.Size([4096, 2]), descs.shape=torch.Size([4096, 128])\n",
      "aliked > rot_k=0, kpts.shape=torch.Size([4096, 2]), descs.shape=torch.Size([4096, 128])\n",
      "aliked > rot_k=0, kpts.shape=torch.Size([4096, 2]), descs.shape=torch.Size([4096, 128])\n",
      "aliked > rot_k=0, kpts.shape=torch.Size([4096, 2]), descs.shape=torch.Size([4096, 128])\n",
      "Loaded LightGlue model\n"
     ]
    },
    {
     "name": "stderr",
     "output_type": "stream",
     "text": [
      "  0%|          | 7/2277 [00:00<03:54,  9.69it/s]"
     ]
    },
    {
     "name": "stdout",
     "output_type": "stream",
     "text": [
      "aliked> vineyard_split_2_frame_1260.png-vineyard_split_2_frame_1255.png: 1518 matches @ 1th pair(aliked+lightglue)\n"
     ]
    },
    {
     "name": "stderr",
     "output_type": "stream",
     "text": [
      "  0%|          | 9/2277 [00:00<03:42, 10.18it/s]"
     ]
    },
    {
     "name": "stdout",
     "output_type": "stream",
     "text": [
      "aliked> vineyard_split_2_frame_1260.png-vineyard_split_2_frame_1250.png: 523 matches @ 2th pair(aliked+lightglue)\n",
      "aliked> vineyard_split_2_frame_1260.png-vineyard_split_2_frame_1265.png: 1284 matches @ 3th pair(aliked+lightglue)\n"
     ]
    },
    {
     "name": "stderr",
     "output_type": "stream",
     "text": [
      "  1%|▏         | 31/2277 [00:02<03:22, 11.09it/s]"
     ]
    },
    {
     "name": "stdout",
     "output_type": "stream",
     "text": [
      "aliked> vineyard_split_2_frame_1225.png-vineyard_split_2_frame_1220.png: 1677 matches @ 4th pair(aliked+lightglue)\n"
     ]
    },
    {
     "name": "stderr",
     "output_type": "stream",
     "text": [
      "  2%|▏         | 37/2277 [00:03<03:21, 11.11it/s]"
     ]
    },
    {
     "name": "stdout",
     "output_type": "stream",
     "text": [
      "aliked> vineyard_split_2_frame_1225.png-vineyard_split_2_frame_1230.png: 1022 matches @ 5th pair(aliked+lightglue)\n",
      "aliked> vineyard_split_2_frame_1225.png-vineyard_split_2_frame_1215.png: 375 matches @ 6th pair(aliked+lightglue)\n"
     ]
    },
    {
     "name": "stderr",
     "output_type": "stream",
     "text": [
      "  2%|▏         | 51/2277 [00:04<03:20, 11.09it/s]"
     ]
    },
    {
     "name": "stdout",
     "output_type": "stream",
     "text": [
      "aliked> vineyard_split_2_frame_1245.png-vineyard_split_2_frame_1240.png: 1181 matches @ 7th pair(aliked+lightglue)\n"
     ]
    },
    {
     "name": "stderr",
     "output_type": "stream",
     "text": [
      "  2%|▏         | 55/2277 [00:05<03:20, 11.06it/s]"
     ]
    },
    {
     "name": "stdout",
     "output_type": "stream",
     "text": [
      "aliked> vineyard_split_2_frame_1245.png-vineyard_split_2_frame_1250.png: 1222 matches @ 8th pair(aliked+lightglue)\n",
      "aliked> vineyard_split_2_frame_1245.png-vineyard_split_2_frame_1235.png: 430 matches @ 9th pair(aliked+lightglue)\n"
     ]
    },
    {
     "name": "stderr",
     "output_type": "stream",
     "text": [
      "  3%|▎         | 57/2277 [00:05<03:20, 11.07it/s]"
     ]
    },
    {
     "name": "stdout",
     "output_type": "stream",
     "text": [
      "aliked> vineyard_split_2_frame_1245.png-vineyard_split_2_frame_1230.png: 121 matches @ 10th pair(aliked+lightglue)\n"
     ]
    },
    {
     "name": "stderr",
     "output_type": "stream",
     "text": [
      "  3%|▎         | 79/2277 [00:07<03:18, 11.09it/s]"
     ]
    },
    {
     "name": "stdout",
     "output_type": "stream",
     "text": [
      "aliked> vineyard_split_2_frame_1320.png-vineyard_split_2_frame_1305.png: 280 matches @ 11th pair(aliked+lightglue)\n"
     ]
    },
    {
     "name": "stderr",
     "output_type": "stream",
     "text": [
      "  4%|▎         | 83/2277 [00:07<03:17, 11.09it/s]"
     ]
    },
    {
     "name": "stdout",
     "output_type": "stream",
     "text": [
      "aliked> vineyard_split_2_frame_1320.png-vineyard_split_2_frame_1315.png: 1157 matches @ 12th pair(aliked+lightglue)\n"
     ]
    },
    {
     "name": "stderr",
     "output_type": "stream",
     "text": [
      "  4%|▍         | 101/2277 [00:09<03:16, 11.05it/s]"
     ]
    },
    {
     "name": "stdout",
     "output_type": "stream",
     "text": [
      "aliked> vineyard_split_2_frame_1205.png-vineyard_split_2_frame_1200.png: 947 matches @ 13th pair(aliked+lightglue)\n"
     ]
    },
    {
     "name": "stderr",
     "output_type": "stream",
     "text": [
      "  5%|▍         | 105/2277 [00:09<03:17, 11.02it/s]"
     ]
    },
    {
     "name": "stdout",
     "output_type": "stream",
     "text": [
      "aliked> vineyard_split_2_frame_1205.png-vineyard_split_2_frame_1195.png: 499 matches @ 14th pair(aliked+lightglue)\n",
      "aliked> vineyard_split_2_frame_1205.png-vineyard_split_2_frame_1210.png: 1565 matches @ 15th pair(aliked+lightglue)\n"
     ]
    },
    {
     "name": "stderr",
     "output_type": "stream",
     "text": [
      "  5%|▍         | 111/2277 [00:10<03:16, 11.02it/s]"
     ]
    },
    {
     "name": "stdout",
     "output_type": "stream",
     "text": [
      "aliked> vineyard_split_2_frame_1205.png-vineyard_split_2_frame_1215.png: 566 matches @ 16th pair(aliked+lightglue)\n"
     ]
    },
    {
     "name": "stderr",
     "output_type": "stream",
     "text": [
      "  6%|▌         | 135/2277 [00:12<03:15, 10.95it/s]"
     ]
    },
    {
     "name": "stdout",
     "output_type": "stream",
     "text": [
      "aliked> vineyard_split_2_frame_1240.png-vineyard_split_2_frame_1200.png: 185 matches @ 17th pair(aliked+lightglue)\n"
     ]
    },
    {
     "name": "stderr",
     "output_type": "stream",
     "text": [
      "  6%|▋         | 145/2277 [00:13<03:14, 10.99it/s]"
     ]
    },
    {
     "name": "stdout",
     "output_type": "stream",
     "text": [
      "aliked> vineyard_split_2_frame_1240.png-vineyard_split_2_frame_1155.png: 103 matches @ 18th pair(aliked+lightglue)\n"
     ]
    },
    {
     "name": "stderr",
     "output_type": "stream",
     "text": [
      "  7%|▋         | 149/2277 [00:13<03:13, 10.98it/s]"
     ]
    },
    {
     "name": "stdout",
     "output_type": "stream",
     "text": [
      "aliked> vineyard_split_2_frame_1240.png-vineyard_split_2_frame_1250.png: 355 matches @ 19th pair(aliked+lightglue)\n"
     ]
    },
    {
     "name": "stderr",
     "output_type": "stream",
     "text": [
      "  7%|▋         | 155/2277 [00:14<03:13, 10.96it/s]"
     ]
    },
    {
     "name": "stdout",
     "output_type": "stream",
     "text": [
      "aliked> vineyard_split_2_frame_1240.png-vineyard_split_2_frame_1235.png: 1465 matches @ 20th pair(aliked+lightglue)\n",
      "aliked> vineyard_split_2_frame_1240.png-vineyard_split_2_frame_1230.png: 684 matches @ 21th pair(aliked+lightglue)\n"
     ]
    },
    {
     "name": "stderr",
     "output_type": "stream",
     "text": [
      "  9%|▉         | 207/2277 [00:18<03:09, 10.90it/s]"
     ]
    },
    {
     "name": "stdout",
     "output_type": "stream",
     "text": [
      "aliked> vineyard_split_2_frame_1170.png-vineyard_split_2_frame_1180.png: 820 matches @ 22th pair(aliked+lightglue)\n"
     ]
    },
    {
     "name": "stderr",
     "output_type": "stream",
     "text": [
      "  9%|▉         | 211/2277 [00:19<03:09, 10.90it/s]"
     ]
    },
    {
     "name": "stdout",
     "output_type": "stream",
     "text": [
      "aliked> vineyard_split_2_frame_1170.png-vineyard_split_2_frame_1165.png: 1409 matches @ 23th pair(aliked+lightglue)\n",
      "aliked> vineyard_split_2_frame_1170.png-vineyard_split_2_frame_1160.png: 559 matches @ 24th pair(aliked+lightglue)\n"
     ]
    },
    {
     "name": "stderr",
     "output_type": "stream",
     "text": [
      "  9%|▉         | 215/2277 [00:19<03:08, 10.93it/s]"
     ]
    },
    {
     "name": "stdout",
     "output_type": "stream",
     "text": [
      "aliked> vineyard_split_2_frame_1170.png-vineyard_split_2_frame_1175.png: 1747 matches @ 25th pair(aliked+lightglue)\n"
     ]
    },
    {
     "name": "stderr",
     "output_type": "stream",
     "text": [
      " 10%|█         | 237/2277 [00:21<03:07, 10.89it/s]"
     ]
    },
    {
     "name": "stdout",
     "output_type": "stream",
     "text": [
      "aliked> vineyard_split_2_frame_1300.png-vineyard_split_2_frame_1305.png: 1318 matches @ 26th pair(aliked+lightglue)\n"
     ]
    },
    {
     "name": "stderr",
     "output_type": "stream",
     "text": [
      " 11%|█         | 253/2277 [00:23<03:06, 10.87it/s]"
     ]
    },
    {
     "name": "stdout",
     "output_type": "stream",
     "text": [
      "aliked> vineyard_split_2_frame_1300.png-vineyard_split_3_frame_1460.png: 114 matches @ 27th pair(aliked+lightglue)\n"
     ]
    },
    {
     "name": "stderr",
     "output_type": "stream",
     "text": [
      " 12%|█▏        | 263/2277 [00:24<03:04, 10.89it/s]"
     ]
    },
    {
     "name": "stdout",
     "output_type": "stream",
     "text": [
      "aliked> vineyard_split_2_frame_1290.png-vineyard_split_2_frame_1295.png: 1522 matches @ 28th pair(aliked+lightglue)\n",
      "aliked> vineyard_split_2_frame_1290.png-vineyard_split_2_frame_1305.png: 196 matches @ 29th pair(aliked+lightglue)\n"
     ]
    },
    {
     "name": "stderr",
     "output_type": "stream",
     "text": [
      " 12%|█▏        | 269/2277 [00:24<03:04, 10.86it/s]"
     ]
    },
    {
     "name": "stdout",
     "output_type": "stream",
     "text": [
      "aliked> vineyard_split_2_frame_1290.png-vineyard_split_2_frame_1285.png: 887 matches @ 30th pair(aliked+lightglue)\n"
     ]
    },
    {
     "name": "stderr",
     "output_type": "stream",
     "text": [
      " 12%|█▏        | 283/2277 [00:25<03:05, 10.76it/s]"
     ]
    },
    {
     "name": "stdout",
     "output_type": "stream",
     "text": [
      "aliked> vineyard_split_2_frame_1310.png-vineyard_split_2_frame_1305.png: 1446 matches @ 31th pair(aliked+lightglue)\n"
     ]
    },
    {
     "name": "stderr",
     "output_type": "stream",
     "text": [
      " 13%|█▎        | 307/2277 [00:28<03:02, 10.77it/s]"
     ]
    },
    {
     "name": "stdout",
     "output_type": "stream",
     "text": [
      "aliked> vineyard_split_2_frame_1200.png-vineyard_split_2_frame_1155.png: 135 matches @ 32th pair(aliked+lightglue)\n",
      "aliked> vineyard_split_2_frame_1200.png-vineyard_split_2_frame_1195.png: 1347 matches @ 33th pair(aliked+lightglue)\n",
      "aliked> vineyard_split_2_frame_1200.png-vineyard_split_2_frame_1210.png: 572 matches @ 34th pair(aliked+lightglue)\n"
     ]
    },
    {
     "name": "stderr",
     "output_type": "stream",
     "text": [
      " 14%|█▎        | 311/2277 [00:28<03:02, 10.77it/s]"
     ]
    },
    {
     "name": "stdout",
     "output_type": "stream",
     "text": [
      "aliked> vineyard_split_2_frame_1200.png-vineyard_split_2_frame_1185.png: 106 matches @ 35th pair(aliked+lightglue)\n"
     ]
    },
    {
     "name": "stderr",
     "output_type": "stream",
     "text": [
      " 16%|█▌        | 353/2277 [00:32<02:59, 10.74it/s]"
     ]
    },
    {
     "name": "stdout",
     "output_type": "stream",
     "text": [
      "aliked> vineyard_split_2_frame_1180.png-vineyard_split_2_frame_1165.png: 296 matches @ 36th pair(aliked+lightglue)\n"
     ]
    },
    {
     "name": "stderr",
     "output_type": "stream",
     "text": [
      " 16%|█▌        | 357/2277 [00:32<02:59, 10.72it/s]"
     ]
    },
    {
     "name": "stdout",
     "output_type": "stream",
     "text": [
      "aliked> vineyard_split_2_frame_1180.png-vineyard_split_2_frame_1185.png: 623 matches @ 37th pair(aliked+lightglue)\n"
     ]
    },
    {
     "name": "stderr",
     "output_type": "stream",
     "text": [
      " 16%|█▋        | 373/2277 [00:34<02:57, 10.74it/s]"
     ]
    },
    {
     "name": "stdout",
     "output_type": "stream",
     "text": [
      "aliked> vineyard_split_2_frame_1255.png-vineyard_split_2_frame_1250.png: 1201 matches @ 38th pair(aliked+lightglue)\n"
     ]
    },
    {
     "name": "stderr",
     "output_type": "stream",
     "text": [
      " 17%|█▋        | 377/2277 [00:34<02:57, 10.69it/s]"
     ]
    },
    {
     "name": "stdout",
     "output_type": "stream",
     "text": [
      "aliked> vineyard_split_2_frame_1255.png-vineyard_split_2_frame_1265.png: 597 matches @ 39th pair(aliked+lightglue)\n"
     ]
    },
    {
     "name": "stderr",
     "output_type": "stream",
     "text": [
      " 18%|█▊        | 401/2277 [00:36<02:55, 10.69it/s]"
     ]
    },
    {
     "name": "stdout",
     "output_type": "stream",
     "text": [
      "aliked> vineyard_split_2_frame_1220.png-vineyard_split_2_frame_1285.png: 134 matches @ 40th pair(aliked+lightglue)\n"
     ]
    },
    {
     "name": "stderr",
     "output_type": "stream",
     "text": [
      " 18%|█▊        | 405/2277 [00:37<02:55, 10.65it/s]"
     ]
    },
    {
     "name": "stdout",
     "output_type": "stream",
     "text": [
      "aliked> vineyard_split_2_frame_1220.png-vineyard_split_2_frame_1235.png: 153 matches @ 41th pair(aliked+lightglue)\n",
      "aliked> vineyard_split_2_frame_1220.png-vineyard_split_2_frame_1230.png: 426 matches @ 42th pair(aliked+lightglue)\n",
      "aliked> vineyard_split_2_frame_1220.png-vineyard_split_2_frame_1215.png: 864 matches @ 43th pair(aliked+lightglue)\n"
     ]
    },
    {
     "name": "stderr",
     "output_type": "stream",
     "text": [
      " 19%|█▊        | 423/2277 [00:38<02:53, 10.68it/s]"
     ]
    },
    {
     "name": "stdout",
     "output_type": "stream",
     "text": [
      "aliked> vineyard_split_2_frame_1165.png-vineyard_split_2_frame_1160.png: 1355 matches @ 44th pair(aliked+lightglue)\n",
      "aliked> vineyard_split_2_frame_1165.png-vineyard_split_2_frame_1155.png: 578 matches @ 45th pair(aliked+lightglue)\n"
     ]
    },
    {
     "name": "stderr",
     "output_type": "stream",
     "text": [
      " 20%|█▉        | 449/2277 [00:41<02:51, 10.63it/s]"
     ]
    },
    {
     "name": "stdout",
     "output_type": "stream",
     "text": [
      "aliked> vineyard_split_2_frame_1275.png-vineyard_split_2_frame_1280.png: 1474 matches @ 46th pair(aliked+lightglue)\n",
      "aliked> vineyard_split_2_frame_1275.png-vineyard_split_2_frame_1270.png: 756 matches @ 47th pair(aliked+lightglue)\n"
     ]
    },
    {
     "name": "stderr",
     "output_type": "stream",
     "text": [
      " 20%|█▉        | 451/2277 [00:41<02:50, 10.70it/s]"
     ]
    },
    {
     "name": "stdout",
     "output_type": "stream",
     "text": [
      "aliked> vineyard_split_2_frame_1275.png-vineyard_split_2_frame_1285.png: 749 matches @ 48th pair(aliked+lightglue)\n",
      "aliked> vineyard_split_2_frame_1275.png-vineyard_split_2_frame_1265.png: 114 matches @ 49th pair(aliked+lightglue)\n"
     ]
    },
    {
     "name": "stderr",
     "output_type": "stream",
     "text": [
      " 23%|██▎       | 525/2277 [00:48<02:45, 10.58it/s]"
     ]
    },
    {
     "name": "stdout",
     "output_type": "stream",
     "text": [
      "aliked> vineyard_split_2_frame_1160.png-vineyard_split_2_frame_1155.png: 1321 matches @ 50th pair(aliked+lightglue)\n"
     ]
    },
    {
     "name": "stderr",
     "output_type": "stream",
     "text": [
      " 23%|██▎       | 529/2277 [00:48<02:45, 10.57it/s]"
     ]
    },
    {
     "name": "stdout",
     "output_type": "stream",
     "text": [
      "aliked> vineyard_split_2_frame_1160.png-vineyard_split_2_frame_1175.png: 292 matches @ 51th pair(aliked+lightglue)\n"
     ]
    },
    {
     "name": "stderr",
     "output_type": "stream",
     "text": [
      " 24%|██▍       | 549/2277 [00:50<02:44, 10.52it/s]"
     ]
    },
    {
     "name": "stdout",
     "output_type": "stream",
     "text": [
      "aliked> vineyard_split_2_frame_1280.png-vineyard_split_2_frame_1285.png: 1520 matches @ 52th pair(aliked+lightglue)\n"
     ]
    },
    {
     "name": "stderr",
     "output_type": "stream",
     "text": [
      " 25%|██▍       | 567/2277 [00:52<02:42, 10.50it/s]"
     ]
    },
    {
     "name": "stdout",
     "output_type": "stream",
     "text": [
      "aliked> vineyard_split_2_frame_1155.png-vineyard_split_2_frame_1285.png: 102 matches @ 53th pair(aliked+lightglue)\n",
      "aliked> vineyard_split_2_frame_1155.png-vineyard_split_2_frame_1150.png: 1367 matches @ 54th pair(aliked+lightglue)\n"
     ]
    },
    {
     "name": "stderr",
     "output_type": "stream",
     "text": [
      " 26%|██▌       | 581/2277 [00:53<02:41, 10.48it/s]"
     ]
    },
    {
     "name": "stdout",
     "output_type": "stream",
     "text": [
      "aliked> vineyard_split_2_frame_1195.png-vineyard_split_2_frame_1185.png: 870 matches @ 55th pair(aliked+lightglue)\n"
     ]
    },
    {
     "name": "stderr",
     "output_type": "stream",
     "text": [
      " 27%|██▋       | 613/2277 [00:56<02:39, 10.44it/s]"
     ]
    },
    {
     "name": "stdout",
     "output_type": "stream",
     "text": [
      "aliked> vineyard_split_2_frame_1270.png-vineyard_split_2_frame_1265.png: 1130 matches @ 56th pair(aliked+lightglue)\n"
     ]
    },
    {
     "name": "stderr",
     "output_type": "stream",
     "text": [
      " 27%|██▋       | 621/2277 [00:57<02:38, 10.44it/s]"
     ]
    },
    {
     "name": "stdout",
     "output_type": "stream",
     "text": [
      "aliked> vineyard_split_2_frame_1210.png-vineyard_split_2_frame_1215.png: 1255 matches @ 57th pair(aliked+lightglue)\n"
     ]
    },
    {
     "name": "stderr",
     "output_type": "stream",
     "text": [
      " 28%|██▊       | 633/2277 [00:58<02:37, 10.45it/s]"
     ]
    },
    {
     "name": "stdout",
     "output_type": "stream",
     "text": [
      "aliked> vineyard_split_2_frame_1250.png-vineyard_split_2_frame_1265.png: 111 matches @ 58th pair(aliked+lightglue)\n"
     ]
    },
    {
     "name": "stderr",
     "output_type": "stream",
     "text": [
      " 31%|███       | 695/2277 [01:04<02:32, 10.35it/s]"
     ]
    },
    {
     "name": "stdout",
     "output_type": "stream",
     "text": [
      "aliked> vineyard_split_2_frame_1285.png-vineyard_split_2_frame_1150.png: 117 matches @ 59th pair(aliked+lightglue)\n",
      "aliked> vineyard_split_2_frame_1285.png-vineyard_split_2_frame_1230.png: 118 matches @ 60th pair(aliked+lightglue)\n"
     ]
    },
    {
     "name": "stderr",
     "output_type": "stream",
     "text": [
      " 33%|███▎      | 749/2277 [01:10<02:28, 10.26it/s]"
     ]
    },
    {
     "name": "stdout",
     "output_type": "stream",
     "text": [
      "aliked> vineyard_split_2_frame_1150.png-vineyard_split_2_frame_1235.png: 115 matches @ 61th pair(aliked+lightglue)\n"
     ]
    },
    {
     "name": "stderr",
     "output_type": "stream",
     "text": [
      " 34%|███▍      | 779/2277 [01:12<02:25, 10.27it/s]"
     ]
    },
    {
     "name": "stdout",
     "output_type": "stream",
     "text": [
      "aliked> vineyard_split_2_frame_1150.png-vineyard_split_1_frame_0975.png: 114 matches @ 62th pair(aliked+lightglue)\n"
     ]
    },
    {
     "name": "stderr",
     "output_type": "stream",
     "text": [
      " 35%|███▍      | 795/2277 [01:14<02:24, 10.25it/s]"
     ]
    },
    {
     "name": "stdout",
     "output_type": "stream",
     "text": [
      "aliked> vineyard_split_2_frame_1235.png-vineyard_split_2_frame_1230.png: 1345 matches @ 63th pair(aliked+lightglue)\n"
     ]
    },
    {
     "name": "stderr",
     "output_type": "stream",
     "text": [
      " 39%|███▊      | 881/2277 [01:22<02:17, 10.12it/s]"
     ]
    },
    {
     "name": "stdout",
     "output_type": "stream",
     "text": [
      "aliked> vineyard_split_3_frame_1395.png-vineyard_split_3_frame_1390.png: 764 matches @ 64th pair(aliked+lightglue)\n",
      "aliked> vineyard_split_3_frame_1395.png-vineyard_split_3_frame_1405.png: 747 matches @ 65th pair(aliked+lightglue)\n"
     ]
    },
    {
     "name": "stderr",
     "output_type": "stream",
     "text": [
      " 39%|███▉      | 885/2277 [01:23<02:18, 10.04it/s]"
     ]
    },
    {
     "name": "stdout",
     "output_type": "stream",
     "text": [
      "aliked> vineyard_split_3_frame_1395.png-vineyard_split_3_frame_1400.png: 1508 matches @ 66th pair(aliked+lightglue)\n"
     ]
    },
    {
     "name": "stderr",
     "output_type": "stream",
     "text": [
      " 39%|███▉      | 893/2277 [01:24<02:17, 10.09it/s]"
     ]
    },
    {
     "name": "stdout",
     "output_type": "stream",
     "text": [
      "aliked> vineyard_split_3_frame_1395.png-vineyard_split_1_frame_1020.png: 111 matches @ 67th pair(aliked+lightglue)\n"
     ]
    },
    {
     "name": "stderr",
     "output_type": "stream",
     "text": [
      " 40%|███▉      | 907/2277 [01:25<02:16, 10.06it/s]"
     ]
    },
    {
     "name": "stdout",
     "output_type": "stream",
     "text": [
      "aliked> vineyard_split_3_frame_1475.png-vineyard_split_3_frame_1460.png: 296 matches @ 68th pair(aliked+lightglue)\n"
     ]
    },
    {
     "name": "stderr",
     "output_type": "stream",
     "text": [
      " 40%|████      | 913/2277 [01:26<02:16, 10.02it/s]"
     ]
    },
    {
     "name": "stdout",
     "output_type": "stream",
     "text": [
      "aliked> vineyard_split_3_frame_1475.png-vineyard_split_3_frame_1470.png: 1758 matches @ 69th pair(aliked+lightglue)\n"
     ]
    },
    {
     "name": "stderr",
     "output_type": "stream",
     "text": [
      " 41%|████      | 925/2277 [01:27<02:12, 10.19it/s]"
     ]
    },
    {
     "name": "stdout",
     "output_type": "stream",
     "text": [
      "aliked> vineyard_split_3_frame_0255.png-vineyard_split_3_frame_0265.png: 842 matches @ 70th pair(aliked+lightglue)\n"
     ]
    },
    {
     "name": "stderr",
     "output_type": "stream",
     "text": [
      " 41%|████      | 935/2277 [01:28<02:13, 10.07it/s]"
     ]
    },
    {
     "name": "stdout",
     "output_type": "stream",
     "text": [
      "aliked> vineyard_split_3_frame_0255.png-vineyard_split_3_frame_0245.png: 735 matches @ 71th pair(aliked+lightglue)\n"
     ]
    },
    {
     "name": "stderr",
     "output_type": "stream",
     "text": [
      " 41%|████      | 939/2277 [01:28<02:13, 10.05it/s]"
     ]
    },
    {
     "name": "stdout",
     "output_type": "stream",
     "text": [
      "aliked> vineyard_split_3_frame_0255.png-vineyard_split_3_frame_0240.png: 315 matches @ 72th pair(aliked+lightglue)\n"
     ]
    },
    {
     "name": "stderr",
     "output_type": "stream",
     "text": [
      " 41%|████▏     | 941/2277 [01:28<02:12, 10.05it/s]"
     ]
    },
    {
     "name": "stdout",
     "output_type": "stream",
     "text": [
      "aliked> vineyard_split_3_frame_0255.png-vineyard_split_3_frame_0260.png: 1524 matches @ 73th pair(aliked+lightglue)\n"
     ]
    },
    {
     "name": "stderr",
     "output_type": "stream",
     "text": [
      " 42%|████▏     | 951/2277 [01:29<02:11, 10.09it/s]"
     ]
    },
    {
     "name": "stdout",
     "output_type": "stream",
     "text": [
      "aliked> vineyard_split_3_frame_1425.png-vineyard_split_3_frame_1415.png: 409 matches @ 74th pair(aliked+lightglue)\n",
      "aliked> vineyard_split_3_frame_1425.png-vineyard_split_3_frame_1420.png: 899 matches @ 75th pair(aliked+lightglue)\n"
     ]
    },
    {
     "name": "stderr",
     "output_type": "stream",
     "text": [
      " 42%|████▏     | 964/2277 [01:31<02:12,  9.90it/s]"
     ]
    },
    {
     "name": "stdout",
     "output_type": "stream",
     "text": [
      "aliked> vineyard_split_3_frame_0125.png-vineyard_split_3_frame_0140.png: 148 matches @ 76th pair(aliked+lightglue)\n"
     ]
    },
    {
     "name": "stderr",
     "output_type": "stream",
     "text": [
      " 43%|████▎     | 972/2277 [01:32<02:11,  9.89it/s]"
     ]
    },
    {
     "name": "stdout",
     "output_type": "stream",
     "text": [
      "aliked> vineyard_split_3_frame_0125.png-vineyard_split_3_frame_0120.png: 1734 matches @ 77th pair(aliked+lightglue)\n",
      "aliked> vineyard_split_3_frame_0125.png-vineyard_split_3_frame_0105.png: 294 matches @ 78th pair(aliked+lightglue)\n"
     ]
    },
    {
     "name": "stderr",
     "output_type": "stream",
     "text": [
      " 43%|████▎     | 976/2277 [01:32<02:10,  9.94it/s]"
     ]
    },
    {
     "name": "stdout",
     "output_type": "stream",
     "text": [
      "aliked> vineyard_split_3_frame_0125.png-vineyard_split_3_frame_0110.png: 481 matches @ 79th pair(aliked+lightglue)\n"
     ]
    },
    {
     "name": "stderr",
     "output_type": "stream",
     "text": [
      " 43%|████▎     | 980/2277 [01:32<02:10,  9.91it/s]"
     ]
    },
    {
     "name": "stdout",
     "output_type": "stream",
     "text": [
      "aliked> vineyard_split_3_frame_0125.png-vineyard_split_3_frame_0135.png: 647 matches @ 80th pair(aliked+lightglue)\n"
     ]
    },
    {
     "name": "stderr",
     "output_type": "stream",
     "text": [
      " 44%|████▍     | 1002/2277 [01:35<02:09,  9.83it/s]"
     ]
    },
    {
     "name": "stdout",
     "output_type": "stream",
     "text": [
      "aliked> vineyard_split_3_frame_1480.png-vineyard_split_3_frame_1485.png: 1463 matches @ 81th pair(aliked+lightglue)\n",
      "aliked> vineyard_split_3_frame_1480.png-vineyard_split_3_frame_1470.png: 599 matches @ 82th pair(aliked+lightglue)\n"
     ]
    },
    {
     "name": "stderr",
     "output_type": "stream",
     "text": [
      " 44%|████▍     | 1013/2277 [01:36<02:07,  9.88it/s]"
     ]
    },
    {
     "name": "stdout",
     "output_type": "stream",
     "text": [
      "aliked> vineyard_split_3_frame_0215.png-vineyard_split_3_frame_0225.png: 739 matches @ 83th pair(aliked+lightglue)\n"
     ]
    },
    {
     "name": "stderr",
     "output_type": "stream",
     "text": [
      " 45%|████▍     | 1016/2277 [01:36<02:06,  9.94it/s]"
     ]
    },
    {
     "name": "stdout",
     "output_type": "stream",
     "text": [
      "aliked> vineyard_split_3_frame_0215.png-vineyard_split_3_frame_0205.png: 637 matches @ 84th pair(aliked+lightglue)\n"
     ]
    },
    {
     "name": "stderr",
     "output_type": "stream",
     "text": [
      " 45%|████▍     | 1022/2277 [01:37<02:06,  9.91it/s]"
     ]
    },
    {
     "name": "stdout",
     "output_type": "stream",
     "text": [
      "aliked> vineyard_split_3_frame_0215.png-vineyard_split_3_frame_0220.png: 1675 matches @ 85th pair(aliked+lightglue)\n",
      "aliked> vineyard_split_3_frame_0215.png-vineyard_split_3_frame_0200.png: 147 matches @ 86th pair(aliked+lightglue)\n"
     ]
    },
    {
     "name": "stderr",
     "output_type": "stream",
     "text": [
      " 45%|████▌     | 1025/2277 [01:37<02:05,  9.95it/s]"
     ]
    },
    {
     "name": "stdout",
     "output_type": "stream",
     "text": [
      "aliked> vineyard_split_3_frame_0215.png-vineyard_split_3_frame_0230.png: 147 matches @ 87th pair(aliked+lightglue)\n"
     ]
    },
    {
     "name": "stderr",
     "output_type": "stream",
     "text": [
      " 45%|████▌     | 1031/2277 [01:37<02:00, 10.35it/s]"
     ]
    },
    {
     "name": "stdout",
     "output_type": "stream",
     "text": [
      "aliked> vineyard_split_3_frame_0295.png-vineyard_split_3_frame_0285.png: 653 matches @ 88th pair(aliked+lightglue)\n",
      "aliked> vineyard_split_3_frame_0295.png-vineyard_split_3_frame_0305.png: 708 matches @ 89th pair(aliked+lightglue)\n"
     ]
    },
    {
     "name": "stderr",
     "output_type": "stream",
     "text": [
      " 46%|████▌     | 1041/2277 [01:38<01:58, 10.42it/s]"
     ]
    },
    {
     "name": "stdout",
     "output_type": "stream",
     "text": [
      "aliked> vineyard_split_3_frame_0295.png-vineyard_split_3_frame_0300.png: 1039 matches @ 90th pair(aliked+lightglue)\n"
     ]
    },
    {
     "name": "stderr",
     "output_type": "stream",
     "text": [
      " 46%|████▌     | 1047/2277 [01:39<02:01, 10.15it/s]"
     ]
    },
    {
     "name": "stdout",
     "output_type": "stream",
     "text": [
      "aliked> vineyard_split_3_frame_0090.png-vineyard_split_3_frame_0080.png: 694 matches @ 91th pair(aliked+lightglue)\n"
     ]
    },
    {
     "name": "stderr",
     "output_type": "stream",
     "text": [
      " 46%|████▌     | 1051/2277 [01:39<02:01, 10.05it/s]"
     ]
    },
    {
     "name": "stdout",
     "output_type": "stream",
     "text": [
      "aliked> vineyard_split_3_frame_0090.png-vineyard_split_3_frame_0085.png: 1727 matches @ 92th pair(aliked+lightglue)\n",
      "aliked> vineyard_split_3_frame_0090.png-vineyard_split_3_frame_0095.png: 1605 matches @ 93th pair(aliked+lightglue)\n"
     ]
    },
    {
     "name": "stderr",
     "output_type": "stream",
     "text": [
      " 47%|████▋     | 1066/2277 [01:41<02:02,  9.87it/s]"
     ]
    },
    {
     "name": "stdout",
     "output_type": "stream",
     "text": [
      "aliked> vineyard_split_3_frame_0190.png-vineyard_split_3_frame_0195.png: 1391 matches @ 94th pair(aliked+lightglue)\n"
     ]
    },
    {
     "name": "stderr",
     "output_type": "stream",
     "text": [
      " 47%|████▋     | 1072/2277 [01:42<02:01,  9.90it/s]"
     ]
    },
    {
     "name": "stdout",
     "output_type": "stream",
     "text": [
      "aliked> vineyard_split_3_frame_0190.png-vineyard_split_3_frame_0180.png: 460 matches @ 95th pair(aliked+lightglue)\n"
     ]
    },
    {
     "name": "stderr",
     "output_type": "stream",
     "text": [
      " 47%|████▋     | 1079/2277 [01:42<02:00,  9.90it/s]"
     ]
    },
    {
     "name": "stdout",
     "output_type": "stream",
     "text": [
      "aliked> vineyard_split_3_frame_0265.png-vineyard_split_3_frame_0270.png: 1177 matches @ 96th pair(aliked+lightglue)\n"
     ]
    },
    {
     "name": "stderr",
     "output_type": "stream",
     "text": [
      " 47%|████▋     | 1081/2277 [01:42<02:01,  9.87it/s]"
     ]
    },
    {
     "name": "stdout",
     "output_type": "stream",
     "text": [
      "aliked> vineyard_split_3_frame_0265.png-vineyard_split_3_frame_0275.png: 577 matches @ 97th pair(aliked+lightglue)\n"
     ]
    },
    {
     "name": "stderr",
     "output_type": "stream",
     "text": [
      " 48%|████▊     | 1090/2277 [01:43<02:00,  9.86it/s]"
     ]
    },
    {
     "name": "stdout",
     "output_type": "stream",
     "text": [
      "aliked> vineyard_split_3_frame_0265.png-vineyard_split_3_frame_0245.png: 154 matches @ 98th pair(aliked+lightglue)\n"
     ]
    },
    {
     "name": "stderr",
     "output_type": "stream",
     "text": [
      " 48%|████▊     | 1095/2277 [01:44<01:59,  9.93it/s]"
     ]
    },
    {
     "name": "stdout",
     "output_type": "stream",
     "text": [
      "aliked> vineyard_split_3_frame_0265.png-vineyard_split_3_frame_0260.png: 1675 matches @ 99th pair(aliked+lightglue)\n"
     ]
    },
    {
     "name": "stderr",
     "output_type": "stream",
     "text": [
      " 48%|████▊     | 1098/2277 [01:44<01:59,  9.89it/s]"
     ]
    },
    {
     "name": "stdout",
     "output_type": "stream",
     "text": [
      "aliked> vineyard_split_3_frame_1445.png-vineyard_split_3_frame_1450.png: 941 matches @ 100th pair(aliked+lightglue)\n"
     ]
    },
    {
     "name": "stderr",
     "output_type": "stream",
     "text": [
      " 48%|████▊     | 1103/2277 [01:45<01:58,  9.90it/s]"
     ]
    },
    {
     "name": "stdout",
     "output_type": "stream",
     "text": [
      "aliked> vineyard_split_3_frame_1445.png-vineyard_split_3_frame_1440.png: 1334 matches @ 101th pair(aliked+lightglue)\n"
     ]
    },
    {
     "name": "stderr",
     "output_type": "stream",
     "text": [
      " 49%|████▊     | 1106/2277 [01:45<01:58,  9.86it/s]"
     ]
    },
    {
     "name": "stdout",
     "output_type": "stream",
     "text": [
      "aliked> vineyard_split_3_frame_1445.png-vineyard_split_3_frame_1435.png: 231 matches @ 102th pair(aliked+lightglue)\n"
     ]
    },
    {
     "name": "stderr",
     "output_type": "stream",
     "text": [
      " 50%|████▉     | 1131/2277 [01:47<01:56,  9.86it/s]"
     ]
    },
    {
     "name": "stdout",
     "output_type": "stream",
     "text": [
      "aliked> vineyard_split_3_frame_1450.png-vineyard_split_3_frame_1440.png: 300 matches @ 103th pair(aliked+lightglue)\n",
      "aliked> vineyard_split_3_frame_1450.png-vineyard_split_3_frame_1460.png: 348 matches @ 104th pair(aliked+lightglue)\n"
     ]
    },
    {
     "name": "stderr",
     "output_type": "stream",
     "text": [
      " 51%|█████     | 1164/2277 [01:51<01:53,  9.84it/s]"
     ]
    },
    {
     "name": "stdout",
     "output_type": "stream",
     "text": [
      "aliked> vineyard_split_3_frame_1390.png-vineyard_split_3_frame_1400.png: 275 matches @ 105th pair(aliked+lightglue)\n"
     ]
    },
    {
     "name": "stderr",
     "output_type": "stream",
     "text": [
      " 52%|█████▏    | 1191/2277 [01:54<01:50,  9.87it/s]"
     ]
    },
    {
     "name": "stdout",
     "output_type": "stream",
     "text": [
      "aliked> vineyard_split_3_frame_1555.png-vineyard_split_3_frame_1545.png: 613 matches @ 106th pair(aliked+lightglue)\n"
     ]
    },
    {
     "name": "stderr",
     "output_type": "stream",
     "text": [
      " 52%|█████▏    | 1193/2277 [01:54<01:49,  9.89it/s]"
     ]
    },
    {
     "name": "stdout",
     "output_type": "stream",
     "text": [
      "aliked> vineyard_split_3_frame_1555.png-vineyard_split_3_frame_1560.png: 1048 matches @ 107th pair(aliked+lightglue)\n"
     ]
    },
    {
     "name": "stderr",
     "output_type": "stream",
     "text": [
      " 53%|█████▎    | 1204/2277 [01:55<01:49,  9.76it/s]"
     ]
    },
    {
     "name": "stdout",
     "output_type": "stream",
     "text": [
      "aliked> vineyard_split_3_frame_1550.png-vineyard_split_3_frame_1535.png: 411 matches @ 108th pair(aliked+lightglue)\n"
     ]
    },
    {
     "name": "stderr",
     "output_type": "stream",
     "text": [
      " 53%|█████▎    | 1207/2277 [01:55<01:50,  9.72it/s]"
     ]
    },
    {
     "name": "stdout",
     "output_type": "stream",
     "text": [
      "aliked> vineyard_split_3_frame_1550.png-vineyard_split_3_frame_1545.png: 1404 matches @ 109th pair(aliked+lightglue)\n"
     ]
    },
    {
     "name": "stderr",
     "output_type": "stream",
     "text": [
      " 54%|█████▎    | 1223/2277 [01:57<01:48,  9.70it/s]"
     ]
    },
    {
     "name": "stdout",
     "output_type": "stream",
     "text": [
      "aliked> vineyard_split_3_frame_0145.png-vineyard_split_3_frame_0235.png: 106 matches @ 110th pair(aliked+lightglue)\n"
     ]
    },
    {
     "name": "stderr",
     "output_type": "stream",
     "text": [
      " 54%|█████▍    | 1225/2277 [01:57<01:47,  9.74it/s]"
     ]
    },
    {
     "name": "stdout",
     "output_type": "stream",
     "text": [
      "aliked> vineyard_split_3_frame_0145.png-vineyard_split_3_frame_0130.png: 117 matches @ 111th pair(aliked+lightglue)\n"
     ]
    },
    {
     "name": "stderr",
     "output_type": "stream",
     "text": [
      " 54%|█████▍    | 1235/2277 [01:58<01:47,  9.74it/s]"
     ]
    },
    {
     "name": "stdout",
     "output_type": "stream",
     "text": [
      "aliked> vineyard_split_3_frame_1405.png-vineyard_split_3_frame_1410.png: 1307 matches @ 112th pair(aliked+lightglue)\n"
     ]
    },
    {
     "name": "stderr",
     "output_type": "stream",
     "text": [
      " 54%|█████▍    | 1240/2277 [01:59<01:46,  9.70it/s]"
     ]
    },
    {
     "name": "stdout",
     "output_type": "stream",
     "text": [
      "aliked> vineyard_split_3_frame_1405.png-vineyard_split_3_frame_1400.png: 1621 matches @ 113th pair(aliked+lightglue)\n",
      "aliked> vineyard_split_3_frame_1405.png-vineyard_split_3_frame_1415.png: 566 matches @ 114th pair(aliked+lightglue)\n"
     ]
    },
    {
     "name": "stderr",
     "output_type": "stream",
     "text": [
      " 55%|█████▍    | 1242/2277 [01:59<01:46,  9.75it/s]"
     ]
    },
    {
     "name": "stdout",
     "output_type": "stream",
     "text": [
      "aliked> vineyard_split_3_frame_1405.png-vineyard_split_3_frame_1420.png: 187 matches @ 115th pair(aliked+lightglue)\n"
     ]
    },
    {
     "name": "stderr",
     "output_type": "stream",
     "text": [
      " 55%|█████▌    | 1263/2277 [02:01<01:43,  9.83it/s]"
     ]
    },
    {
     "name": "stdout",
     "output_type": "stream",
     "text": [
      "aliked> vineyard_split_3_frame_0070.png-vineyard_split_3_frame_0075.png: 1196 matches @ 116th pair(aliked+lightglue)\n"
     ]
    },
    {
     "name": "stderr",
     "output_type": "stream",
     "text": [
      " 56%|█████▌    | 1266/2277 [02:01<01:43,  9.78it/s]"
     ]
    },
    {
     "name": "stdout",
     "output_type": "stream",
     "text": [
      "aliked> vineyard_split_3_frame_0070.png-vineyard_split_3_frame_0080.png: 757 matches @ 117th pair(aliked+lightglue)\n"
     ]
    },
    {
     "name": "stderr",
     "output_type": "stream",
     "text": [
      " 56%|█████▌    | 1274/2277 [02:02<01:42,  9.75it/s]"
     ]
    },
    {
     "name": "stdout",
     "output_type": "stream",
     "text": [
      "aliked> vineyard_split_3_frame_0070.png-vineyard_split_3_frame_0085.png: 232 matches @ 118th pair(aliked+lightglue)\n"
     ]
    },
    {
     "name": "stderr",
     "output_type": "stream",
     "text": [
      " 56%|█████▋    | 1282/2277 [02:03<01:41,  9.76it/s]"
     ]
    },
    {
     "name": "stdout",
     "output_type": "stream",
     "text": [
      "aliked> vineyard_split_3_frame_1500.png-vineyard_split_3_frame_1490.png: 662 matches @ 119th pair(aliked+lightglue)\n"
     ]
    },
    {
     "name": "stderr",
     "output_type": "stream",
     "text": [
      " 58%|█████▊    | 1322/2277 [02:07<01:38,  9.68it/s]"
     ]
    },
    {
     "name": "stdout",
     "output_type": "stream",
     "text": [
      "aliked> vineyard_split_3_frame_0075.png-vineyard_split_3_frame_0080.png: 1709 matches @ 120th pair(aliked+lightglue)\n"
     ]
    },
    {
     "name": "stderr",
     "output_type": "stream",
     "text": [
      " 58%|█████▊    | 1329/2277 [02:08<01:38,  9.65it/s]"
     ]
    },
    {
     "name": "stdout",
     "output_type": "stream",
     "text": [
      "aliked> vineyard_split_3_frame_0075.png-vineyard_split_3_frame_0085.png: 708 matches @ 121th pair(aliked+lightglue)\n"
     ]
    },
    {
     "name": "stderr",
     "output_type": "stream",
     "text": [
      " 59%|█████▊    | 1335/2277 [02:08<01:37,  9.66it/s]"
     ]
    },
    {
     "name": "stdout",
     "output_type": "stream",
     "text": [
      "aliked> vineyard_split_3_frame_0160.png-vineyard_split_3_frame_0150.png: 607 matches @ 122th pair(aliked+lightglue)\n"
     ]
    },
    {
     "name": "stderr",
     "output_type": "stream",
     "text": [
      " 59%|█████▉    | 1351/2277 [02:10<01:36,  9.61it/s]"
     ]
    },
    {
     "name": "stdout",
     "output_type": "stream",
     "text": [
      "aliked> vineyard_split_3_frame_0160.png-vineyard_split_3_frame_0165.png: 1708 matches @ 123th pair(aliked+lightglue)\n"
     ]
    },
    {
     "name": "stderr",
     "output_type": "stream",
     "text": [
      " 59%|█████▉    | 1354/2277 [02:10<01:35,  9.69it/s]"
     ]
    },
    {
     "name": "stdout",
     "output_type": "stream",
     "text": [
      "aliked> vineyard_split_3_frame_0160.png-vineyard_split_3_frame_0155.png: 1247 matches @ 124th pair(aliked+lightglue)\n"
     ]
    },
    {
     "name": "stderr",
     "output_type": "stream",
     "text": [
      " 60%|█████▉    | 1356/2277 [02:11<01:35,  9.69it/s]"
     ]
    },
    {
     "name": "stdout",
     "output_type": "stream",
     "text": [
      "aliked> vineyard_split_3_frame_0150.png-vineyard_split_3_frame_0140.png: 783 matches @ 125th pair(aliked+lightglue)\n"
     ]
    },
    {
     "name": "stderr",
     "output_type": "stream",
     "text": [
      " 60%|██████    | 1372/2277 [02:12<01:34,  9.53it/s]"
     ]
    },
    {
     "name": "stdout",
     "output_type": "stream",
     "text": [
      "aliked> vineyard_split_3_frame_0150.png-vineyard_split_3_frame_0165.png: 211 matches @ 126th pair(aliked+lightglue)\n"
     ]
    },
    {
     "name": "stderr",
     "output_type": "stream",
     "text": [
      " 60%|██████    | 1376/2277 [02:13<01:34,  9.56it/s]"
     ]
    },
    {
     "name": "stdout",
     "output_type": "stream",
     "text": [
      "aliked> vineyard_split_3_frame_0150.png-vineyard_split_3_frame_0155.png: 1490 matches @ 127th pair(aliked+lightglue)\n"
     ]
    },
    {
     "name": "stderr",
     "output_type": "stream",
     "text": [
      " 61%|██████    | 1393/2277 [02:14<01:31,  9.67it/s]"
     ]
    },
    {
     "name": "stdout",
     "output_type": "stream",
     "text": [
      "aliked> vineyard_split_3_frame_0140.png-vineyard_split_3_frame_0135.png: 1120 matches @ 128th pair(aliked+lightglue)\n"
     ]
    },
    {
     "name": "stderr",
     "output_type": "stream",
     "text": [
      " 62%|██████▏   | 1405/2277 [02:16<01:31,  9.57it/s]"
     ]
    },
    {
     "name": "stdout",
     "output_type": "stream",
     "text": [
      "aliked> vineyard_split_3_frame_0270.png-vineyard_split_3_frame_0285.png: 928 matches @ 129th pair(aliked+lightglue)\n"
     ]
    },
    {
     "name": "stderr",
     "output_type": "stream",
     "text": [
      " 62%|██████▏   | 1407/2277 [02:16<01:31,  9.51it/s]"
     ]
    },
    {
     "name": "stdout",
     "output_type": "stream",
     "text": [
      "aliked> vineyard_split_3_frame_0270.png-vineyard_split_3_frame_0280.png: 1285 matches @ 130th pair(aliked+lightglue)\n",
      "aliked> vineyard_split_3_frame_0270.png-vineyard_split_3_frame_0275.png: 1659 matches @ 131th pair(aliked+lightglue)\n"
     ]
    },
    {
     "name": "stderr",
     "output_type": "stream",
     "text": [
      " 62%|██████▏   | 1419/2277 [02:17<01:29,  9.54it/s]"
     ]
    },
    {
     "name": "stdout",
     "output_type": "stream",
     "text": [
      "aliked> vineyard_split_3_frame_0270.png-vineyard_split_3_frame_0260.png: 590 matches @ 132th pair(aliked+lightglue)\n"
     ]
    },
    {
     "name": "stderr",
     "output_type": "stream",
     "text": [
      " 63%|██████▎   | 1426/2277 [02:18<01:28,  9.57it/s]"
     ]
    },
    {
     "name": "stdout",
     "output_type": "stream",
     "text": [
      "aliked> vineyard_split_3_frame_0170.png-vineyard_split_3_frame_0175.png: 1494 matches @ 133th pair(aliked+lightglue)\n"
     ]
    },
    {
     "name": "stderr",
     "output_type": "stream",
     "text": [
      " 63%|██████▎   | 1432/2277 [02:18<01:28,  9.57it/s]"
     ]
    },
    {
     "name": "stdout",
     "output_type": "stream",
     "text": [
      "aliked> vineyard_split_3_frame_0170.png-vineyard_split_3_frame_0165.png: 1561 matches @ 134th pair(aliked+lightglue)\n"
     ]
    },
    {
     "name": "stderr",
     "output_type": "stream",
     "text": [
      " 63%|██████▎   | 1434/2277 [02:19<01:27,  9.62it/s]"
     ]
    },
    {
     "name": "stdout",
     "output_type": "stream",
     "text": [
      "aliked> vineyard_split_3_frame_0170.png-vineyard_split_3_frame_0180.png: 672 matches @ 135th pair(aliked+lightglue)\n",
      "aliked> vineyard_split_3_frame_0285.png-vineyard_split_3_frame_0280.png: 1994 matches @ 136th pair(aliked+lightglue)\n"
     ]
    },
    {
     "name": "stderr",
     "output_type": "stream",
     "text": [
      " 63%|██████▎   | 1436/2277 [02:19<01:27,  9.66it/s]"
     ]
    },
    {
     "name": "stdout",
     "output_type": "stream",
     "text": [
      "aliked> vineyard_split_3_frame_0285.png-vineyard_split_3_frame_0275.png: 1371 matches @ 137th pair(aliked+lightglue)\n"
     ]
    },
    {
     "name": "stderr",
     "output_type": "stream",
     "text": [
      " 65%|██████▍   | 1478/2277 [02:23<01:23,  9.62it/s]"
     ]
    },
    {
     "name": "stdout",
     "output_type": "stream",
     "text": [
      "aliked> vineyard_split_3_frame_1490.png-vineyard_split_3_frame_1485.png: 993 matches @ 138th pair(aliked+lightglue)\n"
     ]
    },
    {
     "name": "stderr",
     "output_type": "stream",
     "text": [
      " 66%|██████▋   | 1509/2277 [02:26<01:18,  9.72it/s]"
     ]
    },
    {
     "name": "stdout",
     "output_type": "stream",
     "text": [
      "aliked> vineyard_split_3_frame_0280.png-vineyard_split_3_frame_0275.png: 1880 matches @ 139th pair(aliked+lightglue)\n"
     ]
    },
    {
     "name": "stderr",
     "output_type": "stream",
     "text": [
      " 67%|██████▋   | 1531/2277 [02:29<01:16,  9.80it/s]"
     ]
    },
    {
     "name": "stdout",
     "output_type": "stream",
     "text": [
      "aliked> vineyard_split_3_frame_0275.png-vineyard_split_3_frame_0260.png: 292 matches @ 140th pair(aliked+lightglue)\n"
     ]
    },
    {
     "name": "stderr",
     "output_type": "stream",
     "text": [
      " 68%|██████▊   | 1540/2277 [02:30<01:15,  9.70it/s]"
     ]
    },
    {
     "name": "stdout",
     "output_type": "stream",
     "text": [
      "aliked> vineyard_split_3_frame_0225.png-vineyard_split_3_frame_0210.png: 179 matches @ 141th pair(aliked+lightglue)\n"
     ]
    },
    {
     "name": "stderr",
     "output_type": "stream",
     "text": [
      " 68%|██████▊   | 1543/2277 [02:30<01:15,  9.77it/s]"
     ]
    },
    {
     "name": "stdout",
     "output_type": "stream",
     "text": [
      "aliked> vineyard_split_3_frame_0225.png-vineyard_split_3_frame_0220.png: 1250 matches @ 142th pair(aliked+lightglue)\n"
     ]
    },
    {
     "name": "stderr",
     "output_type": "stream",
     "text": [
      " 68%|██████▊   | 1546/2277 [02:30<01:14,  9.79it/s]"
     ]
    },
    {
     "name": "stdout",
     "output_type": "stream",
     "text": [
      "aliked> vineyard_split_3_frame_0225.png-vineyard_split_3_frame_0230.png: 1077 matches @ 143th pair(aliked+lightglue)\n"
     ]
    },
    {
     "name": "stderr",
     "output_type": "stream",
     "text": [
      " 68%|██████▊   | 1555/2277 [02:31<01:14,  9.67it/s]"
     ]
    },
    {
     "name": "stdout",
     "output_type": "stream",
     "text": [
      "aliked> vineyard_split_3_frame_0080.png-vineyard_split_3_frame_0085.png: 1268 matches @ 144th pair(aliked+lightglue)\n",
      "aliked> vineyard_split_3_frame_0080.png-vineyard_split_3_frame_0095.png: 315 matches @ 145th pair(aliked+lightglue)\n"
     ]
    },
    {
     "name": "stderr",
     "output_type": "stream",
     "text": [
      " 69%|██████▊   | 1561/2277 [02:32<01:13,  9.80it/s]"
     ]
    },
    {
     "name": "stdout",
     "output_type": "stream",
     "text": [
      "aliked> vineyard_split_3_frame_0250.png-vineyard_split_3_frame_0235.png: 420 matches @ 146th pair(aliked+lightglue)\n"
     ]
    },
    {
     "name": "stderr",
     "output_type": "stream",
     "text": [
      " 69%|██████▉   | 1568/2277 [02:32<01:13,  9.71it/s]"
     ]
    },
    {
     "name": "stdout",
     "output_type": "stream",
     "text": [
      "aliked> vineyard_split_3_frame_1495.png-vineyard_split_3_frame_1505.png: 415 matches @ 147th pair(aliked+lightglue)\n"
     ]
    },
    {
     "name": "stderr",
     "output_type": "stream",
     "text": [
      " 70%|██████▉   | 1583/2277 [02:34<01:10,  9.88it/s]"
     ]
    },
    {
     "name": "stdout",
     "output_type": "stream",
     "text": [
      "aliked> vineyard_split_3_frame_0120.png-vineyard_split_3_frame_0105.png: 565 matches @ 148th pair(aliked+lightglue)\n"
     ]
    },
    {
     "name": "stderr",
     "output_type": "stream",
     "text": [
      " 70%|██████▉   | 1586/2277 [02:34<01:09,  9.89it/s]"
     ]
    },
    {
     "name": "stdout",
     "output_type": "stream",
     "text": [
      "aliked> vineyard_split_3_frame_0120.png-vineyard_split_3_frame_0110.png: 1006 matches @ 149th pair(aliked+lightglue)\n"
     ]
    },
    {
     "name": "stderr",
     "output_type": "stream",
     "text": [
      " 70%|██████▉   | 1590/2277 [02:35<01:09,  9.87it/s]"
     ]
    },
    {
     "name": "stdout",
     "output_type": "stream",
     "text": [
      "aliked> vineyard_split_3_frame_0120.png-vineyard_split_3_frame_0135.png: 458 matches @ 150th pair(aliked+lightglue)\n"
     ]
    },
    {
     "name": "stderr",
     "output_type": "stream",
     "text": [
      " 70%|███████   | 1599/2277 [02:36<01:09,  9.82it/s]"
     ]
    },
    {
     "name": "stdout",
     "output_type": "stream",
     "text": [
      "aliked> vineyard_split_3_frame_1510.png-vineyard_split_3_frame_1520.png: 884 matches @ 151th pair(aliked+lightglue)\n",
      "aliked> vineyard_split_3_frame_1510.png-vineyard_split_3_frame_1525.png: 116 matches @ 152th pair(aliked+lightglue)\n"
     ]
    },
    {
     "name": "stderr",
     "output_type": "stream",
     "text": [
      " 70%|███████   | 1602/2277 [02:36<01:09,  9.77it/s]"
     ]
    },
    {
     "name": "stdout",
     "output_type": "stream",
     "text": [
      "aliked> vineyard_split_3_frame_1510.png-vineyard_split_3_frame_1515.png: 1915 matches @ 153th pair(aliked+lightglue)\n"
     ]
    },
    {
     "name": "stderr",
     "output_type": "stream",
     "text": [
      " 71%|███████   | 1616/2277 [02:37<01:06,  9.88it/s]"
     ]
    },
    {
     "name": "stdout",
     "output_type": "stream",
     "text": [
      "aliked> vineyard_split_3_frame_0105.png-vineyard_split_3_frame_0110.png: 1952 matches @ 154th pair(aliked+lightglue)\n"
     ]
    },
    {
     "name": "stderr",
     "output_type": "stream",
     "text": [
      " 71%|███████   | 1619/2277 [02:38<01:06,  9.89it/s]"
     ]
    },
    {
     "name": "stdout",
     "output_type": "stream",
     "text": [
      "aliked> vineyard_split_3_frame_0105.png-vineyard_split_3_frame_0100.png: 978 matches @ 155th pair(aliked+lightglue)\n"
     ]
    },
    {
     "name": "stderr",
     "output_type": "stream",
     "text": [
      " 71%|███████▏  | 1623/2277 [02:38<01:05,  9.93it/s]"
     ]
    },
    {
     "name": "stdout",
     "output_type": "stream",
     "text": [
      "aliked> vineyard_split_3_frame_0105.png-vineyard_split_3_frame_0095.png: 296 matches @ 156th pair(aliked+lightglue)\n"
     ]
    },
    {
     "name": "stderr",
     "output_type": "stream",
     "text": [
      " 71%|███████▏  | 1627/2277 [02:38<01:05,  9.88it/s]"
     ]
    },
    {
     "name": "stdout",
     "output_type": "stream",
     "text": [
      "aliked> vineyard_split_3_frame_1535.png-vineyard_split_3_frame_1530.png: 955 matches @ 157th pair(aliked+lightglue)\n"
     ]
    },
    {
     "name": "stderr",
     "output_type": "stream",
     "text": [
      " 72%|███████▏  | 1634/2277 [02:39<01:04,  9.94it/s]"
     ]
    },
    {
     "name": "stdout",
     "output_type": "stream",
     "text": [
      "aliked> vineyard_split_3_frame_1540.png-vineyard_split_3_frame_1545.png: 1659 matches @ 158th pair(aliked+lightglue)\n"
     ]
    },
    {
     "name": "stderr",
     "output_type": "stream",
     "text": [
      " 72%|███████▏  | 1648/2277 [02:41<01:03,  9.91it/s]"
     ]
    },
    {
     "name": "stdout",
     "output_type": "stream",
     "text": [
      "aliked> vineyard_split_3_frame_0205.png-vineyard_split_3_frame_0195.png: 371 matches @ 159th pair(aliked+lightglue)\n",
      "aliked> vineyard_split_3_frame_0205.png-vineyard_split_3_frame_0210.png: 1539 matches @ 160th pair(aliked+lightglue)\n"
     ]
    },
    {
     "name": "stderr",
     "output_type": "stream",
     "text": [
      " 73%|███████▎  | 1653/2277 [02:41<01:02,  9.92it/s]"
     ]
    },
    {
     "name": "stdout",
     "output_type": "stream",
     "text": [
      "aliked> vineyard_split_3_frame_0205.png-vineyard_split_3_frame_0220.png: 312 matches @ 161th pair(aliked+lightglue)\n",
      "aliked> vineyard_split_3_frame_0205.png-vineyard_split_3_frame_0200.png: 1182 matches @ 162th pair(aliked+lightglue)\n"
     ]
    },
    {
     "name": "stderr",
     "output_type": "stream",
     "text": [
      " 73%|███████▎  | 1664/2277 [02:42<01:02,  9.87it/s]"
     ]
    },
    {
     "name": "stdout",
     "output_type": "stream",
     "text": [
      "aliked> vineyard_split_3_frame_1410.png-vineyard_split_3_frame_1415.png: 1510 matches @ 163th pair(aliked+lightglue)\n",
      "aliked> vineyard_split_3_frame_1410.png-vineyard_split_3_frame_1420.png: 669 matches @ 164th pair(aliked+lightglue)\n"
     ]
    },
    {
     "name": "stderr",
     "output_type": "stream",
     "text": [
      " 74%|███████▎  | 1676/2277 [02:43<01:00,  9.90it/s]"
     ]
    },
    {
     "name": "stdout",
     "output_type": "stream",
     "text": [
      "aliked> vineyard_split_3_frame_0305.png-vineyard_split_3_frame_0300.png: 2247 matches @ 165th pair(aliked+lightglue)\n"
     ]
    },
    {
     "name": "stderr",
     "output_type": "stream",
     "text": [
      " 75%|███████▍  | 1701/2277 [02:46<00:58,  9.93it/s]"
     ]
    },
    {
     "name": "stdout",
     "output_type": "stream",
     "text": [
      "aliked> vineyard_split_3_frame_0175.png-vineyard_split_3_frame_0185.png: 424 matches @ 166th pair(aliked+lightglue)\n"
     ]
    },
    {
     "name": "stderr",
     "output_type": "stream",
     "text": [
      " 76%|███████▌  | 1726/2277 [02:48<00:55,  9.90it/s]"
     ]
    },
    {
     "name": "stdout",
     "output_type": "stream",
     "text": [
      "aliked> vineyard_split_3_frame_1520.png-vineyard_split_3_frame_1525.png: 976 matches @ 167th pair(aliked+lightglue)\n"
     ]
    },
    {
     "name": "stderr",
     "output_type": "stream",
     "text": [
      " 76%|███████▌  | 1732/2277 [02:49<00:54,  9.91it/s]"
     ]
    },
    {
     "name": "stdout",
     "output_type": "stream",
     "text": [
      "aliked> vineyard_split_3_frame_1465.png-vineyard_split_3_frame_1460.png: 2000 matches @ 168th pair(aliked+lightglue)\n"
     ]
    },
    {
     "name": "stderr",
     "output_type": "stream",
     "text": [
      " 76%|███████▌  | 1734/2277 [02:49<00:54,  9.89it/s]"
     ]
    },
    {
     "name": "stdout",
     "output_type": "stream",
     "text": [
      "aliked> vineyard_split_3_frame_1465.png-vineyard_split_3_frame_1470.png: 945 matches @ 169th pair(aliked+lightglue)\n"
     ]
    },
    {
     "name": "stderr",
     "output_type": "stream",
     "text": [
      " 77%|███████▋  | 1743/2277 [02:50<00:53,  9.90it/s]"
     ]
    },
    {
     "name": "stdout",
     "output_type": "stream",
     "text": [
      "aliked> vineyard_split_3_frame_1525.png-vineyard_split_3_frame_1530.png: 1385 matches @ 170th pair(aliked+lightglue)\n"
     ]
    },
    {
     "name": "stderr",
     "output_type": "stream",
     "text": [
      " 77%|███████▋  | 1756/2277 [02:51<00:52,  9.97it/s]"
     ]
    },
    {
     "name": "stdout",
     "output_type": "stream",
     "text": [
      "aliked> vineyard_split_3_frame_0110.png-vineyard_split_3_frame_0100.png: 623 matches @ 171th pair(aliked+lightglue)\n"
     ]
    },
    {
     "name": "stderr",
     "output_type": "stream",
     "text": [
      " 77%|███████▋  | 1763/2277 [02:52<00:51,  9.89it/s]"
     ]
    },
    {
     "name": "stdout",
     "output_type": "stream",
     "text": [
      "aliked> vineyard_split_3_frame_0110.png-vineyard_split_3_frame_0115.png: 1690 matches @ 172th pair(aliked+lightglue)\n"
     ]
    },
    {
     "name": "stderr",
     "output_type": "stream",
     "text": [
      " 78%|███████▊  | 1769/2277 [02:53<00:51,  9.92it/s]"
     ]
    },
    {
     "name": "stdout",
     "output_type": "stream",
     "text": [
      "aliked> vineyard_split_3_frame_0195.png-vineyard_split_3_frame_0210.png: 107 matches @ 173th pair(aliked+lightglue)\n"
     ]
    },
    {
     "name": "stderr",
     "output_type": "stream",
     "text": [
      " 78%|███████▊  | 1771/2277 [02:53<00:51,  9.87it/s]"
     ]
    },
    {
     "name": "stdout",
     "output_type": "stream",
     "text": [
      "aliked> vineyard_split_3_frame_0195.png-vineyard_split_3_frame_0200.png: 1302 matches @ 174th pair(aliked+lightglue)\n"
     ]
    },
    {
     "name": "stderr",
     "output_type": "stream",
     "text": [
      " 78%|███████▊  | 1779/2277 [02:54<00:50,  9.93it/s]"
     ]
    },
    {
     "name": "stdout",
     "output_type": "stream",
     "text": [
      "aliked> vineyard_split_3_frame_1570.png-vineyard_split_3_frame_1560.png: 717 matches @ 175th pair(aliked+lightglue)\n"
     ]
    },
    {
     "name": "stderr",
     "output_type": "stream",
     "text": [
      " 78%|███████▊  | 1784/2277 [02:54<00:49,  9.88it/s]"
     ]
    },
    {
     "name": "stdout",
     "output_type": "stream",
     "text": [
      "aliked> vineyard_split_3_frame_1570.png-vineyard_split_3_frame_1565.png: 1521 matches @ 176th pair(aliked+lightglue)\n"
     ]
    },
    {
     "name": "stderr",
     "output_type": "stream",
     "text": [
      " 79%|███████▉  | 1795/2277 [02:55<00:48,  9.87it/s]"
     ]
    },
    {
     "name": "stdout",
     "output_type": "stream",
     "text": [
      "aliked> vineyard_split_3_frame_0210.png-vineyard_split_3_frame_0220.png: 715 matches @ 177th pair(aliked+lightglue)\n",
      "aliked> vineyard_split_3_frame_0210.png-vineyard_split_3_frame_0200.png: 468 matches @ 178th pair(aliked+lightglue)\n"
     ]
    },
    {
     "name": "stderr",
     "output_type": "stream",
     "text": [
      " 79%|███████▉  | 1808/2277 [02:57<00:47,  9.90it/s]"
     ]
    },
    {
     "name": "stdout",
     "output_type": "stream",
     "text": [
      "aliked> vineyard_split_3_frame_0100.png-vineyard_split_3_frame_0085.png: 337 matches @ 179th pair(aliked+lightglue)\n",
      "aliked> vineyard_split_3_frame_0100.png-vineyard_split_3_frame_0095.png: 1423 matches @ 180th pair(aliked+lightglue)\n"
     ]
    },
    {
     "name": "stderr",
     "output_type": "stream",
     "text": [
      " 80%|███████▉  | 1813/2277 [02:57<00:46,  9.91it/s]"
     ]
    },
    {
     "name": "stdout",
     "output_type": "stream",
     "text": [
      "aliked> vineyard_split_3_frame_1560.png-vineyard_split_3_frame_1565.png: 1502 matches @ 181th pair(aliked+lightglue)\n"
     ]
    },
    {
     "name": "stderr",
     "output_type": "stream",
     "text": [
      " 80%|███████▉  | 1820/2277 [02:58<00:45,  9.94it/s]"
     ]
    },
    {
     "name": "stdout",
     "output_type": "stream",
     "text": [
      "aliked> vineyard_split_3_frame_1430.png-vineyard_split_3_frame_1435.png: 1366 matches @ 182th pair(aliked+lightglue)\n"
     ]
    },
    {
     "name": "stderr",
     "output_type": "stream",
     "text": [
      " 80%|████████  | 1830/2277 [02:59<00:45,  9.92it/s]"
     ]
    },
    {
     "name": "stdout",
     "output_type": "stream",
     "text": [
      "aliked> vineyard_split_3_frame_0245.png-vineyard_split_3_frame_0240.png: 1675 matches @ 183th pair(aliked+lightglue)\n",
      "aliked> vineyard_split_3_frame_0245.png-vineyard_split_3_frame_0260.png: 192 matches @ 184th pair(aliked+lightglue)\n"
     ]
    },
    {
     "name": "stderr",
     "output_type": "stream",
     "text": [
      " 81%|████████  | 1834/2277 [02:59<00:44,  9.90it/s]"
     ]
    },
    {
     "name": "stdout",
     "output_type": "stream",
     "text": [
      "aliked> vineyard_split_3_frame_0130.png-vineyard_split_3_frame_0115.png: 361 matches @ 185th pair(aliked+lightglue)\n"
     ]
    },
    {
     "name": "stderr",
     "output_type": "stream",
     "text": [
      " 82%|████████▏ | 1856/2277 [03:02<00:42,  9.89it/s]"
     ]
    },
    {
     "name": "stdout",
     "output_type": "stream",
     "text": [
      "aliked> vineyard_split_3_frame_1440.png-vineyard_split_3_frame_1435.png: 1311 matches @ 186th pair(aliked+lightglue)\n"
     ]
    },
    {
     "name": "stderr",
     "output_type": "stream",
     "text": [
      " 82%|████████▏ | 1864/2277 [03:02<00:41,  9.87it/s]"
     ]
    },
    {
     "name": "stdout",
     "output_type": "stream",
     "text": [
      "aliked> vineyard_split_3_frame_0240.png-vineyard_split_3_frame_0230.png: 814 matches @ 187th pair(aliked+lightglue)\n"
     ]
    },
    {
     "name": "stderr",
     "output_type": "stream",
     "text": [
      " 82%|████████▏ | 1873/2277 [03:03<00:40,  9.95it/s]"
     ]
    },
    {
     "name": "stdout",
     "output_type": "stream",
     "text": [
      "aliked> vineyard_split_3_frame_1460.png-vineyard_split_3_frame_1470.png: 671 matches @ 188th pair(aliked+lightglue)\n"
     ]
    },
    {
     "name": "stderr",
     "output_type": "stream",
     "text": [
      " 83%|████████▎ | 1894/2277 [03:05<00:38,  9.86it/s]"
     ]
    },
    {
     "name": "stdout",
     "output_type": "stream",
     "text": [
      "aliked> vineyard_split_3_frame_0165.png-vineyard_split_3_frame_0155.png: 715 matches @ 189th pair(aliked+lightglue)\n"
     ]
    },
    {
     "name": "stderr",
     "output_type": "stream",
     "text": [
      " 84%|████████▍ | 1916/2277 [03:08<00:36,  9.87it/s]"
     ]
    },
    {
     "name": "stdout",
     "output_type": "stream",
     "text": [
      "aliked> vineyard_split_3_frame_1400.png-vineyard_split_1_frame_1020.png: 105 matches @ 190th pair(aliked+lightglue)\n"
     ]
    },
    {
     "name": "stderr",
     "output_type": "stream",
     "text": [
      " 84%|████████▍ | 1921/2277 [03:08<00:35,  9.91it/s]"
     ]
    },
    {
     "name": "stdout",
     "output_type": "stream",
     "text": [
      "aliked> vineyard_split_3_frame_1415.png-vineyard_split_3_frame_1420.png: 1412 matches @ 191th pair(aliked+lightglue)\n"
     ]
    },
    {
     "name": "stderr",
     "output_type": "stream",
     "text": [
      " 87%|████████▋ | 1976/2277 [03:14<00:30,  9.79it/s]"
     ]
    },
    {
     "name": "stdout",
     "output_type": "stream",
     "text": [
      "aliked> vineyard_split_3_frame_0085.png-vineyard_split_3_frame_0095.png: 893 matches @ 192th pair(aliked+lightglue)\n"
     ]
    },
    {
     "name": "stderr",
     "output_type": "stream",
     "text": [
      " 89%|████████▊ | 2017/2277 [03:18<00:26,  9.83it/s]"
     ]
    },
    {
     "name": "stdout",
     "output_type": "stream",
     "text": [
      "aliked> vineyard_split_1_frame_0950.png-vineyard_split_1_frame_0960.png: 552 matches @ 193th pair(aliked+lightglue)\n"
     ]
    },
    {
     "name": "stderr",
     "output_type": "stream",
     "text": [
      " 89%|████████▉ | 2024/2277 [03:19<00:25,  9.76it/s]"
     ]
    },
    {
     "name": "stdout",
     "output_type": "stream",
     "text": [
      "aliked> vineyard_split_1_frame_1005.png-vineyard_split_1_frame_0995.png: 507 matches @ 194th pair(aliked+lightglue)\n"
     ]
    },
    {
     "name": "stderr",
     "output_type": "stream",
     "text": [
      " 89%|████████▉ | 2035/2277 [03:20<00:24,  9.83it/s]"
     ]
    },
    {
     "name": "stdout",
     "output_type": "stream",
     "text": [
      "aliked> vineyard_split_1_frame_0915.png-vineyard_split_1_frame_0910.png: 1930 matches @ 195th pair(aliked+lightglue)\n",
      "aliked> vineyard_split_1_frame_0915.png-vineyard_split_1_frame_0920.png: 994 matches @ 196th pair(aliked+lightglue)\n"
     ]
    },
    {
     "name": "stderr",
     "output_type": "stream",
     "text": [
      " 90%|████████▉ | 2040/2277 [03:20<00:24,  9.79it/s]"
     ]
    },
    {
     "name": "stdout",
     "output_type": "stream",
     "text": [
      "aliked> vineyard_split_1_frame_0995.png-vineyard_split_1_frame_1085.png: 115 matches @ 197th pair(aliked+lightglue)\n"
     ]
    },
    {
     "name": "stderr",
     "output_type": "stream",
     "text": [
      " 90%|████████▉ | 2045/2277 [03:21<00:23,  9.73it/s]"
     ]
    },
    {
     "name": "stdout",
     "output_type": "stream",
     "text": [
      "aliked> vineyard_split_1_frame_1070.png-vineyard_split_1_frame_1055.png: 151 matches @ 198th pair(aliked+lightglue)\n"
     ]
    },
    {
     "name": "stderr",
     "output_type": "stream",
     "text": [
      " 90%|████████▉ | 2049/2277 [03:21<00:23,  9.81it/s]"
     ]
    },
    {
     "name": "stdout",
     "output_type": "stream",
     "text": [
      "aliked> vineyard_split_1_frame_1070.png-vineyard_split_1_frame_1065.png: 973 matches @ 199th pair(aliked+lightglue)\n",
      "aliked> vineyard_split_1_frame_1070.png-vineyard_split_1_frame_1080.png: 402 matches @ 200th pair(aliked+lightglue)\n"
     ]
    },
    {
     "name": "stderr",
     "output_type": "stream",
     "text": [
      " 90%|█████████ | 2053/2277 [03:22<00:22,  9.81it/s]"
     ]
    },
    {
     "name": "stdout",
     "output_type": "stream",
     "text": [
      "aliked> vineyard_split_1_frame_1070.png-vineyard_split_1_frame_1075.png: 1023 matches @ 201th pair(aliked+lightglue)\n"
     ]
    },
    {
     "name": "stderr",
     "output_type": "stream",
     "text": [
      " 91%|█████████ | 2066/2277 [03:23<00:21,  9.79it/s]"
     ]
    },
    {
     "name": "stdout",
     "output_type": "stream",
     "text": [
      "aliked> vineyard_split_1_frame_1015.png-vineyard_split_1_frame_1020.png: 1554 matches @ 202th pair(aliked+lightglue)\n"
     ]
    },
    {
     "name": "stderr",
     "output_type": "stream",
     "text": [
      " 91%|█████████ | 2069/2277 [03:23<00:21,  9.80it/s]"
     ]
    },
    {
     "name": "stdout",
     "output_type": "stream",
     "text": [
      "aliked> vineyard_split_1_frame_1015.png-vineyard_split_1_frame_1010.png: 991 matches @ 203th pair(aliked+lightglue)\n"
     ]
    },
    {
     "name": "stderr",
     "output_type": "stream",
     "text": [
      " 91%|█████████▏| 2079/2277 [03:24<00:20,  9.79it/s]"
     ]
    },
    {
     "name": "stdout",
     "output_type": "stream",
     "text": [
      "aliked> vineyard_split_1_frame_0990.png-vineyard_split_1_frame_0980.png: 530 matches @ 204th pair(aliked+lightglue)\n"
     ]
    },
    {
     "name": "stderr",
     "output_type": "stream",
     "text": [
      " 91%|█████████▏| 2083/2277 [03:25<00:19,  9.86it/s]"
     ]
    },
    {
     "name": "stdout",
     "output_type": "stream",
     "text": [
      "aliked> vineyard_split_1_frame_0990.png-vineyard_split_1_frame_1000.png: 596 matches @ 205th pair(aliked+lightglue)\n"
     ]
    },
    {
     "name": "stderr",
     "output_type": "stream",
     "text": [
      " 92%|█████████▏| 2089/2277 [03:25<00:19,  9.81it/s]"
     ]
    },
    {
     "name": "stdout",
     "output_type": "stream",
     "text": [
      "aliked> vineyard_split_1_frame_0990.png-vineyard_split_1_frame_0985.png: 1417 matches @ 206th pair(aliked+lightglue)\n"
     ]
    },
    {
     "name": "stderr",
     "output_type": "stream",
     "text": [
      " 92%|█████████▏| 2091/2277 [03:26<00:18,  9.81it/s]"
     ]
    },
    {
     "name": "stdout",
     "output_type": "stream",
     "text": [
      "aliked> vineyard_split_1_frame_0990.png-vineyard_split_1_frame_0975.png: 156 matches @ 207th pair(aliked+lightglue)\n"
     ]
    },
    {
     "name": "stderr",
     "output_type": "stream",
     "text": [
      " 92%|█████████▏| 2097/2277 [03:26<00:18,  9.86it/s]"
     ]
    },
    {
     "name": "stdout",
     "output_type": "stream",
     "text": [
      "aliked> vineyard_split_1_frame_1055.png-vineyard_split_1_frame_1065.png: 553 matches @ 208th pair(aliked+lightglue)\n"
     ]
    },
    {
     "name": "stderr",
     "output_type": "stream",
     "text": [
      " 92%|█████████▏| 2099/2277 [03:26<00:18,  9.83it/s]"
     ]
    },
    {
     "name": "stdout",
     "output_type": "stream",
     "text": [
      "aliked> vineyard_split_1_frame_1055.png-vineyard_split_1_frame_1045.png: 469 matches @ 209th pair(aliked+lightglue)\n"
     ]
    },
    {
     "name": "stderr",
     "output_type": "stream",
     "text": [
      " 92%|█████████▏| 2101/2277 [03:27<00:18,  9.72it/s]"
     ]
    },
    {
     "name": "stdout",
     "output_type": "stream",
     "text": [
      "aliked> vineyard_split_1_frame_1055.png-vineyard_split_1_frame_1040.png: 203 matches @ 210th pair(aliked+lightglue)\n"
     ]
    },
    {
     "name": "stderr",
     "output_type": "stream",
     "text": [
      " 93%|█████████▎| 2113/2277 [03:28<00:16,  9.81it/s]"
     ]
    },
    {
     "name": "stdout",
     "output_type": "stream",
     "text": [
      "aliked> vineyard_split_1_frame_1055.png-vineyard_split_1_frame_1050.png: 1450 matches @ 211th pair(aliked+lightglue)\n"
     ]
    },
    {
     "name": "stderr",
     "output_type": "stream",
     "text": [
      " 93%|█████████▎| 2115/2277 [03:28<00:16,  9.78it/s]"
     ]
    },
    {
     "name": "stdout",
     "output_type": "stream",
     "text": [
      "aliked> vineyard_split_1_frame_0965.png-vineyard_split_1_frame_0960.png: 1055 matches @ 212th pair(aliked+lightglue)\n"
     ]
    },
    {
     "name": "stderr",
     "output_type": "stream",
     "text": [
      " 93%|█████████▎| 2126/2277 [03:29<00:15,  9.75it/s]"
     ]
    },
    {
     "name": "stdout",
     "output_type": "stream",
     "text": [
      "aliked> vineyard_split_1_frame_0935.png-vineyard_split_1_frame_0940.png: 1374 matches @ 213th pair(aliked+lightglue)\n"
     ]
    },
    {
     "name": "stderr",
     "output_type": "stream",
     "text": [
      " 94%|█████████▎| 2131/2277 [03:30<00:14,  9.80it/s]"
     ]
    },
    {
     "name": "stdout",
     "output_type": "stream",
     "text": [
      "aliked> vineyard_split_1_frame_0970.png-vineyard_split_1_frame_0960.png: 368 matches @ 214th pair(aliked+lightglue)\n",
      "aliked> vineyard_split_1_frame_0970.png-vineyard_split_1_frame_0980.png: 848 matches @ 215th pair(aliked+lightglue)\n"
     ]
    },
    {
     "name": "stderr",
     "output_type": "stream",
     "text": [
      " 94%|█████████▍| 2138/2277 [03:30<00:14,  9.72it/s]"
     ]
    },
    {
     "name": "stdout",
     "output_type": "stream",
     "text": [
      "aliked> vineyard_split_1_frame_0970.png-vineyard_split_1_frame_0985.png: 314 matches @ 216th pair(aliked+lightglue)\n"
     ]
    },
    {
     "name": "stderr",
     "output_type": "stream",
     "text": [
      " 94%|█████████▍| 2140/2277 [03:31<00:14,  9.74it/s]"
     ]
    },
    {
     "name": "stdout",
     "output_type": "stream",
     "text": [
      "aliked> vineyard_split_1_frame_0970.png-vineyard_split_1_frame_0975.png: 1483 matches @ 217th pair(aliked+lightglue)\n"
     ]
    },
    {
     "name": "stderr",
     "output_type": "stream",
     "text": [
      " 94%|█████████▍| 2142/2277 [03:31<00:13,  9.81it/s]"
     ]
    },
    {
     "name": "stdout",
     "output_type": "stream",
     "text": [
      "aliked> vineyard_split_1_frame_0960.png-vineyard_split_1_frame_0955.png: 1455 matches @ 218th pair(aliked+lightglue)\n"
     ]
    },
    {
     "name": "stderr",
     "output_type": "stream",
     "text": [
      " 94%|█████████▍| 2150/2277 [03:32<00:12,  9.78it/s]"
     ]
    },
    {
     "name": "stdout",
     "output_type": "stream",
     "text": [
      "aliked> vineyard_split_1_frame_1095.png-vineyard_split_1_frame_1080.png: 103 matches @ 219th pair(aliked+lightglue)\n"
     ]
    },
    {
     "name": "stderr",
     "output_type": "stream",
     "text": [
      " 95%|█████████▍| 2152/2277 [03:32<00:12,  9.72it/s]"
     ]
    },
    {
     "name": "stdout",
     "output_type": "stream",
     "text": [
      "aliked> vineyard_split_1_frame_1095.png-vineyard_split_1_frame_1100.png: 1569 matches @ 220th pair(aliked+lightglue)\n"
     ]
    },
    {
     "name": "stderr",
     "output_type": "stream",
     "text": [
      " 95%|█████████▍| 2156/2277 [03:32<00:12,  9.72it/s]"
     ]
    },
    {
     "name": "stdout",
     "output_type": "stream",
     "text": [
      "aliked> vineyard_split_1_frame_1095.png-vineyard_split_1_frame_1105.png: 1153 matches @ 221th pair(aliked+lightglue)\n"
     ]
    },
    {
     "name": "stderr",
     "output_type": "stream",
     "text": [
      " 95%|█████████▍| 2159/2277 [03:32<00:12,  9.79it/s]"
     ]
    },
    {
     "name": "stdout",
     "output_type": "stream",
     "text": [
      "aliked> vineyard_split_1_frame_0945.png-vineyard_split_1_frame_0955.png: 573 matches @ 222th pair(aliked+lightglue)\n"
     ]
    },
    {
     "name": "stderr",
     "output_type": "stream",
     "text": [
      " 95%|█████████▌| 2164/2277 [03:33<00:11,  9.80it/s]"
     ]
    },
    {
     "name": "stdout",
     "output_type": "stream",
     "text": [
      "aliked> vineyard_split_1_frame_0945.png-vineyard_split_1_frame_0940.png: 1197 matches @ 223th pair(aliked+lightglue)\n"
     ]
    },
    {
     "name": "stderr",
     "output_type": "stream",
     "text": [
      " 95%|█████████▌| 2172/2277 [03:34<00:10,  9.66it/s]"
     ]
    },
    {
     "name": "stdout",
     "output_type": "stream",
     "text": [
      "aliked> vineyard_split_1_frame_0905.png-vineyard_split_1_frame_0900.png: 1166 matches @ 224th pair(aliked+lightglue)\n"
     ]
    },
    {
     "name": "stderr",
     "output_type": "stream",
     "text": [
      " 96%|█████████▌| 2179/2277 [03:35<00:10,  9.74it/s]"
     ]
    },
    {
     "name": "stdout",
     "output_type": "stream",
     "text": [
      "aliked> vineyard_split_1_frame_1085.png-vineyard_split_1_frame_1090.png: 1320 matches @ 225th pair(aliked+lightglue)\n"
     ]
    },
    {
     "name": "stderr",
     "output_type": "stream",
     "text": [
      " 96%|█████████▌| 2188/2277 [03:35<00:09,  9.66it/s]"
     ]
    },
    {
     "name": "stdout",
     "output_type": "stream",
     "text": [
      "aliked> vineyard_split_1_frame_0955.png-vineyard_split_1_frame_0940.png: 133 matches @ 226th pair(aliked+lightglue)\n"
     ]
    },
    {
     "name": "stderr",
     "output_type": "stream",
     "text": [
      " 97%|█████████▋| 2213/2277 [03:38<00:06,  9.73it/s]"
     ]
    },
    {
     "name": "stdout",
     "output_type": "stream",
     "text": [
      "aliked> vineyard_split_1_frame_0980.png-vineyard_split_1_frame_0985.png: 1493 matches @ 227th pair(aliked+lightglue)\n"
     ]
    },
    {
     "name": "stderr",
     "output_type": "stream",
     "text": [
      " 97%|█████████▋| 2215/2277 [03:38<00:06,  9.77it/s]"
     ]
    },
    {
     "name": "stdout",
     "output_type": "stream",
     "text": [
      "aliked> vineyard_split_1_frame_0980.png-vineyard_split_1_frame_0975.png: 1751 matches @ 228th pair(aliked+lightglue)\n"
     ]
    },
    {
     "name": "stderr",
     "output_type": "stream",
     "text": [
      " 97%|█████████▋| 2217/2277 [03:38<00:06,  9.80it/s]"
     ]
    },
    {
     "name": "stdout",
     "output_type": "stream",
     "text": [
      "aliked> vineyard_split_1_frame_1045.png-vineyard_split_1_frame_1040.png: 1376 matches @ 229th pair(aliked+lightglue)\n"
     ]
    },
    {
     "name": "stderr",
     "output_type": "stream",
     "text": [
      " 97%|█████████▋| 2219/2277 [03:39<00:05,  9.78it/s]"
     ]
    },
    {
     "name": "stdout",
     "output_type": "stream",
     "text": [
      "aliked> vineyard_split_1_frame_1045.png-vineyard_split_1_frame_1035.png: 804 matches @ 230th pair(aliked+lightglue)\n"
     ]
    },
    {
     "name": "stderr",
     "output_type": "stream",
     "text": [
      " 98%|█████████▊| 2221/2277 [03:39<00:05,  9.70it/s]"
     ]
    },
    {
     "name": "stdout",
     "output_type": "stream",
     "text": [
      "aliked> vineyard_split_1_frame_1045.png-vineyard_split_1_frame_1050.png: 1018 matches @ 231th pair(aliked+lightglue)\n"
     ]
    },
    {
     "name": "stderr",
     "output_type": "stream",
     "text": [
      " 98%|█████████▊| 2223/2277 [03:39<00:05,  9.72it/s]"
     ]
    },
    {
     "name": "stdout",
     "output_type": "stream",
     "text": [
      "aliked> vineyard_split_1_frame_1080.png-vineyard_split_1_frame_1075.png: 1290 matches @ 232th pair(aliked+lightglue)\n",
      "aliked> vineyard_split_1_frame_1040.png-vineyard_split_1_frame_1035.png: 1528 matches @ 233th pair(aliked+lightglue)\n"
     ]
    },
    {
     "name": "stderr",
     "output_type": "stream",
     "text": [
      " 98%|█████████▊| 2227/2277 [03:39<00:05,  9.75it/s]"
     ]
    },
    {
     "name": "stdout",
     "output_type": "stream",
     "text": [
      "aliked> vineyard_split_1_frame_1040.png-vineyard_split_1_frame_1030.png: 788 matches @ 234th pair(aliked+lightglue)\n",
      "aliked> vineyard_split_1_frame_1040.png-vineyard_split_1_frame_1050.png: 512 matches @ 235th pair(aliked+lightglue)\n"
     ]
    },
    {
     "name": "stderr",
     "output_type": "stream",
     "text": [
      " 98%|█████████▊| 2229/2277 [03:40<00:04,  9.80it/s]"
     ]
    },
    {
     "name": "stdout",
     "output_type": "stream",
     "text": [
      "aliked> vineyard_split_1_frame_1110.png-vineyard_split_1_frame_1100.png: 1383 matches @ 236th pair(aliked+lightglue)\n"
     ]
    },
    {
     "name": "stderr",
     "output_type": "stream",
     "text": [
      " 98%|█████████▊| 2231/2277 [03:40<00:04,  9.79it/s]"
     ]
    },
    {
     "name": "stdout",
     "output_type": "stream",
     "text": [
      "aliked> vineyard_split_1_frame_1110.png-vineyard_split_1_frame_1105.png: 1486 matches @ 237th pair(aliked+lightglue)\n"
     ]
    },
    {
     "name": "stderr",
     "output_type": "stream",
     "text": [
      " 98%|█████████▊| 2237/2277 [03:40<00:04,  9.75it/s]"
     ]
    },
    {
     "name": "stdout",
     "output_type": "stream",
     "text": [
      "aliked> vineyard_split_1_frame_1020.png-vineyard_split_1_frame_0940.png: 108 matches @ 238th pair(aliked+lightglue)\n",
      "aliked> vineyard_split_1_frame_1020.png-vineyard_split_1_frame_1010.png: 462 matches @ 239th pair(aliked+lightglue)\n"
     ]
    },
    {
     "name": "stderr",
     "output_type": "stream",
     "text": [
      " 98%|█████████▊| 2241/2277 [03:41<00:03,  9.76it/s]"
     ]
    },
    {
     "name": "stdout",
     "output_type": "stream",
     "text": [
      "aliked> vineyard_split_1_frame_1020.png-vineyard_split_1_frame_1030.png: 534 matches @ 240th pair(aliked+lightglue)\n"
     ]
    },
    {
     "name": "stderr",
     "output_type": "stream",
     "text": [
      " 99%|█████████▊| 2244/2277 [03:41<00:03,  9.78it/s]"
     ]
    },
    {
     "name": "stdout",
     "output_type": "stream",
     "text": [
      "aliked> vineyard_split_1_frame_1000.png-vineyard_split_1_frame_1010.png: 392 matches @ 241th pair(aliked+lightglue)\n",
      "aliked> vineyard_split_1_frame_1000.png-vineyard_split_1_frame_0985.png: 152 matches @ 242th pair(aliked+lightglue)\n"
     ]
    },
    {
     "name": "stderr",
     "output_type": "stream",
     "text": [
      " 99%|█████████▉| 2250/2277 [03:42<00:02,  9.73it/s]"
     ]
    },
    {
     "name": "stdout",
     "output_type": "stream",
     "text": [
      "aliked> vineyard_split_1_frame_1035.png-vineyard_split_1_frame_1030.png: 1274 matches @ 243th pair(aliked+lightglue)\n"
     ]
    },
    {
     "name": "stderr",
     "output_type": "stream",
     "text": [
      " 99%|█████████▉| 2254/2277 [03:42<00:02,  9.79it/s]"
     ]
    },
    {
     "name": "stdout",
     "output_type": "stream",
     "text": [
      "aliked> vineyard_split_1_frame_1100.png-vineyard_split_1_frame_1105.png: 1855 matches @ 244th pair(aliked+lightglue)\n"
     ]
    },
    {
     "name": "stderr",
     "output_type": "stream",
     "text": [
      " 99%|█████████▉| 2259/2277 [03:43<00:01,  9.86it/s]"
     ]
    },
    {
     "name": "stdout",
     "output_type": "stream",
     "text": [
      "aliked> vineyard_split_1_frame_0940.png-vineyard_split_1_frame_0925.png: 332 matches @ 245th pair(aliked+lightglue)\n"
     ]
    },
    {
     "name": "stderr",
     "output_type": "stream",
     "text": [
      "100%|█████████▉| 2267/2277 [03:44<00:01,  9.89it/s]"
     ]
    },
    {
     "name": "stdout",
     "output_type": "stream",
     "text": [
      "aliked> vineyard_split_1_frame_0925.png-vineyard_split_1_frame_0930.png: 1532 matches @ 246th pair(aliked+lightglue)\n",
      "aliked> vineyard_split_1_frame_0925.png-vineyard_split_1_frame_0920.png: 1227 matches @ 247th pair(aliked+lightglue)\n"
     ]
    },
    {
     "name": "stderr",
     "output_type": "stream",
     "text": [
      "100%|█████████▉| 2270/2277 [03:44<00:00,  9.89it/s]"
     ]
    },
    {
     "name": "stdout",
     "output_type": "stream",
     "text": [
      "aliked> vineyard_split_1_frame_0985.png-vineyard_split_1_frame_0975.png: 974 matches @ 248th pair(aliked+lightglue)\n"
     ]
    },
    {
     "name": "stderr",
     "output_type": "stream",
     "text": [
      "100%|█████████▉| 2273/2277 [03:44<00:00,  9.79it/s]"
     ]
    },
    {
     "name": "stdout",
     "output_type": "stream",
     "text": [
      "aliked> vineyard_split_1_frame_1030.png-vineyard_split_1_frame_1025.png: 1714 matches @ 249th pair(aliked+lightglue)\n"
     ]
    },
    {
     "name": "stderr",
     "output_type": "stream",
     "text": [
      "100%|██████████| 2277/2277 [03:45<00:00, 10.12it/s]\n"
     ]
    },
    {
     "name": "stdout",
     "output_type": "stream",
     "text": [
      "Features matched in  233.8618 sec (aliked+LightGlue)\n",
      "superpoint > rot_k=0, kpts.shape=torch.Size([184, 2]), descs.shape=torch.Size([184, 256])\n",
      "superpoint > rot_k=0, kpts.shape=torch.Size([178, 2]), descs.shape=torch.Size([178, 256])\n",
      "superpoint > rot_k=0, kpts.shape=torch.Size([250, 2]), descs.shape=torch.Size([250, 256])\n",
      "superpoint > rot_k=0, kpts.shape=torch.Size([285, 2]), descs.shape=torch.Size([285, 256])\n",
      "superpoint > rot_k=0, kpts.shape=torch.Size([293, 2]), descs.shape=torch.Size([293, 256])\n",
      "superpoint > rot_k=0, kpts.shape=torch.Size([260, 2]), descs.shape=torch.Size([260, 256])\n",
      "superpoint > rot_k=0, kpts.shape=torch.Size([235, 2]), descs.shape=torch.Size([235, 256])\n",
      "superpoint > rot_k=0, kpts.shape=torch.Size([259, 2]), descs.shape=torch.Size([259, 256])\n",
      "superpoint > rot_k=0, kpts.shape=torch.Size([288, 2]), descs.shape=torch.Size([288, 256])\n",
      "superpoint > rot_k=0, kpts.shape=torch.Size([270, 2]), descs.shape=torch.Size([270, 256])\n",
      "superpoint > rot_k=0, kpts.shape=torch.Size([283, 2]), descs.shape=torch.Size([283, 256])\n",
      "superpoint > rot_k=0, kpts.shape=torch.Size([248, 2]), descs.shape=torch.Size([248, 256])\n",
      "superpoint > rot_k=0, kpts.shape=torch.Size([320, 2]), descs.shape=torch.Size([320, 256])\n",
      "superpoint > rot_k=0, kpts.shape=torch.Size([209, 2]), descs.shape=torch.Size([209, 256])\n",
      "superpoint > rot_k=0, kpts.shape=torch.Size([161, 2]), descs.shape=torch.Size([161, 256])\n",
      "superpoint > rot_k=0, kpts.shape=torch.Size([238, 2]), descs.shape=torch.Size([238, 256])\n",
      "superpoint > rot_k=0, kpts.shape=torch.Size([218, 2]), descs.shape=torch.Size([218, 256])\n",
      "superpoint > rot_k=0, kpts.shape=torch.Size([270, 2]), descs.shape=torch.Size([270, 256])\n",
      "superpoint > rot_k=0, kpts.shape=torch.Size([233, 2]), descs.shape=torch.Size([233, 256])\n",
      "superpoint > rot_k=0, kpts.shape=torch.Size([252, 2]), descs.shape=torch.Size([252, 256])\n",
      "superpoint > rot_k=0, kpts.shape=torch.Size([226, 2]), descs.shape=torch.Size([226, 256])\n",
      "superpoint > rot_k=0, kpts.shape=torch.Size([279, 2]), descs.shape=torch.Size([279, 256])\n",
      "superpoint > rot_k=0, kpts.shape=torch.Size([293, 2]), descs.shape=torch.Size([293, 256])\n",
      "superpoint > rot_k=0, kpts.shape=torch.Size([168, 2]), descs.shape=torch.Size([168, 256])\n",
      "superpoint > rot_k=0, kpts.shape=torch.Size([236, 2]), descs.shape=torch.Size([236, 256])\n",
      "superpoint > rot_k=0, kpts.shape=torch.Size([205, 2]), descs.shape=torch.Size([205, 256])\n",
      "superpoint > rot_k=0, kpts.shape=torch.Size([299, 2]), descs.shape=torch.Size([299, 256])\n",
      "superpoint > rot_k=0, kpts.shape=torch.Size([246, 2]), descs.shape=torch.Size([246, 256])\n",
      "superpoint > rot_k=0, kpts.shape=torch.Size([193, 2]), descs.shape=torch.Size([193, 256])\n",
      "superpoint > rot_k=0, kpts.shape=torch.Size([279, 2]), descs.shape=torch.Size([279, 256])\n",
      "superpoint > rot_k=0, kpts.shape=torch.Size([262, 2]), descs.shape=torch.Size([262, 256])\n",
      "superpoint > rot_k=0, kpts.shape=torch.Size([235, 2]), descs.shape=torch.Size([235, 256])\n",
      "superpoint > rot_k=0, kpts.shape=torch.Size([291, 2]), descs.shape=torch.Size([291, 256])\n",
      "superpoint > rot_k=0, kpts.shape=torch.Size([263, 2]), descs.shape=torch.Size([263, 256])\n",
      "superpoint > rot_k=0, kpts.shape=torch.Size([221, 2]), descs.shape=torch.Size([221, 256])\n",
      "superpoint > rot_k=0, kpts.shape=torch.Size([299, 2]), descs.shape=torch.Size([299, 256])\n",
      "superpoint > rot_k=0, kpts.shape=torch.Size([370, 2]), descs.shape=torch.Size([370, 256])\n",
      "superpoint > rot_k=0, kpts.shape=torch.Size([341, 2]), descs.shape=torch.Size([341, 256])\n",
      "superpoint > rot_k=0, kpts.shape=torch.Size([242, 2]), descs.shape=torch.Size([242, 256])\n",
      "superpoint > rot_k=0, kpts.shape=torch.Size([299, 2]), descs.shape=torch.Size([299, 256])\n",
      "superpoint > rot_k=0, kpts.shape=torch.Size([328, 2]), descs.shape=torch.Size([328, 256])\n",
      "superpoint > rot_k=0, kpts.shape=torch.Size([359, 2]), descs.shape=torch.Size([359, 256])\n",
      "superpoint > rot_k=0, kpts.shape=torch.Size([404, 2]), descs.shape=torch.Size([404, 256])\n",
      "superpoint > rot_k=0, kpts.shape=torch.Size([358, 2]), descs.shape=torch.Size([358, 256])\n",
      "superpoint > rot_k=0, kpts.shape=torch.Size([317, 2]), descs.shape=torch.Size([317, 256])\n",
      "superpoint > rot_k=0, kpts.shape=torch.Size([355, 2]), descs.shape=torch.Size([355, 256])\n",
      "superpoint > rot_k=0, kpts.shape=torch.Size([228, 2]), descs.shape=torch.Size([228, 256])\n",
      "superpoint > rot_k=0, kpts.shape=torch.Size([349, 2]), descs.shape=torch.Size([349, 256])\n",
      "superpoint > rot_k=0, kpts.shape=torch.Size([260, 2]), descs.shape=torch.Size([260, 256])\n",
      "superpoint > rot_k=0, kpts.shape=torch.Size([273, 2]), descs.shape=torch.Size([273, 256])\n",
      "superpoint > rot_k=0, kpts.shape=torch.Size([209, 2]), descs.shape=torch.Size([209, 256])\n",
      "superpoint > rot_k=0, kpts.shape=torch.Size([200, 2]), descs.shape=torch.Size([200, 256])\n",
      "superpoint > rot_k=0, kpts.shape=torch.Size([348, 2]), descs.shape=torch.Size([348, 256])\n",
      "superpoint > rot_k=0, kpts.shape=torch.Size([294, 2]), descs.shape=torch.Size([294, 256])\n",
      "superpoint > rot_k=0, kpts.shape=torch.Size([310, 2]), descs.shape=torch.Size([310, 256])\n",
      "superpoint > rot_k=0, kpts.shape=torch.Size([275, 2]), descs.shape=torch.Size([275, 256])\n",
      "superpoint > rot_k=0, kpts.shape=torch.Size([222, 2]), descs.shape=torch.Size([222, 256])\n",
      "superpoint > rot_k=0, kpts.shape=torch.Size([334, 2]), descs.shape=torch.Size([334, 256])\n",
      "superpoint > rot_k=0, kpts.shape=torch.Size([329, 2]), descs.shape=torch.Size([329, 256])\n",
      "superpoint > rot_k=0, kpts.shape=torch.Size([331, 2]), descs.shape=torch.Size([331, 256])\n",
      "superpoint > rot_k=0, kpts.shape=torch.Size([304, 2]), descs.shape=torch.Size([304, 256])\n",
      "superpoint > rot_k=0, kpts.shape=torch.Size([381, 2]), descs.shape=torch.Size([381, 256])\n",
      "superpoint > rot_k=0, kpts.shape=torch.Size([307, 2]), descs.shape=torch.Size([307, 256])\n",
      "superpoint > rot_k=0, kpts.shape=torch.Size([358, 2]), descs.shape=torch.Size([358, 256])\n",
      "superpoint > rot_k=0, kpts.shape=torch.Size([296, 2]), descs.shape=torch.Size([296, 256])\n",
      "superpoint > rot_k=0, kpts.shape=torch.Size([366, 2]), descs.shape=torch.Size([366, 256])\n",
      "superpoint > rot_k=0, kpts.shape=torch.Size([387, 2]), descs.shape=torch.Size([387, 256])\n",
      "superpoint > rot_k=0, kpts.shape=torch.Size([339, 2]), descs.shape=torch.Size([339, 256])\n",
      "superpoint > rot_k=0, kpts.shape=torch.Size([378, 2]), descs.shape=torch.Size([378, 256])\n",
      "superpoint > rot_k=0, kpts.shape=torch.Size([300, 2]), descs.shape=torch.Size([300, 256])\n",
      "superpoint > rot_k=0, kpts.shape=torch.Size([252, 2]), descs.shape=torch.Size([252, 256])\n",
      "superpoint > rot_k=0, kpts.shape=torch.Size([354, 2]), descs.shape=torch.Size([354, 256])\n",
      "superpoint > rot_k=0, kpts.shape=torch.Size([313, 2]), descs.shape=torch.Size([313, 256])\n",
      "superpoint > rot_k=0, kpts.shape=torch.Size([313, 2]), descs.shape=torch.Size([313, 256])\n",
      "superpoint > rot_k=0, kpts.shape=torch.Size([200, 2]), descs.shape=torch.Size([200, 256])\n",
      "superpoint > rot_k=0, kpts.shape=torch.Size([170, 2]), descs.shape=torch.Size([170, 256])\n",
      "superpoint > rot_k=0, kpts.shape=torch.Size([337, 2]), descs.shape=torch.Size([337, 256])\n",
      "superpoint > rot_k=0, kpts.shape=torch.Size([268, 2]), descs.shape=torch.Size([268, 256])\n",
      "superpoint > rot_k=0, kpts.shape=torch.Size([415, 2]), descs.shape=torch.Size([415, 256])\n",
      "superpoint > rot_k=0, kpts.shape=torch.Size([331, 2]), descs.shape=torch.Size([331, 256])\n",
      "superpoint > rot_k=0, kpts.shape=torch.Size([275, 2]), descs.shape=torch.Size([275, 256])\n",
      "superpoint > rot_k=0, kpts.shape=torch.Size([334, 2]), descs.shape=torch.Size([334, 256])\n",
      "superpoint > rot_k=0, kpts.shape=torch.Size([198, 2]), descs.shape=torch.Size([198, 256])\n",
      "superpoint > rot_k=0, kpts.shape=torch.Size([332, 2]), descs.shape=torch.Size([332, 256])\n",
      "superpoint > rot_k=0, kpts.shape=torch.Size([238, 2]), descs.shape=torch.Size([238, 256])\n",
      "superpoint > rot_k=0, kpts.shape=torch.Size([259, 2]), descs.shape=torch.Size([259, 256])\n",
      "superpoint > rot_k=0, kpts.shape=torch.Size([301, 2]), descs.shape=torch.Size([301, 256])\n",
      "superpoint > rot_k=0, kpts.shape=torch.Size([305, 2]), descs.shape=torch.Size([305, 256])\n",
      "superpoint > rot_k=0, kpts.shape=torch.Size([236, 2]), descs.shape=torch.Size([236, 256])\n",
      "superpoint > rot_k=0, kpts.shape=torch.Size([330, 2]), descs.shape=torch.Size([330, 256])\n",
      "superpoint > rot_k=0, kpts.shape=torch.Size([352, 2]), descs.shape=torch.Size([352, 256])\n",
      "superpoint > rot_k=0, kpts.shape=torch.Size([243, 2]), descs.shape=torch.Size([243, 256])\n",
      "superpoint > rot_k=0, kpts.shape=torch.Size([212, 2]), descs.shape=torch.Size([212, 256])\n",
      "superpoint > rot_k=0, kpts.shape=torch.Size([314, 2]), descs.shape=torch.Size([314, 256])\n",
      "superpoint > rot_k=0, kpts.shape=torch.Size([373, 2]), descs.shape=torch.Size([373, 256])\n",
      "superpoint > rot_k=0, kpts.shape=torch.Size([390, 2]), descs.shape=torch.Size([390, 256])\n",
      "superpoint > rot_k=0, kpts.shape=torch.Size([400, 2]), descs.shape=torch.Size([400, 256])\n",
      "superpoint > rot_k=0, kpts.shape=torch.Size([293, 2]), descs.shape=torch.Size([293, 256])\n",
      "superpoint > rot_k=0, kpts.shape=torch.Size([207, 2]), descs.shape=torch.Size([207, 256])\n",
      "superpoint > rot_k=0, kpts.shape=torch.Size([300, 2]), descs.shape=torch.Size([300, 256])\n",
      "superpoint > rot_k=0, kpts.shape=torch.Size([239, 2]), descs.shape=torch.Size([239, 256])\n",
      "superpoint > rot_k=0, kpts.shape=torch.Size([406, 2]), descs.shape=torch.Size([406, 256])\n",
      "superpoint > rot_k=0, kpts.shape=torch.Size([344, 2]), descs.shape=torch.Size([344, 256])\n",
      "superpoint > rot_k=0, kpts.shape=torch.Size([358, 2]), descs.shape=torch.Size([358, 256])\n",
      "superpoint > rot_k=0, kpts.shape=torch.Size([313, 2]), descs.shape=torch.Size([313, 256])\n",
      "superpoint > rot_k=0, kpts.shape=torch.Size([301, 2]), descs.shape=torch.Size([301, 256])\n",
      "superpoint > rot_k=0, kpts.shape=torch.Size([285, 2]), descs.shape=torch.Size([285, 256])\n",
      "superpoint > rot_k=0, kpts.shape=torch.Size([221, 2]), descs.shape=torch.Size([221, 256])\n",
      "superpoint > rot_k=0, kpts.shape=torch.Size([374, 2]), descs.shape=torch.Size([374, 256])\n",
      "superpoint > rot_k=0, kpts.shape=torch.Size([335, 2]), descs.shape=torch.Size([335, 256])\n",
      "superpoint > rot_k=0, kpts.shape=torch.Size([263, 2]), descs.shape=torch.Size([263, 256])\n",
      "superpoint > rot_k=0, kpts.shape=torch.Size([462, 2]), descs.shape=torch.Size([462, 256])\n",
      "superpoint > rot_k=0, kpts.shape=torch.Size([307, 2]), descs.shape=torch.Size([307, 256])\n",
      "superpoint > rot_k=0, kpts.shape=torch.Size([344, 2]), descs.shape=torch.Size([344, 256])\n",
      "superpoint > rot_k=0, kpts.shape=torch.Size([337, 2]), descs.shape=torch.Size([337, 256])\n",
      "superpoint > rot_k=0, kpts.shape=torch.Size([345, 2]), descs.shape=torch.Size([345, 256])\n",
      "superpoint > rot_k=0, kpts.shape=torch.Size([312, 2]), descs.shape=torch.Size([312, 256])\n",
      "superpoint > rot_k=0, kpts.shape=torch.Size([220, 2]), descs.shape=torch.Size([220, 256])\n",
      "superpoint > rot_k=0, kpts.shape=torch.Size([289, 2]), descs.shape=torch.Size([289, 256])\n",
      "superpoint > rot_k=0, kpts.shape=torch.Size([240, 2]), descs.shape=torch.Size([240, 256])\n",
      "superpoint > rot_k=0, kpts.shape=torch.Size([266, 2]), descs.shape=torch.Size([266, 256])\n",
      "superpoint > rot_k=0, kpts.shape=torch.Size([256, 2]), descs.shape=torch.Size([256, 256])\n",
      "superpoint > rot_k=0, kpts.shape=torch.Size([239, 2]), descs.shape=torch.Size([239, 256])\n",
      "superpoint > rot_k=0, kpts.shape=torch.Size([310, 2]), descs.shape=torch.Size([310, 256])\n",
      "superpoint > rot_k=0, kpts.shape=torch.Size([289, 2]), descs.shape=torch.Size([289, 256])\n",
      "superpoint > rot_k=0, kpts.shape=torch.Size([306, 2]), descs.shape=torch.Size([306, 256])\n",
      "superpoint > rot_k=0, kpts.shape=torch.Size([343, 2]), descs.shape=torch.Size([343, 256])\n",
      "superpoint > rot_k=0, kpts.shape=torch.Size([260, 2]), descs.shape=torch.Size([260, 256])\n",
      "superpoint > rot_k=0, kpts.shape=torch.Size([258, 2]), descs.shape=torch.Size([258, 256])\n",
      "superpoint > rot_k=0, kpts.shape=torch.Size([282, 2]), descs.shape=torch.Size([282, 256])\n",
      "superpoint > rot_k=0, kpts.shape=torch.Size([277, 2]), descs.shape=torch.Size([277, 256])\n",
      "superpoint > rot_k=0, kpts.shape=torch.Size([238, 2]), descs.shape=torch.Size([238, 256])\n",
      "superpoint > rot_k=0, kpts.shape=torch.Size([283, 2]), descs.shape=torch.Size([283, 256])\n",
      "superpoint > rot_k=0, kpts.shape=torch.Size([256, 2]), descs.shape=torch.Size([256, 256])\n",
      "superpoint > rot_k=0, kpts.shape=torch.Size([245, 2]), descs.shape=torch.Size([245, 256])\n",
      "superpoint > rot_k=0, kpts.shape=torch.Size([225, 2]), descs.shape=torch.Size([225, 256])\n",
      "superpoint > rot_k=0, kpts.shape=torch.Size([288, 2]), descs.shape=torch.Size([288, 256])\n",
      "superpoint > rot_k=0, kpts.shape=torch.Size([326, 2]), descs.shape=torch.Size([326, 256])\n",
      "superpoint > rot_k=0, kpts.shape=torch.Size([329, 2]), descs.shape=torch.Size([329, 256])\n",
      "superpoint > rot_k=0, kpts.shape=torch.Size([320, 2]), descs.shape=torch.Size([320, 256])\n",
      "superpoint > rot_k=0, kpts.shape=torch.Size([207, 2]), descs.shape=torch.Size([207, 256])\n",
      "superpoint > rot_k=0, kpts.shape=torch.Size([314, 2]), descs.shape=torch.Size([314, 256])\n",
      "superpoint > rot_k=0, kpts.shape=torch.Size([226, 2]), descs.shape=torch.Size([226, 256])\n",
      "superpoint > rot_k=0, kpts.shape=torch.Size([310, 2]), descs.shape=torch.Size([310, 256])\n",
      "superpoint > rot_k=0, kpts.shape=torch.Size([290, 2]), descs.shape=torch.Size([290, 256])\n",
      "superpoint > rot_k=0, kpts.shape=torch.Size([368, 2]), descs.shape=torch.Size([368, 256])\n",
      "superpoint > rot_k=0, kpts.shape=torch.Size([238, 2]), descs.shape=torch.Size([238, 256])\n",
      "superpoint > rot_k=0, kpts.shape=torch.Size([326, 2]), descs.shape=torch.Size([326, 256])\n",
      "superpoint > rot_k=0, kpts.shape=torch.Size([231, 2]), descs.shape=torch.Size([231, 256])\n",
      "superpoint > rot_k=0, kpts.shape=torch.Size([218, 2]), descs.shape=torch.Size([218, 256])\n",
      "superpoint > rot_k=0, kpts.shape=torch.Size([271, 2]), descs.shape=torch.Size([271, 256])\n",
      "superpoint > rot_k=0, kpts.shape=torch.Size([295, 2]), descs.shape=torch.Size([295, 256])\n",
      "superpoint > rot_k=0, kpts.shape=torch.Size([332, 2]), descs.shape=torch.Size([332, 256])\n",
      "superpoint > rot_k=0, kpts.shape=torch.Size([294, 2]), descs.shape=torch.Size([294, 256])\n",
      "superpoint > rot_k=0, kpts.shape=torch.Size([293, 2]), descs.shape=torch.Size([293, 256])\n",
      "superpoint > rot_k=0, kpts.shape=torch.Size([315, 2]), descs.shape=torch.Size([315, 256])\n",
      "superpoint > rot_k=0, kpts.shape=torch.Size([289, 2]), descs.shape=torch.Size([289, 256])\n",
      "superpoint > rot_k=0, kpts.shape=torch.Size([280, 2]), descs.shape=torch.Size([280, 256])\n",
      "superpoint > rot_k=0, kpts.shape=torch.Size([283, 2]), descs.shape=torch.Size([283, 256])\n",
      "superpoint > rot_k=0, kpts.shape=torch.Size([285, 2]), descs.shape=torch.Size([285, 256])\n",
      "superpoint > rot_k=0, kpts.shape=torch.Size([283, 2]), descs.shape=torch.Size([283, 256])\n",
      "superpoint > rot_k=0, kpts.shape=torch.Size([229, 2]), descs.shape=torch.Size([229, 256])\n",
      "superpoint > rot_k=0, kpts.shape=torch.Size([330, 2]), descs.shape=torch.Size([330, 256])\n",
      "Loaded LightGlue model\n"
     ]
    },
    {
     "name": "stderr",
     "output_type": "stream",
     "text": [
      "  1%|▏         | 33/2277 [00:00<00:55, 40.32it/s]"
     ]
    },
    {
     "name": "stdout",
     "output_type": "stream",
     "text": [
      "superpoint> vineyard_split_2_frame_1225.png-vineyard_split_2_frame_1220.png: 53 matches @ 1th pair(superpoint+lightglue)\n"
     ]
    },
    {
     "name": "stderr",
     "output_type": "stream",
     "text": [
      "  2%|▏         | 53/2277 [00:01<00:53, 41.22it/s]"
     ]
    },
    {
     "name": "stdout",
     "output_type": "stream",
     "text": [
      "superpoint> vineyard_split_2_frame_1245.png-vineyard_split_2_frame_1240.png: 53 matches @ 2th pair(superpoint+lightglue)\n"
     ]
    },
    {
     "name": "stderr",
     "output_type": "stream",
     "text": [
      "  4%|▍         | 88/2277 [00:02<00:53, 41.11it/s]"
     ]
    },
    {
     "name": "stdout",
     "output_type": "stream",
     "text": [
      "superpoint> vineyard_split_2_frame_1320.png-vineyard_split_2_frame_1315.png: 71 matches @ 3th pair(superpoint+lightglue)\n",
      "superpoint> vineyard_split_2_frame_1320.png-vineyard_split_3_frame_1400.png: 50 matches @ 4th pair(superpoint+lightglue)\n"
     ]
    },
    {
     "name": "stderr",
     "output_type": "stream",
     "text": [
      "  5%|▍         | 113/2277 [00:02<00:52, 41.07it/s]"
     ]
    },
    {
     "name": "stdout",
     "output_type": "stream",
     "text": [
      "superpoint> vineyard_split_2_frame_1205.png-vineyard_split_2_frame_1210.png: 70 matches @ 5th pair(superpoint+lightglue)\n"
     ]
    },
    {
     "name": "stderr",
     "output_type": "stream",
     "text": [
      "  7%|▋         | 157/2277 [00:03<00:54, 38.82it/s]"
     ]
    },
    {
     "name": "stdout",
     "output_type": "stream",
     "text": [
      "superpoint> vineyard_split_2_frame_1240.png-vineyard_split_2_frame_1235.png: 68 matches @ 6th pair(superpoint+lightglue)\n",
      "superpoint> vineyard_split_2_frame_1240.png-vineyard_split_2_frame_1230.png: 59 matches @ 7th pair(superpoint+lightglue)\n"
     ]
    },
    {
     "name": "stderr",
     "output_type": "stream",
     "text": [
      "  9%|▉         | 216/2277 [00:05<00:52, 39.54it/s]"
     ]
    },
    {
     "name": "stdout",
     "output_type": "stream",
     "text": [
      "superpoint> vineyard_split_2_frame_1170.png-vineyard_split_2_frame_1165.png: 64 matches @ 8th pair(superpoint+lightglue)\n",
      "superpoint> vineyard_split_2_frame_1170.png-vineyard_split_2_frame_1175.png: 92 matches @ 9th pair(superpoint+lightglue)\n"
     ]
    },
    {
     "name": "stderr",
     "output_type": "stream",
     "text": [
      " 11%|█         | 240/2277 [00:05<00:50, 40.24it/s]"
     ]
    },
    {
     "name": "stdout",
     "output_type": "stream",
     "text": [
      "superpoint> vineyard_split_2_frame_1300.png-vineyard_split_2_frame_1305.png: 67 matches @ 10th pair(superpoint+lightglue)\n"
     ]
    },
    {
     "name": "stderr",
     "output_type": "stream",
     "text": [
      " 12%|█▏        | 270/2277 [00:06<00:49, 40.94it/s]"
     ]
    },
    {
     "name": "stdout",
     "output_type": "stream",
     "text": [
      "superpoint> vineyard_split_2_frame_1290.png-vineyard_split_2_frame_1295.png: 72 matches @ 11th pair(superpoint+lightglue)\n"
     ]
    },
    {
     "name": "stderr",
     "output_type": "stream",
     "text": [
      " 13%|█▎        | 285/2277 [00:07<00:48, 41.15it/s]"
     ]
    },
    {
     "name": "stdout",
     "output_type": "stream",
     "text": [
      "superpoint> vineyard_split_2_frame_1310.png-vineyard_split_2_frame_1305.png: 56 matches @ 12th pair(superpoint+lightglue)\n"
     ]
    },
    {
     "name": "stderr",
     "output_type": "stream",
     "text": [
      " 14%|█▎        | 310/2277 [00:07<00:48, 40.72it/s]"
     ]
    },
    {
     "name": "stdout",
     "output_type": "stream",
     "text": [
      "superpoint> vineyard_split_2_frame_1200.png-vineyard_split_2_frame_1195.png: 59 matches @ 13th pair(superpoint+lightglue)\n"
     ]
    },
    {
     "name": "stderr",
     "output_type": "stream",
     "text": [
      " 19%|█▊        | 425/2277 [00:10<00:45, 40.57it/s]"
     ]
    },
    {
     "name": "stdout",
     "output_type": "stream",
     "text": [
      "superpoint> vineyard_split_2_frame_1165.png-vineyard_split_2_frame_1160.png: 57 matches @ 14th pair(superpoint+lightglue)\n"
     ]
    },
    {
     "name": "stderr",
     "output_type": "stream",
     "text": [
      " 20%|█▉        | 455/2277 [00:11<00:44, 40.82it/s]"
     ]
    },
    {
     "name": "stdout",
     "output_type": "stream",
     "text": [
      "superpoint> vineyard_split_2_frame_1275.png-vineyard_split_2_frame_1280.png: 65 matches @ 15th pair(superpoint+lightglue)\n"
     ]
    },
    {
     "name": "stderr",
     "output_type": "stream",
     "text": [
      " 24%|██▍       | 551/2277 [00:13<00:50, 34.46it/s]"
     ]
    },
    {
     "name": "stdout",
     "output_type": "stream",
     "text": [
      "superpoint> vineyard_split_2_frame_1280.png-vineyard_split_2_frame_1285.png: 69 matches @ 16th pair(superpoint+lightglue)\n"
     ]
    },
    {
     "name": "stderr",
     "output_type": "stream",
     "text": [
      " 25%|██▌       | 571/2277 [00:14<00:47, 36.01it/s]"
     ]
    },
    {
     "name": "stdout",
     "output_type": "stream",
     "text": [
      "superpoint> vineyard_split_2_frame_1155.png-vineyard_split_2_frame_1150.png: 68 matches @ 17th pair(superpoint+lightglue)\n"
     ]
    },
    {
     "name": "stderr",
     "output_type": "stream",
     "text": [
      " 27%|██▋       | 624/2277 [00:15<00:40, 40.46it/s]"
     ]
    },
    {
     "name": "stdout",
     "output_type": "stream",
     "text": [
      "superpoint> vineyard_split_2_frame_1210.png-vineyard_split_2_frame_1215.png: 51 matches @ 18th pair(superpoint+lightglue)\n"
     ]
    },
    {
     "name": "stderr",
     "output_type": "stream",
     "text": [
      " 35%|███▌      | 799/2277 [00:19<00:36, 40.34it/s]"
     ]
    },
    {
     "name": "stdout",
     "output_type": "stream",
     "text": [
      "superpoint> vineyard_split_2_frame_1235.png-vineyard_split_2_frame_1230.png: 81 matches @ 19th pair(superpoint+lightglue)\n"
     ]
    },
    {
     "name": "stderr",
     "output_type": "stream",
     "text": [
      " 39%|███▉      | 891/2277 [00:22<00:34, 39.60it/s]"
     ]
    },
    {
     "name": "stdout",
     "output_type": "stream",
     "text": [
      "superpoint> vineyard_split_3_frame_1395.png-vineyard_split_3_frame_1400.png: 93 matches @ 20th pair(superpoint+lightglue)\n",
      "superpoint> vineyard_split_3_frame_1395.png-vineyard_split_1_frame_1020.png: 61 matches @ 21th pair(superpoint+lightglue)\n"
     ]
    },
    {
     "name": "stderr",
     "output_type": "stream",
     "text": [
      " 40%|████      | 917/2277 [00:22<00:34, 39.90it/s]"
     ]
    },
    {
     "name": "stdout",
     "output_type": "stream",
     "text": [
      "superpoint> vineyard_split_3_frame_1475.png-vineyard_split_3_frame_1470.png: 96 matches @ 22th pair(superpoint+lightglue)\n"
     ]
    },
    {
     "name": "stderr",
     "output_type": "stream",
     "text": [
      " 42%|████▏     | 947/2277 [00:23<00:35, 37.63it/s]"
     ]
    },
    {
     "name": "stdout",
     "output_type": "stream",
     "text": [
      "superpoint> vineyard_split_3_frame_0255.png-vineyard_split_3_frame_0260.png: 94 matches @ 23th pair(superpoint+lightglue)\n"
     ]
    },
    {
     "name": "stderr",
     "output_type": "stream",
     "text": [
      " 43%|████▎     | 976/2277 [00:24<00:32, 40.27it/s]"
     ]
    },
    {
     "name": "stdout",
     "output_type": "stream",
     "text": [
      "superpoint> vineyard_split_3_frame_0125.png-vineyard_split_3_frame_0120.png: 89 matches @ 24th pair(superpoint+lightglue)\n"
     ]
    },
    {
     "name": "stderr",
     "output_type": "stream",
     "text": [
      " 44%|████▍     | 1005/2277 [00:25<00:32, 39.13it/s]"
     ]
    },
    {
     "name": "stdout",
     "output_type": "stream",
     "text": [
      "superpoint> vineyard_split_3_frame_1480.png-vineyard_split_3_frame_1485.png: 71 matches @ 25th pair(superpoint+lightglue)\n"
     ]
    },
    {
     "name": "stderr",
     "output_type": "stream",
     "text": [
      " 45%|████▍     | 1017/2277 [00:25<00:31, 39.42it/s]"
     ]
    },
    {
     "name": "stdout",
     "output_type": "stream",
     "text": [
      "superpoint> vineyard_split_3_frame_0215.png-vineyard_split_3_frame_0225.png: 50 matches @ 26th pair(superpoint+lightglue)\n"
     ]
    },
    {
     "name": "stderr",
     "output_type": "stream",
     "text": [
      " 45%|████▌     | 1025/2277 [00:25<00:31, 39.19it/s]"
     ]
    },
    {
     "name": "stdout",
     "output_type": "stream",
     "text": [
      "superpoint> vineyard_split_3_frame_0215.png-vineyard_split_3_frame_0220.png: 115 matches @ 27th pair(superpoint+lightglue)\n"
     ]
    },
    {
     "name": "stderr",
     "output_type": "stream",
     "text": [
      " 46%|████▌     | 1046/2277 [00:26<00:31, 39.26it/s]"
     ]
    },
    {
     "name": "stdout",
     "output_type": "stream",
     "text": [
      "superpoint> vineyard_split_3_frame_0295.png-vineyard_split_3_frame_0300.png: 80 matches @ 28th pair(superpoint+lightglue)\n"
     ]
    },
    {
     "name": "stderr",
     "output_type": "stream",
     "text": [
      " 46%|████▋     | 1058/2277 [00:26<00:30, 39.43it/s]"
     ]
    },
    {
     "name": "stdout",
     "output_type": "stream",
     "text": [
      "superpoint> vineyard_split_3_frame_0090.png-vineyard_split_3_frame_0085.png: 134 matches @ 29th pair(superpoint+lightglue)\n",
      "superpoint> vineyard_split_3_frame_0090.png-vineyard_split_3_frame_0095.png: 90 matches @ 30th pair(superpoint+lightglue)\n"
     ]
    },
    {
     "name": "stderr",
     "output_type": "stream",
     "text": [
      " 47%|████▋     | 1070/2277 [00:26<00:30, 39.55it/s]"
     ]
    },
    {
     "name": "stdout",
     "output_type": "stream",
     "text": [
      "superpoint> vineyard_split_3_frame_0190.png-vineyard_split_3_frame_0195.png: 79 matches @ 31th pair(superpoint+lightglue)\n"
     ]
    },
    {
     "name": "stderr",
     "output_type": "stream",
     "text": [
      " 48%|████▊     | 1082/2277 [00:27<00:30, 38.74it/s]"
     ]
    },
    {
     "name": "stdout",
     "output_type": "stream",
     "text": [
      "superpoint> vineyard_split_3_frame_0265.png-vineyard_split_3_frame_0270.png: 69 matches @ 32th pair(superpoint+lightglue)\n"
     ]
    },
    {
     "name": "stderr",
     "output_type": "stream",
     "text": [
      " 48%|████▊     | 1098/2277 [00:27<00:29, 39.39it/s]"
     ]
    },
    {
     "name": "stdout",
     "output_type": "stream",
     "text": [
      "superpoint> vineyard_split_3_frame_0265.png-vineyard_split_3_frame_0260.png: 91 matches @ 33th pair(superpoint+lightglue)\n"
     ]
    },
    {
     "name": "stderr",
     "output_type": "stream",
     "text": [
      " 49%|████▊     | 1107/2277 [00:27<00:29, 39.97it/s]"
     ]
    },
    {
     "name": "stdout",
     "output_type": "stream",
     "text": [
      "superpoint> vineyard_split_3_frame_1445.png-vineyard_split_3_frame_1440.png: 67 matches @ 34th pair(superpoint+lightglue)\n"
     ]
    },
    {
     "name": "stderr",
     "output_type": "stream",
     "text": [
      " 54%|█████▍    | 1238/2277 [00:30<00:26, 39.41it/s]"
     ]
    },
    {
     "name": "stdout",
     "output_type": "stream",
     "text": [
      "superpoint> vineyard_split_3_frame_1405.png-vineyard_split_3_frame_1410.png: 57 matches @ 35th pair(superpoint+lightglue)\n",
      "superpoint> vineyard_split_3_frame_1405.png-vineyard_split_3_frame_1400.png: 93 matches @ 36th pair(superpoint+lightglue)\n"
     ]
    },
    {
     "name": "stderr",
     "output_type": "stream",
     "text": [
      " 56%|█████▌    | 1267/2277 [00:31<00:24, 41.01it/s]"
     ]
    },
    {
     "name": "stdout",
     "output_type": "stream",
     "text": [
      "superpoint> vineyard_split_3_frame_0070.png-vineyard_split_3_frame_0075.png: 69 matches @ 37th pair(superpoint+lightglue)\n"
     ]
    },
    {
     "name": "stderr",
     "output_type": "stream",
     "text": [
      " 58%|█████▊    | 1327/2277 [00:33<00:23, 40.77it/s]"
     ]
    },
    {
     "name": "stdout",
     "output_type": "stream",
     "text": [
      "superpoint> vineyard_split_3_frame_0075.png-vineyard_split_3_frame_0080.png: 112 matches @ 38th pair(superpoint+lightglue)\n"
     ]
    },
    {
     "name": "stderr",
     "output_type": "stream",
     "text": [
      " 59%|█████▉    | 1354/2277 [00:33<00:23, 38.82it/s]"
     ]
    },
    {
     "name": "stdout",
     "output_type": "stream",
     "text": [
      "superpoint> vineyard_split_3_frame_0160.png-vineyard_split_3_frame_0165.png: 104 matches @ 39th pair(superpoint+lightglue)\n",
      "superpoint> vineyard_split_3_frame_0160.png-vineyard_split_3_frame_0155.png: 82 matches @ 40th pair(superpoint+lightglue)\n"
     ]
    },
    {
     "name": "stderr",
     "output_type": "stream",
     "text": [
      " 61%|██████    | 1379/2277 [00:34<00:22, 40.55it/s]"
     ]
    },
    {
     "name": "stdout",
     "output_type": "stream",
     "text": [
      "superpoint> vineyard_split_3_frame_0150.png-vineyard_split_3_frame_0155.png: 94 matches @ 41th pair(superpoint+lightglue)\n"
     ]
    },
    {
     "name": "stderr",
     "output_type": "stream",
     "text": [
      " 61%|██████▏   | 1399/2277 [00:34<00:21, 40.35it/s]"
     ]
    },
    {
     "name": "stdout",
     "output_type": "stream",
     "text": [
      "superpoint> vineyard_split_3_frame_0140.png-vineyard_split_3_frame_0135.png: 74 matches @ 42th pair(superpoint+lightglue)\n"
     ]
    },
    {
     "name": "stderr",
     "output_type": "stream",
     "text": [
      " 62%|██████▏   | 1414/2277 [00:35<00:21, 40.40it/s]"
     ]
    },
    {
     "name": "stdout",
     "output_type": "stream",
     "text": [
      "superpoint> vineyard_split_3_frame_0270.png-vineyard_split_3_frame_0280.png: 78 matches @ 43th pair(superpoint+lightglue)\n",
      "superpoint> vineyard_split_3_frame_0270.png-vineyard_split_3_frame_0275.png: 104 matches @ 44th pair(superpoint+lightglue)\n"
     ]
    },
    {
     "name": "stderr",
     "output_type": "stream",
     "text": [
      " 63%|██████▎   | 1433/2277 [00:35<00:21, 39.69it/s]"
     ]
    },
    {
     "name": "stdout",
     "output_type": "stream",
     "text": [
      "superpoint> vineyard_split_3_frame_0170.png-vineyard_split_3_frame_0175.png: 92 matches @ 45th pair(superpoint+lightglue)\n",
      "superpoint> vineyard_split_3_frame_0170.png-vineyard_split_3_frame_0165.png: 83 matches @ 46th pair(superpoint+lightglue)\n"
     ]
    },
    {
     "name": "stderr",
     "output_type": "stream",
     "text": [
      " 63%|██████▎   | 1438/2277 [00:35<00:20, 40.01it/s]"
     ]
    },
    {
     "name": "stdout",
     "output_type": "stream",
     "text": [
      "superpoint> vineyard_split_3_frame_0285.png-vineyard_split_3_frame_0280.png: 135 matches @ 47th pair(superpoint+lightglue)\n",
      "superpoint> vineyard_split_3_frame_0285.png-vineyard_split_3_frame_0275.png: 108 matches @ 48th pair(superpoint+lightglue)\n"
     ]
    },
    {
     "name": "stderr",
     "output_type": "stream",
     "text": [
      " 65%|██████▌   | 1483/2277 [00:37<00:19, 39.76it/s]"
     ]
    },
    {
     "name": "stdout",
     "output_type": "stream",
     "text": [
      "superpoint> vineyard_split_3_frame_1490.png-vineyard_split_3_frame_1485.png: 57 matches @ 49th pair(superpoint+lightglue)\n"
     ]
    },
    {
     "name": "stderr",
     "output_type": "stream",
     "text": [
      " 66%|██████▋   | 1513/2277 [00:37<00:18, 40.79it/s]"
     ]
    },
    {
     "name": "stdout",
     "output_type": "stream",
     "text": [
      "superpoint> vineyard_split_3_frame_0280.png-vineyard_split_3_frame_0275.png: 144 matches @ 50th pair(superpoint+lightglue)\n"
     ]
    },
    {
     "name": "stderr",
     "output_type": "stream",
     "text": [
      " 68%|██████▊   | 1548/2277 [00:38<00:18, 40.02it/s]"
     ]
    },
    {
     "name": "stdout",
     "output_type": "stream",
     "text": [
      "superpoint> vineyard_split_3_frame_0225.png-vineyard_split_3_frame_0220.png: 87 matches @ 51th pair(superpoint+lightglue)\n",
      "superpoint> vineyard_split_3_frame_0225.png-vineyard_split_3_frame_0230.png: 66 matches @ 52th pair(superpoint+lightglue)\n"
     ]
    },
    {
     "name": "stderr",
     "output_type": "stream",
     "text": [
      " 68%|██████▊   | 1558/2277 [00:38<00:17, 40.32it/s]"
     ]
    },
    {
     "name": "stdout",
     "output_type": "stream",
     "text": [
      "superpoint> vineyard_split_3_frame_0080.png-vineyard_split_3_frame_0085.png: 77 matches @ 53th pair(superpoint+lightglue)\n"
     ]
    },
    {
     "name": "stderr",
     "output_type": "stream",
     "text": [
      " 70%|██████▉   | 1593/2277 [00:39<00:16, 40.52it/s]"
     ]
    },
    {
     "name": "stdout",
     "output_type": "stream",
     "text": [
      "superpoint> vineyard_split_3_frame_0120.png-vineyard_split_3_frame_0110.png: 60 matches @ 54th pair(superpoint+lightglue)\n"
     ]
    },
    {
     "name": "stderr",
     "output_type": "stream",
     "text": [
      " 71%|███████   | 1608/2277 [00:40<00:16, 41.12it/s]"
     ]
    },
    {
     "name": "stdout",
     "output_type": "stream",
     "text": [
      "superpoint> vineyard_split_3_frame_1510.png-vineyard_split_3_frame_1515.png: 116 matches @ 55th pair(superpoint+lightglue)\n"
     ]
    },
    {
     "name": "stderr",
     "output_type": "stream",
     "text": [
      " 71%|███████   | 1618/2277 [00:40<00:16, 40.85it/s]"
     ]
    },
    {
     "name": "stdout",
     "output_type": "stream",
     "text": [
      "superpoint> vineyard_split_3_frame_1510.png-vineyard_split_1_frame_1010.png: 59 matches @ 56th pair(superpoint+lightglue)\n",
      "superpoint> vineyard_split_3_frame_0105.png-vineyard_split_3_frame_0110.png: 106 matches @ 57th pair(superpoint+lightglue)\n",
      "superpoint> vineyard_split_3_frame_0105.png-vineyard_split_3_frame_0100.png: 66 matches @ 58th pair(superpoint+lightglue)\n"
     ]
    },
    {
     "name": "stderr",
     "output_type": "stream",
     "text": [
      " 72%|███████▏  | 1638/2277 [00:40<00:15, 40.89it/s]"
     ]
    },
    {
     "name": "stdout",
     "output_type": "stream",
     "text": [
      "superpoint> vineyard_split_3_frame_1540.png-vineyard_split_3_frame_1545.png: 54 matches @ 59th pair(superpoint+lightglue)\n"
     ]
    },
    {
     "name": "stderr",
     "output_type": "stream",
     "text": [
      " 73%|███████▎  | 1653/2277 [00:41<00:15, 40.34it/s]"
     ]
    },
    {
     "name": "stdout",
     "output_type": "stream",
     "text": [
      "superpoint> vineyard_split_3_frame_0205.png-vineyard_split_3_frame_0210.png: 93 matches @ 60th pair(superpoint+lightglue)\n",
      "superpoint> vineyard_split_3_frame_0205.png-vineyard_split_3_frame_0200.png: 71 matches @ 61th pair(superpoint+lightglue)\n"
     ]
    },
    {
     "name": "stderr",
     "output_type": "stream",
     "text": [
      " 73%|███████▎  | 1668/2277 [00:41<00:15, 39.98it/s]"
     ]
    },
    {
     "name": "stdout",
     "output_type": "stream",
     "text": [
      "superpoint> vineyard_split_3_frame_1410.png-vineyard_split_3_frame_1415.png: 71 matches @ 62th pair(superpoint+lightglue)\n"
     ]
    },
    {
     "name": "stderr",
     "output_type": "stream",
     "text": [
      " 74%|███████▍  | 1683/2277 [00:41<00:14, 40.13it/s]"
     ]
    },
    {
     "name": "stdout",
     "output_type": "stream",
     "text": [
      "superpoint> vineyard_split_3_frame_0305.png-vineyard_split_3_frame_0300.png: 185 matches @ 63th pair(superpoint+lightglue)\n"
     ]
    },
    {
     "name": "stderr",
     "output_type": "stream",
     "text": [
      " 76%|███████▋  | 1738/2277 [00:43<00:13, 40.38it/s]"
     ]
    },
    {
     "name": "stdout",
     "output_type": "stream",
     "text": [
      "superpoint> vineyard_split_3_frame_1465.png-vineyard_split_3_frame_1460.png: 87 matches @ 64th pair(superpoint+lightglue)\n"
     ]
    },
    {
     "name": "stderr",
     "output_type": "stream",
     "text": [
      " 77%|███████▋  | 1747/2277 [00:43<00:14, 37.02it/s]"
     ]
    },
    {
     "name": "stdout",
     "output_type": "stream",
     "text": [
      "superpoint> vineyard_split_3_frame_1525.png-vineyard_split_3_frame_1530.png: 66 matches @ 65th pair(superpoint+lightglue)\n"
     ]
    },
    {
     "name": "stderr",
     "output_type": "stream",
     "text": [
      " 78%|███████▊  | 1767/2277 [00:44<00:12, 39.93it/s]"
     ]
    },
    {
     "name": "stdout",
     "output_type": "stream",
     "text": [
      "superpoint> vineyard_split_3_frame_0110.png-vineyard_split_3_frame_0115.png: 117 matches @ 66th pair(superpoint+lightglue)\n",
      "superpoint> vineyard_split_3_frame_0195.png-vineyard_split_3_frame_0200.png: 65 matches @ 67th pair(superpoint+lightglue)\n"
     ]
    },
    {
     "name": "stderr",
     "output_type": "stream",
     "text": [
      " 78%|███████▊  | 1787/2277 [00:44<00:12, 40.46it/s]"
     ]
    },
    {
     "name": "stdout",
     "output_type": "stream",
     "text": [
      "superpoint> vineyard_split_3_frame_1570.png-vineyard_split_3_frame_1565.png: 72 matches @ 68th pair(superpoint+lightglue)\n"
     ]
    },
    {
     "name": "stderr",
     "output_type": "stream",
     "text": [
      " 79%|███████▉  | 1802/2277 [00:44<00:11, 40.54it/s]"
     ]
    },
    {
     "name": "stdout",
     "output_type": "stream",
     "text": [
      "superpoint> vineyard_split_3_frame_0210.png-vineyard_split_3_frame_0220.png: 51 matches @ 69th pair(superpoint+lightglue)\n"
     ]
    },
    {
     "name": "stderr",
     "output_type": "stream",
     "text": [
      " 80%|███████▉  | 1812/2277 [00:45<00:11, 40.31it/s]"
     ]
    },
    {
     "name": "stdout",
     "output_type": "stream",
     "text": [
      "superpoint> vineyard_split_3_frame_0100.png-vineyard_split_3_frame_0095.png: 94 matches @ 70th pair(superpoint+lightglue)\n",
      "superpoint> vineyard_split_3_frame_1560.png-vineyard_split_3_frame_1565.png: 58 matches @ 71th pair(superpoint+lightglue)\n"
     ]
    },
    {
     "name": "stderr",
     "output_type": "stream",
     "text": [
      " 81%|████████  | 1833/2277 [00:45<00:12, 35.71it/s]"
     ]
    },
    {
     "name": "stdout",
     "output_type": "stream",
     "text": [
      "superpoint> vineyard_split_3_frame_0245.png-vineyard_split_3_frame_0240.png: 84 matches @ 72th pair(superpoint+lightglue)\n"
     ]
    },
    {
     "name": "stderr",
     "output_type": "stream",
     "text": [
      " 82%|████████▏ | 1861/2277 [00:46<00:10, 38.36it/s]"
     ]
    },
    {
     "name": "stdout",
     "output_type": "stream",
     "text": [
      "superpoint> vineyard_split_3_frame_1440.png-vineyard_split_3_frame_1435.png: 52 matches @ 73th pair(superpoint+lightglue)\n"
     ]
    },
    {
     "name": "stderr",
     "output_type": "stream",
     "text": [
      " 84%|████████▍ | 1924/2277 [00:48<00:08, 40.26it/s]"
     ]
    },
    {
     "name": "stdout",
     "output_type": "stream",
     "text": [
      "superpoint> vineyard_split_3_frame_1415.png-vineyard_split_3_frame_1420.png: 72 matches @ 74th pair(superpoint+lightglue)\n"
     ]
    },
    {
     "name": "stderr",
     "output_type": "stream",
     "text": [
      " 87%|████████▋ | 1979/2277 [00:49<00:07, 39.92it/s]"
     ]
    },
    {
     "name": "stdout",
     "output_type": "stream",
     "text": [
      "superpoint> vineyard_split_3_frame_0085.png-vineyard_split_3_frame_0095.png: 69 matches @ 75th pair(superpoint+lightglue)\n"
     ]
    },
    {
     "name": "stderr",
     "output_type": "stream",
     "text": [
      " 90%|████████▉ | 2039/2277 [00:50<00:05, 40.61it/s]"
     ]
    },
    {
     "name": "stdout",
     "output_type": "stream",
     "text": [
      "superpoint> vineyard_split_1_frame_0915.png-vineyard_split_1_frame_0910.png: 77 matches @ 76th pair(superpoint+lightglue)\n"
     ]
    },
    {
     "name": "stderr",
     "output_type": "stream",
     "text": [
      " 91%|█████████ | 2072/2277 [00:51<00:05, 39.68it/s]"
     ]
    },
    {
     "name": "stdout",
     "output_type": "stream",
     "text": [
      "superpoint> vineyard_split_1_frame_1015.png-vineyard_split_1_frame_1020.png: 94 matches @ 77th pair(superpoint+lightglue)\n",
      "superpoint> vineyard_split_1_frame_1015.png-vineyard_split_1_frame_1100.png: 56 matches @ 78th pair(superpoint+lightglue)\n"
     ]
    },
    {
     "name": "stderr",
     "output_type": "stream",
     "text": [
      " 92%|█████████▏| 2084/2277 [00:52<00:04, 39.61it/s]"
     ]
    },
    {
     "name": "stdout",
     "output_type": "stream",
     "text": [
      "superpoint> vineyard_split_1_frame_0990.png-vineyard_split_1_frame_0980.png: 50 matches @ 79th pair(superpoint+lightglue)\n"
     ]
    },
    {
     "name": "stderr",
     "output_type": "stream",
     "text": [
      " 92%|█████████▏| 2092/2277 [00:52<00:04, 39.29it/s]"
     ]
    },
    {
     "name": "stdout",
     "output_type": "stream",
     "text": [
      "superpoint> vineyard_split_1_frame_0990.png-vineyard_split_1_frame_0985.png: 84 matches @ 80th pair(superpoint+lightglue)\n"
     ]
    },
    {
     "name": "stderr",
     "output_type": "stream",
     "text": [
      " 93%|█████████▎| 2117/2277 [00:52<00:03, 40.37it/s]"
     ]
    },
    {
     "name": "stdout",
     "output_type": "stream",
     "text": [
      "superpoint> vineyard_split_1_frame_1055.png-vineyard_split_1_frame_1050.png: 79 matches @ 81th pair(superpoint+lightglue)\n",
      "superpoint> vineyard_split_1_frame_0965.png-vineyard_split_1_frame_0960.png: 51 matches @ 82th pair(superpoint+lightglue)\n"
     ]
    },
    {
     "name": "stderr",
     "output_type": "stream",
     "text": [
      " 94%|█████████▎| 2131/2277 [00:53<00:03, 39.89it/s]"
     ]
    },
    {
     "name": "stdout",
     "output_type": "stream",
     "text": [
      "superpoint> vineyard_split_1_frame_0935.png-vineyard_split_1_frame_0940.png: 64 matches @ 83th pair(superpoint+lightglue)\n"
     ]
    },
    {
     "name": "stderr",
     "output_type": "stream",
     "text": [
      " 94%|█████████▍| 2143/2277 [00:53<00:03, 36.66it/s]"
     ]
    },
    {
     "name": "stdout",
     "output_type": "stream",
     "text": [
      "superpoint> vineyard_split_1_frame_0970.png-vineyard_split_1_frame_0975.png: 97 matches @ 84th pair(superpoint+lightglue)\n",
      "superpoint> vineyard_split_1_frame_0960.png-vineyard_split_1_frame_0955.png: 70 matches @ 85th pair(superpoint+lightglue)\n"
     ]
    },
    {
     "name": "stderr",
     "output_type": "stream",
     "text": [
      " 95%|█████████▍| 2156/2277 [00:53<00:03, 38.63it/s]"
     ]
    },
    {
     "name": "stdout",
     "output_type": "stream",
     "text": [
      "superpoint> vineyard_split_1_frame_1095.png-vineyard_split_1_frame_1100.png: 82 matches @ 86th pair(superpoint+lightglue)\n",
      "superpoint> vineyard_split_1_frame_1095.png-vineyard_split_1_frame_1105.png: 51 matches @ 87th pair(superpoint+lightglue)\n"
     ]
    },
    {
     "name": "stderr",
     "output_type": "stream",
     "text": [
      " 95%|█████████▌| 2170/2277 [00:54<00:02, 39.67it/s]"
     ]
    },
    {
     "name": "stdout",
     "output_type": "stream",
     "text": [
      "superpoint> vineyard_split_1_frame_0945.png-vineyard_split_1_frame_0940.png: 60 matches @ 88th pair(superpoint+lightglue)\n",
      "superpoint> vineyard_split_1_frame_0905.png-vineyard_split_1_frame_0900.png: 54 matches @ 89th pair(superpoint+lightglue)\n"
     ]
    },
    {
     "name": "stderr",
     "output_type": "stream",
     "text": [
      " 97%|█████████▋| 2218/2277 [00:55<00:01, 39.93it/s]"
     ]
    },
    {
     "name": "stdout",
     "output_type": "stream",
     "text": [
      "superpoint> vineyard_split_1_frame_0980.png-vineyard_split_1_frame_0985.png: 87 matches @ 90th pair(superpoint+lightglue)\n",
      "superpoint> vineyard_split_1_frame_0980.png-vineyard_split_1_frame_0975.png: 131 matches @ 91th pair(superpoint+lightglue)\n",
      "superpoint> vineyard_split_1_frame_1045.png-vineyard_split_1_frame_1040.png: 71 matches @ 92th pair(superpoint+lightglue)\n"
     ]
    },
    {
     "name": "stderr",
     "output_type": "stream",
     "text": [
      " 98%|█████████▊| 2228/2277 [00:55<00:01, 40.06it/s]"
     ]
    },
    {
     "name": "stdout",
     "output_type": "stream",
     "text": [
      "superpoint> vineyard_split_1_frame_1040.png-vineyard_split_1_frame_1035.png: 91 matches @ 93th pair(superpoint+lightglue)\n",
      "superpoint> vineyard_split_1_frame_1110.png-vineyard_split_1_frame_1100.png: 50 matches @ 94th pair(superpoint+lightglue)\n",
      "superpoint> vineyard_split_1_frame_1110.png-vineyard_split_1_frame_1105.png: 52 matches @ 95th pair(superpoint+lightglue)\n"
     ]
    },
    {
     "name": "stderr",
     "output_type": "stream",
     "text": [
      " 99%|█████████▉| 2253/2277 [00:56<00:00, 39.53it/s]"
     ]
    },
    {
     "name": "stdout",
     "output_type": "stream",
     "text": [
      "superpoint> vineyard_split_1_frame_1035.png-vineyard_split_1_frame_1030.png: 66 matches @ 96th pair(superpoint+lightglue)\n",
      "superpoint> vineyard_split_1_frame_1100.png-vineyard_split_1_frame_1105.png: 118 matches @ 97th pair(superpoint+lightglue)\n"
     ]
    },
    {
     "name": "stderr",
     "output_type": "stream",
     "text": [
      "100%|█████████▉| 2273/2277 [00:56<00:00, 37.80it/s]"
     ]
    },
    {
     "name": "stdout",
     "output_type": "stream",
     "text": [
      "superpoint> vineyard_split_1_frame_0925.png-vineyard_split_1_frame_0930.png: 96 matches @ 98th pair(superpoint+lightglue)\n",
      "superpoint> vineyard_split_1_frame_0925.png-vineyard_split_1_frame_0920.png: 54 matches @ 99th pair(superpoint+lightglue)\n",
      "superpoint> vineyard_split_1_frame_0985.png-vineyard_split_1_frame_0975.png: 69 matches @ 100th pair(superpoint+lightglue)\n",
      "superpoint> vineyard_split_1_frame_1030.png-vineyard_split_1_frame_1025.png: 79 matches @ 101th pair(superpoint+lightglue)\n"
     ]
    },
    {
     "name": "stderr",
     "output_type": "stream",
     "text": [
      "100%|██████████| 2277/2277 [00:56<00:00, 39.97it/s]\n"
     ]
    },
    {
     "name": "stdout",
     "output_type": "stream",
     "text": [
      "Features matched in  63.8460 sec (superpoint+LightGlue)\n",
      "disk > rot_k=0, kpts.shape=torch.Size([2048, 2]), descs.shape=torch.Size([2048, 128])\n",
      "disk > rot_k=0, kpts.shape=torch.Size([2048, 2]), descs.shape=torch.Size([2048, 128])\n",
      "disk > rot_k=0, kpts.shape=torch.Size([2048, 2]), descs.shape=torch.Size([2048, 128])\n",
      "disk > rot_k=0, kpts.shape=torch.Size([2048, 2]), descs.shape=torch.Size([2048, 128])\n",
      "disk > rot_k=0, kpts.shape=torch.Size([2048, 2]), descs.shape=torch.Size([2048, 128])\n",
      "disk > rot_k=0, kpts.shape=torch.Size([2048, 2]), descs.shape=torch.Size([2048, 128])\n",
      "disk > rot_k=0, kpts.shape=torch.Size([2048, 2]), descs.shape=torch.Size([2048, 128])\n",
      "disk > rot_k=0, kpts.shape=torch.Size([2048, 2]), descs.shape=torch.Size([2048, 128])\n",
      "disk > rot_k=0, kpts.shape=torch.Size([2048, 2]), descs.shape=torch.Size([2048, 128])\n",
      "disk > rot_k=0, kpts.shape=torch.Size([2048, 2]), descs.shape=torch.Size([2048, 128])\n",
      "disk > rot_k=0, kpts.shape=torch.Size([2048, 2]), descs.shape=torch.Size([2048, 128])\n",
      "disk > rot_k=0, kpts.shape=torch.Size([2048, 2]), descs.shape=torch.Size([2048, 128])\n",
      "disk > rot_k=0, kpts.shape=torch.Size([2048, 2]), descs.shape=torch.Size([2048, 128])\n",
      "disk > rot_k=0, kpts.shape=torch.Size([2048, 2]), descs.shape=torch.Size([2048, 128])\n",
      "disk > rot_k=0, kpts.shape=torch.Size([2048, 2]), descs.shape=torch.Size([2048, 128])\n",
      "disk > rot_k=0, kpts.shape=torch.Size([2048, 2]), descs.shape=torch.Size([2048, 128])\n",
      "disk > rot_k=0, kpts.shape=torch.Size([2048, 2]), descs.shape=torch.Size([2048, 128])\n",
      "disk > rot_k=0, kpts.shape=torch.Size([2048, 2]), descs.shape=torch.Size([2048, 128])\n",
      "disk > rot_k=0, kpts.shape=torch.Size([2048, 2]), descs.shape=torch.Size([2048, 128])\n",
      "disk > rot_k=0, kpts.shape=torch.Size([2048, 2]), descs.shape=torch.Size([2048, 128])\n",
      "disk > rot_k=0, kpts.shape=torch.Size([2048, 2]), descs.shape=torch.Size([2048, 128])\n",
      "disk > rot_k=0, kpts.shape=torch.Size([2048, 2]), descs.shape=torch.Size([2048, 128])\n",
      "disk > rot_k=0, kpts.shape=torch.Size([2048, 2]), descs.shape=torch.Size([2048, 128])\n",
      "disk > rot_k=0, kpts.shape=torch.Size([2048, 2]), descs.shape=torch.Size([2048, 128])\n",
      "disk > rot_k=0, kpts.shape=torch.Size([2048, 2]), descs.shape=torch.Size([2048, 128])\n",
      "disk > rot_k=0, kpts.shape=torch.Size([2048, 2]), descs.shape=torch.Size([2048, 128])\n",
      "disk > rot_k=0, kpts.shape=torch.Size([2048, 2]), descs.shape=torch.Size([2048, 128])\n",
      "disk > rot_k=0, kpts.shape=torch.Size([2048, 2]), descs.shape=torch.Size([2048, 128])\n",
      "disk > rot_k=0, kpts.shape=torch.Size([2048, 2]), descs.shape=torch.Size([2048, 128])\n",
      "disk > rot_k=0, kpts.shape=torch.Size([2048, 2]), descs.shape=torch.Size([2048, 128])\n",
      "disk > rot_k=0, kpts.shape=torch.Size([2048, 2]), descs.shape=torch.Size([2048, 128])\n",
      "disk > rot_k=0, kpts.shape=torch.Size([2048, 2]), descs.shape=torch.Size([2048, 128])\n",
      "disk > rot_k=0, kpts.shape=torch.Size([2048, 2]), descs.shape=torch.Size([2048, 128])\n",
      "disk > rot_k=0, kpts.shape=torch.Size([2048, 2]), descs.shape=torch.Size([2048, 128])\n",
      "disk > rot_k=0, kpts.shape=torch.Size([2048, 2]), descs.shape=torch.Size([2048, 128])\n",
      "disk > rot_k=0, kpts.shape=torch.Size([2048, 2]), descs.shape=torch.Size([2048, 128])\n",
      "disk > rot_k=0, kpts.shape=torch.Size([2048, 2]), descs.shape=torch.Size([2048, 128])\n",
      "disk > rot_k=0, kpts.shape=torch.Size([2048, 2]), descs.shape=torch.Size([2048, 128])\n",
      "disk > rot_k=0, kpts.shape=torch.Size([2048, 2]), descs.shape=torch.Size([2048, 128])\n",
      "disk > rot_k=0, kpts.shape=torch.Size([2048, 2]), descs.shape=torch.Size([2048, 128])\n",
      "disk > rot_k=0, kpts.shape=torch.Size([2048, 2]), descs.shape=torch.Size([2048, 128])\n",
      "disk > rot_k=0, kpts.shape=torch.Size([2048, 2]), descs.shape=torch.Size([2048, 128])\n",
      "disk > rot_k=0, kpts.shape=torch.Size([2048, 2]), descs.shape=torch.Size([2048, 128])\n",
      "disk > rot_k=0, kpts.shape=torch.Size([2048, 2]), descs.shape=torch.Size([2048, 128])\n",
      "disk > rot_k=0, kpts.shape=torch.Size([2048, 2]), descs.shape=torch.Size([2048, 128])\n",
      "disk > rot_k=0, kpts.shape=torch.Size([2048, 2]), descs.shape=torch.Size([2048, 128])\n",
      "disk > rot_k=0, kpts.shape=torch.Size([2048, 2]), descs.shape=torch.Size([2048, 128])\n",
      "disk > rot_k=0, kpts.shape=torch.Size([2048, 2]), descs.shape=torch.Size([2048, 128])\n",
      "disk > rot_k=0, kpts.shape=torch.Size([2048, 2]), descs.shape=torch.Size([2048, 128])\n",
      "disk > rot_k=0, kpts.shape=torch.Size([2048, 2]), descs.shape=torch.Size([2048, 128])\n",
      "disk > rot_k=0, kpts.shape=torch.Size([2048, 2]), descs.shape=torch.Size([2048, 128])\n",
      "disk > rot_k=0, kpts.shape=torch.Size([2048, 2]), descs.shape=torch.Size([2048, 128])\n",
      "disk > rot_k=0, kpts.shape=torch.Size([2048, 2]), descs.shape=torch.Size([2048, 128])\n",
      "disk > rot_k=0, kpts.shape=torch.Size([2048, 2]), descs.shape=torch.Size([2048, 128])\n",
      "disk > rot_k=0, kpts.shape=torch.Size([2048, 2]), descs.shape=torch.Size([2048, 128])\n",
      "disk > rot_k=0, kpts.shape=torch.Size([2048, 2]), descs.shape=torch.Size([2048, 128])\n",
      "disk > rot_k=0, kpts.shape=torch.Size([2048, 2]), descs.shape=torch.Size([2048, 128])\n",
      "disk > rot_k=0, kpts.shape=torch.Size([2048, 2]), descs.shape=torch.Size([2048, 128])\n",
      "disk > rot_k=0, kpts.shape=torch.Size([2048, 2]), descs.shape=torch.Size([2048, 128])\n",
      "disk > rot_k=0, kpts.shape=torch.Size([2048, 2]), descs.shape=torch.Size([2048, 128])\n",
      "disk > rot_k=0, kpts.shape=torch.Size([2048, 2]), descs.shape=torch.Size([2048, 128])\n",
      "disk > rot_k=0, kpts.shape=torch.Size([2048, 2]), descs.shape=torch.Size([2048, 128])\n",
      "disk > rot_k=0, kpts.shape=torch.Size([2048, 2]), descs.shape=torch.Size([2048, 128])\n",
      "disk > rot_k=0, kpts.shape=torch.Size([2048, 2]), descs.shape=torch.Size([2048, 128])\n",
      "disk > rot_k=0, kpts.shape=torch.Size([2048, 2]), descs.shape=torch.Size([2048, 128])\n",
      "disk > rot_k=0, kpts.shape=torch.Size([2048, 2]), descs.shape=torch.Size([2048, 128])\n",
      "disk > rot_k=0, kpts.shape=torch.Size([2048, 2]), descs.shape=torch.Size([2048, 128])\n",
      "disk > rot_k=0, kpts.shape=torch.Size([2048, 2]), descs.shape=torch.Size([2048, 128])\n",
      "disk > rot_k=0, kpts.shape=torch.Size([2048, 2]), descs.shape=torch.Size([2048, 128])\n",
      "disk > rot_k=0, kpts.shape=torch.Size([2048, 2]), descs.shape=torch.Size([2048, 128])\n",
      "disk > rot_k=0, kpts.shape=torch.Size([2048, 2]), descs.shape=torch.Size([2048, 128])\n",
      "disk > rot_k=0, kpts.shape=torch.Size([2048, 2]), descs.shape=torch.Size([2048, 128])\n",
      "disk > rot_k=0, kpts.shape=torch.Size([2048, 2]), descs.shape=torch.Size([2048, 128])\n",
      "disk > rot_k=0, kpts.shape=torch.Size([2048, 2]), descs.shape=torch.Size([2048, 128])\n",
      "disk > rot_k=0, kpts.shape=torch.Size([2048, 2]), descs.shape=torch.Size([2048, 128])\n",
      "disk > rot_k=0, kpts.shape=torch.Size([2048, 2]), descs.shape=torch.Size([2048, 128])\n",
      "disk > rot_k=0, kpts.shape=torch.Size([2048, 2]), descs.shape=torch.Size([2048, 128])\n",
      "disk > rot_k=0, kpts.shape=torch.Size([2048, 2]), descs.shape=torch.Size([2048, 128])\n",
      "disk > rot_k=0, kpts.shape=torch.Size([2048, 2]), descs.shape=torch.Size([2048, 128])\n",
      "disk > rot_k=0, kpts.shape=torch.Size([2048, 2]), descs.shape=torch.Size([2048, 128])\n",
      "disk > rot_k=0, kpts.shape=torch.Size([2048, 2]), descs.shape=torch.Size([2048, 128])\n",
      "disk > rot_k=0, kpts.shape=torch.Size([2048, 2]), descs.shape=torch.Size([2048, 128])\n",
      "disk > rot_k=0, kpts.shape=torch.Size([2048, 2]), descs.shape=torch.Size([2048, 128])\n",
      "disk > rot_k=0, kpts.shape=torch.Size([2048, 2]), descs.shape=torch.Size([2048, 128])\n",
      "disk > rot_k=0, kpts.shape=torch.Size([2048, 2]), descs.shape=torch.Size([2048, 128])\n",
      "disk > rot_k=0, kpts.shape=torch.Size([2048, 2]), descs.shape=torch.Size([2048, 128])\n",
      "disk > rot_k=0, kpts.shape=torch.Size([2048, 2]), descs.shape=torch.Size([2048, 128])\n",
      "disk > rot_k=0, kpts.shape=torch.Size([2048, 2]), descs.shape=torch.Size([2048, 128])\n",
      "disk > rot_k=0, kpts.shape=torch.Size([2048, 2]), descs.shape=torch.Size([2048, 128])\n",
      "disk > rot_k=0, kpts.shape=torch.Size([2048, 2]), descs.shape=torch.Size([2048, 128])\n",
      "disk > rot_k=0, kpts.shape=torch.Size([2048, 2]), descs.shape=torch.Size([2048, 128])\n",
      "disk > rot_k=0, kpts.shape=torch.Size([2048, 2]), descs.shape=torch.Size([2048, 128])\n",
      "disk > rot_k=0, kpts.shape=torch.Size([2048, 2]), descs.shape=torch.Size([2048, 128])\n",
      "disk > rot_k=0, kpts.shape=torch.Size([2048, 2]), descs.shape=torch.Size([2048, 128])\n",
      "disk > rot_k=0, kpts.shape=torch.Size([2048, 2]), descs.shape=torch.Size([2048, 128])\n",
      "disk > rot_k=0, kpts.shape=torch.Size([2048, 2]), descs.shape=torch.Size([2048, 128])\n",
      "disk > rot_k=0, kpts.shape=torch.Size([2048, 2]), descs.shape=torch.Size([2048, 128])\n",
      "disk > rot_k=0, kpts.shape=torch.Size([2048, 2]), descs.shape=torch.Size([2048, 128])\n",
      "disk > rot_k=0, kpts.shape=torch.Size([2048, 2]), descs.shape=torch.Size([2048, 128])\n",
      "disk > rot_k=0, kpts.shape=torch.Size([2048, 2]), descs.shape=torch.Size([2048, 128])\n",
      "disk > rot_k=0, kpts.shape=torch.Size([2048, 2]), descs.shape=torch.Size([2048, 128])\n",
      "disk > rot_k=0, kpts.shape=torch.Size([2048, 2]), descs.shape=torch.Size([2048, 128])\n",
      "disk > rot_k=0, kpts.shape=torch.Size([2048, 2]), descs.shape=torch.Size([2048, 128])\n",
      "disk > rot_k=0, kpts.shape=torch.Size([2048, 2]), descs.shape=torch.Size([2048, 128])\n",
      "disk > rot_k=0, kpts.shape=torch.Size([2048, 2]), descs.shape=torch.Size([2048, 128])\n",
      "disk > rot_k=0, kpts.shape=torch.Size([2048, 2]), descs.shape=torch.Size([2048, 128])\n",
      "disk > rot_k=0, kpts.shape=torch.Size([2048, 2]), descs.shape=torch.Size([2048, 128])\n",
      "disk > rot_k=0, kpts.shape=torch.Size([2048, 2]), descs.shape=torch.Size([2048, 128])\n",
      "disk > rot_k=0, kpts.shape=torch.Size([2048, 2]), descs.shape=torch.Size([2048, 128])\n",
      "disk > rot_k=0, kpts.shape=torch.Size([2048, 2]), descs.shape=torch.Size([2048, 128])\n",
      "disk > rot_k=0, kpts.shape=torch.Size([2048, 2]), descs.shape=torch.Size([2048, 128])\n",
      "disk > rot_k=0, kpts.shape=torch.Size([2048, 2]), descs.shape=torch.Size([2048, 128])\n",
      "disk > rot_k=0, kpts.shape=torch.Size([2048, 2]), descs.shape=torch.Size([2048, 128])\n",
      "disk > rot_k=0, kpts.shape=torch.Size([2048, 2]), descs.shape=torch.Size([2048, 128])\n",
      "disk > rot_k=0, kpts.shape=torch.Size([2048, 2]), descs.shape=torch.Size([2048, 128])\n",
      "disk > rot_k=0, kpts.shape=torch.Size([2048, 2]), descs.shape=torch.Size([2048, 128])\n",
      "disk > rot_k=0, kpts.shape=torch.Size([2048, 2]), descs.shape=torch.Size([2048, 128])\n",
      "disk > rot_k=0, kpts.shape=torch.Size([2048, 2]), descs.shape=torch.Size([2048, 128])\n",
      "disk > rot_k=0, kpts.shape=torch.Size([2048, 2]), descs.shape=torch.Size([2048, 128])\n",
      "disk > rot_k=0, kpts.shape=torch.Size([2048, 2]), descs.shape=torch.Size([2048, 128])\n",
      "disk > rot_k=0, kpts.shape=torch.Size([2048, 2]), descs.shape=torch.Size([2048, 128])\n",
      "disk > rot_k=0, kpts.shape=torch.Size([2048, 2]), descs.shape=torch.Size([2048, 128])\n",
      "disk > rot_k=0, kpts.shape=torch.Size([2048, 2]), descs.shape=torch.Size([2048, 128])\n",
      "disk > rot_k=0, kpts.shape=torch.Size([2048, 2]), descs.shape=torch.Size([2048, 128])\n",
      "disk > rot_k=0, kpts.shape=torch.Size([2048, 2]), descs.shape=torch.Size([2048, 128])\n",
      "disk > rot_k=0, kpts.shape=torch.Size([2048, 2]), descs.shape=torch.Size([2048, 128])\n",
      "disk > rot_k=0, kpts.shape=torch.Size([2048, 2]), descs.shape=torch.Size([2048, 128])\n",
      "disk > rot_k=0, kpts.shape=torch.Size([2048, 2]), descs.shape=torch.Size([2048, 128])\n",
      "disk > rot_k=0, kpts.shape=torch.Size([2048, 2]), descs.shape=torch.Size([2048, 128])\n",
      "disk > rot_k=0, kpts.shape=torch.Size([2048, 2]), descs.shape=torch.Size([2048, 128])\n",
      "disk > rot_k=0, kpts.shape=torch.Size([2048, 2]), descs.shape=torch.Size([2048, 128])\n",
      "disk > rot_k=0, kpts.shape=torch.Size([2048, 2]), descs.shape=torch.Size([2048, 128])\n",
      "disk > rot_k=0, kpts.shape=torch.Size([2048, 2]), descs.shape=torch.Size([2048, 128])\n",
      "disk > rot_k=0, kpts.shape=torch.Size([2048, 2]), descs.shape=torch.Size([2048, 128])\n",
      "disk > rot_k=0, kpts.shape=torch.Size([2048, 2]), descs.shape=torch.Size([2048, 128])\n",
      "disk > rot_k=0, kpts.shape=torch.Size([2048, 2]), descs.shape=torch.Size([2048, 128])\n",
      "disk > rot_k=0, kpts.shape=torch.Size([2048, 2]), descs.shape=torch.Size([2048, 128])\n",
      "disk > rot_k=0, kpts.shape=torch.Size([2048, 2]), descs.shape=torch.Size([2048, 128])\n",
      "disk > rot_k=0, kpts.shape=torch.Size([2048, 2]), descs.shape=torch.Size([2048, 128])\n",
      "disk > rot_k=0, kpts.shape=torch.Size([2048, 2]), descs.shape=torch.Size([2048, 128])\n",
      "disk > rot_k=0, kpts.shape=torch.Size([2048, 2]), descs.shape=torch.Size([2048, 128])\n",
      "disk > rot_k=0, kpts.shape=torch.Size([2048, 2]), descs.shape=torch.Size([2048, 128])\n",
      "disk > rot_k=0, kpts.shape=torch.Size([2048, 2]), descs.shape=torch.Size([2048, 128])\n",
      "disk > rot_k=0, kpts.shape=torch.Size([2048, 2]), descs.shape=torch.Size([2048, 128])\n",
      "disk > rot_k=0, kpts.shape=torch.Size([2048, 2]), descs.shape=torch.Size([2048, 128])\n",
      "disk > rot_k=0, kpts.shape=torch.Size([2048, 2]), descs.shape=torch.Size([2048, 128])\n",
      "disk > rot_k=0, kpts.shape=torch.Size([2048, 2]), descs.shape=torch.Size([2048, 128])\n",
      "disk > rot_k=0, kpts.shape=torch.Size([2048, 2]), descs.shape=torch.Size([2048, 128])\n",
      "disk > rot_k=0, kpts.shape=torch.Size([2048, 2]), descs.shape=torch.Size([2048, 128])\n",
      "disk > rot_k=0, kpts.shape=torch.Size([2048, 2]), descs.shape=torch.Size([2048, 128])\n",
      "disk > rot_k=0, kpts.shape=torch.Size([2048, 2]), descs.shape=torch.Size([2048, 128])\n",
      "disk > rot_k=0, kpts.shape=torch.Size([2048, 2]), descs.shape=torch.Size([2048, 128])\n",
      "disk > rot_k=0, kpts.shape=torch.Size([2048, 2]), descs.shape=torch.Size([2048, 128])\n",
      "disk > rot_k=0, kpts.shape=torch.Size([2048, 2]), descs.shape=torch.Size([2048, 128])\n",
      "disk > rot_k=0, kpts.shape=torch.Size([2048, 2]), descs.shape=torch.Size([2048, 128])\n",
      "disk > rot_k=0, kpts.shape=torch.Size([2048, 2]), descs.shape=torch.Size([2048, 128])\n",
      "disk > rot_k=0, kpts.shape=torch.Size([2048, 2]), descs.shape=torch.Size([2048, 128])\n",
      "disk > rot_k=0, kpts.shape=torch.Size([2048, 2]), descs.shape=torch.Size([2048, 128])\n",
      "disk > rot_k=0, kpts.shape=torch.Size([2048, 2]), descs.shape=torch.Size([2048, 128])\n",
      "disk > rot_k=0, kpts.shape=torch.Size([2048, 2]), descs.shape=torch.Size([2048, 128])\n",
      "disk > rot_k=0, kpts.shape=torch.Size([2048, 2]), descs.shape=torch.Size([2048, 128])\n",
      "disk > rot_k=0, kpts.shape=torch.Size([2048, 2]), descs.shape=torch.Size([2048, 128])\n",
      "disk > rot_k=0, kpts.shape=torch.Size([2048, 2]), descs.shape=torch.Size([2048, 128])\n",
      "Loaded LightGlue model\n"
     ]
    },
    {
     "name": "stderr",
     "output_type": "stream",
     "text": [
      "  0%|          | 9/2277 [00:00<01:28, 25.76it/s]"
     ]
    },
    {
     "name": "stdout",
     "output_type": "stream",
     "text": [
      "disk> vineyard_split_2_frame_1260.png-vineyard_split_2_frame_1255.png: 699 matches @ 1th pair(disk+lightglue)\n",
      "disk> vineyard_split_2_frame_1260.png-vineyard_split_2_frame_1265.png: 691 matches @ 2th pair(disk+lightglue)\n"
     ]
    },
    {
     "name": "stderr",
     "output_type": "stream",
     "text": [
      "  1%|▏         | 33/2277 [00:01<01:28, 25.48it/s]"
     ]
    },
    {
     "name": "stdout",
     "output_type": "stream",
     "text": [
      "disk> vineyard_split_2_frame_1225.png-vineyard_split_2_frame_1220.png: 835 matches @ 3th pair(disk+lightglue)\n"
     ]
    },
    {
     "name": "stderr",
     "output_type": "stream",
     "text": [
      "  2%|▏         | 39/2277 [00:01<01:27, 25.48it/s]"
     ]
    },
    {
     "name": "stdout",
     "output_type": "stream",
     "text": [
      "disk> vineyard_split_2_frame_1225.png-vineyard_split_2_frame_1230.png: 511 matches @ 4th pair(disk+lightglue)\n"
     ]
    },
    {
     "name": "stderr",
     "output_type": "stream",
     "text": [
      "  2%|▏         | 54/2277 [00:02<01:26, 25.60it/s]"
     ]
    },
    {
     "name": "stdout",
     "output_type": "stream",
     "text": [
      "disk> vineyard_split_2_frame_1245.png-vineyard_split_2_frame_1240.png: 601 matches @ 5th pair(disk+lightglue)\n",
      "disk> vineyard_split_2_frame_1245.png-vineyard_split_2_frame_1250.png: 596 matches @ 6th pair(disk+lightglue)\n",
      "disk> vineyard_split_2_frame_1245.png-vineyard_split_2_frame_1235.png: 187 matches @ 7th pair(disk+lightglue)\n"
     ]
    },
    {
     "name": "stderr",
     "output_type": "stream",
     "text": [
      "  4%|▎         | 84/2277 [00:03<01:25, 25.60it/s]"
     ]
    },
    {
     "name": "stdout",
     "output_type": "stream",
     "text": [
      "disk> vineyard_split_2_frame_1320.png-vineyard_split_2_frame_1315.png: 595 matches @ 8th pair(disk+lightglue)\n"
     ]
    },
    {
     "name": "stderr",
     "output_type": "stream",
     "text": [
      "  4%|▍         | 102/2277 [00:03<01:25, 25.58it/s]"
     ]
    },
    {
     "name": "stdout",
     "output_type": "stream",
     "text": [
      "disk> vineyard_split_2_frame_1205.png-vineyard_split_2_frame_1200.png: 581 matches @ 9th pair(disk+lightglue)\n",
      "disk> vineyard_split_2_frame_1205.png-vineyard_split_2_frame_1195.png: 245 matches @ 10th pair(disk+lightglue)\n"
     ]
    },
    {
     "name": "stderr",
     "output_type": "stream",
     "text": [
      "  5%|▍         | 108/2277 [00:04<01:25, 25.43it/s]"
     ]
    },
    {
     "name": "stdout",
     "output_type": "stream",
     "text": [
      "disk> vineyard_split_2_frame_1205.png-vineyard_split_2_frame_1210.png: 731 matches @ 11th pair(disk+lightglue)\n",
      "disk> vineyard_split_2_frame_1205.png-vineyard_split_2_frame_1215.png: 307 matches @ 12th pair(disk+lightglue)\n"
     ]
    },
    {
     "name": "stderr",
     "output_type": "stream",
     "text": [
      "  7%|▋         | 156/2277 [00:06<01:24, 25.08it/s]"
     ]
    },
    {
     "name": "stdout",
     "output_type": "stream",
     "text": [
      "disk> vineyard_split_2_frame_1240.png-vineyard_split_2_frame_1235.png: 798 matches @ 13th pair(disk+lightglue)\n",
      "disk> vineyard_split_2_frame_1240.png-vineyard_split_2_frame_1230.png: 246 matches @ 14th pair(disk+lightglue)\n"
     ]
    },
    {
     "name": "stderr",
     "output_type": "stream",
     "text": [
      "  9%|▉         | 210/2277 [00:08<01:21, 25.31it/s]"
     ]
    },
    {
     "name": "stdout",
     "output_type": "stream",
     "text": [
      "disk> vineyard_split_2_frame_1170.png-vineyard_split_2_frame_1180.png: 555 matches @ 15th pair(disk+lightglue)\n",
      "disk> vineyard_split_2_frame_1170.png-vineyard_split_2_frame_1165.png: 644 matches @ 16th pair(disk+lightglue)\n",
      "disk> vineyard_split_2_frame_1170.png-vineyard_split_2_frame_1160.png: 248 matches @ 17th pair(disk+lightglue)\n"
     ]
    },
    {
     "name": "stderr",
     "output_type": "stream",
     "text": [
      " 10%|▉         | 219/2277 [00:08<01:21, 25.23it/s]"
     ]
    },
    {
     "name": "stdout",
     "output_type": "stream",
     "text": [
      "disk> vineyard_split_2_frame_1170.png-vineyard_split_2_frame_1175.png: 915 matches @ 18th pair(disk+lightglue)\n"
     ]
    },
    {
     "name": "stderr",
     "output_type": "stream",
     "text": [
      " 11%|█         | 240/2277 [00:09<01:20, 25.31it/s]"
     ]
    },
    {
     "name": "stdout",
     "output_type": "stream",
     "text": [
      "disk> vineyard_split_2_frame_1300.png-vineyard_split_2_frame_1305.png: 698 matches @ 19th pair(disk+lightglue)\n"
     ]
    },
    {
     "name": "stderr",
     "output_type": "stream",
     "text": [
      " 12%|█▏        | 267/2277 [00:10<01:19, 25.31it/s]"
     ]
    },
    {
     "name": "stdout",
     "output_type": "stream",
     "text": [
      "disk> vineyard_split_2_frame_1290.png-vineyard_split_2_frame_1295.png: 695 matches @ 20th pair(disk+lightglue)\n",
      "disk> vineyard_split_2_frame_1290.png-vineyard_split_2_frame_1285.png: 449 matches @ 21th pair(disk+lightglue)\n"
     ]
    },
    {
     "name": "stderr",
     "output_type": "stream",
     "text": [
      " 13%|█▎        | 285/2277 [00:11<01:19, 25.00it/s]"
     ]
    },
    {
     "name": "stdout",
     "output_type": "stream",
     "text": [
      "disk> vineyard_split_2_frame_1310.png-vineyard_split_2_frame_1305.png: 737 matches @ 22th pair(disk+lightglue)\n"
     ]
    },
    {
     "name": "stderr",
     "output_type": "stream",
     "text": [
      " 14%|█▎        | 309/2277 [00:12<01:18, 25.04it/s]"
     ]
    },
    {
     "name": "stdout",
     "output_type": "stream",
     "text": [
      "disk> vineyard_split_2_frame_1200.png-vineyard_split_2_frame_1195.png: 754 matches @ 23th pair(disk+lightglue)\n",
      "disk> vineyard_split_2_frame_1200.png-vineyard_split_2_frame_1210.png: 159 matches @ 24th pair(disk+lightglue)\n"
     ]
    },
    {
     "name": "stderr",
     "output_type": "stream",
     "text": [
      " 16%|█▌        | 360/2277 [00:14<01:16, 25.11it/s]"
     ]
    },
    {
     "name": "stdout",
     "output_type": "stream",
     "text": [
      "disk> vineyard_split_2_frame_1180.png-vineyard_split_2_frame_1185.png: 277 matches @ 25th pair(disk+lightglue)\n"
     ]
    },
    {
     "name": "stderr",
     "output_type": "stream",
     "text": [
      " 16%|█▋        | 375/2277 [00:14<01:15, 25.30it/s]"
     ]
    },
    {
     "name": "stdout",
     "output_type": "stream",
     "text": [
      "disk> vineyard_split_2_frame_1255.png-vineyard_split_2_frame_1250.png: 608 matches @ 26th pair(disk+lightglue)\n",
      "disk> vineyard_split_2_frame_1255.png-vineyard_split_2_frame_1265.png: 262 matches @ 27th pair(disk+lightglue)\n"
     ]
    },
    {
     "name": "stderr",
     "output_type": "stream",
     "text": [
      " 18%|█▊        | 408/2277 [00:16<01:13, 25.48it/s]"
     ]
    },
    {
     "name": "stdout",
     "output_type": "stream",
     "text": [
      "disk> vineyard_split_2_frame_1220.png-vineyard_split_2_frame_1230.png: 180 matches @ 28th pair(disk+lightglue)\n",
      "disk> vineyard_split_2_frame_1220.png-vineyard_split_2_frame_1215.png: 486 matches @ 29th pair(disk+lightglue)\n"
     ]
    },
    {
     "name": "stderr",
     "output_type": "stream",
     "text": [
      " 19%|█▊        | 426/2277 [00:16<01:12, 25.54it/s]"
     ]
    },
    {
     "name": "stdout",
     "output_type": "stream",
     "text": [
      "disk> vineyard_split_2_frame_1165.png-vineyard_split_2_frame_1160.png: 655 matches @ 30th pair(disk+lightglue)\n",
      "disk> vineyard_split_2_frame_1165.png-vineyard_split_2_frame_1155.png: 267 matches @ 31th pair(disk+lightglue)\n"
     ]
    },
    {
     "name": "stderr",
     "output_type": "stream",
     "text": [
      " 20%|█▉        | 450/2277 [00:17<01:12, 25.29it/s]"
     ]
    },
    {
     "name": "stdout",
     "output_type": "stream",
     "text": [
      "disk> vineyard_split_2_frame_1275.png-vineyard_split_2_frame_1280.png: 820 matches @ 32th pair(disk+lightglue)\n",
      "disk> vineyard_split_2_frame_1275.png-vineyard_split_2_frame_1270.png: 339 matches @ 33th pair(disk+lightglue)\n",
      "disk> vineyard_split_2_frame_1275.png-vineyard_split_2_frame_1285.png: 461 matches @ 34th pair(disk+lightglue)\n"
     ]
    },
    {
     "name": "stderr",
     "output_type": "stream",
     "text": [
      " 23%|██▎       | 528/2277 [00:20<01:08, 25.62it/s]"
     ]
    },
    {
     "name": "stdout",
     "output_type": "stream",
     "text": [
      "disk> vineyard_split_2_frame_1160.png-vineyard_split_2_frame_1155.png: 680 matches @ 35th pair(disk+lightglue)\n"
     ]
    },
    {
     "name": "stderr",
     "output_type": "stream",
     "text": [
      " 24%|██▍       | 552/2277 [00:21<01:07, 25.61it/s]"
     ]
    },
    {
     "name": "stdout",
     "output_type": "stream",
     "text": [
      "disk> vineyard_split_2_frame_1280.png-vineyard_split_2_frame_1285.png: 766 matches @ 36th pair(disk+lightglue)\n"
     ]
    },
    {
     "name": "stderr",
     "output_type": "stream",
     "text": [
      " 25%|██▌       | 570/2277 [00:22<01:06, 25.70it/s]"
     ]
    },
    {
     "name": "stdout",
     "output_type": "stream",
     "text": [
      "disk> vineyard_split_2_frame_1155.png-vineyard_split_2_frame_1150.png: 739 matches @ 37th pair(disk+lightglue)\n"
     ]
    },
    {
     "name": "stderr",
     "output_type": "stream",
     "text": [
      " 26%|██▌       | 585/2277 [00:23<01:06, 25.58it/s]"
     ]
    },
    {
     "name": "stdout",
     "output_type": "stream",
     "text": [
      "disk> vineyard_split_2_frame_1195.png-vineyard_split_2_frame_1185.png: 561 matches @ 38th pair(disk+lightglue)\n"
     ]
    },
    {
     "name": "stderr",
     "output_type": "stream",
     "text": [
      " 27%|██▋       | 615/2277 [00:24<01:04, 25.87it/s]"
     ]
    },
    {
     "name": "stdout",
     "output_type": "stream",
     "text": [
      "disk> vineyard_split_2_frame_1270.png-vineyard_split_2_frame_1265.png: 538 matches @ 39th pair(disk+lightglue)\n"
     ]
    },
    {
     "name": "stderr",
     "output_type": "stream",
     "text": [
      " 27%|██▋       | 624/2277 [00:24<01:05, 25.41it/s]"
     ]
    },
    {
     "name": "stdout",
     "output_type": "stream",
     "text": [
      "disk> vineyard_split_2_frame_1210.png-vineyard_split_2_frame_1215.png: 639 matches @ 40th pair(disk+lightglue)\n"
     ]
    },
    {
     "name": "stderr",
     "output_type": "stream",
     "text": [
      " 35%|███▌      | 798/2277 [00:31<00:57, 25.70it/s]"
     ]
    },
    {
     "name": "stdout",
     "output_type": "stream",
     "text": [
      "disk> vineyard_split_2_frame_1235.png-vineyard_split_2_frame_1230.png: 658 matches @ 41th pair(disk+lightglue)\n"
     ]
    },
    {
     "name": "stderr",
     "output_type": "stream",
     "text": [
      " 39%|███▉      | 885/2277 [00:34<00:53, 25.93it/s]"
     ]
    },
    {
     "name": "stdout",
     "output_type": "stream",
     "text": [
      "disk> vineyard_split_3_frame_1395.png-vineyard_split_3_frame_1390.png: 474 matches @ 42th pair(disk+lightglue)\n",
      "disk> vineyard_split_3_frame_1395.png-vineyard_split_3_frame_1405.png: 528 matches @ 43th pair(disk+lightglue)\n",
      "disk> vineyard_split_3_frame_1395.png-vineyard_split_3_frame_1400.png: 813 matches @ 44th pair(disk+lightglue)\n"
     ]
    },
    {
     "name": "stderr",
     "output_type": "stream",
     "text": [
      " 40%|████      | 915/2277 [00:35<00:52, 25.98it/s]"
     ]
    },
    {
     "name": "stdout",
     "output_type": "stream",
     "text": [
      "disk> vineyard_split_3_frame_1475.png-vineyard_split_3_frame_1470.png: 948 matches @ 45th pair(disk+lightglue)\n"
     ]
    },
    {
     "name": "stderr",
     "output_type": "stream",
     "text": [
      " 41%|████      | 927/2277 [00:36<00:51, 26.01it/s]"
     ]
    },
    {
     "name": "stdout",
     "output_type": "stream",
     "text": [
      "disk> vineyard_split_3_frame_0255.png-vineyard_split_3_frame_0265.png: 502 matches @ 46th pair(disk+lightglue)\n"
     ]
    },
    {
     "name": "stderr",
     "output_type": "stream",
     "text": [
      " 41%|████      | 939/2277 [00:36<00:51, 25.97it/s]"
     ]
    },
    {
     "name": "stdout",
     "output_type": "stream",
     "text": [
      "disk> vineyard_split_3_frame_0255.png-vineyard_split_3_frame_0245.png: 455 matches @ 47th pair(disk+lightglue)\n",
      "disk> vineyard_split_3_frame_0255.png-vineyard_split_3_frame_0240.png: 171 matches @ 48th pair(disk+lightglue)\n"
     ]
    },
    {
     "name": "stderr",
     "output_type": "stream",
     "text": [
      " 42%|████▏     | 945/2277 [00:36<00:51, 25.90it/s]"
     ]
    },
    {
     "name": "stdout",
     "output_type": "stream",
     "text": [
      "disk> vineyard_split_3_frame_0255.png-vineyard_split_3_frame_0260.png: 828 matches @ 49th pair(disk+lightglue)\n"
     ]
    },
    {
     "name": "stderr",
     "output_type": "stream",
     "text": [
      " 42%|████▏     | 954/2277 [00:37<00:50, 26.01it/s]"
     ]
    },
    {
     "name": "stdout",
     "output_type": "stream",
     "text": [
      "disk> vineyard_split_3_frame_1425.png-vineyard_split_3_frame_1420.png: 464 matches @ 50th pair(disk+lightglue)\n"
     ]
    },
    {
     "name": "stderr",
     "output_type": "stream",
     "text": [
      " 43%|████▎     | 975/2277 [00:38<00:50, 25.85it/s]"
     ]
    },
    {
     "name": "stdout",
     "output_type": "stream",
     "text": [
      "disk> vineyard_split_3_frame_0125.png-vineyard_split_3_frame_0120.png: 961 matches @ 51th pair(disk+lightglue)\n",
      "disk> vineyard_split_3_frame_0125.png-vineyard_split_3_frame_0110.png: 307 matches @ 52th pair(disk+lightglue)\n"
     ]
    },
    {
     "name": "stderr",
     "output_type": "stream",
     "text": [
      " 43%|████▎     | 984/2277 [00:38<00:50, 25.84it/s]"
     ]
    },
    {
     "name": "stdout",
     "output_type": "stream",
     "text": [
      "disk> vineyard_split_3_frame_0125.png-vineyard_split_3_frame_0135.png: 443 matches @ 53th pair(disk+lightglue)\n"
     ]
    },
    {
     "name": "stderr",
     "output_type": "stream",
     "text": [
      " 44%|████▍     | 1005/2277 [00:39<00:49, 25.93it/s]"
     ]
    },
    {
     "name": "stdout",
     "output_type": "stream",
     "text": [
      "disk> vineyard_split_3_frame_1480.png-vineyard_split_3_frame_1485.png: 759 matches @ 54th pair(disk+lightglue)\n",
      "disk> vineyard_split_3_frame_1480.png-vineyard_split_3_frame_1470.png: 390 matches @ 55th pair(disk+lightglue)\n"
     ]
    },
    {
     "name": "stderr",
     "output_type": "stream",
     "text": [
      " 45%|████▍     | 1017/2277 [00:39<00:48, 25.78it/s]"
     ]
    },
    {
     "name": "stdout",
     "output_type": "stream",
     "text": [
      "disk> vineyard_split_3_frame_0215.png-vineyard_split_3_frame_0225.png: 450 matches @ 56th pair(disk+lightglue)\n",
      "disk> vineyard_split_3_frame_0215.png-vineyard_split_3_frame_0205.png: 516 matches @ 57th pair(disk+lightglue)\n"
     ]
    },
    {
     "name": "stderr",
     "output_type": "stream",
     "text": [
      " 45%|████▌     | 1026/2277 [00:40<00:48, 25.91it/s]"
     ]
    },
    {
     "name": "stdout",
     "output_type": "stream",
     "text": [
      "disk> vineyard_split_3_frame_0215.png-vineyard_split_3_frame_0220.png: 955 matches @ 58th pair(disk+lightglue)\n"
     ]
    },
    {
     "name": "stderr",
     "output_type": "stream",
     "text": [
      " 45%|████▌     | 1035/2277 [00:40<00:47, 26.00it/s]"
     ]
    },
    {
     "name": "stdout",
     "output_type": "stream",
     "text": [
      "disk> vineyard_split_3_frame_0295.png-vineyard_split_3_frame_0285.png: 384 matches @ 59th pair(disk+lightglue)\n",
      "disk> vineyard_split_3_frame_0295.png-vineyard_split_3_frame_0305.png: 399 matches @ 60th pair(disk+lightglue)\n"
     ]
    },
    {
     "name": "stderr",
     "output_type": "stream",
     "text": [
      " 46%|████▌     | 1044/2277 [00:40<00:47, 26.07it/s]"
     ]
    },
    {
     "name": "stdout",
     "output_type": "stream",
     "text": [
      "disk> vineyard_split_3_frame_0295.png-vineyard_split_3_frame_0300.png: 574 matches @ 61th pair(disk+lightglue)\n"
     ]
    },
    {
     "name": "stderr",
     "output_type": "stream",
     "text": [
      " 46%|████▌     | 1050/2277 [00:41<00:47, 26.09it/s]"
     ]
    },
    {
     "name": "stdout",
     "output_type": "stream",
     "text": [
      "disk> vineyard_split_3_frame_0090.png-vineyard_split_3_frame_0080.png: 457 matches @ 62th pair(disk+lightglue)\n"
     ]
    },
    {
     "name": "stderr",
     "output_type": "stream",
     "text": [
      " 46%|████▋     | 1056/2277 [00:41<00:47, 25.96it/s]"
     ]
    },
    {
     "name": "stdout",
     "output_type": "stream",
     "text": [
      "disk> vineyard_split_3_frame_0090.png-vineyard_split_3_frame_0085.png: 940 matches @ 63th pair(disk+lightglue)\n",
      "disk> vineyard_split_3_frame_0090.png-vineyard_split_3_frame_0095.png: 853 matches @ 64th pair(disk+lightglue)\n"
     ]
    },
    {
     "name": "stderr",
     "output_type": "stream",
     "text": [
      " 47%|████▋     | 1068/2277 [00:41<00:46, 26.04it/s]"
     ]
    },
    {
     "name": "stdout",
     "output_type": "stream",
     "text": [
      "disk> vineyard_split_3_frame_0190.png-vineyard_split_3_frame_0195.png: 753 matches @ 65th pair(disk+lightglue)\n"
     ]
    },
    {
     "name": "stderr",
     "output_type": "stream",
     "text": [
      " 47%|████▋     | 1074/2277 [00:41<00:46, 25.96it/s]"
     ]
    },
    {
     "name": "stdout",
     "output_type": "stream",
     "text": [
      "disk> vineyard_split_3_frame_0190.png-vineyard_split_3_frame_0180.png: 299 matches @ 66th pair(disk+lightglue)\n"
     ]
    },
    {
     "name": "stderr",
     "output_type": "stream",
     "text": [
      " 48%|████▊     | 1083/2277 [00:42<00:45, 26.08it/s]"
     ]
    },
    {
     "name": "stdout",
     "output_type": "stream",
     "text": [
      "disk> vineyard_split_3_frame_0265.png-vineyard_split_3_frame_0270.png: 710 matches @ 67th pair(disk+lightglue)\n",
      "disk> vineyard_split_3_frame_0265.png-vineyard_split_3_frame_0275.png: 400 matches @ 68th pair(disk+lightglue)\n"
     ]
    },
    {
     "name": "stderr",
     "output_type": "stream",
     "text": [
      " 48%|████▊     | 1098/2277 [00:42<00:45, 25.92it/s]"
     ]
    },
    {
     "name": "stdout",
     "output_type": "stream",
     "text": [
      "disk> vineyard_split_3_frame_0265.png-vineyard_split_3_frame_0260.png: 924 matches @ 69th pair(disk+lightglue)\n",
      "disk> vineyard_split_3_frame_1445.png-vineyard_split_3_frame_1450.png: 508 matches @ 70th pair(disk+lightglue)\n"
     ]
    },
    {
     "name": "stderr",
     "output_type": "stream",
     "text": [
      " 49%|████▊     | 1107/2277 [00:43<00:44, 26.01it/s]"
     ]
    },
    {
     "name": "stdout",
     "output_type": "stream",
     "text": [
      "disk> vineyard_split_3_frame_1445.png-vineyard_split_3_frame_1440.png: 671 matches @ 71th pair(disk+lightglue)\n"
     ]
    },
    {
     "name": "stderr",
     "output_type": "stream",
     "text": [
      " 51%|█████▏    | 1167/2277 [00:45<00:42, 26.22it/s]"
     ]
    },
    {
     "name": "stdout",
     "output_type": "stream",
     "text": [
      "disk> vineyard_split_3_frame_1390.png-vineyard_split_3_frame_1400.png: 152 matches @ 72th pair(disk+lightglue)\n"
     ]
    },
    {
     "name": "stderr",
     "output_type": "stream",
     "text": [
      " 52%|█████▏    | 1194/2277 [00:46<00:41, 26.16it/s]"
     ]
    },
    {
     "name": "stdout",
     "output_type": "stream",
     "text": [
      "disk> vineyard_split_3_frame_1555.png-vineyard_split_3_frame_1545.png: 397 matches @ 73th pair(disk+lightglue)\n",
      "disk> vineyard_split_3_frame_1555.png-vineyard_split_3_frame_1560.png: 481 matches @ 74th pair(disk+lightglue)\n"
     ]
    },
    {
     "name": "stderr",
     "output_type": "stream",
     "text": [
      " 53%|█████▎    | 1209/2277 [00:47<00:40, 26.08it/s]"
     ]
    },
    {
     "name": "stdout",
     "output_type": "stream",
     "text": [
      "disk> vineyard_split_3_frame_1550.png-vineyard_split_3_frame_1545.png: 756 matches @ 75th pair(disk+lightglue)\n"
     ]
    },
    {
     "name": "stderr",
     "output_type": "stream",
     "text": [
      " 54%|█████▍    | 1239/2277 [00:48<00:39, 26.08it/s]"
     ]
    },
    {
     "name": "stdout",
     "output_type": "stream",
     "text": [
      "disk> vineyard_split_3_frame_1405.png-vineyard_split_3_frame_1410.png: 663 matches @ 76th pair(disk+lightglue)\n",
      "disk> vineyard_split_3_frame_1405.png-vineyard_split_3_frame_1400.png: 863 matches @ 77th pair(disk+lightglue)\n"
     ]
    },
    {
     "name": "stderr",
     "output_type": "stream",
     "text": [
      " 56%|█████▌    | 1266/2277 [00:49<00:38, 26.11it/s]"
     ]
    },
    {
     "name": "stdout",
     "output_type": "stream",
     "text": [
      "disk> vineyard_split_3_frame_0070.png-vineyard_split_3_frame_0075.png: 624 matches @ 78th pair(disk+lightglue)\n",
      "disk> vineyard_split_3_frame_0070.png-vineyard_split_3_frame_0080.png: 363 matches @ 79th pair(disk+lightglue)\n"
     ]
    },
    {
     "name": "stderr",
     "output_type": "stream",
     "text": [
      " 56%|█████▋    | 1284/2277 [00:49<00:38, 25.89it/s]"
     ]
    },
    {
     "name": "stdout",
     "output_type": "stream",
     "text": [
      "disk> vineyard_split_3_frame_1500.png-vineyard_split_3_frame_1490.png: 334 matches @ 80th pair(disk+lightglue)\n"
     ]
    },
    {
     "name": "stderr",
     "output_type": "stream",
     "text": [
      " 58%|█████▊    | 1326/2277 [00:51<00:36, 25.99it/s]"
     ]
    },
    {
     "name": "stdout",
     "output_type": "stream",
     "text": [
      "disk> vineyard_split_3_frame_0075.png-vineyard_split_3_frame_0080.png: 863 matches @ 81th pair(disk+lightglue)\n"
     ]
    },
    {
     "name": "stderr",
     "output_type": "stream",
     "text": [
      " 58%|█████▊    | 1332/2277 [00:51<00:36, 26.05it/s]"
     ]
    },
    {
     "name": "stdout",
     "output_type": "stream",
     "text": [
      "disk> vineyard_split_3_frame_0075.png-vineyard_split_3_frame_0085.png: 453 matches @ 82th pair(disk+lightglue)\n"
     ]
    },
    {
     "name": "stderr",
     "output_type": "stream",
     "text": [
      " 59%|█████▉    | 1338/2277 [00:52<00:36, 25.97it/s]"
     ]
    },
    {
     "name": "stdout",
     "output_type": "stream",
     "text": [
      "disk> vineyard_split_3_frame_0160.png-vineyard_split_3_frame_0150.png: 449 matches @ 83th pair(disk+lightglue)\n"
     ]
    },
    {
     "name": "stderr",
     "output_type": "stream",
     "text": [
      " 59%|█████▉    | 1353/2277 [00:52<00:35, 26.04it/s]"
     ]
    },
    {
     "name": "stdout",
     "output_type": "stream",
     "text": [
      "disk> vineyard_split_3_frame_0160.png-vineyard_split_3_frame_0165.png: 995 matches @ 84th pair(disk+lightglue)\n",
      "disk> vineyard_split_3_frame_0160.png-vineyard_split_3_frame_0155.png: 705 matches @ 85th pair(disk+lightglue)\n",
      "disk> vineyard_split_3_frame_0150.png-vineyard_split_3_frame_0140.png: 419 matches @ 86th pair(disk+lightglue)\n"
     ]
    },
    {
     "name": "stderr",
     "output_type": "stream",
     "text": [
      " 61%|██████    | 1380/2277 [00:53<00:34, 26.23it/s]"
     ]
    },
    {
     "name": "stdout",
     "output_type": "stream",
     "text": [
      "disk> vineyard_split_3_frame_0150.png-vineyard_split_3_frame_0155.png: 854 matches @ 87th pair(disk+lightglue)\n"
     ]
    },
    {
     "name": "stderr",
     "output_type": "stream",
     "text": [
      " 61%|██████▏   | 1395/2277 [00:54<00:33, 26.11it/s]"
     ]
    },
    {
     "name": "stdout",
     "output_type": "stream",
     "text": [
      "disk> vineyard_split_3_frame_0140.png-vineyard_split_3_frame_0135.png: 707 matches @ 88th pair(disk+lightglue)\n"
     ]
    },
    {
     "name": "stderr",
     "output_type": "stream",
     "text": [
      " 62%|██████▏   | 1407/2277 [00:54<00:33, 26.14it/s]"
     ]
    },
    {
     "name": "stdout",
     "output_type": "stream",
     "text": [
      "disk> vineyard_split_3_frame_0270.png-vineyard_split_3_frame_0285.png: 784 matches @ 89th pair(disk+lightglue)\n",
      "disk> vineyard_split_3_frame_0270.png-vineyard_split_3_frame_0280.png: 891 matches @ 90th pair(disk+lightglue)\n",
      "disk> vineyard_split_3_frame_0270.png-vineyard_split_3_frame_0275.png: 924 matches @ 91th pair(disk+lightglue)\n"
     ]
    },
    {
     "name": "stderr",
     "output_type": "stream",
     "text": [
      " 62%|██████▏   | 1422/2277 [00:55<00:32, 26.14it/s]"
     ]
    },
    {
     "name": "stdout",
     "output_type": "stream",
     "text": [
      "disk> vineyard_split_3_frame_0270.png-vineyard_split_3_frame_0260.png: 362 matches @ 92th pair(disk+lightglue)\n"
     ]
    },
    {
     "name": "stderr",
     "output_type": "stream",
     "text": [
      " 63%|██████▎   | 1428/2277 [00:55<00:32, 26.16it/s]"
     ]
    },
    {
     "name": "stdout",
     "output_type": "stream",
     "text": [
      "disk> vineyard_split_3_frame_0170.png-vineyard_split_3_frame_0175.png: 794 matches @ 93th pair(disk+lightglue)\n"
     ]
    },
    {
     "name": "stderr",
     "output_type": "stream",
     "text": [
      " 63%|██████▎   | 1434/2277 [00:55<00:32, 26.10it/s]"
     ]
    },
    {
     "name": "stdout",
     "output_type": "stream",
     "text": [
      "disk> vineyard_split_3_frame_0170.png-vineyard_split_3_frame_0165.png: 819 matches @ 94th pair(disk+lightglue)\n",
      "disk> vineyard_split_3_frame_0170.png-vineyard_split_3_frame_0180.png: 441 matches @ 95th pair(disk+lightglue)\n",
      "disk> vineyard_split_3_frame_0285.png-vineyard_split_3_frame_0280.png: 1029 matches @ 96th pair(disk+lightglue)\n",
      "disk> vineyard_split_3_frame_0285.png-vineyard_split_3_frame_0275.png: 925 matches @ 97th pair(disk+lightglue)\n"
     ]
    },
    {
     "name": "stderr",
     "output_type": "stream",
     "text": [
      " 65%|██████▌   | 1482/2277 [00:57<00:30, 26.11it/s]"
     ]
    },
    {
     "name": "stdout",
     "output_type": "stream",
     "text": [
      "disk> vineyard_split_3_frame_1490.png-vineyard_split_3_frame_1485.png: 561 matches @ 98th pair(disk+lightglue)\n"
     ]
    },
    {
     "name": "stderr",
     "output_type": "stream",
     "text": [
      " 66%|██████▋   | 1512/2277 [00:58<00:29, 26.07it/s]"
     ]
    },
    {
     "name": "stdout",
     "output_type": "stream",
     "text": [
      "disk> vineyard_split_3_frame_0280.png-vineyard_split_3_frame_0275.png: 989 matches @ 99th pair(disk+lightglue)\n"
     ]
    },
    {
     "name": "stderr",
     "output_type": "stream",
     "text": [
      " 68%|██████▊   | 1545/2277 [01:00<00:28, 26.11it/s]"
     ]
    },
    {
     "name": "stdout",
     "output_type": "stream",
     "text": [
      "disk> vineyard_split_3_frame_0225.png-vineyard_split_3_frame_0220.png: 650 matches @ 100th pair(disk+lightglue)\n",
      "disk> vineyard_split_3_frame_0225.png-vineyard_split_3_frame_0230.png: 616 matches @ 101th pair(disk+lightglue)\n"
     ]
    },
    {
     "name": "stderr",
     "output_type": "stream",
     "text": [
      " 68%|██████▊   | 1557/2277 [01:00<00:27, 26.16it/s]"
     ]
    },
    {
     "name": "stdout",
     "output_type": "stream",
     "text": [
      "disk> vineyard_split_3_frame_0080.png-vineyard_split_3_frame_0085.png: 787 matches @ 102th pair(disk+lightglue)\n"
     ]
    },
    {
     "name": "stderr",
     "output_type": "stream",
     "text": [
      " 69%|██████▊   | 1563/2277 [01:00<00:27, 26.20it/s]"
     ]
    },
    {
     "name": "stdout",
     "output_type": "stream",
     "text": [
      "disk> vineyard_split_3_frame_0250.png-vineyard_split_3_frame_0235.png: 306 matches @ 103th pair(disk+lightglue)\n"
     ]
    },
    {
     "name": "stderr",
     "output_type": "stream",
     "text": [
      " 69%|██████▉   | 1572/2277 [01:01<00:26, 26.14it/s]"
     ]
    },
    {
     "name": "stdout",
     "output_type": "stream",
     "text": [
      "disk> vineyard_split_3_frame_1495.png-vineyard_split_3_frame_1505.png: 140 matches @ 104th pair(disk+lightglue)\n"
     ]
    },
    {
     "name": "stderr",
     "output_type": "stream",
     "text": [
      " 70%|██████▉   | 1587/2277 [01:01<00:26, 25.86it/s]"
     ]
    },
    {
     "name": "stdout",
     "output_type": "stream",
     "text": [
      "disk> vineyard_split_3_frame_0120.png-vineyard_split_3_frame_0105.png: 395 matches @ 105th pair(disk+lightglue)\n",
      "disk> vineyard_split_3_frame_0120.png-vineyard_split_3_frame_0110.png: 635 matches @ 106th pair(disk+lightglue)\n"
     ]
    },
    {
     "name": "stderr",
     "output_type": "stream",
     "text": [
      " 70%|██████▉   | 1593/2277 [01:01<00:26, 26.04it/s]"
     ]
    },
    {
     "name": "stdout",
     "output_type": "stream",
     "text": [
      "disk> vineyard_split_3_frame_0120.png-vineyard_split_3_frame_0135.png: 278 matches @ 107th pair(disk+lightglue)\n"
     ]
    },
    {
     "name": "stderr",
     "output_type": "stream",
     "text": [
      " 70%|███████   | 1602/2277 [01:02<00:25, 26.04it/s]"
     ]
    },
    {
     "name": "stdout",
     "output_type": "stream",
     "text": [
      "disk> vineyard_split_3_frame_1510.png-vineyard_split_3_frame_1520.png: 509 matches @ 108th pair(disk+lightglue)\n",
      "disk> vineyard_split_3_frame_1510.png-vineyard_split_3_frame_1515.png: 951 matches @ 109th pair(disk+lightglue)\n"
     ]
    },
    {
     "name": "stderr",
     "output_type": "stream",
     "text": [
      " 71%|███████   | 1620/2277 [01:02<00:25, 26.12it/s]"
     ]
    },
    {
     "name": "stdout",
     "output_type": "stream",
     "text": [
      "disk> vineyard_split_3_frame_0105.png-vineyard_split_3_frame_0110.png: 956 matches @ 110th pair(disk+lightglue)\n",
      "disk> vineyard_split_3_frame_0105.png-vineyard_split_3_frame_0100.png: 583 matches @ 111th pair(disk+lightglue)\n"
     ]
    },
    {
     "name": "stderr",
     "output_type": "stream",
     "text": [
      " 71%|███████▏  | 1626/2277 [01:03<00:25, 26.03it/s]"
     ]
    },
    {
     "name": "stdout",
     "output_type": "stream",
     "text": [
      "disk> vineyard_split_3_frame_0105.png-vineyard_split_3_frame_0095.png: 216 matches @ 112th pair(disk+lightglue)\n",
      "disk> vineyard_split_3_frame_1535.png-vineyard_split_3_frame_1530.png: 427 matches @ 113th pair(disk+lightglue)\n"
     ]
    },
    {
     "name": "stderr",
     "output_type": "stream",
     "text": [
      " 72%|███████▏  | 1638/2277 [01:03<00:24, 26.08it/s]"
     ]
    },
    {
     "name": "stdout",
     "output_type": "stream",
     "text": [
      "disk> vineyard_split_3_frame_1540.png-vineyard_split_3_frame_1545.png: 826 matches @ 114th pair(disk+lightglue)\n"
     ]
    },
    {
     "name": "stderr",
     "output_type": "stream",
     "text": [
      " 72%|███████▏  | 1650/2277 [01:04<00:23, 26.18it/s]"
     ]
    },
    {
     "name": "stdout",
     "output_type": "stream",
     "text": [
      "disk> vineyard_split_3_frame_0205.png-vineyard_split_3_frame_0195.png: 351 matches @ 115th pair(disk+lightglue)\n",
      "disk> vineyard_split_3_frame_0205.png-vineyard_split_3_frame_0210.png: 848 matches @ 116th pair(disk+lightglue)\n",
      "disk> vineyard_split_3_frame_0205.png-vineyard_split_3_frame_0220.png: 391 matches @ 117th pair(disk+lightglue)\n"
     ]
    },
    {
     "name": "stderr",
     "output_type": "stream",
     "text": [
      " 73%|███████▎  | 1656/2277 [01:04<00:23, 26.21it/s]"
     ]
    },
    {
     "name": "stdout",
     "output_type": "stream",
     "text": [
      "disk> vineyard_split_3_frame_0205.png-vineyard_split_3_frame_0200.png: 677 matches @ 118th pair(disk+lightglue)\n"
     ]
    },
    {
     "name": "stderr",
     "output_type": "stream",
     "text": [
      " 73%|███████▎  | 1668/2277 [01:04<00:23, 26.20it/s]"
     ]
    },
    {
     "name": "stdout",
     "output_type": "stream",
     "text": [
      "disk> vineyard_split_3_frame_1410.png-vineyard_split_3_frame_1415.png: 644 matches @ 119th pair(disk+lightglue)\n",
      "disk> vineyard_split_3_frame_1410.png-vineyard_split_3_frame_1420.png: 294 matches @ 120th pair(disk+lightglue)\n"
     ]
    },
    {
     "name": "stderr",
     "output_type": "stream",
     "text": [
      " 74%|███████▍  | 1680/2277 [01:05<00:22, 26.10it/s]"
     ]
    },
    {
     "name": "stdout",
     "output_type": "stream",
     "text": [
      "disk> vineyard_split_3_frame_0305.png-vineyard_split_3_frame_0300.png: 1065 matches @ 121th pair(disk+lightglue)\n"
     ]
    },
    {
     "name": "stderr",
     "output_type": "stream",
     "text": [
      " 75%|███████▍  | 1704/2277 [01:06<00:21, 26.14it/s]"
     ]
    },
    {
     "name": "stdout",
     "output_type": "stream",
     "text": [
      "disk> vineyard_split_3_frame_0175.png-vineyard_split_3_frame_0185.png: 305 matches @ 122th pair(disk+lightglue)\n"
     ]
    },
    {
     "name": "stderr",
     "output_type": "stream",
     "text": [
      " 76%|███████▌  | 1728/2277 [01:07<00:21, 26.09it/s]"
     ]
    },
    {
     "name": "stdout",
     "output_type": "stream",
     "text": [
      "disk> vineyard_split_3_frame_1520.png-vineyard_split_3_frame_1525.png: 613 matches @ 123th pair(disk+lightglue)\n",
      "disk> vineyard_split_3_frame_1465.png-vineyard_split_3_frame_1460.png: 996 matches @ 124th pair(disk+lightglue)\n"
     ]
    },
    {
     "name": "stderr",
     "output_type": "stream",
     "text": [
      " 76%|███████▋  | 1737/2277 [01:07<00:20, 26.05it/s]"
     ]
    },
    {
     "name": "stdout",
     "output_type": "stream",
     "text": [
      "disk> vineyard_split_3_frame_1465.png-vineyard_split_3_frame_1470.png: 523 matches @ 125th pair(disk+lightglue)\n"
     ]
    },
    {
     "name": "stderr",
     "output_type": "stream",
     "text": [
      " 77%|███████▋  | 1746/2277 [01:07<00:20, 26.06it/s]"
     ]
    },
    {
     "name": "stdout",
     "output_type": "stream",
     "text": [
      "disk> vineyard_split_3_frame_1525.png-vineyard_split_3_frame_1530.png: 713 matches @ 126th pair(disk+lightglue)\n"
     ]
    },
    {
     "name": "stderr",
     "output_type": "stream",
     "text": [
      " 77%|███████▋  | 1758/2277 [01:08<00:19, 26.14it/s]"
     ]
    },
    {
     "name": "stdout",
     "output_type": "stream",
     "text": [
      "disk> vineyard_split_3_frame_0110.png-vineyard_split_3_frame_0100.png: 414 matches @ 127th pair(disk+lightglue)\n"
     ]
    },
    {
     "name": "stderr",
     "output_type": "stream",
     "text": [
      " 78%|███████▊  | 1767/2277 [01:08<00:19, 25.94it/s]"
     ]
    },
    {
     "name": "stdout",
     "output_type": "stream",
     "text": [
      "disk> vineyard_split_3_frame_0110.png-vineyard_split_3_frame_0115.png: 926 matches @ 128th pair(disk+lightglue)\n"
     ]
    },
    {
     "name": "stderr",
     "output_type": "stream",
     "text": [
      " 78%|███████▊  | 1773/2277 [01:08<00:19, 26.01it/s]"
     ]
    },
    {
     "name": "stdout",
     "output_type": "stream",
     "text": [
      "disk> vineyard_split_3_frame_0195.png-vineyard_split_3_frame_0200.png: 821 matches @ 129th pair(disk+lightglue)\n"
     ]
    },
    {
     "name": "stderr",
     "output_type": "stream",
     "text": [
      " 78%|███████▊  | 1782/2277 [01:09<00:19, 26.05it/s]"
     ]
    },
    {
     "name": "stdout",
     "output_type": "stream",
     "text": [
      "disk> vineyard_split_3_frame_1570.png-vineyard_split_3_frame_1560.png: 279 matches @ 130th pair(disk+lightglue)\n"
     ]
    },
    {
     "name": "stderr",
     "output_type": "stream",
     "text": [
      " 79%|███████▊  | 1788/2277 [01:09<00:18, 26.04it/s]"
     ]
    },
    {
     "name": "stdout",
     "output_type": "stream",
     "text": [
      "disk> vineyard_split_3_frame_1570.png-vineyard_split_3_frame_1565.png: 707 matches @ 131th pair(disk+lightglue)\n"
     ]
    },
    {
     "name": "stderr",
     "output_type": "stream",
     "text": [
      " 79%|███████▉  | 1797/2277 [01:09<00:18, 25.70it/s]"
     ]
    },
    {
     "name": "stdout",
     "output_type": "stream",
     "text": [
      "disk> vineyard_split_3_frame_0210.png-vineyard_split_3_frame_0220.png: 548 matches @ 132th pair(disk+lightglue)\n",
      "disk> vineyard_split_3_frame_0210.png-vineyard_split_3_frame_0200.png: 372 matches @ 133th pair(disk+lightglue)\n"
     ]
    },
    {
     "name": "stderr",
     "output_type": "stream",
     "text": [
      " 80%|███████▉  | 1812/2277 [01:10<00:17, 25.94it/s]"
     ]
    },
    {
     "name": "stdout",
     "output_type": "stream",
     "text": [
      "disk> vineyard_split_3_frame_0100.png-vineyard_split_3_frame_0085.png: 266 matches @ 134th pair(disk+lightglue)\n",
      "disk> vineyard_split_3_frame_0100.png-vineyard_split_3_frame_0095.png: 767 matches @ 135th pair(disk+lightglue)\n",
      "disk> vineyard_split_3_frame_1560.png-vineyard_split_3_frame_1565.png: 707 matches @ 136th pair(disk+lightglue)\n"
     ]
    },
    {
     "name": "stderr",
     "output_type": "stream",
     "text": [
      " 80%|████████  | 1824/2277 [01:10<00:17, 26.02it/s]"
     ]
    },
    {
     "name": "stdout",
     "output_type": "stream",
     "text": [
      "disk> vineyard_split_3_frame_1430.png-vineyard_split_3_frame_1435.png: 643 matches @ 137th pair(disk+lightglue)\n"
     ]
    },
    {
     "name": "stderr",
     "output_type": "stream",
     "text": [
      " 81%|████████  | 1833/2277 [01:11<00:17, 25.91it/s]"
     ]
    },
    {
     "name": "stdout",
     "output_type": "stream",
     "text": [
      "disk> vineyard_split_3_frame_0245.png-vineyard_split_3_frame_0240.png: 865 matches @ 138th pair(disk+lightglue)\n",
      "disk> vineyard_split_3_frame_0130.png-vineyard_split_3_frame_0115.png: 315 matches @ 139th pair(disk+lightglue)\n"
     ]
    },
    {
     "name": "stderr",
     "output_type": "stream",
     "text": [
      " 82%|████████▏ | 1860/2277 [01:12<00:16, 25.95it/s]"
     ]
    },
    {
     "name": "stdout",
     "output_type": "stream",
     "text": [
      "disk> vineyard_split_3_frame_1440.png-vineyard_split_3_frame_1435.png: 627 matches @ 140th pair(disk+lightglue)\n"
     ]
    },
    {
     "name": "stderr",
     "output_type": "stream",
     "text": [
      " 82%|████████▏ | 1866/2277 [01:12<00:15, 26.10it/s]"
     ]
    },
    {
     "name": "stdout",
     "output_type": "stream",
     "text": [
      "disk> vineyard_split_3_frame_0240.png-vineyard_split_3_frame_0230.png: 554 matches @ 141th pair(disk+lightglue)\n"
     ]
    },
    {
     "name": "stderr",
     "output_type": "stream",
     "text": [
      " 83%|████████▎ | 1899/2277 [01:13<00:14, 25.93it/s]"
     ]
    },
    {
     "name": "stdout",
     "output_type": "stream",
     "text": [
      "disk> vineyard_split_3_frame_0165.png-vineyard_split_3_frame_0155.png: 616 matches @ 142th pair(disk+lightglue)\n"
     ]
    },
    {
     "name": "stderr",
     "output_type": "stream",
     "text": [
      " 84%|████████▍ | 1923/2277 [01:14<00:13, 25.99it/s]"
     ]
    },
    {
     "name": "stdout",
     "output_type": "stream",
     "text": [
      "disk> vineyard_split_3_frame_1415.png-vineyard_split_3_frame_1420.png: 767 matches @ 143th pair(disk+lightglue)\n"
     ]
    },
    {
     "name": "stderr",
     "output_type": "stream",
     "text": [
      " 87%|████████▋ | 1980/2277 [01:16<00:11, 25.93it/s]"
     ]
    },
    {
     "name": "stdout",
     "output_type": "stream",
     "text": [
      "disk> vineyard_split_3_frame_0085.png-vineyard_split_3_frame_0095.png: 556 matches @ 144th pair(disk+lightglue)\n"
     ]
    },
    {
     "name": "stderr",
     "output_type": "stream",
     "text": [
      " 89%|████████▊ | 2019/2277 [01:18<00:09, 25.89it/s]"
     ]
    },
    {
     "name": "stdout",
     "output_type": "stream",
     "text": [
      "disk> vineyard_split_1_frame_0950.png-vineyard_split_1_frame_0960.png: 342 matches @ 145th pair(disk+lightglue)\n"
     ]
    },
    {
     "name": "stderr",
     "output_type": "stream",
     "text": [
      " 89%|████████▉ | 2028/2277 [01:18<00:09, 25.91it/s]"
     ]
    },
    {
     "name": "stdout",
     "output_type": "stream",
     "text": [
      "disk> vineyard_split_1_frame_1005.png-vineyard_split_1_frame_0995.png: 282 matches @ 146th pair(disk+lightglue)\n"
     ]
    },
    {
     "name": "stderr",
     "output_type": "stream",
     "text": [
      " 89%|████████▉ | 2037/2277 [01:18<00:09, 25.87it/s]"
     ]
    },
    {
     "name": "stdout",
     "output_type": "stream",
     "text": [
      "disk> vineyard_split_1_frame_0915.png-vineyard_split_1_frame_0910.png: 999 matches @ 147th pair(disk+lightglue)\n",
      "disk> vineyard_split_1_frame_0915.png-vineyard_split_1_frame_0920.png: 556 matches @ 148th pair(disk+lightglue)\n"
     ]
    },
    {
     "name": "stderr",
     "output_type": "stream",
     "text": [
      " 90%|█████████ | 2052/2277 [01:19<00:08, 25.80it/s]"
     ]
    },
    {
     "name": "stdout",
     "output_type": "stream",
     "text": [
      "disk> vineyard_split_1_frame_1070.png-vineyard_split_1_frame_1065.png: 532 matches @ 149th pair(disk+lightglue)\n",
      "disk> vineyard_split_1_frame_1070.png-vineyard_split_1_frame_1080.png: 148 matches @ 150th pair(disk+lightglue)\n",
      "disk> vineyard_split_1_frame_1070.png-vineyard_split_1_frame_1075.png: 561 matches @ 151th pair(disk+lightglue)\n"
     ]
    },
    {
     "name": "stderr",
     "output_type": "stream",
     "text": [
      " 91%|█████████ | 2070/2277 [01:20<00:08, 25.68it/s]"
     ]
    },
    {
     "name": "stdout",
     "output_type": "stream",
     "text": [
      "disk> vineyard_split_1_frame_1015.png-vineyard_split_1_frame_1020.png: 802 matches @ 152th pair(disk+lightglue)\n",
      "disk> vineyard_split_1_frame_1015.png-vineyard_split_1_frame_1010.png: 493 matches @ 153th pair(disk+lightglue)\n"
     ]
    },
    {
     "name": "stderr",
     "output_type": "stream",
     "text": [
      " 91%|█████████▏| 2082/2277 [01:20<00:07, 25.73it/s]"
     ]
    },
    {
     "name": "stdout",
     "output_type": "stream",
     "text": [
      "disk> vineyard_split_1_frame_0990.png-vineyard_split_1_frame_0980.png: 552 matches @ 154th pair(disk+lightglue)\n",
      "disk> vineyard_split_1_frame_0990.png-vineyard_split_1_frame_1000.png: 267 matches @ 155th pair(disk+lightglue)\n"
     ]
    },
    {
     "name": "stderr",
     "output_type": "stream",
     "text": [
      " 92%|█████████▏| 2091/2277 [01:21<00:07, 25.92it/s]"
     ]
    },
    {
     "name": "stdout",
     "output_type": "stream",
     "text": [
      "disk> vineyard_split_1_frame_0990.png-vineyard_split_1_frame_0985.png: 826 matches @ 156th pair(disk+lightglue)\n"
     ]
    },
    {
     "name": "stderr",
     "output_type": "stream",
     "text": [
      " 92%|█████████▏| 2100/2277 [01:21<00:06, 25.81it/s]"
     ]
    },
    {
     "name": "stdout",
     "output_type": "stream",
     "text": [
      "disk> vineyard_split_1_frame_1055.png-vineyard_split_1_frame_1065.png: 225 matches @ 157th pair(disk+lightglue)\n",
      "disk> vineyard_split_1_frame_1055.png-vineyard_split_1_frame_1045.png: 183 matches @ 158th pair(disk+lightglue)\n"
     ]
    },
    {
     "name": "stderr",
     "output_type": "stream",
     "text": [
      " 93%|█████████▎| 2115/2277 [01:21<00:06, 25.81it/s]"
     ]
    },
    {
     "name": "stdout",
     "output_type": "stream",
     "text": [
      "disk> vineyard_split_1_frame_1055.png-vineyard_split_1_frame_1050.png: 727 matches @ 159th pair(disk+lightglue)\n",
      "disk> vineyard_split_1_frame_0965.png-vineyard_split_1_frame_0960.png: 587 matches @ 160th pair(disk+lightglue)\n"
     ]
    },
    {
     "name": "stderr",
     "output_type": "stream",
     "text": [
      " 94%|█████████▎| 2130/2277 [01:22<00:05, 25.74it/s]"
     ]
    },
    {
     "name": "stdout",
     "output_type": "stream",
     "text": [
      "disk> vineyard_split_1_frame_0935.png-vineyard_split_1_frame_0940.png: 783 matches @ 161th pair(disk+lightglue)\n",
      "disk> vineyard_split_1_frame_0970.png-vineyard_split_1_frame_0960.png: 163 matches @ 162th pair(disk+lightglue)\n"
     ]
    },
    {
     "name": "stderr",
     "output_type": "stream",
     "text": [
      " 94%|█████████▍| 2136/2277 [01:22<00:05, 25.76it/s]"
     ]
    },
    {
     "name": "stdout",
     "output_type": "stream",
     "text": [
      "disk> vineyard_split_1_frame_0970.png-vineyard_split_1_frame_0980.png: 539 matches @ 163th pair(disk+lightglue)\n"
     ]
    },
    {
     "name": "stderr",
     "output_type": "stream",
     "text": [
      " 94%|█████████▍| 2142/2277 [01:22<00:05, 25.80it/s]"
     ]
    },
    {
     "name": "stdout",
     "output_type": "stream",
     "text": [
      "disk> vineyard_split_1_frame_0970.png-vineyard_split_1_frame_0975.png: 729 matches @ 164th pair(disk+lightglue)\n",
      "disk> vineyard_split_1_frame_0960.png-vineyard_split_1_frame_0955.png: 794 matches @ 165th pair(disk+lightglue)\n"
     ]
    },
    {
     "name": "stderr",
     "output_type": "stream",
     "text": [
      " 95%|█████████▍| 2154/2277 [01:23<00:04, 25.88it/s]"
     ]
    },
    {
     "name": "stdout",
     "output_type": "stream",
     "text": [
      "disk> vineyard_split_1_frame_1095.png-vineyard_split_1_frame_1100.png: 830 matches @ 166th pair(disk+lightglue)\n",
      "disk> vineyard_split_1_frame_1095.png-vineyard_split_1_frame_1105.png: 802 matches @ 167th pair(disk+lightglue)\n"
     ]
    },
    {
     "name": "stderr",
     "output_type": "stream",
     "text": [
      " 95%|█████████▍| 2163/2277 [01:23<00:04, 25.82it/s]"
     ]
    },
    {
     "name": "stdout",
     "output_type": "stream",
     "text": [
      "disk> vineyard_split_1_frame_0945.png-vineyard_split_1_frame_0955.png: 305 matches @ 168th pair(disk+lightglue)\n",
      "disk> vineyard_split_1_frame_0945.png-vineyard_split_1_frame_0940.png: 585 matches @ 169th pair(disk+lightglue)\n"
     ]
    },
    {
     "name": "stderr",
     "output_type": "stream",
     "text": [
      " 96%|█████████▌| 2175/2277 [01:24<00:03, 25.82it/s]"
     ]
    },
    {
     "name": "stdout",
     "output_type": "stream",
     "text": [
      "disk> vineyard_split_1_frame_0905.png-vineyard_split_1_frame_0900.png: 612 matches @ 170th pair(disk+lightglue)\n"
     ]
    },
    {
     "name": "stderr",
     "output_type": "stream",
     "text": [
      " 96%|█████████▌| 2181/2277 [01:24<00:03, 25.68it/s]"
     ]
    },
    {
     "name": "stdout",
     "output_type": "stream",
     "text": [
      "disk> vineyard_split_1_frame_1085.png-vineyard_split_1_frame_1090.png: 742 matches @ 171th pair(disk+lightglue)\n"
     ]
    },
    {
     "name": "stderr",
     "output_type": "stream",
     "text": [
      " 97%|█████████▋| 2217/2277 [01:25<00:02, 25.81it/s]"
     ]
    },
    {
     "name": "stdout",
     "output_type": "stream",
     "text": [
      "disk> vineyard_split_1_frame_0980.png-vineyard_split_1_frame_0985.png: 807 matches @ 172th pair(disk+lightglue)\n",
      "disk> vineyard_split_1_frame_0980.png-vineyard_split_1_frame_0975.png: 877 matches @ 173th pair(disk+lightglue)\n",
      "disk> vineyard_split_1_frame_1045.png-vineyard_split_1_frame_1040.png: 746 matches @ 174th pair(disk+lightglue)\n"
     ]
    },
    {
     "name": "stderr",
     "output_type": "stream",
     "text": [
      " 98%|█████████▊| 2223/2277 [01:26<00:02, 25.70it/s]"
     ]
    },
    {
     "name": "stdout",
     "output_type": "stream",
     "text": [
      "disk> vineyard_split_1_frame_1045.png-vineyard_split_1_frame_1035.png: 422 matches @ 175th pair(disk+lightglue)\n",
      "disk> vineyard_split_1_frame_1045.png-vineyard_split_1_frame_1050.png: 553 matches @ 176th pair(disk+lightglue)\n",
      "disk> vineyard_split_1_frame_1080.png-vineyard_split_1_frame_1075.png: 749 matches @ 177th pair(disk+lightglue)\n",
      "disk> vineyard_split_1_frame_1040.png-vineyard_split_1_frame_1035.png: 812 matches @ 178th pair(disk+lightglue)\n"
     ]
    },
    {
     "name": "stderr",
     "output_type": "stream",
     "text": [
      " 98%|█████████▊| 2229/2277 [01:26<00:01, 25.80it/s]"
     ]
    },
    {
     "name": "stdout",
     "output_type": "stream",
     "text": [
      "disk> vineyard_split_1_frame_1040.png-vineyard_split_1_frame_1030.png: 416 matches @ 179th pair(disk+lightglue)\n",
      "disk> vineyard_split_1_frame_1040.png-vineyard_split_1_frame_1050.png: 259 matches @ 180th pair(disk+lightglue)\n",
      "disk> vineyard_split_1_frame_1110.png-vineyard_split_1_frame_1100.png: 855 matches @ 181th pair(disk+lightglue)\n",
      "disk> vineyard_split_1_frame_1110.png-vineyard_split_1_frame_1105.png: 805 matches @ 182th pair(disk+lightglue)\n"
     ]
    },
    {
     "name": "stderr",
     "output_type": "stream",
     "text": [
      " 98%|█████████▊| 2241/2277 [01:26<00:01, 25.77it/s]"
     ]
    },
    {
     "name": "stdout",
     "output_type": "stream",
     "text": [
      "disk> vineyard_split_1_frame_1020.png-vineyard_split_1_frame_1010.png: 211 matches @ 183th pair(disk+lightglue)\n",
      "disk> vineyard_split_1_frame_1020.png-vineyard_split_1_frame_1030.png: 266 matches @ 184th pair(disk+lightglue)\n"
     ]
    },
    {
     "name": "stderr",
     "output_type": "stream",
     "text": [
      " 99%|█████████▉| 2253/2277 [01:27<00:00, 25.82it/s]"
     ]
    },
    {
     "name": "stdout",
     "output_type": "stream",
     "text": [
      "disk> vineyard_split_1_frame_1035.png-vineyard_split_1_frame_1030.png: 730 matches @ 185th pair(disk+lightglue)\n",
      "disk> vineyard_split_1_frame_1100.png-vineyard_split_1_frame_1105.png: 999 matches @ 186th pair(disk+lightglue)\n"
     ]
    },
    {
     "name": "stderr",
     "output_type": "stream",
     "text": [
      "100%|█████████▉| 2271/2277 [01:27<00:00, 25.60it/s]"
     ]
    },
    {
     "name": "stdout",
     "output_type": "stream",
     "text": [
      "disk> vineyard_split_1_frame_0925.png-vineyard_split_1_frame_0930.png: 789 matches @ 187th pair(disk+lightglue)\n",
      "disk> vineyard_split_1_frame_0925.png-vineyard_split_1_frame_0920.png: 625 matches @ 188th pair(disk+lightglue)\n",
      "disk> vineyard_split_1_frame_0985.png-vineyard_split_1_frame_0975.png: 571 matches @ 189th pair(disk+lightglue)\n"
     ]
    },
    {
     "name": "stderr",
     "output_type": "stream",
     "text": [
      "100%|██████████| 2277/2277 [01:28<00:00, 25.81it/s]"
     ]
    },
    {
     "name": "stdout",
     "output_type": "stream",
     "text": [
      "disk> vineyard_split_1_frame_1030.png-vineyard_split_1_frame_1025.png: 866 matches @ 190th pair(disk+lightglue)\n"
     ]
    },
    {
     "name": "stderr",
     "output_type": "stream",
     "text": [
      "\n"
     ]
    },
    {
     "name": "stdout",
     "output_type": "stream",
     "text": [
      "Features matched in  114.9413 sec (disk+LightGlue)\n"
     ]
    },
    {
     "data": {
      "text/html": [
       "\n",
       "<style>\n",
       "    /* Turns off some styling */\n",
       "    progress {\n",
       "        /* gets rid of default border in Firefox and Opera. */\n",
       "        border: none;\n",
       "        /* Needs to be in here for Safari polyfill so background images work as expected. */\n",
       "        background-size: auto;\n",
       "    }\n",
       "    progress:not([value]), progress:not([value])::-webkit-progress-bar {\n",
       "        background: repeating-linear-gradient(45deg, #7e7e7e, #7e7e7e 10px, #5c5c5c 10px, #5c5c5c 20px);\n",
       "    }\n",
       "    .progress-bar-interrupted, .progress-bar-interrupted::-webkit-progress-bar {\n",
       "        background: #F44336;\n",
       "    }\n",
       "</style>\n"
      ],
      "text/plain": [
       "<IPython.core.display.HTML object>"
      ]
     },
     "metadata": {},
     "output_type": "display_data"
    },
    {
     "data": {
      "text/html": [
       "\n",
       "    <div>\n",
       "      <progress value='2277' class='' max='2277' style='width:300px; height:20px; vertical-align: middle;'></progress>\n",
       "      100.00% [2277/2277 00:04&lt;00:00]\n",
       "    </div>\n",
       "    "
      ],
      "text/plain": [
       "<IPython.core.display.HTML object>"
      ]
     },
     "metadata": {},
     "output_type": "display_data"
    },
    {
     "name": "stdout",
     "output_type": "stream",
     "text": [
      "filter_FundamentalMatrix: 2217 matches --> 2213 matches\n",
      "vineyard_split_2_frame_1260.png-vineyard_split_2_frame_1255.png: 2217 --> 2213 matches\n",
      "filter_FundamentalMatrix: 523 matches --> 519 matches\n",
      "vineyard_split_2_frame_1260.png-vineyard_split_2_frame_1250.png: 523 --> 519 matches\n",
      "filter_FundamentalMatrix: 1975 matches --> 1970 matches\n",
      "vineyard_split_2_frame_1260.png-vineyard_split_2_frame_1265.png: 1975 --> 1970 matches\n",
      "filter_FundamentalMatrix: 2565 matches --> 2561 matches\n",
      "vineyard_split_2_frame_1225.png-vineyard_split_2_frame_1220.png: 2565 --> 2561 matches\n",
      "filter_FundamentalMatrix: 1533 matches --> 1531 matches\n",
      "vineyard_split_2_frame_1225.png-vineyard_split_2_frame_1230.png: 1533 --> 1531 matches\n",
      "filter_FundamentalMatrix: 375 matches --> 373 matches\n",
      "vineyard_split_2_frame_1225.png-vineyard_split_2_frame_1215.png: 375 --> 373 matches\n",
      "filter_FundamentalMatrix: 1835 matches --> 1828 matches\n",
      "vineyard_split_2_frame_1245.png-vineyard_split_2_frame_1240.png: 1835 --> 1828 matches\n",
      "filter_FundamentalMatrix: 1818 matches --> 1815 matches\n",
      "vineyard_split_2_frame_1245.png-vineyard_split_2_frame_1250.png: 1818 --> 1815 matches\n",
      "filter_FundamentalMatrix: 617 matches --> 610 matches\n",
      "vineyard_split_2_frame_1245.png-vineyard_split_2_frame_1235.png: 617 --> 610 matches\n",
      "filter_FundamentalMatrix: 121 matches --> 117 matches\n",
      "vineyard_split_2_frame_1245.png-vineyard_split_2_frame_1230.png: 121 --> 117 matches\n",
      "filter_FundamentalMatrix: 280 matches --> 278 matches\n",
      "vineyard_split_2_frame_1320.png-vineyard_split_2_frame_1305.png: 280 --> 278 matches\n",
      "filter_FundamentalMatrix: 1823 matches --> 1814 matches\n",
      "vineyard_split_2_frame_1320.png-vineyard_split_2_frame_1315.png: 1823 --> 1814 matches\n",
      "filter_FundamentalMatrix: 50 matches --> 30 matches\n",
      "vineyard_split_2_frame_1320.png-vineyard_split_3_frame_1400.png: 50 --> 30 matches\n",
      "filter_FundamentalMatrix: 1528 matches --> 1527 matches\n",
      "vineyard_split_2_frame_1205.png-vineyard_split_2_frame_1200.png: 1528 --> 1527 matches\n",
      "filter_FundamentalMatrix: 744 matches --> 731 matches\n",
      "vineyard_split_2_frame_1205.png-vineyard_split_2_frame_1195.png: 744 --> 731 matches\n",
      "filter_FundamentalMatrix: 2366 matches --> 2364 matches\n",
      "vineyard_split_2_frame_1205.png-vineyard_split_2_frame_1210.png: 2366 --> 2364 matches\n",
      "filter_FundamentalMatrix: 873 matches --> 864 matches\n",
      "vineyard_split_2_frame_1205.png-vineyard_split_2_frame_1215.png: 873 --> 864 matches\n",
      "filter_FundamentalMatrix: 185 matches --> 175 matches\n",
      "vineyard_split_2_frame_1240.png-vineyard_split_2_frame_1200.png: 185 --> 175 matches\n",
      "filter_FundamentalMatrix: 103 matches --> 98 matches\n",
      "vineyard_split_2_frame_1240.png-vineyard_split_2_frame_1155.png: 103 --> 98 matches\n",
      "filter_FundamentalMatrix: 355 matches --> 354 matches\n",
      "vineyard_split_2_frame_1240.png-vineyard_split_2_frame_1250.png: 355 --> 354 matches\n",
      "filter_FundamentalMatrix: 2331 matches --> 2325 matches\n",
      "vineyard_split_2_frame_1240.png-vineyard_split_2_frame_1235.png: 2331 --> 2325 matches\n",
      "filter_FundamentalMatrix: 989 matches --> 965 matches\n",
      "vineyard_split_2_frame_1240.png-vineyard_split_2_frame_1230.png: 989 --> 965 matches\n",
      "filter_FundamentalMatrix: 1375 matches --> 1372 matches\n",
      "vineyard_split_2_frame_1170.png-vineyard_split_2_frame_1180.png: 1375 --> 1372 matches\n",
      "filter_FundamentalMatrix: 2117 matches --> 2110 matches\n",
      "vineyard_split_2_frame_1170.png-vineyard_split_2_frame_1165.png: 2117 --> 2110 matches\n",
      "filter_FundamentalMatrix: 807 matches --> 801 matches\n",
      "vineyard_split_2_frame_1170.png-vineyard_split_2_frame_1160.png: 807 --> 801 matches\n",
      "filter_FundamentalMatrix: 2754 matches --> 2752 matches\n",
      "vineyard_split_2_frame_1170.png-vineyard_split_2_frame_1175.png: 2754 --> 2752 matches\n",
      "filter_FundamentalMatrix: 2083 matches --> 2076 matches\n",
      "vineyard_split_2_frame_1300.png-vineyard_split_2_frame_1305.png: 2083 --> 2076 matches\n",
      "filter_FundamentalMatrix: 114 matches --> 112 matches\n",
      "vineyard_split_2_frame_1300.png-vineyard_split_3_frame_1460.png: 114 --> 112 matches\n",
      "filter_FundamentalMatrix: 2289 matches --> 2287 matches\n",
      "vineyard_split_2_frame_1290.png-vineyard_split_2_frame_1295.png: 2289 --> 2287 matches\n",
      "filter_FundamentalMatrix: 196 matches --> 192 matches\n",
      "vineyard_split_2_frame_1290.png-vineyard_split_2_frame_1305.png: 196 --> 192 matches\n",
      "filter_FundamentalMatrix: 1336 matches --> 1330 matches\n",
      "vineyard_split_2_frame_1290.png-vineyard_split_2_frame_1285.png: 1336 --> 1330 matches\n",
      "filter_FundamentalMatrix: 2239 matches --> 2235 matches\n",
      "vineyard_split_2_frame_1310.png-vineyard_split_2_frame_1305.png: 2239 --> 2235 matches\n",
      "filter_FundamentalMatrix: 135 matches --> 130 matches\n",
      "vineyard_split_2_frame_1200.png-vineyard_split_2_frame_1155.png: 135 --> 130 matches\n",
      "filter_FundamentalMatrix: 2160 matches --> 2151 matches\n",
      "vineyard_split_2_frame_1200.png-vineyard_split_2_frame_1195.png: 2160 --> 2151 matches\n",
      "filter_FundamentalMatrix: 731 matches --> 727 matches\n",
      "vineyard_split_2_frame_1200.png-vineyard_split_2_frame_1210.png: 731 --> 727 matches\n",
      "filter_FundamentalMatrix: 106 matches --> 101 matches\n",
      "vineyard_split_2_frame_1200.png-vineyard_split_2_frame_1185.png: 106 --> 101 matches\n",
      "filter_FundamentalMatrix: 296 matches --> 293 matches\n",
      "vineyard_split_2_frame_1180.png-vineyard_split_2_frame_1165.png: 296 --> 293 matches\n",
      "filter_FundamentalMatrix: 900 matches --> 878 matches\n",
      "vineyard_split_2_frame_1180.png-vineyard_split_2_frame_1185.png: 900 --> 878 matches\n",
      "filter_FundamentalMatrix: 1809 matches --> 1807 matches\n",
      "vineyard_split_2_frame_1255.png-vineyard_split_2_frame_1250.png: 1809 --> 1807 matches\n",
      "filter_FundamentalMatrix: 859 matches --> 858 matches\n",
      "vineyard_split_2_frame_1255.png-vineyard_split_2_frame_1265.png: 859 --> 858 matches\n",
      "filter_FundamentalMatrix: 134 matches --> 133 matches\n",
      "vineyard_split_2_frame_1220.png-vineyard_split_2_frame_1285.png: 134 --> 133 matches\n",
      "filter_FundamentalMatrix: 153 matches --> 146 matches\n",
      "vineyard_split_2_frame_1220.png-vineyard_split_2_frame_1235.png: 153 --> 146 matches\n",
      "filter_FundamentalMatrix: 606 matches --> 601 matches\n",
      "vineyard_split_2_frame_1220.png-vineyard_split_2_frame_1230.png: 606 --> 601 matches\n",
      "filter_FundamentalMatrix: 1350 matches --> 1345 matches\n",
      "vineyard_split_2_frame_1220.png-vineyard_split_2_frame_1215.png: 1350 --> 1345 matches\n",
      "filter_FundamentalMatrix: 2067 matches --> 2061 matches\n",
      "vineyard_split_2_frame_1165.png-vineyard_split_2_frame_1160.png: 2067 --> 2061 matches\n",
      "filter_FundamentalMatrix: 845 matches --> 836 matches\n",
      "vineyard_split_2_frame_1165.png-vineyard_split_2_frame_1155.png: 845 --> 836 matches\n",
      "filter_FundamentalMatrix: 2359 matches --> 2354 matches\n",
      "vineyard_split_2_frame_1275.png-vineyard_split_2_frame_1280.png: 2359 --> 2354 matches\n",
      "filter_FundamentalMatrix: 1095 matches --> 1092 matches\n",
      "vineyard_split_2_frame_1275.png-vineyard_split_2_frame_1270.png: 1095 --> 1092 matches\n",
      "filter_FundamentalMatrix: 1210 matches --> 1207 matches\n",
      "vineyard_split_2_frame_1275.png-vineyard_split_2_frame_1285.png: 1210 --> 1207 matches\n",
      "filter_FundamentalMatrix: 114 matches --> 112 matches\n",
      "vineyard_split_2_frame_1275.png-vineyard_split_2_frame_1265.png: 114 --> 112 matches\n",
      "filter_FundamentalMatrix: 2001 matches --> 1999 matches\n",
      "vineyard_split_2_frame_1160.png-vineyard_split_2_frame_1155.png: 2001 --> 1999 matches\n",
      "filter_FundamentalMatrix: 292 matches --> 289 matches\n",
      "vineyard_split_2_frame_1160.png-vineyard_split_2_frame_1175.png: 292 --> 289 matches\n",
      "filter_FundamentalMatrix: 2355 matches --> 2349 matches\n",
      "vineyard_split_2_frame_1280.png-vineyard_split_2_frame_1285.png: 2355 --> 2349 matches\n",
      "filter_FundamentalMatrix: 102 matches --> 99 matches\n",
      "vineyard_split_2_frame_1155.png-vineyard_split_2_frame_1285.png: 102 --> 99 matches\n",
      "filter_FundamentalMatrix: 2174 matches --> 2165 matches\n",
      "vineyard_split_2_frame_1155.png-vineyard_split_2_frame_1150.png: 2174 --> 2165 matches\n",
      "filter_FundamentalMatrix: 1431 matches --> 1428 matches\n",
      "vineyard_split_2_frame_1195.png-vineyard_split_2_frame_1185.png: 1431 --> 1428 matches\n",
      "filter_FundamentalMatrix: 1668 matches --> 1666 matches\n",
      "vineyard_split_2_frame_1270.png-vineyard_split_2_frame_1265.png: 1668 --> 1666 matches\n",
      "filter_FundamentalMatrix: 1945 matches --> 1937 matches\n",
      "vineyard_split_2_frame_1210.png-vineyard_split_2_frame_1215.png: 1945 --> 1937 matches\n",
      "filter_FundamentalMatrix: 111 matches --> 110 matches\n",
      "vineyard_split_2_frame_1250.png-vineyard_split_2_frame_1265.png: 111 --> 110 matches\n",
      "filter_FundamentalMatrix: 117 matches --> 104 matches\n",
      "vineyard_split_2_frame_1285.png-vineyard_split_2_frame_1150.png: 117 --> 104 matches\n",
      "filter_FundamentalMatrix: 118 matches --> 110 matches\n",
      "vineyard_split_2_frame_1285.png-vineyard_split_2_frame_1230.png: 118 --> 110 matches\n",
      "filter_FundamentalMatrix: 115 matches --> 111 matches\n",
      "vineyard_split_2_frame_1150.png-vineyard_split_2_frame_1235.png: 115 --> 111 matches\n",
      "filter_FundamentalMatrix: 114 matches --> 93 matches\n",
      "vineyard_split_2_frame_1150.png-vineyard_split_1_frame_0975.png: 114 --> 93 matches\n",
      "filter_FundamentalMatrix: 2084 matches --> 2075 matches\n",
      "vineyard_split_2_frame_1235.png-vineyard_split_2_frame_1230.png: 2084 --> 2075 matches\n",
      "filter_FundamentalMatrix: 1238 matches --> 1235 matches\n",
      "vineyard_split_3_frame_1395.png-vineyard_split_3_frame_1390.png: 1238 --> 1235 matches\n",
      "filter_FundamentalMatrix: 1275 matches --> 1272 matches\n",
      "vineyard_split_3_frame_1395.png-vineyard_split_3_frame_1405.png: 1275 --> 1272 matches\n",
      "filter_FundamentalMatrix: 2414 matches --> 2404 matches\n",
      "vineyard_split_3_frame_1395.png-vineyard_split_3_frame_1400.png: 2414 --> 2404 matches\n",
      "filter_FundamentalMatrix: 172 matches --> 133 matches\n",
      "vineyard_split_3_frame_1395.png-vineyard_split_1_frame_1020.png: 172 --> 133 matches\n",
      "filter_FundamentalMatrix: 296 matches --> 292 matches\n",
      "vineyard_split_3_frame_1475.png-vineyard_split_3_frame_1460.png: 296 --> 292 matches\n",
      "filter_FundamentalMatrix: 2802 matches --> 2799 matches\n",
      "vineyard_split_3_frame_1475.png-vineyard_split_3_frame_1470.png: 2802 --> 2799 matches\n",
      "filter_FundamentalMatrix: 1344 matches --> 1338 matches\n",
      "vineyard_split_3_frame_0255.png-vineyard_split_3_frame_0265.png: 1344 --> 1338 matches\n",
      "filter_FundamentalMatrix: 1190 matches --> 1188 matches\n",
      "vineyard_split_3_frame_0255.png-vineyard_split_3_frame_0245.png: 1190 --> 1188 matches\n",
      "filter_FundamentalMatrix: 486 matches --> 476 matches\n",
      "vineyard_split_3_frame_0255.png-vineyard_split_3_frame_0240.png: 486 --> 476 matches\n",
      "filter_FundamentalMatrix: 2446 matches --> 2446 matches\n",
      "vineyard_split_3_frame_0255.png-vineyard_split_3_frame_0260.png: 2446 --> 2446 matches\n",
      "filter_FundamentalMatrix: 409 matches --> 407 matches\n",
      "vineyard_split_3_frame_1425.png-vineyard_split_3_frame_1415.png: 409 --> 407 matches\n",
      "filter_FundamentalMatrix: 1363 matches --> 1359 matches\n",
      "vineyard_split_3_frame_1425.png-vineyard_split_3_frame_1420.png: 1363 --> 1359 matches\n",
      "filter_FundamentalMatrix: 148 matches --> 147 matches\n",
      "vineyard_split_3_frame_0125.png-vineyard_split_3_frame_0140.png: 148 --> 147 matches\n",
      "filter_FundamentalMatrix: 2784 matches --> 2782 matches\n",
      "vineyard_split_3_frame_0125.png-vineyard_split_3_frame_0120.png: 2784 --> 2782 matches\n",
      "filter_FundamentalMatrix: 294 matches --> 285 matches\n",
      "vineyard_split_3_frame_0125.png-vineyard_split_3_frame_0105.png: 294 --> 285 matches\n",
      "filter_FundamentalMatrix: 788 matches --> 783 matches\n",
      "vineyard_split_3_frame_0125.png-vineyard_split_3_frame_0110.png: 788 --> 783 matches\n",
      "filter_FundamentalMatrix: 1090 matches --> 1089 matches\n",
      "vineyard_split_3_frame_0125.png-vineyard_split_3_frame_0135.png: 1090 --> 1089 matches\n",
      "filter_FundamentalMatrix: 2293 matches --> 2287 matches\n",
      "vineyard_split_3_frame_1480.png-vineyard_split_3_frame_1485.png: 2293 --> 2287 matches\n",
      "filter_FundamentalMatrix: 989 matches --> 985 matches\n",
      "vineyard_split_3_frame_1480.png-vineyard_split_3_frame_1470.png: 989 --> 985 matches\n",
      "filter_FundamentalMatrix: 1239 matches --> 1224 matches\n",
      "vineyard_split_3_frame_0215.png-vineyard_split_3_frame_0225.png: 1239 --> 1224 matches\n",
      "filter_FundamentalMatrix: 1153 matches --> 1144 matches\n",
      "vineyard_split_3_frame_0215.png-vineyard_split_3_frame_0205.png: 1153 --> 1144 matches\n",
      "filter_FundamentalMatrix: 2745 matches --> 2743 matches\n",
      "vineyard_split_3_frame_0215.png-vineyard_split_3_frame_0220.png: 2745 --> 2743 matches\n",
      "filter_FundamentalMatrix: 147 matches --> 144 matches\n",
      "vineyard_split_3_frame_0215.png-vineyard_split_3_frame_0200.png: 147 --> 144 matches\n",
      "filter_FundamentalMatrix: 147 matches --> 146 matches\n",
      "vineyard_split_3_frame_0215.png-vineyard_split_3_frame_0230.png: 147 --> 146 matches\n",
      "filter_FundamentalMatrix: 1037 matches --> 1031 matches\n",
      "vineyard_split_3_frame_0295.png-vineyard_split_3_frame_0285.png: 1037 --> 1031 matches\n",
      "filter_FundamentalMatrix: 1107 matches --> 1099 matches\n",
      "vineyard_split_3_frame_0295.png-vineyard_split_3_frame_0305.png: 1107 --> 1099 matches\n",
      "filter_FundamentalMatrix: 1693 matches --> 1681 matches\n",
      "vineyard_split_3_frame_0295.png-vineyard_split_3_frame_0300.png: 1693 --> 1681 matches\n",
      "filter_FundamentalMatrix: 1151 matches --> 1148 matches\n",
      "vineyard_split_3_frame_0090.png-vineyard_split_3_frame_0080.png: 1151 --> 1148 matches\n",
      "filter_FundamentalMatrix: 2801 matches --> 2798 matches\n",
      "vineyard_split_3_frame_0090.png-vineyard_split_3_frame_0085.png: 2801 --> 2798 matches\n",
      "filter_FundamentalMatrix: 2548 matches --> 2544 matches\n",
      "vineyard_split_3_frame_0090.png-vineyard_split_3_frame_0095.png: 2548 --> 2544 matches\n",
      "filter_FundamentalMatrix: 2223 matches --> 2219 matches\n",
      "vineyard_split_3_frame_0190.png-vineyard_split_3_frame_0195.png: 2223 --> 2219 matches\n",
      "filter_FundamentalMatrix: 759 matches --> 753 matches\n",
      "vineyard_split_3_frame_0190.png-vineyard_split_3_frame_0180.png: 759 --> 753 matches\n",
      "filter_FundamentalMatrix: 1956 matches --> 1950 matches\n",
      "vineyard_split_3_frame_0265.png-vineyard_split_3_frame_0270.png: 1956 --> 1950 matches\n",
      "filter_FundamentalMatrix: 977 matches --> 976 matches\n",
      "vineyard_split_3_frame_0265.png-vineyard_split_3_frame_0275.png: 977 --> 976 matches\n",
      "filter_FundamentalMatrix: 154 matches --> 151 matches\n",
      "vineyard_split_3_frame_0265.png-vineyard_split_3_frame_0245.png: 154 --> 151 matches\n",
      "filter_FundamentalMatrix: 2690 matches --> 2686 matches\n",
      "vineyard_split_3_frame_0265.png-vineyard_split_3_frame_0260.png: 2690 --> 2686 matches\n",
      "filter_FundamentalMatrix: 1449 matches --> 1442 matches\n",
      "vineyard_split_3_frame_1445.png-vineyard_split_3_frame_1450.png: 1449 --> 1442 matches\n",
      "filter_FundamentalMatrix: 2072 matches --> 2067 matches\n",
      "vineyard_split_3_frame_1445.png-vineyard_split_3_frame_1440.png: 2072 --> 2067 matches\n",
      "filter_FundamentalMatrix: 231 matches --> 215 matches\n",
      "vineyard_split_3_frame_1445.png-vineyard_split_3_frame_1435.png: 231 --> 215 matches\n",
      "filter_FundamentalMatrix: 300 matches --> 298 matches\n",
      "vineyard_split_3_frame_1450.png-vineyard_split_3_frame_1440.png: 300 --> 298 matches\n",
      "filter_FundamentalMatrix: 348 matches --> 345 matches\n",
      "vineyard_split_3_frame_1450.png-vineyard_split_3_frame_1460.png: 348 --> 345 matches\n",
      "filter_FundamentalMatrix: 427 matches --> 419 matches\n",
      "vineyard_split_3_frame_1390.png-vineyard_split_3_frame_1400.png: 427 --> 419 matches\n",
      "filter_FundamentalMatrix: 1010 matches --> 1001 matches\n",
      "vineyard_split_3_frame_1555.png-vineyard_split_3_frame_1545.png: 1010 --> 1001 matches\n",
      "filter_FundamentalMatrix: 1529 matches --> 1526 matches\n",
      "vineyard_split_3_frame_1555.png-vineyard_split_3_frame_1560.png: 1529 --> 1526 matches\n",
      "filter_FundamentalMatrix: 411 matches --> 410 matches\n",
      "vineyard_split_3_frame_1550.png-vineyard_split_3_frame_1535.png: 411 --> 410 matches\n",
      "filter_FundamentalMatrix: 2160 matches --> 2159 matches\n",
      "vineyard_split_3_frame_1550.png-vineyard_split_3_frame_1545.png: 2160 --> 2159 matches\n",
      "filter_FundamentalMatrix: 106 matches --> 103 matches\n",
      "vineyard_split_3_frame_0145.png-vineyard_split_3_frame_0235.png: 106 --> 103 matches\n",
      "filter_FundamentalMatrix: 117 matches --> 115 matches\n",
      "vineyard_split_3_frame_0145.png-vineyard_split_3_frame_0130.png: 117 --> 115 matches\n",
      "filter_FundamentalMatrix: 2027 matches --> 2027 matches\n",
      "vineyard_split_3_frame_1405.png-vineyard_split_3_frame_1410.png: 2027 --> 2027 matches\n",
      "filter_FundamentalMatrix: 2577 matches --> 2567 matches\n",
      "vineyard_split_3_frame_1405.png-vineyard_split_3_frame_1400.png: 2577 --> 2567 matches\n",
      "filter_FundamentalMatrix: 566 matches --> 560 matches\n",
      "vineyard_split_3_frame_1405.png-vineyard_split_3_frame_1415.png: 566 --> 560 matches\n",
      "filter_FundamentalMatrix: 187 matches --> 186 matches\n",
      "vineyard_split_3_frame_1405.png-vineyard_split_3_frame_1420.png: 187 --> 186 matches\n",
      "filter_FundamentalMatrix: 1889 matches --> 1881 matches\n",
      "vineyard_split_3_frame_0070.png-vineyard_split_3_frame_0075.png: 1889 --> 1881 matches\n",
      "filter_FundamentalMatrix: 1120 matches --> 1109 matches\n",
      "vineyard_split_3_frame_0070.png-vineyard_split_3_frame_0080.png: 1120 --> 1109 matches\n",
      "filter_FundamentalMatrix: 232 matches --> 221 matches\n",
      "vineyard_split_3_frame_0070.png-vineyard_split_3_frame_0085.png: 232 --> 221 matches\n",
      "filter_FundamentalMatrix: 996 matches --> 989 matches\n",
      "vineyard_split_3_frame_1500.png-vineyard_split_3_frame_1490.png: 996 --> 989 matches\n",
      "filter_FundamentalMatrix: 2684 matches --> 2683 matches\n",
      "vineyard_split_3_frame_0075.png-vineyard_split_3_frame_0080.png: 2684 --> 2683 matches\n",
      "filter_FundamentalMatrix: 1161 matches --> 1156 matches\n",
      "vineyard_split_3_frame_0075.png-vineyard_split_3_frame_0085.png: 1161 --> 1156 matches\n",
      "filter_FundamentalMatrix: 1056 matches --> 1051 matches\n",
      "vineyard_split_3_frame_0160.png-vineyard_split_3_frame_0150.png: 1056 --> 1051 matches\n",
      "filter_FundamentalMatrix: 2807 matches --> 2805 matches\n",
      "vineyard_split_3_frame_0160.png-vineyard_split_3_frame_0165.png: 2807 --> 2805 matches\n",
      "filter_FundamentalMatrix: 2034 matches --> 2021 matches\n",
      "vineyard_split_3_frame_0160.png-vineyard_split_3_frame_0155.png: 2034 --> 2021 matches\n",
      "filter_FundamentalMatrix: 1202 matches --> 1198 matches\n",
      "vineyard_split_3_frame_0150.png-vineyard_split_3_frame_0140.png: 1202 --> 1198 matches\n",
      "filter_FundamentalMatrix: 211 matches --> 209 matches\n",
      "vineyard_split_3_frame_0150.png-vineyard_split_3_frame_0165.png: 211 --> 209 matches\n",
      "filter_FundamentalMatrix: 2438 matches --> 2428 matches\n",
      "vineyard_split_3_frame_0150.png-vineyard_split_3_frame_0155.png: 2438 --> 2428 matches\n",
      "filter_FundamentalMatrix: 1901 matches --> 1889 matches\n",
      "vineyard_split_3_frame_0140.png-vineyard_split_3_frame_0135.png: 1901 --> 1889 matches\n",
      "filter_FundamentalMatrix: 1712 matches --> 1699 matches\n",
      "vineyard_split_3_frame_0270.png-vineyard_split_3_frame_0285.png: 1712 --> 1699 matches\n",
      "filter_FundamentalMatrix: 2254 matches --> 2246 matches\n",
      "vineyard_split_3_frame_0270.png-vineyard_split_3_frame_0280.png: 2254 --> 2246 matches\n",
      "filter_FundamentalMatrix: 2687 matches --> 2685 matches\n",
      "vineyard_split_3_frame_0270.png-vineyard_split_3_frame_0275.png: 2687 --> 2685 matches\n",
      "filter_FundamentalMatrix: 952 matches --> 948 matches\n",
      "vineyard_split_3_frame_0270.png-vineyard_split_3_frame_0260.png: 952 --> 948 matches\n",
      "filter_FundamentalMatrix: 2380 matches --> 2375 matches\n",
      "vineyard_split_3_frame_0170.png-vineyard_split_3_frame_0175.png: 2380 --> 2375 matches\n",
      "filter_FundamentalMatrix: 2463 matches --> 2461 matches\n",
      "vineyard_split_3_frame_0170.png-vineyard_split_3_frame_0165.png: 2463 --> 2461 matches\n",
      "filter_FundamentalMatrix: 1113 matches --> 1111 matches\n",
      "vineyard_split_3_frame_0170.png-vineyard_split_3_frame_0180.png: 1113 --> 1111 matches\n",
      "filter_FundamentalMatrix: 3158 matches --> 3157 matches\n",
      "vineyard_split_3_frame_0285.png-vineyard_split_3_frame_0280.png: 3158 --> 3157 matches\n",
      "filter_FundamentalMatrix: 2404 matches --> 2384 matches\n",
      "vineyard_split_3_frame_0285.png-vineyard_split_3_frame_0275.png: 2404 --> 2384 matches\n",
      "filter_FundamentalMatrix: 1611 matches --> 1600 matches\n",
      "vineyard_split_3_frame_1490.png-vineyard_split_3_frame_1485.png: 1611 --> 1600 matches\n",
      "filter_FundamentalMatrix: 3013 matches --> 3011 matches\n",
      "vineyard_split_3_frame_0280.png-vineyard_split_3_frame_0275.png: 3013 --> 3011 matches\n",
      "filter_FundamentalMatrix: 292 matches --> 287 matches\n",
      "vineyard_split_3_frame_0275.png-vineyard_split_3_frame_0260.png: 292 --> 287 matches\n",
      "filter_FundamentalMatrix: 179 matches --> 171 matches\n",
      "vineyard_split_3_frame_0225.png-vineyard_split_3_frame_0210.png: 179 --> 171 matches\n",
      "filter_FundamentalMatrix: 1987 matches --> 1983 matches\n",
      "vineyard_split_3_frame_0225.png-vineyard_split_3_frame_0220.png: 1987 --> 1983 matches\n",
      "filter_FundamentalMatrix: 1759 matches --> 1753 matches\n",
      "vineyard_split_3_frame_0225.png-vineyard_split_3_frame_0230.png: 1759 --> 1753 matches\n",
      "filter_FundamentalMatrix: 2132 matches --> 2125 matches\n",
      "vineyard_split_3_frame_0080.png-vineyard_split_3_frame_0085.png: 2132 --> 2125 matches\n",
      "filter_FundamentalMatrix: 315 matches --> 313 matches\n",
      "vineyard_split_3_frame_0080.png-vineyard_split_3_frame_0095.png: 315 --> 313 matches\n",
      "filter_FundamentalMatrix: 726 matches --> 716 matches\n",
      "vineyard_split_3_frame_0250.png-vineyard_split_3_frame_0235.png: 726 --> 716 matches\n",
      "filter_FundamentalMatrix: 555 matches --> 537 matches\n",
      "vineyard_split_3_frame_1495.png-vineyard_split_3_frame_1505.png: 555 --> 537 matches\n",
      "filter_FundamentalMatrix: 960 matches --> 953 matches\n",
      "vineyard_split_3_frame_0120.png-vineyard_split_3_frame_0105.png: 960 --> 953 matches\n",
      "filter_FundamentalMatrix: 1701 matches --> 1692 matches\n",
      "vineyard_split_3_frame_0120.png-vineyard_split_3_frame_0110.png: 1701 --> 1692 matches\n",
      "filter_FundamentalMatrix: 736 matches --> 732 matches\n",
      "vineyard_split_3_frame_0120.png-vineyard_split_3_frame_0135.png: 736 --> 732 matches\n",
      "filter_FundamentalMatrix: 1393 matches --> 1380 matches\n",
      "vineyard_split_3_frame_1510.png-vineyard_split_3_frame_1520.png: 1393 --> 1380 matches\n",
      "filter_FundamentalMatrix: 116 matches --> 110 matches\n",
      "vineyard_split_3_frame_1510.png-vineyard_split_3_frame_1525.png: 116 --> 110 matches\n",
      "filter_FundamentalMatrix: 2982 matches --> 2976 matches\n",
      "vineyard_split_3_frame_1510.png-vineyard_split_3_frame_1515.png: 2982 --> 2976 matches\n",
      "filter_FundamentalMatrix: 59 matches --> 41 matches\n",
      "vineyard_split_3_frame_1510.png-vineyard_split_1_frame_1010.png: 59 --> 41 matches\n",
      "filter_FundamentalMatrix: 3014 matches --> 3014 matches\n",
      "vineyard_split_3_frame_0105.png-vineyard_split_3_frame_0110.png: 3014 --> 3014 matches\n",
      "filter_FundamentalMatrix: 1627 matches --> 1617 matches\n",
      "vineyard_split_3_frame_0105.png-vineyard_split_3_frame_0100.png: 1627 --> 1617 matches\n",
      "filter_FundamentalMatrix: 512 matches --> 508 matches\n",
      "vineyard_split_3_frame_0105.png-vineyard_split_3_frame_0095.png: 512 --> 508 matches\n",
      "filter_FundamentalMatrix: 1382 matches --> 1377 matches\n",
      "vineyard_split_3_frame_1535.png-vineyard_split_3_frame_1530.png: 1382 --> 1377 matches\n",
      "filter_FundamentalMatrix: 2539 matches --> 2534 matches\n",
      "vineyard_split_3_frame_1540.png-vineyard_split_3_frame_1545.png: 2539 --> 2534 matches\n",
      "filter_FundamentalMatrix: 722 matches --> 718 matches\n",
      "vineyard_split_3_frame_0205.png-vineyard_split_3_frame_0195.png: 722 --> 718 matches\n",
      "filter_FundamentalMatrix: 2480 matches --> 2476 matches\n",
      "vineyard_split_3_frame_0205.png-vineyard_split_3_frame_0210.png: 2480 --> 2476 matches\n",
      "filter_FundamentalMatrix: 703 matches --> 691 matches\n",
      "vineyard_split_3_frame_0205.png-vineyard_split_3_frame_0220.png: 703 --> 691 matches\n",
      "filter_FundamentalMatrix: 1930 matches --> 1923 matches\n",
      "vineyard_split_3_frame_0205.png-vineyard_split_3_frame_0200.png: 1930 --> 1923 matches\n",
      "filter_FundamentalMatrix: 2225 matches --> 2220 matches\n",
      "vineyard_split_3_frame_1410.png-vineyard_split_3_frame_1415.png: 2225 --> 2220 matches\n",
      "filter_FundamentalMatrix: 963 matches --> 957 matches\n",
      "vineyard_split_3_frame_1410.png-vineyard_split_3_frame_1420.png: 963 --> 957 matches\n",
      "filter_FundamentalMatrix: 3497 matches --> 3497 matches\n",
      "vineyard_split_3_frame_0305.png-vineyard_split_3_frame_0300.png: 3497 --> 3497 matches\n",
      "filter_FundamentalMatrix: 729 matches --> 725 matches\n",
      "vineyard_split_3_frame_0175.png-vineyard_split_3_frame_0185.png: 729 --> 725 matches\n",
      "filter_FundamentalMatrix: 1589 matches --> 1578 matches\n",
      "vineyard_split_3_frame_1520.png-vineyard_split_3_frame_1525.png: 1589 --> 1578 matches\n",
      "filter_FundamentalMatrix: 3083 matches --> 3081 matches\n",
      "vineyard_split_3_frame_1465.png-vineyard_split_3_frame_1460.png: 3083 --> 3081 matches\n",
      "filter_FundamentalMatrix: 1468 matches --> 1466 matches\n",
      "vineyard_split_3_frame_1465.png-vineyard_split_3_frame_1470.png: 1468 --> 1466 matches\n",
      "filter_FundamentalMatrix: 2164 matches --> 2147 matches\n",
      "vineyard_split_3_frame_1525.png-vineyard_split_3_frame_1530.png: 2164 --> 2147 matches\n",
      "filter_FundamentalMatrix: 1037 matches --> 1032 matches\n",
      "vineyard_split_3_frame_0110.png-vineyard_split_3_frame_0100.png: 1037 --> 1032 matches\n",
      "filter_FundamentalMatrix: 2733 matches --> 2731 matches\n",
      "vineyard_split_3_frame_0110.png-vineyard_split_3_frame_0115.png: 2733 --> 2731 matches\n",
      "filter_FundamentalMatrix: 107 matches --> 107 matches\n",
      "vineyard_split_3_frame_0195.png-vineyard_split_3_frame_0210.png: 107 --> 107 matches\n",
      "filter_FundamentalMatrix: 2188 matches --> 2184 matches\n",
      "vineyard_split_3_frame_0195.png-vineyard_split_3_frame_0200.png: 2188 --> 2184 matches\n",
      "filter_FundamentalMatrix: 996 matches --> 984 matches\n",
      "vineyard_split_3_frame_1570.png-vineyard_split_3_frame_1560.png: 996 --> 984 matches\n",
      "filter_FundamentalMatrix: 2300 matches --> 2294 matches\n",
      "vineyard_split_3_frame_1570.png-vineyard_split_3_frame_1565.png: 2300 --> 2294 matches\n",
      "filter_FundamentalMatrix: 1314 matches --> 1295 matches\n",
      "vineyard_split_3_frame_0210.png-vineyard_split_3_frame_0220.png: 1314 --> 1295 matches\n",
      "filter_FundamentalMatrix: 840 matches --> 832 matches\n",
      "vineyard_split_3_frame_0210.png-vineyard_split_3_frame_0200.png: 840 --> 832 matches\n",
      "filter_FundamentalMatrix: 603 matches --> 595 matches\n",
      "vineyard_split_3_frame_0100.png-vineyard_split_3_frame_0085.png: 603 --> 595 matches\n",
      "filter_FundamentalMatrix: 2284 matches --> 2283 matches\n",
      "vineyard_split_3_frame_0100.png-vineyard_split_3_frame_0095.png: 2284 --> 2283 matches\n",
      "filter_FundamentalMatrix: 2267 matches --> 2265 matches\n",
      "vineyard_split_3_frame_1560.png-vineyard_split_3_frame_1565.png: 2267 --> 2265 matches\n",
      "filter_FundamentalMatrix: 2009 matches --> 2003 matches\n",
      "vineyard_split_3_frame_1430.png-vineyard_split_3_frame_1435.png: 2009 --> 2003 matches\n",
      "filter_FundamentalMatrix: 2624 matches --> 2614 matches\n",
      "vineyard_split_3_frame_0245.png-vineyard_split_3_frame_0240.png: 2624 --> 2614 matches\n",
      "filter_FundamentalMatrix: 192 matches --> 191 matches\n",
      "vineyard_split_3_frame_0245.png-vineyard_split_3_frame_0260.png: 192 --> 191 matches\n",
      "filter_FundamentalMatrix: 676 matches --> 667 matches\n",
      "vineyard_split_3_frame_0130.png-vineyard_split_3_frame_0115.png: 676 --> 667 matches\n",
      "filter_FundamentalMatrix: 1990 matches --> 1975 matches\n",
      "vineyard_split_3_frame_1440.png-vineyard_split_3_frame_1435.png: 1990 --> 1975 matches\n",
      "filter_FundamentalMatrix: 1368 matches --> 1363 matches\n",
      "vineyard_split_3_frame_0240.png-vineyard_split_3_frame_0230.png: 1368 --> 1363 matches\n",
      "filter_FundamentalMatrix: 671 matches --> 665 matches\n",
      "vineyard_split_3_frame_1460.png-vineyard_split_3_frame_1470.png: 671 --> 665 matches\n",
      "filter_FundamentalMatrix: 1331 matches --> 1326 matches\n",
      "vineyard_split_3_frame_0165.png-vineyard_split_3_frame_0155.png: 1331 --> 1326 matches\n",
      "filter_FundamentalMatrix: 105 matches --> 104 matches\n",
      "vineyard_split_3_frame_1400.png-vineyard_split_1_frame_1020.png: 105 --> 104 matches\n",
      "filter_FundamentalMatrix: 2251 matches --> 2246 matches\n",
      "vineyard_split_3_frame_1415.png-vineyard_split_3_frame_1420.png: 2251 --> 2246 matches\n",
      "filter_FundamentalMatrix: 1518 matches --> 1509 matches\n",
      "vineyard_split_3_frame_0085.png-vineyard_split_3_frame_0095.png: 1518 --> 1509 matches\n",
      "filter_FundamentalMatrix: 894 matches --> 892 matches\n",
      "vineyard_split_1_frame_0950.png-vineyard_split_1_frame_0960.png: 894 --> 892 matches\n",
      "filter_FundamentalMatrix: 789 matches --> 788 matches\n",
      "vineyard_split_1_frame_1005.png-vineyard_split_1_frame_0995.png: 789 --> 788 matches\n",
      "filter_FundamentalMatrix: 3006 matches --> 3000 matches\n",
      "vineyard_split_1_frame_0915.png-vineyard_split_1_frame_0910.png: 3006 --> 3000 matches\n",
      "filter_FundamentalMatrix: 1550 matches --> 1544 matches\n",
      "vineyard_split_1_frame_0915.png-vineyard_split_1_frame_0920.png: 1550 --> 1544 matches\n",
      "filter_FundamentalMatrix: 115 matches --> 110 matches\n",
      "vineyard_split_1_frame_0995.png-vineyard_split_1_frame_1085.png: 115 --> 110 matches\n",
      "filter_FundamentalMatrix: 151 matches --> 150 matches\n",
      "vineyard_split_1_frame_1070.png-vineyard_split_1_frame_1055.png: 151 --> 150 matches\n",
      "filter_FundamentalMatrix: 1505 matches --> 1504 matches\n",
      "vineyard_split_1_frame_1070.png-vineyard_split_1_frame_1065.png: 1505 --> 1504 matches\n",
      "filter_FundamentalMatrix: 550 matches --> 544 matches\n",
      "vineyard_split_1_frame_1070.png-vineyard_split_1_frame_1080.png: 550 --> 544 matches\n",
      "filter_FundamentalMatrix: 1584 matches --> 1581 matches\n",
      "vineyard_split_1_frame_1070.png-vineyard_split_1_frame_1075.png: 1584 --> 1581 matches\n",
      "filter_FundamentalMatrix: 2450 matches --> 2441 matches\n",
      "vineyard_split_1_frame_1015.png-vineyard_split_1_frame_1020.png: 2450 --> 2441 matches\n",
      "filter_FundamentalMatrix: 56 matches --> 39 matches\n",
      "vineyard_split_1_frame_1015.png-vineyard_split_1_frame_1100.png: 56 --> 39 matches\n",
      "filter_FundamentalMatrix: 1484 matches --> 1479 matches\n",
      "vineyard_split_1_frame_1015.png-vineyard_split_1_frame_1010.png: 1484 --> 1479 matches\n",
      "filter_FundamentalMatrix: 1132 matches --> 1102 matches\n",
      "vineyard_split_1_frame_0990.png-vineyard_split_1_frame_0980.png: 1132 --> 1102 matches\n",
      "filter_FundamentalMatrix: 863 matches --> 848 matches\n",
      "vineyard_split_1_frame_0990.png-vineyard_split_1_frame_1000.png: 863 --> 848 matches\n",
      "filter_FundamentalMatrix: 2327 matches --> 2320 matches\n",
      "vineyard_split_1_frame_0990.png-vineyard_split_1_frame_0985.png: 2327 --> 2320 matches\n",
      "filter_FundamentalMatrix: 156 matches --> 155 matches\n",
      "vineyard_split_1_frame_0990.png-vineyard_split_1_frame_0975.png: 156 --> 155 matches\n",
      "filter_FundamentalMatrix: 778 matches --> 773 matches\n",
      "vineyard_split_1_frame_1055.png-vineyard_split_1_frame_1065.png: 778 --> 773 matches\n",
      "filter_FundamentalMatrix: 652 matches --> 641 matches\n",
      "vineyard_split_1_frame_1055.png-vineyard_split_1_frame_1045.png: 652 --> 641 matches\n",
      "filter_FundamentalMatrix: 203 matches --> 199 matches\n",
      "vineyard_split_1_frame_1055.png-vineyard_split_1_frame_1040.png: 203 --> 199 matches\n",
      "filter_FundamentalMatrix: 2256 matches --> 2252 matches\n",
      "vineyard_split_1_frame_1055.png-vineyard_split_1_frame_1050.png: 2256 --> 2252 matches\n",
      "filter_FundamentalMatrix: 1693 matches --> 1687 matches\n",
      "vineyard_split_1_frame_0965.png-vineyard_split_1_frame_0960.png: 1693 --> 1687 matches\n",
      "filter_FundamentalMatrix: 2221 matches --> 2214 matches\n",
      "vineyard_split_1_frame_0935.png-vineyard_split_1_frame_0940.png: 2221 --> 2214 matches\n",
      "filter_FundamentalMatrix: 531 matches --> 520 matches\n",
      "vineyard_split_1_frame_0970.png-vineyard_split_1_frame_0960.png: 531 --> 520 matches\n",
      "filter_FundamentalMatrix: 1387 matches --> 1380 matches\n",
      "vineyard_split_1_frame_0970.png-vineyard_split_1_frame_0980.png: 1387 --> 1380 matches\n",
      "filter_FundamentalMatrix: 314 matches --> 308 matches\n",
      "vineyard_split_1_frame_0970.png-vineyard_split_1_frame_0985.png: 314 --> 308 matches\n",
      "filter_FundamentalMatrix: 2309 matches --> 2305 matches\n",
      "vineyard_split_1_frame_0970.png-vineyard_split_1_frame_0975.png: 2309 --> 2305 matches\n",
      "filter_FundamentalMatrix: 2319 matches --> 2308 matches\n",
      "vineyard_split_1_frame_0960.png-vineyard_split_1_frame_0955.png: 2319 --> 2308 matches\n",
      "filter_FundamentalMatrix: 103 matches --> 99 matches\n",
      "vineyard_split_1_frame_1095.png-vineyard_split_1_frame_1080.png: 103 --> 99 matches\n",
      "filter_FundamentalMatrix: 2481 matches --> 2475 matches\n",
      "vineyard_split_1_frame_1095.png-vineyard_split_1_frame_1100.png: 2481 --> 2475 matches\n",
      "filter_FundamentalMatrix: 2006 matches --> 2000 matches\n",
      "vineyard_split_1_frame_1095.png-vineyard_split_1_frame_1105.png: 2006 --> 2000 matches\n",
      "filter_FundamentalMatrix: 878 matches --> 871 matches\n",
      "vineyard_split_1_frame_0945.png-vineyard_split_1_frame_0955.png: 878 --> 871 matches\n",
      "filter_FundamentalMatrix: 1842 matches --> 1831 matches\n",
      "vineyard_split_1_frame_0945.png-vineyard_split_1_frame_0940.png: 1842 --> 1831 matches\n",
      "filter_FundamentalMatrix: 1832 matches --> 1819 matches\n",
      "vineyard_split_1_frame_0905.png-vineyard_split_1_frame_0900.png: 1832 --> 1819 matches\n",
      "filter_FundamentalMatrix: 2062 matches --> 2060 matches\n",
      "vineyard_split_1_frame_1085.png-vineyard_split_1_frame_1090.png: 2062 --> 2060 matches\n",
      "filter_FundamentalMatrix: 133 matches --> 128 matches\n",
      "vineyard_split_1_frame_0955.png-vineyard_split_1_frame_0940.png: 133 --> 128 matches\n",
      "filter_FundamentalMatrix: 2387 matches --> 2383 matches\n",
      "vineyard_split_1_frame_0980.png-vineyard_split_1_frame_0985.png: 2387 --> 2383 matches\n",
      "filter_FundamentalMatrix: 2759 matches --> 2759 matches\n",
      "vineyard_split_1_frame_0980.png-vineyard_split_1_frame_0975.png: 2759 --> 2759 matches\n",
      "filter_FundamentalMatrix: 2193 matches --> 2186 matches\n",
      "vineyard_split_1_frame_1045.png-vineyard_split_1_frame_1040.png: 2193 --> 2186 matches\n",
      "filter_FundamentalMatrix: 1226 matches --> 1225 matches\n",
      "vineyard_split_1_frame_1045.png-vineyard_split_1_frame_1035.png: 1226 --> 1225 matches\n",
      "filter_FundamentalMatrix: 1571 matches --> 1568 matches\n",
      "vineyard_split_1_frame_1045.png-vineyard_split_1_frame_1050.png: 1571 --> 1568 matches\n",
      "filter_FundamentalMatrix: 2039 matches --> 2039 matches\n",
      "vineyard_split_1_frame_1080.png-vineyard_split_1_frame_1075.png: 2039 --> 2039 matches\n",
      "filter_FundamentalMatrix: 2431 matches --> 2429 matches\n",
      "vineyard_split_1_frame_1040.png-vineyard_split_1_frame_1035.png: 2431 --> 2429 matches\n",
      "filter_FundamentalMatrix: 1204 matches --> 1202 matches\n",
      "vineyard_split_1_frame_1040.png-vineyard_split_1_frame_1030.png: 1204 --> 1202 matches\n",
      "filter_FundamentalMatrix: 771 matches --> 756 matches\n",
      "vineyard_split_1_frame_1040.png-vineyard_split_1_frame_1050.png: 771 --> 756 matches\n",
      "filter_FundamentalMatrix: 2288 matches --> 2267 matches\n",
      "vineyard_split_1_frame_1110.png-vineyard_split_1_frame_1100.png: 2288 --> 2267 matches\n",
      "filter_FundamentalMatrix: 2343 matches --> 2331 matches\n",
      "vineyard_split_1_frame_1110.png-vineyard_split_1_frame_1105.png: 2343 --> 2331 matches\n",
      "filter_FundamentalMatrix: 108 matches --> 90 matches\n",
      "vineyard_split_1_frame_1020.png-vineyard_split_1_frame_0940.png: 108 --> 90 matches\n",
      "filter_FundamentalMatrix: 673 matches --> 666 matches\n",
      "vineyard_split_1_frame_1020.png-vineyard_split_1_frame_1010.png: 673 --> 666 matches\n",
      "filter_FundamentalMatrix: 800 matches --> 797 matches\n",
      "vineyard_split_1_frame_1020.png-vineyard_split_1_frame_1030.png: 800 --> 797 matches\n",
      "filter_FundamentalMatrix: 392 matches --> 390 matches\n",
      "vineyard_split_1_frame_1000.png-vineyard_split_1_frame_1010.png: 392 --> 390 matches\n",
      "filter_FundamentalMatrix: 152 matches --> 146 matches\n",
      "vineyard_split_1_frame_1000.png-vineyard_split_1_frame_0985.png: 152 --> 146 matches\n",
      "filter_FundamentalMatrix: 2070 matches --> 2065 matches\n",
      "vineyard_split_1_frame_1035.png-vineyard_split_1_frame_1030.png: 2070 --> 2065 matches\n",
      "filter_FundamentalMatrix: 2972 matches --> 2966 matches\n",
      "vineyard_split_1_frame_1100.png-vineyard_split_1_frame_1105.png: 2972 --> 2966 matches\n",
      "filter_FundamentalMatrix: 332 matches --> 326 matches\n",
      "vineyard_split_1_frame_0940.png-vineyard_split_1_frame_0925.png: 332 --> 326 matches\n",
      "filter_FundamentalMatrix: 2417 matches --> 2414 matches\n",
      "vineyard_split_1_frame_0925.png-vineyard_split_1_frame_0930.png: 2417 --> 2414 matches\n",
      "filter_FundamentalMatrix: 1906 matches --> 1894 matches\n",
      "vineyard_split_1_frame_0925.png-vineyard_split_1_frame_0920.png: 1906 --> 1894 matches\n",
      "filter_FundamentalMatrix: 1614 matches --> 1598 matches\n",
      "vineyard_split_1_frame_0985.png-vineyard_split_1_frame_0975.png: 1614 --> 1598 matches\n",
      "filter_FundamentalMatrix: 2659 matches --> 2655 matches\n",
      "vineyard_split_1_frame_1030.png-vineyard_split_1_frame_1025.png: 2659 --> 2655 matches\n",
      "Ensembled pairs : 252 pairs\n",
      "Local feature extracting and matching. Done in 423.4699 sec\n"
     ]
    },
    {
     "name": "stderr",
     "output_type": "stream",
     "text": [
      "100%|██████████| 159/159 [00:01<00:00, 105.15it/s]\n",
      "  4%|▎         | 252/6903 [00:00<00:01, 3525.95it/s]\n"
     ]
    },
    {
     "name": "stdout",
     "output_type": "stream",
     "text": [
      "Original results\n",
      "{0: Reconstruction(num_reg_images=21, num_cameras=21, num_points3D=11775, num_observations=42125), 1: Reconstruction(num_reg_images=43, num_cameras=43, num_points3D=24078, num_observations=84566), 2: Reconstruction(num_reg_images=19, num_cameras=19, num_points3D=4319, num_observations=14359), 3: Reconstruction(num_reg_images=20, num_cameras=20, num_points3D=7032, num_observations=22935), 4: Reconstruction(num_reg_images=27, num_cameras=27, num_points3D=12393, num_observations=36531), 5: Reconstruction(num_reg_images=10, num_cameras=10, num_points3D=2643, num_observations=8438), 6: Reconstruction(num_reg_images=13, num_cameras=13, num_points3D=4205, num_observations=13174), 7: Reconstruction(num_reg_images=6, num_cameras=6, num_points3D=908, num_observations=2803)}\n",
      "{}\n",
      "map 0:Image(image_id=101, camera_id=101, name=\"vineyard_split_3_frame_0190.png\", triangulated=760/2873)\n",
      "map 0:Image(image_id=102, camera_id=102, name=\"vineyard_split_3_frame_0195.png\", triangulated=1361/3806)\n",
      "map 0:Image(image_id=103, camera_id=103, name=\"vineyard_split_3_frame_0200.png\", triangulated=1932/3748)\n",
      "map 0:Image(image_id=104, camera_id=104, name=\"vineyard_split_3_frame_0205.png\", triangulated=2301/4194)\n",
      "map 0:Image(image_id=105, camera_id=105, name=\"vineyard_split_3_frame_0210.png\", triangulated=2194/3463)\n",
      "map 0:Image(image_id=106, camera_id=106, name=\"vineyard_split_3_frame_0215.png\", triangulated=2404/3735)\n",
      "map 0:Image(image_id=107, camera_id=107, name=\"vineyard_split_3_frame_0220.png\", triangulated=2357/4149)\n",
      "map 0:Image(image_id=108, camera_id=108, name=\"vineyard_split_3_frame_0225.png\", triangulated=1610/3716)\n",
      "map 0:Image(image_id=109, camera_id=109, name=\"vineyard_split_3_frame_0230.png\", triangulated=1044/2902)\n",
      "map 0:Image(image_id=111, camera_id=111, name=\"vineyard_split_3_frame_0240.png\", triangulated=1149/3516)\n",
      "map 0:Image(image_id=112, camera_id=112, name=\"vineyard_split_3_frame_0245.png\", triangulated=1207/3362)\n",
      "map 0:Image(image_id=114, camera_id=114, name=\"vineyard_split_3_frame_0255.png\", triangulated=1934/3642)\n",
      "map 0:Image(image_id=115, camera_id=115, name=\"vineyard_split_3_frame_0260.png\", triangulated=2238/4309)\n",
      "map 0:Image(image_id=116, camera_id=116, name=\"vineyard_split_3_frame_0265.png\", triangulated=2706/4381)\n",
      "map 0:Image(image_id=117, camera_id=117, name=\"vineyard_split_3_frame_0270.png\", triangulated=3419/4567)\n",
      "map 0:Image(image_id=118, camera_id=118, name=\"vineyard_split_3_frame_0275.png\", triangulated=3348/4610)\n",
      "map 0:Image(image_id=119, camera_id=119, name=\"vineyard_split_3_frame_0280.png\", triangulated=3477/4706)\n",
      "map 0:Image(image_id=120, camera_id=120, name=\"vineyard_split_3_frame_0285.png\", triangulated=3062/4397)\n",
      "map 0:Image(image_id=121, camera_id=121, name=\"vineyard_split_3_frame_0295.png\", triangulated=1618/2863)\n",
      "map 0:Image(image_id=122, camera_id=122, name=\"vineyard_split_3_frame_0300.png\", triangulated=1024/4294)\n",
      "map 0:Image(image_id=123, camera_id=123, name=\"vineyard_split_3_frame_0305.png\", triangulated=980/3770)\n",
      "map 1:Image(image_id=77, camera_id=77, name=\"vineyard_split_3_frame_0070.png\", triangulated=1089/2222)\n",
      "map 1:Image(image_id=78, camera_id=78, name=\"vineyard_split_3_frame_0075.png\", triangulated=1998/3943)\n",
      "map 1:Image(image_id=79, camera_id=79, name=\"vineyard_split_3_frame_0080.png\", triangulated=2704/4385)\n",
      "map 1:Image(image_id=80, camera_id=80, name=\"vineyard_split_3_frame_0085.png\", triangulated=3051/4573)\n",
      "map 1:Image(image_id=81, camera_id=81, name=\"vineyard_split_3_frame_0090.png\", triangulated=2887/4340)\n",
      "map 1:Image(image_id=82, camera_id=82, name=\"vineyard_split_3_frame_0095.png\", triangulated=2587/4355)\n",
      "map 1:Image(image_id=83, camera_id=83, name=\"vineyard_split_3_frame_0100.png\", triangulated=2346/3872)\n",
      "map 1:Image(image_id=84, camera_id=84, name=\"vineyard_split_3_frame_0105.png\", triangulated=2775/4219)\n",
      "map 1:Image(image_id=85, camera_id=85, name=\"vineyard_split_3_frame_0110.png\", triangulated=3213/4771)\n",
      "map 1:Image(image_id=86, camera_id=86, name=\"vineyard_split_3_frame_0115.png\", triangulated=2002/3033)\n",
      "map 1:Image(image_id=87, camera_id=87, name=\"vineyard_split_3_frame_0120.png\", triangulated=2182/4048)\n",
      "map 1:Image(image_id=88, camera_id=88, name=\"vineyard_split_3_frame_0125.png\", triangulated=1773/3703)\n",
      "map 1:Image(image_id=89, camera_id=89, name=\"vineyard_split_3_frame_0130.png\", triangulated=255/766)\n",
      "map 1:Image(image_id=90, camera_id=90, name=\"vineyard_split_3_frame_0135.png\", triangulated=886/2944)\n",
      "map 1:Image(image_id=91, camera_id=91, name=\"vineyard_split_3_frame_0140.png\", triangulated=742/2944)\n",
      "map 1:Image(image_id=93, camera_id=93, name=\"vineyard_split_3_frame_0150.png\", triangulated=1517/3492)\n",
      "map 1:Image(image_id=94, camera_id=94, name=\"vineyard_split_3_frame_0155.png\", triangulated=2025/3820)\n",
      "map 1:Image(image_id=95, camera_id=95, name=\"vineyard_split_3_frame_0160.png\", triangulated=2550/3959)\n",
      "map 1:Image(image_id=96, camera_id=96, name=\"vineyard_split_3_frame_0165.png\", triangulated=2699/4344)\n",
      "map 1:Image(image_id=97, camera_id=97, name=\"vineyard_split_3_frame_0170.png\", triangulated=2251/4116)\n",
      "map 1:Image(image_id=98, camera_id=98, name=\"vineyard_split_3_frame_0175.png\", triangulated=1387/2863)\n",
      "map 1:Image(image_id=99, camera_id=99, name=\"vineyard_split_3_frame_0180.png\", triangulated=813/1757)\n",
      "map 1:Image(image_id=100, camera_id=100, name=\"vineyard_split_3_frame_0185.png\", triangulated=164/716)\n",
      "map 1:Image(image_id=101, camera_id=101, name=\"vineyard_split_3_frame_0190.png\", triangulated=804/2873)\n",
      "map 1:Image(image_id=102, camera_id=102, name=\"vineyard_split_3_frame_0195.png\", triangulated=1376/3806)\n",
      "map 1:Image(image_id=103, camera_id=103, name=\"vineyard_split_3_frame_0200.png\", triangulated=1953/3748)\n",
      "map 1:Image(image_id=104, camera_id=104, name=\"vineyard_split_3_frame_0205.png\", triangulated=2307/4194)\n",
      "map 1:Image(image_id=105, camera_id=105, name=\"vineyard_split_3_frame_0210.png\", triangulated=2189/3463)\n",
      "map 1:Image(image_id=106, camera_id=106, name=\"vineyard_split_3_frame_0215.png\", triangulated=2371/3735)\n",
      "map 1:Image(image_id=107, camera_id=107, name=\"vineyard_split_3_frame_0220.png\", triangulated=2323/4149)\n",
      "map 1:Image(image_id=108, camera_id=108, name=\"vineyard_split_3_frame_0225.png\", triangulated=1583/3716)\n",
      "map 1:Image(image_id=109, camera_id=109, name=\"vineyard_split_3_frame_0230.png\", triangulated=1038/2902)\n",
      "map 1:Image(image_id=111, camera_id=111, name=\"vineyard_split_3_frame_0240.png\", triangulated=1159/3516)\n",
      "map 1:Image(image_id=112, camera_id=112, name=\"vineyard_split_3_frame_0245.png\", triangulated=1207/3362)\n",
      "map 1:Image(image_id=114, camera_id=114, name=\"vineyard_split_3_frame_0255.png\", triangulated=1919/3642)\n",
      "map 1:Image(image_id=115, camera_id=115, name=\"vineyard_split_3_frame_0260.png\", triangulated=2253/4309)\n",
      "map 1:Image(image_id=116, camera_id=116, name=\"vineyard_split_3_frame_0265.png\", triangulated=2709/4381)\n",
      "map 1:Image(image_id=117, camera_id=117, name=\"vineyard_split_3_frame_0270.png\", triangulated=3276/4567)\n",
      "map 1:Image(image_id=118, camera_id=118, name=\"vineyard_split_3_frame_0275.png\", triangulated=3352/4610)\n",
      "map 1:Image(image_id=119, camera_id=119, name=\"vineyard_split_3_frame_0280.png\", triangulated=3314/4706)\n",
      "map 1:Image(image_id=120, camera_id=120, name=\"vineyard_split_3_frame_0285.png\", triangulated=3054/4397)\n",
      "map 1:Image(image_id=121, camera_id=121, name=\"vineyard_split_3_frame_0295.png\", triangulated=1551/2863)\n",
      "map 1:Image(image_id=122, camera_id=122, name=\"vineyard_split_3_frame_0300.png\", triangulated=932/4294)\n",
      "map 2:Image(image_id=21, camera_id=21, name=\"vineyard_split_1_frame_1000.png\", triangulated=62/1266)\n",
      "map 2:Image(image_id=23, camera_id=23, name=\"vineyard_split_1_frame_1010.png\", triangulated=156/2069)\n",
      "map 2:Image(image_id=24, camera_id=24, name=\"vineyard_split_1_frame_1015.png\", triangulated=152/3464)\n",
      "map 2:Image(image_id=25, camera_id=25, name=\"vineyard_split_1_frame_1020.png\", triangulated=238/3395)\n",
      "map 2:Image(image_id=26, camera_id=26, name=\"vineyard_split_1_frame_1025.png\", triangulated=156/2592)\n",
      "map 2:Image(image_id=27, camera_id=27, name=\"vineyard_split_1_frame_1030.png\", triangulated=277/4090)\n",
      "map 2:Image(image_id=28, camera_id=28, name=\"vineyard_split_1_frame_1035.png\", triangulated=283/3839)\n",
      "map 2:Image(image_id=29, camera_id=29, name=\"vineyard_split_1_frame_1040.png\", triangulated=358/4173)\n",
      "map 2:Image(image_id=30, camera_id=30, name=\"vineyard_split_1_frame_1045.png\", triangulated=308/3682)\n",
      "map 2:Image(image_id=31, camera_id=31, name=\"vineyard_split_1_frame_1050.png\", triangulated=248/3568)\n",
      "map 2:Image(image_id=32, camera_id=32, name=\"vineyard_split_1_frame_1055.png\", triangulated=235/3159)\n",
      "map 2:Image(image_id=33, camera_id=33, name=\"vineyard_split_1_frame_1065.png\", triangulated=164/2197)\n",
      "map 2:Image(image_id=34, camera_id=34, name=\"vineyard_split_1_frame_1070.png\", triangulated=494/3124)\n",
      "map 2:Image(image_id=35, camera_id=35, name=\"vineyard_split_1_frame_1075.png\", triangulated=491/3212)\n",
      "map 2:Image(image_id=36, camera_id=36, name=\"vineyard_split_1_frame_1080.png\", triangulated=425/2256)\n",
      "map 2:Image(image_id=39, camera_id=39, name=\"vineyard_split_1_frame_1095.png\", triangulated=2121/3074)\n",
      "map 2:Image(image_id=40, camera_id=40, name=\"vineyard_split_1_frame_1100.png\", triangulated=3090/4425)\n",
      "map 2:Image(image_id=41, camera_id=41, name=\"vineyard_split_1_frame_1105.png\", triangulated=2614/4215)\n",
      "map 2:Image(image_id=42, camera_id=42, name=\"vineyard_split_1_frame_1110.png\", triangulated=2487/3143)\n",
      "map 3:Image(image_id=3, camera_id=3, name=\"vineyard_split_1_frame_0910.png\", triangulated=608/2933)\n",
      "map 3:Image(image_id=4, camera_id=4, name=\"vineyard_split_1_frame_0915.png\", triangulated=746/3829)\n",
      "map 3:Image(image_id=5, camera_id=5, name=\"vineyard_split_1_frame_0920.png\", triangulated=1245/3166)\n",
      "map 3:Image(image_id=6, camera_id=6, name=\"vineyard_split_1_frame_0925.png\", triangulated=971/3750)\n",
      "map 3:Image(image_id=7, camera_id=7, name=\"vineyard_split_1_frame_0930.png\", triangulated=755/2370)\n",
      "map 3:Image(image_id=8, camera_id=8, name=\"vineyard_split_1_frame_0935.png\", triangulated=858/2188)\n",
      "map 3:Image(image_id=9, camera_id=9, name=\"vineyard_split_1_frame_0940.png\", triangulated=1008/3490)\n",
      "map 3:Image(image_id=10, camera_id=10, name=\"vineyard_split_1_frame_0945.png\", triangulated=852/2571)\n",
      "map 3:Image(image_id=11, camera_id=11, name=\"vineyard_split_1_frame_0950.png\", triangulated=598/872)\n",
      "map 3:Image(image_id=12, camera_id=12, name=\"vineyard_split_1_frame_0955.png\", triangulated=1243/3013)\n",
      "map 3:Image(image_id=13, camera_id=13, name=\"vineyard_split_1_frame_0960.png\", triangulated=1423/3773)\n",
      "map 3:Image(image_id=14, camera_id=14, name=\"vineyard_split_1_frame_0965.png\", triangulated=703/1657)\n",
      "map 3:Image(image_id=15, camera_id=15, name=\"vineyard_split_1_frame_0970.png\", triangulated=1844/3218)\n",
      "map 3:Image(image_id=16, camera_id=16, name=\"vineyard_split_1_frame_0975.png\", triangulated=2501/4293)\n",
      "map 3:Image(image_id=17, camera_id=17, name=\"vineyard_split_1_frame_0980.png\", triangulated=2989/4488)\n",
      "map 3:Image(image_id=18, camera_id=18, name=\"vineyard_split_1_frame_0985.png\", triangulated=2444/4197)\n",
      "map 3:Image(image_id=19, camera_id=19, name=\"vineyard_split_1_frame_0990.png\", triangulated=1697/3203)\n",
      "map 3:Image(image_id=21, camera_id=21, name=\"vineyard_split_1_frame_1000.png\", triangulated=379/1266)\n",
      "map 3:Image(image_id=25, camera_id=25, name=\"vineyard_split_1_frame_1020.png\", triangulated=26/3395)\n",
      "map 3:Image(image_id=43, camera_id=43, name=\"vineyard_split_2_frame_1150.png\", triangulated=45/2262)\n",
      "map 4:Image(image_id=43, camera_id=43, name=\"vineyard_split_2_frame_1150.png\", triangulated=705/2262)\n",
      "map 4:Image(image_id=44, camera_id=44, name=\"vineyard_split_2_frame_1155.png\", triangulated=1342/3820)\n",
      "map 4:Image(image_id=45, camera_id=45, name=\"vineyard_split_2_frame_1160.png\", triangulated=1747/3734)\n",
      "map 4:Image(image_id=46, camera_id=46, name=\"vineyard_split_2_frame_1165.png\", triangulated=2038/3862)\n",
      "map 4:Image(image_id=47, camera_id=47, name=\"vineyard_split_2_frame_1170.png\", triangulated=2444/4414)\n",
      "map 4:Image(image_id=48, camera_id=48, name=\"vineyard_split_2_frame_1175.png\", triangulated=1636/2827)\n",
      "map 4:Image(image_id=49, camera_id=49, name=\"vineyard_split_2_frame_1180.png\", triangulated=1456/2216)\n",
      "map 4:Image(image_id=50, camera_id=50, name=\"vineyard_split_2_frame_1185.png\", triangulated=603/2162)\n",
      "map 4:Image(image_id=51, camera_id=51, name=\"vineyard_split_2_frame_1195.png\", triangulated=1027/3355)\n",
      "map 4:Image(image_id=52, camera_id=52, name=\"vineyard_split_2_frame_1200.png\", triangulated=854/3433)\n",
      "map 4:Image(image_id=53, camera_id=53, name=\"vineyard_split_2_frame_1205.png\", triangulated=1738/3710)\n",
      "map 4:Image(image_id=54, camera_id=54, name=\"vineyard_split_2_frame_1210.png\", triangulated=1407/3818)\n",
      "map 4:Image(image_id=55, camera_id=55, name=\"vineyard_split_2_frame_1215.png\", triangulated=1389/3417)\n",
      "map 4:Image(image_id=56, camera_id=56, name=\"vineyard_split_2_frame_1220.png\", triangulated=1276/3773)\n",
      "map 4:Image(image_id=57, camera_id=57, name=\"vineyard_split_2_frame_1225.png\", triangulated=1310/3699)\n",
      "map 4:Image(image_id=58, camera_id=58, name=\"vineyard_split_2_frame_1230.png\", triangulated=1760/3799)\n",
      "map 4:Image(image_id=59, camera_id=59, name=\"vineyard_split_2_frame_1235.png\", triangulated=1838/3947)\n",
      "map 4:Image(image_id=60, camera_id=60, name=\"vineyard_split_2_frame_1240.png\", triangulated=1862/4069)\n",
      "map 4:Image(image_id=61, camera_id=61, name=\"vineyard_split_2_frame_1245.png\", triangulated=1270/3518)\n",
      "map 4:Image(image_id=62, camera_id=62, name=\"vineyard_split_2_frame_1250.png\", triangulated=1209/3603)\n",
      "map 4:Image(image_id=63, camera_id=63, name=\"vineyard_split_2_frame_1255.png\", triangulated=1454/3759)\n",
      "map 4:Image(image_id=64, camera_id=64, name=\"vineyard_split_2_frame_1260.png\", triangulated=1503/3757)\n",
      "map 4:Image(image_id=65, camera_id=65, name=\"vineyard_split_2_frame_1265.png\", triangulated=1181/3524)\n",
      "map 4:Image(image_id=66, camera_id=66, name=\"vineyard_split_2_frame_1270.png\", triangulated=683/2623)\n",
      "map 4:Image(image_id=67, camera_id=67, name=\"vineyard_split_2_frame_1275.png\", triangulated=1378/3562)\n",
      "map 4:Image(image_id=68, camera_id=68, name=\"vineyard_split_2_frame_1280.png\", triangulated=1281/3663)\n",
      "map 4:Image(image_id=69, camera_id=69, name=\"vineyard_split_2_frame_1285.png\", triangulated=140/3815)\n",
      "map 5:Image(image_id=72, camera_id=72, name=\"vineyard_split_2_frame_1300.png\", triangulated=84/2116)\n",
      "map 5:Image(image_id=136, camera_id=136, name=\"vineyard_split_3_frame_1450.png\", triangulated=213/1868)\n",
      "map 5:Image(image_id=137, camera_id=137, name=\"vineyard_split_3_frame_1460.png\", triangulated=1283/3456)\n",
      "map 5:Image(image_id=138, camera_id=138, name=\"vineyard_split_3_frame_1465.png\", triangulated=1332/3689)\n",
      "map 5:Image(image_id=139, camera_id=139, name=\"vineyard_split_3_frame_1470.png\", triangulated=1966/3927)\n",
      "map 5:Image(image_id=140, camera_id=140, name=\"vineyard_split_3_frame_1475.png\", triangulated=1365/2866)\n",
      "map 5:Image(image_id=141, camera_id=141, name=\"vineyard_split_3_frame_1480.png\", triangulated=1105/3037)\n",
      "map 5:Image(image_id=142, camera_id=142, name=\"vineyard_split_3_frame_1485.png\", triangulated=582/3443)\n",
      "map 5:Image(image_id=143, camera_id=143, name=\"vineyard_split_3_frame_1490.png\", triangulated=425/2439)\n",
      "map 5:Image(image_id=145, camera_id=145, name=\"vineyard_split_3_frame_1500.png\", triangulated=83/969)\n",
      "map 6:Image(image_id=147, camera_id=147, name=\"vineyard_split_3_frame_1510.png\", triangulated=976/3448)\n",
      "map 6:Image(image_id=148, camera_id=148, name=\"vineyard_split_3_frame_1515.png\", triangulated=847/2897)\n",
      "map 6:Image(image_id=149, camera_id=149, name=\"vineyard_split_3_frame_1520.png\", triangulated=1296/2621)\n",
      "map 6:Image(image_id=150, camera_id=150, name=\"vineyard_split_3_frame_1525.png\", triangulated=854/3304)\n",
      "map 6:Image(image_id=151, camera_id=151, name=\"vineyard_split_3_frame_1530.png\", triangulated=669/3201)\n",
      "map 6:Image(image_id=152, camera_id=152, name=\"vineyard_split_3_frame_1535.png\", triangulated=482/1668)\n",
      "map 6:Image(image_id=153, camera_id=153, name=\"vineyard_split_3_frame_1540.png\", triangulated=901/2491)\n",
      "map 6:Image(image_id=154, camera_id=154, name=\"vineyard_split_3_frame_1545.png\", triangulated=1534/4003)\n",
      "map 6:Image(image_id=155, camera_id=155, name=\"vineyard_split_3_frame_1550.png\", triangulated=1292/2276)\n",
      "map 6:Image(image_id=156, camera_id=156, name=\"vineyard_split_3_frame_1555.png\", triangulated=1207/2425)\n",
      "map 6:Image(image_id=157, camera_id=157, name=\"vineyard_split_3_frame_1560.png\", triangulated=1163/3686)\n",
      "map 6:Image(image_id=158, camera_id=158, name=\"vineyard_split_3_frame_1565.png\", triangulated=1065/3795)\n",
      "map 6:Image(image_id=159, camera_id=159, name=\"vineyard_split_3_frame_1570.png\", triangulated=888/2589)\n",
      "map 7:Image(image_id=70, camera_id=70, name=\"vineyard_split_2_frame_1290.png\", triangulated=166/3365)\n",
      "map 7:Image(image_id=72, camera_id=72, name=\"vineyard_split_2_frame_1300.png\", triangulated=673/2116)\n",
      "map 7:Image(image_id=73, camera_id=73, name=\"vineyard_split_2_frame_1305.png\", triangulated=885/3737)\n",
      "map 7:Image(image_id=74, camera_id=74, name=\"vineyard_split_2_frame_1310.png\", triangulated=695/2186)\n",
      "map 7:Image(image_id=75, camera_id=75, name=\"vineyard_split_2_frame_1315.png\", triangulated=138/1777)\n",
      "map 7:Image(image_id=76, camera_id=76, name=\"vineyard_split_2_frame_1320.png\", triangulated=246/1937)\n",
      "Dataset  fbk_vineyard -> Registered 159 / 163 images with 8 clusters\n",
      "Skipping \"ETs\"\n",
      "\n",
      "Processing dataset \"stairs\": 51 images\n",
      "rotation_detection for 51 images : 0.0000 sec\n"
     ]
    },
    {
     "name": "stderr",
     "output_type": "stream",
     "text": [
      "100%|██████████| 51/51 [00:09<00:00,  5.13it/s]\n"
     ]
    },
    {
     "name": "stdout",
     "output_type": "stream",
     "text": [
      "Distance Matrix Statistics:\n",
      "Min:  0.1598\n",
      "Max:  0.4240\n",
      "Mean: 0.2807\n",
      "Std:  0.0451\n",
      "20%:  0.2433\n",
      "25%:  0.2499\n",
      "60%:  0.2868\n",
      "75%:  0.3089\n",
      "Shortlisting. Number of pairs to match: 564. Done in 10.2186 sec\n",
      "Generated 564 image pairs using VLAD global descriptor.\n",
      "Shortlisting. Number of pairs to match: 564. Done in 10.5227 sec\n",
      "aliked > rot_k=0, kpts.shape=torch.Size([632, 2]), descs.shape=torch.Size([632, 128])\n",
      "aliked > rot_k=0, kpts.shape=torch.Size([970, 2]), descs.shape=torch.Size([970, 128])\n",
      "aliked > rot_k=0, kpts.shape=torch.Size([440, 2]), descs.shape=torch.Size([440, 128])\n",
      "aliked > rot_k=0, kpts.shape=torch.Size([976, 2]), descs.shape=torch.Size([976, 128])\n",
      "aliked > rot_k=0, kpts.shape=torch.Size([1257, 2]), descs.shape=torch.Size([1257, 128])\n",
      "aliked > rot_k=0, kpts.shape=torch.Size([2208, 2]), descs.shape=torch.Size([2208, 128])\n",
      "aliked > rot_k=0, kpts.shape=torch.Size([2303, 2]), descs.shape=torch.Size([2303, 128])\n",
      "aliked > rot_k=0, kpts.shape=torch.Size([1486, 2]), descs.shape=torch.Size([1486, 128])\n",
      "aliked > rot_k=0, kpts.shape=torch.Size([806, 2]), descs.shape=torch.Size([806, 128])\n",
      "aliked > rot_k=0, kpts.shape=torch.Size([851, 2]), descs.shape=torch.Size([851, 128])\n",
      "aliked > rot_k=0, kpts.shape=torch.Size([1128, 2]), descs.shape=torch.Size([1128, 128])\n",
      "aliked > rot_k=0, kpts.shape=torch.Size([544, 2]), descs.shape=torch.Size([544, 128])\n",
      "aliked > rot_k=0, kpts.shape=torch.Size([1933, 2]), descs.shape=torch.Size([1933, 128])\n",
      "aliked > rot_k=0, kpts.shape=torch.Size([1467, 2]), descs.shape=torch.Size([1467, 128])\n",
      "aliked > rot_k=0, kpts.shape=torch.Size([1514, 2]), descs.shape=torch.Size([1514, 128])\n",
      "aliked > rot_k=0, kpts.shape=torch.Size([3646, 2]), descs.shape=torch.Size([3646, 128])\n",
      "aliked > rot_k=0, kpts.shape=torch.Size([1017, 2]), descs.shape=torch.Size([1017, 128])\n",
      "aliked > rot_k=0, kpts.shape=torch.Size([1209, 2]), descs.shape=torch.Size([1209, 128])\n",
      "aliked > rot_k=0, kpts.shape=torch.Size([392, 2]), descs.shape=torch.Size([392, 128])\n",
      "aliked > rot_k=0, kpts.shape=torch.Size([885, 2]), descs.shape=torch.Size([885, 128])\n",
      "aliked > rot_k=0, kpts.shape=torch.Size([1430, 2]), descs.shape=torch.Size([1430, 128])\n",
      "aliked > rot_k=0, kpts.shape=torch.Size([1327, 2]), descs.shape=torch.Size([1327, 128])\n",
      "aliked > rot_k=0, kpts.shape=torch.Size([2183, 2]), descs.shape=torch.Size([2183, 128])\n",
      "aliked > rot_k=0, kpts.shape=torch.Size([1172, 2]), descs.shape=torch.Size([1172, 128])\n",
      "aliked > rot_k=0, kpts.shape=torch.Size([597, 2]), descs.shape=torch.Size([597, 128])\n",
      "aliked > rot_k=0, kpts.shape=torch.Size([1025, 2]), descs.shape=torch.Size([1025, 128])\n",
      "aliked > rot_k=0, kpts.shape=torch.Size([1702, 2]), descs.shape=torch.Size([1702, 128])\n",
      "aliked > rot_k=0, kpts.shape=torch.Size([238, 2]), descs.shape=torch.Size([238, 128])\n",
      "aliked > rot_k=0, kpts.shape=torch.Size([1450, 2]), descs.shape=torch.Size([1450, 128])\n",
      "aliked > rot_k=0, kpts.shape=torch.Size([2413, 2]), descs.shape=torch.Size([2413, 128])\n",
      "aliked > rot_k=0, kpts.shape=torch.Size([2404, 2]), descs.shape=torch.Size([2404, 128])\n",
      "aliked > rot_k=0, kpts.shape=torch.Size([1319, 2]), descs.shape=torch.Size([1319, 128])\n",
      "aliked > rot_k=0, kpts.shape=torch.Size([1729, 2]), descs.shape=torch.Size([1729, 128])\n",
      "aliked > rot_k=0, kpts.shape=torch.Size([3269, 2]), descs.shape=torch.Size([3269, 128])\n",
      "aliked > rot_k=0, kpts.shape=torch.Size([2769, 2]), descs.shape=torch.Size([2769, 128])\n",
      "aliked > rot_k=0, kpts.shape=torch.Size([1897, 2]), descs.shape=torch.Size([1897, 128])\n",
      "aliked > rot_k=0, kpts.shape=torch.Size([2382, 2]), descs.shape=torch.Size([2382, 128])\n",
      "aliked > rot_k=0, kpts.shape=torch.Size([4096, 2]), descs.shape=torch.Size([4096, 128])\n",
      "aliked > rot_k=0, kpts.shape=torch.Size([1054, 2]), descs.shape=torch.Size([1054, 128])\n",
      "aliked > rot_k=0, kpts.shape=torch.Size([2995, 2]), descs.shape=torch.Size([2995, 128])\n",
      "aliked > rot_k=0, kpts.shape=torch.Size([2149, 2]), descs.shape=torch.Size([2149, 128])\n",
      "aliked > rot_k=0, kpts.shape=torch.Size([2114, 2]), descs.shape=torch.Size([2114, 128])\n",
      "aliked > rot_k=0, kpts.shape=torch.Size([2111, 2]), descs.shape=torch.Size([2111, 128])\n",
      "aliked > rot_k=0, kpts.shape=torch.Size([2257, 2]), descs.shape=torch.Size([2257, 128])\n",
      "aliked > rot_k=0, kpts.shape=torch.Size([1541, 2]), descs.shape=torch.Size([1541, 128])\n",
      "aliked > rot_k=0, kpts.shape=torch.Size([2563, 2]), descs.shape=torch.Size([2563, 128])\n",
      "aliked > rot_k=0, kpts.shape=torch.Size([1133, 2]), descs.shape=torch.Size([1133, 128])\n",
      "aliked > rot_k=0, kpts.shape=torch.Size([3735, 2]), descs.shape=torch.Size([3735, 128])\n",
      "aliked > rot_k=0, kpts.shape=torch.Size([3395, 2]), descs.shape=torch.Size([3395, 128])\n",
      "aliked > rot_k=0, kpts.shape=torch.Size([1181, 2]), descs.shape=torch.Size([1181, 128])\n",
      "aliked > rot_k=0, kpts.shape=torch.Size([1078, 2]), descs.shape=torch.Size([1078, 128])\n",
      "Loaded LightGlue model\n"
     ]
    },
    {
     "name": "stderr",
     "output_type": "stream",
     "text": [
      "  2%|▏         | 13/564 [00:00<00:14, 38.98it/s]"
     ]
    },
    {
     "name": "stdout",
     "output_type": "stream",
     "text": [
      "aliked> stairs_split_1_1710453963274.png-stairs_split_1_1710453643106.png: 131 matches @ 1th pair(aliked+lightglue)\n"
     ]
    },
    {
     "name": "stderr",
     "output_type": "stream",
     "text": [
      "  5%|▌         | 31/564 [00:00<00:13, 38.50it/s]"
     ]
    },
    {
     "name": "stdout",
     "output_type": "stream",
     "text": [
      "aliked> stairs_split_1_1710453947066.png-stairs_split_1_1710453990286.png: 135 matches @ 2th pair(aliked+lightglue)\n"
     ]
    },
    {
     "name": "stderr",
     "output_type": "stream",
     "text": [
      "  8%|▊         | 43/564 [00:01<00:13, 38.83it/s]"
     ]
    },
    {
     "name": "stdout",
     "output_type": "stream",
     "text": [
      "aliked> stairs_split_1_1710453947066.png-stairs_split_1_1710453659313.png: 145 matches @ 3th pair(aliked+lightglue)\n"
     ]
    },
    {
     "name": "stderr",
     "output_type": "stream",
     "text": [
      " 11%|█         | 61/564 [00:01<00:12, 39.87it/s]"
     ]
    },
    {
     "name": "stdout",
     "output_type": "stream",
     "text": [
      "aliked> stairs_split_1_1710453985484.png-stairs_split_1_1710453612890.png: 141 matches @ 4th pair(aliked+lightglue)\n"
     ]
    },
    {
     "name": "stderr",
     "output_type": "stream",
     "text": [
      " 13%|█▎        | 73/564 [00:01<00:12, 38.34it/s]"
     ]
    },
    {
     "name": "stdout",
     "output_type": "stream",
     "text": [
      "aliked> stairs_split_1_1710453930259.png-stairs_split_1_1710453651110.png: 165 matches @ 5th pair(aliked+lightglue)\n"
     ]
    },
    {
     "name": "stderr",
     "output_type": "stream",
     "text": [
      " 15%|█▌        | 85/564 [00:02<00:12, 37.22it/s]"
     ]
    },
    {
     "name": "stdout",
     "output_type": "stream",
     "text": [
      "aliked> stairs_split_1_1710453901046.png-stairs_split_1_1710453704934.png: 266 matches @ 6th pair(aliked+lightglue)\n"
     ]
    },
    {
     "name": "stderr",
     "output_type": "stream",
     "text": [
      " 17%|█▋        | 98/564 [00:02<00:12, 37.54it/s]"
     ]
    },
    {
     "name": "stdout",
     "output_type": "stream",
     "text": [
      "aliked> stairs_split_1_1710453901046.png-stairs_split_2_1710453862225.png: 115 matches @ 7th pair(aliked+lightglue)\n"
     ]
    },
    {
     "name": "stderr",
     "output_type": "stream",
     "text": [
      " 24%|██▍       | 134/564 [00:03<00:16, 25.54it/s]"
     ]
    },
    {
     "name": "stdout",
     "output_type": "stream",
     "text": [
      "aliked> stairs_split_1_1710453689727.png-stairs_split_2_1710453871430.png: 113 matches @ 8th pair(aliked+lightglue)\n"
     ]
    },
    {
     "name": "stderr",
     "output_type": "stream",
     "text": [
      " 29%|██▉       | 165/564 [00:05<00:14, 27.84it/s]"
     ]
    },
    {
     "name": "stdout",
     "output_type": "stream",
     "text": [
      "aliked> stairs_split_1_1710453704934.png-stairs_split_2_1710453790978.png: 164 matches @ 9th pair(aliked+lightglue)\n",
      "aliked> stairs_split_1_1710453704934.png-stairs_split_2_1710453745156.png: 246 matches @ 10th pair(aliked+lightglue)\n"
     ]
    },
    {
     "name": "stderr",
     "output_type": "stream",
     "text": [
      " 35%|███▌      | 200/564 [00:06<00:10, 35.28it/s]"
     ]
    },
    {
     "name": "stdout",
     "output_type": "stream",
     "text": [
      "aliked> stairs_split_1_1710453606287.png-stairs_split_1_1710453990286.png: 144 matches @ 11th pair(aliked+lightglue)\n"
     ]
    },
    {
     "name": "stderr",
     "output_type": "stream",
     "text": [
      " 45%|████▌     | 254/564 [00:07<00:08, 34.57it/s]"
     ]
    },
    {
     "name": "stdout",
     "output_type": "stream",
     "text": [
      "aliked> stairs_split_1_1710453668718.png-stairs_split_1_1710453651110.png: 141 matches @ 12th pair(aliked+lightglue)\n"
     ]
    },
    {
     "name": "stderr",
     "output_type": "stream",
     "text": [
      " 49%|████▊     | 274/564 [00:08<00:09, 31.56it/s]"
     ]
    },
    {
     "name": "stdout",
     "output_type": "stream",
     "text": [
      "aliked> stairs_split_1_1710453601885.png-stairs_split_1_1710453576271.png: 163 matches @ 13th pair(aliked+lightglue)\n"
     ]
    },
    {
     "name": "stderr",
     "output_type": "stream",
     "text": [
      " 51%|█████     | 289/564 [00:08<00:10, 25.36it/s]"
     ]
    },
    {
     "name": "stdout",
     "output_type": "stream",
     "text": [
      "aliked> stairs_split_1_1710453955270.png-stairs_split_1_1710453651110.png: 201 matches @ 14th pair(aliked+lightglue)\n"
     ]
    },
    {
     "name": "stderr",
     "output_type": "stream",
     "text": [
      " 79%|███████▉  | 446/564 [00:13<00:04, 27.80it/s]"
     ]
    },
    {
     "name": "stdout",
     "output_type": "stream",
     "text": [
      "aliked> stairs_split_2_1710453871430.png-stairs_split_2_1710453783374.png: 146 matches @ 15th pair(aliked+lightglue)\n"
     ]
    },
    {
     "name": "stderr",
     "output_type": "stream",
     "text": [
      " 80%|███████▉  | 450/564 [00:14<00:04, 25.56it/s]"
     ]
    },
    {
     "name": "stdout",
     "output_type": "stream",
     "text": [
      "aliked> stairs_split_2_1710453871430.png-stairs_split_2_1710453739354.png: 628 matches @ 16th pair(aliked+lightglue)\n",
      "aliked> stairs_split_2_1710453871430.png-stairs_split_2_1710453736752.png: 431 matches @ 17th pair(aliked+lightglue)\n"
     ]
    },
    {
     "name": "stderr",
     "output_type": "stream",
     "text": [
      " 87%|████████▋ | 490/564 [00:15<00:02, 27.76it/s]"
     ]
    },
    {
     "name": "stdout",
     "output_type": "stream",
     "text": [
      "aliked> stairs_split_2_1710453786375.png-stairs_split_2_1710453783374.png: 541 matches @ 18th pair(aliked+lightglue)\n",
      "aliked> stairs_split_2_1710453786375.png-stairs_split_2_1710453720741.png: 646 matches @ 19th pair(aliked+lightglue)\n"
     ]
    },
    {
     "name": "stderr",
     "output_type": "stream",
     "text": [
      " 88%|████████▊ | 496/564 [00:16<00:03, 20.86it/s]"
     ]
    },
    {
     "name": "stdout",
     "output_type": "stream",
     "text": [
      "aliked> stairs_split_2_1710453786375.png-stairs_split_2_1710453740954.png: 661 matches @ 20th pair(aliked+lightglue)\n",
      "aliked> stairs_split_2_1710453786375.png-stairs_split_2_1710453739354.png: 110 matches @ 21th pair(aliked+lightglue)\n"
     ]
    },
    {
     "name": "stderr",
     "output_type": "stream",
     "text": [
      " 89%|████████▉ | 501/564 [00:16<00:03, 17.78it/s]"
     ]
    },
    {
     "name": "stdout",
     "output_type": "stream",
     "text": [
      "aliked> stairs_split_2_1710453786375.png-stairs_split_2_1710453759963.png: 430 matches @ 22th pair(aliked+lightglue)\n",
      "aliked> stairs_split_2_1710453786375.png-stairs_split_2_1710453805788.png: 174 matches @ 23th pair(aliked+lightglue)\n"
     ]
    },
    {
     "name": "stderr",
     "output_type": "stream",
     "text": [
      " 90%|████████▉ | 506/564 [00:16<00:03, 18.30it/s]"
     ]
    },
    {
     "name": "stdout",
     "output_type": "stream",
     "text": [
      "aliked> stairs_split_2_1710453783374.png-stairs_split_2_1710453739354.png: 116 matches @ 24th pair(aliked+lightglue)\n"
     ]
    },
    {
     "name": "stderr",
     "output_type": "stream",
     "text": [
      " 91%|█████████ | 511/564 [00:17<00:02, 19.18it/s]"
     ]
    },
    {
     "name": "stdout",
     "output_type": "stream",
     "text": [
      "aliked> stairs_split_2_1710453783374.png-stairs_split_2_1710453805788.png: 257 matches @ 25th pair(aliked+lightglue)\n",
      "aliked> stairs_split_2_1710453790978.png-stairs_split_2_1710453745156.png: 263 matches @ 26th pair(aliked+lightglue)\n"
     ]
    },
    {
     "name": "stderr",
     "output_type": "stream",
     "text": [
      " 95%|█████████▍| 533/564 [00:17<00:01, 23.63it/s]"
     ]
    },
    {
     "name": "stdout",
     "output_type": "stream",
     "text": [
      "aliked> stairs_split_2_1710453740954.png-stairs_split_2_1710453739354.png: 740 matches @ 27th pair(aliked+lightglue)\n"
     ]
    },
    {
     "name": "stderr",
     "output_type": "stream",
     "text": [
      " 96%|█████████▌| 539/564 [00:18<00:01, 20.83it/s]"
     ]
    },
    {
     "name": "stdout",
     "output_type": "stream",
     "text": [
      "aliked> stairs_split_2_1710453740954.png-stairs_split_2_1710453759963.png: 372 matches @ 28th pair(aliked+lightglue)\n"
     ]
    },
    {
     "name": "stderr",
     "output_type": "stream",
     "text": [
      "100%|██████████| 564/564 [00:19<00:00, 29.05it/s]\n"
     ]
    },
    {
     "name": "stdout",
     "output_type": "stream",
     "text": [
      "aliked> stairs_split_2_1710453759963.png-stairs_split_2_1710453805788.png: 171 matches @ 29th pair(aliked+lightglue)\n",
      "Features matched in  24.1410 sec (aliked+LightGlue)\n",
      "superpoint > rot_k=0, kpts.shape=torch.Size([135, 2]), descs.shape=torch.Size([135, 256])\n",
      "superpoint > rot_k=0, kpts.shape=torch.Size([97, 2]), descs.shape=torch.Size([97, 256])\n",
      "superpoint > rot_k=0, kpts.shape=torch.Size([55, 2]), descs.shape=torch.Size([55, 256])\n",
      "superpoint > rot_k=0, kpts.shape=torch.Size([65, 2]), descs.shape=torch.Size([65, 256])\n",
      "superpoint > rot_k=0, kpts.shape=torch.Size([208, 2]), descs.shape=torch.Size([208, 256])\n",
      "superpoint > rot_k=0, kpts.shape=torch.Size([136, 2]), descs.shape=torch.Size([136, 256])\n",
      "superpoint > rot_k=0, kpts.shape=torch.Size([247, 2]), descs.shape=torch.Size([247, 256])\n",
      "superpoint > rot_k=0, kpts.shape=torch.Size([164, 2]), descs.shape=torch.Size([164, 256])\n",
      "superpoint > rot_k=0, kpts.shape=torch.Size([49, 2]), descs.shape=torch.Size([49, 256])\n",
      "superpoint > rot_k=0, kpts.shape=torch.Size([117, 2]), descs.shape=torch.Size([117, 256])\n",
      "superpoint > rot_k=0, kpts.shape=torch.Size([102, 2]), descs.shape=torch.Size([102, 256])\n",
      "superpoint > rot_k=0, kpts.shape=torch.Size([68, 2]), descs.shape=torch.Size([68, 256])\n",
      "superpoint > rot_k=0, kpts.shape=torch.Size([218, 2]), descs.shape=torch.Size([218, 256])\n",
      "superpoint > rot_k=0, kpts.shape=torch.Size([69, 2]), descs.shape=torch.Size([69, 256])\n",
      "superpoint > rot_k=0, kpts.shape=torch.Size([163, 2]), descs.shape=torch.Size([163, 256])\n",
      "superpoint > rot_k=0, kpts.shape=torch.Size([176, 2]), descs.shape=torch.Size([176, 256])\n",
      "superpoint > rot_k=0, kpts.shape=torch.Size([84, 2]), descs.shape=torch.Size([84, 256])\n",
      "superpoint > rot_k=0, kpts.shape=torch.Size([122, 2]), descs.shape=torch.Size([122, 256])\n",
      "superpoint > rot_k=0, kpts.shape=torch.Size([87, 2]), descs.shape=torch.Size([87, 256])\n",
      "superpoint > rot_k=0, kpts.shape=torch.Size([157, 2]), descs.shape=torch.Size([157, 256])\n",
      "superpoint > rot_k=0, kpts.shape=torch.Size([177, 2]), descs.shape=torch.Size([177, 256])\n",
      "superpoint > rot_k=0, kpts.shape=torch.Size([193, 2]), descs.shape=torch.Size([193, 256])\n",
      "superpoint > rot_k=0, kpts.shape=torch.Size([296, 2]), descs.shape=torch.Size([296, 256])\n",
      "superpoint > rot_k=0, kpts.shape=torch.Size([122, 2]), descs.shape=torch.Size([122, 256])\n",
      "superpoint > rot_k=0, kpts.shape=torch.Size([70, 2]), descs.shape=torch.Size([70, 256])\n",
      "superpoint > rot_k=0, kpts.shape=torch.Size([129, 2]), descs.shape=torch.Size([129, 256])\n",
      "superpoint > rot_k=0, kpts.shape=torch.Size([94, 2]), descs.shape=torch.Size([94, 256])\n",
      "superpoint > rot_k=0, kpts.shape=torch.Size([4, 2]), descs.shape=torch.Size([4, 256])\n",
      "superpoint > rot_k=0, kpts.shape=torch.Size([158, 2]), descs.shape=torch.Size([158, 256])\n",
      "superpoint > rot_k=0, kpts.shape=torch.Size([218, 2]), descs.shape=torch.Size([218, 256])\n",
      "superpoint > rot_k=0, kpts.shape=torch.Size([140, 2]), descs.shape=torch.Size([140, 256])\n",
      "superpoint > rot_k=0, kpts.shape=torch.Size([152, 2]), descs.shape=torch.Size([152, 256])\n",
      "superpoint > rot_k=0, kpts.shape=torch.Size([179, 2]), descs.shape=torch.Size([179, 256])\n",
      "superpoint > rot_k=0, kpts.shape=torch.Size([120, 2]), descs.shape=torch.Size([120, 256])\n",
      "superpoint > rot_k=0, kpts.shape=torch.Size([130, 2]), descs.shape=torch.Size([130, 256])\n",
      "superpoint > rot_k=0, kpts.shape=torch.Size([170, 2]), descs.shape=torch.Size([170, 256])\n",
      "superpoint > rot_k=0, kpts.shape=torch.Size([300, 2]), descs.shape=torch.Size([300, 256])\n",
      "superpoint > rot_k=0, kpts.shape=torch.Size([163, 2]), descs.shape=torch.Size([163, 256])\n",
      "superpoint > rot_k=0, kpts.shape=torch.Size([181, 2]), descs.shape=torch.Size([181, 256])\n",
      "superpoint > rot_k=0, kpts.shape=torch.Size([143, 2]), descs.shape=torch.Size([143, 256])\n",
      "superpoint > rot_k=0, kpts.shape=torch.Size([318, 2]), descs.shape=torch.Size([318, 256])\n",
      "superpoint > rot_k=0, kpts.shape=torch.Size([103, 2]), descs.shape=torch.Size([103, 256])\n",
      "superpoint > rot_k=0, kpts.shape=torch.Size([206, 2]), descs.shape=torch.Size([206, 256])\n",
      "superpoint > rot_k=0, kpts.shape=torch.Size([263, 2]), descs.shape=torch.Size([263, 256])\n",
      "superpoint > rot_k=0, kpts.shape=torch.Size([191, 2]), descs.shape=torch.Size([191, 256])\n",
      "superpoint > rot_k=0, kpts.shape=torch.Size([255, 2]), descs.shape=torch.Size([255, 256])\n",
      "superpoint > rot_k=0, kpts.shape=torch.Size([300, 2]), descs.shape=torch.Size([300, 256])\n",
      "superpoint > rot_k=0, kpts.shape=torch.Size([137, 2]), descs.shape=torch.Size([137, 256])\n",
      "superpoint > rot_k=0, kpts.shape=torch.Size([119, 2]), descs.shape=torch.Size([119, 256])\n",
      "superpoint > rot_k=0, kpts.shape=torch.Size([116, 2]), descs.shape=torch.Size([116, 256])\n",
      "superpoint > rot_k=0, kpts.shape=torch.Size([204, 2]), descs.shape=torch.Size([204, 256])\n",
      "Loaded LightGlue model\n"
     ]
    },
    {
     "name": "stderr",
     "output_type": "stream",
     "text": [
      "  5%|▌         | 29/564 [00:00<00:13, 40.35it/s]"
     ]
    },
    {
     "name": "stdout",
     "output_type": "stream",
     "text": [
      "superpoint> stairs_split_1_1710453947066.png-stairs_split_1_1710453990286.png: 51 matches @ 1th pair(superpoint+lightglue)\n"
     ]
    },
    {
     "name": "stderr",
     "output_type": "stream",
     "text": [
      " 15%|█▍        | 83/564 [00:02<00:12, 38.43it/s]"
     ]
    },
    {
     "name": "stdout",
     "output_type": "stream",
     "text": [
      "superpoint> stairs_split_1_1710453901046.png-stairs_split_1_1710453704934.png: 54 matches @ 2th pair(superpoint+lightglue)\n"
     ]
    },
    {
     "name": "stderr",
     "output_type": "stream",
     "text": [
      " 29%|██▉       | 165/564 [00:04<00:09, 40.66it/s]"
     ]
    },
    {
     "name": "stdout",
     "output_type": "stream",
     "text": [
      "superpoint> stairs_split_1_1710453704934.png-stairs_split_2_1710453790978.png: 60 matches @ 3th pair(superpoint+lightglue)\n",
      "superpoint> stairs_split_1_1710453704934.png-stairs_split_2_1710453745156.png: 69 matches @ 4th pair(superpoint+lightglue)\n"
     ]
    },
    {
     "name": "stderr",
     "output_type": "stream",
     "text": [
      " 53%|█████▎    | 299/564 [00:07<00:06, 39.54it/s]"
     ]
    },
    {
     "name": "stdout",
     "output_type": "stream",
     "text": [
      "superpoint> stairs_split_1_1710453955270.png-stairs_split_2_1710453871430.png: 53 matches @ 5th pair(superpoint+lightglue)\n"
     ]
    },
    {
     "name": "stderr",
     "output_type": "stream",
     "text": [
      " 81%|████████▏ | 459/564 [00:11<00:02, 41.07it/s]"
     ]
    },
    {
     "name": "stdout",
     "output_type": "stream",
     "text": [
      "superpoint> stairs_split_2_1710453871430.png-stairs_split_2_1710453736752.png: 51 matches @ 6th pair(superpoint+lightglue)\n"
     ]
    },
    {
     "name": "stderr",
     "output_type": "stream",
     "text": [
      " 88%|████████▊ | 497/564 [00:12<00:01, 39.87it/s]"
     ]
    },
    {
     "name": "stdout",
     "output_type": "stream",
     "text": [
      "superpoint> stairs_split_2_1710453786375.png-stairs_split_2_1710453740954.png: 64 matches @ 7th pair(superpoint+lightglue)\n"
     ]
    },
    {
     "name": "stderr",
     "output_type": "stream",
     "text": [
      " 92%|█████████▏| 517/564 [00:12<00:01, 39.89it/s]"
     ]
    },
    {
     "name": "stdout",
     "output_type": "stream",
     "text": [
      "superpoint> stairs_split_2_1710453790978.png-stairs_split_2_1710453745156.png: 75 matches @ 8th pair(superpoint+lightglue)\n"
     ]
    },
    {
     "name": "stderr",
     "output_type": "stream",
     "text": [
      " 96%|█████████▌| 540/564 [00:13<00:00, 39.70it/s]"
     ]
    },
    {
     "name": "stdout",
     "output_type": "stream",
     "text": [
      "superpoint> stairs_split_2_1710453740954.png-stairs_split_2_1710453759963.png: 58 matches @ 9th pair(superpoint+lightglue)\n"
     ]
    },
    {
     "name": "stderr",
     "output_type": "stream",
     "text": [
      "100%|██████████| 564/564 [00:14<00:00, 39.98it/s]"
     ]
    },
    {
     "name": "stdout",
     "output_type": "stream",
     "text": [
      "superpoint> stairs_split_2_1710453725143.png-stairs_split_2_1710453765165.png: 50 matches @ 10th pair(superpoint+lightglue)\n"
     ]
    },
    {
     "name": "stderr",
     "output_type": "stream",
     "text": [
      "\n"
     ]
    },
    {
     "name": "stdout",
     "output_type": "stream",
     "text": [
      "Features matched in  18.6055 sec (superpoint+LightGlue)\n",
      "disk > rot_k=0, kpts.shape=torch.Size([2048, 2]), descs.shape=torch.Size([2048, 128])\n",
      "disk > rot_k=0, kpts.shape=torch.Size([2048, 2]), descs.shape=torch.Size([2048, 128])\n",
      "disk > rot_k=0, kpts.shape=torch.Size([2048, 2]), descs.shape=torch.Size([2048, 128])\n",
      "disk > rot_k=0, kpts.shape=torch.Size([2048, 2]), descs.shape=torch.Size([2048, 128])\n",
      "disk > rot_k=0, kpts.shape=torch.Size([2048, 2]), descs.shape=torch.Size([2048, 128])\n",
      "disk > rot_k=0, kpts.shape=torch.Size([2048, 2]), descs.shape=torch.Size([2048, 128])\n",
      "disk > rot_k=0, kpts.shape=torch.Size([2048, 2]), descs.shape=torch.Size([2048, 128])\n",
      "disk > rot_k=0, kpts.shape=torch.Size([2048, 2]), descs.shape=torch.Size([2048, 128])\n",
      "disk > rot_k=0, kpts.shape=torch.Size([2048, 2]), descs.shape=torch.Size([2048, 128])\n",
      "disk > rot_k=0, kpts.shape=torch.Size([2048, 2]), descs.shape=torch.Size([2048, 128])\n",
      "disk > rot_k=0, kpts.shape=torch.Size([2048, 2]), descs.shape=torch.Size([2048, 128])\n",
      "disk > rot_k=0, kpts.shape=torch.Size([2048, 2]), descs.shape=torch.Size([2048, 128])\n",
      "disk > rot_k=0, kpts.shape=torch.Size([2048, 2]), descs.shape=torch.Size([2048, 128])\n",
      "disk > rot_k=0, kpts.shape=torch.Size([2048, 2]), descs.shape=torch.Size([2048, 128])\n",
      "disk > rot_k=0, kpts.shape=torch.Size([2048, 2]), descs.shape=torch.Size([2048, 128])\n",
      "disk > rot_k=0, kpts.shape=torch.Size([2048, 2]), descs.shape=torch.Size([2048, 128])\n",
      "disk > rot_k=0, kpts.shape=torch.Size([2048, 2]), descs.shape=torch.Size([2048, 128])\n",
      "disk > rot_k=0, kpts.shape=torch.Size([2048, 2]), descs.shape=torch.Size([2048, 128])\n",
      "disk > rot_k=0, kpts.shape=torch.Size([2048, 2]), descs.shape=torch.Size([2048, 128])\n",
      "disk > rot_k=0, kpts.shape=torch.Size([2048, 2]), descs.shape=torch.Size([2048, 128])\n",
      "disk > rot_k=0, kpts.shape=torch.Size([2048, 2]), descs.shape=torch.Size([2048, 128])\n",
      "disk > rot_k=0, kpts.shape=torch.Size([2048, 2]), descs.shape=torch.Size([2048, 128])\n",
      "disk > rot_k=0, kpts.shape=torch.Size([2048, 2]), descs.shape=torch.Size([2048, 128])\n",
      "disk > rot_k=0, kpts.shape=torch.Size([2048, 2]), descs.shape=torch.Size([2048, 128])\n",
      "disk > rot_k=0, kpts.shape=torch.Size([2048, 2]), descs.shape=torch.Size([2048, 128])\n",
      "disk > rot_k=0, kpts.shape=torch.Size([2048, 2]), descs.shape=torch.Size([2048, 128])\n",
      "disk > rot_k=0, kpts.shape=torch.Size([2048, 2]), descs.shape=torch.Size([2048, 128])\n",
      "disk > rot_k=0, kpts.shape=torch.Size([2048, 2]), descs.shape=torch.Size([2048, 128])\n",
      "disk > rot_k=0, kpts.shape=torch.Size([2048, 2]), descs.shape=torch.Size([2048, 128])\n",
      "disk > rot_k=0, kpts.shape=torch.Size([2048, 2]), descs.shape=torch.Size([2048, 128])\n",
      "disk > rot_k=0, kpts.shape=torch.Size([2048, 2]), descs.shape=torch.Size([2048, 128])\n",
      "disk > rot_k=0, kpts.shape=torch.Size([2048, 2]), descs.shape=torch.Size([2048, 128])\n",
      "disk > rot_k=0, kpts.shape=torch.Size([2048, 2]), descs.shape=torch.Size([2048, 128])\n",
      "disk > rot_k=0, kpts.shape=torch.Size([2048, 2]), descs.shape=torch.Size([2048, 128])\n",
      "disk > rot_k=0, kpts.shape=torch.Size([2048, 2]), descs.shape=torch.Size([2048, 128])\n",
      "disk > rot_k=0, kpts.shape=torch.Size([2048, 2]), descs.shape=torch.Size([2048, 128])\n",
      "disk > rot_k=0, kpts.shape=torch.Size([2048, 2]), descs.shape=torch.Size([2048, 128])\n",
      "disk > rot_k=0, kpts.shape=torch.Size([2048, 2]), descs.shape=torch.Size([2048, 128])\n",
      "disk > rot_k=0, kpts.shape=torch.Size([2048, 2]), descs.shape=torch.Size([2048, 128])\n",
      "disk > rot_k=0, kpts.shape=torch.Size([2048, 2]), descs.shape=torch.Size([2048, 128])\n",
      "disk > rot_k=0, kpts.shape=torch.Size([2048, 2]), descs.shape=torch.Size([2048, 128])\n",
      "disk > rot_k=0, kpts.shape=torch.Size([2048, 2]), descs.shape=torch.Size([2048, 128])\n",
      "disk > rot_k=0, kpts.shape=torch.Size([2048, 2]), descs.shape=torch.Size([2048, 128])\n",
      "disk > rot_k=0, kpts.shape=torch.Size([2048, 2]), descs.shape=torch.Size([2048, 128])\n",
      "disk > rot_k=0, kpts.shape=torch.Size([2048, 2]), descs.shape=torch.Size([2048, 128])\n",
      "disk > rot_k=0, kpts.shape=torch.Size([2048, 2]), descs.shape=torch.Size([2048, 128])\n",
      "disk > rot_k=0, kpts.shape=torch.Size([2048, 2]), descs.shape=torch.Size([2048, 128])\n",
      "disk > rot_k=0, kpts.shape=torch.Size([2048, 2]), descs.shape=torch.Size([2048, 128])\n",
      "disk > rot_k=0, kpts.shape=torch.Size([2048, 2]), descs.shape=torch.Size([2048, 128])\n",
      "disk > rot_k=0, kpts.shape=torch.Size([2048, 2]), descs.shape=torch.Size([2048, 128])\n",
      "disk > rot_k=0, kpts.shape=torch.Size([2048, 2]), descs.shape=torch.Size([2048, 128])\n",
      "Loaded LightGlue model\n"
     ]
    },
    {
     "name": "stderr",
     "output_type": "stream",
     "text": [
      "  2%|▏         | 12/564 [00:00<00:21, 25.85it/s]"
     ]
    },
    {
     "name": "stdout",
     "output_type": "stream",
     "text": [
      "disk> stairs_split_1_1710453963274.png-stairs_split_1_1710453643106.png: 401 matches @ 1th pair(disk+lightglue)\n"
     ]
    },
    {
     "name": "stderr",
     "output_type": "stream",
     "text": [
      "  5%|▍         | 27/564 [00:01<00:20, 25.71it/s]"
     ]
    },
    {
     "name": "stdout",
     "output_type": "stream",
     "text": [
      "disk> stairs_split_1_1710453947066.png-stairs_split_1_1710453990286.png: 160 matches @ 2th pair(disk+lightglue)\n"
     ]
    },
    {
     "name": "stderr",
     "output_type": "stream",
     "text": [
      "  7%|▋         | 39/564 [00:01<00:20, 25.49it/s]"
     ]
    },
    {
     "name": "stdout",
     "output_type": "stream",
     "text": [
      "disk> stairs_split_1_1710453947066.png-stairs_split_1_1710453651110.png: 207 matches @ 3th pair(disk+lightglue)\n"
     ]
    },
    {
     "name": "stderr",
     "output_type": "stream",
     "text": [
      "  9%|▉         | 51/564 [00:01<00:20, 25.43it/s]"
     ]
    },
    {
     "name": "stdout",
     "output_type": "stream",
     "text": [
      "disk> stairs_split_1_1710453985484.png-stairs_split_1_1710453606287.png: 317 matches @ 4th pair(disk+lightglue)\n"
     ]
    },
    {
     "name": "stderr",
     "output_type": "stream",
     "text": [
      " 12%|█▏        | 66/564 [00:02<00:19, 25.42it/s]"
     ]
    },
    {
     "name": "stdout",
     "output_type": "stream",
     "text": [
      "disk> stairs_split_1_1710453930259.png-stairs_split_1_1710453675921.png: 323 matches @ 5th pair(disk+lightglue)\n",
      "disk> stairs_split_1_1710453930259.png-stairs_split_1_1710453668718.png: 155 matches @ 6th pair(disk+lightglue)\n"
     ]
    },
    {
     "name": "stderr",
     "output_type": "stream",
     "text": [
      " 13%|█▎        | 72/564 [00:02<00:19, 25.23it/s]"
     ]
    },
    {
     "name": "stdout",
     "output_type": "stream",
     "text": [
      "disk> stairs_split_1_1710453930259.png-stairs_split_1_1710453651110.png: 252 matches @ 7th pair(disk+lightglue)\n"
     ]
    },
    {
     "name": "stderr",
     "output_type": "stream",
     "text": [
      " 14%|█▍        | 81/564 [00:03<00:18, 25.61it/s]"
     ]
    },
    {
     "name": "stdout",
     "output_type": "stream",
     "text": [
      "disk> stairs_split_1_1710453901046.png-stairs_split_1_1710453704934.png: 397 matches @ 8th pair(disk+lightglue)\n"
     ]
    },
    {
     "name": "stderr",
     "output_type": "stream",
     "text": [
      " 19%|█▊        | 105/564 [00:04<00:18, 25.20it/s]"
     ]
    },
    {
     "name": "stdout",
     "output_type": "stream",
     "text": [
      "disk> stairs_split_1_1710453901046.png-stairs_split_2_1710453745156.png: 101 matches @ 9th pair(disk+lightglue)\n"
     ]
    },
    {
     "name": "stderr",
     "output_type": "stream",
     "text": [
      " 24%|██▍       | 135/564 [00:05<00:17, 25.00it/s]"
     ]
    },
    {
     "name": "stdout",
     "output_type": "stream",
     "text": [
      "disk> stairs_split_1_1710453689727.png-stairs_split_2_1710453871430.png: 129 matches @ 10th pair(disk+lightglue)\n"
     ]
    },
    {
     "name": "stderr",
     "output_type": "stream",
     "text": [
      " 27%|██▋       | 150/564 [00:05<00:16, 25.34it/s]"
     ]
    },
    {
     "name": "stdout",
     "output_type": "stream",
     "text": [
      "disk> stairs_split_1_1710453704934.png-stairs_split_1_1710453675921.png: 137 matches @ 11th pair(disk+lightglue)\n"
     ]
    },
    {
     "name": "stderr",
     "output_type": "stream",
     "text": [
      " 29%|██▉       | 165/564 [00:06<00:15, 25.16it/s]"
     ]
    },
    {
     "name": "stdout",
     "output_type": "stream",
     "text": [
      "disk> stairs_split_1_1710453704934.png-stairs_split_2_1710453790978.png: 216 matches @ 12th pair(disk+lightglue)\n",
      "disk> stairs_split_1_1710453704934.png-stairs_split_2_1710453745156.png: 153 matches @ 13th pair(disk+lightglue)\n"
     ]
    },
    {
     "name": "stderr",
     "output_type": "stream",
     "text": [
      " 32%|███▏      | 183/564 [00:07<00:15, 25.15it/s]"
     ]
    },
    {
     "name": "stdout",
     "output_type": "stream",
     "text": [
      "disk> stairs_split_1_1710453675921.png-stairs_split_2_1710453871430.png: 110 matches @ 14th pair(disk+lightglue)\n"
     ]
    },
    {
     "name": "stderr",
     "output_type": "stream",
     "text": [
      " 34%|███▍      | 192/564 [00:07<00:14, 24.91it/s]"
     ]
    },
    {
     "name": "stdout",
     "output_type": "stream",
     "text": [
      "disk> stairs_split_1_1710453675921.png-stairs_split_2_1710453739354.png: 137 matches @ 15th pair(disk+lightglue)\n"
     ]
    },
    {
     "name": "stderr",
     "output_type": "stream",
     "text": [
      " 35%|███▌      | 198/564 [00:07<00:14, 24.99it/s]"
     ]
    },
    {
     "name": "stdout",
     "output_type": "stream",
     "text": [
      "disk> stairs_split_1_1710453606287.png-stairs_split_1_1710453990286.png: 134 matches @ 16th pair(disk+lightglue)\n"
     ]
    },
    {
     "name": "stderr",
     "output_type": "stream",
     "text": [
      " 37%|███▋      | 207/564 [00:08<00:14, 25.31it/s]"
     ]
    },
    {
     "name": "stdout",
     "output_type": "stream",
     "text": [
      "disk> stairs_split_1_1710453990286.png-stairs_split_1_1710453601885.png: 394 matches @ 17th pair(disk+lightglue)\n"
     ]
    },
    {
     "name": "stderr",
     "output_type": "stream",
     "text": [
      " 46%|████▋     | 261/564 [00:10<00:11, 25.28it/s]"
     ]
    },
    {
     "name": "stdout",
     "output_type": "stream",
     "text": [
      "disk> stairs_split_1_1710453668718.png-stairs_split_2_1710453786375.png: 302 matches @ 18th pair(disk+lightglue)\n"
     ]
    },
    {
     "name": "stderr",
     "output_type": "stream",
     "text": [
      " 48%|████▊     | 270/564 [00:10<00:11, 25.03it/s]"
     ]
    },
    {
     "name": "stdout",
     "output_type": "stream",
     "text": [
      "disk> stairs_split_1_1710453668718.png-stairs_split_2_1710453805788.png: 140 matches @ 19th pair(disk+lightglue)\n",
      "disk> stairs_split_1_1710453601885.png-stairs_split_1_1710453576271.png: 259 matches @ 20th pair(disk+lightglue)\n",
      "disk> stairs_split_1_1710453601885.png-stairs_split_1_1710453651110.png: 118 matches @ 21th pair(disk+lightglue)\n"
     ]
    },
    {
     "name": "stderr",
     "output_type": "stream",
     "text": [
      " 49%|████▉     | 279/564 [00:11<00:11, 24.89it/s]"
     ]
    },
    {
     "name": "stdout",
     "output_type": "stream",
     "text": [
      "disk> stairs_split_1_1710453601885.png-stairs_split_2_1710453786375.png: 139 matches @ 22th pair(disk+lightglue)\n",
      "disk> stairs_split_1_1710453601885.png-stairs_split_2_1710453739354.png: 141 matches @ 23th pair(disk+lightglue)\n"
     ]
    },
    {
     "name": "stderr",
     "output_type": "stream",
     "text": [
      " 51%|█████     | 288/564 [00:11<00:10, 25.28it/s]"
     ]
    },
    {
     "name": "stdout",
     "output_type": "stream",
     "text": [
      "disk> stairs_split_1_1710453601885.png-stairs_split_2_1710453805788.png: 116 matches @ 24th pair(disk+lightglue)\n"
     ]
    },
    {
     "name": "stderr",
     "output_type": "stream",
     "text": [
      " 55%|█████▌    | 312/564 [00:12<00:10, 24.91it/s]"
     ]
    },
    {
     "name": "stdout",
     "output_type": "stream",
     "text": [
      "disk> stairs_split_1_1710453616892.png-stairs_split_1_1710453620694.png: 178 matches @ 25th pair(disk+lightglue)\n"
     ]
    },
    {
     "name": "stderr",
     "output_type": "stream",
     "text": [
      " 63%|██████▎   | 354/564 [00:14<00:08, 24.84it/s]"
     ]
    },
    {
     "name": "stdout",
     "output_type": "stream",
     "text": [
      "disk> stairs_split_1_1710453576271.png-stairs_split_2_1710453871430.png: 177 matches @ 26th pair(disk+lightglue)\n"
     ]
    },
    {
     "name": "stderr",
     "output_type": "stream",
     "text": [
      " 69%|██████▊   | 387/564 [00:15<00:07, 24.73it/s]"
     ]
    },
    {
     "name": "stdout",
     "output_type": "stream",
     "text": [
      "disk> stairs_split_1_1710453651110.png-stairs_split_2_1710453786375.png: 329 matches @ 27th pair(disk+lightglue)\n",
      "disk> stairs_split_1_1710453651110.png-stairs_split_2_1710453740954.png: 179 matches @ 28th pair(disk+lightglue)\n"
     ]
    },
    {
     "name": "stderr",
     "output_type": "stream",
     "text": [
      " 70%|███████   | 396/564 [00:15<00:06, 25.23it/s]"
     ]
    },
    {
     "name": "stdout",
     "output_type": "stream",
     "text": [
      "disk> stairs_split_1_1710453651110.png-stairs_split_2_1710453759963.png: 142 matches @ 29th pair(disk+lightglue)\n",
      "disk> stairs_split_1_1710453651110.png-stairs_split_2_1710453805788.png: 217 matches @ 30th pair(disk+lightglue)\n"
     ]
    },
    {
     "name": "stderr",
     "output_type": "stream",
     "text": [
      " 79%|███████▉  | 447/564 [00:17<00:04, 24.79it/s]"
     ]
    },
    {
     "name": "stdout",
     "output_type": "stream",
     "text": [
      "disk> stairs_split_2_1710453871430.png-stairs_split_2_1710453783374.png: 303 matches @ 31th pair(disk+lightglue)\n",
      "disk> stairs_split_2_1710453871430.png-stairs_split_2_1710453720741.png: 118 matches @ 32th pair(disk+lightglue)\n",
      "disk> stairs_split_2_1710453871430.png-stairs_split_2_1710453740954.png: 113 matches @ 33th pair(disk+lightglue)\n",
      "disk> stairs_split_2_1710453871430.png-stairs_split_2_1710453739354.png: 561 matches @ 34th pair(disk+lightglue)\n"
     ]
    },
    {
     "name": "stderr",
     "output_type": "stream",
     "text": [
      " 81%|████████  | 456/564 [00:18<00:04, 24.85it/s]"
     ]
    },
    {
     "name": "stdout",
     "output_type": "stream",
     "text": [
      "disk> stairs_split_2_1710453871430.png-stairs_split_2_1710453736752.png: 189 matches @ 35th pair(disk+lightglue)\n",
      "disk> stairs_split_2_1710453871430.png-stairs_split_2_1710453805788.png: 217 matches @ 36th pair(disk+lightglue)\n"
     ]
    },
    {
     "name": "stderr",
     "output_type": "stream",
     "text": [
      " 83%|████████▎ | 468/564 [00:18<00:03, 25.24it/s]"
     ]
    },
    {
     "name": "stdout",
     "output_type": "stream",
     "text": [
      "disk> stairs_split_2_1710453801783.png-stairs_split_2_1710453756762.png: 114 matches @ 37th pair(disk+lightglue)\n",
      "disk> stairs_split_2_1710453801783.png-stairs_split_2_1710453736752.png: 164 matches @ 38th pair(disk+lightglue)\n"
     ]
    },
    {
     "name": "stderr",
     "output_type": "stream",
     "text": [
      " 88%|████████▊ | 495/564 [00:19<00:02, 25.34it/s]"
     ]
    },
    {
     "name": "stdout",
     "output_type": "stream",
     "text": [
      "disk> stairs_split_2_1710453786375.png-stairs_split_2_1710453783374.png: 429 matches @ 39th pair(disk+lightglue)\n",
      "disk> stairs_split_2_1710453786375.png-stairs_split_2_1710453720741.png: 541 matches @ 40th pair(disk+lightglue)\n",
      "disk> stairs_split_2_1710453786375.png-stairs_split_2_1710453740954.png: 512 matches @ 41th pair(disk+lightglue)\n",
      "disk> stairs_split_2_1710453786375.png-stairs_split_2_1710453739354.png: 104 matches @ 42th pair(disk+lightglue)\n"
     ]
    },
    {
     "name": "stderr",
     "output_type": "stream",
     "text": [
      " 89%|████████▉ | 501/564 [00:19<00:02, 25.24it/s]"
     ]
    },
    {
     "name": "stdout",
     "output_type": "stream",
     "text": [
      "disk> stairs_split_2_1710453786375.png-stairs_split_2_1710453759963.png: 286 matches @ 43th pair(disk+lightglue)\n",
      "disk> stairs_split_2_1710453786375.png-stairs_split_2_1710453805788.png: 274 matches @ 44th pair(disk+lightglue)\n",
      "disk> stairs_split_2_1710453783374.png-stairs_split_2_1710453739354.png: 183 matches @ 45th pair(disk+lightglue)\n"
     ]
    },
    {
     "name": "stderr",
     "output_type": "stream",
     "text": [
      " 90%|█████████ | 510/564 [00:20<00:02, 25.05it/s]"
     ]
    },
    {
     "name": "stdout",
     "output_type": "stream",
     "text": [
      "disk> stairs_split_2_1710453783374.png-stairs_split_2_1710453756762.png: 108 matches @ 46th pair(disk+lightglue)\n",
      "disk> stairs_split_2_1710453783374.png-stairs_split_2_1710453805788.png: 392 matches @ 47th pair(disk+lightglue)\n"
     ]
    },
    {
     "name": "stderr",
     "output_type": "stream",
     "text": [
      " 91%|█████████▏| 516/564 [00:20<00:01, 25.06it/s]"
     ]
    },
    {
     "name": "stdout",
     "output_type": "stream",
     "text": [
      "disk> stairs_split_2_1710453790978.png-stairs_split_2_1710453745156.png: 317 matches @ 48th pair(disk+lightglue)\n"
     ]
    },
    {
     "name": "stderr",
     "output_type": "stream",
     "text": [
      " 94%|█████████▍| 531/564 [00:21<00:01, 25.21it/s]"
     ]
    },
    {
     "name": "stdout",
     "output_type": "stream",
     "text": [
      "disk> stairs_split_2_1710453720741.png-stairs_split_2_1710453725143.png: 103 matches @ 49th pair(disk+lightglue)\n",
      "disk> stairs_split_2_1710453720741.png-stairs_split_2_1710453805788.png: 138 matches @ 50th pair(disk+lightglue)\n"
     ]
    },
    {
     "name": "stderr",
     "output_type": "stream",
     "text": [
      " 95%|█████████▌| 537/564 [00:21<00:01, 25.05it/s]"
     ]
    },
    {
     "name": "stdout",
     "output_type": "stream",
     "text": [
      "disk> stairs_split_2_1710453740954.png-stairs_split_2_1710453739354.png: 430 matches @ 51th pair(disk+lightglue)\n",
      "disk> stairs_split_2_1710453740954.png-stairs_split_2_1710453759963.png: 426 matches @ 52th pair(disk+lightglue)\n",
      "disk> stairs_split_2_1710453740954.png-stairs_split_2_1710453805788.png: 103 matches @ 53th pair(disk+lightglue)\n"
     ]
    },
    {
     "name": "stderr",
     "output_type": "stream",
     "text": [
      " 97%|█████████▋| 549/564 [00:21<00:00, 25.24it/s]"
     ]
    },
    {
     "name": "stdout",
     "output_type": "stream",
     "text": [
      "disk> stairs_split_2_1710453739354.png-stairs_split_2_1710453759963.png: 256 matches @ 54th pair(disk+lightglue)\n",
      "disk> stairs_split_2_1710453739354.png-stairs_split_2_1710453805788.png: 186 matches @ 55th pair(disk+lightglue)\n"
     ]
    },
    {
     "name": "stderr",
     "output_type": "stream",
     "text": [
      " 99%|█████████▉| 558/564 [00:22<00:00, 25.34it/s]"
     ]
    },
    {
     "name": "stdout",
     "output_type": "stream",
     "text": [
      "disk> stairs_split_2_1710453756762.png-stairs_split_2_1710453736752.png: 247 matches @ 56th pair(disk+lightglue)\n",
      "disk> stairs_split_2_1710453736752.png-stairs_split_2_1710453805788.png: 113 matches @ 57th pair(disk+lightglue)\n"
     ]
    },
    {
     "name": "stderr",
     "output_type": "stream",
     "text": [
      "100%|██████████| 564/564 [00:22<00:00, 25.18it/s]\n"
     ]
    },
    {
     "name": "stdout",
     "output_type": "stream",
     "text": [
      "disk> stairs_split_2_1710453759963.png-stairs_split_2_1710453805788.png: 221 matches @ 58th pair(disk+lightglue)\n",
      "Features matched in  35.9901 sec (disk+LightGlue)\n"
     ]
    },
    {
     "data": {
      "text/html": [
       "\n",
       "<style>\n",
       "    /* Turns off some styling */\n",
       "    progress {\n",
       "        /* gets rid of default border in Firefox and Opera. */\n",
       "        border: none;\n",
       "        /* Needs to be in here for Safari polyfill so background images work as expected. */\n",
       "        background-size: auto;\n",
       "    }\n",
       "    progress:not([value]), progress:not([value])::-webkit-progress-bar {\n",
       "        background: repeating-linear-gradient(45deg, #7e7e7e, #7e7e7e 10px, #5c5c5c 10px, #5c5c5c 20px);\n",
       "    }\n",
       "    .progress-bar-interrupted, .progress-bar-interrupted::-webkit-progress-bar {\n",
       "        background: #F44336;\n",
       "    }\n",
       "</style>\n"
      ],
      "text/plain": [
       "<IPython.core.display.HTML object>"
      ]
     },
     "metadata": {},
     "output_type": "display_data"
    },
    {
     "data": {
      "text/html": [
       "\n",
       "    <div>\n",
       "      <progress value='564' class='' max='564' style='width:300px; height:20px; vertical-align: middle;'></progress>\n",
       "      100.00% [564/564 00:01&lt;00:00]\n",
       "    </div>\n",
       "    "
      ],
      "text/plain": [
       "<IPython.core.display.HTML object>"
      ]
     },
     "metadata": {},
     "output_type": "display_data"
    },
    {
     "name": "stdout",
     "output_type": "stream",
     "text": [
      "filter_FundamentalMatrix: 532 matches --> 513 matches\n",
      "stairs_split_1_1710453963274.png-stairs_split_1_1710453643106.png: 532 --> 513 matches\n",
      "filter_FundamentalMatrix: 346 matches --> 267 matches\n",
      "stairs_split_1_1710453947066.png-stairs_split_1_1710453990286.png: 346 --> 267 matches\n",
      "filter_FundamentalMatrix: 207 matches --> 171 matches\n",
      "stairs_split_1_1710453947066.png-stairs_split_1_1710453651110.png: 207 --> 171 matches\n",
      "filter_FundamentalMatrix: 145 matches --> 129 matches\n",
      "stairs_split_1_1710453947066.png-stairs_split_1_1710453659313.png: 145 --> 129 matches\n",
      "filter_FundamentalMatrix: 317 matches --> 294 matches\n",
      "stairs_split_1_1710453985484.png-stairs_split_1_1710453606287.png: 317 --> 294 matches\n",
      "filter_FundamentalMatrix: 141 matches --> 133 matches\n",
      "stairs_split_1_1710453985484.png-stairs_split_1_1710453612890.png: 141 --> 133 matches\n",
      "filter_FundamentalMatrix: 323 matches --> 276 matches\n",
      "stairs_split_1_1710453930259.png-stairs_split_1_1710453675921.png: 323 --> 276 matches\n",
      "filter_FundamentalMatrix: 155 matches --> 105 matches\n",
      "stairs_split_1_1710453930259.png-stairs_split_1_1710453668718.png: 155 --> 105 matches\n",
      "filter_FundamentalMatrix: 417 matches --> 262 matches\n",
      "stairs_split_1_1710453930259.png-stairs_split_1_1710453651110.png: 417 --> 262 matches\n",
      "filter_FundamentalMatrix: 717 matches --> 628 matches\n",
      "stairs_split_1_1710453901046.png-stairs_split_1_1710453704934.png: 717 --> 628 matches\n",
      "filter_FundamentalMatrix: 115 matches --> 63 matches\n",
      "stairs_split_1_1710453901046.png-stairs_split_2_1710453862225.png: 115 --> 63 matches\n",
      "filter_FundamentalMatrix: 101 matches --> 52 matches\n",
      "stairs_split_1_1710453901046.png-stairs_split_2_1710453745156.png: 101 --> 52 matches\n",
      "filter_FundamentalMatrix: 242 matches --> 132 matches\n",
      "stairs_split_1_1710453689727.png-stairs_split_2_1710453871430.png: 242 --> 132 matches\n",
      "filter_FundamentalMatrix: 137 matches --> 124 matches\n",
      "stairs_split_1_1710453704934.png-stairs_split_1_1710453675921.png: 137 --> 124 matches\n",
      "filter_FundamentalMatrix: 440 matches --> 355 matches\n",
      "stairs_split_1_1710453704934.png-stairs_split_2_1710453790978.png: 440 --> 355 matches\n",
      "filter_FundamentalMatrix: 468 matches --> 384 matches\n",
      "stairs_split_1_1710453704934.png-stairs_split_2_1710453745156.png: 468 --> 384 matches\n",
      "filter_FundamentalMatrix: 110 matches --> 81 matches\n",
      "stairs_split_1_1710453675921.png-stairs_split_2_1710453871430.png: 110 --> 81 matches\n",
      "filter_FundamentalMatrix: 137 matches --> 108 matches\n",
      "stairs_split_1_1710453675921.png-stairs_split_2_1710453739354.png: 137 --> 108 matches\n",
      "filter_FundamentalMatrix: 278 matches --> 224 matches\n",
      "stairs_split_1_1710453606287.png-stairs_split_1_1710453990286.png: 278 --> 224 matches\n",
      "filter_FundamentalMatrix: 394 matches --> 302 matches\n",
      "stairs_split_1_1710453990286.png-stairs_split_1_1710453601885.png: 394 --> 302 matches\n",
      "filter_FundamentalMatrix: 141 matches --> 133 matches\n",
      "stairs_split_1_1710453668718.png-stairs_split_1_1710453651110.png: 141 --> 133 matches\n",
      "filter_FundamentalMatrix: 302 matches --> 238 matches\n",
      "stairs_split_1_1710453668718.png-stairs_split_2_1710453786375.png: 302 --> 238 matches\n",
      "filter_FundamentalMatrix: 140 matches --> 107 matches\n",
      "stairs_split_1_1710453668718.png-stairs_split_2_1710453805788.png: 140 --> 107 matches\n",
      "filter_FundamentalMatrix: 422 matches --> 361 matches\n",
      "stairs_split_1_1710453601885.png-stairs_split_1_1710453576271.png: 422 --> 361 matches\n",
      "filter_FundamentalMatrix: 118 matches --> 65 matches\n",
      "stairs_split_1_1710453601885.png-stairs_split_1_1710453651110.png: 118 --> 65 matches\n",
      "filter_FundamentalMatrix: 139 matches --> 119 matches\n",
      "stairs_split_1_1710453601885.png-stairs_split_2_1710453786375.png: 139 --> 119 matches\n",
      "filter_FundamentalMatrix: 141 matches --> 109 matches\n",
      "stairs_split_1_1710453601885.png-stairs_split_2_1710453739354.png: 141 --> 109 matches\n",
      "filter_FundamentalMatrix: 116 matches --> 90 matches\n",
      "stairs_split_1_1710453601885.png-stairs_split_2_1710453805788.png: 116 --> 90 matches\n",
      "filter_FundamentalMatrix: 201 matches --> 169 matches\n",
      "stairs_split_1_1710453955270.png-stairs_split_1_1710453651110.png: 201 --> 169 matches\n",
      "filter_FundamentalMatrix: 53 matches --> 36 matches\n",
      "stairs_split_1_1710453955270.png-stairs_split_2_1710453871430.png: 53 --> 36 matches\n",
      "filter_FundamentalMatrix: 178 matches --> 131 matches\n",
      "stairs_split_1_1710453616892.png-stairs_split_1_1710453620694.png: 178 --> 131 matches\n",
      "filter_FundamentalMatrix: 177 matches --> 124 matches\n",
      "stairs_split_1_1710453576271.png-stairs_split_2_1710453871430.png: 177 --> 124 matches\n",
      "filter_FundamentalMatrix: 329 matches --> 204 matches\n",
      "stairs_split_1_1710453651110.png-stairs_split_2_1710453786375.png: 329 --> 204 matches\n",
      "filter_FundamentalMatrix: 179 matches --> 106 matches\n",
      "stairs_split_1_1710453651110.png-stairs_split_2_1710453740954.png: 179 --> 106 matches\n",
      "filter_FundamentalMatrix: 142 matches --> 118 matches\n",
      "stairs_split_1_1710453651110.png-stairs_split_2_1710453759963.png: 142 --> 118 matches\n",
      "filter_FundamentalMatrix: 217 matches --> 148 matches\n",
      "stairs_split_1_1710453651110.png-stairs_split_2_1710453805788.png: 217 --> 148 matches\n",
      "filter_FundamentalMatrix: 449 matches --> 317 matches\n",
      "stairs_split_2_1710453871430.png-stairs_split_2_1710453783374.png: 449 --> 317 matches\n",
      "filter_FundamentalMatrix: 118 matches --> 101 matches\n",
      "stairs_split_2_1710453871430.png-stairs_split_2_1710453720741.png: 118 --> 101 matches\n",
      "filter_FundamentalMatrix: 113 matches --> 69 matches\n",
      "stairs_split_2_1710453871430.png-stairs_split_2_1710453740954.png: 113 --> 69 matches\n",
      "filter_FundamentalMatrix: 1189 matches --> 1127 matches\n",
      "stairs_split_2_1710453871430.png-stairs_split_2_1710453739354.png: 1189 --> 1127 matches\n",
      "filter_FundamentalMatrix: 671 matches --> 562 matches\n",
      "stairs_split_2_1710453871430.png-stairs_split_2_1710453736752.png: 671 --> 562 matches\n",
      "filter_FundamentalMatrix: 217 matches --> 128 matches\n",
      "stairs_split_2_1710453871430.png-stairs_split_2_1710453805788.png: 217 --> 128 matches\n",
      "filter_FundamentalMatrix: 114 matches --> 52 matches\n",
      "stairs_split_2_1710453801783.png-stairs_split_2_1710453756762.png: 114 --> 52 matches\n",
      "filter_FundamentalMatrix: 164 matches --> 123 matches\n",
      "stairs_split_2_1710453801783.png-stairs_split_2_1710453736752.png: 164 --> 123 matches\n",
      "filter_FundamentalMatrix: 970 matches --> 912 matches\n",
      "stairs_split_2_1710453786375.png-stairs_split_2_1710453783374.png: 970 --> 912 matches\n",
      "filter_FundamentalMatrix: 1187 matches --> 846 matches\n",
      "stairs_split_2_1710453786375.png-stairs_split_2_1710453720741.png: 1187 --> 846 matches\n",
      "filter_FundamentalMatrix: 1237 matches --> 1127 matches\n",
      "stairs_split_2_1710453786375.png-stairs_split_2_1710453740954.png: 1237 --> 1127 matches\n",
      "filter_FundamentalMatrix: 214 matches --> 135 matches\n",
      "stairs_split_2_1710453786375.png-stairs_split_2_1710453739354.png: 214 --> 135 matches\n",
      "filter_FundamentalMatrix: 716 matches --> 389 matches\n",
      "stairs_split_2_1710453786375.png-stairs_split_2_1710453759963.png: 716 --> 389 matches\n",
      "filter_FundamentalMatrix: 448 matches --> 316 matches\n",
      "stairs_split_2_1710453786375.png-stairs_split_2_1710453805788.png: 448 --> 316 matches\n",
      "filter_FundamentalMatrix: 299 matches --> 198 matches\n",
      "stairs_split_2_1710453783374.png-stairs_split_2_1710453739354.png: 299 --> 198 matches\n",
      "filter_FundamentalMatrix: 108 matches --> 88 matches\n",
      "stairs_split_2_1710453783374.png-stairs_split_2_1710453756762.png: 108 --> 88 matches\n",
      "filter_FundamentalMatrix: 649 matches --> 599 matches\n",
      "stairs_split_2_1710453783374.png-stairs_split_2_1710453805788.png: 649 --> 599 matches\n",
      "filter_FundamentalMatrix: 655 matches --> 532 matches\n",
      "stairs_split_2_1710453790978.png-stairs_split_2_1710453745156.png: 655 --> 532 matches\n",
      "filter_FundamentalMatrix: 103 matches --> 56 matches\n",
      "stairs_split_2_1710453720741.png-stairs_split_2_1710453725143.png: 103 --> 56 matches\n",
      "filter_FundamentalMatrix: 138 matches --> 105 matches\n",
      "stairs_split_2_1710453720741.png-stairs_split_2_1710453805788.png: 138 --> 105 matches\n",
      "filter_FundamentalMatrix: 1170 matches --> 1078 matches\n",
      "stairs_split_2_1710453740954.png-stairs_split_2_1710453739354.png: 1170 --> 1078 matches\n",
      "filter_FundamentalMatrix: 856 matches --> 553 matches\n",
      "stairs_split_2_1710453740954.png-stairs_split_2_1710453759963.png: 856 --> 553 matches\n",
      "filter_FundamentalMatrix: 103 matches --> 67 matches\n",
      "stairs_split_2_1710453740954.png-stairs_split_2_1710453805788.png: 103 --> 67 matches\n",
      "filter_FundamentalMatrix: 256 matches --> 205 matches\n",
      "stairs_split_2_1710453739354.png-stairs_split_2_1710453759963.png: 256 --> 205 matches\n",
      "filter_FundamentalMatrix: 186 matches --> 139 matches\n",
      "stairs_split_2_1710453739354.png-stairs_split_2_1710453805788.png: 186 --> 139 matches\n",
      "filter_FundamentalMatrix: 247 matches --> 171 matches\n",
      "stairs_split_2_1710453756762.png-stairs_split_2_1710453736752.png: 247 --> 171 matches\n",
      "filter_FundamentalMatrix: 50 matches --> 31 matches\n",
      "stairs_split_2_1710453725143.png-stairs_split_2_1710453765165.png: 50 --> 31 matches\n",
      "filter_FundamentalMatrix: 113 matches --> 55 matches\n",
      "stairs_split_2_1710453736752.png-stairs_split_2_1710453805788.png: 113 --> 55 matches\n",
      "filter_FundamentalMatrix: 392 matches --> 229 matches\n",
      "stairs_split_2_1710453759963.png-stairs_split_2_1710453805788.png: 392 --> 229 matches\n",
      "Ensembled pairs : 65 pairs\n",
      "Local feature extracting and matching. Done in 81.6627 sec\n"
     ]
    },
    {
     "name": "stderr",
     "output_type": "stream",
     "text": [
      "100%|██████████| 36/36 [00:01<00:00, 21.71it/s]\n",
      " 17%|█▋        | 65/378 [00:00<00:00, 3901.68it/s]\n"
     ]
    },
    {
     "name": "stdout",
     "output_type": "stream",
     "text": [
      "Original results\n",
      "{0: Reconstruction(num_reg_images=16, num_cameras=16, num_points3D=1421, num_observations=3654)}\n",
      "{}\n",
      "map 0:Image(image_id=8, camera_id=8, name=\"stairs_split_1_1710453651110.png\", triangulated=293/976)\n",
      "map 0:Image(image_id=10, camera_id=10, name=\"stairs_split_1_1710453668718.png\", triangulated=146/465)\n",
      "map 0:Image(image_id=12, camera_id=12, name=\"stairs_split_1_1710453689727.png\", triangulated=53/132)\n",
      "map 0:Image(image_id=15, camera_id=15, name=\"stairs_split_1_1710453930259.png\", triangulated=109/631)\n",
      "map 0:Image(image_id=17, camera_id=17, name=\"stairs_split_1_1710453955270.png\", triangulated=46/205)\n",
      "map 0:Image(image_id=21, camera_id=21, name=\"stairs_split_2_1710453720741.png\", triangulated=229/1004)\n",
      "map 0:Image(image_id=23, camera_id=23, name=\"stairs_split_2_1710453736752.png\", triangulated=355/771)\n",
      "map 0:Image(image_id=24, camera_id=24, name=\"stairs_split_2_1710453739354.png\", triangulated=138/2126)\n",
      "map 0:Image(image_id=25, camera_id=25, name=\"stairs_split_2_1710453740954.png\", triangulated=269/2376)\n",
      "map 0:Image(image_id=27, camera_id=27, name=\"stairs_split_2_1710453756762.png\", triangulated=63/285)\n",
      "map 0:Image(image_id=28, camera_id=28, name=\"stairs_split_2_1710453759963.png\", triangulated=165/1055)\n",
      "map 0:Image(image_id=30, camera_id=30, name=\"stairs_split_2_1710453783374.png\", triangulated=379/1494)\n",
      "map 0:Image(image_id=31, camera_id=31, name=\"stairs_split_2_1710453786375.png\", triangulated=587/2656)\n",
      "map 0:Image(image_id=33, camera_id=33, name=\"stairs_split_2_1710453801783.png\", triangulated=40/170)\n",
      "map 0:Image(image_id=34, camera_id=34, name=\"stairs_split_2_1710453805788.png\", triangulated=254/1315)\n",
      "map 0:Image(image_id=36, camera_id=36, name=\"stairs_split_2_1710453871430.png\", triangulated=528/1830)\n",
      "Dataset  stairs -> Registered 16 / 51 images with 1 clusters\n",
      "\n",
      "Results\n",
      "Dataset  fbk_vineyard -> Registered 159 / 163 images with 8 clusters\n",
      "Dataset  stairs -> Registered 16 / 51 images with 1 clusters\n",
      "\n",
      "Timings\n",
      "rotation_detection -> total=0.00 sec.\n",
      "global feature extraction -> total=0.00 sec.\n",
      "shortlisting -> total=46.97 sec.\n",
      "feature_detection -> total=0.00 sec.\n",
      "feature_matching -> total=491.39 sec.\n",
      "RANSAC -> total=2.73 sec.\n",
      "Reconstruction -> total=158.53 sec.\n"
     ]
    }
   ],
   "source": [
    "gc.collect()\n",
    "\n",
    "max_images = None  # Used For debugging only. Set to None to disable.\n",
    "datasets_to_process = None  # Not the best convention, but None means all datasets.\n",
    "\n",
    "if is_train:\n",
    "    # max_images = 5\n",
    "\n",
    "    # Note: When running on the training dataset, the notebook will hit the time limit and die. Use this filter to run on a few specific datasets.\n",
    "    datasets_to_process = [\n",
    "    \t# New data.\n",
    "    \t# 'amy_gardens',\n",
    "    \t# 'ETs',\n",
    "    \t'fbk_vineyard',\n",
    "    \t'stairs',\n",
    "    \t# Data from IMC 2023 and 2024.\n",
    "    \t# 'imc2024_dioscuri_baalshamin',\n",
    "    \t# 'imc2023_theather_imc2024_church',\n",
    "    \t# 'imc2023_heritage',\n",
    "    \t# 'imc2023_haiper',\n",
    "    \t# 'imc2024_lizard_pond',\n",
    "    \t# Crowdsourced PhotoTourism data.\n",
    "    \t# # 'pt_stpeters_stpauls',\n",
    "    \t# # 'pt_brandenburg_british_buckingham',\n",
    "    \t# # 'pt_piazzasanmarco_grandplace',\n",
    "    \t# # 'pt_sacrecoeur_trevi_tajmahal',\n",
    "    ]\n",
    "\n",
    "timings = {\n",
    "    'rotation_detection':[],\n",
    "    \"global feature extraction\":[],\n",
    "    \"shortlisting\":[],\n",
    "    \"feature_detection\": [],\n",
    "    \"feature_matching\":[],\n",
    "    \"RANSAC\": [],\n",
    "    \"Reconstruction\": [],\n",
    "}\n",
    "mapping_result_strs = []\n",
    "\n",
    "# Load DINOv2 model (for feature extraction, not global descriptor here)\n",
    "print(\"Loading DINOv2 model for patch feature extraction...\")\n",
    "dino_processor = AutoImageProcessor.from_pretrained('/kaggle/input/dinov2/pytorch/base/1')\n",
    "dino_model = AutoModel.from_pretrained('/kaggle/input/dinov2/pytorch/base/1')\n",
    "dino_model = dino_model.eval().to(device)\n",
    "print(\"DINOv2 model loaded.\")\n",
    "\n",
    "with concurrent.futures.ProcessPoolExecutor(max_workers=CONFIG.NUM_CORES) as executors:\n",
    "    # print (f\"Extracting on device {device}\")\n",
    "    for dataset, predictions in samples.items():\n",
    "        if datasets_to_process and dataset not in datasets_to_process:\n",
    "            print(f'Skipping \"{dataset}\"')\n",
    "            continue\n",
    "        \n",
    "        images_dir = os.path.join(data_dir, 'train' if is_train else 'test', dataset)\n",
    "        images = [os.path.join(images_dir, p.filename) for p in predictions]\n",
    "        if max_images is not None:\n",
    "            images = images[:max_images]\n",
    "    \n",
    "        print(f'\\nProcessing dataset \"{dataset}\": {len(images)} images')\n",
    "    \n",
    "        filename_to_index = {p.filename: idx for idx, p in enumerate(predictions)}\n",
    "    \n",
    "        feature_dir = os.path.join(workdir, 'featureout', dataset)\n",
    "        os.makedirs(feature_dir, exist_ok=True)\n",
    "    \n",
    "        # Wrap algos in try-except blocks so we can populate a submission even if one scene crashes.\n",
    "        try:\n",
    "            # --- Pipeline Execution ---\n",
    "            \n",
    "            #############################################################\n",
    "            # get image rotations\n",
    "            #############################################################\n",
    "            t = time()\n",
    "            # if CONFIG.ROTATION_CORRECTION:\n",
    "            #     rots = exec_rotation_detection(images, device)\n",
    "            # else:\n",
    "            #     rots = [ 0 for fname in images ]\n",
    "            rots = [ 0 for fname in images ]\n",
    "            t = time()-t\n",
    "            timings['rotation_detection'].append(t)\n",
    "            print(f'rotation_detection for {len(images)} images : {t:.4f} sec')\n",
    "            # print(\"!!!!!!!!!!!!!!!!!!!!!!\")\n",
    "            gc.collect()\n",
    "            #############################################################\n",
    "            # get image pairs\n",
    "            #############################################################\n",
    "            # 1. Detect ALIKED features and combine with DINO patch features\n",
    "            t = time()\n",
    "            index_pairs = get_image_pairs_shortlist(\n",
    "                images,\n",
    "                sim_th = 0.3, # should be strict\n",
    "                min_pairs = 10, # we should select at least min_pairs PER IMAGE with biggest similarity\n",
    "                max_pairs = 20,\n",
    "                exhaustive_if_less = 20,\n",
    "                device=device\n",
    "            )\n",
    "            timings['shortlisting'].append(time() - t)\n",
    "            print (f'Shortlisting. Number of pairs to match: {len(index_pairs)}. Done in {time() - t:.4f} sec')\n",
    "            gc.collect()\n",
    "            # print(\"\\n--- Step 1: Detecting ALIKED and Combining with DINO Patch Features ---\")\n",
    "            # detect_aliked_and_combine_with_dino(\n",
    "            #     img_fnames=images,\n",
    "            #     feature_dir=feature_dir,\n",
    "            #     num_features=4096,\n",
    "            #     resize_to=1024,\n",
    "            #     dino_processor=dino_processor,\n",
    "            #     dino_model=dino_model,\n",
    "            #     dino_patch_size=14, # Adjust based on your DINO model's patch size (e.g., 14 for DINOv2 base)\n",
    "            #     device=device\n",
    "            # )\n",
    "            # timings['global feature extraction'].append(time() - t)\n",
    "            # print (f'Gloabl feature extracting. Done in {time() - t:.4f} sec')\n",
    "            # gc.collect()\n",
    "            \n",
    "            # # 2. Get image pairs shortlist using VLAD global descriptors\n",
    "            # print(\"\\n--- Step 2: Generating Image Pair Shortlist using VLAD ---\")\n",
    "            # # Adjust num_clusters_vlad as needed (e.g., 64, 128, 256)\n",
    "            # # Higher clusters mean higher dimensionality for global descriptor.\n",
    "            # index_pairs = get_image_pairs_shortlist_vlad(\n",
    "            #     fnames=images,\n",
    "            #     sim_th=0.5,\n",
    "            #     min_pairs=20,\n",
    "            #     exhaustive_if_less=20,\n",
    "            #     feature_dir=feature_dir,\n",
    "            #     num_clusters_vlad=128, # Example: 128 clusters for VLAD\n",
    "            #     device=device\n",
    "            # )\n",
    "            # index_pairs = get_img_pairs_exhaustive(images)\n",
    "            \n",
    "            print(f\"Generated {len(index_pairs)} image pairs using VLAD global descriptor.\")\n",
    "            timings['shortlisting'].append(time() - t)\n",
    "            print (f'Shortlisting. Number of pairs to match: {len(index_pairs)}. Done in {time() - t:.4f} sec')\n",
    "            gc.collect()\n",
    "            #############################################################\n",
    "            # get keypoints\n",
    "            #############################################################    \n",
    "            t=time()\n",
    "            keypoints_timings = wrapper_keypoints(\n",
    "                images, index_pairs, feature_dir, device, timings, rots\n",
    "            )\n",
    "            timings['feature_matching'] = keypoints_timings['feature_matching']\n",
    "            gc.collect()\n",
    "            print (f'Local feature extracting and matching. Done in {time() - t:.4f} sec')\n",
    "            #############################################################\n",
    "            # kick COLMAP reconstruction\n",
    "            #############################################################            \n",
    "            future = executors.submit(\n",
    "                reconstruct_from_db, \n",
    "                feature_dir, images_dir)\n",
    "            maps, local_timings = future.result()\n",
    "            # 合并 timings（主进程里）\n",
    "            for k in local_timings:\n",
    "                timings[k].extend(local_timings[k])\n",
    "            # clear_output(wait=False)\n",
    "            registered = 0\n",
    "            for map_index, cur_map in maps.items():  # cur_map: image_name → {'R': list, 't': list}\n",
    "                for image_name, pose in cur_map.items():\n",
    "                    idx = filename_to_index[image_name]\n",
    "                    pred = predictions[idx]\n",
    "                    pred.cluster_index = map_index\n",
    "                    pred.rotation = np.array(pose['R'])  # convert back to np.ndarray\n",
    "                    pred.translation = np.array(pose['t'])\n",
    "                    registered += 1\n",
    "            mapping_result_str = f\"Dataset  {dataset} -> Registered {registered} / {len(images)} images with {len(maps)} clusters\"\n",
    "            mapping_result_strs.append(mapping_result_str)\n",
    "            print(mapping_result_str)\n",
    "\n",
    "            gc.collect()\n",
    "        except Exception as e:\n",
    "            print(e)\n",
    "            # raise e\n",
    "            mapping_result_str = f'Dataset \"{dataset}\" -> Failed!'\n",
    "            mapping_result_strs.append(mapping_result_str)\n",
    "            print(mapping_result_str)\n",
    "\n",
    "print('\\nResults')\n",
    "for s in mapping_result_strs:\n",
    "    print(s)\n",
    "\n",
    "print('\\nTimings')\n",
    "for k, v in timings.items():\n",
    "    print(f'{k} -> total={sum(v):.02f} sec.')"
   ]
  },
  {
   "cell_type": "code",
   "execution_count": 25,
   "id": "1fb58e77",
   "metadata": {
    "execution": {
     "iopub.execute_input": "2025-05-30T00:32:38.418676Z",
     "iopub.status.busy": "2025-05-30T00:32:38.418142Z",
     "iopub.status.idle": "2025-05-30T00:32:38.590296Z",
     "shell.execute_reply": "2025-05-30T00:32:38.589092Z"
    },
    "papermill": {
     "duration": 0.395321,
     "end_time": "2025-05-30T00:32:38.592193",
     "exception": false,
     "start_time": "2025-05-30T00:32:38.196872",
     "status": "completed"
    },
    "tags": []
   },
   "outputs": [
    {
     "name": "stdout",
     "output_type": "stream",
     "text": [
      "dataset,scene,image,rotation_matrix,translation_vector\r\n",
      "imc2023_haiper,outliers,fountain_image_116.png,nan;nan;nan;nan;nan;nan;nan;nan;nan,nan;nan;nan\r\n",
      "imc2023_haiper,outliers,fountain_image_108.png,nan;nan;nan;nan;nan;nan;nan;nan;nan,nan;nan;nan\r\n",
      "imc2023_haiper,outliers,fountain_image_101.png,nan;nan;nan;nan;nan;nan;nan;nan;nan,nan;nan;nan\r\n",
      "imc2023_haiper,outliers,fountain_image_082.png,nan;nan;nan;nan;nan;nan;nan;nan;nan,nan;nan;nan\r\n",
      "imc2023_haiper,outliers,fountain_image_071.png,nan;nan;nan;nan;nan;nan;nan;nan;nan,nan;nan;nan\r\n",
      "imc2023_haiper,outliers,fountain_image_025.png,nan;nan;nan;nan;nan;nan;nan;nan;nan,nan;nan;nan\r\n",
      "imc2023_haiper,outliers,fountain_image_000.png,nan;nan;nan;nan;nan;nan;nan;nan;nan,nan;nan;nan\r\n",
      "imc2023_haiper,outliers,fountain_image_007.png,nan;nan;nan;nan;nan;nan;nan;nan;nan,nan;nan;nan\r\n",
      "imc2023_haiper,outliers,fountain_image_012.png,nan;nan;nan;nan;nan;nan;nan;nan;nan,nan;nan;nan\r\n"
     ]
    }
   ],
   "source": [
    "# Helpers\n",
    "array_to_str = lambda array: ';'.join([f\"{x:.09f}\" for x in array])\n",
    "none_to_str = lambda n: ';'.join(['nan'] * n)\n",
    "\n",
    "submission_file = '/kaggle/working/submission.csv'\n",
    "with open(submission_file, 'w') as f:\n",
    "    if is_train:\n",
    "        f.write('dataset,scene,image,rotation_matrix,translation_vector\\n')\n",
    "        for dataset, predictions in samples.items():\n",
    "            for prediction in predictions:\n",
    "                cluster_name = 'outliers' if prediction.cluster_index is None else f'cluster{prediction.cluster_index}'\n",
    "\n",
    "                # ✅ `rotation` is a list of lists, flatten it\n",
    "                if prediction.rotation is None:\n",
    "                    rotation_str = none_to_str(9)\n",
    "                else:\n",
    "                    rotation_flat =  prediction.rotation.flatten()  # flatten 3x3 list -> 9 elems\n",
    "                    rotation_str = array_to_str(rotation_flat)\n",
    "\n",
    "                # ✅ `translation` is a flat list\n",
    "                if prediction.translation is None:\n",
    "                    translation_str = none_to_str(3)\n",
    "                else:\n",
    "                    translation_str = array_to_str(prediction.translation)\n",
    "\n",
    "                f.write(f'{prediction.dataset},{cluster_name},{prediction.filename},{rotation_str},{translation_str}\\n')\n",
    "    else:\n",
    "        f.write('image_id,dataset,scene,image,rotation_matrix,translation_vector\\n')\n",
    "        for dataset, predictions in samples.items():\n",
    "            for prediction in predictions:\n",
    "                cluster_name = 'outliers' if prediction.cluster_index is None else f'cluster{prediction.cluster_index}'\n",
    "\n",
    "                if prediction.rotation is None:\n",
    "                    rotation_str = none_to_str(9)\n",
    "                else:\n",
    "                    rotation_flat =  prediction.rotation.flatten()\n",
    "                    rotation_str = array_to_str(rotation_flat)\n",
    "\n",
    "                if prediction.translation is None:\n",
    "                    translation_str = none_to_str(3)\n",
    "                else:\n",
    "                    translation_str = array_to_str(prediction.translation)\n",
    "\n",
    "                f.write(f'{prediction.image_id},{prediction.dataset},{cluster_name},{prediction.filename},{rotation_str},{translation_str}\\n')\n",
    "\n",
    "# Preview the output\n",
    "!head {submission_file}\n"
   ]
  },
  {
   "cell_type": "code",
   "execution_count": 26,
   "id": "4523f355",
   "metadata": {
    "execution": {
     "iopub.execute_input": "2025-05-30T00:32:39.043544Z",
     "iopub.status.busy": "2025-05-30T00:32:39.043147Z",
     "iopub.status.idle": "2025-05-30T00:33:01.277001Z",
     "shell.execute_reply": "2025-05-30T00:33:01.276144Z"
    },
    "papermill": {
     "duration": 22.454673,
     "end_time": "2025-05-30T00:33:01.278315",
     "exception": false,
     "start_time": "2025-05-30T00:32:38.823642",
     "status": "completed"
    },
    "tags": []
   },
   "outputs": [
    {
     "name": "stdout",
     "output_type": "stream",
     "text": [
      "imc2023_haiper: score=0.00% (mAA=0.00%, clusterness=100.00%)\n",
      "imc2023_heritage: score=0.00% (mAA=0.00%, clusterness=100.00%)\n",
      "imc2023_theather_imc2024_church: score=0.00% (mAA=0.00%, clusterness=100.00%)\n",
      "imc2024_dioscuri_baalshamin: score=0.00% (mAA=0.00%, clusterness=100.00%)\n",
      "imc2024_lizard_pond: score=0.00% (mAA=0.00%, clusterness=100.00%)\n",
      "pt_brandenburg_british_buckingham: score=0.00% (mAA=0.00%, clusterness=100.00%)\n",
      "pt_piazzasanmarco_grandplace: score=0.00% (mAA=0.00%, clusterness=100.00%)\n",
      "pt_sacrecoeur_trevi_tajmahal: score=0.00% (mAA=0.00%, clusterness=100.00%)\n",
      "pt_stpeters_stpauls: score=0.00% (mAA=0.00%, clusterness=100.00%)\n",
      "amy_gardens: score=0.00% (mAA=0.00%, clusterness=100.00%)\n",
      "fbk_vineyard: score=43.46% (mAA=27.76%, clusterness=100.00%)\n",
      "ETs: score=0.00% (mAA=0.00%, clusterness=100.00%)\n",
      "stairs: score=0.00% (mAA=0.00%, clusterness=50.00%)\n",
      "Average over all datasets: score=3.34% (mAA=2.14%, clusterness=96.15%)\n",
      "Computed metric in: 22.23 sec.\n"
     ]
    }
   ],
   "source": [
    "# Definitely Compute results if running on the training set.\n",
    "# Do not do this when submitting a notebook for scoring. All you have to do is save your submission to /kaggle/working/submission.csv.\n",
    "\n",
    "if is_train:\n",
    "    t = time()\n",
    "    final_score, dataset_scores = metric.score(\n",
    "        gt_csv='/kaggle/input/image-matching-challenge-2025/train_labels.csv',\n",
    "        user_csv=submission_file,\n",
    "        thresholds_csv='/kaggle/input/image-matching-challenge-2025/train_thresholds.csv',\n",
    "        mask_csv=None if is_train else os.path.join(data_dir, 'mask.csv'),\n",
    "        inl_cf=0,\n",
    "        strict_cf=-1,\n",
    "        verbose=True,\n",
    "    )\n",
    "    print(f'Computed metric in: {time() - t:.02f} sec.')"
   ]
  },
  {
   "cell_type": "code",
   "execution_count": null,
   "id": "8d69cb6e",
   "metadata": {
    "papermill": {
     "duration": 0.219627,
     "end_time": "2025-05-30T00:33:01.761498",
     "exception": false,
     "start_time": "2025-05-30T00:33:01.541871",
     "status": "completed"
    },
    "tags": []
   },
   "outputs": [],
   "source": []
  }
 ],
 "metadata": {
  "kaggle": {
   "accelerator": "nvidiaTeslaT4",
   "dataSources": [
    {
     "databundleVersionId": 11655853,
     "sourceId": 91498,
     "sourceType": "competition"
    },
    {
     "datasetId": 4628051,
     "sourceId": 7884485,
     "sourceType": "datasetVersion"
    },
    {
     "datasetId": 6988459,
     "sourceId": 11924468,
     "sourceType": "datasetVersion"
    },
    {
     "datasetId": 7505602,
     "sourceId": 11938492,
     "sourceType": "datasetVersion"
    },
    {
     "datasetId": 7542297,
     "sourceId": 11991336,
     "sourceType": "datasetVersion"
    },
    {
     "modelId": 986,
     "modelInstanceId": 3326,
     "sourceId": 4534,
     "sourceType": "modelInstanceVersion"
    },
    {
     "modelId": 21716,
     "modelInstanceId": 14317,
     "sourceId": 17191,
     "sourceType": "modelInstanceVersion"
    },
    {
     "modelId": 22086,
     "modelInstanceId": 14611,
     "sourceId": 17555,
     "sourceType": "modelInstanceVersion"
    }
   ],
   "dockerImageVersionId": 30919,
   "isGpuEnabled": true,
   "isInternetEnabled": false,
   "language": "python",
   "sourceType": "notebook"
  },
  "kernelspec": {
   "display_name": "Python 3",
   "language": "python",
   "name": "python3"
  },
  "language_info": {
   "codemirror_mode": {
    "name": "ipython",
    "version": 3
   },
   "file_extension": ".py",
   "mimetype": "text/x-python",
   "name": "python",
   "nbconvert_exporter": "python",
   "pygments_lexer": "ipython3",
   "version": "3.10.12"
  },
  "papermill": {
   "default_parameters": {},
   "duration": 762.198015,
   "end_time": "2025-05-30T00:33:05.097761",
   "environment_variables": {},
   "exception": null,
   "input_path": "__notebook__.ipynb",
   "output_path": "__notebook__.ipynb",
   "parameters": {},
   "start_time": "2025-05-30T00:20:22.899746",
   "version": "2.6.0"
  }
 },
 "nbformat": 4,
 "nbformat_minor": 5
}
