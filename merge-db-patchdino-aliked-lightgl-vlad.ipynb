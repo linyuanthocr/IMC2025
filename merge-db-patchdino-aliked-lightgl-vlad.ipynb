{
 "cells": [
  {
   "cell_type": "markdown",
   "id": "51ddd24f",
   "metadata": {
    "_cell_guid": "b1076dfc-b9ad-4769-8c92-a6c4dae69d19",
    "_uuid": "8f2839f25d086af736a60e9eeb907d3b93b6e0e5",
    "papermill": {
     "duration": 0.007367,
     "end_time": "2025-05-30T07:37:39.232239",
     "exception": false,
     "start_time": "2025-05-30T07:37:39.224872",
     "status": "completed"
    },
    "tags": []
   },
   "source": [
    "## Example submission\n",
    "\n",
    "Image Matching Challenge 2025: https://www.kaggle.com/competitions/image-matching-challenge-2025\n",
    "\n",
    "This notebook creates a simple submission using ALIKED and LightGlue, plus DINO for shortlisting, on GPU. Adapted from [last year](https://www.kaggle.com/code/oldufo/imc-2024-submission-example).\n",
    "\n",
    "Remember to select an accelerator on the sidebar to the right, and to disable internet access when submitting a notebook to the competition."
   ]
  },
  {
   "cell_type": "code",
   "execution_count": 1,
   "id": "7d26f4fd",
   "metadata": {
    "execution": {
     "iopub.execute_input": "2025-05-30T07:37:39.246600Z",
     "iopub.status.busy": "2025-05-30T07:37:39.246329Z",
     "iopub.status.idle": "2025-05-30T07:37:46.199839Z",
     "shell.execute_reply": "2025-05-30T07:37:46.198874Z"
    },
    "papermill": {
     "duration": 6.963125,
     "end_time": "2025-05-30T07:37:46.201545",
     "exception": false,
     "start_time": "2025-05-30T07:37:39.238420",
     "status": "completed"
    },
    "tags": []
   },
   "outputs": [
    {
     "name": "stdout",
     "output_type": "stream",
     "text": [
      "Processing /kaggle/input/imc2024-packages-lightglue-rerun-kornia/kornia-0.7.2-py2.py3-none-any.whl\r\n",
      "Processing /kaggle/input/imc2024-packages-lightglue-rerun-kornia/kornia_moons-0.2.9-py3-none-any.whl\r\n",
      "Processing /kaggle/input/imc2024-packages-lightglue-rerun-kornia/kornia_rs-0.1.2-cp310-cp310-manylinux_2_17_x86_64.manylinux2014_x86_64.whl\r\n",
      "Processing /kaggle/input/imc2024-packages-lightglue-rerun-kornia/lightglue-0.0-py3-none-any.whl\r\n",
      "Processing /kaggle/input/imc2024-packages-lightglue-rerun-kornia/pycolmap-0.6.1-cp310-cp310-manylinux_2_17_x86_64.manylinux2014_x86_64.whl\r\n",
      "Processing /kaggle/input/imc2024-packages-lightglue-rerun-kornia/rerun_sdk-0.15.0a2-cp38-abi3-manylinux_2_31_x86_64.whl\r\n",
      "Installing collected packages: rerun-sdk, pycolmap, lightglue, kornia-rs, kornia-moons, kornia\r\n",
      "  Attempting uninstall: kornia-rs\r\n",
      "    Found existing installation: kornia_rs 0.1.8\r\n",
      "    Uninstalling kornia_rs-0.1.8:\r\n",
      "      Successfully uninstalled kornia_rs-0.1.8\r\n",
      "  Attempting uninstall: kornia\r\n",
      "    Found existing installation: kornia 0.8.0\r\n",
      "    Uninstalling kornia-0.8.0:\r\n",
      "      Successfully uninstalled kornia-0.8.0\r\n",
      "Successfully installed kornia-0.7.2 kornia-moons-0.2.9 kornia-rs-0.1.2 lightglue-0.0 pycolmap-0.6.1 rerun-sdk-0.15.0a2\r\n"
     ]
    }
   ],
   "source": [
    "# IMPORTANT \n",
    "#Install dependencies and copy model weights to run the notebook without internet access when submitting to the competition.\n",
    "\n",
    "!pip install --no-index /kaggle/input/imc2024-packages-lightglue-rerun-kornia/* --no-deps\n",
    "!mkdir -p /root/.cache/torch/hub/checkpoints\n",
    "!cp /kaggle/input/aliked/pytorch/aliked-n16/1/aliked-n16.pth /root/.cache/torch/hub/checkpoints/\n",
    "!cp /kaggle/input/lightglue/pytorch/aliked/1/aliked_lightglue.pth /root/.cache/torch/hub/checkpoints/\n",
    "!cp /kaggle/input/lightglue/pytorch/aliked/1/aliked_lightglue.pth /root/.cache/torch/hub/checkpoints/aliked_lightglue_v0-1_arxiv-pth"
   ]
  },
  {
   "cell_type": "code",
   "execution_count": 2,
   "id": "63c1c48c",
   "metadata": {
    "execution": {
     "iopub.execute_input": "2025-05-30T07:37:46.216869Z",
     "iopub.status.busy": "2025-05-30T07:37:46.216628Z",
     "iopub.status.idle": "2025-05-30T07:37:47.087140Z",
     "shell.execute_reply": "2025-05-30T07:37:47.085819Z"
    },
    "papermill": {
     "duration": 0.879599,
     "end_time": "2025-05-30T07:37:47.088804",
     "exception": false,
     "start_time": "2025-05-30T07:37:46.209205",
     "status": "completed"
    },
    "tags": []
   },
   "outputs": [],
   "source": [
    "!cp /kaggle/input/disk-depth/disk_lightglue.pth /root/.cache/torch/hub/checkpoints/\n",
    "!cp /kaggle/input/disk-depth/disk_lightglue.pth /root/.cache/torch/hub/checkpoints/disk_lightglue_v0-1_arxiv-pth\n",
    "!cp /kaggle/input/disk-depth/depth-save.pth /root/.cache/torch/hub/checkpoints/depth-save.pth\n",
    "!cp /kaggle/input/disk-depth/depth-save.pth /root/.cache/torch/hub/checkpoints/"
   ]
  },
  {
   "cell_type": "code",
   "execution_count": 3,
   "id": "6f32d084",
   "metadata": {
    "execution": {
     "iopub.execute_input": "2025-05-30T07:37:47.103348Z",
     "iopub.status.busy": "2025-05-30T07:37:47.103064Z",
     "iopub.status.idle": "2025-05-30T07:37:47.968588Z",
     "shell.execute_reply": "2025-05-30T07:37:47.967403Z"
    },
    "papermill": {
     "duration": 0.874443,
     "end_time": "2025-05-30T07:37:47.970210",
     "exception": false,
     "start_time": "2025-05-30T07:37:47.095767",
     "status": "completed"
    },
    "tags": []
   },
   "outputs": [],
   "source": [
    "!cp /kaggle/input/superpoint-lightglue/superpoint_lightglue.pth /root/.cache/torch/hub/checkpoints/\n",
    "!cp /kaggle/input/superpoint-lightglue/superpoint_lightglue.pth  /root/.cache/torch/hub/checkpoints/superpoint_lightglue_v0-1_arxiv-pth\n",
    "!cp /kaggle/input/superpoint-lightglue/superpoint_v1.pth /root/.cache/torch/hub/checkpoints/superpoint_v1.pth\n",
    "!cp /kaggle/input/superpoint-lightglue/superpoint_v1.pth /root/.cache/torch/hub/checkpoints/"
   ]
  },
  {
   "cell_type": "code",
   "execution_count": 4,
   "id": "399684a3",
   "metadata": {
    "execution": {
     "iopub.execute_input": "2025-05-30T07:37:47.984785Z",
     "iopub.status.busy": "2025-05-30T07:37:47.984528Z",
     "iopub.status.idle": "2025-05-30T07:37:47.988422Z",
     "shell.execute_reply": "2025-05-30T07:37:47.987599Z"
    },
    "papermill": {
     "duration": 0.012577,
     "end_time": "2025-05-30T07:37:47.989751",
     "exception": false,
     "start_time": "2025-05-30T07:37:47.977174",
     "status": "completed"
    },
    "tags": []
   },
   "outputs": [
    {
     "name": "stdout",
     "output_type": "stream",
     "text": [
      "True\n"
     ]
    }
   ],
   "source": [
    "import os\n",
    "print(os.path.exists(\"/root/.cache/torch/hub/checkpoints/depth-save.pth\"))"
   ]
  },
  {
   "cell_type": "code",
   "execution_count": 5,
   "id": "135a7e79",
   "metadata": {
    "execution": {
     "iopub.execute_input": "2025-05-30T07:37:48.004301Z",
     "iopub.status.busy": "2025-05-30T07:37:48.004080Z",
     "iopub.status.idle": "2025-05-30T07:38:26.145760Z",
     "shell.execute_reply": "2025-05-30T07:38:26.144839Z"
    },
    "papermill": {
     "duration": 38.150918,
     "end_time": "2025-05-30T07:38:26.147469",
     "exception": false,
     "start_time": "2025-05-30T07:37:47.996551",
     "status": "completed"
    },
    "tags": []
   },
   "outputs": [
    {
     "name": "stderr",
     "output_type": "stream",
     "text": [
      "/usr/local/lib/python3.10/dist-packages/kornia/feature/lightglue.py:44: FutureWarning: `torch.cuda.amp.custom_fwd(args...)` is deprecated. Please use `torch.amp.custom_fwd(args..., device_type='cuda')` instead.\n",
      "  @torch.cuda.amp.custom_fwd(cast_inputs=torch.float32)\n",
      "/usr/local/lib/python3.10/dist-packages/lightglue/lightglue.py:24: FutureWarning: `torch.cuda.amp.custom_fwd(args...)` is deprecated. Please use `torch.amp.custom_fwd(args..., device_type='cuda')` instead.\n",
      "  @torch.cuda.amp.custom_fwd(cast_inputs=torch.float32)\n"
     ]
    }
   ],
   "source": [
    "import sys\n",
    "import os\n",
    "from tqdm import tqdm\n",
    "from time import time, sleep\n",
    "import gc\n",
    "import numpy as np\n",
    "import h5py\n",
    "import dataclasses\n",
    "import pandas as pd\n",
    "from IPython.display import clear_output\n",
    "from collections import defaultdict\n",
    "from copy import deepcopy\n",
    "from PIL import Image\n",
    "\n",
    "import cv2\n",
    "import torch\n",
    "import torch.nn.functional as F\n",
    "import kornia as K\n",
    "import kornia.feature as KF\n",
    "\n",
    "import torch\n",
    "from lightglue import match_pair\n",
    "from lightglue import ALIKED, LightGlue\n",
    "from lightglue.utils import load_image, rbd\n",
    "from transformers import AutoImageProcessor, AutoModel\n",
    "\n",
    "# from lightglue import DISK\n",
    "from kornia.feature import LightGlueMatcher as KF_LightGlueMatcher\n",
    "from scipy.spatial import cKDTree # For efficient nearest neighbor search to remove duplicate keypoints\n",
    "\n",
    "# IMPORTANT Utilities: importing data into colmap and competition metric\n",
    "import pycolmap\n",
    "sys.path.append('/kaggle/input/imc25-utils')\n",
    "from database import *\n",
    "from h5_to_db import *\n",
    "import metric\n",
    "\n",
    "\n",
    "# LightGlue\n",
    "from lightglue import match_pair\n",
    "from lightglue import ALIKED, SuperPoint,DISK, DoGHardNet, LightGlue, SIFT\n",
    "from fastprogress import progress_bar\n"
   ]
  },
  {
   "cell_type": "code",
   "execution_count": 6,
   "id": "ee16a9aa",
   "metadata": {
    "execution": {
     "iopub.execute_input": "2025-05-30T07:38:26.162412Z",
     "iopub.status.busy": "2025-05-30T07:38:26.161899Z",
     "iopub.status.idle": "2025-05-30T07:38:26.165333Z",
     "shell.execute_reply": "2025-05-30T07:38:26.164698Z"
    },
    "papermill": {
     "duration": 0.011714,
     "end_time": "2025-05-30T07:38:26.166446",
     "exception": false,
     "start_time": "2025-05-30T07:38:26.154732",
     "status": "completed"
    },
    "tags": []
   },
   "outputs": [],
   "source": [
    "from collections import defaultdict\n",
    "from copy import deepcopy\n",
    "import concurrent.futures\n"
   ]
  },
  {
   "cell_type": "code",
   "execution_count": 7,
   "id": "d0a5512c",
   "metadata": {
    "execution": {
     "iopub.execute_input": "2025-05-30T07:38:26.180213Z",
     "iopub.status.busy": "2025-05-30T07:38:26.179989Z",
     "iopub.status.idle": "2025-05-30T07:38:26.302871Z",
     "shell.execute_reply": "2025-05-30T07:38:26.302119Z"
    },
    "papermill": {
     "duration": 0.131096,
     "end_time": "2025-05-30T07:38:26.304158",
     "exception": false,
     "start_time": "2025-05-30T07:38:26.173062",
     "status": "completed"
    },
    "tags": []
   },
   "outputs": [
    {
     "name": "stdout",
     "output_type": "stream",
     "text": [
      "PyTorch version: 2.5.1+cu121\n",
      "Python version: 3.10.12 (main, Nov  6 2024, 20:22:13) [GCC 11.4.0]\n",
      "CUDA available: True\n",
      "CUDA version: 12.1\n",
      "Device count: 2\n",
      "Current device: 0\n",
      "Device name: Tesla T4\n"
     ]
    }
   ],
   "source": [
    "\n",
    "print(\"PyTorch version:\", torch.__version__)\n",
    "import sys\n",
    "print(\"Python version:\", sys.version)\n",
    "\n",
    "print(\"CUDA available:\", torch.cuda.is_available())\n",
    "print(\"CUDA version:\", torch.version.cuda)\n",
    "print(\"Device count:\", torch.cuda.device_count())\n",
    "print(\"Current device:\", torch.cuda.current_device())\n",
    "print(\"Device name:\", torch.cuda.get_device_name(torch.cuda.current_device()))\n"
   ]
  },
  {
   "cell_type": "code",
   "execution_count": 8,
   "id": "7b5a336c",
   "metadata": {
    "execution": {
     "iopub.execute_input": "2025-05-30T07:38:26.318580Z",
     "iopub.status.busy": "2025-05-30T07:38:26.318362Z",
     "iopub.status.idle": "2025-05-30T07:38:26.322329Z",
     "shell.execute_reply": "2025-05-30T07:38:26.321643Z"
    },
    "papermill": {
     "duration": 0.01241,
     "end_time": "2025-05-30T07:38:26.323480",
     "exception": false,
     "start_time": "2025-05-30T07:38:26.311070",
     "status": "completed"
    },
    "tags": []
   },
   "outputs": [
    {
     "name": "stdout",
     "output_type": "stream",
     "text": [
      "device=device(type='cuda', index=0)\n"
     ]
    }
   ],
   "source": [
    "# Do not forget to select an accelerator on the sidebar to the right.\n",
    "device = K.utils.get_cuda_device_if_available(0)\n",
    "print(f'{device=}')"
   ]
  },
  {
   "cell_type": "code",
   "execution_count": 9,
   "id": "f4b5bc11",
   "metadata": {
    "execution": {
     "iopub.execute_input": "2025-05-30T07:38:26.337503Z",
     "iopub.status.busy": "2025-05-30T07:38:26.337300Z",
     "iopub.status.idle": "2025-05-30T07:38:26.339991Z",
     "shell.execute_reply": "2025-05-30T07:38:26.339436Z"
    },
    "papermill": {
     "duration": 0.011238,
     "end_time": "2025-05-30T07:38:26.341223",
     "exception": false,
     "start_time": "2025-05-30T07:38:26.329985",
     "status": "completed"
    },
    "tags": []
   },
   "outputs": [],
   "source": [
    "VERBOSE = True"
   ]
  },
  {
   "cell_type": "code",
   "execution_count": 10,
   "id": "21f45242",
   "metadata": {
    "execution": {
     "iopub.execute_input": "2025-05-30T07:38:26.355179Z",
     "iopub.status.busy": "2025-05-30T07:38:26.354939Z",
     "iopub.status.idle": "2025-05-30T07:38:26.363461Z",
     "shell.execute_reply": "2025-05-30T07:38:26.362876Z"
    },
    "papermill": {
     "duration": 0.016812,
     "end_time": "2025-05-30T07:38:26.364690",
     "exception": false,
     "start_time": "2025-05-30T07:38:26.347878",
     "status": "completed"
    },
    "tags": []
   },
   "outputs": [],
   "source": [
    "class CONFIG:\n",
    "    # DEBUG Settings\n",
    "    DRY_RUN = False\n",
    "    DRY_RUN_MAX_IMAGES = 10\n",
    "\n",
    "    # Pipeline settings\n",
    "    NUM_CORES = 2\n",
    "    \n",
    "    # COLMAP Reconstruction\n",
    "    CAMERA_MODEL = \"simple-radial\"\n",
    "    \n",
    "    # Rotation correction\n",
    "    ROTATION_CORRECTION = False\n",
    "    \n",
    "    # Keypoints handling\n",
    "    MERGE_PARAMS = {\n",
    "        \"min_matches\" : 15,\n",
    "        # When merging keypoints, it is enable to filtering matches with cv2.findFundamentalMatrix.\n",
    "        \"filter_FundamentalMatrix\" : True,\n",
    "        \"filter_iterations\" : 5,\n",
    "        \"filter_threshold\" : 4,\n",
    "    }\n",
    "    \n",
    "    # Keypoints Extraction\n",
    "    use_aliked_lightglue = True\n",
    "    use_doghardnet_lightglue = False\n",
    "    use_superpoint_lightglue = True\n",
    "    use_disk_lightglue = True\n",
    "    use_sift_lightglue = False\n",
    "    use_loftr = False\n",
    "    use_dkm = False\n",
    "    use_superglue = False\n",
    "    use_matchformer = False\n",
    "        \n",
    "    # Keypoints Extraction Parameters\n",
    "    params_aliked_lightglue = {\n",
    "        \"num_features\" : 8192,\n",
    "        \"detection_threshold\" : 0.1,\n",
    "        \"min_matches\" : 100,\n",
    "        \"resize_to\" : 2048,\n",
    "        \"match_confidence_threshold\":0.2\n",
    "    }\n",
    "    \n",
    "    params_doghardnet_lightglue = {\n",
    "        \"num_features\" : 8192,\n",
    "        \"detection_threshold\" : 0.001,\n",
    "        \"min_matches\" : 15,\n",
    "        \"resize_to\" : 1024,\n",
    "    }\n",
    "    \n",
    "    params_superpoint_lightglue = {\n",
    "        \"num_features\" : 8192,\n",
    "        \"detection_threshold\" : 0.1,\n",
    "        \"min_matches\" : 50,\n",
    "        \"resize_to\" : 2048,\n",
    "        \"match_confidence_threshold\":0.2\n",
    "    }\n",
    "    \n",
    "    params_disk_lightglue = {\n",
    "        \"num_features\" : 8192,\n",
    "        \"detection_threshold\" : 0.1,\n",
    "        \"min_matches\" : 100,\n",
    "        \"resize_to\" : 2048,\n",
    "        \"match_confidence_threshold\":0.2\n",
    "    }\n",
    "\n",
    "    params_sift_lightglue = {\n",
    "        \"num_features\" : 8192,\n",
    "        \"detection_threshold\" : 0.001,\n",
    "        \"min_matches\" : 15,\n",
    "        \"resize_to\" : 1024,\n",
    "    }\n",
    "\n",
    "    params_loftr = {\n",
    "        \"resize_small_edge_to\" : 750,\n",
    "        \"min_matches\" : 15,\n",
    "    }\n",
    "    \n",
    "    params_dkm = {\n",
    "        \"num_features\" : 2048,\n",
    "        \"detection_threshold\" : 0.4,\n",
    "        \"min_matches\" : 15,\n",
    "        \"resize_to\" : (540, 720),    \n",
    "    }\n",
    "    \n",
    "    # superpoint + superglue  ...  https://www.kaggle.com/competitions/image-matching-challenge-2023/discussion/416873\n",
    "    params_sg1 = {\n",
    "        \"sg_config\" : \n",
    "        {\n",
    "            \"superpoint\": {\n",
    "                \"nms_radius\": 4, \n",
    "                \"keypoint_threshold\": 0.005,\n",
    "                \"max_keypoints\": -1,\n",
    "            },\n",
    "            \"superglue\": {\n",
    "                \"weights\": \"outdoor\",\n",
    "                \"sinkhorn_iterations\": 20,\n",
    "                \"match_threshold\": 0.2,\n",
    "            },\n",
    "        },\n",
    "        \"resize_to\": 1088,\n",
    "        \"min_matches\": 15,\n",
    "    }\n",
    "    params_sg2 = {\n",
    "        \"sg_config\" : \n",
    "        {\n",
    "            \"superpoint\": {\n",
    "                \"nms_radius\": 4, \n",
    "                \"keypoint_threshold\": 0.005,\n",
    "                \"max_keypoints\": -1,\n",
    "            },\n",
    "            \"superglue\": {\n",
    "                \"weights\": \"outdoor\",\n",
    "                \"sinkhorn_iterations\": 20,\n",
    "                \"match_threshold\": 0.2,\n",
    "            },\n",
    "        },\n",
    "        \"resize_to\": 1280,\n",
    "        \"min_matches\": 15,\n",
    "    }\n",
    "    params_sg3 = {\n",
    "        \"sg_config\" : \n",
    "        {\n",
    "            \"superpoint\": {\n",
    "                \"nms_radius\": 4, \n",
    "                \"keypoint_threshold\": 0.005,\n",
    "                \"max_keypoints\": -1,\n",
    "            },\n",
    "            \"superglue\": {\n",
    "                \"weights\": \"outdoor\",\n",
    "                \"sinkhorn_iterations\": 20,\n",
    "                \"match_threshold\": 0.2,\n",
    "            },\n",
    "        },\n",
    "        \"resize_to\": 1376,\n",
    "        \"min_matches\": 15,\n",
    "    }\n",
    "    params_sgs = [params_sg1, params_sg2, params_sg3]\n",
    "    \n",
    "    params_matchformer = {\n",
    "        \"detection_threshold\" : 0.15,\n",
    "        \"resize_to\" : (560, 750),\n",
    "        \"num_features\" : 2000,\n",
    "        \"min_matches\" : 15, \n",
    "    }"
   ]
  },
  {
   "cell_type": "code",
   "execution_count": 11,
   "id": "7eb81c87",
   "metadata": {
    "execution": {
     "iopub.execute_input": "2025-05-30T07:38:26.378794Z",
     "iopub.status.busy": "2025-05-30T07:38:26.378586Z",
     "iopub.status.idle": "2025-05-30T07:38:26.431077Z",
     "shell.execute_reply": "2025-05-30T07:38:26.430481Z"
    },
    "papermill": {
     "duration": 0.060926,
     "end_time": "2025-05-30T07:38:26.432193",
     "exception": false,
     "start_time": "2025-05-30T07:38:26.371267",
     "status": "completed"
    },
    "tags": []
   },
   "outputs": [],
   "source": [
    "# Assume these are available from your environment or previous code\n",
    "# from .utils import load_torch_image # Assuming load_torch_image is defined elsewhere\n",
    "# from kornia.feature import ALIKED # Already in your detect_aliked\n",
    "# from kornia.feature import LightGlueMatcher as KF_LightGlueMatcher # Already in your match_with_lightglue\n",
    "# from kornia.geometry import laf_from_center_scale_ori # Already in your match_with_lightglue\n",
    "# from colmap_database import COLMAPDatabase, add_keypoints, add_matches # Already in your colmap_import\n",
    "\n",
    "# --- Helper function for image loading (if not already defined) ---\n",
    "def load_torch_image(fname, device=torch.device('cpu')):\n",
    "    img = K.io.load_image(fname, K.io.ImageLoadType.RGB32, device=device)[None, ...]\n",
    "    return img\n",
    "def get_dino_patch_features_for_keypoints(img_path, keypoints_xy, dino_processor, dino_model, patch_size=16, device=torch.device('cpu')):\n",
    "    \"\"\"\n",
    "    Extracts DINO patch features corresponding to given ALIKED keypoint locations.\n",
    "    It correctly infers the DINO patch grid dimensions from the processed input.\n",
    "\n",
    "    Args:\n",
    "        img_path (str): Path to the image file.\n",
    "        keypoints_xy (torch.Tensor): Nx2 tensor of (x, y) keypoint coordinates in image pixel space.\n",
    "                                     These keypoints are assumed to be in the original image's coordinate system.\n",
    "        dino_processor: HuggingFace AutoImageProcessor for DINO.\n",
    "        dino_model: HuggingFace AutoModel for DINO.\n",
    "        patch_size (int): The patch size used by the DINO model (e.g., 14 or 16).\n",
    "        device (torch.device): Device to run the models on.\n",
    "\n",
    "    Returns:\n",
    "        torch.Tensor: NxD_dino tensor of DINO patch features for each keypoint.\n",
    "                      Returns None if no keypoints or image loading fails.\n",
    "    \"\"\"\n",
    "    if len(keypoints_xy) == 0:\n",
    "        dino_feature_dim = dino_model.config.hidden_size # Get actual DINO hidden size\n",
    "        return torch.empty((0, dino_feature_dim), device=device)\n",
    "\n",
    "    # 1. Load the original image (ALIKED processed this size)\n",
    "    original_img = load_torch_image(img_path, device=device)\n",
    "    original_h, original_w = original_img.shape[-2], original_img.shape[-1]\n",
    "\n",
    "\n",
    "    # 2. Process the image with DINO's processor\n",
    "    #    This step performs resizing, padding, etc., as needed by the DINO model\n",
    "    with torch.inference_mode():\n",
    "        # dino_processor returns a BatchFeature object which includes pixel_values\n",
    "        # and potentially other information like `pixel_mask`\n",
    "        inputs = dino_processor(images=original_img, return_tensors=\"pt\", do_rescale=False).to(device)\n",
    "        outputs = dino_model(**inputs)\n",
    "\n",
    "        # Get the actual dimensions of the image as processed by the DINO model\n",
    "        # This is the crucial part: the actual H and W that produced `patch_tokens`\n",
    "        # We can infer this from the `pixel_values` shape\n",
    "        processed_h = inputs['pixel_values'].shape[-2]\n",
    "        processed_w = inputs['pixel_values'].shape[-1]\n",
    "\n",
    "        # Extract patch tokens (excluding the CLS token)\n",
    "        patch_tokens = outputs.last_hidden_state[:, 1:].squeeze(0) # Shape: (num_patches, hidden_size)\n",
    "\n",
    "        # Calculate the actual grid dimensions based on the *processed* image size\n",
    "        # and the model's patch size.\n",
    "        # This should perfectly match the number of patch_tokens if the model is well-behaved.\n",
    "        num_patches_h = processed_h // patch_size\n",
    "        num_patches_w = processed_w // patch_size\n",
    "\n",
    "        # Safety check: ensure calculated grid matches actual token count\n",
    "        expected_token_count = num_patches_h * num_patches_w\n",
    "        if patch_tokens.shape[0] != expected_token_count:\n",
    "            # This indicates a deeper issue with how the model's output tokens\n",
    "            # map to the spatial grid, or an unexpected patch size/model behavior.\n",
    "            # Some models might have slightly different patch token arrangements.\n",
    "            # DINOv2 typically aligns well.\n",
    "            raise ValueError(\n",
    "                f\"DINO patch token count ({patch_tokens.shape[0]}) does not match \"\n",
    "                f\"expected grid dimensions ({num_patches_h}x{num_patches_w} = {expected_token_count}) \"\n",
    "                f\"for processed image size {processed_w}x{processed_h} with patch size {patch_size}. \"\n",
    "                f\"Please verify DINO model and processor configuration.\"\n",
    "            )\n",
    "\n",
    "        # Reshape patch tokens into a 2D grid\n",
    "        patch_features_grid = patch_tokens.reshape(num_patches_h, num_patches_w, -1)\n",
    "        dino_feature_dim = patch_features_grid.shape[-1] # Actual feature dimension\n",
    "\n",
    "\n",
    "    dino_features_for_kpts = torch.zeros((len(keypoints_xy), dino_feature_dim), device=device)\n",
    "\n",
    "    # 3. Rescale ALIKED keypoints to the DINO *processed* image dimensions\n",
    "    #    ALIKED keypoints are in original_w x original_h coordinates.\n",
    "    #    DINO patches correspond to processed_w x processed_h coordinates.\n",
    "    scale_x = processed_w / original_w\n",
    "    scale_y = processed_h / original_h\n",
    "\n",
    "    scaled_keypoints_xy = keypoints_xy.clone()\n",
    "    scaled_keypoints_xy[:, 0] *= scale_x\n",
    "    scaled_keypoints_xy[:, 1] *= scale_y\n",
    "\n",
    "    # 4. Map scaled keypoints to DINO patch grid indices\n",
    "    keypoint_cols = (scaled_keypoints_xy[:, 0] / patch_size).long()\n",
    "    keypoint_rows = (scaled_keypoints_xy[:, 1] / patch_size).long()\n",
    "\n",
    "    # Clip indices to ensure they are within bounds of the patch grid\n",
    "    keypoint_rows = torch.clamp(keypoint_rows, 0, num_patches_h - 1)\n",
    "    keypoint_cols = torch.clamp(keypoint_cols, 0, num_patches_w - 1)\n",
    "\n",
    "    # Gather DINO features for each keypoint's corresponding patch\n",
    "    dino_features_for_kpts = patch_features_grid[keypoint_rows, keypoint_cols]\n",
    "\n",
    "    return dino_features_for_kpts\n",
    "\n",
    "\n",
    "def convert_coord(r, w, h, rotk):\n",
    "    if rotk == 0:\n",
    "        return r\n",
    "    elif rotk == 1:\n",
    "        rx = w-1-r[:, 1]\n",
    "        ry = r[:, 0]\n",
    "        return torch.concat([rx[None], ry[None]], dim=0).T\n",
    "    elif rotk == 2:\n",
    "        rx = w-1-r[:, 0]\n",
    "        ry = h-1-r[:, 1]\n",
    "        return torch.concat([rx[None], ry[None]], dim=0).T\n",
    "    elif rotk == 3:\n",
    "        rx = r[:, 1]\n",
    "        ry = h-1-r[:, 0]\n",
    "        return torch.concat([rx[None], ry[None]], dim=0).T\n",
    "\n",
    "def detect_common(img_fnames,\n",
    "                  model_name,\n",
    "                  rots,\n",
    "                  file_keypoints,\n",
    "                  feature_dir = '.featureout',\n",
    "                  num_features = 4096,\n",
    "                  resize_to = 1024,\n",
    "                  detection_threshold = 0.01,\n",
    "                  device=torch.device('cpu'),\n",
    "                  min_matches=15,\n",
    "                  match_confidence_threshold = 0.0,\n",
    "                  verbose=VERBOSE\n",
    "                 ):\n",
    "    if not os.path.isdir(feature_dir):\n",
    "        os.makedirs(feature_dir)\n",
    "\n",
    "    #####################################################\n",
    "    # Extract keypoints and descriptions\n",
    "    #####################################################\n",
    "    dict_model = {\n",
    "        \"aliked\" : ALIKED,\n",
    "        \"superpoint\" : SuperPoint,\n",
    "        \"doghardnet\" : DoGHardNet,\n",
    "        \"disk\" : DISK,\n",
    "        \"sift\" : SIFT,\n",
    "    }\n",
    "    extractor_class = dict_model[model_name]\n",
    "    dtype = torch.float32 # ALIKED has issues with float16\n",
    "    # extractor = extractor_class(max_num_keypoints=num_features, detection_threshold=detection_threshold, \n",
    "    #                             resize=resize_to).eval().to(device, dtype)\n",
    "    # if model_name == 'disk':\n",
    "    #     extractor = DISK(\n",
    "    #         max_num_keypoints=num_features,\n",
    "    #         detection_threshold=detection_threshold,\n",
    "    #         resize=resize_to\n",
    "    #     ).to(device).eval()\n",
    "    #     checkpoint = torch.load(ckpt_path, map_location=device)\n",
    "    #     extractor.load_state_dict(checkpoint['model'])\n",
    "    # else:\n",
    "    #     extractor_class = dict_model[model_name]\n",
    "    #     extractor = extractor_class(\n",
    "    #         max_num_keypoints=num_features,\n",
    "    #         detection_threshold=detection_threshold,\n",
    "    #         resize=resize_to\n",
    "    #     ).to(device, dtype).eval()\n",
    "\n",
    "    extractor_class = dict_model[model_name]\n",
    "    extractor = extractor_class(\n",
    "        max_num_keypoints=num_features,\n",
    "        detection_threshold=detection_threshold,\n",
    "        resize=resize_to\n",
    "    ).to(device, dtype).eval()\n",
    "    dict_kpts_cuda = {}\n",
    "    dict_descs_cuda = {}\n",
    "    for (img_path, rot_k) in zip(img_fnames, rots):\n",
    "        img_fname = img_path.split('/')[-1]\n",
    "        key = img_fname\n",
    "        with torch.inference_mode():\n",
    "            image0 = load_torch_image(img_path, device=device).to(dtype)\n",
    "            h, w = image0.shape[2], image0.shape[3]\n",
    "            image1 = torch.rot90(image0, rot_k, [2, 3])\n",
    "            feats0 = extractor.extract(image1)  # auto-resize the image, disable with resize=None\n",
    "            kpts = feats0['keypoints'].reshape(-1, 2).detach()\n",
    "            descs = feats0['descriptors'].reshape(len(kpts), -1).detach()\n",
    "            kpts = convert_coord(kpts, w, h, rot_k)\n",
    "            dict_kpts_cuda[f\"{key}\"] = kpts\n",
    "            dict_descs_cuda[f\"{key}\"] = descs\n",
    "            if verbose:\n",
    "                print(f\"{model_name} > rot_k={rot_k}, kpts.shape={kpts.shape}, descs.shape={descs.shape}\")\n",
    "    del extractor\n",
    "    gc.collect()\n",
    "\n",
    "    #####################################################\n",
    "    # Matching keypoints\n",
    "    #####################################################\n",
    "    lg_matcher = KF.LightGlueMatcher(model_name, {\"width_confidence\": -1,\n",
    "                                            \"depth_confidence\": -1,\n",
    "                                            \"filter_threshold\":match_confidence_threshold,\n",
    "                                             \"mp\": True if 'cuda' in str(device) else False}).eval().to(device)\n",
    "    \n",
    "    cnt_pairs = 0\n",
    "    with h5py.File(file_keypoints, mode='w') as f_match:\n",
    "        for pair_idx in tqdm(index_pairs):\n",
    "            idx1, idx2 = pair_idx\n",
    "            fname1, fname2 = img_fnames[idx1], img_fnames[idx2]\n",
    "            \n",
    "            key1, key2 = fname1.split('/')[-1], fname2.split('/')[-1]\n",
    "            \n",
    "            kp1 = dict_kpts_cuda[key1]\n",
    "            kp2 = dict_kpts_cuda[key2]\n",
    "            desc1 = dict_descs_cuda[key1]\n",
    "            desc2 = dict_descs_cuda[key2]\n",
    "            with torch.inference_mode():\n",
    "                try:\n",
    "                    dists, idxs = lg_matcher(desc1,\n",
    "                                              desc2,\n",
    "                                              KF.laf_from_center_scale_ori(kp1[None]),\n",
    "                                              KF.laf_from_center_scale_ori(kp2[None]))\n",
    "                except Exception as e:\n",
    "                    print(\"!!!!!!!!!!!!!!!!!!!!!!!!!!!!!!!!!!!!!!!!!!!!!\")\n",
    "                    print(f\"LightGlueMatcher failed on {key1}-{key2}\")\n",
    "                    print(f\"desc1.shape={desc1.shape}, desc2.shape={desc2.shape}\")\n",
    "                    print(f\"kp1.shape={kp1.shape}, kp2.shape={kp2.shape}\")\n",
    "                    continue\n",
    "            if len(idxs)  == 0:\n",
    "                continue\n",
    "            len1 = len(idxs)\n",
    "            n_matches = len1\n",
    "            kp1 = kp1[idxs[:,0], :].cpu().numpy().reshape(-1, 2).astype(np.float32)\n",
    "            kp2 = kp2[idxs[:,1], :].cpu().numpy().reshape(-1, 2).astype(np.float32)\n",
    "            group  = f_match.require_group(key1)\n",
    "            if n_matches >= min_matches:\n",
    "                group.create_dataset(key2, data=np.concatenate([kp1, kp2], axis=1))\n",
    "                cnt_pairs+=1\n",
    "                if verbose:\n",
    "                    print (f'{model_name}> {key1}-{key2}: {n_matches} matches @ {cnt_pairs}th pair({model_name}+lightglue)')            \n",
    "            else:\n",
    "                pass\n",
    "                # if verbose:\n",
    "                #     print (f'{model_name}> {key1}-{key2}: {n_matches} matches --> skipped')\n",
    "    del lg_matcher\n",
    "    torch.cuda.empty_cache()\n",
    "    gc.collect()\n",
    "    return\n",
    "\n",
    "def detect_lightglue_common(\n",
    "    img_fnames, model_name, index_pairs, feature_dir, device, file_keypoints, rots,\n",
    "    resize_to=1024,\n",
    "    detection_threshold=0.01, \n",
    "    num_features=4096, \n",
    "    min_matches=15,\n",
    "    match_confidence_threshold = 0.0\n",
    "):\n",
    "    t=time()\n",
    "    detect_common(\n",
    "        img_fnames, model_name, rots, file_keypoints, feature_dir, \n",
    "        resize_to=resize_to,\n",
    "        num_features=num_features, \n",
    "        detection_threshold=detection_threshold, \n",
    "        device=device,\n",
    "        min_matches=min_matches,\n",
    "        match_confidence_threshold = match_confidence_threshold\n",
    "    )\n",
    "    gc.collect()\n",
    "    t=time() -t \n",
    "    print(f'Features matched in  {t:.4f} sec ({model_name}+LightGlue)')\n",
    "    return t\n",
    "\n",
    "def get_unique_idxs(A, dim=0):\n",
    "    # https://stackoverflow.com/questions/72001505/how-to-get-unique-elements-and-their-firstly-appeared-indices-of-a-pytorch-tenso\n",
    "    unique, idx, counts = torch.unique(A, dim=dim, sorted=True, return_inverse=True, return_counts=True)\n",
    "    _, ind_sorted = torch.sort(idx, stable=True)\n",
    "    cum_sum = counts.cumsum(0)\n",
    "    cum_sum = torch.cat((torch.tensor([0],device=cum_sum.device), cum_sum[:-1]))\n",
    "    first_indices = ind_sorted[cum_sum]\n",
    "    return first_indices\n",
    "\n",
    "def get_keypoint_from_h5(fp, key1, key2):\n",
    "    rc = -1\n",
    "    try:\n",
    "        kpts = np.array(fp[key1][key2])\n",
    "        rc = 0\n",
    "        return (rc, kpts)\n",
    "    except:\n",
    "        return (rc, None)\n",
    "\n",
    "def get_keypoint_from_multi_h5(fps, key1, key2):\n",
    "    list_mkpts = []\n",
    "    for fp in fps:\n",
    "        rc, mkpts = get_keypoint_from_h5(fp, key1, key2)\n",
    "        if rc == 0:\n",
    "            list_mkpts.append(mkpts)\n",
    "    if len(list_mkpts) > 0:\n",
    "        list_mkpts = np.concatenate(list_mkpts, axis=0)\n",
    "    else:\n",
    "        list_mkpts = None\n",
    "    return list_mkpts\n",
    "\n",
    "def matches_merger(\n",
    "    img_fnames,\n",
    "    index_pairs,\n",
    "    files_keypoints,\n",
    "    save_file,\n",
    "    feature_dir = 'featureout',\n",
    "    filter_FundamentalMatrix = False,\n",
    "    filter_iterations = 10,\n",
    "    filter_threshold = 8,\n",
    "    verbose = VERBOSE\n",
    "):\n",
    "    # open h5 files\n",
    "    fps = [ h5py.File(file, mode=\"r\") for file in files_keypoints ]\n",
    "\n",
    "    with h5py.File(save_file, mode='w') as f_match:\n",
    "        counter = 0\n",
    "        for pair_idx in progress_bar(index_pairs):\n",
    "            idx1, idx2 = pair_idx\n",
    "            fname1, fname2 = img_fnames[idx1], img_fnames[idx2]\n",
    "            key1, key2 = fname1.split('/')[-1], fname2.split('/')[-1]\n",
    "\n",
    "            # extract keypoints\n",
    "            mkpts = get_keypoint_from_multi_h5(fps, key1, key2)\n",
    "            if mkpts is None:\n",
    "                # if verbose:\n",
    "                #     print(f\"skipped key1={key1}, key2={key2}\")\n",
    "                continue\n",
    "\n",
    "            ori_size = mkpts.shape[0]\n",
    "            if mkpts.shape[0] < CONFIG.MERGE_PARAMS[\"min_matches\"]:\n",
    "                continue\n",
    "            \n",
    "            if filter_FundamentalMatrix:\n",
    "                store_inliers = { idx:0 for idx in range(mkpts.shape[0]) }\n",
    "                idxs = np.array(range(mkpts.shape[0]))\n",
    "                for iter in range(filter_iterations):\n",
    "                    try:\n",
    "                        Fm, inliers = cv2.findFundamentalMat(\n",
    "                            mkpts[:,:2], mkpts[:,2:4], cv2.USAC_MAGSAC, 3, 0.9999, 20000)\n",
    "                        if Fm is not None:\n",
    "                            inliers = inliers > 0\n",
    "                            inlier_idxs = idxs[inliers[:, 0]]\n",
    "                            #print(inliers.shape, inlier_idxs[:5])\n",
    "                            for idx in inlier_idxs:\n",
    "                                store_inliers[idx] += 1\n",
    "                    except:\n",
    "                        print(f\"Failed to cv2.findFundamentalMat. mkpts.shape={mkpts.shape}\")\n",
    "                inliers = np.array([ count for (idx, count) in store_inliers.items() ]) >= filter_threshold\n",
    "                mkpts = mkpts[inliers]\n",
    "                if mkpts.shape[0] < 15:\n",
    "                    if verbose:\n",
    "                        print(f\"skipped key1={key1}, key2={key2}: mkpts.shape={mkpts.shape} after filtered.\")\n",
    "                    continue\n",
    "                if verbose:\n",
    "                    print(f\"filter_FundamentalMatrix: {len(store_inliers)} matches --> {mkpts.shape[0]} matches\")\n",
    "            \n",
    "            if verbose:\n",
    "                print (f'{key1}-{key2}: {ori_size} --> {mkpts.shape[0]} matches')            \n",
    "            # regist tmp file\n",
    "            group  = f_match.require_group(key1)\n",
    "            group.create_dataset(key2, data=mkpts)\n",
    "            counter += 1\n",
    "    print( f\"Ensembled pairs : {counter} pairs\" )\n",
    "    for fp in fps:\n",
    "        fp.close()\n",
    "\n",
    "def keypoints_merger(\n",
    "    img_fnames,\n",
    "    index_pairs,\n",
    "    files_keypoints,\n",
    "    feature_dir = 'featureout',\n",
    "    filter_FundamentalMatrix = False,\n",
    "    filter_iterations = 10,\n",
    "    filter_threshold = 8,\n",
    "):\n",
    "    save_file = f'{feature_dir}/merge_tmp.h5'\n",
    "    !rm -rf {save_file}\n",
    "    matches_merger(\n",
    "        img_fnames,\n",
    "        index_pairs,\n",
    "        files_keypoints,\n",
    "        save_file,\n",
    "        feature_dir = feature_dir,\n",
    "        filter_FundamentalMatrix = filter_FundamentalMatrix,\n",
    "        filter_iterations = filter_iterations,\n",
    "        filter_threshold = filter_threshold,\n",
    "    )\n",
    "        \n",
    "    # Let's find unique loftr pixels and group them together.\n",
    "    kpts = defaultdict(list)\n",
    "    match_indexes = defaultdict(dict)\n",
    "    total_kpts=defaultdict(int)\n",
    "    with h5py.File(save_file, mode='r') as f_match:\n",
    "        for k1 in f_match.keys():\n",
    "            group  = f_match[k1]\n",
    "            for k2 in group.keys():\n",
    "                matches = group[k2][...]\n",
    "                total_kpts[k1]\n",
    "                kpts[k1].append(matches[:, :2])\n",
    "                kpts[k2].append(matches[:, 2:])\n",
    "                current_match = torch.arange(len(matches)).reshape(-1, 1).repeat(1, 2)\n",
    "                current_match[:, 0]+=total_kpts[k1]\n",
    "                current_match[:, 1]+=total_kpts[k2]\n",
    "                total_kpts[k1]+=len(matches)\n",
    "                total_kpts[k2]+=len(matches)\n",
    "                match_indexes[k1][k2]=current_match\n",
    "\n",
    "    for k in kpts.keys():\n",
    "        kpts[k] = np.round(np.concatenate(kpts[k], axis=0))\n",
    "    unique_kpts = {}\n",
    "    unique_match_idxs = {}\n",
    "    out_match = defaultdict(dict)\n",
    "    for k in kpts.keys():\n",
    "        uniq_kps, uniq_reverse_idxs = torch.unique(torch.from_numpy(kpts[k]),dim=0, return_inverse=True)\n",
    "        unique_match_idxs[k] = uniq_reverse_idxs\n",
    "        unique_kpts[k] = uniq_kps.numpy()\n",
    "    for k1, group in match_indexes.items():\n",
    "        for k2, m in group.items():\n",
    "            m2 = deepcopy(m)\n",
    "            m2[:,0] = unique_match_idxs[k1][m2[:,0]]\n",
    "            m2[:,1] = unique_match_idxs[k2][m2[:,1]]\n",
    "            mkpts = np.concatenate([unique_kpts[k1][ m2[:,0]],\n",
    "                                    unique_kpts[k2][  m2[:,1]],\n",
    "                                   ],\n",
    "                                   axis=1)\n",
    "            unique_idxs_current = get_unique_idxs(torch.from_numpy(mkpts), dim=0)\n",
    "            m2_semiclean = m2[unique_idxs_current]\n",
    "            unique_idxs_current1 = get_unique_idxs(m2_semiclean[:, 0], dim=0)\n",
    "            m2_semiclean = m2_semiclean[unique_idxs_current1]\n",
    "            unique_idxs_current2 = get_unique_idxs(m2_semiclean[:, 1], dim=0)\n",
    "            m2_semiclean2 = m2_semiclean[unique_idxs_current2]\n",
    "            out_match[k1][k2] = m2_semiclean2.numpy()\n",
    "    with h5py.File(f'{feature_dir}/keypoints.h5', mode='w') as f_kp:\n",
    "        for k, kpts1 in unique_kpts.items():\n",
    "            f_kp[k] = kpts1\n",
    "    \n",
    "    with h5py.File(f'{feature_dir}/matches.h5', mode='w') as f_match:\n",
    "        for k1, gr in out_match.items():\n",
    "            group  = f_match.require_group(k1)\n",
    "            for k2, match in gr.items():\n",
    "                group[k2] = match\n",
    "                # print(f\"KKKKKKK KKKKKK {k1} - {k2}: {len(match)} matches\")\n",
    "    return"
   ]
  },
  {
   "cell_type": "code",
   "execution_count": 12,
   "id": "aa38a1d9",
   "metadata": {
    "execution": {
     "iopub.execute_input": "2025-05-30T07:38:26.446359Z",
     "iopub.status.busy": "2025-05-30T07:38:26.446125Z",
     "iopub.status.idle": "2025-05-30T07:38:26.449242Z",
     "shell.execute_reply": "2025-05-30T07:38:26.448441Z"
    },
    "papermill": {
     "duration": 0.011768,
     "end_time": "2025-05-30T07:38:26.450538",
     "exception": false,
     "start_time": "2025-05-30T07:38:26.438770",
     "status": "completed"
    },
    "tags": []
   },
   "outputs": [],
   "source": [
    "# !rm -rf /kaggle/working/result"
   ]
  },
  {
   "cell_type": "code",
   "execution_count": 13,
   "id": "b4138326",
   "metadata": {
    "execution": {
     "iopub.execute_input": "2025-05-30T07:38:26.464623Z",
     "iopub.status.busy": "2025-05-30T07:38:26.464399Z",
     "iopub.status.idle": "2025-05-30T07:38:26.471608Z",
     "shell.execute_reply": "2025-05-30T07:38:26.470732Z"
    },
    "papermill": {
     "duration": 0.015525,
     "end_time": "2025-05-30T07:38:26.472807",
     "exception": false,
     "start_time": "2025-05-30T07:38:26.457282",
     "status": "completed"
    },
    "tags": []
   },
   "outputs": [],
   "source": [
    "# --- MODIFIED: Detect ALIKED and Combine with DINO Patch Features ---\n",
    "def detect_aliked_and_combine_with_dino(img_fnames,\n",
    "                                        feature_dir='.featureout',\n",
    "                                        num_features=4096,\n",
    "                                        resize_to=1024,\n",
    "                                        dino_processor=None,\n",
    "                                        dino_model=None,\n",
    "                                        dino_patch_size=16, # Typically 14 or 16 for DINO\n",
    "                                        device=torch.device('cpu')):\n",
    "    dtype = torch.float32 # ALIKED has issues with float16\n",
    "    aliked_extractor = ALIKED(max_num_keypoints=num_features, detection_threshold=0.1).eval().to(device, dtype)\n",
    "    aliked_extractor.preprocess_conf[\"resize\"] = resize_to\n",
    "    if not os.path.isdir(feature_dir):\n",
    "        os.makedirs(feature_dir)\n",
    "\n",
    "    with h5py.File(f'{feature_dir}/keypoints.h5', mode='w') as f_kp, \\\n",
    "         h5py.File(f'{feature_dir}/descriptors_aliked.h5', mode='w') as f_desc_aliked, \\\n",
    "         h5py.File(f'{feature_dir}/descriptors_combined.h5', mode='w') as f_desc_combined: # New HDF5 for combined features\n",
    "        for img_path in tqdm(img_fnames):\n",
    "            img_fname = img_path.split('/')[-1]\n",
    "            key = img_fname\n",
    "\n",
    "            with torch.inference_mode():\n",
    "                image0 = load_torch_image(img_path, device=device).to(dtype)\n",
    "                feats0 = aliked_extractor.extract(image0)\n",
    "                kpts = feats0['keypoints'].reshape(-1, 2).detach().cpu().numpy() # ALIKED keypoints (x,y)\n",
    "                descs_aliked = feats0['descriptors'].reshape(len(kpts), -1).detach().cpu().numpy() # ALIKED descriptors\n",
    "\n",
    "                # Get DINO patch features for these keypoints\n",
    "                kpts_torch = torch.from_numpy(kpts).to(device)\n",
    "                descs_dino_patch = get_dino_patch_features_for_keypoints(\n",
    "                    img_path, kpts_torch, dino_processor, dino_model, dino_patch_size, device\n",
    "                ).detach().cpu().numpy()\n",
    "\n",
    "                # Concatenate ALIKED and DINO features\n",
    "                if len(descs_aliked) > 0 and len(descs_dino_patch) > 0:\n",
    "                    combined_descs = np.concatenate((descs_aliked, descs_dino_patch), axis=1)\n",
    "                elif len(descs_aliked) > 0: # Only ALIKED if no DINO features (shouldn't happen often)\n",
    "                    combined_descs = descs_aliked\n",
    "                else: # No features found\n",
    "                    combined_descs = np.array([]) # Empty array\n",
    "\n",
    "                f_kp[key] = kpts\n",
    "                f_desc_aliked[key] = descs_aliked # Keep ALIKED descriptors for debugging or other uses\n",
    "                f_desc_combined[key] = combined_descs # Store the new combined descriptors\n",
    "    print(f\"Combined features saved to {feature_dir}/descriptors_combined.h5\")\n",
    "    return"
   ]
  },
  {
   "cell_type": "code",
   "execution_count": 14,
   "id": "9aa2e297",
   "metadata": {
    "execution": {
     "iopub.execute_input": "2025-05-30T07:38:26.487785Z",
     "iopub.status.busy": "2025-05-30T07:38:26.487553Z",
     "iopub.status.idle": "2025-05-30T07:38:27.054179Z",
     "shell.execute_reply": "2025-05-30T07:38:27.053496Z"
    },
    "papermill": {
     "duration": 0.57565,
     "end_time": "2025-05-30T07:38:27.055713",
     "exception": false,
     "start_time": "2025-05-30T07:38:26.480063",
     "status": "completed"
    },
    "tags": []
   },
   "outputs": [],
   "source": [
    "from sklearn.cluster import MiniBatchKMeans # MiniBatchKMeans is faster for large datasets\n",
    "\n",
    "# --- VLAD Aggregation Function ---\n",
    "def vlad_encode(descriptors, centroids):\n",
    "    \"\"\"\n",
    "    Performs VLAD encoding.\n",
    "\n",
    "    Args:\n",
    "        descriptors (np.ndarray): NxM array of local descriptors.\n",
    "        centroids (np.ndarray): KxM array of K-Means cluster centroids.\n",
    "\n",
    "    Returns:\n",
    "        np.ndarray: 1x(K*M) VLAD descriptor.\n",
    "    \"\"\"\n",
    "    if descriptors.shape[0] == 0:\n",
    "        return np.zeros(centroids.shape[0] * centroids.shape[1], dtype=np.float32)\n",
    "\n",
    "    num_descriptors, desc_dim = descriptors.shape\n",
    "    num_centroids, _ = centroids.shape\n",
    "\n",
    "    # Assign each descriptor to its nearest centroid\n",
    "    # Using cdist for efficiency\n",
    "    distances = np.sqrt(np.sum((descriptors[:, None, :] - centroids[None, :, :])**2, axis=2))\n",
    "    # distances = cdist(descriptors, centroids, 'sqeuclidean') # Could use cdist for sqeuclidean\n",
    "    cluster_assignments = np.argmin(distances, axis=1)\n",
    "\n",
    "    # Initialize VLAD accumulator\n",
    "    vlad_accumulator = np.zeros((num_centroids, desc_dim), dtype=np.float32)\n",
    "\n",
    "    # Accumulate residuals\n",
    "    for i in range(num_descriptors):\n",
    "        cluster_idx = cluster_assignments[i]\n",
    "        residual = descriptors[i] - centroids[cluster_idx]\n",
    "        vlad_accumulator[cluster_idx] += residual\n",
    "\n",
    "    # Flatten and L2 normalize\n",
    "    vlad_descriptor = vlad_accumulator.flatten()\n",
    "    vlad_descriptor = F.normalize(torch.from_numpy(vlad_descriptor).unsqueeze(0), dim=1, p=2).squeeze(0).numpy()\n",
    "\n",
    "    return vlad_descriptor"
   ]
  },
  {
   "cell_type": "code",
   "execution_count": 15,
   "id": "3039662c",
   "metadata": {
    "execution": {
     "iopub.execute_input": "2025-05-30T07:38:27.070894Z",
     "iopub.status.busy": "2025-05-30T07:38:27.070639Z",
     "iopub.status.idle": "2025-05-30T07:38:27.078313Z",
     "shell.execute_reply": "2025-05-30T07:38:27.077505Z"
    },
    "papermill": {
     "duration": 0.016474,
     "end_time": "2025-05-30T07:38:27.079491",
     "exception": false,
     "start_time": "2025-05-30T07:38:27.063017",
     "status": "completed"
    },
    "tags": []
   },
   "outputs": [],
   "source": [
    "# --- NEW: Get Global Descriptors using K-Means + VLAD ---\n",
    "def get_global_desc_vlad(fnames, feature_dir='.featureout', num_clusters=64, device=torch.device('cpu')):\n",
    "    \"\"\"\n",
    "    Generates global descriptors for images using K-Means + VLAD on combined ALIKED+DINO features.\n",
    "\n",
    "    Args:\n",
    "        fnames (list): List of image file paths.\n",
    "        feature_dir (str): Directory where combined descriptors are stored.\n",
    "        num_clusters (int): Number of clusters for K-Means (K in VLAD).\n",
    "        device (torch.device): Not directly used for VLAD computation, but passed for consistency.\n",
    "\n",
    "    Returns:\n",
    "        torch.Tensor: Nx(K*M) tensor of global VLAD descriptors.\n",
    "    \"\"\"\n",
    "    all_local_descs = []\n",
    "    keys_order = [] # To maintain order of descriptors with respect to fnames\n",
    "\n",
    "    # 1. Load all combined local descriptors\n",
    "    with h5py.File(f'{feature_dir}/descriptors_combined.h5', mode='r') as f_desc_combined:\n",
    "        for img_path in tqdm(fnames, desc=\"Loading combined local descriptors for K-Means\"):\n",
    "            key = img_path.split('/')[-1]\n",
    "            if key in f_desc_combined:\n",
    "                descs = f_desc_combined[key][...]\n",
    "                if descs.shape[0] > 0:\n",
    "                    all_local_descs.append(descs)\n",
    "                    keys_order.append(key)\n",
    "\n",
    "    if not all_local_descs:\n",
    "        print(\"No combined local descriptors found. Cannot train K-Means or compute VLAD.\")\n",
    "        return torch.empty((0, num_clusters * 0), dtype=torch.float32) # Return empty tensor\n",
    "\n",
    "    # Concatenate all descriptors for K-Means training\n",
    "    all_local_descs_flat = np.concatenate(all_local_descs, axis=0)\n",
    "\n",
    "    # 2. Train K-Means on a subset of descriptors if the dataset is too large\n",
    "    # Or directly on all_local_descs_flat if memory permits\n",
    "    print(f\"Training K-Means with {num_clusters} clusters on {all_local_descs_flat.shape[0]} descriptors...\")\n",
    "    # Use MiniBatchKMeans for efficiency\n",
    "    kmeans = MiniBatchKMeans(n_clusters=num_clusters, random_state=0, n_init='auto', batch_size=256).fit(all_local_descs_flat)\n",
    "    centroids = kmeans.cluster_centers_\n",
    "    print(\"K-Means training complete.\")\n",
    "\n",
    "    # 3. Compute VLAD descriptor for each image\n",
    "    global_descs_vlad = []\n",
    "    # Re-iterate through original fnames to match the output order\n",
    "    with h5py.File(f'{feature_dir}/descriptors_combined.h5', mode='r') as f_desc_combined:\n",
    "        for img_path in tqdm(fnames, desc=\"Computing VLAD descriptors\"):\n",
    "            key = img_path.split('/')[-1]\n",
    "            if key in f_desc_combined:\n",
    "                descs = f_desc_combined[key][...]\n",
    "                vlad_desc = vlad_encode(descs, centroids)\n",
    "                global_descs_vlad.append(torch.from_numpy(vlad_desc).unsqueeze(0))\n",
    "            else:\n",
    "                # Handle cases where an image might not have any combined descriptors\n",
    "                # (e.g., no ALIKED keypoints detected). Append a zero vector of correct size.\n",
    "                print(f\"Warning: No combined descriptors for {key}. Appending zero VLAD descriptor.\")\n",
    "                # Determine descriptor dimension from centroids\n",
    "                desc_dim_per_cluster = centroids.shape[1] if centroids.shape[1] > 0 else 0 # Should not be 0 normally\n",
    "                zero_vlad = np.zeros(num_clusters * desc_dim_per_cluster, dtype=np.float32)\n",
    "                global_descs_vlad.append(torch.from_numpy(zero_vlad).unsqueeze(0))\n",
    "\n",
    "\n",
    "    if not global_descs_vlad:\n",
    "        return torch.empty((0, num_clusters * centroids.shape[1] if centroids.shape[1] > 0 else 0), dtype=torch.float32)\n",
    "\n",
    "    global_descs_vlad = torch.cat(global_descs_vlad, dim=0)\n",
    "    return global_descs_vlad"
   ]
  },
  {
   "cell_type": "code",
   "execution_count": 16,
   "id": "41095b85",
   "metadata": {
    "execution": {
     "iopub.execute_input": "2025-05-30T07:38:27.093618Z",
     "iopub.status.busy": "2025-05-30T07:38:27.093370Z",
     "iopub.status.idle": "2025-05-30T07:38:27.100711Z",
     "shell.execute_reply": "2025-05-30T07:38:27.099997Z"
    },
    "papermill": {
     "duration": 0.015722,
     "end_time": "2025-05-30T07:38:27.101864",
     "exception": false,
     "start_time": "2025-05-30T07:38:27.086142",
     "status": "completed"
    },
    "tags": []
   },
   "outputs": [],
   "source": [
    "# --- RE-DEFINED: get_image_pairs_shortlist to use the new VLAD global descriptor ---\n",
    "def get_image_pairs_shortlist_vlad(fnames,\n",
    "                                   sim_th=0.6, # should be strict\n",
    "                                   min_pairs=30,\n",
    "                                   exhaustive_if_less=20,\n",
    "                                   feature_dir='.featureout', # Pass feature_dir\n",
    "                                   num_clusters_vlad=64, # New parameter for VLAD\n",
    "                                   device=torch.device('cpu')):\n",
    "    num_imgs = len(fnames)\n",
    "    if num_imgs <= exhaustive_if_less:\n",
    "        return get_img_pairs_exhaustive(fnames) # You need to define get_img_pairs_exhaustive if not done.\n",
    "\n",
    "    # Use the new VLAD-based global descriptor\n",
    "    descs = get_global_desc_vlad(fnames, feature_dir=feature_dir, num_clusters=num_clusters_vlad, device=device)\n",
    "\n",
    "    if descs.shape[0] == 0:\n",
    "        print(\"No global descriptors generated. Returning empty matching list.\")\n",
    "        return []\n",
    "\n",
    "    dm = torch.cdist(descs, descs, p=2).detach().cpu().numpy()\n",
    "\n",
    "    # 只分析上三角（去掉对角线），避免重复\n",
    "    triu_indices = np.triu_indices_from(dm, k=1)\n",
    "    dm_flat = dm[triu_indices]\n",
    "    \n",
    "    # 打印统计信息\n",
    "    print(\"Distance Matrix Statistics:\")\n",
    "    print(f\"Min:  {dm_flat.min():.4f}\")\n",
    "    print(f\"Max:  {dm_flat.max():.4f}\")\n",
    "    print(f\"Mean: {dm_flat.mean():.4f}\")\n",
    "    print(f\"Std:  {dm_flat.std():.4f}\")\n",
    "    print(f\"20%:  {np.percentile(dm_flat, 20):.4f}\")\n",
    "    print(f\"25%:  {np.percentile(dm_flat, 25):.4f}\")\n",
    "    print(f\"USED 60%:  {np.percentile(dm_flat, 60):.4f}\")\n",
    "    print(f\"75%:  {np.percentile(dm_flat, 75):.4f}\")\n",
    "    threshold = np.percentile(dm_flat, 60) + np.sqrt(3) * dm_flat.std()\n",
    "\n",
    "    # removing half\n",
    "    mask = dm <= np.percentile(dm_flat, 60)\n",
    "    total = 0\n",
    "    matching_list = []\n",
    "    ar = np.arange(num_imgs)\n",
    "    already_there_set = set() # Use a set for faster lookup of already added pairs\n",
    "\n",
    "    for st_idx in range(num_imgs - 1):\n",
    "        mask_idx = mask[st_idx]\n",
    "        to_match = ar[mask_idx]\n",
    "        if len(to_match) < min_pairs:\n",
    "            to_match = np.argsort(dm[st_idx])[:min_pairs]\n",
    "\n",
    "        for idx in to_match:\n",
    "            if st_idx == idx:\n",
    "                continue\n",
    "            if dm[st_idx, idx] < threshold: # Ensure distance is not effectively infinite\n",
    "                pair = tuple(sorted((st_idx, idx.item())))\n",
    "                if pair not in already_there_set:\n",
    "                    matching_list.append(pair)\n",
    "                    already_there_set.add(pair)\n",
    "                    total += 1\n",
    "    matching_list = sorted(list(matching_list)) # Sort the list of tuples\n",
    "    return matching_list"
   ]
  },
  {
   "cell_type": "code",
   "execution_count": 17,
   "id": "abf6257d",
   "metadata": {
    "execution": {
     "iopub.execute_input": "2025-05-30T07:38:27.115852Z",
     "iopub.status.busy": "2025-05-30T07:38:27.115608Z",
     "iopub.status.idle": "2025-05-30T07:38:27.119373Z",
     "shell.execute_reply": "2025-05-30T07:38:27.118605Z"
    },
    "papermill": {
     "duration": 0.01202,
     "end_time": "2025-05-30T07:38:27.120610",
     "exception": false,
     "start_time": "2025-05-30T07:38:27.108590",
     "status": "completed"
    },
    "tags": []
   },
   "outputs": [],
   "source": [
    "def get_img_pairs_exhaustive(img_fnames):\n",
    "    index_pairs = []\n",
    "    for i in range(len(img_fnames)):\n",
    "        for j in range(i+1, len(img_fnames)):\n",
    "            index_pairs.append((i,j))\n",
    "    return index_pairs"
   ]
  },
  {
   "cell_type": "code",
   "execution_count": 18,
   "id": "144b31f9",
   "metadata": {
    "execution": {
     "iopub.execute_input": "2025-05-30T07:38:27.134832Z",
     "iopub.status.busy": "2025-05-30T07:38:27.134626Z",
     "iopub.status.idle": "2025-05-30T07:38:27.144204Z",
     "shell.execute_reply": "2025-05-30T07:38:27.143535Z"
    },
    "papermill": {
     "duration": 0.01791,
     "end_time": "2025-05-30T07:38:27.145325",
     "exception": false,
     "start_time": "2025-05-30T07:38:27.127415",
     "status": "completed"
    },
    "tags": []
   },
   "outputs": [],
   "source": [
    "# Must Use efficientnet global descriptor to get matching shortlists.\n",
    "def get_global_desc(fnames, device = torch.device('cpu')):\n",
    "    processor = AutoImageProcessor.from_pretrained('/kaggle/input/dinov2/pytorch/base/1')\n",
    "    model = AutoModel.from_pretrained('/kaggle/input/dinov2/pytorch/base/1')\n",
    "    model = model.eval()\n",
    "    model = model.to(device)\n",
    "    global_descs_dinov2 = []\n",
    "    for i, img_fname_full in tqdm(enumerate(fnames),total= len(fnames)):\n",
    "        key = os.path.splitext(os.path.basename(img_fname_full))[0]\n",
    "        timg = load_torch_image(img_fname_full)\n",
    "        with torch.inference_mode():\n",
    "            inputs = processor(images=timg, return_tensors=\"pt\", do_rescale=False).to(device)\n",
    "            outputs = model(**inputs)\n",
    "            dino_mac = F.normalize(outputs.last_hidden_state[:,1:].max(dim=1)[0], dim=1, p=2)\n",
    "        global_descs_dinov2.append(dino_mac.detach().cpu())\n",
    "    global_descs_dinov2 = torch.cat(global_descs_dinov2, dim=0)\n",
    "    return global_descs_dinov2\n",
    "\n",
    "\n",
    "def get_img_pairs_exhaustive(img_fnames):\n",
    "    index_pairs = []\n",
    "    for i in range(len(img_fnames)):\n",
    "        for j in range(i+1, len(img_fnames)):\n",
    "            index_pairs.append((i,j))\n",
    "    return index_pairs\n",
    "\n",
    "\n",
    "def get_image_pairs_shortlist(fnames,\n",
    "                              sim_th=0.6,\n",
    "                              min_pairs=30,\n",
    "                              max_pairs=100,  # 每张图像最多匹配 max_pairs 个\n",
    "                              exhaustive_if_less=20,\n",
    "                              device=torch.device('cpu')):\n",
    "    num_imgs = len(fnames)\n",
    "    if num_imgs <= exhaustive_if_less:\n",
    "        return get_img_pairs_exhaustive(fnames)\n",
    "\n",
    "    descs = get_global_desc(fnames, device=device)\n",
    "    dm = torch.cdist(descs, descs, p=2).detach().cpu().numpy()\n",
    "\n",
    "    # 上三角分析（排除重复）\n",
    "    triu_indices = np.triu_indices_from(dm, k=1)\n",
    "    dm_flat = dm[triu_indices]\n",
    "\n",
    "    print(\"Distance Matrix Statistics:\")\n",
    "    print(f\"Min:  {dm_flat.min():.4f}\")\n",
    "    print(f\"Max:  {dm_flat.max():.4f}\")\n",
    "    print(f\"Mean: {dm_flat.mean():.4f}\")\n",
    "    print(f\"Std:  {dm_flat.std():.4f}\")\n",
    "    print(f\"20%:  {np.percentile(dm_flat, 20):.4f}\")\n",
    "    print(f\"25%:  {np.percentile(dm_flat, 25):.4f}\")\n",
    "    print(f\"60%:  {np.percentile(dm_flat, 60):.4f}\")\n",
    "    print(f\"75%:  {np.percentile(dm_flat, 75):.4f}\")\n",
    "\n",
    "    threshold = np.percentile(dm_flat, 60) + np.sqrt(3) * dm_flat.std()\n",
    "    mask = dm <= np.percentile(dm_flat, 50)\n",
    "\n",
    "    total = 0\n",
    "    matching_list = []\n",
    "    ar = np.arange(num_imgs)\n",
    "    already_there_set = []\n",
    "    for st_idx in range(num_imgs-1):\n",
    "        mask_idx = mask[st_idx]\n",
    "        to_match = ar[mask_idx]\n",
    "        if len(to_match) < min_pairs:\n",
    "            to_match = np.argsort(dm[st_idx])[:min_pairs]  \n",
    "        for idx in to_match:\n",
    "            if st_idx == idx:\n",
    "                continue\n",
    "            if dm[st_idx, idx] < threshold:\n",
    "                matching_list.append(tuple(sorted((st_idx, idx.item()))))\n",
    "                total+=1\n",
    "    matching_list = sorted(list(set(matching_list)))\n",
    "\n",
    "    #     # 按距离排序，选出前 max_pairs\n",
    "    #     sorted_matches = sorted(\n",
    "    #         [(idx, dm[st_idx, idx]) for idx in to_match if idx != st_idx and dm[st_idx, idx] < threshold],\n",
    "    #         key=lambda x: x[1]\n",
    "    #     )\n",
    "    #     for idx, _ in sorted_matches[:max_pairs]:\n",
    "    #         pair = tuple(sorted((st_idx, idx)))\n",
    "    #         matching_set.add(pair)\n",
    "\n",
    "    # matching_list = sorted(list(matching_set))\n",
    "    return matching_list\n"
   ]
  },
  {
   "cell_type": "code",
   "execution_count": 19,
   "id": "94b64728",
   "metadata": {
    "execution": {
     "iopub.execute_input": "2025-05-30T07:38:27.159260Z",
     "iopub.status.busy": "2025-05-30T07:38:27.159056Z",
     "iopub.status.idle": "2025-05-30T07:38:27.176878Z",
     "shell.execute_reply": "2025-05-30T07:38:27.176281Z"
    },
    "papermill": {
     "duration": 0.026155,
     "end_time": "2025-05-30T07:38:27.178106",
     "exception": false,
     "start_time": "2025-05-30T07:38:27.151951",
     "status": "completed"
    },
    "tags": []
   },
   "outputs": [],
   "source": [
    "def wrapper_keypoints(\n",
    "    img_fnames, index_pairs, feature_dir, device, timings, rots\n",
    "):\n",
    "    #############################################################\n",
    "    # get keypoints\n",
    "    #############################################################\n",
    "    files_keypoints = []\n",
    "    \n",
    "    if CONFIG.use_superglue:\n",
    "        for params_sg in CONFIG.params_sgs:\n",
    "            resize_to = params_sg[\"resize_to\"]\n",
    "            file_keypoints = f\"{feature_dir}/matches_superglue_{resize_to}pix.h5\"\n",
    "            !rm -rf {file_keypoints}\n",
    "            t = detect_superglue(\n",
    "                img_fnames, index_pairs, feature_dir, device, \n",
    "                params_sg[\"sg_config\"], file_keypoints, \n",
    "                resize_to=params_sg[\"resize_to\"], \n",
    "                min_matches=params_sg[\"min_matches\"],\n",
    "            )\n",
    "            gc.collect()\n",
    "            files_keypoints.append( file_keypoints )\n",
    "            timings['feature_matching'].append(t)\n",
    "\n",
    "    if CONFIG.use_aliked_lightglue:\n",
    "        model_name = \"aliked\"\n",
    "        file_keypoints = f'{feature_dir}/matches_lightglue_{model_name}.h5'\n",
    "        t = detect_lightglue_common(\n",
    "            img_fnames, model_name, index_pairs, feature_dir, device, file_keypoints, rots,\n",
    "            resize_to=CONFIG.params_aliked_lightglue[\"resize_to\"],\n",
    "            detection_threshold=CONFIG.params_aliked_lightglue[\"detection_threshold\"],\n",
    "            num_features=CONFIG.params_aliked_lightglue[\"num_features\"],\n",
    "            min_matches=CONFIG.params_aliked_lightglue[\"min_matches\"],\n",
    "            match_confidence_threshold=CONFIG.params_aliked_lightglue[\"match_confidence_threshold\"]\n",
    "        )\n",
    "        gc.collect()\n",
    "        files_keypoints.append(file_keypoints)\n",
    "        timings['feature_matching'].append(t)\n",
    "\n",
    "    if CONFIG.use_doghardnet_lightglue:\n",
    "        model_name = \"doghardnet\"\n",
    "        file_keypoints = f'{feature_dir}/matches_lightglue_{model_name}.h5'\n",
    "        t = detect_lightglue_common(\n",
    "            img_fnames, model_name, index_pairs, feature_dir, device, file_keypoints, rots,\n",
    "            resize_to=CONFIG.params_doghardnet_lightglue[\"resize_to\"],\n",
    "            detection_threshold=CONFIG.params_doghardnet_lightglue[\"detection_threshold\"],\n",
    "            num_features=CONFIG.params_doghardnet_lightglue[\"num_features\"],\n",
    "            min_matches=CONFIG.params_doghardnet_lightglue[\"min_matches\"],\n",
    "        )\n",
    "        gc.collect()\n",
    "        files_keypoints.append(file_keypoints)\n",
    "        timings['feature_matching'].append(t)\n",
    "\n",
    "    if CONFIG.use_superpoint_lightglue:\n",
    "        model_name = \"superpoint\"\n",
    "        file_keypoints = f'{feature_dir}/matches_lightglue_{model_name}.h5'\n",
    "        t = detect_lightglue_common(\n",
    "            img_fnames, model_name, index_pairs, feature_dir, device, file_keypoints, rots,\n",
    "            resize_to=CONFIG.params_superpoint_lightglue[\"resize_to\"],\n",
    "            detection_threshold=CONFIG.params_superpoint_lightglue[\"detection_threshold\"],\n",
    "            num_features=CONFIG.params_superpoint_lightglue[\"num_features\"],\n",
    "            min_matches=CONFIG.params_superpoint_lightglue[\"min_matches\"],\n",
    "            match_confidence_threshold=CONFIG.params_superpoint_lightglue[\"match_confidence_threshold\"]\n",
    "        )\n",
    "        gc.collect()\n",
    "        files_keypoints.append(file_keypoints)\n",
    "        timings['feature_matching'].append(t)\n",
    "\n",
    "    if CONFIG.use_disk_lightglue:\n",
    "        model_name = \"disk\"\n",
    "        file_keypoints = f'{feature_dir}/matches_lightglue_{model_name}.h5'\n",
    "        t = detect_lightglue_common(\n",
    "            img_fnames, model_name, index_pairs, feature_dir, device, file_keypoints, rots,\n",
    "            resize_to=CONFIG.params_disk_lightglue[\"resize_to\"],\n",
    "            detection_threshold=CONFIG.params_disk_lightglue[\"detection_threshold\"],\n",
    "            num_features=CONFIG.params_disk_lightglue[\"num_features\"],\n",
    "            min_matches=CONFIG.params_disk_lightglue[\"min_matches\"],\n",
    "            match_confidence_threshold=CONFIG.params_disk_lightglue[\"match_confidence_threshold\"]\n",
    "        )\n",
    "        gc.collect()\n",
    "        files_keypoints.append(file_keypoints)\n",
    "        timings['feature_matching'].append(t)\n",
    "\n",
    "    if CONFIG.use_sift_lightglue:\n",
    "        model_name = \"sift\"\n",
    "        file_keypoints = f'{feature_dir}/matches_lightglue_{model_name}.h5'\n",
    "        t = detect_lightglue_common(\n",
    "            img_fnames, model_name, index_pairs, feature_dir, device, file_keypoints, rots,\n",
    "            resize_to=CONFIG.params_sift_lightglue[\"resize_to\"],\n",
    "            detection_threshold=CONFIG.params_sift_lightglue[\"detection_threshold\"],\n",
    "            num_features=CONFIG.params_sift_lightglue[\"num_features\"],\n",
    "            min_matches=CONFIG.params_sift_lightglue[\"min_matches\"],\n",
    "        )\n",
    "        gc.collect()\n",
    "        files_keypoints.append(file_keypoints)\n",
    "        timings['feature_matching'].append(t)\n",
    "\n",
    "    if CONFIG.use_loftr:\n",
    "        file_keypoints = f'{feature_dir}/matches_loftr_{CONFIG.params_loftr[\"resize_small_edge_to\"]}pix.h5'\n",
    "        t = detect_loftr(\n",
    "            img_fnames, index_pairs, feature_dir, device, file_keypoints,\n",
    "            resize_small_edge_to=CONFIG.params_loftr[\"resize_small_edge_to\"],\n",
    "            min_matches=CONFIG.params_loftr[\"min_matches\"],\n",
    "        )\n",
    "        gc.collect()\n",
    "        files_keypoints.append( file_keypoints )\n",
    "        timings['feature_matching'].append(t)\n",
    "\n",
    "    if CONFIG.use_dkm:\n",
    "        file_keypoints = f'{feature_dir}/matches_dkm.h5'\n",
    "        t = detect_dkm(\n",
    "            img_fnames, index_pairs, feature_dir, device, file_keypoints,\n",
    "            resize_to=CONFIG.params_dkm[\"resize_to\"], \n",
    "            detection_threshold=CONFIG.params_dkm[\"detection_threshold\"], \n",
    "            num_features=CONFIG.params_dkm[\"num_features\"], \n",
    "            min_matches=CONFIG.params_dkm[\"min_matches\"]\n",
    "        )\n",
    "        gc.collect()\n",
    "        files_keypoints.append(file_keypoints)\n",
    "        timings['feature_matching'].append(t)\n",
    "\n",
    "    if CONFIG.use_matchformer:\n",
    "        file_keypoints = f'{feature_dir}/matches_matchformer_{CONFIG.params_matchformer[\"resize_to\"]}pix.h5'\n",
    "        t = detect_matchformer(\n",
    "            img_fnames, index_pairs, feature_dir, device, file_keypoints,\n",
    "            resize_to=CONFIG.params_matchformer[\"resize_to\"],\n",
    "            num_features=CONFIG.params_matchformer[\"num_features\"], \n",
    "            min_matches=CONFIG.params_matchformer[\"min_matches\"]\n",
    "        )\n",
    "        gc.collect()\n",
    "        files_keypoints.append( file_keypoints )\n",
    "        timings['feature_matching'].append(t)\n",
    "\n",
    "    #############################################################\n",
    "    # merge keypoints\n",
    "    #############################################################\n",
    "    keypoints_merger(\n",
    "        img_fnames,\n",
    "        index_pairs,\n",
    "        files_keypoints,\n",
    "        feature_dir = feature_dir,\n",
    "        filter_FundamentalMatrix = CONFIG.MERGE_PARAMS[\"filter_FundamentalMatrix\"],\n",
    "        filter_iterations = CONFIG.MERGE_PARAMS[\"filter_iterations\"],\n",
    "        filter_threshold = CONFIG.MERGE_PARAMS[\"filter_threshold\"],\n",
    "    )    \n",
    "    return timings\n",
    "\n",
    "\n",
    "def import_into_colmap(img_dir, feature_dir ='.featureout', database_path = 'colmap.db'):\n",
    "    db = COLMAPDatabase.connect(database_path)\n",
    "    db.create_tables()\n",
    "    single_camera = False\n",
    "    fname_to_id = add_keypoints(db, feature_dir, img_dir, '', 'simple-pinhole', single_camera)\n",
    "    add_matches(\n",
    "        db,\n",
    "        feature_dir,\n",
    "        fname_to_id,\n",
    "    )\n",
    "    db.commit()\n",
    "    return"
   ]
  },
  {
   "cell_type": "code",
   "execution_count": 20,
   "id": "21564417",
   "metadata": {
    "execution": {
     "iopub.execute_input": "2025-05-30T07:38:27.192003Z",
     "iopub.status.busy": "2025-05-30T07:38:27.191796Z",
     "iopub.status.idle": "2025-05-30T07:38:27.199465Z",
     "shell.execute_reply": "2025-05-30T07:38:27.198816Z"
    },
    "papermill": {
     "duration": 0.015928,
     "end_time": "2025-05-30T07:38:27.200598",
     "exception": false,
     "start_time": "2025-05-30T07:38:27.184670",
     "status": "completed"
    },
    "tags": []
   },
   "outputs": [],
   "source": [
    "from itertools import combinations\n",
    "from collections import defaultdict\n",
    "\n",
    "\n",
    "def find_connected_components(pairs):\n",
    "    graph = defaultdict(set)\n",
    "    for i, j in pairs:\n",
    "        graph[i].add(j)\n",
    "        graph[j].add(i)\n",
    "\n",
    "    visited = set()\n",
    "    components = []\n",
    "\n",
    "    def dfs(u, comp):\n",
    "        visited.add(u)\n",
    "        comp.append(u)\n",
    "        for v in graph[u]:\n",
    "            if v not in visited:\n",
    "                dfs(v, comp)\n",
    "\n",
    "    for node in graph:\n",
    "        if node not in visited:\n",
    "            comp = []\n",
    "            dfs(node, comp)\n",
    "            components.append(comp)\n",
    "\n",
    "    return components\n",
    "\n",
    "\n",
    "def affine_matrix_from_points(v0, v1):\n",
    "    v0 = np.array(v0, dtype=np.float64, copy=True)\n",
    "    v1 = np.array(v1, dtype=np.float64, copy=True)\n",
    "    t0 = -np.mean(v0, axis=1)\n",
    "    t1 = -np.mean(v1, axis=1)\n",
    "    v0 += t0.reshape(3, 1)\n",
    "    v1 += t1.reshape(3, 1)\n",
    "    u, s, vh = np.linalg.svd(np.dot(v1, v0.T))\n",
    "    R = np.dot(u, vh)\n",
    "    if np.linalg.det(R) < 0:\n",
    "        R[:, -1] *= -1\n",
    "    scale = np.linalg.norm(v1) / np.linalg.norm(v0)\n",
    "    T = np.eye(4)\n",
    "    T[:3, :3] = scale * R\n",
    "    T[:3, 3] = np.mean(v1, axis=1) - np.dot(scale * R, np.mean(v0, axis=1))\n",
    "    return T\n",
    "\n",
    "\n",
    "def register_by_Horn(ev_coord, gt_coord, threshold=1.0):\n",
    "    if ev_coord.shape[1] < 3:\n",
    "        return None\n",
    "    T = affine_matrix_from_points(ev_coord, gt_coord)\n",
    "    transformed = (T[:3, :3] @ ev_coord) + T[:3, 3:4]\n",
    "    err = np.linalg.norm(transformed - gt_coord, axis=0)\n",
    "    inliers = err < threshold\n",
    "    if np.sum(inliers) < 3:\n",
    "        return None\n",
    "    T_refined = affine_matrix_from_points(ev_coord[:, inliers], gt_coord[:, inliers])\n",
    "    return T_refined\n"
   ]
  },
  {
   "cell_type": "code",
   "execution_count": 21,
   "id": "4d859a4c",
   "metadata": {
    "execution": {
     "iopub.execute_input": "2025-05-30T07:38:27.214502Z",
     "iopub.status.busy": "2025-05-30T07:38:27.214304Z",
     "iopub.status.idle": "2025-05-30T07:38:27.225140Z",
     "shell.execute_reply": "2025-05-30T07:38:27.224421Z"
    },
    "papermill": {
     "duration": 0.019088,
     "end_time": "2025-05-30T07:38:27.226288",
     "exception": false,
     "start_time": "2025-05-30T07:38:27.207200",
     "status": "completed"
    },
    "tags": []
   },
   "outputs": [],
   "source": [
    "def reconstruct_from_db(feature_dir, img_dir):\n",
    "    result = {}\n",
    "    local_timings = {'RANSAC': [], 'Reconstruction': []}\n",
    "    database_path = f'{feature_dir}/colmap.db'\n",
    "    if os.path.isfile(database_path):\n",
    "        os.remove(database_path)\n",
    "    gc.collect()\n",
    "    import_into_colmap(img_dir, feature_dir=feature_dir, database_path=database_path)\n",
    "    output_path = f'{feature_dir}/colmap_rec'\n",
    "    os.makedirs(output_path, exist_ok=True)\n",
    "\n",
    "    t = time()\n",
    "    pycolmap.match_exhaustive(database_path)\n",
    "    local_timings['RANSAC'].append(time() - t)\n",
    "\n",
    "    t = time()\n",
    "    mapper_options = pycolmap.IncrementalPipelineOptions()\n",
    "    mapper_options.min_model_size = 5\n",
    "    mapper_options.max_num_models = 12\n",
    "    maps = pycolmap.incremental_mapping(database_path=database_path, image_path=img_dir,\n",
    "                                        output_path=output_path, options=mapper_options)\n",
    "    print(\"Original results\")\n",
    "    print(maps)\n",
    "    local_timings['Reconstruction'].append(time() - t)\n",
    "\n",
    "    map_ids = list(maps.keys())\n",
    "    map_graph = {}\n",
    "    for i, j in combinations(map_ids, 2):\n",
    "        shared = []\n",
    "        for name in maps[i].images:\n",
    "            if name in maps[j].images:\n",
    "                C_i = -maps[i].images[name].cam_from_world.rotation.matrix().T @ maps[i].images[name].cam_from_world.translation\n",
    "                C_j = -maps[j].images[name].cam_from_world.rotation.matrix().T @ maps[j].images[name].cam_from_world.translation\n",
    "                shared.append((C_i.reshape(3, 1), C_j.reshape(3, 1)))\n",
    "        if len(shared) >= 3:\n",
    "            u, g = zip(*shared)\n",
    "            u = np.concatenate(u, axis=1)\n",
    "            g = np.concatenate(g, axis=1)\n",
    "            T_ij = register_by_Horn(u, g)\n",
    "            if T_ij is not None:\n",
    "                map_graph[(i, j)] = T_ij\n",
    "    print(map_graph)\n",
    "    connected_components = find_connected_components(map_graph.keys())\n",
    "    for group in connected_components:\n",
    "        transforms = {group[0]: np.eye(4)}\n",
    "        queue = [group[0]]\n",
    "        while queue:\n",
    "            current = queue.pop(0)\n",
    "            for other in group:\n",
    "                if other == current or other in transforms:\n",
    "                    continue\n",
    "                if (current, other) in map_graph:\n",
    "                    transforms[other] = map_graph[(current, other)] @ transforms[current]\n",
    "                    queue.append(other)\n",
    "                elif (other, current) in map_graph:\n",
    "                    transforms[other] = np.linalg.inv(map_graph[(other, current)]) @ transforms[current]\n",
    "                    queue.append(other)\n",
    "\n",
    "        for map_index in group:\n",
    "            result[map_index] = {}\n",
    "            T = transforms.get(map_index, np.eye(4))\n",
    "            for img_id, image in maps[map_index].images.items():\n",
    "                T_cam = np.eye(4)\n",
    "                T_cam[:3, :3] = image.cam_from_world.rotation.matrix()\n",
    "                T_cam[:3, 3] = image.cam_from_world.translation\n",
    "                T_global = T @ T_cam\n",
    "                result[map_index][image.name] = {\n",
    "                    'R': T_global[:3, :3].tolist(),\n",
    "                    't': T_global[:3, 3].tolist()\n",
    "                }\n",
    "\n",
    "    for map_index in maps:\n",
    "        if map_index not in result:\n",
    "            result[map_index] = {}\n",
    "            for img_id, image in maps[map_index].images.items():\n",
    "                result[map_index][image.name] = {\n",
    "                    'R': image.cam_from_world.rotation.matrix().tolist(),\n",
    "                    't': image.cam_from_world.translation.tolist()\n",
    "                }\n",
    "    if VERBOSE:\n",
    "        for map_index in maps:\n",
    "            for img_id, image in maps[map_index].images.items():\n",
    "                print(f\"map {map_index}:{image}\")\n",
    "    return result, local_timings"
   ]
  },
  {
   "cell_type": "code",
   "execution_count": 22,
   "id": "44315e81",
   "metadata": {
    "execution": {
     "iopub.execute_input": "2025-05-30T07:38:27.240064Z",
     "iopub.status.busy": "2025-05-30T07:38:27.239839Z",
     "iopub.status.idle": "2025-05-30T07:38:27.402507Z",
     "shell.execute_reply": "2025-05-30T07:38:27.401804Z"
    },
    "papermill": {
     "duration": 0.170903,
     "end_time": "2025-05-30T07:38:27.403725",
     "exception": false,
     "start_time": "2025-05-30T07:38:27.232822",
     "status": "completed"
    },
    "tags": []
   },
   "outputs": [
    {
     "name": "stdout",
     "output_type": "stream",
     "text": [
      "Dataset \"imc2023_haiper\" -> num_images=54\n",
      "Dataset \"imc2023_heritage\" -> num_images=209\n",
      "Dataset \"imc2023_theather_imc2024_church\" -> num_images=76\n",
      "Dataset \"imc2024_dioscuri_baalshamin\" -> num_images=138\n",
      "Dataset \"imc2024_lizard_pond\" -> num_images=214\n",
      "Dataset \"pt_brandenburg_british_buckingham\" -> num_images=225\n",
      "Dataset \"pt_piazzasanmarco_grandplace\" -> num_images=168\n",
      "Dataset \"pt_sacrecoeur_trevi_tajmahal\" -> num_images=225\n",
      "Dataset \"pt_stpeters_stpauls\" -> num_images=200\n",
      "Dataset \"amy_gardens\" -> num_images=200\n",
      "Dataset \"fbk_vineyard\" -> num_images=163\n",
      "Dataset \"ETs\" -> num_images=22\n",
      "Dataset \"stairs\" -> num_images=51\n"
     ]
    }
   ],
   "source": [
    "# Collect vital info from the dataset\n",
    "\n",
    "@dataclasses.dataclass\n",
    "class Prediction:\n",
    "    image_id: str | None  # A unique identifier for the row -- unused otherwise. Used only on the hidden test set.\n",
    "    dataset: str\n",
    "    filename: str\n",
    "    cluster_index: int | None = None\n",
    "    rotation: np.ndarray | None = None\n",
    "    translation: np.ndarray | None = None\n",
    "\n",
    "# Set is_train=True to run the notebook on the training data.\n",
    "# Set is_train=False if submitting an entry to the competition (test data is hidden, and different from what you see on the \"test\" folder).\n",
    "is_train = True\n",
    "data_dir = '/kaggle/input/image-matching-challenge-2025'\n",
    "workdir = '/kaggle/working/result/'\n",
    "os.makedirs(workdir, exist_ok=True)\n",
    "\n",
    "if is_train:\n",
    "    sample_submission_csv = os.path.join(data_dir, 'train_labels.csv')\n",
    "else:\n",
    "    sample_submission_csv = os.path.join(data_dir, 'sample_submission.csv')\n",
    "\n",
    "samples = {}\n",
    "competition_data = pd.read_csv(sample_submission_csv)\n",
    "for _, row in competition_data.iterrows():\n",
    "    # Note: For the test data, the \"scene\" column has no meaning, and the rotation_matrix and translation_vector columns are random.\n",
    "    if row.dataset not in samples:\n",
    "        samples[row.dataset] = []\n",
    "    samples[row.dataset].append(\n",
    "        Prediction(\n",
    "            image_id=None if is_train else row.image_id,\n",
    "            dataset=row.dataset,\n",
    "            filename=row.image\n",
    "        )\n",
    "    )\n",
    "\n",
    "for dataset in samples:\n",
    "    print(f'Dataset \"{dataset}\" -> num_images={len(samples[dataset])}')"
   ]
  },
  {
   "cell_type": "code",
   "execution_count": 23,
   "id": "e803e70c",
   "metadata": {
    "execution": {
     "iopub.execute_input": "2025-05-30T07:38:27.418236Z",
     "iopub.status.busy": "2025-05-30T07:38:27.417993Z",
     "iopub.status.idle": "2025-05-30T07:38:27.432411Z",
     "shell.execute_reply": "2025-05-30T07:38:27.431777Z"
    },
    "papermill": {
     "duration": 0.022856,
     "end_time": "2025-05-30T07:38:27.433518",
     "exception": false,
     "start_time": "2025-05-30T07:38:27.410662",
     "status": "completed"
    },
    "tags": []
   },
   "outputs": [],
   "source": [
    "import cv2\n",
    "import h5py\n",
    "import numpy as np\n",
    "import matplotlib.pyplot as plt\n",
    "import matplotlib.patches as patches\n",
    "\n",
    "\n",
    "def draw_keypoints_and_matches(images_input, unified_kp_path, remapped_matches_path, feature_dir='visualization_output'):\n",
    "    output_dir = os.path.join(feature_dir, 'visualization_output')\n",
    "    os.makedirs(output_dir, exist_ok=True)\n",
    "\n",
    "    # Load images and determine image_keys for HDF5 lookup\n",
    "    if isinstance(images_input[0], str):\n",
    "        loaded_images = [cv2.imread(img_path) for img_path in images_input]\n",
    "        image_keys = [os.path.basename(img_path) for img_path in images_input]\n",
    "    else:\n",
    "        loaded_images = images_input\n",
    "        # If images_input are already arrays, you need to provide the corresponding keys\n",
    "        # This part is crucial: image_keys MUST align with the HDF5 keys\n",
    "        image_keys = image_keys_in_h5 # Use the predefined list for the dummy case\n",
    "\n",
    "    # Load unified keypoints\n",
    "    keypoints_data = {}\n",
    "    with h5py.File(unified_kp_path, 'r') as f_kp:\n",
    "        for img_name_raw in f_kp.keys():\n",
    "            img_name = img_name_raw.decode('utf-8') if isinstance(img_name_raw, bytes) else img_name_raw\n",
    "            keypoints_data[img_name] = f_kp[img_name_raw][()] # Access with raw key if bytes\n",
    "\n",
    "    # Load remapped matches - CORRECTED LOGIC\n",
    "    # Store (img1_key, img2_key) directly with matches for robust iteration\n",
    "    matches_data_pairs = [] # Will store (img1_key, img2_key, matches_array)\n",
    "    with h5py.File(remapped_matches_path, 'r') as f_matches:\n",
    "        print(\"\\n--- Loading remapped matches from HDF5 ---\")\n",
    "        for img1_group_key_candidate in tqdm(f_matches.keys(), desc=\"Loading matches\"):\n",
    "            img1_key = img1_group_key_candidate.decode('utf-8') if isinstance(img1_group_key_candidate, bytes) else img1_group_key_candidate\n",
    "\n",
    "            img1_group = f_matches[img1_group_key_candidate] # Access with raw key\n",
    "\n",
    "            if isinstance(img1_group, h5py.Group):\n",
    "                for img2_dataset_key_candidate in img1_group.keys():\n",
    "                    img2_key = img2_dataset_key_candidate.decode('utf-8') if isinstance(img2_dataset_key_candidate, bytes) else img2_dataset_key_candidate\n",
    "\n",
    "                    try:\n",
    "                        matches_array = img1_group[img2_dataset_key_candidate][()]\n",
    "                        matches_data_pairs.append((img1_key, img2_key, matches_array))\n",
    "                    except Exception as e:\n",
    "                        print(f\"Error loading matches for pair ({img1_key}, {img2_key}): {e}\")\n",
    "            else:\n",
    "                print(f\"Warning: Expected '{img1_key}' to be a group, but found {type(img1_group)}. Skipping its contents.\")\n",
    "\n",
    "\n",
    "    # --- Drawing Keypoints ---\n",
    "    print(\"\\n--- Drawing Keypoints ---\")\n",
    "    for i, img_key in enumerate(image_keys):\n",
    "        if img_key in keypoints_data:\n",
    "            img = loaded_images[i].copy()\n",
    "            kpts = keypoints_data[img_key]\n",
    "\n",
    "            for kp in kpts:\n",
    "                x, y = int(kp[0]), int(kp[1])\n",
    "                cv2.circle(img, (x, y), 3, (0, 255, 0), -1) # Green circle for keypoint\n",
    "\n",
    "            output_kp_path = os.path.join(output_dir, f\"keypoints_{img_key}\")\n",
    "            if len(img.shape) == 2:\n",
    "                img = cv2.cvtColor(img, cv2.COLOR_GRAY2BGR)\n",
    "            cv2.imwrite(output_kp_path, img)\n",
    "            print(f\"Keypoints drawn on {img_key}, saved to {output_kp_path}\")\n",
    "        else:\n",
    "            print(f\"No keypoints found for {img_key} in unified keypoints file.\")\n",
    "\n",
    "    # --- Drawing Matches ---\n",
    "    print(\"\\n--- Drawing Matches ---\")\n",
    "    # Iterate through the (img1_key, img2_key, matches) tuples directly\n",
    "    for img_name1, img_name2, matches in matches_data_pairs:\n",
    "        # We no longer need to split img_pair_key, as we have img_name1 and img_name2 directly\n",
    "\n",
    "        # Find the actual image objects and their keypoints using image_keys list\n",
    "        try:\n",
    "            img1_idx = image_keys.index(img_name1)\n",
    "            img2_idx = image_keys.index(img_name2)\n",
    "        except ValueError:\n",
    "            print(f\"Skipping matches for {img_name1}-{img_name2}: One or both image names not found in the provided 'images' list/keys.\")\n",
    "            continue\n",
    "\n",
    "        img1 = loaded_images[img1_idx].copy()\n",
    "        img2 = loaded_images[img2_idx].copy()\n",
    "\n",
    "        kpts1 = keypoints_data.get(img_name1)\n",
    "        kpts2 = keypoints_data.get(img_name2)\n",
    "\n",
    "        if kpts1 is None or kpts2 is None:\n",
    "            print(f\"Skipping matches for {img_name1}-{img_name2}: keypoints not found for one or both images in unified keypoints.\")\n",
    "            continue\n",
    "        if len(matches) == 0:\n",
    "            print(f\"No matches to draw for {img_name1}-{img_name2}.\")\n",
    "            continue\n",
    "\n",
    "        # Ensure images are 3 channels for drawing lines\n",
    "        if len(img1.shape) == 2:\n",
    "            img1 = cv2.cvtColor(img1, cv2.COLOR_GRAY2BGR)\n",
    "        if len(img2.shape) == 2:\n",
    "            img2 = cv2.cvtColor(img2, cv2.COLOR_GRAY2BGR)\n",
    "\n",
    "        # Create a concatenated image for drawing matches\n",
    "        h1, w1 = img1.shape[:2]\n",
    "        h2, w2 = img2.shape[:2]\n",
    "        max_h = max(h1, h2)\n",
    "        matched_img = np.zeros((max_h, w1 + w2, 3), dtype=np.uint8)\n",
    "        matched_img[0:h1, 0:w1] = img1\n",
    "        matched_img[0:h2, w1:w1+w2] = img2\n",
    "\n",
    "        num_matches_to_draw = min(len(matches), 200) # Draw up to 200 matches to avoid clutter, adjust as needed\n",
    "\n",
    "        for i in range(num_matches_to_draw):\n",
    "            match = matches[i]\n",
    "            kp1_idx, kp2_idx = int(match[0]), int(match[1])\n",
    "\n",
    "            # Bounds check for keypoint indices\n",
    "            if kp1_idx >= len(kpts1) or kp2_idx >= len(kpts2):\n",
    "                # print(f\"Warning: Match index out of bounds for {img_name1}-{img_name2}. Skipping match {kp1_idx}-{kp2_idx}.\")\n",
    "                continue\n",
    "\n",
    "            pt1 = tuple(map(int, kpts1[kp1_idx][:2]))\n",
    "            pt2 = tuple(map(int, kpts2[kp2_idx][:2]))\n",
    "\n",
    "            # Draw circles on the concatenated image\n",
    "            cv2.circle(matched_img, pt1, 5, (0, 0, 255), 2) # Red circle on img1 side\n",
    "            cv2.circle(matched_img, (pt2[0] + w1, pt2[1]), 5, (255, 0, 0), 2) # Blue circle on img2 side\n",
    "\n",
    "            # Draw a line connecting the matched keypoints\n",
    "            color = tuple(np.random.randint(0, 255, 3).tolist())\n",
    "            cv2.line(matched_img, pt1, (pt2[0] + w1, pt2[1]), color, 1)\n",
    "\n",
    "        output_match_path = os.path.join(output_dir, f\"matches_{img_name1}_{img_name2}.png\")\n",
    "        cv2.imwrite(output_match_path, matched_img)\n",
    "        print(f\"Matches drawn between {img_name1} and {img_name2}, saved to {output_match_path}\")\n",
    "\n",
    "\n",
    "# Example call (replace with your actual 'images' list)\n",
    "# If your 'images' are file paths:\n",
    "# images_file_paths = ['path/to/your/image1.jpg', 'path/to/your/image2.jpg', ...]\n",
    "# draw_keypoints_and_matches(images_file_paths, unified_kp_path, remapped_matches_path)\n",
    "\n",
    "# If your 'images' are loaded numpy arrays (as in the dummy example above):\n",
    "# draw_keypoints_and_matches(images, unified_kp_path, remapped_matches_path)"
   ]
  },
  {
   "cell_type": "code",
   "execution_count": 24,
   "id": "fd722794",
   "metadata": {
    "execution": {
     "iopub.execute_input": "2025-05-30T07:38:27.447864Z",
     "iopub.status.busy": "2025-05-30T07:38:27.447621Z",
     "iopub.status.idle": "2025-05-30T08:40:54.568272Z",
     "shell.execute_reply": "2025-05-30T08:40:54.567011Z"
    },
    "papermill": {
     "duration": 3747.153754,
     "end_time": "2025-05-30T08:40:54.593916",
     "exception": false,
     "start_time": "2025-05-30T07:38:27.440162",
     "status": "completed"
    },
    "tags": []
   },
   "outputs": [
    {
     "name": "stdout",
     "output_type": "stream",
     "text": [
      "Loading DINOv2 model for patch feature extraction...\n",
      "DINOv2 model loaded.\n",
      "Skipping \"imc2023_haiper\"\n",
      "Skipping \"imc2023_heritage\"\n",
      "Skipping \"imc2023_theather_imc2024_church\"\n",
      "Skipping \"imc2024_dioscuri_baalshamin\"\n",
      "Skipping \"imc2024_lizard_pond\"\n",
      "Skipping \"pt_brandenburg_british_buckingham\"\n",
      "Skipping \"pt_piazzasanmarco_grandplace\"\n",
      "Skipping \"pt_sacrecoeur_trevi_tajmahal\"\n",
      "Skipping \"pt_stpeters_stpauls\"\n",
      "Skipping \"amy_gardens\"\n",
      "\n",
      "Processing dataset \"fbk_vineyard\": 163 images\n",
      "rotation_detection for 163 images : 0.0000 sec\n"
     ]
    },
    {
     "name": "stderr",
     "output_type": "stream",
     "text": [
      "100%|██████████| 163/163 [00:15<00:00, 10.85it/s]\n"
     ]
    },
    {
     "name": "stdout",
     "output_type": "stream",
     "text": [
      "Distance Matrix Statistics:\n",
      "Min:  0.1510\n",
      "Max:  0.3338\n",
      "Mean: 0.2232\n",
      "Std:  0.0303\n",
      "20%:  0.1980\n",
      "25%:  0.2014\n",
      "60%:  0.2244\n",
      "75%:  0.2396\n",
      "Shortlisting. Number of pairs to match: 6611. Done in 15.3945 sec\n",
      "Generated 6611 image pairs using VLAD global descriptor.\n",
      "Shortlisting. Number of pairs to match: 6611. Done in 15.6926 sec\n",
      "aliked > rot_k=0, kpts.shape=torch.Size([5915, 2]), descs.shape=torch.Size([5915, 128])\n",
      "aliked > rot_k=0, kpts.shape=torch.Size([5543, 2]), descs.shape=torch.Size([5543, 128])\n",
      "aliked > rot_k=0, kpts.shape=torch.Size([5674, 2]), descs.shape=torch.Size([5674, 128])\n",
      "aliked > rot_k=0, kpts.shape=torch.Size([5897, 2]), descs.shape=torch.Size([5897, 128])\n",
      "aliked > rot_k=0, kpts.shape=torch.Size([5580, 2]), descs.shape=torch.Size([5580, 128])\n",
      "aliked > rot_k=0, kpts.shape=torch.Size([5513, 2]), descs.shape=torch.Size([5513, 128])\n",
      "aliked > rot_k=0, kpts.shape=torch.Size([5400, 2]), descs.shape=torch.Size([5400, 128])\n",
      "aliked > rot_k=0, kpts.shape=torch.Size([5919, 2]), descs.shape=torch.Size([5919, 128])\n",
      "aliked > rot_k=0, kpts.shape=torch.Size([5682, 2]), descs.shape=torch.Size([5682, 128])\n",
      "aliked > rot_k=0, kpts.shape=torch.Size([5604, 2]), descs.shape=torch.Size([5604, 128])\n",
      "aliked > rot_k=0, kpts.shape=torch.Size([5608, 2]), descs.shape=torch.Size([5608, 128])\n",
      "aliked > rot_k=0, kpts.shape=torch.Size([5520, 2]), descs.shape=torch.Size([5520, 128])\n",
      "aliked > rot_k=0, kpts.shape=torch.Size([5370, 2]), descs.shape=torch.Size([5370, 128])\n",
      "aliked > rot_k=0, kpts.shape=torch.Size([5967, 2]), descs.shape=torch.Size([5967, 128])\n",
      "aliked > rot_k=0, kpts.shape=torch.Size([5525, 2]), descs.shape=torch.Size([5525, 128])\n",
      "aliked > rot_k=0, kpts.shape=torch.Size([5751, 2]), descs.shape=torch.Size([5751, 128])\n",
      "aliked > rot_k=0, kpts.shape=torch.Size([5913, 2]), descs.shape=torch.Size([5913, 128])\n",
      "aliked > rot_k=0, kpts.shape=torch.Size([5677, 2]), descs.shape=torch.Size([5677, 128])\n",
      "aliked > rot_k=0, kpts.shape=torch.Size([5627, 2]), descs.shape=torch.Size([5627, 128])\n",
      "aliked > rot_k=0, kpts.shape=torch.Size([5710, 2]), descs.shape=torch.Size([5710, 128])\n",
      "aliked > rot_k=0, kpts.shape=torch.Size([5668, 2]), descs.shape=torch.Size([5668, 128])\n",
      "aliked > rot_k=0, kpts.shape=torch.Size([5398, 2]), descs.shape=torch.Size([5398, 128])\n",
      "aliked > rot_k=0, kpts.shape=torch.Size([5659, 2]), descs.shape=torch.Size([5659, 128])\n",
      "aliked > rot_k=0, kpts.shape=torch.Size([4772, 2]), descs.shape=torch.Size([4772, 128])\n",
      "aliked > rot_k=0, kpts.shape=torch.Size([5398, 2]), descs.shape=torch.Size([5398, 128])\n",
      "aliked > rot_k=0, kpts.shape=torch.Size([5653, 2]), descs.shape=torch.Size([5653, 128])\n",
      "aliked > rot_k=0, kpts.shape=torch.Size([5493, 2]), descs.shape=torch.Size([5493, 128])\n",
      "aliked > rot_k=0, kpts.shape=torch.Size([5671, 2]), descs.shape=torch.Size([5671, 128])\n",
      "aliked > rot_k=0, kpts.shape=torch.Size([5772, 2]), descs.shape=torch.Size([5772, 128])\n",
      "aliked > rot_k=0, kpts.shape=torch.Size([5746, 2]), descs.shape=torch.Size([5746, 128])\n",
      "aliked > rot_k=0, kpts.shape=torch.Size([5662, 2]), descs.shape=torch.Size([5662, 128])\n",
      "aliked > rot_k=0, kpts.shape=torch.Size([5662, 2]), descs.shape=torch.Size([5662, 128])\n",
      "aliked > rot_k=0, kpts.shape=torch.Size([5484, 2]), descs.shape=torch.Size([5484, 128])\n",
      "aliked > rot_k=0, kpts.shape=torch.Size([5681, 2]), descs.shape=torch.Size([5681, 128])\n",
      "aliked > rot_k=0, kpts.shape=torch.Size([5713, 2]), descs.shape=torch.Size([5713, 128])\n",
      "aliked > rot_k=0, kpts.shape=torch.Size([5462, 2]), descs.shape=torch.Size([5462, 128])\n",
      "aliked > rot_k=0, kpts.shape=torch.Size([5277, 2]), descs.shape=torch.Size([5277, 128])\n",
      "aliked > rot_k=0, kpts.shape=torch.Size([5172, 2]), descs.shape=torch.Size([5172, 128])\n",
      "aliked > rot_k=0, kpts.shape=torch.Size([5248, 2]), descs.shape=torch.Size([5248, 128])\n",
      "aliked > rot_k=0, kpts.shape=torch.Size([4924, 2]), descs.shape=torch.Size([4924, 128])\n",
      "aliked > rot_k=0, kpts.shape=torch.Size([5412, 2]), descs.shape=torch.Size([5412, 128])\n",
      "aliked > rot_k=0, kpts.shape=torch.Size([4711, 2]), descs.shape=torch.Size([4711, 128])\n",
      "aliked > rot_k=0, kpts.shape=torch.Size([3824, 2]), descs.shape=torch.Size([3824, 128])\n",
      "aliked > rot_k=0, kpts.shape=torch.Size([4863, 2]), descs.shape=torch.Size([4863, 128])\n",
      "aliked > rot_k=0, kpts.shape=torch.Size([4838, 2]), descs.shape=torch.Size([4838, 128])\n",
      "aliked > rot_k=0, kpts.shape=torch.Size([4782, 2]), descs.shape=torch.Size([4782, 128])\n",
      "aliked > rot_k=0, kpts.shape=torch.Size([5807, 2]), descs.shape=torch.Size([5807, 128])\n",
      "aliked > rot_k=0, kpts.shape=torch.Size([3926, 2]), descs.shape=torch.Size([3926, 128])\n",
      "aliked > rot_k=0, kpts.shape=torch.Size([5706, 2]), descs.shape=torch.Size([5706, 128])\n",
      "aliked > rot_k=0, kpts.shape=torch.Size([5238, 2]), descs.shape=torch.Size([5238, 128])\n",
      "aliked > rot_k=0, kpts.shape=torch.Size([5761, 2]), descs.shape=torch.Size([5761, 128])\n",
      "aliked > rot_k=0, kpts.shape=torch.Size([5706, 2]), descs.shape=torch.Size([5706, 128])\n",
      "aliked > rot_k=0, kpts.shape=torch.Size([5274, 2]), descs.shape=torch.Size([5274, 128])\n",
      "aliked > rot_k=0, kpts.shape=torch.Size([5456, 2]), descs.shape=torch.Size([5456, 128])\n",
      "aliked > rot_k=0, kpts.shape=torch.Size([5229, 2]), descs.shape=torch.Size([5229, 128])\n",
      "aliked > rot_k=0, kpts.shape=torch.Size([5340, 2]), descs.shape=torch.Size([5340, 128])\n",
      "aliked > rot_k=0, kpts.shape=torch.Size([5365, 2]), descs.shape=torch.Size([5365, 128])\n",
      "aliked > rot_k=0, kpts.shape=torch.Size([5405, 2]), descs.shape=torch.Size([5405, 128])\n",
      "aliked > rot_k=0, kpts.shape=torch.Size([5099, 2]), descs.shape=torch.Size([5099, 128])\n",
      "aliked > rot_k=0, kpts.shape=torch.Size([5258, 2]), descs.shape=torch.Size([5258, 128])\n",
      "aliked > rot_k=0, kpts.shape=torch.Size([5126, 2]), descs.shape=torch.Size([5126, 128])\n",
      "aliked > rot_k=0, kpts.shape=torch.Size([5028, 2]), descs.shape=torch.Size([5028, 128])\n",
      "aliked > rot_k=0, kpts.shape=torch.Size([5124, 2]), descs.shape=torch.Size([5124, 128])\n",
      "aliked > rot_k=0, kpts.shape=torch.Size([4976, 2]), descs.shape=torch.Size([4976, 128])\n",
      "aliked > rot_k=0, kpts.shape=torch.Size([5155, 2]), descs.shape=torch.Size([5155, 128])\n",
      "aliked > rot_k=0, kpts.shape=torch.Size([5155, 2]), descs.shape=torch.Size([5155, 128])\n",
      "aliked > rot_k=0, kpts.shape=torch.Size([4845, 2]), descs.shape=torch.Size([4845, 128])\n",
      "aliked > rot_k=0, kpts.shape=torch.Size([4950, 2]), descs.shape=torch.Size([4950, 128])\n",
      "aliked > rot_k=0, kpts.shape=torch.Size([5204, 2]), descs.shape=torch.Size([5204, 128])\n",
      "aliked > rot_k=0, kpts.shape=torch.Size([4948, 2]), descs.shape=torch.Size([4948, 128])\n",
      "aliked > rot_k=0, kpts.shape=torch.Size([5433, 2]), descs.shape=torch.Size([5433, 128])\n",
      "aliked > rot_k=0, kpts.shape=torch.Size([5204, 2]), descs.shape=torch.Size([5204, 128])\n",
      "aliked > rot_k=0, kpts.shape=torch.Size([5513, 2]), descs.shape=torch.Size([5513, 128])\n",
      "aliked > rot_k=0, kpts.shape=torch.Size([5039, 2]), descs.shape=torch.Size([5039, 128])\n",
      "aliked > rot_k=0, kpts.shape=torch.Size([5441, 2]), descs.shape=torch.Size([5441, 128])\n",
      "aliked > rot_k=0, kpts.shape=torch.Size([5763, 2]), descs.shape=torch.Size([5763, 128])\n",
      "aliked > rot_k=0, kpts.shape=torch.Size([5325, 2]), descs.shape=torch.Size([5325, 128])\n",
      "aliked > rot_k=0, kpts.shape=torch.Size([5460, 2]), descs.shape=torch.Size([5460, 128])\n",
      "aliked > rot_k=0, kpts.shape=torch.Size([4877, 2]), descs.shape=torch.Size([4877, 128])\n",
      "aliked > rot_k=0, kpts.shape=torch.Size([5281, 2]), descs.shape=torch.Size([5281, 128])\n",
      "aliked > rot_k=0, kpts.shape=torch.Size([5612, 2]), descs.shape=torch.Size([5612, 128])\n",
      "aliked > rot_k=0, kpts.shape=torch.Size([5137, 2]), descs.shape=torch.Size([5137, 128])\n",
      "aliked > rot_k=0, kpts.shape=torch.Size([5892, 2]), descs.shape=torch.Size([5892, 128])\n",
      "aliked > rot_k=0, kpts.shape=torch.Size([5267, 2]), descs.shape=torch.Size([5267, 128])\n",
      "aliked > rot_k=0, kpts.shape=torch.Size([5592, 2]), descs.shape=torch.Size([5592, 128])\n",
      "aliked > rot_k=0, kpts.shape=torch.Size([5531, 2]), descs.shape=torch.Size([5531, 128])\n",
      "aliked > rot_k=0, kpts.shape=torch.Size([4948, 2]), descs.shape=torch.Size([4948, 128])\n",
      "aliked > rot_k=0, kpts.shape=torch.Size([4935, 2]), descs.shape=torch.Size([4935, 128])\n",
      "aliked > rot_k=0, kpts.shape=torch.Size([5731, 2]), descs.shape=torch.Size([5731, 128])\n",
      "aliked > rot_k=0, kpts.shape=torch.Size([4821, 2]), descs.shape=torch.Size([4821, 128])\n",
      "aliked > rot_k=0, kpts.shape=torch.Size([4730, 2]), descs.shape=torch.Size([4730, 128])\n",
      "aliked > rot_k=0, kpts.shape=torch.Size([5396, 2]), descs.shape=torch.Size([5396, 128])\n",
      "aliked > rot_k=0, kpts.shape=torch.Size([5623, 2]), descs.shape=torch.Size([5623, 128])\n",
      "aliked > rot_k=0, kpts.shape=torch.Size([5204, 2]), descs.shape=torch.Size([5204, 128])\n",
      "aliked > rot_k=0, kpts.shape=torch.Size([5160, 2]), descs.shape=torch.Size([5160, 128])\n",
      "aliked > rot_k=0, kpts.shape=torch.Size([5130, 2]), descs.shape=torch.Size([5130, 128])\n",
      "aliked > rot_k=0, kpts.shape=torch.Size([4971, 2]), descs.shape=torch.Size([4971, 128])\n",
      "aliked > rot_k=0, kpts.shape=torch.Size([4983, 2]), descs.shape=torch.Size([4983, 128])\n",
      "aliked > rot_k=0, kpts.shape=torch.Size([5662, 2]), descs.shape=torch.Size([5662, 128])\n",
      "aliked > rot_k=0, kpts.shape=torch.Size([5176, 2]), descs.shape=torch.Size([5176, 128])\n",
      "aliked > rot_k=0, kpts.shape=torch.Size([5797, 2]), descs.shape=torch.Size([5797, 128])\n",
      "aliked > rot_k=0, kpts.shape=torch.Size([5174, 2]), descs.shape=torch.Size([5174, 128])\n",
      "aliked > rot_k=0, kpts.shape=torch.Size([5168, 2]), descs.shape=torch.Size([5168, 128])\n",
      "aliked > rot_k=0, kpts.shape=torch.Size([5250, 2]), descs.shape=torch.Size([5250, 128])\n",
      "aliked > rot_k=0, kpts.shape=torch.Size([5131, 2]), descs.shape=torch.Size([5131, 128])\n",
      "aliked > rot_k=0, kpts.shape=torch.Size([5658, 2]), descs.shape=torch.Size([5658, 128])\n",
      "aliked > rot_k=0, kpts.shape=torch.Size([5586, 2]), descs.shape=torch.Size([5586, 128])\n",
      "aliked > rot_k=0, kpts.shape=torch.Size([5843, 2]), descs.shape=torch.Size([5843, 128])\n",
      "aliked > rot_k=0, kpts.shape=torch.Size([4973, 2]), descs.shape=torch.Size([4973, 128])\n",
      "aliked > rot_k=0, kpts.shape=torch.Size([5159, 2]), descs.shape=torch.Size([5159, 128])\n",
      "aliked > rot_k=0, kpts.shape=torch.Size([5492, 2]), descs.shape=torch.Size([5492, 128])\n",
      "aliked > rot_k=0, kpts.shape=torch.Size([4673, 2]), descs.shape=torch.Size([4673, 128])\n",
      "aliked > rot_k=0, kpts.shape=torch.Size([5378, 2]), descs.shape=torch.Size([5378, 128])\n",
      "aliked > rot_k=0, kpts.shape=torch.Size([4839, 2]), descs.shape=torch.Size([4839, 128])\n",
      "aliked > rot_k=0, kpts.shape=torch.Size([4828, 2]), descs.shape=torch.Size([4828, 128])\n",
      "aliked > rot_k=0, kpts.shape=torch.Size([5204, 2]), descs.shape=torch.Size([5204, 128])\n",
      "aliked > rot_k=0, kpts.shape=torch.Size([5142, 2]), descs.shape=torch.Size([5142, 128])\n",
      "aliked > rot_k=0, kpts.shape=torch.Size([5441, 2]), descs.shape=torch.Size([5441, 128])\n",
      "aliked > rot_k=0, kpts.shape=torch.Size([5454, 2]), descs.shape=torch.Size([5454, 128])\n",
      "aliked > rot_k=0, kpts.shape=torch.Size([5518, 2]), descs.shape=torch.Size([5518, 128])\n",
      "aliked > rot_k=0, kpts.shape=torch.Size([5628, 2]), descs.shape=torch.Size([5628, 128])\n",
      "aliked > rot_k=0, kpts.shape=torch.Size([5570, 2]), descs.shape=torch.Size([5570, 128])\n",
      "aliked > rot_k=0, kpts.shape=torch.Size([5897, 2]), descs.shape=torch.Size([5897, 128])\n",
      "aliked > rot_k=0, kpts.shape=torch.Size([5412, 2]), descs.shape=torch.Size([5412, 128])\n",
      "aliked > rot_k=0, kpts.shape=torch.Size([5343, 2]), descs.shape=torch.Size([5343, 128])\n",
      "aliked > rot_k=0, kpts.shape=torch.Size([5043, 2]), descs.shape=torch.Size([5043, 128])\n",
      "aliked > rot_k=0, kpts.shape=torch.Size([5298, 2]), descs.shape=torch.Size([5298, 128])\n",
      "aliked > rot_k=0, kpts.shape=torch.Size([5439, 2]), descs.shape=torch.Size([5439, 128])\n",
      "aliked > rot_k=0, kpts.shape=torch.Size([5500, 2]), descs.shape=torch.Size([5500, 128])\n",
      "aliked > rot_k=0, kpts.shape=torch.Size([5320, 2]), descs.shape=torch.Size([5320, 128])\n",
      "aliked > rot_k=0, kpts.shape=torch.Size([5526, 2]), descs.shape=torch.Size([5526, 128])\n",
      "aliked > rot_k=0, kpts.shape=torch.Size([5431, 2]), descs.shape=torch.Size([5431, 128])\n",
      "aliked > rot_k=0, kpts.shape=torch.Size([5675, 2]), descs.shape=torch.Size([5675, 128])\n",
      "aliked > rot_k=0, kpts.shape=torch.Size([5746, 2]), descs.shape=torch.Size([5746, 128])\n",
      "aliked > rot_k=0, kpts.shape=torch.Size([5509, 2]), descs.shape=torch.Size([5509, 128])\n",
      "aliked > rot_k=0, kpts.shape=torch.Size([5661, 2]), descs.shape=torch.Size([5661, 128])\n",
      "aliked > rot_k=0, kpts.shape=torch.Size([5411, 2]), descs.shape=torch.Size([5411, 128])\n",
      "aliked > rot_k=0, kpts.shape=torch.Size([5491, 2]), descs.shape=torch.Size([5491, 128])\n",
      "aliked > rot_k=0, kpts.shape=torch.Size([5627, 2]), descs.shape=torch.Size([5627, 128])\n",
      "aliked > rot_k=0, kpts.shape=torch.Size([4941, 2]), descs.shape=torch.Size([4941, 128])\n",
      "aliked > rot_k=0, kpts.shape=torch.Size([5815, 2]), descs.shape=torch.Size([5815, 128])\n",
      "aliked > rot_k=0, kpts.shape=torch.Size([5396, 2]), descs.shape=torch.Size([5396, 128])\n",
      "aliked > rot_k=0, kpts.shape=torch.Size([5339, 2]), descs.shape=torch.Size([5339, 128])\n",
      "aliked > rot_k=0, kpts.shape=torch.Size([5332, 2]), descs.shape=torch.Size([5332, 128])\n",
      "aliked > rot_k=0, kpts.shape=torch.Size([5561, 2]), descs.shape=torch.Size([5561, 128])\n",
      "aliked > rot_k=0, kpts.shape=torch.Size([5157, 2]), descs.shape=torch.Size([5157, 128])\n",
      "aliked > rot_k=0, kpts.shape=torch.Size([5583, 2]), descs.shape=torch.Size([5583, 128])\n",
      "aliked > rot_k=0, kpts.shape=torch.Size([5632, 2]), descs.shape=torch.Size([5632, 128])\n",
      "aliked > rot_k=0, kpts.shape=torch.Size([5535, 2]), descs.shape=torch.Size([5535, 128])\n",
      "aliked > rot_k=0, kpts.shape=torch.Size([5549, 2]), descs.shape=torch.Size([5549, 128])\n",
      "aliked > rot_k=0, kpts.shape=torch.Size([5440, 2]), descs.shape=torch.Size([5440, 128])\n",
      "aliked > rot_k=0, kpts.shape=torch.Size([5539, 2]), descs.shape=torch.Size([5539, 128])\n",
      "aliked > rot_k=0, kpts.shape=torch.Size([5704, 2]), descs.shape=torch.Size([5704, 128])\n",
      "aliked > rot_k=0, kpts.shape=torch.Size([4989, 2]), descs.shape=torch.Size([4989, 128])\n",
      "aliked > rot_k=0, kpts.shape=torch.Size([5584, 2]), descs.shape=torch.Size([5584, 128])\n",
      "aliked > rot_k=0, kpts.shape=torch.Size([5658, 2]), descs.shape=torch.Size([5658, 128])\n",
      "aliked > rot_k=0, kpts.shape=torch.Size([5435, 2]), descs.shape=torch.Size([5435, 128])\n",
      "aliked > rot_k=0, kpts.shape=torch.Size([5442, 2]), descs.shape=torch.Size([5442, 128])\n",
      "aliked > rot_k=0, kpts.shape=torch.Size([5524, 2]), descs.shape=torch.Size([5524, 128])\n",
      "aliked > rot_k=0, kpts.shape=torch.Size([5155, 2]), descs.shape=torch.Size([5155, 128])\n",
      "aliked > rot_k=0, kpts.shape=torch.Size([5143, 2]), descs.shape=torch.Size([5143, 128])\n",
      "aliked > rot_k=0, kpts.shape=torch.Size([5354, 2]), descs.shape=torch.Size([5354, 128])\n",
      "aliked > rot_k=0, kpts.shape=torch.Size([5552, 2]), descs.shape=torch.Size([5552, 128])\n",
      "Loaded LightGlue model\n"
     ]
    },
    {
     "name": "stderr",
     "output_type": "stream",
     "text": [
      "  0%|          | 2/6611 [00:00<36:50,  2.99it/s]  "
     ]
    },
    {
     "name": "stdout",
     "output_type": "stream",
     "text": [
      "aliked> vineyard_split_2_frame_1260.png-vineyard_split_2_frame_1225.png: 100 matches @ 1th pair(aliked+lightglue)\n"
     ]
    },
    {
     "name": "stderr",
     "output_type": "stream",
     "text": [
      "  0%|          | 11/6611 [00:02<17:10,  6.40it/s]"
     ]
    },
    {
     "name": "stdout",
     "output_type": "stream",
     "text": [
      "aliked> vineyard_split_2_frame_1260.png-vineyard_split_2_frame_1255.png: 2207 matches @ 2th pair(aliked+lightglue)\n"
     ]
    },
    {
     "name": "stderr",
     "output_type": "stream",
     "text": [
      "  0%|          | 21/6611 [00:03<16:33,  6.64it/s]"
     ]
    },
    {
     "name": "stdout",
     "output_type": "stream",
     "text": [
      "aliked> vineyard_split_2_frame_1260.png-vineyard_split_2_frame_1250.png: 640 matches @ 3th pair(aliked+lightglue)\n"
     ]
    },
    {
     "name": "stderr",
     "output_type": "stream",
     "text": [
      "  0%|          | 24/6611 [00:04<16:47,  6.54it/s]"
     ]
    },
    {
     "name": "stdout",
     "output_type": "stream",
     "text": [
      "aliked> vineyard_split_2_frame_1260.png-vineyard_split_2_frame_1265.png: 1862 matches @ 4th pair(aliked+lightglue)\n"
     ]
    },
    {
     "name": "stderr",
     "output_type": "stream",
     "text": [
      "  2%|▏         | 114/6611 [00:17<15:50,  6.84it/s]"
     ]
    },
    {
     "name": "stdout",
     "output_type": "stream",
     "text": [
      "aliked> vineyard_split_2_frame_1225.png-vineyard_split_2_frame_1220.png: 2328 matches @ 5th pair(aliked+lightglue)\n",
      "aliked> vineyard_split_2_frame_1225.png-vineyard_split_2_frame_1165.png: 135 matches @ 6th pair(aliked+lightglue)\n"
     ]
    },
    {
     "name": "stderr",
     "output_type": "stream",
     "text": [
      "  2%|▏         | 125/6611 [00:19<15:43,  6.87it/s]"
     ]
    },
    {
     "name": "stdout",
     "output_type": "stream",
     "text": [
      "aliked> vineyard_split_2_frame_1225.png-vineyard_split_2_frame_1285.png: 141 matches @ 7th pair(aliked+lightglue)\n"
     ]
    },
    {
     "name": "stderr",
     "output_type": "stream",
     "text": [
      "  2%|▏         | 129/6611 [00:19<15:45,  6.86it/s]"
     ]
    },
    {
     "name": "stdout",
     "output_type": "stream",
     "text": [
      "aliked> vineyard_split_2_frame_1225.png-vineyard_split_2_frame_1235.png: 444 matches @ 8th pair(aliked+lightglue)\n",
      "aliked> vineyard_split_2_frame_1225.png-vineyard_split_2_frame_1230.png: 1415 matches @ 9th pair(aliked+lightglue)\n"
     ]
    },
    {
     "name": "stderr",
     "output_type": "stream",
     "text": [
      "  2%|▏         | 131/6611 [00:19<15:38,  6.90it/s]"
     ]
    },
    {
     "name": "stdout",
     "output_type": "stream",
     "text": [
      "aliked> vineyard_split_2_frame_1225.png-vineyard_split_2_frame_1215.png: 450 matches @ 10th pair(aliked+lightglue)\n"
     ]
    },
    {
     "name": "stderr",
     "output_type": "stream",
     "text": [
      "  3%|▎         | 190/6611 [00:28<15:35,  6.86it/s]"
     ]
    },
    {
     "name": "stdout",
     "output_type": "stream",
     "text": [
      "aliked> vineyard_split_2_frame_1245.png-vineyard_split_2_frame_1240.png: 1635 matches @ 11th pair(aliked+lightglue)\n"
     ]
    },
    {
     "name": "stderr",
     "output_type": "stream",
     "text": [
      "  3%|▎         | 196/6611 [00:29<15:55,  6.71it/s]"
     ]
    },
    {
     "name": "stdout",
     "output_type": "stream",
     "text": [
      "aliked> vineyard_split_2_frame_1245.png-vineyard_split_2_frame_1255.png: 435 matches @ 12th pair(aliked+lightglue)\n"
     ]
    },
    {
     "name": "stderr",
     "output_type": "stream",
     "text": [
      "  3%|▎         | 202/6611 [00:30<15:56,  6.70it/s]"
     ]
    },
    {
     "name": "stdout",
     "output_type": "stream",
     "text": [
      "aliked> vineyard_split_2_frame_1245.png-vineyard_split_2_frame_1195.png: 102 matches @ 13th pair(aliked+lightglue)\n",
      "aliked> vineyard_split_2_frame_1245.png-vineyard_split_2_frame_1250.png: 1688 matches @ 14th pair(aliked+lightglue)\n"
     ]
    },
    {
     "name": "stderr",
     "output_type": "stream",
     "text": [
      "  3%|▎         | 205/6611 [00:30<15:50,  6.74it/s]"
     ]
    },
    {
     "name": "stdout",
     "output_type": "stream",
     "text": [
      "aliked> vineyard_split_2_frame_1245.png-vineyard_split_2_frame_1235.png: 578 matches @ 15th pair(aliked+lightglue)\n"
     ]
    },
    {
     "name": "stderr",
     "output_type": "stream",
     "text": [
      "  3%|▎         | 207/6611 [00:30<15:56,  6.69it/s]"
     ]
    },
    {
     "name": "stdout",
     "output_type": "stream",
     "text": [
      "aliked> vineyard_split_2_frame_1245.png-vineyard_split_2_frame_1230.png: 151 matches @ 16th pair(aliked+lightglue)\n"
     ]
    },
    {
     "name": "stderr",
     "output_type": "stream",
     "text": [
      "  4%|▍         | 260/6611 [00:38<16:48,  6.29it/s]"
     ]
    },
    {
     "name": "stdout",
     "output_type": "stream",
     "text": [
      "aliked> vineyard_split_2_frame_1320.png-vineyard_split_2_frame_1305.png: 392 matches @ 17th pair(aliked+lightglue)\n"
     ]
    },
    {
     "name": "stderr",
     "output_type": "stream",
     "text": [
      "  4%|▍         | 267/6611 [00:39<16:46,  6.31it/s]"
     ]
    },
    {
     "name": "stdout",
     "output_type": "stream",
     "text": [
      "aliked> vineyard_split_2_frame_1320.png-vineyard_split_2_frame_1315.png: 1569 matches @ 18th pair(aliked+lightglue)\n"
     ]
    },
    {
     "name": "stderr",
     "output_type": "stream",
     "text": [
      "  5%|▍         | 302/6611 [00:45<15:36,  6.74it/s]"
     ]
    },
    {
     "name": "stdout",
     "output_type": "stream",
     "text": [
      "aliked> vineyard_split_2_frame_1205.png-vineyard_split_2_frame_1200.png: 1305 matches @ 19th pair(aliked+lightglue)\n"
     ]
    },
    {
     "name": "stderr",
     "output_type": "stream",
     "text": [
      "  5%|▍         | 305/6611 [00:45<15:51,  6.63it/s]"
     ]
    },
    {
     "name": "stdout",
     "output_type": "stream",
     "text": [
      "aliked> vineyard_split_2_frame_1205.png-vineyard_split_2_frame_1220.png: 193 matches @ 20th pair(aliked+lightglue)\n"
     ]
    },
    {
     "name": "stderr",
     "output_type": "stream",
     "text": [
      "  5%|▍         | 312/6611 [00:46<15:36,  6.73it/s]"
     ]
    },
    {
     "name": "stdout",
     "output_type": "stream",
     "text": [
      "aliked> vineyard_split_2_frame_1205.png-vineyard_split_2_frame_1195.png: 582 matches @ 21th pair(aliked+lightglue)\n",
      "aliked> vineyard_split_2_frame_1205.png-vineyard_split_2_frame_1210.png: 2129 matches @ 22th pair(aliked+lightglue)\n"
     ]
    },
    {
     "name": "stderr",
     "output_type": "stream",
     "text": [
      "  5%|▍         | 322/6611 [00:48<15:47,  6.64it/s]"
     ]
    },
    {
     "name": "stdout",
     "output_type": "stream",
     "text": [
      "aliked> vineyard_split_2_frame_1205.png-vineyard_split_2_frame_1215.png: 766 matches @ 23th pair(aliked+lightglue)\n"
     ]
    },
    {
     "name": "stderr",
     "output_type": "stream",
     "text": [
      "  6%|▋         | 419/6611 [01:02<15:30,  6.65it/s]"
     ]
    },
    {
     "name": "stdout",
     "output_type": "stream",
     "text": [
      "aliked> vineyard_split_2_frame_1240.png-vineyard_split_2_frame_1200.png: 256 matches @ 24th pair(aliked+lightglue)\n"
     ]
    },
    {
     "name": "stderr",
     "output_type": "stream",
     "text": [
      "  6%|▋         | 421/6611 [01:02<15:45,  6.55it/s]"
     ]
    },
    {
     "name": "stdout",
     "output_type": "stream",
     "text": [
      "aliked> vineyard_split_2_frame_1240.png-vineyard_split_2_frame_1255.png: 103 matches @ 25th pair(aliked+lightglue)\n"
     ]
    },
    {
     "name": "stderr",
     "output_type": "stream",
     "text": [
      "  6%|▋         | 428/6611 [01:03<15:42,  6.56it/s]"
     ]
    },
    {
     "name": "stdout",
     "output_type": "stream",
     "text": [
      "aliked> vineyard_split_2_frame_1240.png-vineyard_split_2_frame_1155.png: 129 matches @ 26th pair(aliked+lightglue)\n"
     ]
    },
    {
     "name": "stderr",
     "output_type": "stream",
     "text": [
      "  7%|▋         | 432/6611 [01:04<15:24,  6.68it/s]"
     ]
    },
    {
     "name": "stdout",
     "output_type": "stream",
     "text": [
      "aliked> vineyard_split_2_frame_1240.png-vineyard_split_2_frame_1250.png: 462 matches @ 27th pair(aliked+lightglue)\n"
     ]
    },
    {
     "name": "stderr",
     "output_type": "stream",
     "text": [
      "  7%|▋         | 438/6611 [01:05<15:50,  6.49it/s]"
     ]
    },
    {
     "name": "stdout",
     "output_type": "stream",
     "text": [
      "aliked> vineyard_split_2_frame_1240.png-vineyard_split_2_frame_1235.png: 2024 matches @ 28th pair(aliked+lightglue)\n",
      "aliked> vineyard_split_2_frame_1240.png-vineyard_split_2_frame_1230.png: 923 matches @ 29th pair(aliked+lightglue)\n"
     ]
    },
    {
     "name": "stderr",
     "output_type": "stream",
     "text": [
      "  8%|▊         | 550/6611 [01:21<15:39,  6.45it/s]"
     ]
    },
    {
     "name": "stdout",
     "output_type": "stream",
     "text": [
      "aliked> vineyard_split_2_frame_1170.png-vineyard_split_2_frame_1180.png: 1077 matches @ 30th pair(aliked+lightglue)\n"
     ]
    },
    {
     "name": "stderr",
     "output_type": "stream",
     "text": [
      "  8%|▊         | 553/6611 [01:22<15:49,  6.38it/s]"
     ]
    },
    {
     "name": "stdout",
     "output_type": "stream",
     "text": [
      "aliked> vineyard_split_2_frame_1170.png-vineyard_split_2_frame_1165.png: 1985 matches @ 31th pair(aliked+lightglue)\n"
     ]
    },
    {
     "name": "stderr",
     "output_type": "stream",
     "text": [
      "  8%|▊         | 556/6611 [01:22<15:36,  6.47it/s]"
     ]
    },
    {
     "name": "stdout",
     "output_type": "stream",
     "text": [
      "aliked> vineyard_split_2_frame_1170.png-vineyard_split_2_frame_1160.png: 740 matches @ 32th pair(aliked+lightglue)\n"
     ]
    },
    {
     "name": "stderr",
     "output_type": "stream",
     "text": [
      "  8%|▊         | 558/6611 [01:23<15:26,  6.53it/s]"
     ]
    },
    {
     "name": "stdout",
     "output_type": "stream",
     "text": [
      "aliked> vineyard_split_2_frame_1170.png-vineyard_split_2_frame_1155.png: 191 matches @ 33th pair(aliked+lightglue)\n"
     ]
    },
    {
     "name": "stderr",
     "output_type": "stream",
     "text": [
      "  9%|▊         | 566/6611 [01:24<15:33,  6.48it/s]"
     ]
    },
    {
     "name": "stdout",
     "output_type": "stream",
     "text": [
      "aliked> vineyard_split_2_frame_1170.png-vineyard_split_2_frame_1175.png: 2376 matches @ 34th pair(aliked+lightglue)\n"
     ]
    },
    {
     "name": "stderr",
     "output_type": "stream",
     "text": [
      " 10%|▉         | 657/6611 [01:37<15:50,  6.26it/s]"
     ]
    },
    {
     "name": "stdout",
     "output_type": "stream",
     "text": [
      "aliked> vineyard_split_2_frame_1300.png-vineyard_split_2_frame_1290.png: 966 matches @ 35th pair(aliked+lightglue)\n",
      "aliked> vineyard_split_2_frame_1300.png-vineyard_split_2_frame_1310.png: 865 matches @ 36th pair(aliked+lightglue)\n"
     ]
    },
    {
     "name": "stderr",
     "output_type": "stream",
     "text": [
      " 10%|█         | 664/6611 [01:39<16:40,  5.94it/s]"
     ]
    },
    {
     "name": "stdout",
     "output_type": "stream",
     "text": [
      "aliked> vineyard_split_2_frame_1300.png-vineyard_split_2_frame_1305.png: 1909 matches @ 37th pair(aliked+lightglue)\n"
     ]
    },
    {
     "name": "stderr",
     "output_type": "stream",
     "text": [
      " 11%|█         | 709/6611 [01:46<16:29,  5.96it/s]"
     ]
    },
    {
     "name": "stdout",
     "output_type": "stream",
     "text": [
      "aliked> vineyard_split_2_frame_1300.png-vineyard_split_3_frame_1465.png: 159 matches @ 38th pair(aliked+lightglue)\n"
     ]
    },
    {
     "name": "stderr",
     "output_type": "stream",
     "text": [
      " 11%|█         | 718/6611 [01:48<16:10,  6.07it/s]"
     ]
    },
    {
     "name": "stdout",
     "output_type": "stream",
     "text": [
      "aliked> vineyard_split_2_frame_1300.png-vineyard_split_3_frame_1460.png: 111 matches @ 39th pair(aliked+lightglue)\n"
     ]
    },
    {
     "name": "stderr",
     "output_type": "stream",
     "text": [
      " 12%|█▏        | 763/6611 [01:55<15:33,  6.26it/s]"
     ]
    },
    {
     "name": "stdout",
     "output_type": "stream",
     "text": [
      "aliked> vineyard_split_2_frame_1290.png-vineyard_split_2_frame_1295.png: 2108 matches @ 40th pair(aliked+lightglue)\n"
     ]
    },
    {
     "name": "stderr",
     "output_type": "stream",
     "text": [
      " 12%|█▏        | 769/6611 [01:56<15:47,  6.16it/s]"
     ]
    },
    {
     "name": "stdout",
     "output_type": "stream",
     "text": [
      "aliked> vineyard_split_2_frame_1290.png-vineyard_split_2_frame_1305.png: 239 matches @ 41th pair(aliked+lightglue)\n"
     ]
    },
    {
     "name": "stderr",
     "output_type": "stream",
     "text": [
      " 12%|█▏        | 773/6611 [01:57<15:50,  6.14it/s]"
     ]
    },
    {
     "name": "stdout",
     "output_type": "stream",
     "text": [
      "aliked> vineyard_split_2_frame_1290.png-vineyard_split_2_frame_1285.png: 1238 matches @ 42th pair(aliked+lightglue)\n"
     ]
    },
    {
     "name": "stderr",
     "output_type": "stream",
     "text": [
      " 13%|█▎        | 830/6611 [02:05<15:25,  6.24it/s]"
     ]
    },
    {
     "name": "stdout",
     "output_type": "stream",
     "text": [
      "aliked> vineyard_split_2_frame_1310.png-vineyard_split_2_frame_1305.png: 1953 matches @ 43th pair(aliked+lightglue)\n"
     ]
    },
    {
     "name": "stderr",
     "output_type": "stream",
     "text": [
      " 14%|█▍        | 929/6611 [02:21<14:57,  6.33it/s]"
     ]
    },
    {
     "name": "stdout",
     "output_type": "stream",
     "text": [
      "aliked> vineyard_split_2_frame_1200.png-vineyard_split_2_frame_1155.png: 135 matches @ 44th pair(aliked+lightglue)\n",
      "aliked> vineyard_split_2_frame_1200.png-vineyard_split_2_frame_1195.png: 1798 matches @ 45th pair(aliked+lightglue)\n"
     ]
    },
    {
     "name": "stderr",
     "output_type": "stream",
     "text": [
      " 14%|█▍        | 931/6611 [02:21<14:50,  6.38it/s]"
     ]
    },
    {
     "name": "stdout",
     "output_type": "stream",
     "text": [
      "aliked> vineyard_split_2_frame_1200.png-vineyard_split_2_frame_1210.png: 777 matches @ 46th pair(aliked+lightglue)\n"
     ]
    },
    {
     "name": "stderr",
     "output_type": "stream",
     "text": [
      " 14%|█▍        | 933/6611 [02:21<14:53,  6.35it/s]"
     ]
    },
    {
     "name": "stdout",
     "output_type": "stream",
     "text": [
      "aliked> vineyard_split_2_frame_1200.png-vineyard_split_2_frame_1185.png: 109 matches @ 47th pair(aliked+lightglue)\n"
     ]
    },
    {
     "name": "stderr",
     "output_type": "stream",
     "text": [
      " 14%|█▍        | 940/6611 [02:22<14:57,  6.32it/s]"
     ]
    },
    {
     "name": "stdout",
     "output_type": "stream",
     "text": [
      "aliked> vineyard_split_2_frame_1200.png-vineyard_split_2_frame_1215.png: 286 matches @ 48th pair(aliked+lightglue)\n"
     ]
    },
    {
     "name": "stderr",
     "output_type": "stream",
     "text": [
      " 16%|█▌        | 1050/6611 [02:39<14:15,  6.50it/s]"
     ]
    },
    {
     "name": "stdout",
     "output_type": "stream",
     "text": [
      "aliked> vineyard_split_2_frame_1180.png-vineyard_split_2_frame_1165.png: 274 matches @ 49th pair(aliked+lightglue)\n"
     ]
    },
    {
     "name": "stderr",
     "output_type": "stream",
     "text": [
      " 16%|█▌        | 1054/6611 [02:40<13:56,  6.64it/s]"
     ]
    },
    {
     "name": "stdout",
     "output_type": "stream",
     "text": [
      "aliked> vineyard_split_2_frame_1180.png-vineyard_split_2_frame_1195.png: 118 matches @ 50th pair(aliked+lightglue)\n"
     ]
    },
    {
     "name": "stderr",
     "output_type": "stream",
     "text": [
      " 16%|█▌        | 1057/6611 [02:40<14:03,  6.58it/s]"
     ]
    },
    {
     "name": "stdout",
     "output_type": "stream",
     "text": [
      "aliked> vineyard_split_2_frame_1180.png-vineyard_split_2_frame_1185.png: 845 matches @ 51th pair(aliked+lightglue)\n"
     ]
    },
    {
     "name": "stderr",
     "output_type": "stream",
     "text": [
      " 16%|█▌        | 1061/6611 [02:41<14:11,  6.52it/s]"
     ]
    },
    {
     "name": "stdout",
     "output_type": "stream",
     "text": [
      "aliked> vineyard_split_2_frame_1180.png-vineyard_split_2_frame_1175.png: 1796 matches @ 52th pair(aliked+lightglue)\n"
     ]
    },
    {
     "name": "stderr",
     "output_type": "stream",
     "text": [
      " 17%|█▋        | 1151/6611 [02:54<15:10,  6.00it/s]"
     ]
    },
    {
     "name": "stdout",
     "output_type": "stream",
     "text": [
      "aliked> vineyard_split_2_frame_1255.png-vineyard_split_2_frame_1250.png: 1709 matches @ 53th pair(aliked+lightglue)\n"
     ]
    },
    {
     "name": "stderr",
     "output_type": "stream",
     "text": [
      " 17%|█▋        | 1154/6611 [02:55<15:28,  5.88it/s]"
     ]
    },
    {
     "name": "stdout",
     "output_type": "stream",
     "text": [
      "aliked> vineyard_split_2_frame_1255.png-vineyard_split_2_frame_1265.png: 802 matches @ 54th pair(aliked+lightglue)\n"
     ]
    },
    {
     "name": "stderr",
     "output_type": "stream",
     "text": [
      " 19%|█▉        | 1243/6611 [03:09<14:35,  6.13it/s]"
     ]
    },
    {
     "name": "stdout",
     "output_type": "stream",
     "text": [
      "aliked> vineyard_split_2_frame_1220.png-vineyard_split_2_frame_1165.png: 187 matches @ 55th pair(aliked+lightglue)\n"
     ]
    },
    {
     "name": "stderr",
     "output_type": "stream",
     "text": [
      " 19%|█▉        | 1250/6611 [03:10<13:51,  6.45it/s]"
     ]
    },
    {
     "name": "stdout",
     "output_type": "stream",
     "text": [
      "aliked> vineyard_split_2_frame_1220.png-vineyard_split_2_frame_1210.png: 438 matches @ 56th pair(aliked+lightglue)\n"
     ]
    },
    {
     "name": "stderr",
     "output_type": "stream",
     "text": [
      " 19%|█▉        | 1253/6611 [03:11<14:04,  6.34it/s]"
     ]
    },
    {
     "name": "stdout",
     "output_type": "stream",
     "text": [
      "aliked> vineyard_split_2_frame_1220.png-vineyard_split_2_frame_1285.png: 191 matches @ 57th pair(aliked+lightglue)\n"
     ]
    },
    {
     "name": "stderr",
     "output_type": "stream",
     "text": [
      " 19%|█▉        | 1257/6611 [03:12<14:02,  6.36it/s]"
     ]
    },
    {
     "name": "stdout",
     "output_type": "stream",
     "text": [
      "aliked> vineyard_split_2_frame_1220.png-vineyard_split_2_frame_1235.png: 175 matches @ 58th pair(aliked+lightglue)\n",
      "aliked> vineyard_split_2_frame_1220.png-vineyard_split_2_frame_1230.png: 553 matches @ 59th pair(aliked+lightglue)\n"
     ]
    },
    {
     "name": "stderr",
     "output_type": "stream",
     "text": [
      " 19%|█▉        | 1259/6611 [03:12<13:58,  6.38it/s]"
     ]
    },
    {
     "name": "stdout",
     "output_type": "stream",
     "text": [
      "aliked> vineyard_split_2_frame_1220.png-vineyard_split_2_frame_1215.png: 1181 matches @ 60th pair(aliked+lightglue)\n"
     ]
    },
    {
     "name": "stderr",
     "output_type": "stream",
     "text": [
      " 20%|█▉        | 1322/6611 [03:21<13:29,  6.53it/s]"
     ]
    },
    {
     "name": "stdout",
     "output_type": "stream",
     "text": [
      "aliked> vineyard_split_2_frame_1220.png-vineyard_split_1_frame_1040.png: 102 matches @ 61th pair(aliked+lightglue)\n"
     ]
    },
    {
     "name": "stderr",
     "output_type": "stream",
     "text": [
      " 20%|██        | 1342/6611 [03:24<14:09,  6.20it/s]"
     ]
    },
    {
     "name": "stdout",
     "output_type": "stream",
     "text": [
      "aliked> vineyard_split_2_frame_1165.png-vineyard_split_2_frame_1160.png: 1958 matches @ 62th pair(aliked+lightglue)\n"
     ]
    },
    {
     "name": "stderr",
     "output_type": "stream",
     "text": [
      " 20%|██        | 1344/6611 [03:25<14:03,  6.25it/s]"
     ]
    },
    {
     "name": "stdout",
     "output_type": "stream",
     "text": [
      "aliked> vineyard_split_2_frame_1165.png-vineyard_split_2_frame_1155.png: 802 matches @ 63th pair(aliked+lightglue)\n"
     ]
    },
    {
     "name": "stderr",
     "output_type": "stream",
     "text": [
      " 20%|██        | 1351/6611 [03:26<14:15,  6.15it/s]"
     ]
    },
    {
     "name": "stdout",
     "output_type": "stream",
     "text": [
      "aliked> vineyard_split_2_frame_1165.png-vineyard_split_2_frame_1150.png: 247 matches @ 64th pair(aliked+lightglue)\n",
      "aliked> vineyard_split_2_frame_1165.png-vineyard_split_2_frame_1175.png: 1132 matches @ 65th pair(aliked+lightglue)\n"
     ]
    },
    {
     "name": "stderr",
     "output_type": "stream",
     "text": [
      " 21%|██▏       | 1417/6611 [03:36<13:41,  6.32it/s]"
     ]
    },
    {
     "name": "stdout",
     "output_type": "stream",
     "text": [
      "aliked> vineyard_split_2_frame_1165.png-vineyard_split_1_frame_1080.png: 137 matches @ 66th pair(aliked+lightglue)\n"
     ]
    },
    {
     "name": "stderr",
     "output_type": "stream",
     "text": [
      " 22%|██▏       | 1439/6611 [03:40<14:07,  6.10it/s]"
     ]
    },
    {
     "name": "stdout",
     "output_type": "stream",
     "text": [
      "aliked> vineyard_split_2_frame_1275.png-vineyard_split_2_frame_1280.png: 2136 matches @ 67th pair(aliked+lightglue)\n"
     ]
    },
    {
     "name": "stderr",
     "output_type": "stream",
     "text": [
      " 22%|██▏       | 1442/6611 [03:40<13:57,  6.17it/s]"
     ]
    },
    {
     "name": "stdout",
     "output_type": "stream",
     "text": [
      "aliked> vineyard_split_2_frame_1275.png-vineyard_split_2_frame_1270.png: 1008 matches @ 68th pair(aliked+lightglue)\n"
     ]
    },
    {
     "name": "stderr",
     "output_type": "stream",
     "text": [
      " 22%|██▏       | 1445/6611 [03:41<14:29,  5.94it/s]"
     ]
    },
    {
     "name": "stdout",
     "output_type": "stream",
     "text": [
      "aliked> vineyard_split_2_frame_1275.png-vineyard_split_2_frame_1285.png: 1006 matches @ 69th pair(aliked+lightglue)\n",
      "aliked> vineyard_split_2_frame_1275.png-vineyard_split_2_frame_1265.png: 149 matches @ 70th pair(aliked+lightglue)\n"
     ]
    },
    {
     "name": "stderr",
     "output_type": "stream",
     "text": [
      " 24%|██▍       | 1601/6611 [04:05<13:04,  6.38it/s]"
     ]
    },
    {
     "name": "stdout",
     "output_type": "stream",
     "text": [
      "aliked> vineyard_split_2_frame_1160.png-vineyard_split_2_frame_1155.png: 1829 matches @ 71th pair(aliked+lightglue)\n"
     ]
    },
    {
     "name": "stderr",
     "output_type": "stream",
     "text": [
      " 24%|██▍       | 1608/6611 [04:06<13:18,  6.27it/s]"
     ]
    },
    {
     "name": "stdout",
     "output_type": "stream",
     "text": [
      "aliked> vineyard_split_2_frame_1160.png-vineyard_split_2_frame_1150.png: 740 matches @ 72th pair(aliked+lightglue)\n",
      "aliked> vineyard_split_2_frame_1160.png-vineyard_split_2_frame_1175.png: 351 matches @ 73th pair(aliked+lightglue)\n"
     ]
    },
    {
     "name": "stderr",
     "output_type": "stream",
     "text": [
      " 26%|██▌       | 1704/6611 [04:21<13:13,  6.19it/s]"
     ]
    },
    {
     "name": "stdout",
     "output_type": "stream",
     "text": [
      "aliked> vineyard_split_2_frame_1280.png-vineyard_split_2_frame_1285.png: 2129 matches @ 74th pair(aliked+lightglue)\n"
     ]
    },
    {
     "name": "stderr",
     "output_type": "stream",
     "text": [
      " 27%|██▋       | 1763/6611 [04:30<12:51,  6.29it/s]"
     ]
    },
    {
     "name": "stdout",
     "output_type": "stream",
     "text": [
      "aliked> vineyard_split_2_frame_1155.png-vineyard_split_2_frame_1150.png: 1879 matches @ 75th pair(aliked+lightglue)\n"
     ]
    },
    {
     "name": "stderr",
     "output_type": "stream",
     "text": [
      " 28%|██▊       | 1833/6611 [04:41<12:14,  6.50it/s]"
     ]
    },
    {
     "name": "stdout",
     "output_type": "stream",
     "text": [
      "aliked> vineyard_split_2_frame_1195.png-vineyard_split_2_frame_1210.png: 390 matches @ 76th pair(aliked+lightglue)\n"
     ]
    },
    {
     "name": "stderr",
     "output_type": "stream",
     "text": [
      " 28%|██▊       | 1835/6611 [04:42<12:13,  6.52it/s]"
     ]
    },
    {
     "name": "stdout",
     "output_type": "stream",
     "text": [
      "aliked> vineyard_split_2_frame_1195.png-vineyard_split_2_frame_1185.png: 1130 matches @ 77th pair(aliked+lightglue)\n"
     ]
    },
    {
     "name": "stderr",
     "output_type": "stream",
     "text": [
      " 28%|██▊       | 1842/6611 [04:43<12:11,  6.52it/s]"
     ]
    },
    {
     "name": "stdout",
     "output_type": "stream",
     "text": [
      "aliked> vineyard_split_2_frame_1195.png-vineyard_split_2_frame_1215.png: 121 matches @ 78th pair(aliked+lightglue)\n"
     ]
    },
    {
     "name": "stderr",
     "output_type": "stream",
     "text": [
      " 29%|██▉       | 1948/6611 [04:58<11:33,  6.72it/s]"
     ]
    },
    {
     "name": "stdout",
     "output_type": "stream",
     "text": [
      "aliked> vineyard_split_2_frame_1270.png-vineyard_split_2_frame_1265.png: 1425 matches @ 79th pair(aliked+lightglue)\n"
     ]
    },
    {
     "name": "stderr",
     "output_type": "stream",
     "text": [
      " 30%|██▉       | 1961/6611 [05:00<11:49,  6.56it/s]"
     ]
    },
    {
     "name": "stdout",
     "output_type": "stream",
     "text": [
      "aliked> vineyard_split_2_frame_1210.png-vineyard_split_2_frame_1215.png: 1735 matches @ 80th pair(aliked+lightglue)\n"
     ]
    },
    {
     "name": "stderr",
     "output_type": "stream",
     "text": [
      " 30%|███       | 2014/6611 [05:08<12:02,  6.36it/s]"
     ]
    },
    {
     "name": "stdout",
     "output_type": "stream",
     "text": [
      "aliked> vineyard_split_2_frame_1250.png-vineyard_split_2_frame_1265.png: 145 matches @ 81th pair(aliked+lightglue)\n"
     ]
    },
    {
     "name": "stderr",
     "output_type": "stream",
     "text": [
      " 32%|███▏      | 2124/6611 [05:25<11:42,  6.39it/s]"
     ]
    },
    {
     "name": "stdout",
     "output_type": "stream",
     "text": [
      "aliked> vineyard_split_2_frame_1185.png-vineyard_split_2_frame_1175.png: 249 matches @ 82th pair(aliked+lightglue)\n"
     ]
    },
    {
     "name": "stderr",
     "output_type": "stream",
     "text": [
      " 34%|███▍      | 2272/6611 [05:47<10:54,  6.63it/s]"
     ]
    },
    {
     "name": "stdout",
     "output_type": "stream",
     "text": [
      "aliked> vineyard_split_2_frame_1285.png-vineyard_split_1_frame_1015.png: 113 matches @ 83th pair(aliked+lightglue)\n"
     ]
    },
    {
     "name": "stderr",
     "output_type": "stream",
     "text": [
      " 36%|███▌      | 2380/6611 [06:05<11:20,  6.22it/s]"
     ]
    },
    {
     "name": "stdout",
     "output_type": "stream",
     "text": [
      "aliked> vineyard_split_2_frame_1150.png-vineyard_split_2_frame_1235.png: 150 matches @ 84th pair(aliked+lightglue)\n",
      "aliked> vineyard_split_2_frame_1150.png-vineyard_split_2_frame_1230.png: 103 matches @ 85th pair(aliked+lightglue)\n"
     ]
    },
    {
     "name": "stderr",
     "output_type": "stream",
     "text": [
      " 38%|███▊      | 2545/6611 [06:30<10:38,  6.36it/s]"
     ]
    },
    {
     "name": "stdout",
     "output_type": "stream",
     "text": [
      "aliked> vineyard_split_2_frame_1235.png-vineyard_split_2_frame_1230.png: 1905 matches @ 86th pair(aliked+lightglue)\n"
     ]
    },
    {
     "name": "stderr",
     "output_type": "stream",
     "text": [
      " 40%|███▉      | 2613/6611 [06:41<09:38,  6.91it/s]"
     ]
    },
    {
     "name": "stdout",
     "output_type": "stream",
     "text": [
      "aliked> vineyard_split_2_frame_1235.png-vineyard_split_1_frame_0975.png: 110 matches @ 87th pair(aliked+lightglue)\n"
     ]
    },
    {
     "name": "stderr",
     "output_type": "stream",
     "text": [
      " 42%|████▏     | 2789/6611 [07:08<09:57,  6.40it/s]"
     ]
    },
    {
     "name": "stdout",
     "output_type": "stream",
     "text": [
      "aliked> vineyard_split_2_frame_1215.png-vineyard_split_1_frame_1080.png: 111 matches @ 88th pair(aliked+lightglue)\n"
     ]
    },
    {
     "name": "stderr",
     "output_type": "stream",
     "text": [
      " 43%|████▎     | 2814/6611 [07:12<09:32,  6.63it/s]"
     ]
    },
    {
     "name": "stdout",
     "output_type": "stream",
     "text": [
      "aliked> vineyard_split_3_frame_1395.png-vineyard_split_3_frame_1390.png: 1034 matches @ 89th pair(aliked+lightglue)\n",
      "aliked> vineyard_split_3_frame_1395.png-vineyard_split_3_frame_1405.png: 990 matches @ 90th pair(aliked+lightglue)\n"
     ]
    },
    {
     "name": "stderr",
     "output_type": "stream",
     "text": [
      " 43%|████▎     | 2825/6611 [07:13<09:13,  6.84it/s]"
     ]
    },
    {
     "name": "stdout",
     "output_type": "stream",
     "text": [
      "aliked> vineyard_split_3_frame_1395.png-vineyard_split_3_frame_1410.png: 168 matches @ 91th pair(aliked+lightglue)\n"
     ]
    },
    {
     "name": "stderr",
     "output_type": "stream",
     "text": [
      " 43%|████▎     | 2839/6611 [07:15<09:32,  6.59it/s]"
     ]
    },
    {
     "name": "stdout",
     "output_type": "stream",
     "text": [
      "aliked> vineyard_split_3_frame_1395.png-vineyard_split_3_frame_1400.png: 2031 matches @ 92th pair(aliked+lightglue)\n"
     ]
    },
    {
     "name": "stderr",
     "output_type": "stream",
     "text": [
      " 43%|████▎     | 2841/6611 [07:16<09:30,  6.61it/s]"
     ]
    },
    {
     "name": "stdout",
     "output_type": "stream",
     "text": [
      "aliked> vineyard_split_3_frame_1395.png-vineyard_split_3_frame_1420.png: 100 matches @ 93th pair(aliked+lightglue)\n"
     ]
    },
    {
     "name": "stderr",
     "output_type": "stream",
     "text": [
      " 44%|████▎     | 2879/6611 [07:21<08:48,  7.06it/s]"
     ]
    },
    {
     "name": "stdout",
     "output_type": "stream",
     "text": [
      "aliked> vineyard_split_3_frame_1475.png-vineyard_split_3_frame_1480.png: 1424 matches @ 94th pair(aliked+lightglue)\n"
     ]
    },
    {
     "name": "stderr",
     "output_type": "stream",
     "text": [
      " 44%|████▍     | 2905/6611 [07:25<09:11,  6.72it/s]"
     ]
    },
    {
     "name": "stdout",
     "output_type": "stream",
     "text": [
      "aliked> vineyard_split_3_frame_1475.png-vineyard_split_3_frame_1465.png: 677 matches @ 95th pair(aliked+lightglue)\n"
     ]
    },
    {
     "name": "stderr",
     "output_type": "stream",
     "text": [
      " 44%|████▍     | 2917/6611 [07:27<08:59,  6.85it/s]"
     ]
    },
    {
     "name": "stdout",
     "output_type": "stream",
     "text": [
      "aliked> vineyard_split_3_frame_1475.png-vineyard_split_3_frame_1460.png: 381 matches @ 96th pair(aliked+lightglue)\n"
     ]
    },
    {
     "name": "stderr",
     "output_type": "stream",
     "text": [
      " 44%|████▍     | 2926/6611 [07:28<08:39,  7.10it/s]"
     ]
    },
    {
     "name": "stdout",
     "output_type": "stream",
     "text": [
      "aliked> vineyard_split_3_frame_1475.png-vineyard_split_3_frame_1485.png: 405 matches @ 97th pair(aliked+lightglue)\n"
     ]
    },
    {
     "name": "stderr",
     "output_type": "stream",
     "text": [
      " 44%|████▍     | 2931/6611 [07:29<08:51,  6.93it/s]"
     ]
    },
    {
     "name": "stdout",
     "output_type": "stream",
     "text": [
      "aliked> vineyard_split_3_frame_1475.png-vineyard_split_3_frame_1470.png: 2353 matches @ 98th pair(aliked+lightglue)\n"
     ]
    },
    {
     "name": "stderr",
     "output_type": "stream",
     "text": [
      " 45%|████▍     | 2967/6611 [07:34<08:22,  7.25it/s]"
     ]
    },
    {
     "name": "stdout",
     "output_type": "stream",
     "text": [
      "aliked> vineyard_split_3_frame_0255.png-vineyard_split_3_frame_0265.png: 1065 matches @ 99th pair(aliked+lightglue)\n"
     ]
    },
    {
     "name": "stderr",
     "output_type": "stream",
     "text": [
      " 45%|████▌     | 2991/6611 [07:37<08:22,  7.21it/s]"
     ]
    },
    {
     "name": "stdout",
     "output_type": "stream",
     "text": [
      "aliked> vineyard_split_3_frame_0255.png-vineyard_split_3_frame_0245.png: 966 matches @ 100th pair(aliked+lightglue)\n"
     ]
    },
    {
     "name": "stderr",
     "output_type": "stream",
     "text": [
      " 45%|████▌     | 2995/6611 [07:38<08:39,  6.96it/s]"
     ]
    },
    {
     "name": "stdout",
     "output_type": "stream",
     "text": [
      "aliked> vineyard_split_3_frame_0255.png-vineyard_split_3_frame_0240.png: 399 matches @ 101th pair(aliked+lightglue)\n"
     ]
    },
    {
     "name": "stderr",
     "output_type": "stream",
     "text": [
      " 45%|████▌     | 3001/6611 [07:39<08:36,  6.99it/s]"
     ]
    },
    {
     "name": "stdout",
     "output_type": "stream",
     "text": [
      "aliked> vineyard_split_3_frame_0255.png-vineyard_split_3_frame_0260.png: 1915 matches @ 102th pair(aliked+lightglue)\n"
     ]
    },
    {
     "name": "stderr",
     "output_type": "stream",
     "text": [
      " 46%|████▌     | 3029/6611 [07:43<08:49,  6.77it/s]"
     ]
    },
    {
     "name": "stdout",
     "output_type": "stream",
     "text": [
      "aliked> vineyard_split_3_frame_1425.png-vineyard_split_3_frame_1405.png: 101 matches @ 103th pair(aliked+lightglue)\n"
     ]
    },
    {
     "name": "stderr",
     "output_type": "stream",
     "text": [
      " 46%|████▌     | 3042/6611 [07:45<08:57,  6.63it/s]"
     ]
    },
    {
     "name": "stdout",
     "output_type": "stream",
     "text": [
      "aliked> vineyard_split_3_frame_1425.png-vineyard_split_3_frame_1410.png: 192 matches @ 104th pair(aliked+lightglue)\n"
     ]
    },
    {
     "name": "stderr",
     "output_type": "stream",
     "text": [
      " 46%|████▌     | 3050/6611 [07:46<08:29,  6.99it/s]"
     ]
    },
    {
     "name": "stdout",
     "output_type": "stream",
     "text": [
      "aliked> vineyard_split_3_frame_1425.png-vineyard_split_3_frame_1430.png: 2030 matches @ 105th pair(aliked+lightglue)\n"
     ]
    },
    {
     "name": "stderr",
     "output_type": "stream",
     "text": [
      " 46%|████▌     | 3052/6611 [07:46<08:37,  6.87it/s]"
     ]
    },
    {
     "name": "stdout",
     "output_type": "stream",
     "text": [
      "aliked> vineyard_split_3_frame_1425.png-vineyard_split_3_frame_1440.png: 272 matches @ 106th pair(aliked+lightglue)\n"
     ]
    },
    {
     "name": "stderr",
     "output_type": "stream",
     "text": [
      " 46%|████▌     | 3056/6611 [07:47<08:59,  6.59it/s]"
     ]
    },
    {
     "name": "stdout",
     "output_type": "stream",
     "text": [
      "aliked> vineyard_split_3_frame_1425.png-vineyard_split_3_frame_1415.png: 572 matches @ 107th pair(aliked+lightglue)\n",
      "aliked> vineyard_split_3_frame_1425.png-vineyard_split_3_frame_1435.png: 979 matches @ 108th pair(aliked+lightglue)\n"
     ]
    },
    {
     "name": "stderr",
     "output_type": "stream",
     "text": [
      " 46%|████▋     | 3058/6611 [07:47<08:48,  6.72it/s]"
     ]
    },
    {
     "name": "stdout",
     "output_type": "stream",
     "text": [
      "aliked> vineyard_split_3_frame_1425.png-vineyard_split_3_frame_1420.png: 1195 matches @ 109th pair(aliked+lightglue)\n"
     ]
    },
    {
     "name": "stderr",
     "output_type": "stream",
     "text": [
      " 47%|████▋     | 3085/6611 [07:51<08:45,  6.71it/s]"
     ]
    },
    {
     "name": "stdout",
     "output_type": "stream",
     "text": [
      "aliked> vineyard_split_3_frame_1425.png-vineyard_split_1_frame_0900.png: 127 matches @ 110th pair(aliked+lightglue)\n"
     ]
    },
    {
     "name": "stderr",
     "output_type": "stream",
     "text": [
      " 47%|████▋     | 3109/6611 [07:54<07:45,  7.52it/s]"
     ]
    },
    {
     "name": "stdout",
     "output_type": "stream",
     "text": [
      "aliked> vineyard_split_3_frame_0125.png-vineyard_split_3_frame_0140.png: 188 matches @ 111th pair(aliked+lightglue)\n"
     ]
    },
    {
     "name": "stderr",
     "output_type": "stream",
     "text": [
      " 47%|████▋     | 3117/6611 [07:55<07:51,  7.41it/s]"
     ]
    },
    {
     "name": "stdout",
     "output_type": "stream",
     "text": [
      "aliked> vineyard_split_3_frame_0125.png-vineyard_split_3_frame_0120.png: 2149 matches @ 112th pair(aliked+lightglue)\n"
     ]
    },
    {
     "name": "stderr",
     "output_type": "stream",
     "text": [
      " 47%|████▋     | 3119/6611 [07:56<08:00,  7.27it/s]"
     ]
    },
    {
     "name": "stdout",
     "output_type": "stream",
     "text": [
      "aliked> vineyard_split_3_frame_0125.png-vineyard_split_3_frame_0105.png: 316 matches @ 113th pair(aliked+lightglue)\n"
     ]
    },
    {
     "name": "stderr",
     "output_type": "stream",
     "text": [
      " 47%|████▋     | 3129/6611 [07:57<07:43,  7.51it/s]"
     ]
    },
    {
     "name": "stdout",
     "output_type": "stream",
     "text": [
      "aliked> vineyard_split_3_frame_0125.png-vineyard_split_3_frame_0110.png: 553 matches @ 114th pair(aliked+lightglue)\n"
     ]
    },
    {
     "name": "stderr",
     "output_type": "stream",
     "text": [
      " 47%|████▋     | 3136/6611 [07:58<07:36,  7.61it/s]"
     ]
    },
    {
     "name": "stdout",
     "output_type": "stream",
     "text": [
      "aliked> vineyard_split_3_frame_0125.png-vineyard_split_3_frame_0135.png: 772 matches @ 115th pair(aliked+lightglue)\n"
     ]
    },
    {
     "name": "stderr",
     "output_type": "stream",
     "text": [
      " 48%|████▊     | 3194/6611 [08:06<08:16,  6.88it/s]"
     ]
    },
    {
     "name": "stdout",
     "output_type": "stream",
     "text": [
      "aliked> vineyard_split_3_frame_1480.png-vineyard_split_3_frame_1490.png: 182 matches @ 116th pair(aliked+lightglue)\n"
     ]
    },
    {
     "name": "stderr",
     "output_type": "stream",
     "text": [
      " 49%|████▊     | 3217/6611 [08:09<08:09,  6.94it/s]"
     ]
    },
    {
     "name": "stdout",
     "output_type": "stream",
     "text": [
      "aliked> vineyard_split_3_frame_1480.png-vineyard_split_3_frame_1485.png: 1942 matches @ 117th pair(aliked+lightglue)\n"
     ]
    },
    {
     "name": "stderr",
     "output_type": "stream",
     "text": [
      " 49%|████▊     | 3221/6611 [08:10<08:18,  6.80it/s]"
     ]
    },
    {
     "name": "stdout",
     "output_type": "stream",
     "text": [
      "aliked> vineyard_split_3_frame_1480.png-vineyard_split_3_frame_1470.png: 781 matches @ 118th pair(aliked+lightglue)\n"
     ]
    },
    {
     "name": "stderr",
     "output_type": "stream",
     "text": [
      " 49%|████▉     | 3258/6611 [08:15<07:11,  7.77it/s]"
     ]
    },
    {
     "name": "stdout",
     "output_type": "stream",
     "text": [
      "aliked> vineyard_split_3_frame_0215.png-vineyard_split_3_frame_0225.png: 893 matches @ 119th pair(aliked+lightglue)\n"
     ]
    },
    {
     "name": "stderr",
     "output_type": "stream",
     "text": [
      " 49%|████▉     | 3262/6611 [08:16<07:12,  7.74it/s]"
     ]
    },
    {
     "name": "stdout",
     "output_type": "stream",
     "text": [
      "aliked> vineyard_split_3_frame_0215.png-vineyard_split_3_frame_0205.png: 748 matches @ 120th pair(aliked+lightglue)\n"
     ]
    },
    {
     "name": "stderr",
     "output_type": "stream",
     "text": [
      " 49%|████▉     | 3267/6611 [08:17<07:08,  7.80it/s]"
     ]
    },
    {
     "name": "stdout",
     "output_type": "stream",
     "text": [
      "aliked> vineyard_split_3_frame_0215.png-vineyard_split_3_frame_0210.png: 1429 matches @ 121th pair(aliked+lightglue)\n"
     ]
    },
    {
     "name": "stderr",
     "output_type": "stream",
     "text": [
      " 49%|████▉     | 3270/6611 [08:17<07:04,  7.87it/s]"
     ]
    },
    {
     "name": "stdout",
     "output_type": "stream",
     "text": [
      "aliked> vineyard_split_3_frame_0215.png-vineyard_split_3_frame_0220.png: 2025 matches @ 122th pair(aliked+lightglue)\n",
      "aliked> vineyard_split_3_frame_0215.png-vineyard_split_3_frame_0200.png: 150 matches @ 123th pair(aliked+lightglue)\n"
     ]
    },
    {
     "name": "stderr",
     "output_type": "stream",
     "text": [
      " 50%|████▉     | 3274/6611 [08:18<07:15,  7.67it/s]"
     ]
    },
    {
     "name": "stdout",
     "output_type": "stream",
     "text": [
      "aliked> vineyard_split_3_frame_0215.png-vineyard_split_3_frame_0230.png: 169 matches @ 124th pair(aliked+lightglue)\n"
     ]
    },
    {
     "name": "stderr",
     "output_type": "stream",
     "text": [
      " 50%|████▉     | 3288/6611 [08:19<06:25,  8.62it/s]"
     ]
    },
    {
     "name": "stdout",
     "output_type": "stream",
     "text": [
      "aliked> vineyard_split_3_frame_0295.png-vineyard_split_3_frame_0285.png: 698 matches @ 125th pair(aliked+lightglue)\n"
     ]
    },
    {
     "name": "stderr",
     "output_type": "stream",
     "text": [
      " 50%|████▉     | 3290/6611 [08:19<06:06,  9.07it/s]"
     ]
    },
    {
     "name": "stdout",
     "output_type": "stream",
     "text": [
      "aliked> vineyard_split_3_frame_0295.png-vineyard_split_3_frame_0305.png: 779 matches @ 126th pair(aliked+lightglue)\n"
     ]
    },
    {
     "name": "stderr",
     "output_type": "stream",
     "text": [
      " 50%|████▉     | 3297/6611 [08:20<06:13,  8.88it/s]"
     ]
    },
    {
     "name": "stdout",
     "output_type": "stream",
     "text": [
      "aliked> vineyard_split_3_frame_0295.png-vineyard_split_3_frame_0300.png: 1108 matches @ 127th pair(aliked+lightglue)\n"
     ]
    },
    {
     "name": "stderr",
     "output_type": "stream",
     "text": [
      " 50%|████▉     | 3305/6611 [08:21<07:20,  7.51it/s]"
     ]
    },
    {
     "name": "stdout",
     "output_type": "stream",
     "text": [
      "aliked> vineyard_split_3_frame_0090.png-vineyard_split_3_frame_0075.png: 477 matches @ 128th pair(aliked+lightglue)\n"
     ]
    },
    {
     "name": "stderr",
     "output_type": "stream",
     "text": [
      " 50%|█████     | 3313/6611 [08:22<07:11,  7.64it/s]"
     ]
    },
    {
     "name": "stdout",
     "output_type": "stream",
     "text": [
      "aliked> vineyard_split_3_frame_0090.png-vineyard_split_3_frame_0080.png: 837 matches @ 129th pair(aliked+lightglue)\n"
     ]
    },
    {
     "name": "stderr",
     "output_type": "stream",
     "text": [
      " 50%|█████     | 3321/6611 [08:23<07:10,  7.64it/s]"
     ]
    },
    {
     "name": "stdout",
     "output_type": "stream",
     "text": [
      "aliked> vineyard_split_3_frame_0090.png-vineyard_split_3_frame_0100.png: 797 matches @ 130th pair(aliked+lightglue)\n"
     ]
    },
    {
     "name": "stderr",
     "output_type": "stream",
     "text": [
      " 50%|█████     | 3330/6611 [08:25<07:09,  7.64it/s]"
     ]
    },
    {
     "name": "stdout",
     "output_type": "stream",
     "text": [
      "aliked> vineyard_split_3_frame_0090.png-vineyard_split_3_frame_0085.png: 2038 matches @ 131th pair(aliked+lightglue)\n",
      "aliked> vineyard_split_3_frame_0090.png-vineyard_split_3_frame_0095.png: 1897 matches @ 132th pair(aliked+lightglue)\n"
     ]
    },
    {
     "name": "stderr",
     "output_type": "stream",
     "text": [
      " 51%|█████     | 3370/6611 [08:30<07:09,  7.55it/s]"
     ]
    },
    {
     "name": "stdout",
     "output_type": "stream",
     "text": [
      "aliked> vineyard_split_3_frame_0190.png-vineyard_split_3_frame_0195.png: 1647 matches @ 133th pair(aliked+lightglue)\n"
     ]
    },
    {
     "name": "stderr",
     "output_type": "stream",
     "text": [
      " 51%|█████     | 3386/6611 [08:32<07:06,  7.56it/s]"
     ]
    },
    {
     "name": "stdout",
     "output_type": "stream",
     "text": [
      "aliked> vineyard_split_3_frame_0190.png-vineyard_split_3_frame_0180.png: 543 matches @ 134th pair(aliked+lightglue)\n"
     ]
    },
    {
     "name": "stderr",
     "output_type": "stream",
     "text": [
      " 52%|█████▏    | 3409/6611 [08:35<07:01,  7.60it/s]"
     ]
    },
    {
     "name": "stdout",
     "output_type": "stream",
     "text": [
      "aliked> vineyard_split_3_frame_0265.png-vineyard_split_3_frame_0270.png: 1451 matches @ 135th pair(aliked+lightglue)\n"
     ]
    },
    {
     "name": "stderr",
     "output_type": "stream",
     "text": [
      " 52%|█████▏    | 3411/6611 [08:36<06:56,  7.69it/s]"
     ]
    },
    {
     "name": "stdout",
     "output_type": "stream",
     "text": [
      "aliked> vineyard_split_3_frame_0265.png-vineyard_split_3_frame_0285.png: 365 matches @ 136th pair(aliked+lightglue)\n"
     ]
    },
    {
     "name": "stderr",
     "output_type": "stream",
     "text": [
      " 52%|█████▏    | 3413/6611 [08:36<06:51,  7.78it/s]"
     ]
    },
    {
     "name": "stdout",
     "output_type": "stream",
     "text": [
      "aliked> vineyard_split_3_frame_0265.png-vineyard_split_3_frame_0280.png: 745 matches @ 137th pair(aliked+lightglue)\n",
      "aliked> vineyard_split_3_frame_0265.png-vineyard_split_3_frame_0275.png: 668 matches @ 138th pair(aliked+lightglue)\n"
     ]
    },
    {
     "name": "stderr",
     "output_type": "stream",
     "text": [
      " 52%|█████▏    | 3430/6611 [08:38<06:58,  7.60it/s]"
     ]
    },
    {
     "name": "stdout",
     "output_type": "stream",
     "text": [
      "aliked> vineyard_split_3_frame_0265.png-vineyard_split_3_frame_0245.png: 178 matches @ 139th pair(aliked+lightglue)\n"
     ]
    },
    {
     "name": "stderr",
     "output_type": "stream",
     "text": [
      " 52%|█████▏    | 3440/6611 [08:39<07:03,  7.48it/s]"
     ]
    },
    {
     "name": "stdout",
     "output_type": "stream",
     "text": [
      "aliked> vineyard_split_3_frame_0265.png-vineyard_split_3_frame_0260.png: 2015 matches @ 140th pair(aliked+lightglue)\n"
     ]
    },
    {
     "name": "stderr",
     "output_type": "stream",
     "text": [
      " 52%|█████▏    | 3465/6611 [08:43<07:47,  6.73it/s]"
     ]
    },
    {
     "name": "stdout",
     "output_type": "stream",
     "text": [
      "aliked> vineyard_split_3_frame_1445.png-vineyard_split_3_frame_1450.png: 1341 matches @ 141th pair(aliked+lightglue)\n"
     ]
    },
    {
     "name": "stderr",
     "output_type": "stream",
     "text": [
      " 53%|█████▎    | 3491/6611 [08:47<08:19,  6.24it/s]"
     ]
    },
    {
     "name": "stdout",
     "output_type": "stream",
     "text": [
      "aliked> vineyard_split_3_frame_1445.png-vineyard_split_3_frame_1440.png: 1910 matches @ 142th pair(aliked+lightglue)\n"
     ]
    },
    {
     "name": "stderr",
     "output_type": "stream",
     "text": [
      " 53%|█████▎    | 3498/6611 [08:48<08:34,  6.05it/s]"
     ]
    },
    {
     "name": "stdout",
     "output_type": "stream",
     "text": [
      "aliked> vineyard_split_3_frame_1445.png-vineyard_split_3_frame_1435.png: 185 matches @ 143th pair(aliked+lightglue)\n"
     ]
    },
    {
     "name": "stderr",
     "output_type": "stream",
     "text": [
      " 54%|█████▍    | 3565/6611 [08:58<07:57,  6.38it/s]"
     ]
    },
    {
     "name": "stdout",
     "output_type": "stream",
     "text": [
      "aliked> vineyard_split_3_frame_1450.png-vineyard_split_3_frame_1465.png: 202 matches @ 144th pair(aliked+lightglue)\n"
     ]
    },
    {
     "name": "stderr",
     "output_type": "stream",
     "text": [
      " 54%|█████▍    | 3576/6611 [09:00<07:54,  6.39it/s]"
     ]
    },
    {
     "name": "stdout",
     "output_type": "stream",
     "text": [
      "aliked> vineyard_split_3_frame_1450.png-vineyard_split_3_frame_1440.png: 391 matches @ 145th pair(aliked+lightglue)\n",
      "aliked> vineyard_split_3_frame_1450.png-vineyard_split_3_frame_1460.png: 480 matches @ 146th pair(aliked+lightglue)\n"
     ]
    },
    {
     "name": "stderr",
     "output_type": "stream",
     "text": [
      " 55%|█████▌    | 3665/6611 [09:13<07:14,  6.78it/s]"
     ]
    },
    {
     "name": "stdout",
     "output_type": "stream",
     "text": [
      "aliked> vineyard_split_3_frame_1390.png-vineyard_split_3_frame_1400.png: 398 matches @ 147th pair(aliked+lightglue)\n"
     ]
    },
    {
     "name": "stderr",
     "output_type": "stream",
     "text": [
      " 56%|█████▌    | 3716/6611 [09:21<07:41,  6.27it/s]"
     ]
    },
    {
     "name": "stdout",
     "output_type": "stream",
     "text": [
      "aliked> vineyard_split_3_frame_1555.png-vineyard_split_3_frame_1540.png: 320 matches @ 148th pair(aliked+lightglue)\n"
     ]
    },
    {
     "name": "stderr",
     "output_type": "stream",
     "text": [
      " 56%|█████▋    | 3719/6611 [09:21<07:53,  6.11it/s]"
     ]
    },
    {
     "name": "stdout",
     "output_type": "stream",
     "text": [
      "aliked> vineyard_split_3_frame_1555.png-vineyard_split_3_frame_1545.png: 847 matches @ 149th pair(aliked+lightglue)\n"
     ]
    },
    {
     "name": "stderr",
     "output_type": "stream",
     "text": [
      " 56%|█████▋    | 3725/6611 [09:22<07:41,  6.26it/s]"
     ]
    },
    {
     "name": "stdout",
     "output_type": "stream",
     "text": [
      "aliked> vineyard_split_3_frame_1555.png-vineyard_split_3_frame_1560.png: 1454 matches @ 150th pair(aliked+lightglue)\n"
     ]
    },
    {
     "name": "stderr",
     "output_type": "stream",
     "text": [
      " 57%|█████▋    | 3759/6611 [09:28<07:28,  6.36it/s]"
     ]
    },
    {
     "name": "stdout",
     "output_type": "stream",
     "text": [
      "aliked> vineyard_split_3_frame_1550.png-vineyard_split_3_frame_1535.png: 586 matches @ 151th pair(aliked+lightglue)\n"
     ]
    },
    {
     "name": "stderr",
     "output_type": "stream",
     "text": [
      " 57%|█████▋    | 3762/6611 [09:28<07:33,  6.29it/s]"
     ]
    },
    {
     "name": "stdout",
     "output_type": "stream",
     "text": [
      "aliked> vineyard_split_3_frame_1550.png-vineyard_split_3_frame_1545.png: 2049 matches @ 152th pair(aliked+lightglue)\n"
     ]
    },
    {
     "name": "stderr",
     "output_type": "stream",
     "text": [
      " 57%|█████▋    | 3779/6611 [09:31<07:01,  6.72it/s]"
     ]
    },
    {
     "name": "stdout",
     "output_type": "stream",
     "text": [
      "aliked> vineyard_split_3_frame_0145.png-vineyard_split_3_frame_0235.png: 116 matches @ 153th pair(aliked+lightglue)\n"
     ]
    },
    {
     "name": "stderr",
     "output_type": "stream",
     "text": [
      " 57%|█████▋    | 3781/6611 [09:31<06:54,  6.83it/s]"
     ]
    },
    {
     "name": "stdout",
     "output_type": "stream",
     "text": [
      "aliked> vineyard_split_3_frame_0145.png-vineyard_split_3_frame_0130.png: 109 matches @ 154th pair(aliked+lightglue)\n"
     ]
    },
    {
     "name": "stderr",
     "output_type": "stream",
     "text": [
      " 57%|█████▋    | 3801/6611 [09:34<06:53,  6.80it/s]"
     ]
    },
    {
     "name": "stdout",
     "output_type": "stream",
     "text": [
      "aliked> vineyard_split_3_frame_1405.png-vineyard_split_3_frame_1410.png: 1782 matches @ 155th pair(aliked+lightglue)\n"
     ]
    },
    {
     "name": "stderr",
     "output_type": "stream",
     "text": [
      " 58%|█████▊    | 3815/6611 [09:36<07:06,  6.55it/s]"
     ]
    },
    {
     "name": "stdout",
     "output_type": "stream",
     "text": [
      "aliked> vineyard_split_3_frame_1405.png-vineyard_split_3_frame_1400.png: 2228 matches @ 156th pair(aliked+lightglue)\n",
      "aliked> vineyard_split_3_frame_1405.png-vineyard_split_3_frame_1415.png: 751 matches @ 157th pair(aliked+lightglue)\n"
     ]
    },
    {
     "name": "stderr",
     "output_type": "stream",
     "text": [
      " 58%|█████▊    | 3818/6611 [09:37<07:07,  6.53it/s]"
     ]
    },
    {
     "name": "stdout",
     "output_type": "stream",
     "text": [
      "aliked> vineyard_split_3_frame_1405.png-vineyard_split_3_frame_1420.png: 133 matches @ 158th pair(aliked+lightglue)\n"
     ]
    },
    {
     "name": "stderr",
     "output_type": "stream",
     "text": [
      " 58%|█████▊    | 3858/6611 [09:43<06:42,  6.85it/s]"
     ]
    },
    {
     "name": "stdout",
     "output_type": "stream",
     "text": [
      "aliked> vineyard_split_3_frame_0070.png-vineyard_split_3_frame_0075.png: 1547 matches @ 159th pair(aliked+lightglue)\n"
     ]
    },
    {
     "name": "stderr",
     "output_type": "stream",
     "text": [
      " 58%|█████▊    | 3865/6611 [09:44<06:30,  7.04it/s]"
     ]
    },
    {
     "name": "stdout",
     "output_type": "stream",
     "text": [
      "aliked> vineyard_split_3_frame_0070.png-vineyard_split_3_frame_0080.png: 918 matches @ 160th pair(aliked+lightglue)\n"
     ]
    },
    {
     "name": "stderr",
     "output_type": "stream",
     "text": [
      " 59%|█████▊    | 3883/6611 [09:46<06:16,  7.24it/s]"
     ]
    },
    {
     "name": "stdout",
     "output_type": "stream",
     "text": [
      "aliked> vineyard_split_3_frame_0070.png-vineyard_split_3_frame_0085.png: 301 matches @ 161th pair(aliked+lightglue)\n"
     ]
    },
    {
     "name": "stderr",
     "output_type": "stream",
     "text": [
      " 59%|█████▉    | 3906/6611 [09:50<06:29,  6.95it/s]"
     ]
    },
    {
     "name": "stdout",
     "output_type": "stream",
     "text": [
      "aliked> vineyard_split_3_frame_1500.png-vineyard_split_3_frame_1490.png: 857 matches @ 162th pair(aliked+lightglue)\n"
     ]
    },
    {
     "name": "stderr",
     "output_type": "stream",
     "text": [
      " 59%|█████▉    | 3909/6611 [09:50<06:32,  6.88it/s]"
     ]
    },
    {
     "name": "stdout",
     "output_type": "stream",
     "text": [
      "aliked> vineyard_split_3_frame_1500.png-vineyard_split_3_frame_1495.png: 1927 matches @ 163th pair(aliked+lightglue)\n"
     ]
    },
    {
     "name": "stderr",
     "output_type": "stream",
     "text": [
      " 59%|█████▉    | 3911/6611 [09:50<06:30,  6.91it/s]"
     ]
    },
    {
     "name": "stdout",
     "output_type": "stream",
     "text": [
      "aliked> vineyard_split_3_frame_1500.png-vineyard_split_3_frame_1510.png: 794 matches @ 164th pair(aliked+lightglue)\n"
     ]
    },
    {
     "name": "stderr",
     "output_type": "stream",
     "text": [
      " 60%|█████▉    | 3938/6611 [09:54<06:20,  7.02it/s]"
     ]
    },
    {
     "name": "stdout",
     "output_type": "stream",
     "text": [
      "aliked> vineyard_split_3_frame_1500.png-vineyard_split_3_frame_1485.png: 140 matches @ 165th pair(aliked+lightglue)\n"
     ]
    },
    {
     "name": "stderr",
     "output_type": "stream",
     "text": [
      " 61%|██████    | 4009/6611 [10:05<06:17,  6.89it/s]"
     ]
    },
    {
     "name": "stdout",
     "output_type": "stream",
     "text": [
      "aliked> vineyard_split_3_frame_0075.png-vineyard_split_3_frame_0080.png: 2253 matches @ 166th pair(aliked+lightglue)\n"
     ]
    },
    {
     "name": "stderr",
     "output_type": "stream",
     "text": [
      " 61%|██████    | 4031/6611 [10:08<06:05,  7.06it/s]"
     ]
    },
    {
     "name": "stdout",
     "output_type": "stream",
     "text": [
      "aliked> vineyard_split_3_frame_0075.png-vineyard_split_3_frame_0085.png: 918 matches @ 167th pair(aliked+lightglue)\n"
     ]
    },
    {
     "name": "stderr",
     "output_type": "stream",
     "text": [
      " 61%|██████▏   | 4052/6611 [10:11<06:06,  6.98it/s]"
     ]
    },
    {
     "name": "stdout",
     "output_type": "stream",
     "text": [
      "aliked> vineyard_split_3_frame_0160.png-vineyard_split_3_frame_0150.png: 666 matches @ 168th pair(aliked+lightglue)\n"
     ]
    },
    {
     "name": "stderr",
     "output_type": "stream",
     "text": [
      " 61%|██████▏   | 4055/6611 [10:12<05:48,  7.32it/s]"
     ]
    },
    {
     "name": "stdout",
     "output_type": "stream",
     "text": [
      "aliked> vineyard_split_3_frame_0160.png-vineyard_split_3_frame_0170.png: 1052 matches @ 169th pair(aliked+lightglue)\n"
     ]
    },
    {
     "name": "stderr",
     "output_type": "stream",
     "text": [
      " 62%|██████▏   | 4066/6611 [10:13<06:00,  7.06it/s]"
     ]
    },
    {
     "name": "stdout",
     "output_type": "stream",
     "text": [
      "aliked> vineyard_split_3_frame_0160.png-vineyard_split_3_frame_0175.png: 447 matches @ 170th pair(aliked+lightglue)\n"
     ]
    },
    {
     "name": "stderr",
     "output_type": "stream",
     "text": [
      " 62%|██████▏   | 4080/6611 [10:15<05:49,  7.24it/s]"
     ]
    },
    {
     "name": "stdout",
     "output_type": "stream",
     "text": [
      "aliked> vineyard_split_3_frame_0160.png-vineyard_split_3_frame_0165.png: 2138 matches @ 171th pair(aliked+lightglue)\n"
     ]
    },
    {
     "name": "stderr",
     "output_type": "stream",
     "text": [
      " 62%|██████▏   | 4089/6611 [10:16<05:40,  7.40it/s]"
     ]
    },
    {
     "name": "stdout",
     "output_type": "stream",
     "text": [
      "aliked> vineyard_split_3_frame_0160.png-vineyard_split_3_frame_0155.png: 1523 matches @ 172th pair(aliked+lightglue)\n"
     ]
    },
    {
     "name": "stderr",
     "output_type": "stream",
     "text": [
      " 62%|██████▏   | 4111/6611 [10:19<05:48,  7.18it/s]"
     ]
    },
    {
     "name": "stdout",
     "output_type": "stream",
     "text": [
      "aliked> vineyard_split_3_frame_0150.png-vineyard_split_3_frame_0140.png: 935 matches @ 173th pair(aliked+lightglue)\n"
     ]
    },
    {
     "name": "stderr",
     "output_type": "stream",
     "text": [
      " 63%|██████▎   | 4136/6611 [10:23<05:46,  7.13it/s]"
     ]
    },
    {
     "name": "stdout",
     "output_type": "stream",
     "text": [
      "aliked> vineyard_split_3_frame_0150.png-vineyard_split_3_frame_0135.png: 236 matches @ 174th pair(aliked+lightglue)\n"
     ]
    },
    {
     "name": "stderr",
     "output_type": "stream",
     "text": [
      " 63%|██████▎   | 4143/6611 [10:24<05:56,  6.92it/s]"
     ]
    },
    {
     "name": "stdout",
     "output_type": "stream",
     "text": [
      "aliked> vineyard_split_3_frame_0150.png-vineyard_split_3_frame_0165.png: 271 matches @ 175th pair(aliked+lightglue)\n"
     ]
    },
    {
     "name": "stderr",
     "output_type": "stream",
     "text": [
      " 63%|██████▎   | 4153/6611 [10:25<05:46,  7.09it/s]"
     ]
    },
    {
     "name": "stdout",
     "output_type": "stream",
     "text": [
      "aliked> vineyard_split_3_frame_0150.png-vineyard_split_3_frame_0155.png: 1888 matches @ 176th pair(aliked+lightglue)\n"
     ]
    },
    {
     "name": "stderr",
     "output_type": "stream",
     "text": [
      " 64%|██████▎   | 4205/6611 [10:33<05:33,  7.21it/s]"
     ]
    },
    {
     "name": "stdout",
     "output_type": "stream",
     "text": [
      "aliked> vineyard_split_3_frame_0140.png-vineyard_split_3_frame_0135.png: 1383 matches @ 177th pair(aliked+lightglue)\n"
     ]
    },
    {
     "name": "stderr",
     "output_type": "stream",
     "text": [
      " 64%|██████▍   | 4221/6611 [10:35<05:31,  7.22it/s]"
     ]
    },
    {
     "name": "stdout",
     "output_type": "stream",
     "text": [
      "aliked> vineyard_split_3_frame_0140.png-vineyard_split_3_frame_0155.png: 448 matches @ 178th pair(aliked+lightglue)\n"
     ]
    },
    {
     "name": "stderr",
     "output_type": "stream",
     "text": [
      " 64%|██████▍   | 4253/6611 [10:40<05:24,  7.28it/s]"
     ]
    },
    {
     "name": "stdout",
     "output_type": "stream",
     "text": [
      "aliked> vineyard_split_3_frame_0270.png-vineyard_split_3_frame_0285.png: 1141 matches @ 179th pair(aliked+lightglue)\n"
     ]
    },
    {
     "name": "stderr",
     "output_type": "stream",
     "text": [
      " 64%|██████▍   | 4255/6611 [10:40<05:16,  7.43it/s]"
     ]
    },
    {
     "name": "stdout",
     "output_type": "stream",
     "text": [
      "aliked> vineyard_split_3_frame_0270.png-vineyard_split_3_frame_0280.png: 1600 matches @ 180th pair(aliked+lightglue)\n",
      "aliked> vineyard_split_3_frame_0270.png-vineyard_split_3_frame_0275.png: 1953 matches @ 181th pair(aliked+lightglue)\n"
     ]
    },
    {
     "name": "stderr",
     "output_type": "stream",
     "text": [
      " 65%|██████▍   | 4270/6611 [10:42<05:07,  7.62it/s]"
     ]
    },
    {
     "name": "stdout",
     "output_type": "stream",
     "text": [
      "aliked> vineyard_split_3_frame_0270.png-vineyard_split_3_frame_0260.png: 701 matches @ 182th pair(aliked+lightglue)\n"
     ]
    },
    {
     "name": "stderr",
     "output_type": "stream",
     "text": [
      " 65%|██████▍   | 4283/6611 [10:44<05:23,  7.21it/s]"
     ]
    },
    {
     "name": "stdout",
     "output_type": "stream",
     "text": [
      "aliked> vineyard_split_3_frame_0170.png-vineyard_split_3_frame_0175.png: 1840 matches @ 183th pair(aliked+lightglue)\n"
     ]
    },
    {
     "name": "stderr",
     "output_type": "stream",
     "text": [
      " 65%|██████▍   | 4292/6611 [10:45<05:27,  7.08it/s]"
     ]
    },
    {
     "name": "stdout",
     "output_type": "stream",
     "text": [
      "aliked> vineyard_split_3_frame_0170.png-vineyard_split_3_frame_0165.png: 1981 matches @ 184th pair(aliked+lightglue)\n"
     ]
    },
    {
     "name": "stderr",
     "output_type": "stream",
     "text": [
      " 65%|██████▌   | 4299/6611 [10:46<05:21,  7.20it/s]"
     ]
    },
    {
     "name": "stdout",
     "output_type": "stream",
     "text": [
      "aliked> vineyard_split_3_frame_0170.png-vineyard_split_3_frame_0155.png: 108 matches @ 185th pair(aliked+lightglue)\n",
      "aliked> vineyard_split_3_frame_0170.png-vineyard_split_3_frame_0180.png: 843 matches @ 186th pair(aliked+lightglue)\n"
     ]
    },
    {
     "name": "stderr",
     "output_type": "stream",
     "text": [
      " 65%|██████▌   | 4313/6611 [10:48<05:12,  7.34it/s]"
     ]
    },
    {
     "name": "stdout",
     "output_type": "stream",
     "text": [
      "aliked> vineyard_split_3_frame_0285.png-vineyard_split_3_frame_0280.png: 2489 matches @ 187th pair(aliked+lightglue)\n",
      "aliked> vineyard_split_3_frame_0285.png-vineyard_split_3_frame_0275.png: 1584 matches @ 188th pair(aliked+lightglue)\n"
     ]
    },
    {
     "name": "stderr",
     "output_type": "stream",
     "text": [
      " 67%|██████▋   | 4405/6611 [11:01<05:07,  7.17it/s]"
     ]
    },
    {
     "name": "stdout",
     "output_type": "stream",
     "text": [
      "aliked> vineyard_split_3_frame_1490.png-vineyard_split_3_frame_1485.png: 1327 matches @ 189th pair(aliked+lightglue)\n"
     ]
    },
    {
     "name": "stderr",
     "output_type": "stream",
     "text": [
      " 67%|██████▋   | 4449/6611 [11:07<05:00,  7.18it/s]"
     ]
    },
    {
     "name": "stdout",
     "output_type": "stream",
     "text": [
      "aliked> vineyard_split_3_frame_0280.png-vineyard_split_3_frame_0275.png: 2312 matches @ 190th pair(aliked+lightglue)\n"
     ]
    },
    {
     "name": "stderr",
     "output_type": "stream",
     "text": [
      " 68%|██████▊   | 4520/6611 [11:17<04:29,  7.77it/s]"
     ]
    },
    {
     "name": "stdout",
     "output_type": "stream",
     "text": [
      "aliked> vineyard_split_3_frame_0275.png-vineyard_split_3_frame_0260.png: 319 matches @ 191th pair(aliked+lightglue)\n"
     ]
    },
    {
     "name": "stderr",
     "output_type": "stream",
     "text": [
      " 69%|██████▊   | 4536/6611 [11:19<04:26,  7.78it/s]"
     ]
    },
    {
     "name": "stdout",
     "output_type": "stream",
     "text": [
      "aliked> vineyard_split_3_frame_0225.png-vineyard_split_3_frame_0210.png: 181 matches @ 192th pair(aliked+lightglue)\n"
     ]
    },
    {
     "name": "stderr",
     "output_type": "stream",
     "text": [
      " 69%|██████▊   | 4540/6611 [11:20<04:30,  7.66it/s]"
     ]
    },
    {
     "name": "stdout",
     "output_type": "stream",
     "text": [
      "aliked> vineyard_split_3_frame_0225.png-vineyard_split_3_frame_0220.png: 1528 matches @ 193th pair(aliked+lightglue)\n"
     ]
    },
    {
     "name": "stderr",
     "output_type": "stream",
     "text": [
      " 69%|██████▊   | 4542/6611 [11:20<04:34,  7.54it/s]"
     ]
    },
    {
     "name": "stdout",
     "output_type": "stream",
     "text": [
      "aliked> vineyard_split_3_frame_0225.png-vineyard_split_3_frame_0240.png: 330 matches @ 194th pair(aliked+lightglue)\n"
     ]
    },
    {
     "name": "stderr",
     "output_type": "stream",
     "text": [
      " 69%|██████▊   | 4544/6611 [11:20<04:33,  7.56it/s]"
     ]
    },
    {
     "name": "stdout",
     "output_type": "stream",
     "text": [
      "aliked> vineyard_split_3_frame_0225.png-vineyard_split_3_frame_0230.png: 1354 matches @ 195th pair(aliked+lightglue)\n"
     ]
    },
    {
     "name": "stderr",
     "output_type": "stream",
     "text": [
      " 69%|██████▉   | 4575/6611 [11:24<04:40,  7.26it/s]"
     ]
    },
    {
     "name": "stdout",
     "output_type": "stream",
     "text": [
      "aliked> vineyard_split_3_frame_0080.png-vineyard_split_3_frame_0085.png: 1572 matches @ 196th pair(aliked+lightglue)\n",
      "aliked> vineyard_split_3_frame_0080.png-vineyard_split_3_frame_0095.png: 375 matches @ 197th pair(aliked+lightglue)\n"
     ]
    },
    {
     "name": "stderr",
     "output_type": "stream",
     "text": [
      " 69%|██████▉   | 4590/6611 [11:27<04:48,  7.01it/s]"
     ]
    },
    {
     "name": "stdout",
     "output_type": "stream",
     "text": [
      "aliked> vineyard_split_3_frame_0250.png-vineyard_split_3_frame_0235.png: 506 matches @ 198th pair(aliked+lightglue)\n"
     ]
    },
    {
     "name": "stderr",
     "output_type": "stream",
     "text": [
      " 70%|██████▉   | 4597/6611 [11:28<04:57,  6.78it/s]"
     ]
    },
    {
     "name": "stdout",
     "output_type": "stream",
     "text": [
      "aliked> vineyard_split_3_frame_1495.png-vineyard_split_3_frame_1505.png: 508 matches @ 199th pair(aliked+lightglue)\n"
     ]
    },
    {
     "name": "stderr",
     "output_type": "stream",
     "text": [
      " 70%|██████▉   | 4615/6611 [11:30<04:52,  6.83it/s]"
     ]
    },
    {
     "name": "stdout",
     "output_type": "stream",
     "text": [
      "aliked> vineyard_split_3_frame_0120.png-vineyard_split_3_frame_0105.png: 696 matches @ 200th pair(aliked+lightglue)\n"
     ]
    },
    {
     "name": "stderr",
     "output_type": "stream",
     "text": [
      " 70%|██████▉   | 4621/6611 [11:31<04:39,  7.11it/s]"
     ]
    },
    {
     "name": "stdout",
     "output_type": "stream",
     "text": [
      "aliked> vineyard_split_3_frame_0120.png-vineyard_split_3_frame_0110.png: 1177 matches @ 201th pair(aliked+lightglue)\n"
     ]
    },
    {
     "name": "stderr",
     "output_type": "stream",
     "text": [
      " 70%|██████▉   | 4627/6611 [11:32<04:36,  7.18it/s]"
     ]
    },
    {
     "name": "stdout",
     "output_type": "stream",
     "text": [
      "aliked> vineyard_split_3_frame_0120.png-vineyard_split_3_frame_0135.png: 569 matches @ 202th pair(aliked+lightglue)\n"
     ]
    },
    {
     "name": "stderr",
     "output_type": "stream",
     "text": [
      " 71%|███████   | 4680/6611 [11:40<04:54,  6.56it/s]"
     ]
    },
    {
     "name": "stdout",
     "output_type": "stream",
     "text": [
      "aliked> vineyard_split_3_frame_1510.png-vineyard_split_3_frame_1520.png: 1149 matches @ 203th pair(aliked+lightglue)\n"
     ]
    },
    {
     "name": "stderr",
     "output_type": "stream",
     "text": [
      " 71%|███████   | 4682/6611 [11:40<04:48,  6.70it/s]"
     ]
    },
    {
     "name": "stdout",
     "output_type": "stream",
     "text": [
      "aliked> vineyard_split_3_frame_1510.png-vineyard_split_3_frame_1525.png: 132 matches @ 204th pair(aliked+lightglue)\n"
     ]
    },
    {
     "name": "stderr",
     "output_type": "stream",
     "text": [
      " 71%|███████   | 4692/6611 [11:42<04:48,  6.66it/s]"
     ]
    },
    {
     "name": "stdout",
     "output_type": "stream",
     "text": [
      "aliked> vineyard_split_3_frame_1510.png-vineyard_split_3_frame_1515.png: 2516 matches @ 205th pair(aliked+lightglue)\n"
     ]
    },
    {
     "name": "stderr",
     "output_type": "stream",
     "text": [
      " 72%|███████▏  | 4738/6611 [11:48<04:12,  7.40it/s]"
     ]
    },
    {
     "name": "stdout",
     "output_type": "stream",
     "text": [
      "aliked> vineyard_split_3_frame_0105.png-vineyard_split_3_frame_0110.png: 2376 matches @ 206th pair(aliked+lightglue)\n"
     ]
    },
    {
     "name": "stderr",
     "output_type": "stream",
     "text": [
      " 72%|███████▏  | 4741/6611 [11:49<04:10,  7.48it/s]"
     ]
    },
    {
     "name": "stdout",
     "output_type": "stream",
     "text": [
      "aliked> vineyard_split_3_frame_0105.png-vineyard_split_3_frame_0100.png: 1135 matches @ 207th pair(aliked+lightglue)\n"
     ]
    },
    {
     "name": "stderr",
     "output_type": "stream",
     "text": [
      " 72%|███████▏  | 4753/6611 [11:50<04:06,  7.54it/s]"
     ]
    },
    {
     "name": "stdout",
     "output_type": "stream",
     "text": [
      "aliked> vineyard_split_3_frame_0105.png-vineyard_split_3_frame_0095.png: 339 matches @ 208th pair(aliked+lightglue)\n"
     ]
    },
    {
     "name": "stderr",
     "output_type": "stream",
     "text": [
      " 72%|███████▏  | 4775/6611 [11:54<04:32,  6.74it/s]"
     ]
    },
    {
     "name": "stdout",
     "output_type": "stream",
     "text": [
      "aliked> vineyard_split_3_frame_1535.png-vineyard_split_3_frame_1530.png: 1251 matches @ 209th pair(aliked+lightglue)\n"
     ]
    },
    {
     "name": "stderr",
     "output_type": "stream",
     "text": [
      " 72%|███████▏  | 4782/6611 [11:55<04:53,  6.24it/s]"
     ]
    },
    {
     "name": "stdout",
     "output_type": "stream",
     "text": [
      "aliked> vineyard_split_3_frame_1540.png-vineyard_split_3_frame_1545.png: 2456 matches @ 210th pair(aliked+lightglue)\n"
     ]
    },
    {
     "name": "stderr",
     "output_type": "stream",
     "text": [
      " 72%|███████▏  | 4784/6611 [11:55<04:56,  6.16it/s]"
     ]
    },
    {
     "name": "stdout",
     "output_type": "stream",
     "text": [
      "aliked> vineyard_split_3_frame_1540.png-vineyard_split_3_frame_1525.png: 130 matches @ 211th pair(aliked+lightglue)\n"
     ]
    },
    {
     "name": "stderr",
     "output_type": "stream",
     "text": [
      " 73%|███████▎  | 4829/6611 [12:02<04:13,  7.04it/s]"
     ]
    },
    {
     "name": "stdout",
     "output_type": "stream",
     "text": [
      "aliked> vineyard_split_3_frame_0205.png-vineyard_split_3_frame_0195.png: 451 matches @ 212th pair(aliked+lightglue)\n",
      "aliked> vineyard_split_3_frame_0205.png-vineyard_split_3_frame_0210.png: 1878 matches @ 213th pair(aliked+lightglue)\n"
     ]
    },
    {
     "name": "stderr",
     "output_type": "stream",
     "text": [
      " 73%|███████▎  | 4836/6611 [12:03<04:11,  7.04it/s]"
     ]
    },
    {
     "name": "stdout",
     "output_type": "stream",
     "text": [
      "aliked> vineyard_split_3_frame_0205.png-vineyard_split_3_frame_0220.png: 366 matches @ 214th pair(aliked+lightglue)\n",
      "aliked> vineyard_split_3_frame_0205.png-vineyard_split_3_frame_0200.png: 1502 matches @ 215th pair(aliked+lightglue)\n"
     ]
    },
    {
     "name": "stderr",
     "output_type": "stream",
     "text": [
      " 74%|███████▍  | 4877/6611 [12:09<04:26,  6.52it/s]"
     ]
    },
    {
     "name": "stdout",
     "output_type": "stream",
     "text": [
      "aliked> vineyard_split_3_frame_1410.png-vineyard_split_3_frame_1415.png: 2087 matches @ 216th pair(aliked+lightglue)\n",
      "aliked> vineyard_split_3_frame_1410.png-vineyard_split_3_frame_1420.png: 878 matches @ 217th pair(aliked+lightglue)\n"
     ]
    },
    {
     "name": "stderr",
     "output_type": "stream",
     "text": [
      " 74%|███████▍  | 4911/6611 [12:14<03:40,  7.71it/s]"
     ]
    },
    {
     "name": "stdout",
     "output_type": "stream",
     "text": [
      "aliked> vineyard_split_3_frame_0305.png-vineyard_split_3_frame_0300.png: 2625 matches @ 218th pair(aliked+lightglue)\n"
     ]
    },
    {
     "name": "stderr",
     "output_type": "stream",
     "text": [
      " 75%|███████▍  | 4958/6611 [12:21<03:53,  7.08it/s]"
     ]
    },
    {
     "name": "stdout",
     "output_type": "stream",
     "text": [
      "aliked> vineyard_split_3_frame_0175.png-vineyard_split_3_frame_0185.png: 585 matches @ 219th pair(aliked+lightglue)\n"
     ]
    },
    {
     "name": "stderr",
     "output_type": "stream",
     "text": [
      " 75%|███████▌  | 4962/6611 [12:21<03:51,  7.11it/s]"
     ]
    },
    {
     "name": "stdout",
     "output_type": "stream",
     "text": [
      "aliked> vineyard_split_3_frame_0175.png-vineyard_split_3_frame_0180.png: 1618 matches @ 220th pair(aliked+lightglue)\n"
     ]
    },
    {
     "name": "stderr",
     "output_type": "stream",
     "text": [
      " 76%|███████▌  | 5026/6611 [12:32<04:08,  6.38it/s]"
     ]
    },
    {
     "name": "stdout",
     "output_type": "stream",
     "text": [
      "aliked> vineyard_split_3_frame_1520.png-vineyard_split_3_frame_1525.png: 1221 matches @ 221th pair(aliked+lightglue)\n"
     ]
    },
    {
     "name": "stderr",
     "output_type": "stream",
     "text": [
      " 76%|███████▌  | 5029/6611 [12:32<03:56,  6.68it/s]"
     ]
    },
    {
     "name": "stdout",
     "output_type": "stream",
     "text": [
      "aliked> vineyard_split_3_frame_1520.png-vineyard_split_3_frame_1515.png: 1351 matches @ 222th pair(aliked+lightglue)\n"
     ]
    },
    {
     "name": "stderr",
     "output_type": "stream",
     "text": [
      " 76%|███████▌  | 5033/6611 [12:33<03:51,  6.81it/s]"
     ]
    },
    {
     "name": "stdout",
     "output_type": "stream",
     "text": [
      "aliked> vineyard_split_3_frame_1520.png-vineyard_split_3_frame_1530.png: 561 matches @ 223th pair(aliked+lightglue)\n"
     ]
    },
    {
     "name": "stderr",
     "output_type": "stream",
     "text": [
      " 76%|███████▋  | 5056/6611 [12:36<03:56,  6.58it/s]"
     ]
    },
    {
     "name": "stdout",
     "output_type": "stream",
     "text": [
      "aliked> vineyard_split_3_frame_1465.png-vineyard_split_3_frame_1460.png: 2820 matches @ 224th pair(aliked+lightglue)\n"
     ]
    },
    {
     "name": "stderr",
     "output_type": "stream",
     "text": [
      " 77%|███████▋  | 5066/6611 [12:38<03:53,  6.61it/s]"
     ]
    },
    {
     "name": "stdout",
     "output_type": "stream",
     "text": [
      "aliked> vineyard_split_3_frame_1465.png-vineyard_split_3_frame_1470.png: 1276 matches @ 225th pair(aliked+lightglue)\n"
     ]
    },
    {
     "name": "stderr",
     "output_type": "stream",
     "text": [
      " 77%|███████▋  | 5108/6611 [12:44<03:44,  6.68it/s]"
     ]
    },
    {
     "name": "stdout",
     "output_type": "stream",
     "text": [
      "aliked> vineyard_split_3_frame_1525.png-vineyard_split_3_frame_1515.png: 294 matches @ 226th pair(aliked+lightglue)\n"
     ]
    },
    {
     "name": "stderr",
     "output_type": "stream",
     "text": [
      " 77%|███████▋  | 5119/6611 [12:46<03:45,  6.62it/s]"
     ]
    },
    {
     "name": "stdout",
     "output_type": "stream",
     "text": [
      "aliked> vineyard_split_3_frame_1525.png-vineyard_split_3_frame_1530.png: 1846 matches @ 227th pair(aliked+lightglue)\n"
     ]
    },
    {
     "name": "stderr",
     "output_type": "stream",
     "text": [
      " 78%|███████▊  | 5154/6611 [12:51<03:17,  7.38it/s]"
     ]
    },
    {
     "name": "stdout",
     "output_type": "stream",
     "text": [
      "aliked> vineyard_split_3_frame_0110.png-vineyard_split_3_frame_0100.png: 700 matches @ 228th pair(aliked+lightglue)\n"
     ]
    },
    {
     "name": "stderr",
     "output_type": "stream",
     "text": [
      " 78%|███████▊  | 5166/6611 [12:52<03:16,  7.34it/s]"
     ]
    },
    {
     "name": "stdout",
     "output_type": "stream",
     "text": [
      "aliked> vineyard_split_3_frame_0110.png-vineyard_split_3_frame_0115.png: 2072 matches @ 229th pair(aliked+lightglue)\n"
     ]
    },
    {
     "name": "stderr",
     "output_type": "stream",
     "text": [
      " 79%|███████▊  | 5198/6611 [12:57<03:06,  7.59it/s]"
     ]
    },
    {
     "name": "stdout",
     "output_type": "stream",
     "text": [
      "aliked> vineyard_split_3_frame_0195.png-vineyard_split_3_frame_0200.png: 1629 matches @ 230th pair(aliked+lightglue)\n"
     ]
    },
    {
     "name": "stderr",
     "output_type": "stream",
     "text": [
      " 79%|███████▉  | 5229/6611 [13:01<03:24,  6.74it/s]"
     ]
    },
    {
     "name": "stdout",
     "output_type": "stream",
     "text": [
      "aliked> vineyard_split_3_frame_1570.png-vineyard_split_3_frame_1560.png: 980 matches @ 231th pair(aliked+lightglue)\n"
     ]
    },
    {
     "name": "stderr",
     "output_type": "stream",
     "text": [
      " 79%|███████▉  | 5242/6611 [13:03<03:37,  6.29it/s]"
     ]
    },
    {
     "name": "stdout",
     "output_type": "stream",
     "text": [
      "aliked> vineyard_split_3_frame_1570.png-vineyard_split_3_frame_1565.png: 2103 matches @ 232th pair(aliked+lightglue)\n"
     ]
    },
    {
     "name": "stderr",
     "output_type": "stream",
     "text": [
      " 80%|███████▉  | 5279/6611 [13:09<02:56,  7.57it/s]"
     ]
    },
    {
     "name": "stdout",
     "output_type": "stream",
     "text": [
      "aliked> vineyard_split_3_frame_0210.png-vineyard_split_3_frame_0220.png: 900 matches @ 233th pair(aliked+lightglue)\n",
      "aliked> vineyard_split_3_frame_0210.png-vineyard_split_3_frame_0200.png: 563 matches @ 234th pair(aliked+lightglue)\n"
     ]
    },
    {
     "name": "stderr",
     "output_type": "stream",
     "text": [
      " 81%|████████  | 5328/6611 [13:15<02:42,  7.91it/s]"
     ]
    },
    {
     "name": "stdout",
     "output_type": "stream",
     "text": [
      "aliked> vineyard_split_3_frame_0100.png-vineyard_split_3_frame_0085.png: 394 matches @ 235th pair(aliked+lightglue)\n",
      "aliked> vineyard_split_3_frame_0100.png-vineyard_split_3_frame_0095.png: 1656 matches @ 236th pair(aliked+lightglue)\n"
     ]
    },
    {
     "name": "stderr",
     "output_type": "stream",
     "text": [
      " 81%|████████  | 5348/6611 [13:18<03:06,  6.76it/s]"
     ]
    },
    {
     "name": "stdout",
     "output_type": "stream",
     "text": [
      "aliked> vineyard_split_3_frame_1560.png-vineyard_split_3_frame_1565.png: 2047 matches @ 237th pair(aliked+lightglue)\n"
     ]
    },
    {
     "name": "stderr",
     "output_type": "stream",
     "text": [
      " 81%|████████  | 5371/6611 [13:22<03:12,  6.44it/s]"
     ]
    },
    {
     "name": "stdout",
     "output_type": "stream",
     "text": [
      "aliked> vineyard_split_3_frame_1430.png-vineyard_split_3_frame_1440.png: 524 matches @ 238th pair(aliked+lightglue)\n"
     ]
    },
    {
     "name": "stderr",
     "output_type": "stream",
     "text": [
      " 81%|████████▏ | 5373/6611 [13:22<03:16,  6.30it/s]"
     ]
    },
    {
     "name": "stdout",
     "output_type": "stream",
     "text": [
      "aliked> vineyard_split_3_frame_1430.png-vineyard_split_3_frame_1415.png: 169 matches @ 239th pair(aliked+lightglue)\n",
      "aliked> vineyard_split_3_frame_1430.png-vineyard_split_3_frame_1435.png: 1907 matches @ 240th pair(aliked+lightglue)\n"
     ]
    },
    {
     "name": "stderr",
     "output_type": "stream",
     "text": [
      " 82%|████████▏ | 5390/6611 [13:25<03:01,  6.73it/s]"
     ]
    },
    {
     "name": "stdout",
     "output_type": "stream",
     "text": [
      "aliked> vineyard_split_3_frame_0245.png-vineyard_split_3_frame_0240.png: 2129 matches @ 241th pair(aliked+lightglue)\n"
     ]
    },
    {
     "name": "stderr",
     "output_type": "stream",
     "text": [
      " 82%|████████▏ | 5393/6611 [13:25<02:57,  6.85it/s]"
     ]
    },
    {
     "name": "stdout",
     "output_type": "stream",
     "text": [
      "aliked> vineyard_split_3_frame_0245.png-vineyard_split_3_frame_0230.png: 489 matches @ 242th pair(aliked+lightglue)\n"
     ]
    },
    {
     "name": "stderr",
     "output_type": "stream",
     "text": [
      " 82%|████████▏ | 5395/6611 [13:25<02:50,  7.15it/s]"
     ]
    },
    {
     "name": "stdout",
     "output_type": "stream",
     "text": [
      "aliked> vineyard_split_3_frame_0245.png-vineyard_split_3_frame_0260.png: 347 matches @ 243th pair(aliked+lightglue)\n"
     ]
    },
    {
     "name": "stderr",
     "output_type": "stream",
     "text": [
      " 82%|████████▏ | 5411/6611 [13:28<02:53,  6.93it/s]"
     ]
    },
    {
     "name": "stdout",
     "output_type": "stream",
     "text": [
      "aliked> vineyard_split_3_frame_0130.png-vineyard_split_3_frame_0115.png: 425 matches @ 244th pair(aliked+lightglue)\n"
     ]
    },
    {
     "name": "stderr",
     "output_type": "stream",
     "text": [
      " 82%|████████▏ | 5438/6611 [13:31<02:42,  7.22it/s]"
     ]
    },
    {
     "name": "stdout",
     "output_type": "stream",
     "text": [
      "aliked> vineyard_split_3_frame_0220.png-vineyard_split_3_frame_0230.png: 415 matches @ 245th pair(aliked+lightglue)\n"
     ]
    },
    {
     "name": "stderr",
     "output_type": "stream",
     "text": [
      " 83%|████████▎ | 5485/6611 [13:38<02:56,  6.37it/s]"
     ]
    },
    {
     "name": "stdout",
     "output_type": "stream",
     "text": [
      "aliked> vineyard_split_3_frame_1440.png-vineyard_split_3_frame_1435.png: 1828 matches @ 246th pair(aliked+lightglue)\n"
     ]
    },
    {
     "name": "stderr",
     "output_type": "stream",
     "text": [
      " 84%|████████▎ | 5526/6611 [13:44<02:39,  6.82it/s]"
     ]
    },
    {
     "name": "stdout",
     "output_type": "stream",
     "text": [
      "aliked> vineyard_split_3_frame_0240.png-vineyard_split_3_frame_0230.png: 1065 matches @ 247th pair(aliked+lightglue)\n"
     ]
    },
    {
     "name": "stderr",
     "output_type": "stream",
     "text": [
      " 84%|████████▎ | 5529/6611 [13:45<02:37,  6.86it/s]"
     ]
    },
    {
     "name": "stdout",
     "output_type": "stream",
     "text": [
      "aliked> vineyard_split_3_frame_0240.png-vineyard_split_3_frame_0260.png: 120 matches @ 248th pair(aliked+lightglue)\n"
     ]
    },
    {
     "name": "stderr",
     "output_type": "stream",
     "text": [
      " 84%|████████▍ | 5558/6611 [13:49<02:49,  6.21it/s]"
     ]
    },
    {
     "name": "stdout",
     "output_type": "stream",
     "text": [
      "aliked> vineyard_split_3_frame_1460.png-vineyard_split_3_frame_1470.png: 857 matches @ 249th pair(aliked+lightglue)\n"
     ]
    },
    {
     "name": "stderr",
     "output_type": "stream",
     "text": [
      " 85%|████████▌ | 5629/6611 [14:00<02:16,  7.21it/s]"
     ]
    },
    {
     "name": "stdout",
     "output_type": "stream",
     "text": [
      "aliked> vineyard_split_3_frame_0165.png-vineyard_split_3_frame_0155.png: 898 matches @ 250th pair(aliked+lightglue)\n"
     ]
    },
    {
     "name": "stderr",
     "output_type": "stream",
     "text": [
      " 86%|████████▌ | 5682/6611 [14:07<02:19,  6.65it/s]"
     ]
    },
    {
     "name": "stdout",
     "output_type": "stream",
     "text": [
      "aliked> vineyard_split_3_frame_1400.png-vineyard_split_3_frame_1415.png: 112 matches @ 251th pair(aliked+lightglue)\n"
     ]
    },
    {
     "name": "stderr",
     "output_type": "stream",
     "text": [
      " 86%|████████▋ | 5718/6611 [14:13<02:13,  6.71it/s]"
     ]
    },
    {
     "name": "stdout",
     "output_type": "stream",
     "text": [
      "aliked> vineyard_split_3_frame_1415.png-vineyard_split_3_frame_1420.png: 1954 matches @ 252th pair(aliked+lightglue)\n"
     ]
    },
    {
     "name": "stderr",
     "output_type": "stream",
     "text": [
      " 87%|████████▋ | 5760/6611 [14:19<02:14,  6.32it/s]"
     ]
    },
    {
     "name": "stdout",
     "output_type": "stream",
     "text": [
      "aliked> vineyard_split_3_frame_1435.png-vineyard_split_3_frame_1420.png: 151 matches @ 253th pair(aliked+lightglue)\n"
     ]
    },
    {
     "name": "stderr",
     "output_type": "stream",
     "text": [
      " 89%|████████▊ | 5852/6611 [14:33<01:50,  6.85it/s]"
     ]
    },
    {
     "name": "stdout",
     "output_type": "stream",
     "text": [
      "aliked> vineyard_split_3_frame_1485.png-vineyard_split_3_frame_1470.png: 144 matches @ 254th pair(aliked+lightglue)\n"
     ]
    },
    {
     "name": "stderr",
     "output_type": "stream",
     "text": [
      " 89%|████████▉ | 5884/6611 [14:38<01:41,  7.15it/s]"
     ]
    },
    {
     "name": "stdout",
     "output_type": "stream",
     "text": [
      "aliked> vineyard_split_3_frame_0085.png-vineyard_split_3_frame_0095.png: 1016 matches @ 255th pair(aliked+lightglue)\n"
     ]
    },
    {
     "name": "stderr",
     "output_type": "stream",
     "text": [
      " 92%|█████████▏| 6052/6611 [15:02<01:26,  6.44it/s]"
     ]
    },
    {
     "name": "stdout",
     "output_type": "stream",
     "text": [
      "aliked> vineyard_split_1_frame_0950.png-vineyard_split_1_frame_0960.png: 776 matches @ 256th pair(aliked+lightglue)\n"
     ]
    },
    {
     "name": "stderr",
     "output_type": "stream",
     "text": [
      " 92%|█████████▏| 6059/6611 [15:03<01:25,  6.48it/s]"
     ]
    },
    {
     "name": "stdout",
     "output_type": "stream",
     "text": [
      "aliked> vineyard_split_1_frame_1005.png-vineyard_split_1_frame_0995.png: 688 matches @ 257th pair(aliked+lightglue)\n"
     ]
    },
    {
     "name": "stderr",
     "output_type": "stream",
     "text": [
      " 92%|█████████▏| 6072/6611 [15:05<01:28,  6.08it/s]"
     ]
    },
    {
     "name": "stdout",
     "output_type": "stream",
     "text": [
      "aliked> vineyard_split_1_frame_0915.png-vineyard_split_1_frame_0905.png: 1366 matches @ 258th pair(aliked+lightglue)\n"
     ]
    },
    {
     "name": "stderr",
     "output_type": "stream",
     "text": [
      " 92%|█████████▏| 6077/6611 [15:06<01:28,  6.01it/s]"
     ]
    },
    {
     "name": "stdout",
     "output_type": "stream",
     "text": [
      "aliked> vineyard_split_1_frame_0915.png-vineyard_split_1_frame_0910.png: 2771 matches @ 259th pair(aliked+lightglue)\n"
     ]
    },
    {
     "name": "stderr",
     "output_type": "stream",
     "text": [
      " 92%|█████████▏| 6080/6611 [15:07<01:27,  6.10it/s]"
     ]
    },
    {
     "name": "stdout",
     "output_type": "stream",
     "text": [
      "aliked> vineyard_split_1_frame_0915.png-vineyard_split_1_frame_0925.png: 301 matches @ 260th pair(aliked+lightglue)\n"
     ]
    },
    {
     "name": "stderr",
     "output_type": "stream",
     "text": [
      " 92%|█████████▏| 6082/6611 [15:07<01:26,  6.15it/s]"
     ]
    },
    {
     "name": "stdout",
     "output_type": "stream",
     "text": [
      "aliked> vineyard_split_1_frame_0915.png-vineyard_split_1_frame_0920.png: 1405 matches @ 261th pair(aliked+lightglue)\n"
     ]
    },
    {
     "name": "stderr",
     "output_type": "stream",
     "text": [
      " 92%|█████████▏| 6095/6611 [15:09<01:16,  6.78it/s]"
     ]
    },
    {
     "name": "stdout",
     "output_type": "stream",
     "text": [
      "aliked> vineyard_split_1_frame_1070.png-vineyard_split_1_frame_1055.png: 181 matches @ 262th pair(aliked+lightglue)\n"
     ]
    },
    {
     "name": "stderr",
     "output_type": "stream",
     "text": [
      " 92%|█████████▏| 6103/6611 [15:10<01:17,  6.59it/s]"
     ]
    },
    {
     "name": "stdout",
     "output_type": "stream",
     "text": [
      "aliked> vineyard_split_1_frame_1070.png-vineyard_split_1_frame_1065.png: 1275 matches @ 263th pair(aliked+lightglue)\n"
     ]
    },
    {
     "name": "stderr",
     "output_type": "stream",
     "text": [
      " 92%|█████████▏| 6106/6611 [15:11<01:16,  6.62it/s]"
     ]
    },
    {
     "name": "stdout",
     "output_type": "stream",
     "text": [
      "aliked> vineyard_split_1_frame_1070.png-vineyard_split_1_frame_1080.png: 511 matches @ 264th pair(aliked+lightglue)\n"
     ]
    },
    {
     "name": "stderr",
     "output_type": "stream",
     "text": [
      " 92%|█████████▏| 6114/6611 [15:12<01:14,  6.67it/s]"
     ]
    },
    {
     "name": "stdout",
     "output_type": "stream",
     "text": [
      "aliked> vineyard_split_1_frame_1070.png-vineyard_split_1_frame_1075.png: 1369 matches @ 265th pair(aliked+lightglue)\n"
     ]
    },
    {
     "name": "stderr",
     "output_type": "stream",
     "text": [
      " 93%|█████████▎| 6139/6611 [15:15<01:07,  7.03it/s]"
     ]
    },
    {
     "name": "stdout",
     "output_type": "stream",
     "text": [
      "aliked> vineyard_split_1_frame_1015.png-vineyard_split_1_frame_1020.png: 2022 matches @ 266th pair(aliked+lightglue)\n"
     ]
    },
    {
     "name": "stderr",
     "output_type": "stream",
     "text": [
      " 93%|█████████▎| 6145/6611 [15:16<01:06,  7.01it/s]"
     ]
    },
    {
     "name": "stdout",
     "output_type": "stream",
     "text": [
      "aliked> vineyard_split_1_frame_1015.png-vineyard_split_1_frame_1010.png: 1260 matches @ 267th pair(aliked+lightglue)\n"
     ]
    },
    {
     "name": "stderr",
     "output_type": "stream",
     "text": [
      " 93%|█████████▎| 6150/6611 [15:17<01:04,  7.09it/s]"
     ]
    },
    {
     "name": "stdout",
     "output_type": "stream",
     "text": [
      "aliked> vineyard_split_1_frame_1015.png-vineyard_split_1_frame_1030.png: 130 matches @ 268th pair(aliked+lightglue)\n"
     ]
    },
    {
     "name": "stderr",
     "output_type": "stream",
     "text": [
      " 93%|█████████▎| 6163/6611 [15:19<01:05,  6.84it/s]"
     ]
    },
    {
     "name": "stdout",
     "output_type": "stream",
     "text": [
      "aliked> vineyard_split_1_frame_0990.png-vineyard_split_1_frame_0980.png: 673 matches @ 269th pair(aliked+lightglue)\n"
     ]
    },
    {
     "name": "stderr",
     "output_type": "stream",
     "text": [
      " 93%|█████████▎| 6169/6611 [15:20<01:05,  6.78it/s]"
     ]
    },
    {
     "name": "stdout",
     "output_type": "stream",
     "text": [
      "aliked> vineyard_split_1_frame_0990.png-vineyard_split_1_frame_1000.png: 806 matches @ 270th pair(aliked+lightglue)\n"
     ]
    },
    {
     "name": "stderr",
     "output_type": "stream",
     "text": [
      " 93%|█████████▎| 6178/6611 [15:21<01:03,  6.78it/s]"
     ]
    },
    {
     "name": "stdout",
     "output_type": "stream",
     "text": [
      "aliked> vineyard_split_1_frame_0990.png-vineyard_split_1_frame_0985.png: 1838 matches @ 271th pair(aliked+lightglue)\n"
     ]
    },
    {
     "name": "stderr",
     "output_type": "stream",
     "text": [
      " 94%|█████████▎| 6183/6611 [15:22<01:03,  6.75it/s]"
     ]
    },
    {
     "name": "stdout",
     "output_type": "stream",
     "text": [
      "aliked> vineyard_split_1_frame_0990.png-vineyard_split_1_frame_0975.png: 161 matches @ 272th pair(aliked+lightglue)\n"
     ]
    },
    {
     "name": "stderr",
     "output_type": "stream",
     "text": [
      " 94%|█████████▎| 6191/6611 [15:23<01:04,  6.53it/s]"
     ]
    },
    {
     "name": "stdout",
     "output_type": "stream",
     "text": [
      "aliked> vineyard_split_1_frame_1055.png-vineyard_split_1_frame_1065.png: 736 matches @ 273th pair(aliked+lightglue)\n"
     ]
    },
    {
     "name": "stderr",
     "output_type": "stream",
     "text": [
      " 94%|█████████▎| 6193/6611 [15:23<01:03,  6.54it/s]"
     ]
    },
    {
     "name": "stdout",
     "output_type": "stream",
     "text": [
      "aliked> vineyard_split_1_frame_1055.png-vineyard_split_1_frame_1045.png: 576 matches @ 274th pair(aliked+lightglue)\n"
     ]
    },
    {
     "name": "stderr",
     "output_type": "stream",
     "text": [
      " 94%|█████████▎| 6195/6611 [15:24<01:03,  6.60it/s]"
     ]
    },
    {
     "name": "stdout",
     "output_type": "stream",
     "text": [
      "aliked> vineyard_split_1_frame_1055.png-vineyard_split_1_frame_1040.png: 242 matches @ 275th pair(aliked+lightglue)\n"
     ]
    },
    {
     "name": "stderr",
     "output_type": "stream",
     "text": [
      " 94%|█████████▍| 6211/6611 [15:26<00:59,  6.67it/s]"
     ]
    },
    {
     "name": "stdout",
     "output_type": "stream",
     "text": [
      "aliked> vineyard_split_1_frame_1055.png-vineyard_split_1_frame_1050.png: 1895 matches @ 276th pair(aliked+lightglue)\n"
     ]
    },
    {
     "name": "stderr",
     "output_type": "stream",
     "text": [
      " 94%|█████████▍| 6214/6611 [15:26<01:00,  6.53it/s]"
     ]
    },
    {
     "name": "stdout",
     "output_type": "stream",
     "text": [
      "aliked> vineyard_split_1_frame_0965.png-vineyard_split_1_frame_0960.png: 1423 matches @ 277th pair(aliked+lightglue)\n"
     ]
    },
    {
     "name": "stderr",
     "output_type": "stream",
     "text": [
      " 94%|█████████▍| 6221/6611 [15:28<00:59,  6.58it/s]"
     ]
    },
    {
     "name": "stdout",
     "output_type": "stream",
     "text": [
      "aliked> vineyard_split_1_frame_0935.png-vineyard_split_1_frame_0945.png: 996 matches @ 278th pair(aliked+lightglue)\n"
     ]
    },
    {
     "name": "stderr",
     "output_type": "stream",
     "text": [
      " 94%|█████████▍| 6234/6611 [15:29<00:56,  6.68it/s]"
     ]
    },
    {
     "name": "stdout",
     "output_type": "stream",
     "text": [
      "aliked> vineyard_split_1_frame_0935.png-vineyard_split_1_frame_0940.png: 1886 matches @ 279th pair(aliked+lightglue)\n"
     ]
    },
    {
     "name": "stderr",
     "output_type": "stream",
     "text": [
      " 94%|█████████▍| 6239/6611 [15:30<00:55,  6.75it/s]"
     ]
    },
    {
     "name": "stdout",
     "output_type": "stream",
     "text": [
      "aliked> vineyard_split_1_frame_0935.png-vineyard_split_1_frame_0925.png: 1010 matches @ 280th pair(aliked+lightglue)\n"
     ]
    },
    {
     "name": "stderr",
     "output_type": "stream",
     "text": [
      " 94%|█████████▍| 6242/6611 [15:31<00:54,  6.78it/s]"
     ]
    },
    {
     "name": "stdout",
     "output_type": "stream",
     "text": [
      "aliked> vineyard_split_1_frame_0935.png-vineyard_split_1_frame_0920.png: 218 matches @ 281th pair(aliked+lightglue)\n"
     ]
    },
    {
     "name": "stderr",
     "output_type": "stream",
     "text": [
      " 94%|█████████▍| 6245/6611 [15:31<00:55,  6.56it/s]"
     ]
    },
    {
     "name": "stdout",
     "output_type": "stream",
     "text": [
      "aliked> vineyard_split_1_frame_0970.png-vineyard_split_1_frame_0960.png: 451 matches @ 282th pair(aliked+lightglue)\n"
     ]
    },
    {
     "name": "stderr",
     "output_type": "stream",
     "text": [
      " 95%|█████████▍| 6249/6611 [15:32<00:55,  6.50it/s]"
     ]
    },
    {
     "name": "stdout",
     "output_type": "stream",
     "text": [
      "aliked> vineyard_split_1_frame_0970.png-vineyard_split_1_frame_0955.png: 131 matches @ 283th pair(aliked+lightglue)\n"
     ]
    },
    {
     "name": "stderr",
     "output_type": "stream",
     "text": [
      " 95%|█████████▍| 6251/6611 [15:32<00:54,  6.64it/s]"
     ]
    },
    {
     "name": "stdout",
     "output_type": "stream",
     "text": [
      "aliked> vineyard_split_1_frame_0970.png-vineyard_split_1_frame_0980.png: 1115 matches @ 284th pair(aliked+lightglue)\n"
     ]
    },
    {
     "name": "stderr",
     "output_type": "stream",
     "text": [
      " 95%|█████████▍| 6264/6611 [15:34<00:52,  6.60it/s]"
     ]
    },
    {
     "name": "stdout",
     "output_type": "stream",
     "text": [
      "aliked> vineyard_split_1_frame_0970.png-vineyard_split_1_frame_0985.png: 345 matches @ 285th pair(aliked+lightglue)\n"
     ]
    },
    {
     "name": "stderr",
     "output_type": "stream",
     "text": [
      " 95%|█████████▍| 6269/6611 [15:35<00:51,  6.59it/s]"
     ]
    },
    {
     "name": "stdout",
     "output_type": "stream",
     "text": [
      "aliked> vineyard_split_1_frame_0970.png-vineyard_split_1_frame_0975.png: 2040 matches @ 286th pair(aliked+lightglue)\n"
     ]
    },
    {
     "name": "stderr",
     "output_type": "stream",
     "text": [
      " 95%|█████████▍| 6272/6611 [15:35<00:51,  6.60it/s]"
     ]
    },
    {
     "name": "stdout",
     "output_type": "stream",
     "text": [
      "aliked> vineyard_split_1_frame_0960.png-vineyard_split_1_frame_0955.png: 1979 matches @ 287th pair(aliked+lightglue)\n"
     ]
    },
    {
     "name": "stderr",
     "output_type": "stream",
     "text": [
      " 95%|█████████▌| 6292/6611 [15:38<00:49,  6.41it/s]"
     ]
    },
    {
     "name": "stdout",
     "output_type": "stream",
     "text": [
      "aliked> vineyard_split_1_frame_1095.png-vineyard_split_1_frame_1080.png: 103 matches @ 288th pair(aliked+lightglue)\n"
     ]
    },
    {
     "name": "stderr",
     "output_type": "stream",
     "text": [
      " 95%|█████████▌| 6294/6611 [15:39<00:48,  6.48it/s]"
     ]
    },
    {
     "name": "stdout",
     "output_type": "stream",
     "text": [
      "aliked> vineyard_split_1_frame_1095.png-vineyard_split_1_frame_1110.png: 1014 matches @ 289th pair(aliked+lightglue)\n"
     ]
    },
    {
     "name": "stderr",
     "output_type": "stream",
     "text": [
      " 95%|█████████▌| 6298/6611 [15:39<00:48,  6.43it/s]"
     ]
    },
    {
     "name": "stdout",
     "output_type": "stream",
     "text": [
      "aliked> vineyard_split_1_frame_1095.png-vineyard_split_1_frame_1100.png: 2198 matches @ 290th pair(aliked+lightglue)\n"
     ]
    },
    {
     "name": "stderr",
     "output_type": "stream",
     "text": [
      " 95%|█████████▌| 6303/6611 [15:40<00:47,  6.53it/s]"
     ]
    },
    {
     "name": "stdout",
     "output_type": "stream",
     "text": [
      "aliked> vineyard_split_1_frame_1095.png-vineyard_split_1_frame_1105.png: 1575 matches @ 291th pair(aliked+lightglue)\n"
     ]
    },
    {
     "name": "stderr",
     "output_type": "stream",
     "text": [
      " 95%|█████████▌| 6311/6611 [15:41<00:46,  6.41it/s]"
     ]
    },
    {
     "name": "stdout",
     "output_type": "stream",
     "text": [
      "aliked> vineyard_split_1_frame_0945.png-vineyard_split_1_frame_0955.png: 739 matches @ 292th pair(aliked+lightglue)\n"
     ]
    },
    {
     "name": "stderr",
     "output_type": "stream",
     "text": [
      " 96%|█████████▌| 6322/6611 [15:43<00:45,  6.36it/s]"
     ]
    },
    {
     "name": "stdout",
     "output_type": "stream",
     "text": [
      "aliked> vineyard_split_1_frame_0945.png-vineyard_split_1_frame_0940.png: 1727 matches @ 293th pair(aliked+lightglue)\n"
     ]
    },
    {
     "name": "stderr",
     "output_type": "stream",
     "text": [
      " 96%|█████████▌| 6343/6611 [15:46<00:41,  6.52it/s]"
     ]
    },
    {
     "name": "stdout",
     "output_type": "stream",
     "text": [
      "aliked> vineyard_split_1_frame_0905.png-vineyard_split_1_frame_0910.png: 1913 matches @ 294th pair(aliked+lightglue)\n"
     ]
    },
    {
     "name": "stderr",
     "output_type": "stream",
     "text": [
      " 96%|█████████▌| 6348/6611 [15:47<00:40,  6.48it/s]"
     ]
    },
    {
     "name": "stdout",
     "output_type": "stream",
     "text": [
      "aliked> vineyard_split_1_frame_0905.png-vineyard_split_1_frame_0900.png: 1572 matches @ 295th pair(aliked+lightglue)\n"
     ]
    },
    {
     "name": "stderr",
     "output_type": "stream",
     "text": [
      " 96%|█████████▌| 6352/6611 [15:48<00:38,  6.64it/s]"
     ]
    },
    {
     "name": "stdout",
     "output_type": "stream",
     "text": [
      "aliked> vineyard_split_1_frame_0905.png-vineyard_split_1_frame_0920.png: 172 matches @ 296th pair(aliked+lightglue)\n"
     ]
    },
    {
     "name": "stderr",
     "output_type": "stream",
     "text": [
      " 96%|█████████▌| 6358/6611 [15:48<00:38,  6.59it/s]"
     ]
    },
    {
     "name": "stdout",
     "output_type": "stream",
     "text": [
      "aliked> vineyard_split_1_frame_1085.png-vineyard_split_1_frame_1090.png: 1831 matches @ 297th pair(aliked+lightglue)\n"
     ]
    },
    {
     "name": "stderr",
     "output_type": "stream",
     "text": [
      " 96%|█████████▋| 6369/6611 [15:50<00:36,  6.63it/s]"
     ]
    },
    {
     "name": "stdout",
     "output_type": "stream",
     "text": [
      "aliked> vineyard_split_1_frame_0955.png-vineyard_split_1_frame_0940.png: 189 matches @ 298th pair(aliked+lightglue)\n"
     ]
    },
    {
     "name": "stderr",
     "output_type": "stream",
     "text": [
      " 97%|█████████▋| 6415/6611 [15:57<00:30,  6.48it/s]"
     ]
    },
    {
     "name": "stdout",
     "output_type": "stream",
     "text": [
      "aliked> vineyard_split_1_frame_0980.png-vineyard_split_1_frame_0985.png: 2018 matches @ 299th pair(aliked+lightglue)\n"
     ]
    },
    {
     "name": "stderr",
     "output_type": "stream",
     "text": [
      " 97%|█████████▋| 6419/6611 [15:58<00:29,  6.58it/s]"
     ]
    },
    {
     "name": "stdout",
     "output_type": "stream",
     "text": [
      "aliked> vineyard_split_1_frame_0980.png-vineyard_split_1_frame_0975.png: 2454 matches @ 300th pair(aliked+lightglue)\n"
     ]
    },
    {
     "name": "stderr",
     "output_type": "stream",
     "text": [
      " 97%|█████████▋| 6421/6611 [15:58<00:27,  6.90it/s]"
     ]
    },
    {
     "name": "stdout",
     "output_type": "stream",
     "text": [
      "aliked> vineyard_split_1_frame_1045.png-vineyard_split_1_frame_1040.png: 1741 matches @ 301th pair(aliked+lightglue)\n"
     ]
    },
    {
     "name": "stderr",
     "output_type": "stream",
     "text": [
      " 97%|█████████▋| 6425/6611 [15:59<00:26,  7.12it/s]"
     ]
    },
    {
     "name": "stdout",
     "output_type": "stream",
     "text": [
      "aliked> vineyard_split_1_frame_1045.png-vineyard_split_1_frame_1035.png: 985 matches @ 302th pair(aliked+lightglue)\n"
     ]
    },
    {
     "name": "stderr",
     "output_type": "stream",
     "text": [
      " 97%|█████████▋| 6436/6611 [16:00<00:24,  7.24it/s]"
     ]
    },
    {
     "name": "stdout",
     "output_type": "stream",
     "text": [
      "aliked> vineyard_split_1_frame_1045.png-vineyard_split_1_frame_1050.png: 1256 matches @ 303th pair(aliked+lightglue)\n"
     ]
    },
    {
     "name": "stderr",
     "output_type": "stream",
     "text": [
      " 98%|█████████▊| 6446/6611 [16:02<00:26,  6.25it/s]"
     ]
    },
    {
     "name": "stdout",
     "output_type": "stream",
     "text": [
      "aliked> vineyard_split_1_frame_1080.png-vineyard_split_1_frame_1075.png: 1861 matches @ 304th pair(aliked+lightglue)\n"
     ]
    },
    {
     "name": "stderr",
     "output_type": "stream",
     "text": [
      " 98%|█████████▊| 6455/6611 [16:03<00:25,  6.23it/s]"
     ]
    },
    {
     "name": "stdout",
     "output_type": "stream",
     "text": [
      "aliked> vineyard_split_1_frame_1080.png-vineyard_split_1_frame_1090.png: 924 matches @ 305th pair(aliked+lightglue)\n"
     ]
    },
    {
     "name": "stderr",
     "output_type": "stream",
     "text": [
      " 98%|█████████▊| 6460/6611 [16:04<00:22,  6.61it/s]"
     ]
    },
    {
     "name": "stdout",
     "output_type": "stream",
     "text": [
      "aliked> vineyard_split_1_frame_1040.png-vineyard_split_1_frame_1035.png: 2015 matches @ 306th pair(aliked+lightglue)\n"
     ]
    },
    {
     "name": "stderr",
     "output_type": "stream",
     "text": [
      " 98%|█████████▊| 6469/6611 [16:05<00:21,  6.66it/s]"
     ]
    },
    {
     "name": "stdout",
     "output_type": "stream",
     "text": [
      "aliked> vineyard_split_1_frame_1040.png-vineyard_split_1_frame_1030.png: 993 matches @ 307th pair(aliked+lightglue)\n"
     ]
    },
    {
     "name": "stderr",
     "output_type": "stream",
     "text": [
      " 98%|█████████▊| 6471/6611 [16:06<00:20,  6.68it/s]"
     ]
    },
    {
     "name": "stdout",
     "output_type": "stream",
     "text": [
      "aliked> vineyard_split_1_frame_1040.png-vineyard_split_1_frame_1050.png: 619 matches @ 308th pair(aliked+lightglue)\n"
     ]
    },
    {
     "name": "stderr",
     "output_type": "stream",
     "text": [
      " 98%|█████████▊| 6476/6611 [16:06<00:20,  6.68it/s]"
     ]
    },
    {
     "name": "stdout",
     "output_type": "stream",
     "text": [
      "aliked> vineyard_split_1_frame_1110.png-vineyard_split_1_frame_1100.png: 1798 matches @ 309th pair(aliked+lightglue)\n"
     ]
    },
    {
     "name": "stderr",
     "output_type": "stream",
     "text": [
      " 98%|█████████▊| 6481/6611 [16:07<00:19,  6.80it/s]"
     ]
    },
    {
     "name": "stdout",
     "output_type": "stream",
     "text": [
      "aliked> vineyard_split_1_frame_1110.png-vineyard_split_1_frame_1105.png: 2030 matches @ 310th pair(aliked+lightglue)\n"
     ]
    },
    {
     "name": "stderr",
     "output_type": "stream",
     "text": [
      " 98%|█████████▊| 6493/6611 [16:09<00:17,  6.67it/s]"
     ]
    },
    {
     "name": "stdout",
     "output_type": "stream",
     "text": [
      "aliked> vineyard_split_1_frame_1020.png-vineyard_split_1_frame_1010.png: 602 matches @ 311th pair(aliked+lightglue)\n"
     ]
    },
    {
     "name": "stderr",
     "output_type": "stream",
     "text": [
      " 98%|█████████▊| 6498/6611 [16:10<00:16,  6.69it/s]"
     ]
    },
    {
     "name": "stdout",
     "output_type": "stream",
     "text": [
      "aliked> vineyard_split_1_frame_1020.png-vineyard_split_1_frame_1030.png: 715 matches @ 312th pair(aliked+lightglue)\n",
      "aliked> vineyard_split_1_frame_1020.png-vineyard_split_1_frame_1025.png: 1229 matches @ 313th pair(aliked+lightglue)\n"
     ]
    },
    {
     "name": "stderr",
     "output_type": "stream",
     "text": [
      " 98%|█████████▊| 6508/6611 [16:11<00:15,  6.52it/s]"
     ]
    },
    {
     "name": "stdout",
     "output_type": "stream",
     "text": [
      "aliked> vineyard_split_1_frame_1000.png-vineyard_split_1_frame_1010.png: 544 matches @ 314th pair(aliked+lightglue)\n"
     ]
    },
    {
     "name": "stderr",
     "output_type": "stream",
     "text": [
      " 99%|█████████▊| 6512/6611 [16:12<00:15,  6.57it/s]"
     ]
    },
    {
     "name": "stdout",
     "output_type": "stream",
     "text": [
      "aliked> vineyard_split_1_frame_1000.png-vineyard_split_1_frame_0985.png: 120 matches @ 315th pair(aliked+lightglue)\n"
     ]
    },
    {
     "name": "stderr",
     "output_type": "stream",
     "text": [
      " 99%|█████████▊| 6527/6611 [16:14<00:12,  6.85it/s]"
     ]
    },
    {
     "name": "stdout",
     "output_type": "stream",
     "text": [
      "aliked> vineyard_split_1_frame_1035.png-vineyard_split_1_frame_1030.png: 1715 matches @ 316th pair(aliked+lightglue)\n"
     ]
    },
    {
     "name": "stderr",
     "output_type": "stream",
     "text": [
      " 99%|█████████▉| 6529/6611 [16:14<00:11,  6.92it/s]"
     ]
    },
    {
     "name": "stdout",
     "output_type": "stream",
     "text": [
      "aliked> vineyard_split_1_frame_1035.png-vineyard_split_1_frame_1050.png: 181 matches @ 317th pair(aliked+lightglue)\n"
     ]
    },
    {
     "name": "stderr",
     "output_type": "stream",
     "text": [
      " 99%|█████████▉| 6533/6611 [16:15<00:11,  6.58it/s]"
     ]
    },
    {
     "name": "stdout",
     "output_type": "stream",
     "text": [
      "aliked> vineyard_split_1_frame_0910.png-vineyard_split_1_frame_0920.png: 919 matches @ 318th pair(aliked+lightglue)\n"
     ]
    },
    {
     "name": "stderr",
     "output_type": "stream",
     "text": [
      " 99%|█████████▉| 6538/6611 [16:16<00:11,  6.60it/s]"
     ]
    },
    {
     "name": "stdout",
     "output_type": "stream",
     "text": [
      "aliked> vineyard_split_1_frame_1100.png-vineyard_split_1_frame_1105.png: 2528 matches @ 319th pair(aliked+lightglue)\n"
     ]
    },
    {
     "name": "stderr",
     "output_type": "stream",
     "text": [
      " 99%|█████████▉| 6545/6611 [16:17<00:10,  6.51it/s]"
     ]
    },
    {
     "name": "stdout",
     "output_type": "stream",
     "text": [
      "aliked> vineyard_split_1_frame_1100.png-vineyard_split_1_frame_1090.png: 924 matches @ 320th pair(aliked+lightglue)\n"
     ]
    },
    {
     "name": "stderr",
     "output_type": "stream",
     "text": [
      " 99%|█████████▉| 6551/6611 [16:18<00:09,  6.59it/s]"
     ]
    },
    {
     "name": "stdout",
     "output_type": "stream",
     "text": [
      "aliked> vineyard_split_1_frame_0940.png-vineyard_split_1_frame_0925.png: 418 matches @ 321th pair(aliked+lightglue)\n"
     ]
    },
    {
     "name": "stderr",
     "output_type": "stream",
     "text": [
      "100%|█████████▉| 6587/6611 [16:23<00:03,  6.83it/s]"
     ]
    },
    {
     "name": "stdout",
     "output_type": "stream",
     "text": [
      "aliked> vineyard_split_1_frame_0925.png-vineyard_split_1_frame_0930.png: 2004 matches @ 322th pair(aliked+lightglue)\n"
     ]
    },
    {
     "name": "stderr",
     "output_type": "stream",
     "text": [
      "100%|█████████▉| 6590/6611 [16:23<00:02,  7.07it/s]"
     ]
    },
    {
     "name": "stdout",
     "output_type": "stream",
     "text": [
      "aliked> vineyard_split_1_frame_0925.png-vineyard_split_1_frame_0920.png: 1594 matches @ 323th pair(aliked+lightglue)\n"
     ]
    },
    {
     "name": "stderr",
     "output_type": "stream",
     "text": [
      "100%|█████████▉| 6597/6611 [16:24<00:02,  6.58it/s]"
     ]
    },
    {
     "name": "stdout",
     "output_type": "stream",
     "text": [
      "aliked> vineyard_split_1_frame_0985.png-vineyard_split_1_frame_0975.png: 1238 matches @ 324th pair(aliked+lightglue)\n"
     ]
    },
    {
     "name": "stderr",
     "output_type": "stream",
     "text": [
      "100%|█████████▉| 6600/6611 [16:25<00:01,  6.64it/s]"
     ]
    },
    {
     "name": "stdout",
     "output_type": "stream",
     "text": [
      "aliked> vineyard_split_1_frame_1030.png-vineyard_split_1_frame_1025.png: 2288 matches @ 325th pair(aliked+lightglue)\n"
     ]
    },
    {
     "name": "stderr",
     "output_type": "stream",
     "text": [
      "100%|██████████| 6611/6611 [16:27<00:00,  6.70it/s]\n"
     ]
    },
    {
     "name": "stdout",
     "output_type": "stream",
     "text": [
      "Features matched in  996.5133 sec (aliked+LightGlue)\n",
      "superpoint > rot_k=0, kpts.shape=torch.Size([184, 2]), descs.shape=torch.Size([184, 256])\n",
      "superpoint > rot_k=0, kpts.shape=torch.Size([178, 2]), descs.shape=torch.Size([178, 256])\n",
      "superpoint > rot_k=0, kpts.shape=torch.Size([250, 2]), descs.shape=torch.Size([250, 256])\n",
      "superpoint > rot_k=0, kpts.shape=torch.Size([285, 2]), descs.shape=torch.Size([285, 256])\n",
      "superpoint > rot_k=0, kpts.shape=torch.Size([293, 2]), descs.shape=torch.Size([293, 256])\n",
      "superpoint > rot_k=0, kpts.shape=torch.Size([260, 2]), descs.shape=torch.Size([260, 256])\n",
      "superpoint > rot_k=0, kpts.shape=torch.Size([235, 2]), descs.shape=torch.Size([235, 256])\n",
      "superpoint > rot_k=0, kpts.shape=torch.Size([259, 2]), descs.shape=torch.Size([259, 256])\n",
      "superpoint > rot_k=0, kpts.shape=torch.Size([288, 2]), descs.shape=torch.Size([288, 256])\n",
      "superpoint > rot_k=0, kpts.shape=torch.Size([270, 2]), descs.shape=torch.Size([270, 256])\n",
      "superpoint > rot_k=0, kpts.shape=torch.Size([283, 2]), descs.shape=torch.Size([283, 256])\n",
      "superpoint > rot_k=0, kpts.shape=torch.Size([248, 2]), descs.shape=torch.Size([248, 256])\n",
      "superpoint > rot_k=0, kpts.shape=torch.Size([320, 2]), descs.shape=torch.Size([320, 256])\n",
      "superpoint > rot_k=0, kpts.shape=torch.Size([209, 2]), descs.shape=torch.Size([209, 256])\n",
      "superpoint > rot_k=0, kpts.shape=torch.Size([161, 2]), descs.shape=torch.Size([161, 256])\n",
      "superpoint > rot_k=0, kpts.shape=torch.Size([238, 2]), descs.shape=torch.Size([238, 256])\n",
      "superpoint > rot_k=0, kpts.shape=torch.Size([218, 2]), descs.shape=torch.Size([218, 256])\n",
      "superpoint > rot_k=0, kpts.shape=torch.Size([270, 2]), descs.shape=torch.Size([270, 256])\n",
      "superpoint > rot_k=0, kpts.shape=torch.Size([233, 2]), descs.shape=torch.Size([233, 256])\n",
      "superpoint > rot_k=0, kpts.shape=torch.Size([252, 2]), descs.shape=torch.Size([252, 256])\n",
      "superpoint > rot_k=0, kpts.shape=torch.Size([226, 2]), descs.shape=torch.Size([226, 256])\n",
      "superpoint > rot_k=0, kpts.shape=torch.Size([279, 2]), descs.shape=torch.Size([279, 256])\n",
      "superpoint > rot_k=0, kpts.shape=torch.Size([293, 2]), descs.shape=torch.Size([293, 256])\n",
      "superpoint > rot_k=0, kpts.shape=torch.Size([168, 2]), descs.shape=torch.Size([168, 256])\n",
      "superpoint > rot_k=0, kpts.shape=torch.Size([236, 2]), descs.shape=torch.Size([236, 256])\n",
      "superpoint > rot_k=0, kpts.shape=torch.Size([205, 2]), descs.shape=torch.Size([205, 256])\n",
      "superpoint > rot_k=0, kpts.shape=torch.Size([299, 2]), descs.shape=torch.Size([299, 256])\n",
      "superpoint > rot_k=0, kpts.shape=torch.Size([246, 2]), descs.shape=torch.Size([246, 256])\n",
      "superpoint > rot_k=0, kpts.shape=torch.Size([193, 2]), descs.shape=torch.Size([193, 256])\n",
      "superpoint > rot_k=0, kpts.shape=torch.Size([279, 2]), descs.shape=torch.Size([279, 256])\n",
      "superpoint > rot_k=0, kpts.shape=torch.Size([262, 2]), descs.shape=torch.Size([262, 256])\n",
      "superpoint > rot_k=0, kpts.shape=torch.Size([235, 2]), descs.shape=torch.Size([235, 256])\n",
      "superpoint > rot_k=0, kpts.shape=torch.Size([291, 2]), descs.shape=torch.Size([291, 256])\n",
      "superpoint > rot_k=0, kpts.shape=torch.Size([263, 2]), descs.shape=torch.Size([263, 256])\n",
      "superpoint > rot_k=0, kpts.shape=torch.Size([221, 2]), descs.shape=torch.Size([221, 256])\n",
      "superpoint > rot_k=0, kpts.shape=torch.Size([299, 2]), descs.shape=torch.Size([299, 256])\n",
      "superpoint > rot_k=0, kpts.shape=torch.Size([370, 2]), descs.shape=torch.Size([370, 256])\n",
      "superpoint > rot_k=0, kpts.shape=torch.Size([341, 2]), descs.shape=torch.Size([341, 256])\n",
      "superpoint > rot_k=0, kpts.shape=torch.Size([242, 2]), descs.shape=torch.Size([242, 256])\n",
      "superpoint > rot_k=0, kpts.shape=torch.Size([299, 2]), descs.shape=torch.Size([299, 256])\n",
      "superpoint > rot_k=0, kpts.shape=torch.Size([328, 2]), descs.shape=torch.Size([328, 256])\n",
      "superpoint > rot_k=0, kpts.shape=torch.Size([359, 2]), descs.shape=torch.Size([359, 256])\n",
      "superpoint > rot_k=0, kpts.shape=torch.Size([404, 2]), descs.shape=torch.Size([404, 256])\n",
      "superpoint > rot_k=0, kpts.shape=torch.Size([358, 2]), descs.shape=torch.Size([358, 256])\n",
      "superpoint > rot_k=0, kpts.shape=torch.Size([317, 2]), descs.shape=torch.Size([317, 256])\n",
      "superpoint > rot_k=0, kpts.shape=torch.Size([355, 2]), descs.shape=torch.Size([355, 256])\n",
      "superpoint > rot_k=0, kpts.shape=torch.Size([228, 2]), descs.shape=torch.Size([228, 256])\n",
      "superpoint > rot_k=0, kpts.shape=torch.Size([349, 2]), descs.shape=torch.Size([349, 256])\n",
      "superpoint > rot_k=0, kpts.shape=torch.Size([260, 2]), descs.shape=torch.Size([260, 256])\n",
      "superpoint > rot_k=0, kpts.shape=torch.Size([273, 2]), descs.shape=torch.Size([273, 256])\n",
      "superpoint > rot_k=0, kpts.shape=torch.Size([209, 2]), descs.shape=torch.Size([209, 256])\n",
      "superpoint > rot_k=0, kpts.shape=torch.Size([200, 2]), descs.shape=torch.Size([200, 256])\n",
      "superpoint > rot_k=0, kpts.shape=torch.Size([348, 2]), descs.shape=torch.Size([348, 256])\n",
      "superpoint > rot_k=0, kpts.shape=torch.Size([294, 2]), descs.shape=torch.Size([294, 256])\n",
      "superpoint > rot_k=0, kpts.shape=torch.Size([310, 2]), descs.shape=torch.Size([310, 256])\n",
      "superpoint > rot_k=0, kpts.shape=torch.Size([275, 2]), descs.shape=torch.Size([275, 256])\n",
      "superpoint > rot_k=0, kpts.shape=torch.Size([222, 2]), descs.shape=torch.Size([222, 256])\n",
      "superpoint > rot_k=0, kpts.shape=torch.Size([334, 2]), descs.shape=torch.Size([334, 256])\n",
      "superpoint > rot_k=0, kpts.shape=torch.Size([329, 2]), descs.shape=torch.Size([329, 256])\n",
      "superpoint > rot_k=0, kpts.shape=torch.Size([331, 2]), descs.shape=torch.Size([331, 256])\n",
      "superpoint > rot_k=0, kpts.shape=torch.Size([304, 2]), descs.shape=torch.Size([304, 256])\n",
      "superpoint > rot_k=0, kpts.shape=torch.Size([381, 2]), descs.shape=torch.Size([381, 256])\n",
      "superpoint > rot_k=0, kpts.shape=torch.Size([307, 2]), descs.shape=torch.Size([307, 256])\n",
      "superpoint > rot_k=0, kpts.shape=torch.Size([358, 2]), descs.shape=torch.Size([358, 256])\n",
      "superpoint > rot_k=0, kpts.shape=torch.Size([296, 2]), descs.shape=torch.Size([296, 256])\n",
      "superpoint > rot_k=0, kpts.shape=torch.Size([366, 2]), descs.shape=torch.Size([366, 256])\n",
      "superpoint > rot_k=0, kpts.shape=torch.Size([387, 2]), descs.shape=torch.Size([387, 256])\n",
      "superpoint > rot_k=0, kpts.shape=torch.Size([339, 2]), descs.shape=torch.Size([339, 256])\n",
      "superpoint > rot_k=0, kpts.shape=torch.Size([378, 2]), descs.shape=torch.Size([378, 256])\n",
      "superpoint > rot_k=0, kpts.shape=torch.Size([300, 2]), descs.shape=torch.Size([300, 256])\n",
      "superpoint > rot_k=0, kpts.shape=torch.Size([252, 2]), descs.shape=torch.Size([252, 256])\n",
      "superpoint > rot_k=0, kpts.shape=torch.Size([354, 2]), descs.shape=torch.Size([354, 256])\n",
      "superpoint > rot_k=0, kpts.shape=torch.Size([313, 2]), descs.shape=torch.Size([313, 256])\n",
      "superpoint > rot_k=0, kpts.shape=torch.Size([313, 2]), descs.shape=torch.Size([313, 256])\n",
      "superpoint > rot_k=0, kpts.shape=torch.Size([200, 2]), descs.shape=torch.Size([200, 256])\n",
      "superpoint > rot_k=0, kpts.shape=torch.Size([170, 2]), descs.shape=torch.Size([170, 256])\n",
      "superpoint > rot_k=0, kpts.shape=torch.Size([337, 2]), descs.shape=torch.Size([337, 256])\n",
      "superpoint > rot_k=0, kpts.shape=torch.Size([268, 2]), descs.shape=torch.Size([268, 256])\n",
      "superpoint > rot_k=0, kpts.shape=torch.Size([415, 2]), descs.shape=torch.Size([415, 256])\n",
      "superpoint > rot_k=0, kpts.shape=torch.Size([331, 2]), descs.shape=torch.Size([331, 256])\n",
      "superpoint > rot_k=0, kpts.shape=torch.Size([275, 2]), descs.shape=torch.Size([275, 256])\n",
      "superpoint > rot_k=0, kpts.shape=torch.Size([334, 2]), descs.shape=torch.Size([334, 256])\n",
      "superpoint > rot_k=0, kpts.shape=torch.Size([198, 2]), descs.shape=torch.Size([198, 256])\n",
      "superpoint > rot_k=0, kpts.shape=torch.Size([332, 2]), descs.shape=torch.Size([332, 256])\n",
      "superpoint > rot_k=0, kpts.shape=torch.Size([238, 2]), descs.shape=torch.Size([238, 256])\n",
      "superpoint > rot_k=0, kpts.shape=torch.Size([259, 2]), descs.shape=torch.Size([259, 256])\n",
      "superpoint > rot_k=0, kpts.shape=torch.Size([301, 2]), descs.shape=torch.Size([301, 256])\n",
      "superpoint > rot_k=0, kpts.shape=torch.Size([305, 2]), descs.shape=torch.Size([305, 256])\n",
      "superpoint > rot_k=0, kpts.shape=torch.Size([236, 2]), descs.shape=torch.Size([236, 256])\n",
      "superpoint > rot_k=0, kpts.shape=torch.Size([330, 2]), descs.shape=torch.Size([330, 256])\n",
      "superpoint > rot_k=0, kpts.shape=torch.Size([352, 2]), descs.shape=torch.Size([352, 256])\n",
      "superpoint > rot_k=0, kpts.shape=torch.Size([243, 2]), descs.shape=torch.Size([243, 256])\n",
      "superpoint > rot_k=0, kpts.shape=torch.Size([212, 2]), descs.shape=torch.Size([212, 256])\n",
      "superpoint > rot_k=0, kpts.shape=torch.Size([314, 2]), descs.shape=torch.Size([314, 256])\n",
      "superpoint > rot_k=0, kpts.shape=torch.Size([373, 2]), descs.shape=torch.Size([373, 256])\n",
      "superpoint > rot_k=0, kpts.shape=torch.Size([390, 2]), descs.shape=torch.Size([390, 256])\n",
      "superpoint > rot_k=0, kpts.shape=torch.Size([400, 2]), descs.shape=torch.Size([400, 256])\n",
      "superpoint > rot_k=0, kpts.shape=torch.Size([293, 2]), descs.shape=torch.Size([293, 256])\n",
      "superpoint > rot_k=0, kpts.shape=torch.Size([207, 2]), descs.shape=torch.Size([207, 256])\n",
      "superpoint > rot_k=0, kpts.shape=torch.Size([300, 2]), descs.shape=torch.Size([300, 256])\n",
      "superpoint > rot_k=0, kpts.shape=torch.Size([239, 2]), descs.shape=torch.Size([239, 256])\n",
      "superpoint > rot_k=0, kpts.shape=torch.Size([406, 2]), descs.shape=torch.Size([406, 256])\n",
      "superpoint > rot_k=0, kpts.shape=torch.Size([344, 2]), descs.shape=torch.Size([344, 256])\n",
      "superpoint > rot_k=0, kpts.shape=torch.Size([358, 2]), descs.shape=torch.Size([358, 256])\n",
      "superpoint > rot_k=0, kpts.shape=torch.Size([313, 2]), descs.shape=torch.Size([313, 256])\n",
      "superpoint > rot_k=0, kpts.shape=torch.Size([301, 2]), descs.shape=torch.Size([301, 256])\n",
      "superpoint > rot_k=0, kpts.shape=torch.Size([285, 2]), descs.shape=torch.Size([285, 256])\n",
      "superpoint > rot_k=0, kpts.shape=torch.Size([221, 2]), descs.shape=torch.Size([221, 256])\n",
      "superpoint > rot_k=0, kpts.shape=torch.Size([374, 2]), descs.shape=torch.Size([374, 256])\n",
      "superpoint > rot_k=0, kpts.shape=torch.Size([335, 2]), descs.shape=torch.Size([335, 256])\n",
      "superpoint > rot_k=0, kpts.shape=torch.Size([263, 2]), descs.shape=torch.Size([263, 256])\n",
      "superpoint > rot_k=0, kpts.shape=torch.Size([462, 2]), descs.shape=torch.Size([462, 256])\n",
      "superpoint > rot_k=0, kpts.shape=torch.Size([307, 2]), descs.shape=torch.Size([307, 256])\n",
      "superpoint > rot_k=0, kpts.shape=torch.Size([344, 2]), descs.shape=torch.Size([344, 256])\n",
      "superpoint > rot_k=0, kpts.shape=torch.Size([337, 2]), descs.shape=torch.Size([337, 256])\n",
      "superpoint > rot_k=0, kpts.shape=torch.Size([345, 2]), descs.shape=torch.Size([345, 256])\n",
      "superpoint > rot_k=0, kpts.shape=torch.Size([312, 2]), descs.shape=torch.Size([312, 256])\n",
      "superpoint > rot_k=0, kpts.shape=torch.Size([220, 2]), descs.shape=torch.Size([220, 256])\n",
      "superpoint > rot_k=0, kpts.shape=torch.Size([289, 2]), descs.shape=torch.Size([289, 256])\n",
      "superpoint > rot_k=0, kpts.shape=torch.Size([240, 2]), descs.shape=torch.Size([240, 256])\n",
      "superpoint > rot_k=0, kpts.shape=torch.Size([266, 2]), descs.shape=torch.Size([266, 256])\n",
      "superpoint > rot_k=0, kpts.shape=torch.Size([256, 2]), descs.shape=torch.Size([256, 256])\n",
      "superpoint > rot_k=0, kpts.shape=torch.Size([239, 2]), descs.shape=torch.Size([239, 256])\n",
      "superpoint > rot_k=0, kpts.shape=torch.Size([310, 2]), descs.shape=torch.Size([310, 256])\n",
      "superpoint > rot_k=0, kpts.shape=torch.Size([289, 2]), descs.shape=torch.Size([289, 256])\n",
      "superpoint > rot_k=0, kpts.shape=torch.Size([306, 2]), descs.shape=torch.Size([306, 256])\n",
      "superpoint > rot_k=0, kpts.shape=torch.Size([343, 2]), descs.shape=torch.Size([343, 256])\n",
      "superpoint > rot_k=0, kpts.shape=torch.Size([260, 2]), descs.shape=torch.Size([260, 256])\n",
      "superpoint > rot_k=0, kpts.shape=torch.Size([258, 2]), descs.shape=torch.Size([258, 256])\n",
      "superpoint > rot_k=0, kpts.shape=torch.Size([282, 2]), descs.shape=torch.Size([282, 256])\n",
      "superpoint > rot_k=0, kpts.shape=torch.Size([277, 2]), descs.shape=torch.Size([277, 256])\n",
      "superpoint > rot_k=0, kpts.shape=torch.Size([238, 2]), descs.shape=torch.Size([238, 256])\n",
      "superpoint > rot_k=0, kpts.shape=torch.Size([283, 2]), descs.shape=torch.Size([283, 256])\n",
      "superpoint > rot_k=0, kpts.shape=torch.Size([256, 2]), descs.shape=torch.Size([256, 256])\n",
      "superpoint > rot_k=0, kpts.shape=torch.Size([245, 2]), descs.shape=torch.Size([245, 256])\n",
      "superpoint > rot_k=0, kpts.shape=torch.Size([225, 2]), descs.shape=torch.Size([225, 256])\n",
      "superpoint > rot_k=0, kpts.shape=torch.Size([288, 2]), descs.shape=torch.Size([288, 256])\n",
      "superpoint > rot_k=0, kpts.shape=torch.Size([326, 2]), descs.shape=torch.Size([326, 256])\n",
      "superpoint > rot_k=0, kpts.shape=torch.Size([329, 2]), descs.shape=torch.Size([329, 256])\n",
      "superpoint > rot_k=0, kpts.shape=torch.Size([320, 2]), descs.shape=torch.Size([320, 256])\n",
      "superpoint > rot_k=0, kpts.shape=torch.Size([207, 2]), descs.shape=torch.Size([207, 256])\n",
      "superpoint > rot_k=0, kpts.shape=torch.Size([314, 2]), descs.shape=torch.Size([314, 256])\n",
      "superpoint > rot_k=0, kpts.shape=torch.Size([226, 2]), descs.shape=torch.Size([226, 256])\n",
      "superpoint > rot_k=0, kpts.shape=torch.Size([310, 2]), descs.shape=torch.Size([310, 256])\n",
      "superpoint > rot_k=0, kpts.shape=torch.Size([290, 2]), descs.shape=torch.Size([290, 256])\n",
      "superpoint > rot_k=0, kpts.shape=torch.Size([368, 2]), descs.shape=torch.Size([368, 256])\n",
      "superpoint > rot_k=0, kpts.shape=torch.Size([238, 2]), descs.shape=torch.Size([238, 256])\n",
      "superpoint > rot_k=0, kpts.shape=torch.Size([326, 2]), descs.shape=torch.Size([326, 256])\n",
      "superpoint > rot_k=0, kpts.shape=torch.Size([231, 2]), descs.shape=torch.Size([231, 256])\n",
      "superpoint > rot_k=0, kpts.shape=torch.Size([218, 2]), descs.shape=torch.Size([218, 256])\n",
      "superpoint > rot_k=0, kpts.shape=torch.Size([271, 2]), descs.shape=torch.Size([271, 256])\n",
      "superpoint > rot_k=0, kpts.shape=torch.Size([295, 2]), descs.shape=torch.Size([295, 256])\n",
      "superpoint > rot_k=0, kpts.shape=torch.Size([332, 2]), descs.shape=torch.Size([332, 256])\n",
      "superpoint > rot_k=0, kpts.shape=torch.Size([294, 2]), descs.shape=torch.Size([294, 256])\n",
      "superpoint > rot_k=0, kpts.shape=torch.Size([293, 2]), descs.shape=torch.Size([293, 256])\n",
      "superpoint > rot_k=0, kpts.shape=torch.Size([315, 2]), descs.shape=torch.Size([315, 256])\n",
      "superpoint > rot_k=0, kpts.shape=torch.Size([289, 2]), descs.shape=torch.Size([289, 256])\n",
      "superpoint > rot_k=0, kpts.shape=torch.Size([280, 2]), descs.shape=torch.Size([280, 256])\n",
      "superpoint > rot_k=0, kpts.shape=torch.Size([283, 2]), descs.shape=torch.Size([283, 256])\n",
      "superpoint > rot_k=0, kpts.shape=torch.Size([285, 2]), descs.shape=torch.Size([285, 256])\n",
      "superpoint > rot_k=0, kpts.shape=torch.Size([283, 2]), descs.shape=torch.Size([283, 256])\n",
      "superpoint > rot_k=0, kpts.shape=torch.Size([229, 2]), descs.shape=torch.Size([229, 256])\n",
      "superpoint > rot_k=0, kpts.shape=torch.Size([330, 2]), descs.shape=torch.Size([330, 256])\n",
      "Loaded LightGlue model\n"
     ]
    },
    {
     "name": "stderr",
     "output_type": "stream",
     "text": [
      "  2%|▏         | 118/6611 [00:02<02:40, 40.34it/s]"
     ]
    },
    {
     "name": "stdout",
     "output_type": "stream",
     "text": [
      "superpoint> vineyard_split_2_frame_1225.png-vineyard_split_2_frame_1220.png: 53 matches @ 1th pair(superpoint+lightglue)\n"
     ]
    },
    {
     "name": "stderr",
     "output_type": "stream",
     "text": [
      "  3%|▎         | 192/6611 [00:04<02:37, 40.77it/s]"
     ]
    },
    {
     "name": "stdout",
     "output_type": "stream",
     "text": [
      "superpoint> vineyard_split_2_frame_1245.png-vineyard_split_2_frame_1240.png: 53 matches @ 2th pair(superpoint+lightglue)\n"
     ]
    },
    {
     "name": "stderr",
     "output_type": "stream",
     "text": [
      "  4%|▍         | 270/6611 [00:06<02:34, 41.09it/s]"
     ]
    },
    {
     "name": "stdout",
     "output_type": "stream",
     "text": [
      "superpoint> vineyard_split_2_frame_1320.png-vineyard_split_2_frame_1315.png: 71 matches @ 3th pair(superpoint+lightglue)\n",
      "superpoint> vineyard_split_2_frame_1320.png-vineyard_split_3_frame_1400.png: 50 matches @ 4th pair(superpoint+lightglue)\n"
     ]
    },
    {
     "name": "stderr",
     "output_type": "stream",
     "text": [
      "  5%|▍         | 320/6611 [00:07<02:35, 40.46it/s]"
     ]
    },
    {
     "name": "stdout",
     "output_type": "stream",
     "text": [
      "superpoint> vineyard_split_2_frame_1205.png-vineyard_split_2_frame_1210.png: 70 matches @ 5th pair(superpoint+lightglue)\n"
     ]
    },
    {
     "name": "stderr",
     "output_type": "stream",
     "text": [
      "  7%|▋         | 440/6611 [00:10<02:32, 40.56it/s]"
     ]
    },
    {
     "name": "stdout",
     "output_type": "stream",
     "text": [
      "superpoint> vineyard_split_2_frame_1240.png-vineyard_split_2_frame_1235.png: 68 matches @ 6th pair(superpoint+lightglue)\n",
      "superpoint> vineyard_split_2_frame_1240.png-vineyard_split_2_frame_1230.png: 59 matches @ 7th pair(superpoint+lightglue)\n"
     ]
    },
    {
     "name": "stderr",
     "output_type": "stream",
     "text": [
      "  8%|▊         | 529/6611 [00:13<02:30, 40.42it/s]"
     ]
    },
    {
     "name": "stdout",
     "output_type": "stream",
     "text": [
      "superpoint> vineyard_split_2_frame_1240.png-vineyard_split_1_frame_1065.png: 57 matches @ 8th pair(superpoint+lightglue)\n"
     ]
    },
    {
     "name": "stderr",
     "output_type": "stream",
     "text": [
      "  8%|▊         | 559/6611 [00:13<02:28, 40.70it/s]"
     ]
    },
    {
     "name": "stdout",
     "output_type": "stream",
     "text": [
      "superpoint> vineyard_split_2_frame_1170.png-vineyard_split_2_frame_1165.png: 64 matches @ 9th pair(superpoint+lightglue)\n"
     ]
    },
    {
     "name": "stderr",
     "output_type": "stream",
     "text": [
      "  9%|▊         | 569/6611 [00:14<02:30, 40.27it/s]"
     ]
    },
    {
     "name": "stdout",
     "output_type": "stream",
     "text": [
      "superpoint> vineyard_split_2_frame_1170.png-vineyard_split_2_frame_1175.png: 92 matches @ 10th pair(superpoint+lightglue)\n"
     ]
    },
    {
     "name": "stderr",
     "output_type": "stream",
     "text": [
      " 10%|█         | 669/6611 [00:16<02:26, 40.58it/s]"
     ]
    },
    {
     "name": "stdout",
     "output_type": "stream",
     "text": [
      "superpoint> vineyard_split_2_frame_1300.png-vineyard_split_2_frame_1305.png: 67 matches @ 11th pair(superpoint+lightglue)\n"
     ]
    },
    {
     "name": "stderr",
     "output_type": "stream",
     "text": [
      " 12%|█▏        | 769/6611 [00:19<02:25, 40.10it/s]"
     ]
    },
    {
     "name": "stdout",
     "output_type": "stream",
     "text": [
      "superpoint> vineyard_split_2_frame_1290.png-vineyard_split_2_frame_1295.png: 72 matches @ 12th pair(superpoint+lightglue)\n"
     ]
    },
    {
     "name": "stderr",
     "output_type": "stream",
     "text": [
      " 13%|█▎        | 834/6611 [00:20<02:21, 40.90it/s]"
     ]
    },
    {
     "name": "stdout",
     "output_type": "stream",
     "text": [
      "superpoint> vineyard_split_2_frame_1310.png-vineyard_split_2_frame_1305.png: 56 matches @ 13th pair(superpoint+lightglue)\n"
     ]
    },
    {
     "name": "stderr",
     "output_type": "stream",
     "text": [
      " 14%|█▍        | 934/6611 [00:23<02:21, 40.07it/s]"
     ]
    },
    {
     "name": "stdout",
     "output_type": "stream",
     "text": [
      "superpoint> vineyard_split_2_frame_1200.png-vineyard_split_2_frame_1195.png: 59 matches @ 14th pair(superpoint+lightglue)\n"
     ]
    },
    {
     "name": "stderr",
     "output_type": "stream",
     "text": [
      " 16%|█▌        | 1065/6611 [00:26<02:22, 39.02it/s]"
     ]
    },
    {
     "name": "stdout",
     "output_type": "stream",
     "text": [
      "superpoint> vineyard_split_2_frame_1180.png-vineyard_split_2_frame_1175.png: 70 matches @ 15th pair(superpoint+lightglue)\n"
     ]
    },
    {
     "name": "stderr",
     "output_type": "stream",
     "text": [
      " 20%|██        | 1346/6611 [00:33<02:09, 40.52it/s]"
     ]
    },
    {
     "name": "stdout",
     "output_type": "stream",
     "text": [
      "superpoint> vineyard_split_2_frame_1165.png-vineyard_split_2_frame_1160.png: 57 matches @ 16th pair(superpoint+lightglue)\n"
     ]
    },
    {
     "name": "stderr",
     "output_type": "stream",
     "text": [
      " 22%|██▏       | 1445/6611 [00:35<02:07, 40.46it/s]"
     ]
    },
    {
     "name": "stdout",
     "output_type": "stream",
     "text": [
      "superpoint> vineyard_split_2_frame_1275.png-vineyard_split_2_frame_1280.png: 65 matches @ 17th pair(superpoint+lightglue)\n"
     ]
    },
    {
     "name": "stderr",
     "output_type": "stream",
     "text": [
      " 26%|██▌       | 1707/6611 [00:42<02:05, 39.20it/s]"
     ]
    },
    {
     "name": "stdout",
     "output_type": "stream",
     "text": [
      "superpoint> vineyard_split_2_frame_1280.png-vineyard_split_2_frame_1285.png: 69 matches @ 18th pair(superpoint+lightglue)\n"
     ]
    },
    {
     "name": "stderr",
     "output_type": "stream",
     "text": [
      " 27%|██▋       | 1767/6611 [00:43<02:00, 40.07it/s]"
     ]
    },
    {
     "name": "stdout",
     "output_type": "stream",
     "text": [
      "superpoint> vineyard_split_2_frame_1155.png-vineyard_split_2_frame_1150.png: 68 matches @ 19th pair(superpoint+lightglue)\n"
     ]
    },
    {
     "name": "stderr",
     "output_type": "stream",
     "text": [
      " 30%|██▉       | 1967/6611 [00:48<01:54, 40.47it/s]"
     ]
    },
    {
     "name": "stdout",
     "output_type": "stream",
     "text": [
      "superpoint> vineyard_split_2_frame_1210.png-vineyard_split_2_frame_1215.png: 51 matches @ 20th pair(superpoint+lightglue)\n"
     ]
    },
    {
     "name": "stderr",
     "output_type": "stream",
     "text": [
      " 39%|███▊      | 2551/6611 [01:03<01:45, 38.55it/s]"
     ]
    },
    {
     "name": "stdout",
     "output_type": "stream",
     "text": [
      "superpoint> vineyard_split_2_frame_1235.png-vineyard_split_2_frame_1230.png: 81 matches @ 21th pair(superpoint+lightglue)\n"
     ]
    },
    {
     "name": "stderr",
     "output_type": "stream",
     "text": [
      " 43%|████▎     | 2842/6611 [01:10<01:31, 41.19it/s]"
     ]
    },
    {
     "name": "stdout",
     "output_type": "stream",
     "text": [
      "superpoint> vineyard_split_3_frame_1395.png-vineyard_split_3_frame_1400.png: 93 matches @ 22th pair(superpoint+lightglue)\n"
     ]
    },
    {
     "name": "stderr",
     "output_type": "stream",
     "text": [
      " 43%|████▎     | 2867/6611 [01:11<01:31, 41.07it/s]"
     ]
    },
    {
     "name": "stdout",
     "output_type": "stream",
     "text": [
      "superpoint> vineyard_split_3_frame_1395.png-vineyard_split_1_frame_1020.png: 61 matches @ 23th pair(superpoint+lightglue)\n"
     ]
    },
    {
     "name": "stderr",
     "output_type": "stream",
     "text": [
      " 44%|████▎     | 2882/6611 [01:11<01:31, 40.61it/s]"
     ]
    },
    {
     "name": "stdout",
     "output_type": "stream",
     "text": [
      "superpoint> vineyard_split_3_frame_1475.png-vineyard_split_3_frame_1480.png: 66 matches @ 24th pair(superpoint+lightglue)\n"
     ]
    },
    {
     "name": "stderr",
     "output_type": "stream",
     "text": [
      " 44%|████▍     | 2936/6611 [01:13<01:33, 39.45it/s]"
     ]
    },
    {
     "name": "stdout",
     "output_type": "stream",
     "text": [
      "superpoint> vineyard_split_3_frame_1475.png-vineyard_split_3_frame_1470.png: 96 matches @ 25th pair(superpoint+lightglue)\n"
     ]
    },
    {
     "name": "stderr",
     "output_type": "stream",
     "text": [
      " 45%|████▌     | 3004/6611 [01:14<01:29, 40.20it/s]"
     ]
    },
    {
     "name": "stdout",
     "output_type": "stream",
     "text": [
      "superpoint> vineyard_split_3_frame_0255.png-vineyard_split_3_frame_0260.png: 94 matches @ 26th pair(superpoint+lightglue)\n"
     ]
    },
    {
     "name": "stderr",
     "output_type": "stream",
     "text": [
      " 46%|████▌     | 3056/6611 [01:16<01:31, 38.76it/s]"
     ]
    },
    {
     "name": "stdout",
     "output_type": "stream",
     "text": [
      "superpoint> vineyard_split_3_frame_1425.png-vineyard_split_3_frame_1430.png: 67 matches @ 27th pair(superpoint+lightglue)\n"
     ]
    },
    {
     "name": "stderr",
     "output_type": "stream",
     "text": [
      " 47%|████▋     | 3122/6611 [01:17<01:26, 40.26it/s]"
     ]
    },
    {
     "name": "stdout",
     "output_type": "stream",
     "text": [
      "superpoint> vineyard_split_3_frame_0125.png-vineyard_split_3_frame_0120.png: 89 matches @ 28th pair(superpoint+lightglue)\n"
     ]
    },
    {
     "name": "stderr",
     "output_type": "stream",
     "text": [
      " 49%|████▊     | 3222/6611 [01:20<01:27, 38.85it/s]"
     ]
    },
    {
     "name": "stdout",
     "output_type": "stream",
     "text": [
      "superpoint> vineyard_split_3_frame_1480.png-vineyard_split_3_frame_1485.png: 71 matches @ 29th pair(superpoint+lightglue)\n"
     ]
    },
    {
     "name": "stderr",
     "output_type": "stream",
     "text": [
      " 49%|████▉     | 3262/6611 [01:21<01:26, 38.93it/s]"
     ]
    },
    {
     "name": "stdout",
     "output_type": "stream",
     "text": [
      "superpoint> vineyard_split_3_frame_0215.png-vineyard_split_3_frame_0225.png: 50 matches @ 30th pair(superpoint+lightglue)\n"
     ]
    },
    {
     "name": "stderr",
     "output_type": "stream",
     "text": [
      " 49%|████▉     | 3270/6611 [01:21<01:26, 38.71it/s]"
     ]
    },
    {
     "name": "stdout",
     "output_type": "stream",
     "text": [
      "superpoint> vineyard_split_3_frame_0215.png-vineyard_split_3_frame_0210.png: 83 matches @ 31th pair(superpoint+lightglue)\n",
      "superpoint> vineyard_split_3_frame_0215.png-vineyard_split_3_frame_0220.png: 115 matches @ 32th pair(superpoint+lightglue)\n"
     ]
    },
    {
     "name": "stderr",
     "output_type": "stream",
     "text": [
      " 50%|████▉     | 3303/6611 [01:22<01:30, 36.71it/s]"
     ]
    },
    {
     "name": "stdout",
     "output_type": "stream",
     "text": [
      "superpoint> vineyard_split_3_frame_0295.png-vineyard_split_3_frame_0300.png: 80 matches @ 33th pair(superpoint+lightglue)\n"
     ]
    },
    {
     "name": "stderr",
     "output_type": "stream",
     "text": [
      " 50%|█████     | 3335/6611 [01:23<01:26, 37.83it/s]"
     ]
    },
    {
     "name": "stdout",
     "output_type": "stream",
     "text": [
      "superpoint> vineyard_split_3_frame_0090.png-vineyard_split_3_frame_0085.png: 134 matches @ 34th pair(superpoint+lightglue)\n",
      "superpoint> vineyard_split_3_frame_0090.png-vineyard_split_3_frame_0095.png: 90 matches @ 35th pair(superpoint+lightglue)\n"
     ]
    },
    {
     "name": "stderr",
     "output_type": "stream",
     "text": [
      " 51%|█████     | 3375/6611 [01:24<01:24, 38.36it/s]"
     ]
    },
    {
     "name": "stdout",
     "output_type": "stream",
     "text": [
      "superpoint> vineyard_split_3_frame_0190.png-vineyard_split_3_frame_0195.png: 79 matches @ 36th pair(superpoint+lightglue)\n"
     ]
    },
    {
     "name": "stderr",
     "output_type": "stream",
     "text": [
      " 52%|█████▏    | 3412/6611 [01:25<01:21, 39.46it/s]"
     ]
    },
    {
     "name": "stdout",
     "output_type": "stream",
     "text": [
      "superpoint> vineyard_split_3_frame_0265.png-vineyard_split_3_frame_0270.png: 69 matches @ 37th pair(superpoint+lightglue)\n"
     ]
    },
    {
     "name": "stderr",
     "output_type": "stream",
     "text": [
      " 52%|█████▏    | 3443/6611 [01:26<01:20, 39.31it/s]"
     ]
    },
    {
     "name": "stdout",
     "output_type": "stream",
     "text": [
      "superpoint> vineyard_split_3_frame_0265.png-vineyard_split_3_frame_0260.png: 91 matches @ 38th pair(superpoint+lightglue)\n"
     ]
    },
    {
     "name": "stderr",
     "output_type": "stream",
     "text": [
      " 53%|█████▎    | 3495/6611 [01:27<01:20, 38.54it/s]"
     ]
    },
    {
     "name": "stdout",
     "output_type": "stream",
     "text": [
      "superpoint> vineyard_split_3_frame_1445.png-vineyard_split_3_frame_1440.png: 67 matches @ 39th pair(superpoint+lightglue)\n"
     ]
    },
    {
     "name": "stderr",
     "output_type": "stream",
     "text": [
      " 58%|█████▊    | 3805/6611 [01:35<01:12, 38.44it/s]"
     ]
    },
    {
     "name": "stdout",
     "output_type": "stream",
     "text": [
      "superpoint> vineyard_split_3_frame_1405.png-vineyard_split_3_frame_1410.png: 57 matches @ 40th pair(superpoint+lightglue)\n"
     ]
    },
    {
     "name": "stderr",
     "output_type": "stream",
     "text": [
      " 58%|█████▊    | 3821/6611 [01:35<01:11, 39.00it/s]"
     ]
    },
    {
     "name": "stdout",
     "output_type": "stream",
     "text": [
      "superpoint> vineyard_split_3_frame_1405.png-vineyard_split_3_frame_1400.png: 93 matches @ 41th pair(superpoint+lightglue)\n"
     ]
    },
    {
     "name": "stderr",
     "output_type": "stream",
     "text": [
      " 58%|█████▊    | 3862/6611 [01:37<01:11, 38.51it/s]"
     ]
    },
    {
     "name": "stdout",
     "output_type": "stream",
     "text": [
      "superpoint> vineyard_split_3_frame_0070.png-vineyard_split_3_frame_0075.png: 69 matches @ 42th pair(superpoint+lightglue)\n"
     ]
    },
    {
     "name": "stderr",
     "output_type": "stream",
     "text": [
      " 59%|█████▉    | 3914/6611 [01:38<01:09, 38.67it/s]"
     ]
    },
    {
     "name": "stdout",
     "output_type": "stream",
     "text": [
      "superpoint> vineyard_split_3_frame_1500.png-vineyard_split_3_frame_1495.png: 78 matches @ 43th pair(superpoint+lightglue)\n"
     ]
    },
    {
     "name": "stderr",
     "output_type": "stream",
     "text": [
      " 61%|██████    | 4014/6611 [01:40<01:07, 38.46it/s]"
     ]
    },
    {
     "name": "stdout",
     "output_type": "stream",
     "text": [
      "superpoint> vineyard_split_3_frame_0075.png-vineyard_split_3_frame_0080.png: 112 matches @ 44th pair(superpoint+lightglue)\n"
     ]
    },
    {
     "name": "stderr",
     "output_type": "stream",
     "text": [
      " 62%|██████▏   | 4086/6611 [01:42<01:05, 38.57it/s]"
     ]
    },
    {
     "name": "stdout",
     "output_type": "stream",
     "text": [
      "superpoint> vineyard_split_3_frame_0160.png-vineyard_split_3_frame_0165.png: 104 matches @ 45th pair(superpoint+lightglue)\n"
     ]
    },
    {
     "name": "stderr",
     "output_type": "stream",
     "text": [
      " 62%|██████▏   | 4094/6611 [01:43<01:05, 38.30it/s]"
     ]
    },
    {
     "name": "stdout",
     "output_type": "stream",
     "text": [
      "superpoint> vineyard_split_3_frame_0160.png-vineyard_split_3_frame_0155.png: 82 matches @ 46th pair(superpoint+lightglue)\n"
     ]
    },
    {
     "name": "stderr",
     "output_type": "stream",
     "text": [
      " 63%|██████▎   | 4158/6611 [01:44<01:03, 38.44it/s]"
     ]
    },
    {
     "name": "stdout",
     "output_type": "stream",
     "text": [
      "superpoint> vineyard_split_3_frame_0150.png-vineyard_split_3_frame_0155.png: 94 matches @ 47th pair(superpoint+lightglue)\n"
     ]
    },
    {
     "name": "stderr",
     "output_type": "stream",
     "text": [
      " 64%|██████▎   | 4211/6611 [01:46<01:02, 38.53it/s]"
     ]
    },
    {
     "name": "stdout",
     "output_type": "stream",
     "text": [
      "superpoint> vineyard_split_3_frame_0140.png-vineyard_split_3_frame_0135.png: 74 matches @ 48th pair(superpoint+lightglue)\n"
     ]
    },
    {
     "name": "stderr",
     "output_type": "stream",
     "text": [
      " 64%|██████▍   | 4260/6611 [01:47<01:00, 38.87it/s]"
     ]
    },
    {
     "name": "stdout",
     "output_type": "stream",
     "text": [
      "superpoint> vineyard_split_3_frame_0270.png-vineyard_split_3_frame_0280.png: 78 matches @ 49th pair(superpoint+lightglue)\n",
      "superpoint> vineyard_split_3_frame_0270.png-vineyard_split_3_frame_0275.png: 104 matches @ 50th pair(superpoint+lightglue)\n"
     ]
    },
    {
     "name": "stderr",
     "output_type": "stream",
     "text": [
      " 65%|██████▍   | 4288/6611 [01:48<00:59, 39.06it/s]"
     ]
    },
    {
     "name": "stdout",
     "output_type": "stream",
     "text": [
      "superpoint> vineyard_split_3_frame_0170.png-vineyard_split_3_frame_0175.png: 92 matches @ 51th pair(superpoint+lightglue)\n"
     ]
    },
    {
     "name": "stderr",
     "output_type": "stream",
     "text": [
      " 65%|██████▍   | 4296/6611 [01:48<01:00, 38.50it/s]"
     ]
    },
    {
     "name": "stdout",
     "output_type": "stream",
     "text": [
      "superpoint> vineyard_split_3_frame_0170.png-vineyard_split_3_frame_0165.png: 83 matches @ 52th pair(superpoint+lightglue)\n"
     ]
    },
    {
     "name": "stderr",
     "output_type": "stream",
     "text": [
      " 65%|██████▌   | 4319/6611 [01:48<00:58, 39.38it/s]"
     ]
    },
    {
     "name": "stdout",
     "output_type": "stream",
     "text": [
      "superpoint> vineyard_split_3_frame_0285.png-vineyard_split_3_frame_0280.png: 135 matches @ 53th pair(superpoint+lightglue)\n",
      "superpoint> vineyard_split_3_frame_0285.png-vineyard_split_3_frame_0275.png: 108 matches @ 54th pair(superpoint+lightglue)\n"
     ]
    },
    {
     "name": "stderr",
     "output_type": "stream",
     "text": [
      " 67%|██████▋   | 4408/6611 [01:51<00:57, 38.58it/s]"
     ]
    },
    {
     "name": "stdout",
     "output_type": "stream",
     "text": [
      "superpoint> vineyard_split_3_frame_1490.png-vineyard_split_3_frame_1485.png: 57 matches @ 55th pair(superpoint+lightglue)\n"
     ]
    },
    {
     "name": "stderr",
     "output_type": "stream",
     "text": [
      " 67%|██████▋   | 4452/6611 [01:52<01:01, 34.95it/s]"
     ]
    },
    {
     "name": "stdout",
     "output_type": "stream",
     "text": [
      "superpoint> vineyard_split_3_frame_0280.png-vineyard_split_3_frame_0275.png: 144 matches @ 56th pair(superpoint+lightglue)\n"
     ]
    },
    {
     "name": "stderr",
     "output_type": "stream",
     "text": [
      " 69%|██████▊   | 4544/6611 [01:54<00:54, 37.70it/s]"
     ]
    },
    {
     "name": "stdout",
     "output_type": "stream",
     "text": [
      "superpoint> vineyard_split_3_frame_0225.png-vineyard_split_3_frame_0220.png: 87 matches @ 57th pair(superpoint+lightglue)\n",
      "superpoint> vineyard_split_3_frame_0225.png-vineyard_split_3_frame_0230.png: 66 matches @ 58th pair(superpoint+lightglue)\n"
     ]
    },
    {
     "name": "stderr",
     "output_type": "stream",
     "text": [
      " 69%|██████▉   | 4580/6611 [01:55<00:52, 38.90it/s]"
     ]
    },
    {
     "name": "stdout",
     "output_type": "stream",
     "text": [
      "superpoint> vineyard_split_3_frame_0080.png-vineyard_split_3_frame_0085.png: 77 matches @ 59th pair(superpoint+lightglue)\n"
     ]
    },
    {
     "name": "stderr",
     "output_type": "stream",
     "text": [
      " 70%|██████▉   | 4624/6611 [01:56<00:51, 38.23it/s]"
     ]
    },
    {
     "name": "stdout",
     "output_type": "stream",
     "text": [
      "superpoint> vineyard_split_3_frame_0120.png-vineyard_split_3_frame_0110.png: 60 matches @ 60th pair(superpoint+lightglue)\n"
     ]
    },
    {
     "name": "stderr",
     "output_type": "stream",
     "text": [
      " 71%|███████   | 4698/6611 [01:58<00:48, 39.43it/s]"
     ]
    },
    {
     "name": "stdout",
     "output_type": "stream",
     "text": [
      "superpoint> vineyard_split_3_frame_1510.png-vineyard_split_3_frame_1515.png: 116 matches @ 61th pair(superpoint+lightglue)\n"
     ]
    },
    {
     "name": "stderr",
     "output_type": "stream",
     "text": [
      " 72%|███████▏  | 4731/6611 [01:59<00:54, 34.52it/s]"
     ]
    },
    {
     "name": "stdout",
     "output_type": "stream",
     "text": [
      "superpoint> vineyard_split_3_frame_1510.png-vineyard_split_1_frame_1010.png: 59 matches @ 62th pair(superpoint+lightglue)\n"
     ]
    },
    {
     "name": "stderr",
     "output_type": "stream",
     "text": [
      " 72%|███████▏  | 4743/6611 [01:59<00:51, 36.46it/s]"
     ]
    },
    {
     "name": "stdout",
     "output_type": "stream",
     "text": [
      "superpoint> vineyard_split_3_frame_0105.png-vineyard_split_3_frame_0110.png: 106 matches @ 63th pair(superpoint+lightglue)\n",
      "superpoint> vineyard_split_3_frame_0105.png-vineyard_split_3_frame_0100.png: 66 matches @ 64th pair(superpoint+lightglue)\n"
     ]
    },
    {
     "name": "stderr",
     "output_type": "stream",
     "text": [
      " 72%|███████▏  | 4787/6611 [02:01<00:46, 39.46it/s]"
     ]
    },
    {
     "name": "stdout",
     "output_type": "stream",
     "text": [
      "superpoint> vineyard_split_3_frame_1540.png-vineyard_split_3_frame_1545.png: 54 matches @ 65th pair(superpoint+lightglue)\n"
     ]
    },
    {
     "name": "stderr",
     "output_type": "stream",
     "text": [
      " 73%|███████▎  | 4833/6611 [02:02<00:50, 35.02it/s]"
     ]
    },
    {
     "name": "stdout",
     "output_type": "stream",
     "text": [
      "superpoint> vineyard_split_3_frame_0205.png-vineyard_split_3_frame_0210.png: 93 matches @ 66th pair(superpoint+lightglue)\n"
     ]
    },
    {
     "name": "stderr",
     "output_type": "stream",
     "text": [
      " 73%|███████▎  | 4841/6611 [02:02<00:48, 36.12it/s]"
     ]
    },
    {
     "name": "stdout",
     "output_type": "stream",
     "text": [
      "superpoint> vineyard_split_3_frame_0205.png-vineyard_split_3_frame_0200.png: 71 matches @ 67th pair(superpoint+lightglue)\n"
     ]
    },
    {
     "name": "stderr",
     "output_type": "stream",
     "text": [
      " 74%|███████▍  | 4881/6611 [02:03<00:44, 38.48it/s]"
     ]
    },
    {
     "name": "stdout",
     "output_type": "stream",
     "text": [
      "superpoint> vineyard_split_3_frame_1410.png-vineyard_split_3_frame_1415.png: 71 matches @ 68th pair(superpoint+lightglue)\n"
     ]
    },
    {
     "name": "stderr",
     "output_type": "stream",
     "text": [
      " 74%|███████▍  | 4917/6611 [02:04<00:43, 38.92it/s]"
     ]
    },
    {
     "name": "stdout",
     "output_type": "stream",
     "text": [
      "superpoint> vineyard_split_3_frame_0305.png-vineyard_split_3_frame_0300.png: 185 matches @ 69th pair(superpoint+lightglue)\n"
     ]
    },
    {
     "name": "stderr",
     "output_type": "stream",
     "text": [
      " 75%|███████▌  | 4969/6611 [02:05<00:40, 40.05it/s]"
     ]
    },
    {
     "name": "stdout",
     "output_type": "stream",
     "text": [
      "superpoint> vineyard_split_3_frame_0175.png-vineyard_split_3_frame_0180.png: 74 matches @ 70th pair(superpoint+lightglue)\n"
     ]
    },
    {
     "name": "stderr",
     "output_type": "stream",
     "text": [
      " 76%|███████▌  | 5034/6611 [02:07<00:39, 40.14it/s]"
     ]
    },
    {
     "name": "stdout",
     "output_type": "stream",
     "text": [
      "superpoint> vineyard_split_3_frame_1520.png-vineyard_split_3_frame_1515.png: 71 matches @ 71th pair(superpoint+lightglue)\n"
     ]
    },
    {
     "name": "stderr",
     "output_type": "stream",
     "text": [
      " 77%|███████▋  | 5058/6611 [02:08<00:38, 40.15it/s]"
     ]
    },
    {
     "name": "stdout",
     "output_type": "stream",
     "text": [
      "superpoint> vineyard_split_3_frame_1465.png-vineyard_split_3_frame_1460.png: 87 matches @ 72th pair(superpoint+lightglue)\n"
     ]
    },
    {
     "name": "stderr",
     "output_type": "stream",
     "text": [
      " 77%|███████▋  | 5123/6611 [02:09<00:37, 39.47it/s]"
     ]
    },
    {
     "name": "stdout",
     "output_type": "stream",
     "text": [
      "superpoint> vineyard_split_3_frame_1525.png-vineyard_split_3_frame_1530.png: 66 matches @ 73th pair(superpoint+lightglue)\n"
     ]
    },
    {
     "name": "stderr",
     "output_type": "stream",
     "text": [
      " 78%|███████▊  | 5172/6611 [02:10<00:35, 40.02it/s]"
     ]
    },
    {
     "name": "stdout",
     "output_type": "stream",
     "text": [
      "superpoint> vineyard_split_3_frame_0110.png-vineyard_split_3_frame_0115.png: 117 matches @ 74th pair(superpoint+lightglue)\n"
     ]
    },
    {
     "name": "stderr",
     "output_type": "stream",
     "text": [
      " 79%|███████▊  | 5201/6611 [02:11<00:35, 39.97it/s]"
     ]
    },
    {
     "name": "stdout",
     "output_type": "stream",
     "text": [
      "superpoint> vineyard_split_3_frame_0195.png-vineyard_split_3_frame_0200.png: 65 matches @ 75th pair(superpoint+lightglue)\n"
     ]
    },
    {
     "name": "stderr",
     "output_type": "stream",
     "text": [
      " 79%|███████▉  | 5248/6611 [02:12<00:34, 39.29it/s]"
     ]
    },
    {
     "name": "stdout",
     "output_type": "stream",
     "text": [
      "superpoint> vineyard_split_3_frame_1570.png-vineyard_split_3_frame_1565.png: 72 matches @ 76th pair(superpoint+lightglue)\n"
     ]
    },
    {
     "name": "stderr",
     "output_type": "stream",
     "text": [
      " 80%|███████▉  | 5282/6611 [02:13<00:33, 39.61it/s]"
     ]
    },
    {
     "name": "stdout",
     "output_type": "stream",
     "text": [
      "superpoint> vineyard_split_3_frame_0210.png-vineyard_split_3_frame_0220.png: 51 matches @ 77th pair(superpoint+lightglue)\n"
     ]
    },
    {
     "name": "stderr",
     "output_type": "stream",
     "text": [
      " 81%|████████  | 5334/6611 [02:14<00:32, 39.08it/s]"
     ]
    },
    {
     "name": "stdout",
     "output_type": "stream",
     "text": [
      "superpoint> vineyard_split_3_frame_0100.png-vineyard_split_3_frame_0095.png: 94 matches @ 78th pair(superpoint+lightglue)\n"
     ]
    },
    {
     "name": "stderr",
     "output_type": "stream",
     "text": [
      " 81%|████████  | 5354/6611 [02:15<00:32, 39.02it/s]"
     ]
    },
    {
     "name": "stdout",
     "output_type": "stream",
     "text": [
      "superpoint> vineyard_split_3_frame_1560.png-vineyard_split_3_frame_1565.png: 58 matches @ 79th pair(superpoint+lightglue)\n"
     ]
    },
    {
     "name": "stderr",
     "output_type": "stream",
     "text": [
      " 82%|████████▏ | 5393/6611 [02:16<00:30, 39.72it/s]"
     ]
    },
    {
     "name": "stdout",
     "output_type": "stream",
     "text": [
      "superpoint> vineyard_split_3_frame_0245.png-vineyard_split_3_frame_0240.png: 84 matches @ 80th pair(superpoint+lightglue)\n"
     ]
    },
    {
     "name": "stderr",
     "output_type": "stream",
     "text": [
      " 83%|████████▎ | 5488/6611 [02:18<00:28, 39.82it/s]"
     ]
    },
    {
     "name": "stdout",
     "output_type": "stream",
     "text": [
      "superpoint> vineyard_split_3_frame_1440.png-vineyard_split_3_frame_1435.png: 52 matches @ 81th pair(superpoint+lightglue)\n"
     ]
    },
    {
     "name": "stderr",
     "output_type": "stream",
     "text": [
      " 87%|████████▋ | 5722/6611 [02:24<00:22, 39.93it/s]"
     ]
    },
    {
     "name": "stdout",
     "output_type": "stream",
     "text": [
      "superpoint> vineyard_split_3_frame_1415.png-vineyard_split_3_frame_1420.png: 72 matches @ 82th pair(superpoint+lightglue)\n"
     ]
    },
    {
     "name": "stderr",
     "output_type": "stream",
     "text": [
      " 89%|████████▉ | 5889/6611 [02:28<00:17, 40.90it/s]"
     ]
    },
    {
     "name": "stdout",
     "output_type": "stream",
     "text": [
      "superpoint> vineyard_split_3_frame_0085.png-vineyard_split_3_frame_0095.png: 69 matches @ 83th pair(superpoint+lightglue)\n"
     ]
    },
    {
     "name": "stderr",
     "output_type": "stream",
     "text": [
      " 92%|█████████▏| 6081/6611 [02:33<00:12, 40.85it/s]"
     ]
    },
    {
     "name": "stdout",
     "output_type": "stream",
     "text": [
      "superpoint> vineyard_split_1_frame_0915.png-vineyard_split_1_frame_0910.png: 77 matches @ 84th pair(superpoint+lightglue)\n"
     ]
    },
    {
     "name": "stderr",
     "output_type": "stream",
     "text": [
      " 93%|█████████▎| 6143/6611 [02:35<00:11, 39.46it/s]"
     ]
    },
    {
     "name": "stdout",
     "output_type": "stream",
     "text": [
      "superpoint> vineyard_split_1_frame_1015.png-vineyard_split_1_frame_1020.png: 94 matches @ 85th pair(superpoint+lightglue)\n",
      "superpoint> vineyard_split_1_frame_1015.png-vineyard_split_1_frame_1100.png: 56 matches @ 86th pair(superpoint+lightglue)\n"
     ]
    },
    {
     "name": "stderr",
     "output_type": "stream",
     "text": [
      " 93%|█████████▎| 6167/6611 [02:36<00:11, 38.51it/s]"
     ]
    },
    {
     "name": "stdout",
     "output_type": "stream",
     "text": [
      "superpoint> vineyard_split_1_frame_0990.png-vineyard_split_1_frame_0980.png: 50 matches @ 87th pair(superpoint+lightglue)\n"
     ]
    },
    {
     "name": "stderr",
     "output_type": "stream",
     "text": [
      " 94%|█████████▎| 6185/6611 [02:36<00:10, 40.10it/s]"
     ]
    },
    {
     "name": "stdout",
     "output_type": "stream",
     "text": [
      "superpoint> vineyard_split_1_frame_0990.png-vineyard_split_1_frame_0985.png: 84 matches @ 88th pair(superpoint+lightglue)\n"
     ]
    },
    {
     "name": "stderr",
     "output_type": "stream",
     "text": [
      " 94%|█████████▍| 6215/6611 [02:37<00:09, 40.29it/s]"
     ]
    },
    {
     "name": "stdout",
     "output_type": "stream",
     "text": [
      "superpoint> vineyard_split_1_frame_1055.png-vineyard_split_1_frame_1050.png: 79 matches @ 89th pair(superpoint+lightglue)\n",
      "superpoint> vineyard_split_1_frame_0965.png-vineyard_split_1_frame_0960.png: 51 matches @ 90th pair(superpoint+lightglue)\n"
     ]
    },
    {
     "name": "stderr",
     "output_type": "stream",
     "text": [
      " 94%|█████████▍| 6240/6611 [02:37<00:09, 39.08it/s]"
     ]
    },
    {
     "name": "stdout",
     "output_type": "stream",
     "text": [
      "superpoint> vineyard_split_1_frame_0935.png-vineyard_split_1_frame_0940.png: 64 matches @ 91th pair(superpoint+lightglue)\n"
     ]
    },
    {
     "name": "stderr",
     "output_type": "stream",
     "text": [
      " 95%|█████████▍| 6272/6611 [02:38<00:08, 38.51it/s]"
     ]
    },
    {
     "name": "stdout",
     "output_type": "stream",
     "text": [
      "superpoint> vineyard_split_1_frame_0970.png-vineyard_split_1_frame_0975.png: 97 matches @ 92th pair(superpoint+lightglue)\n",
      "superpoint> vineyard_split_1_frame_0960.png-vineyard_split_1_frame_0955.png: 70 matches @ 93th pair(superpoint+lightglue)\n"
     ]
    },
    {
     "name": "stderr",
     "output_type": "stream",
     "text": [
      " 95%|█████████▌| 6304/6611 [02:39<00:07, 40.00it/s]"
     ]
    },
    {
     "name": "stdout",
     "output_type": "stream",
     "text": [
      "superpoint> vineyard_split_1_frame_1095.png-vineyard_split_1_frame_1100.png: 82 matches @ 94th pair(superpoint+lightglue)\n",
      "superpoint> vineyard_split_1_frame_1095.png-vineyard_split_1_frame_1105.png: 51 matches @ 95th pair(superpoint+lightglue)\n"
     ]
    },
    {
     "name": "stderr",
     "output_type": "stream",
     "text": [
      " 96%|█████████▌| 6328/6611 [02:40<00:07, 39.46it/s]"
     ]
    },
    {
     "name": "stdout",
     "output_type": "stream",
     "text": [
      "superpoint> vineyard_split_1_frame_0945.png-vineyard_split_1_frame_0940.png: 60 matches @ 96th pair(superpoint+lightglue)\n"
     ]
    },
    {
     "name": "stderr",
     "output_type": "stream",
     "text": [
      " 96%|█████████▌| 6348/6611 [02:40<00:07, 37.56it/s]"
     ]
    },
    {
     "name": "stdout",
     "output_type": "stream",
     "text": [
      "superpoint> vineyard_split_1_frame_0905.png-vineyard_split_1_frame_0910.png: 54 matches @ 97th pair(superpoint+lightglue)\n",
      "superpoint> vineyard_split_1_frame_0905.png-vineyard_split_1_frame_0900.png: 54 matches @ 98th pair(superpoint+lightglue)\n"
     ]
    },
    {
     "name": "stderr",
     "output_type": "stream",
     "text": [
      " 97%|█████████▋| 6421/6611 [02:42<00:05, 37.10it/s]"
     ]
    },
    {
     "name": "stdout",
     "output_type": "stream",
     "text": [
      "superpoint> vineyard_split_1_frame_0980.png-vineyard_split_1_frame_0985.png: 87 matches @ 99th pair(superpoint+lightglue)\n",
      "superpoint> vineyard_split_1_frame_0980.png-vineyard_split_1_frame_0975.png: 131 matches @ 100th pair(superpoint+lightglue)\n",
      "superpoint> vineyard_split_1_frame_1045.png-vineyard_split_1_frame_1040.png: 71 matches @ 101th pair(superpoint+lightglue)\n"
     ]
    },
    {
     "name": "stderr",
     "output_type": "stream",
     "text": [
      " 98%|█████████▊| 6466/6611 [02:43<00:03, 38.75it/s]"
     ]
    },
    {
     "name": "stdout",
     "output_type": "stream",
     "text": [
      "superpoint> vineyard_split_1_frame_1040.png-vineyard_split_1_frame_1035.png: 91 matches @ 102th pair(superpoint+lightglue)\n"
     ]
    },
    {
     "name": "stderr",
     "output_type": "stream",
     "text": [
      " 98%|█████████▊| 6482/6611 [02:44<00:03, 38.89it/s]"
     ]
    },
    {
     "name": "stdout",
     "output_type": "stream",
     "text": [
      "superpoint> vineyard_split_1_frame_1110.png-vineyard_split_1_frame_1100.png: 50 matches @ 103th pair(superpoint+lightglue)\n",
      "superpoint> vineyard_split_1_frame_1110.png-vineyard_split_1_frame_1105.png: 52 matches @ 104th pair(superpoint+lightglue)\n"
     ]
    },
    {
     "name": "stderr",
     "output_type": "stream",
     "text": [
      " 99%|█████████▉| 6531/6611 [02:45<00:02, 38.78it/s]"
     ]
    },
    {
     "name": "stdout",
     "output_type": "stream",
     "text": [
      "superpoint> vineyard_split_1_frame_1035.png-vineyard_split_1_frame_1030.png: 66 matches @ 105th pair(superpoint+lightglue)\n"
     ]
    },
    {
     "name": "stderr",
     "output_type": "stream",
     "text": [
      " 99%|█████████▉| 6543/6611 [02:45<00:01, 38.43it/s]"
     ]
    },
    {
     "name": "stdout",
     "output_type": "stream",
     "text": [
      "superpoint> vineyard_split_1_frame_1100.png-vineyard_split_1_frame_1105.png: 118 matches @ 106th pair(superpoint+lightglue)\n"
     ]
    },
    {
     "name": "stderr",
     "output_type": "stream",
     "text": [
      "100%|█████████▉| 6591/6611 [02:46<00:00, 38.16it/s]"
     ]
    },
    {
     "name": "stdout",
     "output_type": "stream",
     "text": [
      "superpoint> vineyard_split_1_frame_0925.png-vineyard_split_1_frame_0930.png: 96 matches @ 107th pair(superpoint+lightglue)\n",
      "superpoint> vineyard_split_1_frame_0925.png-vineyard_split_1_frame_0920.png: 54 matches @ 108th pair(superpoint+lightglue)\n"
     ]
    },
    {
     "name": "stderr",
     "output_type": "stream",
     "text": [
      "100%|█████████▉| 6603/6611 [02:47<00:00, 39.04it/s]"
     ]
    },
    {
     "name": "stdout",
     "output_type": "stream",
     "text": [
      "superpoint> vineyard_split_1_frame_0985.png-vineyard_split_1_frame_0975.png: 69 matches @ 109th pair(superpoint+lightglue)\n",
      "superpoint> vineyard_split_1_frame_1030.png-vineyard_split_1_frame_1025.png: 79 matches @ 110th pair(superpoint+lightglue)\n"
     ]
    },
    {
     "name": "stderr",
     "output_type": "stream",
     "text": [
      "100%|██████████| 6611/6611 [02:47<00:00, 39.49it/s]\n"
     ]
    },
    {
     "name": "stdout",
     "output_type": "stream",
     "text": [
      "Features matched in  174.5364 sec (superpoint+LightGlue)\n",
      "disk > rot_k=0, kpts.shape=torch.Size([8192, 2]), descs.shape=torch.Size([8192, 128])\n",
      "disk > rot_k=0, kpts.shape=torch.Size([8192, 2]), descs.shape=torch.Size([8192, 128])\n",
      "disk > rot_k=0, kpts.shape=torch.Size([8192, 2]), descs.shape=torch.Size([8192, 128])\n",
      "disk > rot_k=0, kpts.shape=torch.Size([8192, 2]), descs.shape=torch.Size([8192, 128])\n",
      "disk > rot_k=0, kpts.shape=torch.Size([8192, 2]), descs.shape=torch.Size([8192, 128])\n",
      "disk > rot_k=0, kpts.shape=torch.Size([8192, 2]), descs.shape=torch.Size([8192, 128])\n",
      "disk > rot_k=0, kpts.shape=torch.Size([8192, 2]), descs.shape=torch.Size([8192, 128])\n",
      "disk > rot_k=0, kpts.shape=torch.Size([8192, 2]), descs.shape=torch.Size([8192, 128])\n",
      "disk > rot_k=0, kpts.shape=torch.Size([8192, 2]), descs.shape=torch.Size([8192, 128])\n",
      "disk > rot_k=0, kpts.shape=torch.Size([8192, 2]), descs.shape=torch.Size([8192, 128])\n",
      "disk > rot_k=0, kpts.shape=torch.Size([8192, 2]), descs.shape=torch.Size([8192, 128])\n",
      "disk > rot_k=0, kpts.shape=torch.Size([8192, 2]), descs.shape=torch.Size([8192, 128])\n",
      "disk > rot_k=0, kpts.shape=torch.Size([8192, 2]), descs.shape=torch.Size([8192, 128])\n",
      "disk > rot_k=0, kpts.shape=torch.Size([8192, 2]), descs.shape=torch.Size([8192, 128])\n",
      "disk > rot_k=0, kpts.shape=torch.Size([8192, 2]), descs.shape=torch.Size([8192, 128])\n",
      "disk > rot_k=0, kpts.shape=torch.Size([8192, 2]), descs.shape=torch.Size([8192, 128])\n",
      "disk > rot_k=0, kpts.shape=torch.Size([8192, 2]), descs.shape=torch.Size([8192, 128])\n",
      "disk > rot_k=0, kpts.shape=torch.Size([8192, 2]), descs.shape=torch.Size([8192, 128])\n",
      "disk > rot_k=0, kpts.shape=torch.Size([8192, 2]), descs.shape=torch.Size([8192, 128])\n",
      "disk > rot_k=0, kpts.shape=torch.Size([8192, 2]), descs.shape=torch.Size([8192, 128])\n",
      "disk > rot_k=0, kpts.shape=torch.Size([8192, 2]), descs.shape=torch.Size([8192, 128])\n",
      "disk > rot_k=0, kpts.shape=torch.Size([8192, 2]), descs.shape=torch.Size([8192, 128])\n",
      "disk > rot_k=0, kpts.shape=torch.Size([8192, 2]), descs.shape=torch.Size([8192, 128])\n",
      "disk > rot_k=0, kpts.shape=torch.Size([8192, 2]), descs.shape=torch.Size([8192, 128])\n",
      "disk > rot_k=0, kpts.shape=torch.Size([8192, 2]), descs.shape=torch.Size([8192, 128])\n",
      "disk > rot_k=0, kpts.shape=torch.Size([8192, 2]), descs.shape=torch.Size([8192, 128])\n",
      "disk > rot_k=0, kpts.shape=torch.Size([8192, 2]), descs.shape=torch.Size([8192, 128])\n",
      "disk > rot_k=0, kpts.shape=torch.Size([8192, 2]), descs.shape=torch.Size([8192, 128])\n",
      "disk > rot_k=0, kpts.shape=torch.Size([8192, 2]), descs.shape=torch.Size([8192, 128])\n",
      "disk > rot_k=0, kpts.shape=torch.Size([8192, 2]), descs.shape=torch.Size([8192, 128])\n",
      "disk > rot_k=0, kpts.shape=torch.Size([8192, 2]), descs.shape=torch.Size([8192, 128])\n",
      "disk > rot_k=0, kpts.shape=torch.Size([8192, 2]), descs.shape=torch.Size([8192, 128])\n",
      "disk > rot_k=0, kpts.shape=torch.Size([8192, 2]), descs.shape=torch.Size([8192, 128])\n",
      "disk > rot_k=0, kpts.shape=torch.Size([8192, 2]), descs.shape=torch.Size([8192, 128])\n",
      "disk > rot_k=0, kpts.shape=torch.Size([8192, 2]), descs.shape=torch.Size([8192, 128])\n",
      "disk > rot_k=0, kpts.shape=torch.Size([8192, 2]), descs.shape=torch.Size([8192, 128])\n",
      "disk > rot_k=0, kpts.shape=torch.Size([8192, 2]), descs.shape=torch.Size([8192, 128])\n",
      "disk > rot_k=0, kpts.shape=torch.Size([8192, 2]), descs.shape=torch.Size([8192, 128])\n",
      "disk > rot_k=0, kpts.shape=torch.Size([8192, 2]), descs.shape=torch.Size([8192, 128])\n",
      "disk > rot_k=0, kpts.shape=torch.Size([8192, 2]), descs.shape=torch.Size([8192, 128])\n",
      "disk > rot_k=0, kpts.shape=torch.Size([8192, 2]), descs.shape=torch.Size([8192, 128])\n",
      "disk > rot_k=0, kpts.shape=torch.Size([8128, 2]), descs.shape=torch.Size([8128, 128])\n",
      "disk > rot_k=0, kpts.shape=torch.Size([7383, 2]), descs.shape=torch.Size([7383, 128])\n",
      "disk > rot_k=0, kpts.shape=torch.Size([8192, 2]), descs.shape=torch.Size([8192, 128])\n",
      "disk > rot_k=0, kpts.shape=torch.Size([8192, 2]), descs.shape=torch.Size([8192, 128])\n",
      "disk > rot_k=0, kpts.shape=torch.Size([8058, 2]), descs.shape=torch.Size([8058, 128])\n",
      "disk > rot_k=0, kpts.shape=torch.Size([8192, 2]), descs.shape=torch.Size([8192, 128])\n",
      "disk > rot_k=0, kpts.shape=torch.Size([7421, 2]), descs.shape=torch.Size([7421, 128])\n",
      "disk > rot_k=0, kpts.shape=torch.Size([8192, 2]), descs.shape=torch.Size([8192, 128])\n",
      "disk > rot_k=0, kpts.shape=torch.Size([8192, 2]), descs.shape=torch.Size([8192, 128])\n",
      "disk > rot_k=0, kpts.shape=torch.Size([8192, 2]), descs.shape=torch.Size([8192, 128])\n",
      "disk > rot_k=0, kpts.shape=torch.Size([8192, 2]), descs.shape=torch.Size([8192, 128])\n",
      "disk > rot_k=0, kpts.shape=torch.Size([8192, 2]), descs.shape=torch.Size([8192, 128])\n",
      "disk > rot_k=0, kpts.shape=torch.Size([8192, 2]), descs.shape=torch.Size([8192, 128])\n",
      "disk > rot_k=0, kpts.shape=torch.Size([8192, 2]), descs.shape=torch.Size([8192, 128])\n",
      "disk > rot_k=0, kpts.shape=torch.Size([8192, 2]), descs.shape=torch.Size([8192, 128])\n",
      "disk > rot_k=0, kpts.shape=torch.Size([8192, 2]), descs.shape=torch.Size([8192, 128])\n",
      "disk > rot_k=0, kpts.shape=torch.Size([8192, 2]), descs.shape=torch.Size([8192, 128])\n",
      "disk > rot_k=0, kpts.shape=torch.Size([8192, 2]), descs.shape=torch.Size([8192, 128])\n",
      "disk > rot_k=0, kpts.shape=torch.Size([8192, 2]), descs.shape=torch.Size([8192, 128])\n",
      "disk > rot_k=0, kpts.shape=torch.Size([8192, 2]), descs.shape=torch.Size([8192, 128])\n",
      "disk > rot_k=0, kpts.shape=torch.Size([8192, 2]), descs.shape=torch.Size([8192, 128])\n",
      "disk > rot_k=0, kpts.shape=torch.Size([8192, 2]), descs.shape=torch.Size([8192, 128])\n",
      "disk > rot_k=0, kpts.shape=torch.Size([8192, 2]), descs.shape=torch.Size([8192, 128])\n",
      "disk > rot_k=0, kpts.shape=torch.Size([8192, 2]), descs.shape=torch.Size([8192, 128])\n",
      "disk > rot_k=0, kpts.shape=torch.Size([8192, 2]), descs.shape=torch.Size([8192, 128])\n",
      "disk > rot_k=0, kpts.shape=torch.Size([8192, 2]), descs.shape=torch.Size([8192, 128])\n",
      "disk > rot_k=0, kpts.shape=torch.Size([8192, 2]), descs.shape=torch.Size([8192, 128])\n",
      "disk > rot_k=0, kpts.shape=torch.Size([8192, 2]), descs.shape=torch.Size([8192, 128])\n",
      "disk > rot_k=0, kpts.shape=torch.Size([8192, 2]), descs.shape=torch.Size([8192, 128])\n",
      "disk > rot_k=0, kpts.shape=torch.Size([8192, 2]), descs.shape=torch.Size([8192, 128])\n",
      "disk > rot_k=0, kpts.shape=torch.Size([8192, 2]), descs.shape=torch.Size([8192, 128])\n",
      "disk > rot_k=0, kpts.shape=torch.Size([8192, 2]), descs.shape=torch.Size([8192, 128])\n",
      "disk > rot_k=0, kpts.shape=torch.Size([8192, 2]), descs.shape=torch.Size([8192, 128])\n",
      "disk > rot_k=0, kpts.shape=torch.Size([8192, 2]), descs.shape=torch.Size([8192, 128])\n",
      "disk > rot_k=0, kpts.shape=torch.Size([8192, 2]), descs.shape=torch.Size([8192, 128])\n",
      "disk > rot_k=0, kpts.shape=torch.Size([8192, 2]), descs.shape=torch.Size([8192, 128])\n",
      "disk > rot_k=0, kpts.shape=torch.Size([7934, 2]), descs.shape=torch.Size([7934, 128])\n",
      "disk > rot_k=0, kpts.shape=torch.Size([8192, 2]), descs.shape=torch.Size([8192, 128])\n",
      "disk > rot_k=0, kpts.shape=torch.Size([8192, 2]), descs.shape=torch.Size([8192, 128])\n",
      "disk > rot_k=0, kpts.shape=torch.Size([8192, 2]), descs.shape=torch.Size([8192, 128])\n",
      "disk > rot_k=0, kpts.shape=torch.Size([8192, 2]), descs.shape=torch.Size([8192, 128])\n",
      "disk > rot_k=0, kpts.shape=torch.Size([8192, 2]), descs.shape=torch.Size([8192, 128])\n",
      "disk > rot_k=0, kpts.shape=torch.Size([8192, 2]), descs.shape=torch.Size([8192, 128])\n",
      "disk > rot_k=0, kpts.shape=torch.Size([8192, 2]), descs.shape=torch.Size([8192, 128])\n",
      "disk > rot_k=0, kpts.shape=torch.Size([8192, 2]), descs.shape=torch.Size([8192, 128])\n",
      "disk > rot_k=0, kpts.shape=torch.Size([8192, 2]), descs.shape=torch.Size([8192, 128])\n",
      "disk > rot_k=0, kpts.shape=torch.Size([8192, 2]), descs.shape=torch.Size([8192, 128])\n",
      "disk > rot_k=0, kpts.shape=torch.Size([8192, 2]), descs.shape=torch.Size([8192, 128])\n",
      "disk > rot_k=0, kpts.shape=torch.Size([8192, 2]), descs.shape=torch.Size([8192, 128])\n",
      "disk > rot_k=0, kpts.shape=torch.Size([8134, 2]), descs.shape=torch.Size([8134, 128])\n",
      "disk > rot_k=0, kpts.shape=torch.Size([8192, 2]), descs.shape=torch.Size([8192, 128])\n",
      "disk > rot_k=0, kpts.shape=torch.Size([8192, 2]), descs.shape=torch.Size([8192, 128])\n",
      "disk > rot_k=0, kpts.shape=torch.Size([8192, 2]), descs.shape=torch.Size([8192, 128])\n",
      "disk > rot_k=0, kpts.shape=torch.Size([8192, 2]), descs.shape=torch.Size([8192, 128])\n",
      "disk > rot_k=0, kpts.shape=torch.Size([8103, 2]), descs.shape=torch.Size([8103, 128])\n",
      "disk > rot_k=0, kpts.shape=torch.Size([8192, 2]), descs.shape=torch.Size([8192, 128])\n",
      "disk > rot_k=0, kpts.shape=torch.Size([8192, 2]), descs.shape=torch.Size([8192, 128])\n",
      "disk > rot_k=0, kpts.shape=torch.Size([8192, 2]), descs.shape=torch.Size([8192, 128])\n",
      "disk > rot_k=0, kpts.shape=torch.Size([8192, 2]), descs.shape=torch.Size([8192, 128])\n",
      "disk > rot_k=0, kpts.shape=torch.Size([8192, 2]), descs.shape=torch.Size([8192, 128])\n",
      "disk > rot_k=0, kpts.shape=torch.Size([8192, 2]), descs.shape=torch.Size([8192, 128])\n",
      "disk > rot_k=0, kpts.shape=torch.Size([8192, 2]), descs.shape=torch.Size([8192, 128])\n",
      "disk > rot_k=0, kpts.shape=torch.Size([8192, 2]), descs.shape=torch.Size([8192, 128])\n",
      "disk > rot_k=0, kpts.shape=torch.Size([8192, 2]), descs.shape=torch.Size([8192, 128])\n",
      "disk > rot_k=0, kpts.shape=torch.Size([8192, 2]), descs.shape=torch.Size([8192, 128])\n",
      "disk > rot_k=0, kpts.shape=torch.Size([8192, 2]), descs.shape=torch.Size([8192, 128])\n",
      "disk > rot_k=0, kpts.shape=torch.Size([8192, 2]), descs.shape=torch.Size([8192, 128])\n",
      "disk > rot_k=0, kpts.shape=torch.Size([8192, 2]), descs.shape=torch.Size([8192, 128])\n",
      "disk > rot_k=0, kpts.shape=torch.Size([8192, 2]), descs.shape=torch.Size([8192, 128])\n",
      "disk > rot_k=0, kpts.shape=torch.Size([8192, 2]), descs.shape=torch.Size([8192, 128])\n",
      "disk > rot_k=0, kpts.shape=torch.Size([8192, 2]), descs.shape=torch.Size([8192, 128])\n",
      "disk > rot_k=0, kpts.shape=torch.Size([8192, 2]), descs.shape=torch.Size([8192, 128])\n",
      "disk > rot_k=0, kpts.shape=torch.Size([8183, 2]), descs.shape=torch.Size([8183, 128])\n",
      "disk > rot_k=0, kpts.shape=torch.Size([8024, 2]), descs.shape=torch.Size([8024, 128])\n",
      "disk > rot_k=0, kpts.shape=torch.Size([8192, 2]), descs.shape=torch.Size([8192, 128])\n",
      "disk > rot_k=0, kpts.shape=torch.Size([8192, 2]), descs.shape=torch.Size([8192, 128])\n",
      "disk > rot_k=0, kpts.shape=torch.Size([8192, 2]), descs.shape=torch.Size([8192, 128])\n",
      "disk > rot_k=0, kpts.shape=torch.Size([8192, 2]), descs.shape=torch.Size([8192, 128])\n",
      "disk > rot_k=0, kpts.shape=torch.Size([8192, 2]), descs.shape=torch.Size([8192, 128])\n",
      "disk > rot_k=0, kpts.shape=torch.Size([8192, 2]), descs.shape=torch.Size([8192, 128])\n",
      "disk > rot_k=0, kpts.shape=torch.Size([8192, 2]), descs.shape=torch.Size([8192, 128])\n",
      "disk > rot_k=0, kpts.shape=torch.Size([8192, 2]), descs.shape=torch.Size([8192, 128])\n",
      "disk > rot_k=0, kpts.shape=torch.Size([8192, 2]), descs.shape=torch.Size([8192, 128])\n",
      "disk > rot_k=0, kpts.shape=torch.Size([8192, 2]), descs.shape=torch.Size([8192, 128])\n",
      "disk > rot_k=0, kpts.shape=torch.Size([8192, 2]), descs.shape=torch.Size([8192, 128])\n",
      "disk > rot_k=0, kpts.shape=torch.Size([8192, 2]), descs.shape=torch.Size([8192, 128])\n",
      "disk > rot_k=0, kpts.shape=torch.Size([8192, 2]), descs.shape=torch.Size([8192, 128])\n",
      "disk > rot_k=0, kpts.shape=torch.Size([8192, 2]), descs.shape=torch.Size([8192, 128])\n",
      "disk > rot_k=0, kpts.shape=torch.Size([8192, 2]), descs.shape=torch.Size([8192, 128])\n",
      "disk > rot_k=0, kpts.shape=torch.Size([8192, 2]), descs.shape=torch.Size([8192, 128])\n",
      "disk > rot_k=0, kpts.shape=torch.Size([8192, 2]), descs.shape=torch.Size([8192, 128])\n",
      "disk > rot_k=0, kpts.shape=torch.Size([8192, 2]), descs.shape=torch.Size([8192, 128])\n",
      "disk > rot_k=0, kpts.shape=torch.Size([8192, 2]), descs.shape=torch.Size([8192, 128])\n",
      "disk > rot_k=0, kpts.shape=torch.Size([8192, 2]), descs.shape=torch.Size([8192, 128])\n",
      "disk > rot_k=0, kpts.shape=torch.Size([8192, 2]), descs.shape=torch.Size([8192, 128])\n",
      "disk > rot_k=0, kpts.shape=torch.Size([8192, 2]), descs.shape=torch.Size([8192, 128])\n",
      "disk > rot_k=0, kpts.shape=torch.Size([8192, 2]), descs.shape=torch.Size([8192, 128])\n",
      "disk > rot_k=0, kpts.shape=torch.Size([8192, 2]), descs.shape=torch.Size([8192, 128])\n",
      "disk > rot_k=0, kpts.shape=torch.Size([8192, 2]), descs.shape=torch.Size([8192, 128])\n",
      "disk > rot_k=0, kpts.shape=torch.Size([8192, 2]), descs.shape=torch.Size([8192, 128])\n",
      "disk > rot_k=0, kpts.shape=torch.Size([8192, 2]), descs.shape=torch.Size([8192, 128])\n",
      "disk > rot_k=0, kpts.shape=torch.Size([8192, 2]), descs.shape=torch.Size([8192, 128])\n",
      "disk > rot_k=0, kpts.shape=torch.Size([8192, 2]), descs.shape=torch.Size([8192, 128])\n",
      "disk > rot_k=0, kpts.shape=torch.Size([8192, 2]), descs.shape=torch.Size([8192, 128])\n",
      "disk > rot_k=0, kpts.shape=torch.Size([8192, 2]), descs.shape=torch.Size([8192, 128])\n",
      "disk > rot_k=0, kpts.shape=torch.Size([8192, 2]), descs.shape=torch.Size([8192, 128])\n",
      "disk > rot_k=0, kpts.shape=torch.Size([8192, 2]), descs.shape=torch.Size([8192, 128])\n",
      "disk > rot_k=0, kpts.shape=torch.Size([8192, 2]), descs.shape=torch.Size([8192, 128])\n",
      "disk > rot_k=0, kpts.shape=torch.Size([8192, 2]), descs.shape=torch.Size([8192, 128])\n",
      "disk > rot_k=0, kpts.shape=torch.Size([8192, 2]), descs.shape=torch.Size([8192, 128])\n",
      "disk > rot_k=0, kpts.shape=torch.Size([8192, 2]), descs.shape=torch.Size([8192, 128])\n",
      "disk > rot_k=0, kpts.shape=torch.Size([8157, 2]), descs.shape=torch.Size([8157, 128])\n",
      "disk > rot_k=0, kpts.shape=torch.Size([8192, 2]), descs.shape=torch.Size([8192, 128])\n",
      "disk > rot_k=0, kpts.shape=torch.Size([8192, 2]), descs.shape=torch.Size([8192, 128])\n",
      "disk > rot_k=0, kpts.shape=torch.Size([8192, 2]), descs.shape=torch.Size([8192, 128])\n",
      "disk > rot_k=0, kpts.shape=torch.Size([8192, 2]), descs.shape=torch.Size([8192, 128])\n",
      "disk > rot_k=0, kpts.shape=torch.Size([8192, 2]), descs.shape=torch.Size([8192, 128])\n",
      "disk > rot_k=0, kpts.shape=torch.Size([8192, 2]), descs.shape=torch.Size([8192, 128])\n",
      "disk > rot_k=0, kpts.shape=torch.Size([8192, 2]), descs.shape=torch.Size([8192, 128])\n",
      "disk > rot_k=0, kpts.shape=torch.Size([8192, 2]), descs.shape=torch.Size([8192, 128])\n",
      "disk > rot_k=0, kpts.shape=torch.Size([8192, 2]), descs.shape=torch.Size([8192, 128])\n",
      "disk > rot_k=0, kpts.shape=torch.Size([8192, 2]), descs.shape=torch.Size([8192, 128])\n",
      "Loaded LightGlue model\n"
     ]
    },
    {
     "name": "stderr",
     "output_type": "stream",
     "text": [
      "  0%|          | 10/6611 [00:03<33:19,  3.30it/s]"
     ]
    },
    {
     "name": "stdout",
     "output_type": "stream",
     "text": [
      "disk> vineyard_split_2_frame_1260.png-vineyard_split_2_frame_1255.png: 3550 matches @ 1th pair(disk+lightglue)\n"
     ]
    },
    {
     "name": "stderr",
     "output_type": "stream",
     "text": [
      "  0%|          | 23/6611 [00:06<33:08,  3.31it/s]"
     ]
    },
    {
     "name": "stdout",
     "output_type": "stream",
     "text": [
      "disk> vineyard_split_2_frame_1260.png-vineyard_split_2_frame_1265.png: 3276 matches @ 2th pair(disk+lightglue)\n"
     ]
    },
    {
     "name": "stderr",
     "output_type": "stream",
     "text": [
      "  2%|▏         | 113/6611 [00:33<31:55,  3.39it/s]"
     ]
    },
    {
     "name": "stdout",
     "output_type": "stream",
     "text": [
      "disk> vineyard_split_2_frame_1225.png-vineyard_split_2_frame_1220.png: 4098 matches @ 3th pair(disk+lightglue)\n"
     ]
    },
    {
     "name": "stderr",
     "output_type": "stream",
     "text": [
      "  2%|▏         | 129/6611 [00:38<31:52,  3.39it/s]"
     ]
    },
    {
     "name": "stdout",
     "output_type": "stream",
     "text": [
      "disk> vineyard_split_2_frame_1225.png-vineyard_split_2_frame_1230.png: 2402 matches @ 4th pair(disk+lightglue)\n"
     ]
    },
    {
     "name": "stderr",
     "output_type": "stream",
     "text": [
      "  3%|▎         | 189/6611 [00:56<31:41,  3.38it/s]"
     ]
    },
    {
     "name": "stdout",
     "output_type": "stream",
     "text": [
      "disk> vineyard_split_2_frame_1245.png-vineyard_split_2_frame_1240.png: 2899 matches @ 5th pair(disk+lightglue)\n"
     ]
    },
    {
     "name": "stderr",
     "output_type": "stream",
     "text": [
      "  3%|▎         | 202/6611 [00:59<31:41,  3.37it/s]"
     ]
    },
    {
     "name": "stdout",
     "output_type": "stream",
     "text": [
      "disk> vineyard_split_2_frame_1245.png-vineyard_split_2_frame_1250.png: 2951 matches @ 6th pair(disk+lightglue)\n"
     ]
    },
    {
     "name": "stderr",
     "output_type": "stream",
     "text": [
      "  4%|▍         | 266/6611 [01:18<31:37,  3.34it/s]"
     ]
    },
    {
     "name": "stdout",
     "output_type": "stream",
     "text": [
      "disk> vineyard_split_2_frame_1320.png-vineyard_split_2_frame_1315.png: 2980 matches @ 7th pair(disk+lightglue)\n"
     ]
    },
    {
     "name": "stderr",
     "output_type": "stream",
     "text": [
      "  5%|▍         | 301/6611 [01:29<31:26,  3.35it/s]"
     ]
    },
    {
     "name": "stdout",
     "output_type": "stream",
     "text": [
      "disk> vineyard_split_2_frame_1205.png-vineyard_split_2_frame_1200.png: 2377 matches @ 8th pair(disk+lightglue)\n"
     ]
    },
    {
     "name": "stderr",
     "output_type": "stream",
     "text": [
      "  5%|▍         | 312/6611 [01:32<31:19,  3.35it/s]"
     ]
    },
    {
     "name": "stdout",
     "output_type": "stream",
     "text": [
      "disk> vineyard_split_2_frame_1205.png-vineyard_split_2_frame_1210.png: 3939 matches @ 9th pair(disk+lightglue)\n"
     ]
    },
    {
     "name": "stderr",
     "output_type": "stream",
     "text": [
      "  5%|▍         | 321/6611 [01:35<31:11,  3.36it/s]"
     ]
    },
    {
     "name": "stdout",
     "output_type": "stream",
     "text": [
      "disk> vineyard_split_2_frame_1205.png-vineyard_split_2_frame_1215.png: 463 matches @ 10th pair(disk+lightglue)\n"
     ]
    },
    {
     "name": "stderr",
     "output_type": "stream",
     "text": [
      "  7%|▋         | 437/6611 [02:09<30:28,  3.38it/s]"
     ]
    },
    {
     "name": "stdout",
     "output_type": "stream",
     "text": [
      "disk> vineyard_split_2_frame_1240.png-vineyard_split_2_frame_1235.png: 3560 matches @ 11th pair(disk+lightglue)\n"
     ]
    },
    {
     "name": "stderr",
     "output_type": "stream",
     "text": [
      "  7%|▋         | 438/6611 [02:10<30:26,  3.38it/s]"
     ]
    },
    {
     "name": "stdout",
     "output_type": "stream",
     "text": [
      "disk> vineyard_split_2_frame_1240.png-vineyard_split_2_frame_1230.png: 758 matches @ 12th pair(disk+lightglue)\n"
     ]
    },
    {
     "name": "stderr",
     "output_type": "stream",
     "text": [
      "  8%|▊         | 549/6611 [02:42<29:56,  3.38it/s]"
     ]
    },
    {
     "name": "stdout",
     "output_type": "stream",
     "text": [
      "disk> vineyard_split_2_frame_1170.png-vineyard_split_2_frame_1180.png: 1071 matches @ 13th pair(disk+lightglue)\n"
     ]
    },
    {
     "name": "stderr",
     "output_type": "stream",
     "text": [
      "  8%|▊         | 552/6611 [02:43<29:56,  3.37it/s]"
     ]
    },
    {
     "name": "stdout",
     "output_type": "stream",
     "text": [
      "disk> vineyard_split_2_frame_1170.png-vineyard_split_2_frame_1165.png: 3369 matches @ 14th pair(disk+lightglue)\n"
     ]
    },
    {
     "name": "stderr",
     "output_type": "stream",
     "text": [
      "  9%|▊         | 565/6611 [02:47<29:57,  3.36it/s]"
     ]
    },
    {
     "name": "stdout",
     "output_type": "stream",
     "text": [
      "disk> vineyard_split_2_frame_1170.png-vineyard_split_2_frame_1175.png: 4428 matches @ 15th pair(disk+lightglue)\n"
     ]
    },
    {
     "name": "stderr",
     "output_type": "stream",
     "text": [
      " 10%|▉         | 656/6611 [03:14<29:33,  3.36it/s]"
     ]
    },
    {
     "name": "stdout",
     "output_type": "stream",
     "text": [
      "disk> vineyard_split_2_frame_1300.png-vineyard_split_2_frame_1290.png: 400 matches @ 16th pair(disk+lightglue)\n"
     ]
    },
    {
     "name": "stderr",
     "output_type": "stream",
     "text": [
      " 10%|█         | 663/6611 [03:16<29:31,  3.36it/s]"
     ]
    },
    {
     "name": "stdout",
     "output_type": "stream",
     "text": [
      "disk> vineyard_split_2_frame_1300.png-vineyard_split_2_frame_1305.png: 3644 matches @ 17th pair(disk+lightglue)\n"
     ]
    },
    {
     "name": "stderr",
     "output_type": "stream",
     "text": [
      " 12%|█▏        | 762/6611 [03:46<28:59,  3.36it/s]"
     ]
    },
    {
     "name": "stdout",
     "output_type": "stream",
     "text": [
      "disk> vineyard_split_2_frame_1290.png-vineyard_split_2_frame_1295.png: 3760 matches @ 18th pair(disk+lightglue)\n"
     ]
    },
    {
     "name": "stderr",
     "output_type": "stream",
     "text": [
      " 12%|█▏        | 772/6611 [03:49<28:56,  3.36it/s]"
     ]
    },
    {
     "name": "stdout",
     "output_type": "stream",
     "text": [
      "disk> vineyard_split_2_frame_1290.png-vineyard_split_2_frame_1285.png: 2314 matches @ 19th pair(disk+lightglue)\n"
     ]
    },
    {
     "name": "stderr",
     "output_type": "stream",
     "text": [
      " 13%|█▎        | 829/6611 [04:05<28:31,  3.38it/s]"
     ]
    },
    {
     "name": "stdout",
     "output_type": "stream",
     "text": [
      "disk> vineyard_split_2_frame_1310.png-vineyard_split_2_frame_1305.png: 3860 matches @ 20th pair(disk+lightglue)\n"
     ]
    },
    {
     "name": "stderr",
     "output_type": "stream",
     "text": [
      " 14%|█▍        | 929/6611 [04:35<28:04,  3.37it/s]"
     ]
    },
    {
     "name": "stdout",
     "output_type": "stream",
     "text": [
      "disk> vineyard_split_2_frame_1200.png-vineyard_split_2_frame_1195.png: 3565 matches @ 21th pair(disk+lightglue)\n"
     ]
    },
    {
     "name": "stderr",
     "output_type": "stream",
     "text": [
      " 16%|█▌        | 1056/6611 [05:13<27:24,  3.38it/s]"
     ]
    },
    {
     "name": "stdout",
     "output_type": "stream",
     "text": [
      "disk> vineyard_split_2_frame_1180.png-vineyard_split_2_frame_1185.png: 1445 matches @ 22th pair(disk+lightglue)\n"
     ]
    },
    {
     "name": "stderr",
     "output_type": "stream",
     "text": [
      " 16%|█▌        | 1060/6611 [05:14<27:23,  3.38it/s]"
     ]
    },
    {
     "name": "stdout",
     "output_type": "stream",
     "text": [
      "disk> vineyard_split_2_frame_1180.png-vineyard_split_2_frame_1175.png: 3399 matches @ 23th pair(disk+lightglue)\n"
     ]
    },
    {
     "name": "stderr",
     "output_type": "stream",
     "text": [
      " 17%|█▋        | 1150/6611 [05:41<27:02,  3.37it/s]"
     ]
    },
    {
     "name": "stdout",
     "output_type": "stream",
     "text": [
      "disk> vineyard_split_2_frame_1255.png-vineyard_split_2_frame_1250.png: 2832 matches @ 24th pair(disk+lightglue)\n"
     ]
    },
    {
     "name": "stderr",
     "output_type": "stream",
     "text": [
      " 19%|█▉        | 1242/6611 [06:08<26:35,  3.37it/s]"
     ]
    },
    {
     "name": "stdout",
     "output_type": "stream",
     "text": [
      "disk> vineyard_split_2_frame_1220.png-vineyard_split_2_frame_1165.png: 130 matches @ 25th pair(disk+lightglue)\n"
     ]
    },
    {
     "name": "stderr",
     "output_type": "stream",
     "text": [
      " 19%|█▉        | 1257/6611 [06:12<26:32,  3.36it/s]"
     ]
    },
    {
     "name": "stdout",
     "output_type": "stream",
     "text": [
      "disk> vineyard_split_2_frame_1220.png-vineyard_split_2_frame_1230.png: 109 matches @ 26th pair(disk+lightglue)\n"
     ]
    },
    {
     "name": "stderr",
     "output_type": "stream",
     "text": [
      " 19%|█▉        | 1258/6611 [06:13<26:28,  3.37it/s]"
     ]
    },
    {
     "name": "stdout",
     "output_type": "stream",
     "text": [
      "disk> vineyard_split_2_frame_1220.png-vineyard_split_2_frame_1215.png: 2115 matches @ 27th pair(disk+lightglue)\n"
     ]
    },
    {
     "name": "stderr",
     "output_type": "stream",
     "text": [
      " 20%|██        | 1341/6611 [06:37<26:11,  3.35it/s]"
     ]
    },
    {
     "name": "stdout",
     "output_type": "stream",
     "text": [
      "disk> vineyard_split_2_frame_1165.png-vineyard_split_2_frame_1160.png: 3503 matches @ 28th pair(disk+lightglue)\n"
     ]
    },
    {
     "name": "stderr",
     "output_type": "stream",
     "text": [
      " 20%|██        | 1351/6611 [06:40<26:04,  3.36it/s]"
     ]
    },
    {
     "name": "stdout",
     "output_type": "stream",
     "text": [
      "disk> vineyard_split_2_frame_1165.png-vineyard_split_2_frame_1175.png: 631 matches @ 29th pair(disk+lightglue)\n"
     ]
    },
    {
     "name": "stderr",
     "output_type": "stream",
     "text": [
      " 22%|██▏       | 1438/6611 [07:06<25:33,  3.37it/s]"
     ]
    },
    {
     "name": "stdout",
     "output_type": "stream",
     "text": [
      "disk> vineyard_split_2_frame_1275.png-vineyard_split_2_frame_1280.png: 3794 matches @ 30th pair(disk+lightglue)\n"
     ]
    },
    {
     "name": "stderr",
     "output_type": "stream",
     "text": [
      " 22%|██▏       | 1441/6611 [07:07<25:38,  3.36it/s]"
     ]
    },
    {
     "name": "stdout",
     "output_type": "stream",
     "text": [
      "disk> vineyard_split_2_frame_1275.png-vineyard_split_2_frame_1270.png: 1748 matches @ 31th pair(disk+lightglue)\n"
     ]
    },
    {
     "name": "stderr",
     "output_type": "stream",
     "text": [
      " 24%|██▍       | 1600/6611 [07:54<24:45,  3.37it/s]"
     ]
    },
    {
     "name": "stdout",
     "output_type": "stream",
     "text": [
      "disk> vineyard_split_2_frame_1160.png-vineyard_split_2_frame_1155.png: 3417 matches @ 32th pair(disk+lightglue)\n"
     ]
    },
    {
     "name": "stderr",
     "output_type": "stream",
     "text": [
      " 26%|██▌       | 1703/6611 [08:25<24:20,  3.36it/s]"
     ]
    },
    {
     "name": "stdout",
     "output_type": "stream",
     "text": [
      "disk> vineyard_split_2_frame_1280.png-vineyard_split_2_frame_1285.png: 3782 matches @ 33th pair(disk+lightglue)\n"
     ]
    },
    {
     "name": "stderr",
     "output_type": "stream",
     "text": [
      " 27%|██▋       | 1762/6611 [08:42<24:00,  3.37it/s]"
     ]
    },
    {
     "name": "stdout",
     "output_type": "stream",
     "text": [
      "disk> vineyard_split_2_frame_1155.png-vineyard_split_2_frame_1150.png: 3629 matches @ 34th pair(disk+lightglue)\n"
     ]
    },
    {
     "name": "stderr",
     "output_type": "stream",
     "text": [
      " 28%|██▊       | 1834/6611 [09:03<23:37,  3.37it/s]"
     ]
    },
    {
     "name": "stdout",
     "output_type": "stream",
     "text": [
      "disk> vineyard_split_2_frame_1195.png-vineyard_split_2_frame_1185.png: 2280 matches @ 35th pair(disk+lightglue)\n"
     ]
    },
    {
     "name": "stderr",
     "output_type": "stream",
     "text": [
      " 29%|██▉       | 1947/6611 [09:37<23:05,  3.37it/s]"
     ]
    },
    {
     "name": "stdout",
     "output_type": "stream",
     "text": [
      "disk> vineyard_split_2_frame_1270.png-vineyard_split_2_frame_1265.png: 2810 matches @ 36th pair(disk+lightglue)\n"
     ]
    },
    {
     "name": "stderr",
     "output_type": "stream",
     "text": [
      " 30%|██▉       | 1960/6611 [09:41<23:00,  3.37it/s]"
     ]
    },
    {
     "name": "stdout",
     "output_type": "stream",
     "text": [
      "disk> vineyard_split_2_frame_1210.png-vineyard_split_2_frame_1215.png: 3021 matches @ 37th pair(disk+lightglue)\n"
     ]
    },
    {
     "name": "stderr",
     "output_type": "stream",
     "text": [
      " 38%|███▊      | 2544/6611 [12:34<20:04,  3.38it/s]"
     ]
    },
    {
     "name": "stdout",
     "output_type": "stream",
     "text": [
      "disk> vineyard_split_2_frame_1235.png-vineyard_split_2_frame_1230.png: 3161 matches @ 38th pair(disk+lightglue)\n"
     ]
    },
    {
     "name": "stderr",
     "output_type": "stream",
     "text": [
      " 43%|████▎     | 2813/6611 [13:54<18:43,  3.38it/s]"
     ]
    },
    {
     "name": "stdout",
     "output_type": "stream",
     "text": [
      "disk> vineyard_split_3_frame_1395.png-vineyard_split_3_frame_1390.png: 2161 matches @ 39th pair(disk+lightglue)\n"
     ]
    },
    {
     "name": "stderr",
     "output_type": "stream",
     "text": [
      " 43%|████▎     | 2814/6611 [13:54<18:43,  3.38it/s]"
     ]
    },
    {
     "name": "stdout",
     "output_type": "stream",
     "text": [
      "disk> vineyard_split_3_frame_1395.png-vineyard_split_3_frame_1405.png: 2128 matches @ 40th pair(disk+lightglue)\n"
     ]
    },
    {
     "name": "stderr",
     "output_type": "stream",
     "text": [
      " 43%|████▎     | 2838/6611 [14:01<18:40,  3.37it/s]"
     ]
    },
    {
     "name": "stdout",
     "output_type": "stream",
     "text": [
      "disk> vineyard_split_3_frame_1395.png-vineyard_split_3_frame_1400.png: 3951 matches @ 41th pair(disk+lightglue)\n"
     ]
    },
    {
     "name": "stderr",
     "output_type": "stream",
     "text": [
      " 44%|████▎     | 2878/6611 [14:13<18:29,  3.36it/s]"
     ]
    },
    {
     "name": "stdout",
     "output_type": "stream",
     "text": [
      "disk> vineyard_split_3_frame_1475.png-vineyard_split_3_frame_1480.png: 3109 matches @ 42th pair(disk+lightglue)\n"
     ]
    },
    {
     "name": "stderr",
     "output_type": "stream",
     "text": [
      " 44%|████▍     | 2925/6611 [14:27<18:15,  3.37it/s]"
     ]
    },
    {
     "name": "stdout",
     "output_type": "stream",
     "text": [
      "disk> vineyard_split_3_frame_1475.png-vineyard_split_3_frame_1485.png: 455 matches @ 43th pair(disk+lightglue)\n"
     ]
    },
    {
     "name": "stderr",
     "output_type": "stream",
     "text": [
      " 44%|████▍     | 2930/6611 [14:28<18:10,  3.38it/s]"
     ]
    },
    {
     "name": "stdout",
     "output_type": "stream",
     "text": [
      "disk> vineyard_split_3_frame_1475.png-vineyard_split_3_frame_1470.png: 4259 matches @ 44th pair(disk+lightglue)\n"
     ]
    },
    {
     "name": "stderr",
     "output_type": "stream",
     "text": [
      " 45%|████▍     | 2966/6611 [14:39<17:47,  3.41it/s]"
     ]
    },
    {
     "name": "stdout",
     "output_type": "stream",
     "text": [
      "disk> vineyard_split_3_frame_0255.png-vineyard_split_3_frame_0265.png: 2219 matches @ 45th pair(disk+lightglue)\n"
     ]
    },
    {
     "name": "stderr",
     "output_type": "stream",
     "text": [
      " 45%|████▌     | 2990/6611 [14:46<17:52,  3.38it/s]"
     ]
    },
    {
     "name": "stdout",
     "output_type": "stream",
     "text": [
      "disk> vineyard_split_3_frame_0255.png-vineyard_split_3_frame_0245.png: 1764 matches @ 46th pair(disk+lightglue)\n"
     ]
    },
    {
     "name": "stderr",
     "output_type": "stream",
     "text": [
      " 45%|████▌     | 3000/6611 [14:49<17:50,  3.37it/s]"
     ]
    },
    {
     "name": "stdout",
     "output_type": "stream",
     "text": [
      "disk> vineyard_split_3_frame_0255.png-vineyard_split_3_frame_0260.png: 3756 matches @ 47th pair(disk+lightglue)\n"
     ]
    },
    {
     "name": "stderr",
     "output_type": "stream",
     "text": [
      " 46%|████▌     | 3049/6611 [15:03<17:35,  3.37it/s]"
     ]
    },
    {
     "name": "stdout",
     "output_type": "stream",
     "text": [
      "disk> vineyard_split_3_frame_1425.png-vineyard_split_3_frame_1430.png: 3919 matches @ 48th pair(disk+lightglue)\n"
     ]
    },
    {
     "name": "stderr",
     "output_type": "stream",
     "text": [
      " 46%|████▌     | 3056/6611 [15:06<17:34,  3.37it/s]"
     ]
    },
    {
     "name": "stdout",
     "output_type": "stream",
     "text": [
      "disk> vineyard_split_3_frame_1425.png-vineyard_split_3_frame_1435.png: 616 matches @ 49th pair(disk+lightglue)\n"
     ]
    },
    {
     "name": "stderr",
     "output_type": "stream",
     "text": [
      " 46%|████▌     | 3057/6611 [15:06<17:35,  3.37it/s]"
     ]
    },
    {
     "name": "stdout",
     "output_type": "stream",
     "text": [
      "disk> vineyard_split_3_frame_1425.png-vineyard_split_3_frame_1420.png: 2425 matches @ 50th pair(disk+lightglue)\n"
     ]
    },
    {
     "name": "stderr",
     "output_type": "stream",
     "text": [
      " 47%|████▋     | 3116/6611 [15:23<17:12,  3.38it/s]"
     ]
    },
    {
     "name": "stdout",
     "output_type": "stream",
     "text": [
      "disk> vineyard_split_3_frame_0125.png-vineyard_split_3_frame_0120.png: 4297 matches @ 51th pair(disk+lightglue)\n"
     ]
    },
    {
     "name": "stderr",
     "output_type": "stream",
     "text": [
      " 47%|████▋     | 3128/6611 [15:27<17:11,  3.38it/s]"
     ]
    },
    {
     "name": "stdout",
     "output_type": "stream",
     "text": [
      "disk> vineyard_split_3_frame_0125.png-vineyard_split_3_frame_0110.png: 592 matches @ 52th pair(disk+lightglue)\n"
     ]
    },
    {
     "name": "stderr",
     "output_type": "stream",
     "text": [
      " 47%|████▋     | 3135/6611 [15:29<17:14,  3.36it/s]"
     ]
    },
    {
     "name": "stdout",
     "output_type": "stream",
     "text": [
      "disk> vineyard_split_3_frame_0125.png-vineyard_split_3_frame_0135.png: 1857 matches @ 53th pair(disk+lightglue)\n"
     ]
    },
    {
     "name": "stderr",
     "output_type": "stream",
     "text": [
      " 49%|████▊     | 3216/6611 [15:53<16:48,  3.37it/s]"
     ]
    },
    {
     "name": "stdout",
     "output_type": "stream",
     "text": [
      "disk> vineyard_split_3_frame_1480.png-vineyard_split_3_frame_1485.png: 3575 matches @ 54th pair(disk+lightglue)\n"
     ]
    },
    {
     "name": "stderr",
     "output_type": "stream",
     "text": [
      " 49%|████▊     | 3220/6611 [15:54<16:45,  3.37it/s]"
     ]
    },
    {
     "name": "stdout",
     "output_type": "stream",
     "text": [
      "disk> vineyard_split_3_frame_1480.png-vineyard_split_3_frame_1470.png: 1679 matches @ 55th pair(disk+lightglue)\n"
     ]
    },
    {
     "name": "stderr",
     "output_type": "stream",
     "text": [
      " 49%|████▉     | 3257/6611 [16:05<16:32,  3.38it/s]"
     ]
    },
    {
     "name": "stdout",
     "output_type": "stream",
     "text": [
      "disk> vineyard_split_3_frame_0215.png-vineyard_split_3_frame_0225.png: 1796 matches @ 56th pair(disk+lightglue)\n"
     ]
    },
    {
     "name": "stderr",
     "output_type": "stream",
     "text": [
      " 49%|████▉     | 3261/6611 [16:06<16:30,  3.38it/s]"
     ]
    },
    {
     "name": "stdout",
     "output_type": "stream",
     "text": [
      "disk> vineyard_split_3_frame_0215.png-vineyard_split_3_frame_0205.png: 1823 matches @ 57th pair(disk+lightglue)\n"
     ]
    },
    {
     "name": "stderr",
     "output_type": "stream",
     "text": [
      " 49%|████▉     | 3266/6611 [16:08<16:28,  3.38it/s]"
     ]
    },
    {
     "name": "stdout",
     "output_type": "stream",
     "text": [
      "disk> vineyard_split_3_frame_0215.png-vineyard_split_3_frame_0210.png: 3140 matches @ 58th pair(disk+lightglue)\n"
     ]
    },
    {
     "name": "stderr",
     "output_type": "stream",
     "text": [
      " 49%|████▉     | 3269/6611 [16:09<16:26,  3.39it/s]"
     ]
    },
    {
     "name": "stdout",
     "output_type": "stream",
     "text": [
      "disk> vineyard_split_3_frame_0215.png-vineyard_split_3_frame_0220.png: 4170 matches @ 59th pair(disk+lightglue)\n"
     ]
    },
    {
     "name": "stderr",
     "output_type": "stream",
     "text": [
      " 50%|████▉     | 3287/6611 [16:14<15:30,  3.57it/s]"
     ]
    },
    {
     "name": "stdout",
     "output_type": "stream",
     "text": [
      "disk> vineyard_split_3_frame_0295.png-vineyard_split_3_frame_0285.png: 1400 matches @ 60th pair(disk+lightglue)\n"
     ]
    },
    {
     "name": "stderr",
     "output_type": "stream",
     "text": [
      " 50%|████▉     | 3289/6611 [16:14<15:15,  3.63it/s]"
     ]
    },
    {
     "name": "stdout",
     "output_type": "stream",
     "text": [
      "disk> vineyard_split_3_frame_0295.png-vineyard_split_3_frame_0305.png: 1443 matches @ 61th pair(disk+lightglue)\n"
     ]
    },
    {
     "name": "stderr",
     "output_type": "stream",
     "text": [
      " 50%|████▉     | 3296/6611 [16:16<15:01,  3.68it/s]"
     ]
    },
    {
     "name": "stdout",
     "output_type": "stream",
     "text": [
      "disk> vineyard_split_3_frame_0295.png-vineyard_split_3_frame_0300.png: 2330 matches @ 62th pair(disk+lightglue)\n"
     ]
    },
    {
     "name": "stderr",
     "output_type": "stream",
     "text": [
      " 50%|████▉     | 3304/6611 [16:19<16:17,  3.38it/s]"
     ]
    },
    {
     "name": "stdout",
     "output_type": "stream",
     "text": [
      "disk> vineyard_split_3_frame_0090.png-vineyard_split_3_frame_0075.png: 674 matches @ 63th pair(disk+lightglue)\n"
     ]
    },
    {
     "name": "stderr",
     "output_type": "stream",
     "text": [
      " 50%|█████     | 3312/6611 [16:21<16:17,  3.38it/s]"
     ]
    },
    {
     "name": "stdout",
     "output_type": "stream",
     "text": [
      "disk> vineyard_split_3_frame_0090.png-vineyard_split_3_frame_0080.png: 1890 matches @ 64th pair(disk+lightglue)\n"
     ]
    },
    {
     "name": "stderr",
     "output_type": "stream",
     "text": [
      " 50%|█████     | 3320/6611 [16:23<16:15,  3.37it/s]"
     ]
    },
    {
     "name": "stdout",
     "output_type": "stream",
     "text": [
      "disk> vineyard_split_3_frame_0090.png-vineyard_split_3_frame_0100.png: 2087 matches @ 65th pair(disk+lightglue)\n"
     ]
    },
    {
     "name": "stderr",
     "output_type": "stream",
     "text": [
      " 50%|█████     | 3329/6611 [16:26<16:13,  3.37it/s]"
     ]
    },
    {
     "name": "stdout",
     "output_type": "stream",
     "text": [
      "disk> vineyard_split_3_frame_0090.png-vineyard_split_3_frame_0085.png: 4407 matches @ 66th pair(disk+lightglue)\n"
     ]
    },
    {
     "name": "stderr",
     "output_type": "stream",
     "text": [
      " 50%|█████     | 3330/6611 [16:26<16:09,  3.39it/s]"
     ]
    },
    {
     "name": "stdout",
     "output_type": "stream",
     "text": [
      "disk> vineyard_split_3_frame_0090.png-vineyard_split_3_frame_0095.png: 3985 matches @ 67th pair(disk+lightglue)\n"
     ]
    },
    {
     "name": "stderr",
     "output_type": "stream",
     "text": [
      " 51%|█████     | 3369/6611 [16:38<16:04,  3.36it/s]"
     ]
    },
    {
     "name": "stdout",
     "output_type": "stream",
     "text": [
      "disk> vineyard_split_3_frame_0190.png-vineyard_split_3_frame_0195.png: 3406 matches @ 68th pair(disk+lightglue)\n"
     ]
    },
    {
     "name": "stderr",
     "output_type": "stream",
     "text": [
      " 51%|█████     | 3385/6611 [16:43<15:56,  3.37it/s]"
     ]
    },
    {
     "name": "stdout",
     "output_type": "stream",
     "text": [
      "disk> vineyard_split_3_frame_0190.png-vineyard_split_3_frame_0180.png: 1254 matches @ 69th pair(disk+lightglue)\n"
     ]
    },
    {
     "name": "stderr",
     "output_type": "stream",
     "text": [
      " 52%|█████▏    | 3408/6611 [16:49<15:39,  3.41it/s]"
     ]
    },
    {
     "name": "stdout",
     "output_type": "stream",
     "text": [
      "disk> vineyard_split_3_frame_0265.png-vineyard_split_3_frame_0270.png: 2956 matches @ 70th pair(disk+lightglue)\n"
     ]
    },
    {
     "name": "stderr",
     "output_type": "stream",
     "text": [
      " 52%|█████▏    | 3410/6611 [16:50<15:38,  3.41it/s]"
     ]
    },
    {
     "name": "stdout",
     "output_type": "stream",
     "text": [
      "disk> vineyard_split_3_frame_0265.png-vineyard_split_3_frame_0285.png: 216 matches @ 71th pair(disk+lightglue)\n"
     ]
    },
    {
     "name": "stderr",
     "output_type": "stream",
     "text": [
      " 52%|█████▏    | 3412/6611 [16:51<15:37,  3.41it/s]"
     ]
    },
    {
     "name": "stdout",
     "output_type": "stream",
     "text": [
      "disk> vineyard_split_3_frame_0265.png-vineyard_split_3_frame_0280.png: 110 matches @ 72th pair(disk+lightglue)\n"
     ]
    },
    {
     "name": "stderr",
     "output_type": "stream",
     "text": [
      " 52%|█████▏    | 3413/6611 [16:51<15:37,  3.41it/s]"
     ]
    },
    {
     "name": "stdout",
     "output_type": "stream",
     "text": [
      "disk> vineyard_split_3_frame_0265.png-vineyard_split_3_frame_0275.png: 1739 matches @ 73th pair(disk+lightglue)\n"
     ]
    },
    {
     "name": "stderr",
     "output_type": "stream",
     "text": [
      " 52%|█████▏    | 3439/6611 [16:59<15:29,  3.41it/s]"
     ]
    },
    {
     "name": "stdout",
     "output_type": "stream",
     "text": [
      "disk> vineyard_split_3_frame_0265.png-vineyard_split_3_frame_0260.png: 4030 matches @ 74th pair(disk+lightglue)\n"
     ]
    },
    {
     "name": "stderr",
     "output_type": "stream",
     "text": [
      " 52%|█████▏    | 3464/6611 [17:06<15:27,  3.39it/s]"
     ]
    },
    {
     "name": "stdout",
     "output_type": "stream",
     "text": [
      "disk> vineyard_split_3_frame_1445.png-vineyard_split_3_frame_1450.png: 2424 matches @ 75th pair(disk+lightglue)\n"
     ]
    },
    {
     "name": "stderr",
     "output_type": "stream",
     "text": [
      " 53%|█████▎    | 3490/6611 [17:14<15:24,  3.38it/s]"
     ]
    },
    {
     "name": "stdout",
     "output_type": "stream",
     "text": [
      "disk> vineyard_split_3_frame_1445.png-vineyard_split_3_frame_1440.png: 3426 matches @ 76th pair(disk+lightglue)\n"
     ]
    },
    {
     "name": "stderr",
     "output_type": "stream",
     "text": [
      " 55%|█████▌    | 3664/6611 [18:05<14:35,  3.37it/s]"
     ]
    },
    {
     "name": "stdout",
     "output_type": "stream",
     "text": [
      "disk> vineyard_split_3_frame_1390.png-vineyard_split_3_frame_1400.png: 354 matches @ 77th pair(disk+lightglue)\n"
     ]
    },
    {
     "name": "stderr",
     "output_type": "stream",
     "text": [
      " 56%|█████▋    | 3724/6611 [18:23<14:17,  3.37it/s]"
     ]
    },
    {
     "name": "stdout",
     "output_type": "stream",
     "text": [
      "disk> vineyard_split_3_frame_1555.png-vineyard_split_3_frame_1560.png: 2779 matches @ 78th pair(disk+lightglue)\n"
     ]
    },
    {
     "name": "stderr",
     "output_type": "stream",
     "text": [
      " 57%|█████▋    | 3761/6611 [18:34<14:04,  3.38it/s]"
     ]
    },
    {
     "name": "stdout",
     "output_type": "stream",
     "text": [
      "disk> vineyard_split_3_frame_1550.png-vineyard_split_3_frame_1545.png: 3696 matches @ 79th pair(disk+lightglue)\n"
     ]
    },
    {
     "name": "stderr",
     "output_type": "stream",
     "text": [
      " 57%|█████▋    | 3800/6611 [18:45<13:50,  3.39it/s]"
     ]
    },
    {
     "name": "stdout",
     "output_type": "stream",
     "text": [
      "disk> vineyard_split_3_frame_1405.png-vineyard_split_3_frame_1410.png: 3359 matches @ 80th pair(disk+lightglue)\n"
     ]
    },
    {
     "name": "stderr",
     "output_type": "stream",
     "text": [
      " 58%|█████▊    | 3814/6611 [18:49<13:52,  3.36it/s]"
     ]
    },
    {
     "name": "stdout",
     "output_type": "stream",
     "text": [
      "disk> vineyard_split_3_frame_1405.png-vineyard_split_3_frame_1400.png: 4134 matches @ 81th pair(disk+lightglue)\n"
     ]
    },
    {
     "name": "stderr",
     "output_type": "stream",
     "text": [
      " 58%|█████▊    | 3857/6611 [19:02<13:38,  3.36it/s]"
     ]
    },
    {
     "name": "stdout",
     "output_type": "stream",
     "text": [
      "disk> vineyard_split_3_frame_0070.png-vineyard_split_3_frame_0075.png: 2478 matches @ 82th pair(disk+lightglue)\n"
     ]
    },
    {
     "name": "stderr",
     "output_type": "stream",
     "text": [
      " 58%|█████▊    | 3864/6611 [19:04<13:36,  3.36it/s]"
     ]
    },
    {
     "name": "stdout",
     "output_type": "stream",
     "text": [
      "disk> vineyard_split_3_frame_0070.png-vineyard_split_3_frame_0080.png: 464 matches @ 83th pair(disk+lightglue)\n"
     ]
    },
    {
     "name": "stderr",
     "output_type": "stream",
     "text": [
      " 59%|█████▉    | 3905/6611 [19:16<13:23,  3.37it/s]"
     ]
    },
    {
     "name": "stdout",
     "output_type": "stream",
     "text": [
      "disk> vineyard_split_3_frame_1500.png-vineyard_split_3_frame_1490.png: 1431 matches @ 84th pair(disk+lightglue)\n"
     ]
    },
    {
     "name": "stderr",
     "output_type": "stream",
     "text": [
      " 59%|█████▉    | 3908/6611 [19:17<13:23,  3.36it/s]"
     ]
    },
    {
     "name": "stdout",
     "output_type": "stream",
     "text": [
      "disk> vineyard_split_3_frame_1500.png-vineyard_split_3_frame_1495.png: 3749 matches @ 85th pair(disk+lightglue)\n"
     ]
    },
    {
     "name": "stderr",
     "output_type": "stream",
     "text": [
      " 61%|██████    | 4008/6611 [19:47<12:53,  3.37it/s]"
     ]
    },
    {
     "name": "stdout",
     "output_type": "stream",
     "text": [
      "disk> vineyard_split_3_frame_0075.png-vineyard_split_3_frame_0080.png: 4106 matches @ 86th pair(disk+lightglue)\n"
     ]
    },
    {
     "name": "stderr",
     "output_type": "stream",
     "text": [
      " 61%|██████    | 4030/6611 [19:53<12:47,  3.36it/s]"
     ]
    },
    {
     "name": "stdout",
     "output_type": "stream",
     "text": [
      "disk> vineyard_split_3_frame_0075.png-vineyard_split_3_frame_0085.png: 1823 matches @ 87th pair(disk+lightglue)\n"
     ]
    },
    {
     "name": "stderr",
     "output_type": "stream",
     "text": [
      " 61%|██████▏   | 4054/6611 [20:01<12:37,  3.37it/s]"
     ]
    },
    {
     "name": "stdout",
     "output_type": "stream",
     "text": [
      "disk> vineyard_split_3_frame_0160.png-vineyard_split_3_frame_0170.png: 2512 matches @ 88th pair(disk+lightglue)\n"
     ]
    },
    {
     "name": "stderr",
     "output_type": "stream",
     "text": [
      " 62%|██████▏   | 4079/6611 [20:08<12:31,  3.37it/s]"
     ]
    },
    {
     "name": "stdout",
     "output_type": "stream",
     "text": [
      "disk> vineyard_split_3_frame_0160.png-vineyard_split_3_frame_0165.png: 4289 matches @ 89th pair(disk+lightglue)\n"
     ]
    },
    {
     "name": "stderr",
     "output_type": "stream",
     "text": [
      " 62%|██████▏   | 4088/6611 [20:11<12:28,  3.37it/s]"
     ]
    },
    {
     "name": "stdout",
     "output_type": "stream",
     "text": [
      "disk> vineyard_split_3_frame_0160.png-vineyard_split_3_frame_0155.png: 3333 matches @ 90th pair(disk+lightglue)\n"
     ]
    },
    {
     "name": "stderr",
     "output_type": "stream",
     "text": [
      " 62%|██████▏   | 4110/6611 [20:17<12:23,  3.36it/s]"
     ]
    },
    {
     "name": "stdout",
     "output_type": "stream",
     "text": [
      "disk> vineyard_split_3_frame_0150.png-vineyard_split_3_frame_0140.png: 2061 matches @ 91th pair(disk+lightglue)\n"
     ]
    },
    {
     "name": "stderr",
     "output_type": "stream",
     "text": [
      " 63%|██████▎   | 4152/6611 [20:30<12:08,  3.37it/s]"
     ]
    },
    {
     "name": "stdout",
     "output_type": "stream",
     "text": [
      "disk> vineyard_split_3_frame_0150.png-vineyard_split_3_frame_0155.png: 3660 matches @ 92th pair(disk+lightglue)\n"
     ]
    },
    {
     "name": "stderr",
     "output_type": "stream",
     "text": [
      " 64%|██████▎   | 4204/6611 [20:45<11:54,  3.37it/s]"
     ]
    },
    {
     "name": "stdout",
     "output_type": "stream",
     "text": [
      "disk> vineyard_split_3_frame_0140.png-vineyard_split_3_frame_0135.png: 3055 matches @ 93th pair(disk+lightglue)\n"
     ]
    },
    {
     "name": "stderr",
     "output_type": "stream",
     "text": [
      " 64%|██████▍   | 4252/6611 [20:59<11:38,  3.38it/s]"
     ]
    },
    {
     "name": "stdout",
     "output_type": "stream",
     "text": [
      "disk> vineyard_split_3_frame_0270.png-vineyard_split_3_frame_0285.png: 1510 matches @ 94th pair(disk+lightglue)\n"
     ]
    },
    {
     "name": "stderr",
     "output_type": "stream",
     "text": [
      " 64%|██████▍   | 4254/6611 [21:00<11:37,  3.38it/s]"
     ]
    },
    {
     "name": "stdout",
     "output_type": "stream",
     "text": [
      "disk> vineyard_split_3_frame_0270.png-vineyard_split_3_frame_0280.png: 3310 matches @ 95th pair(disk+lightglue)\n"
     ]
    },
    {
     "name": "stderr",
     "output_type": "stream",
     "text": [
      " 64%|██████▍   | 4255/6611 [21:00<11:38,  3.37it/s]"
     ]
    },
    {
     "name": "stdout",
     "output_type": "stream",
     "text": [
      "disk> vineyard_split_3_frame_0270.png-vineyard_split_3_frame_0275.png: 4090 matches @ 96th pair(disk+lightglue)\n"
     ]
    },
    {
     "name": "stderr",
     "output_type": "stream",
     "text": [
      " 65%|██████▍   | 4269/6611 [21:04<11:34,  3.37it/s]"
     ]
    },
    {
     "name": "stdout",
     "output_type": "stream",
     "text": [
      "disk> vineyard_split_3_frame_0270.png-vineyard_split_3_frame_0260.png: 1549 matches @ 97th pair(disk+lightglue)\n"
     ]
    },
    {
     "name": "stderr",
     "output_type": "stream",
     "text": [
      " 65%|██████▍   | 4282/6611 [21:08<11:28,  3.38it/s]"
     ]
    },
    {
     "name": "stdout",
     "output_type": "stream",
     "text": [
      "disk> vineyard_split_3_frame_0170.png-vineyard_split_3_frame_0175.png: 3898 matches @ 98th pair(disk+lightglue)\n"
     ]
    },
    {
     "name": "stderr",
     "output_type": "stream",
     "text": [
      " 65%|██████▍   | 4291/6611 [21:11<11:27,  3.37it/s]"
     ]
    },
    {
     "name": "stdout",
     "output_type": "stream",
     "text": [
      "disk> vineyard_split_3_frame_0170.png-vineyard_split_3_frame_0165.png: 3768 matches @ 99th pair(disk+lightglue)\n"
     ]
    },
    {
     "name": "stderr",
     "output_type": "stream",
     "text": [
      " 65%|██████▌   | 4299/6611 [21:13<11:23,  3.38it/s]"
     ]
    },
    {
     "name": "stdout",
     "output_type": "stream",
     "text": [
      "disk> vineyard_split_3_frame_0170.png-vineyard_split_3_frame_0180.png: 1620 matches @ 100th pair(disk+lightglue)\n"
     ]
    },
    {
     "name": "stderr",
     "output_type": "stream",
     "text": [
      " 65%|██████▌   | 4312/6611 [21:17<11:20,  3.38it/s]"
     ]
    },
    {
     "name": "stdout",
     "output_type": "stream",
     "text": [
      "disk> vineyard_split_3_frame_0285.png-vineyard_split_3_frame_0280.png: 4739 matches @ 101th pair(disk+lightglue)\n"
     ]
    },
    {
     "name": "stderr",
     "output_type": "stream",
     "text": [
      " 65%|██████▌   | 4313/6611 [21:17<11:21,  3.37it/s]"
     ]
    },
    {
     "name": "stdout",
     "output_type": "stream",
     "text": [
      "disk> vineyard_split_3_frame_0285.png-vineyard_split_3_frame_0275.png: 3345 matches @ 102th pair(disk+lightglue)\n"
     ]
    },
    {
     "name": "stderr",
     "output_type": "stream",
     "text": [
      " 67%|██████▋   | 4404/6611 [21:44<10:56,  3.36it/s]"
     ]
    },
    {
     "name": "stdout",
     "output_type": "stream",
     "text": [
      "disk> vineyard_split_3_frame_1490.png-vineyard_split_3_frame_1485.png: 2598 matches @ 103th pair(disk+lightglue)\n"
     ]
    },
    {
     "name": "stderr",
     "output_type": "stream",
     "text": [
      " 67%|██████▋   | 4448/6611 [21:57<10:43,  3.36it/s]"
     ]
    },
    {
     "name": "stdout",
     "output_type": "stream",
     "text": [
      "disk> vineyard_split_3_frame_0280.png-vineyard_split_3_frame_0275.png: 4615 matches @ 104th pair(disk+lightglue)\n"
     ]
    },
    {
     "name": "stderr",
     "output_type": "stream",
     "text": [
      " 69%|██████▊   | 4539/6611 [22:24<10:13,  3.38it/s]"
     ]
    },
    {
     "name": "stdout",
     "output_type": "stream",
     "text": [
      "disk> vineyard_split_3_frame_0225.png-vineyard_split_3_frame_0220.png: 2928 matches @ 105th pair(disk+lightglue)\n"
     ]
    },
    {
     "name": "stderr",
     "output_type": "stream",
     "text": [
      " 69%|██████▊   | 4543/6611 [22:25<10:12,  3.37it/s]"
     ]
    },
    {
     "name": "stdout",
     "output_type": "stream",
     "text": [
      "disk> vineyard_split_3_frame_0225.png-vineyard_split_3_frame_0230.png: 2684 matches @ 106th pair(disk+lightglue)\n"
     ]
    },
    {
     "name": "stderr",
     "output_type": "stream",
     "text": [
      " 69%|██████▉   | 4574/6611 [22:35<10:05,  3.36it/s]"
     ]
    },
    {
     "name": "stdout",
     "output_type": "stream",
     "text": [
      "disk> vineyard_split_3_frame_0080.png-vineyard_split_3_frame_0085.png: 3400 matches @ 107th pair(disk+lightglue)\n"
     ]
    },
    {
     "name": "stderr",
     "output_type": "stream",
     "text": [
      " 70%|██████▉   | 4614/6611 [22:46<09:52,  3.37it/s]"
     ]
    },
    {
     "name": "stdout",
     "output_type": "stream",
     "text": [
      "disk> vineyard_split_3_frame_0120.png-vineyard_split_3_frame_0105.png: 420 matches @ 108th pair(disk+lightglue)\n"
     ]
    },
    {
     "name": "stderr",
     "output_type": "stream",
     "text": [
      " 70%|██████▉   | 4620/6611 [22:48<09:50,  3.37it/s]"
     ]
    },
    {
     "name": "stdout",
     "output_type": "stream",
     "text": [
      "disk> vineyard_split_3_frame_0120.png-vineyard_split_3_frame_0110.png: 2535 matches @ 109th pair(disk+lightglue)\n"
     ]
    },
    {
     "name": "stderr",
     "output_type": "stream",
     "text": [
      " 71%|███████   | 4679/6611 [23:06<09:30,  3.39it/s]"
     ]
    },
    {
     "name": "stdout",
     "output_type": "stream",
     "text": [
      "disk> vineyard_split_3_frame_1510.png-vineyard_split_3_frame_1520.png: 1993 matches @ 110th pair(disk+lightglue)\n"
     ]
    },
    {
     "name": "stderr",
     "output_type": "stream",
     "text": [
      " 71%|███████   | 4691/6611 [23:09<09:28,  3.38it/s]"
     ]
    },
    {
     "name": "stdout",
     "output_type": "stream",
     "text": [
      "disk> vineyard_split_3_frame_1510.png-vineyard_split_3_frame_1515.png: 4062 matches @ 111th pair(disk+lightglue)\n"
     ]
    },
    {
     "name": "stderr",
     "output_type": "stream",
     "text": [
      " 72%|███████▏  | 4737/6611 [23:23<09:11,  3.40it/s]"
     ]
    },
    {
     "name": "stdout",
     "output_type": "stream",
     "text": [
      "disk> vineyard_split_3_frame_0105.png-vineyard_split_3_frame_0110.png: 4592 matches @ 112th pair(disk+lightglue)\n"
     ]
    },
    {
     "name": "stderr",
     "output_type": "stream",
     "text": [
      " 72%|███████▏  | 4740/6611 [23:24<09:14,  3.37it/s]"
     ]
    },
    {
     "name": "stdout",
     "output_type": "stream",
     "text": [
      "disk> vineyard_split_3_frame_0105.png-vineyard_split_3_frame_0100.png: 2379 matches @ 113th pair(disk+lightglue)\n"
     ]
    },
    {
     "name": "stderr",
     "output_type": "stream",
     "text": [
      " 72%|███████▏  | 4752/6611 [23:27<09:09,  3.38it/s]"
     ]
    },
    {
     "name": "stdout",
     "output_type": "stream",
     "text": [
      "disk> vineyard_split_3_frame_0105.png-vineyard_split_3_frame_0095.png: 261 matches @ 114th pair(disk+lightglue)\n"
     ]
    },
    {
     "name": "stderr",
     "output_type": "stream",
     "text": [
      " 72%|███████▏  | 4774/6611 [23:34<09:05,  3.37it/s]"
     ]
    },
    {
     "name": "stdout",
     "output_type": "stream",
     "text": [
      "disk> vineyard_split_3_frame_1535.png-vineyard_split_3_frame_1530.png: 1965 matches @ 115th pair(disk+lightglue)\n"
     ]
    },
    {
     "name": "stderr",
     "output_type": "stream",
     "text": [
      " 72%|███████▏  | 4781/6611 [23:36<09:03,  3.37it/s]"
     ]
    },
    {
     "name": "stdout",
     "output_type": "stream",
     "text": [
      "disk> vineyard_split_3_frame_1540.png-vineyard_split_3_frame_1545.png: 4264 matches @ 116th pair(disk+lightglue)\n"
     ]
    },
    {
     "name": "stderr",
     "output_type": "stream",
     "text": [
      " 73%|███████▎  | 4828/6611 [23:50<08:48,  3.37it/s]"
     ]
    },
    {
     "name": "stdout",
     "output_type": "stream",
     "text": [
      "disk> vineyard_split_3_frame_0205.png-vineyard_split_3_frame_0195.png: 910 matches @ 117th pair(disk+lightglue)\n"
     ]
    },
    {
     "name": "stderr",
     "output_type": "stream",
     "text": [
      " 73%|███████▎  | 4829/6611 [23:50<08:48,  3.37it/s]"
     ]
    },
    {
     "name": "stdout",
     "output_type": "stream",
     "text": [
      "disk> vineyard_split_3_frame_0205.png-vineyard_split_3_frame_0210.png: 3757 matches @ 118th pair(disk+lightglue)\n"
     ]
    },
    {
     "name": "stderr",
     "output_type": "stream",
     "text": [
      " 73%|███████▎  | 4835/6611 [23:52<08:46,  3.37it/s]"
     ]
    },
    {
     "name": "stdout",
     "output_type": "stream",
     "text": [
      "disk> vineyard_split_3_frame_0205.png-vineyard_split_3_frame_0220.png: 296 matches @ 119th pair(disk+lightglue)\n"
     ]
    },
    {
     "name": "stderr",
     "output_type": "stream",
     "text": [
      " 73%|███████▎  | 4836/6611 [23:52<08:46,  3.37it/s]"
     ]
    },
    {
     "name": "stdout",
     "output_type": "stream",
     "text": [
      "disk> vineyard_split_3_frame_0205.png-vineyard_split_3_frame_0200.png: 2976 matches @ 120th pair(disk+lightglue)\n"
     ]
    },
    {
     "name": "stderr",
     "output_type": "stream",
     "text": [
      " 74%|███████▍  | 4876/6611 [24:04<08:23,  3.45it/s]"
     ]
    },
    {
     "name": "stdout",
     "output_type": "stream",
     "text": [
      "disk> vineyard_split_3_frame_1410.png-vineyard_split_3_frame_1415.png: 3759 matches @ 121th pair(disk+lightglue)\n"
     ]
    },
    {
     "name": "stderr",
     "output_type": "stream",
     "text": [
      " 74%|███████▍  | 4877/6611 [24:04<08:22,  3.45it/s]"
     ]
    },
    {
     "name": "stdout",
     "output_type": "stream",
     "text": [
      "disk> vineyard_split_3_frame_1410.png-vineyard_split_3_frame_1420.png: 1663 matches @ 122th pair(disk+lightglue)\n"
     ]
    },
    {
     "name": "stderr",
     "output_type": "stream",
     "text": [
      " 74%|███████▍  | 4910/6611 [24:14<08:23,  3.38it/s]"
     ]
    },
    {
     "name": "stdout",
     "output_type": "stream",
     "text": [
      "disk> vineyard_split_3_frame_0305.png-vineyard_split_3_frame_0300.png: 4849 matches @ 123th pair(disk+lightglue)\n"
     ]
    },
    {
     "name": "stderr",
     "output_type": "stream",
     "text": [
      " 75%|███████▍  | 4957/6611 [24:28<08:10,  3.37it/s]"
     ]
    },
    {
     "name": "stdout",
     "output_type": "stream",
     "text": [
      "disk> vineyard_split_3_frame_0175.png-vineyard_split_3_frame_0185.png: 1395 matches @ 124th pair(disk+lightglue)\n"
     ]
    },
    {
     "name": "stderr",
     "output_type": "stream",
     "text": [
      " 75%|███████▌  | 4961/6611 [24:29<08:07,  3.39it/s]"
     ]
    },
    {
     "name": "stdout",
     "output_type": "stream",
     "text": [
      "disk> vineyard_split_3_frame_0175.png-vineyard_split_3_frame_0180.png: 3401 matches @ 125th pair(disk+lightglue)\n"
     ]
    },
    {
     "name": "stderr",
     "output_type": "stream",
     "text": [
      " 76%|███████▌  | 5025/6611 [24:48<07:50,  3.37it/s]"
     ]
    },
    {
     "name": "stdout",
     "output_type": "stream",
     "text": [
      "disk> vineyard_split_3_frame_1520.png-vineyard_split_3_frame_1525.png: 2413 matches @ 126th pair(disk+lightglue)\n"
     ]
    },
    {
     "name": "stderr",
     "output_type": "stream",
     "text": [
      " 76%|███████▌  | 5028/6611 [24:49<07:50,  3.37it/s]"
     ]
    },
    {
     "name": "stdout",
     "output_type": "stream",
     "text": [
      "disk> vineyard_split_3_frame_1520.png-vineyard_split_3_frame_1515.png: 2567 matches @ 127th pair(disk+lightglue)\n"
     ]
    },
    {
     "name": "stderr",
     "output_type": "stream",
     "text": [
      " 76%|███████▋  | 5055/6611 [24:57<07:40,  3.38it/s]"
     ]
    },
    {
     "name": "stdout",
     "output_type": "stream",
     "text": [
      "disk> vineyard_split_3_frame_1465.png-vineyard_split_3_frame_1460.png: 4715 matches @ 128th pair(disk+lightglue)\n"
     ]
    },
    {
     "name": "stderr",
     "output_type": "stream",
     "text": [
      " 77%|███████▋  | 5065/6611 [25:00<07:37,  3.38it/s]"
     ]
    },
    {
     "name": "stdout",
     "output_type": "stream",
     "text": [
      "disk> vineyard_split_3_frame_1465.png-vineyard_split_3_frame_1470.png: 1829 matches @ 129th pair(disk+lightglue)\n"
     ]
    },
    {
     "name": "stderr",
     "output_type": "stream",
     "text": [
      " 77%|███████▋  | 5118/6611 [25:16<07:23,  3.37it/s]"
     ]
    },
    {
     "name": "stdout",
     "output_type": "stream",
     "text": [
      "disk> vineyard_split_3_frame_1525.png-vineyard_split_3_frame_1530.png: 3434 matches @ 130th pair(disk+lightglue)\n"
     ]
    },
    {
     "name": "stderr",
     "output_type": "stream",
     "text": [
      " 78%|███████▊  | 5153/6611 [25:26<07:12,  3.37it/s]"
     ]
    },
    {
     "name": "stdout",
     "output_type": "stream",
     "text": [
      "disk> vineyard_split_3_frame_0110.png-vineyard_split_3_frame_0100.png: 1684 matches @ 131th pair(disk+lightglue)\n"
     ]
    },
    {
     "name": "stderr",
     "output_type": "stream",
     "text": [
      " 78%|███████▊  | 5165/6611 [25:29<07:09,  3.37it/s]"
     ]
    },
    {
     "name": "stdout",
     "output_type": "stream",
     "text": [
      "disk> vineyard_split_3_frame_0110.png-vineyard_split_3_frame_0115.png: 4298 matches @ 132th pair(disk+lightglue)\n"
     ]
    },
    {
     "name": "stderr",
     "output_type": "stream",
     "text": [
      " 79%|███████▊  | 5197/6611 [25:39<06:59,  3.37it/s]"
     ]
    },
    {
     "name": "stdout",
     "output_type": "stream",
     "text": [
      "disk> vineyard_split_3_frame_0195.png-vineyard_split_3_frame_0200.png: 3534 matches @ 133th pair(disk+lightglue)\n"
     ]
    },
    {
     "name": "stderr",
     "output_type": "stream",
     "text": [
      " 79%|███████▉  | 5228/6611 [25:48<06:50,  3.37it/s]"
     ]
    },
    {
     "name": "stdout",
     "output_type": "stream",
     "text": [
      "disk> vineyard_split_3_frame_1570.png-vineyard_split_3_frame_1560.png: 672 matches @ 134th pair(disk+lightglue)\n"
     ]
    },
    {
     "name": "stderr",
     "output_type": "stream",
     "text": [
      " 79%|███████▉  | 5241/6611 [25:52<06:46,  3.37it/s]"
     ]
    },
    {
     "name": "stdout",
     "output_type": "stream",
     "text": [
      "disk> vineyard_split_3_frame_1570.png-vineyard_split_3_frame_1565.png: 3816 matches @ 135th pair(disk+lightglue)\n"
     ]
    },
    {
     "name": "stderr",
     "output_type": "stream",
     "text": [
      " 80%|███████▉  | 5278/6611 [26:03<06:34,  3.38it/s]"
     ]
    },
    {
     "name": "stdout",
     "output_type": "stream",
     "text": [
      "disk> vineyard_split_3_frame_0210.png-vineyard_split_3_frame_0220.png: 2144 matches @ 136th pair(disk+lightglue)\n"
     ]
    },
    {
     "name": "stderr",
     "output_type": "stream",
     "text": [
      " 80%|███████▉  | 5279/6611 [26:03<06:34,  3.38it/s]"
     ]
    },
    {
     "name": "stdout",
     "output_type": "stream",
     "text": [
      "disk> vineyard_split_3_frame_0210.png-vineyard_split_3_frame_0200.png: 1470 matches @ 137th pair(disk+lightglue)\n"
     ]
    },
    {
     "name": "stderr",
     "output_type": "stream",
     "text": [
      " 81%|████████  | 5328/6611 [26:18<06:19,  3.38it/s]"
     ]
    },
    {
     "name": "stdout",
     "output_type": "stream",
     "text": [
      "disk> vineyard_split_3_frame_0100.png-vineyard_split_3_frame_0095.png: 3417 matches @ 138th pair(disk+lightglue)\n"
     ]
    },
    {
     "name": "stderr",
     "output_type": "stream",
     "text": [
      " 81%|████████  | 5347/6611 [26:23<06:15,  3.37it/s]"
     ]
    },
    {
     "name": "stdout",
     "output_type": "stream",
     "text": [
      "disk> vineyard_split_3_frame_1560.png-vineyard_split_3_frame_1565.png: 3644 matches @ 139th pair(disk+lightglue)\n"
     ]
    },
    {
     "name": "stderr",
     "output_type": "stream",
     "text": [
      " 81%|████████▏ | 5373/6611 [26:31<06:06,  3.37it/s]"
     ]
    },
    {
     "name": "stdout",
     "output_type": "stream",
     "text": [
      "disk> vineyard_split_3_frame_1430.png-vineyard_split_3_frame_1435.png: 3149 matches @ 140th pair(disk+lightglue)\n"
     ]
    },
    {
     "name": "stderr",
     "output_type": "stream",
     "text": [
      " 82%|████████▏ | 5389/6611 [26:36<06:01,  3.38it/s]"
     ]
    },
    {
     "name": "stdout",
     "output_type": "stream",
     "text": [
      "disk> vineyard_split_3_frame_0245.png-vineyard_split_3_frame_0240.png: 4080 matches @ 141th pair(disk+lightglue)\n"
     ]
    },
    {
     "name": "stderr",
     "output_type": "stream",
     "text": [
      " 82%|████████▏ | 5437/6611 [26:50<05:47,  3.38it/s]"
     ]
    },
    {
     "name": "stdout",
     "output_type": "stream",
     "text": [
      "disk> vineyard_split_3_frame_0220.png-vineyard_split_3_frame_0230.png: 524 matches @ 142th pair(disk+lightglue)\n"
     ]
    },
    {
     "name": "stderr",
     "output_type": "stream",
     "text": [
      " 83%|████████▎ | 5484/6611 [27:04<05:34,  3.37it/s]"
     ]
    },
    {
     "name": "stdout",
     "output_type": "stream",
     "text": [
      "disk> vineyard_split_3_frame_1440.png-vineyard_split_3_frame_1435.png: 2690 matches @ 143th pair(disk+lightglue)\n"
     ]
    },
    {
     "name": "stderr",
     "output_type": "stream",
     "text": [
      " 84%|████████▎ | 5525/6611 [27:16<05:21,  3.38it/s]"
     ]
    },
    {
     "name": "stdout",
     "output_type": "stream",
     "text": [
      "disk> vineyard_split_3_frame_0240.png-vineyard_split_3_frame_0230.png: 1709 matches @ 144th pair(disk+lightglue)\n"
     ]
    },
    {
     "name": "stderr",
     "output_type": "stream",
     "text": [
      " 85%|████████▌ | 5628/6611 [27:47<04:50,  3.38it/s]"
     ]
    },
    {
     "name": "stdout",
     "output_type": "stream",
     "text": [
      "disk> vineyard_split_3_frame_0165.png-vineyard_split_3_frame_0155.png: 1846 matches @ 145th pair(disk+lightglue)\n"
     ]
    },
    {
     "name": "stderr",
     "output_type": "stream",
     "text": [
      " 86%|████████▋ | 5717/6611 [28:13<04:25,  3.37it/s]"
     ]
    },
    {
     "name": "stdout",
     "output_type": "stream",
     "text": [
      "disk> vineyard_split_3_frame_1415.png-vineyard_split_3_frame_1420.png: 3826 matches @ 146th pair(disk+lightglue)\n"
     ]
    },
    {
     "name": "stderr",
     "output_type": "stream",
     "text": [
      " 89%|████████▉ | 5883/6611 [29:02<03:34,  3.39it/s]"
     ]
    },
    {
     "name": "stdout",
     "output_type": "stream",
     "text": [
      "disk> vineyard_split_3_frame_0085.png-vineyard_split_3_frame_0095.png: 2319 matches @ 147th pair(disk+lightglue)\n"
     ]
    },
    {
     "name": "stderr",
     "output_type": "stream",
     "text": [
      " 92%|█████████▏| 6058/6611 [29:54<02:43,  3.37it/s]"
     ]
    },
    {
     "name": "stdout",
     "output_type": "stream",
     "text": [
      "disk> vineyard_split_1_frame_1005.png-vineyard_split_1_frame_0995.png: 1223 matches @ 148th pair(disk+lightglue)\n"
     ]
    },
    {
     "name": "stderr",
     "output_type": "stream",
     "text": [
      " 92%|█████████▏| 6071/6611 [29:58<02:40,  3.37it/s]"
     ]
    },
    {
     "name": "stdout",
     "output_type": "stream",
     "text": [
      "disk> vineyard_split_1_frame_0915.png-vineyard_split_1_frame_0905.png: 488 matches @ 149th pair(disk+lightglue)\n"
     ]
    },
    {
     "name": "stderr",
     "output_type": "stream",
     "text": [
      " 92%|█████████▏| 6076/6611 [29:59<02:38,  3.38it/s]"
     ]
    },
    {
     "name": "stdout",
     "output_type": "stream",
     "text": [
      "disk> vineyard_split_1_frame_0915.png-vineyard_split_1_frame_0910.png: 4846 matches @ 150th pair(disk+lightglue)\n"
     ]
    },
    {
     "name": "stderr",
     "output_type": "stream",
     "text": [
      " 92%|█████████▏| 6081/6611 [30:01<02:37,  3.37it/s]"
     ]
    },
    {
     "name": "stdout",
     "output_type": "stream",
     "text": [
      "disk> vineyard_split_1_frame_0915.png-vineyard_split_1_frame_0920.png: 2762 matches @ 151th pair(disk+lightglue)\n"
     ]
    },
    {
     "name": "stderr",
     "output_type": "stream",
     "text": [
      " 92%|█████████▏| 6102/6611 [30:07<02:31,  3.36it/s]"
     ]
    },
    {
     "name": "stdout",
     "output_type": "stream",
     "text": [
      "disk> vineyard_split_1_frame_1070.png-vineyard_split_1_frame_1065.png: 2535 matches @ 152th pair(disk+lightglue)\n"
     ]
    },
    {
     "name": "stderr",
     "output_type": "stream",
     "text": [
      " 92%|█████████▏| 6105/6611 [30:08<02:30,  3.37it/s]"
     ]
    },
    {
     "name": "stdout",
     "output_type": "stream",
     "text": [
      "disk> vineyard_split_1_frame_1070.png-vineyard_split_1_frame_1080.png: 231 matches @ 153th pair(disk+lightglue)\n"
     ]
    },
    {
     "name": "stderr",
     "output_type": "stream",
     "text": [
      " 92%|█████████▏| 6113/6611 [30:10<02:27,  3.37it/s]"
     ]
    },
    {
     "name": "stdout",
     "output_type": "stream",
     "text": [
      "disk> vineyard_split_1_frame_1070.png-vineyard_split_1_frame_1075.png: 2525 matches @ 154th pair(disk+lightglue)\n"
     ]
    },
    {
     "name": "stderr",
     "output_type": "stream",
     "text": [
      " 93%|█████████▎| 6138/6611 [30:18<02:20,  3.37it/s]"
     ]
    },
    {
     "name": "stdout",
     "output_type": "stream",
     "text": [
      "disk> vineyard_split_1_frame_1015.png-vineyard_split_1_frame_1020.png: 3859 matches @ 155th pair(disk+lightglue)\n"
     ]
    },
    {
     "name": "stderr",
     "output_type": "stream",
     "text": [
      " 93%|█████████▎| 6144/6611 [30:19<02:18,  3.37it/s]"
     ]
    },
    {
     "name": "stdout",
     "output_type": "stream",
     "text": [
      "disk> vineyard_split_1_frame_1015.png-vineyard_split_1_frame_1010.png: 2597 matches @ 156th pair(disk+lightglue)\n"
     ]
    },
    {
     "name": "stderr",
     "output_type": "stream",
     "text": [
      " 93%|█████████▎| 6168/6611 [30:26<02:11,  3.38it/s]"
     ]
    },
    {
     "name": "stdout",
     "output_type": "stream",
     "text": [
      "disk> vineyard_split_1_frame_0990.png-vineyard_split_1_frame_1000.png: 433 matches @ 157th pair(disk+lightglue)\n"
     ]
    },
    {
     "name": "stderr",
     "output_type": "stream",
     "text": [
      " 93%|█████████▎| 6177/6611 [30:29<02:08,  3.37it/s]"
     ]
    },
    {
     "name": "stdout",
     "output_type": "stream",
     "text": [
      "disk> vineyard_split_1_frame_0990.png-vineyard_split_1_frame_0985.png: 3935 matches @ 158th pair(disk+lightglue)\n"
     ]
    },
    {
     "name": "stderr",
     "output_type": "stream",
     "text": [
      " 94%|█████████▎| 6190/6611 [30:33<02:04,  3.37it/s]"
     ]
    },
    {
     "name": "stdout",
     "output_type": "stream",
     "text": [
      "disk> vineyard_split_1_frame_1055.png-vineyard_split_1_frame_1065.png: 132 matches @ 159th pair(disk+lightglue)\n"
     ]
    },
    {
     "name": "stderr",
     "output_type": "stream",
     "text": [
      " 94%|█████████▎| 6192/6611 [30:34<02:04,  3.38it/s]"
     ]
    },
    {
     "name": "stdout",
     "output_type": "stream",
     "text": [
      "disk> vineyard_split_1_frame_1055.png-vineyard_split_1_frame_1045.png: 726 matches @ 160th pair(disk+lightglue)\n"
     ]
    },
    {
     "name": "stderr",
     "output_type": "stream",
     "text": [
      " 94%|█████████▍| 6210/6611 [30:39<01:59,  3.37it/s]"
     ]
    },
    {
     "name": "stdout",
     "output_type": "stream",
     "text": [
      "disk> vineyard_split_1_frame_1055.png-vineyard_split_1_frame_1050.png: 3583 matches @ 161th pair(disk+lightglue)\n"
     ]
    },
    {
     "name": "stderr",
     "output_type": "stream",
     "text": [
      " 94%|█████████▍| 6213/6611 [30:40<01:58,  3.37it/s]"
     ]
    },
    {
     "name": "stdout",
     "output_type": "stream",
     "text": [
      "disk> vineyard_split_1_frame_0965.png-vineyard_split_1_frame_0960.png: 2809 matches @ 162th pair(disk+lightglue)\n"
     ]
    },
    {
     "name": "stderr",
     "output_type": "stream",
     "text": [
      " 94%|█████████▍| 6233/6611 [30:46<01:52,  3.37it/s]"
     ]
    },
    {
     "name": "stdout",
     "output_type": "stream",
     "text": [
      "disk> vineyard_split_1_frame_0935.png-vineyard_split_1_frame_0940.png: 3794 matches @ 163th pair(disk+lightglue)\n"
     ]
    },
    {
     "name": "stderr",
     "output_type": "stream",
     "text": [
      " 94%|█████████▍| 6238/6611 [30:47<01:50,  3.37it/s]"
     ]
    },
    {
     "name": "stdout",
     "output_type": "stream",
     "text": [
      "disk> vineyard_split_1_frame_0935.png-vineyard_split_1_frame_0925.png: 1980 matches @ 164th pair(disk+lightglue)\n"
     ]
    },
    {
     "name": "stderr",
     "output_type": "stream",
     "text": [
      " 95%|█████████▍| 6250/6611 [30:51<01:47,  3.37it/s]"
     ]
    },
    {
     "name": "stdout",
     "output_type": "stream",
     "text": [
      "disk> vineyard_split_1_frame_0970.png-vineyard_split_1_frame_0980.png: 2014 matches @ 165th pair(disk+lightglue)\n"
     ]
    },
    {
     "name": "stderr",
     "output_type": "stream",
     "text": [
      " 95%|█████████▍| 6268/6611 [30:56<01:42,  3.36it/s]"
     ]
    },
    {
     "name": "stdout",
     "output_type": "stream",
     "text": [
      "disk> vineyard_split_1_frame_0970.png-vineyard_split_1_frame_0975.png: 3841 matches @ 166th pair(disk+lightglue)\n"
     ]
    },
    {
     "name": "stderr",
     "output_type": "stream",
     "text": [
      " 95%|█████████▍| 6271/6611 [30:57<01:40,  3.37it/s]"
     ]
    },
    {
     "name": "stdout",
     "output_type": "stream",
     "text": [
      "disk> vineyard_split_1_frame_0960.png-vineyard_split_1_frame_0955.png: 3722 matches @ 167th pair(disk+lightglue)\n"
     ]
    },
    {
     "name": "stderr",
     "output_type": "stream",
     "text": [
      " 95%|█████████▌| 6293/6611 [31:03<01:34,  3.37it/s]"
     ]
    },
    {
     "name": "stdout",
     "output_type": "stream",
     "text": [
      "disk> vineyard_split_1_frame_1095.png-vineyard_split_1_frame_1110.png: 649 matches @ 168th pair(disk+lightglue)\n"
     ]
    },
    {
     "name": "stderr",
     "output_type": "stream",
     "text": [
      " 95%|█████████▌| 6297/6611 [31:05<01:32,  3.38it/s]"
     ]
    },
    {
     "name": "stdout",
     "output_type": "stream",
     "text": [
      "disk> vineyard_split_1_frame_1095.png-vineyard_split_1_frame_1100.png: 4066 matches @ 169th pair(disk+lightglue)\n"
     ]
    },
    {
     "name": "stderr",
     "output_type": "stream",
     "text": [
      " 95%|█████████▌| 6302/6611 [31:06<01:31,  3.37it/s]"
     ]
    },
    {
     "name": "stdout",
     "output_type": "stream",
     "text": [
      "disk> vineyard_split_1_frame_1095.png-vineyard_split_1_frame_1105.png: 3071 matches @ 170th pair(disk+lightglue)\n"
     ]
    },
    {
     "name": "stderr",
     "output_type": "stream",
     "text": [
      " 95%|█████████▌| 6310/6611 [31:09<01:29,  3.38it/s]"
     ]
    },
    {
     "name": "stdout",
     "output_type": "stream",
     "text": [
      "disk> vineyard_split_1_frame_0945.png-vineyard_split_1_frame_0955.png: 1307 matches @ 171th pair(disk+lightglue)\n"
     ]
    },
    {
     "name": "stderr",
     "output_type": "stream",
     "text": [
      " 96%|█████████▌| 6321/6611 [31:12<01:25,  3.37it/s]"
     ]
    },
    {
     "name": "stdout",
     "output_type": "stream",
     "text": [
      "disk> vineyard_split_1_frame_0945.png-vineyard_split_1_frame_0940.png: 3001 matches @ 172th pair(disk+lightglue)\n"
     ]
    },
    {
     "name": "stderr",
     "output_type": "stream",
     "text": [
      " 96%|█████████▌| 6342/6611 [31:18<01:19,  3.38it/s]"
     ]
    },
    {
     "name": "stdout",
     "output_type": "stream",
     "text": [
      "disk> vineyard_split_1_frame_0905.png-vineyard_split_1_frame_0910.png: 3609 matches @ 173th pair(disk+lightglue)\n"
     ]
    },
    {
     "name": "stderr",
     "output_type": "stream",
     "text": [
      " 96%|█████████▌| 6347/6611 [31:19<01:18,  3.37it/s]"
     ]
    },
    {
     "name": "stdout",
     "output_type": "stream",
     "text": [
      "disk> vineyard_split_1_frame_0905.png-vineyard_split_1_frame_0900.png: 2966 matches @ 174th pair(disk+lightglue)\n"
     ]
    },
    {
     "name": "stderr",
     "output_type": "stream",
     "text": [
      " 96%|█████████▌| 6357/6611 [31:22<01:15,  3.37it/s]"
     ]
    },
    {
     "name": "stdout",
     "output_type": "stream",
     "text": [
      "disk> vineyard_split_1_frame_1085.png-vineyard_split_1_frame_1090.png: 3370 matches @ 175th pair(disk+lightglue)\n"
     ]
    },
    {
     "name": "stderr",
     "output_type": "stream",
     "text": [
      " 97%|█████████▋| 6414/6611 [31:39<00:58,  3.37it/s]"
     ]
    },
    {
     "name": "stdout",
     "output_type": "stream",
     "text": [
      "disk> vineyard_split_1_frame_0980.png-vineyard_split_1_frame_0985.png: 3799 matches @ 176th pair(disk+lightglue)\n"
     ]
    },
    {
     "name": "stderr",
     "output_type": "stream",
     "text": [
      " 97%|█████████▋| 6418/6611 [31:41<00:57,  3.37it/s]"
     ]
    },
    {
     "name": "stdout",
     "output_type": "stream",
     "text": [
      "disk> vineyard_split_1_frame_0980.png-vineyard_split_1_frame_0975.png: 4344 matches @ 177th pair(disk+lightglue)\n"
     ]
    },
    {
     "name": "stderr",
     "output_type": "stream",
     "text": [
      " 97%|█████████▋| 6420/6611 [31:41<00:56,  3.36it/s]"
     ]
    },
    {
     "name": "stdout",
     "output_type": "stream",
     "text": [
      "disk> vineyard_split_1_frame_1045.png-vineyard_split_1_frame_1040.png: 3461 matches @ 178th pair(disk+lightglue)\n"
     ]
    },
    {
     "name": "stderr",
     "output_type": "stream",
     "text": [
      " 97%|█████████▋| 6424/6611 [31:42<00:55,  3.37it/s]"
     ]
    },
    {
     "name": "stdout",
     "output_type": "stream",
     "text": [
      "disk> vineyard_split_1_frame_1045.png-vineyard_split_1_frame_1035.png: 1851 matches @ 179th pair(disk+lightglue)\n"
     ]
    },
    {
     "name": "stderr",
     "output_type": "stream",
     "text": [
      " 97%|█████████▋| 6435/6611 [31:46<00:52,  3.37it/s]"
     ]
    },
    {
     "name": "stdout",
     "output_type": "stream",
     "text": [
      "disk> vineyard_split_1_frame_1045.png-vineyard_split_1_frame_1050.png: 2660 matches @ 180th pair(disk+lightglue)\n"
     ]
    },
    {
     "name": "stderr",
     "output_type": "stream",
     "text": [
      " 97%|█████████▋| 6445/6611 [31:49<00:49,  3.37it/s]"
     ]
    },
    {
     "name": "stdout",
     "output_type": "stream",
     "text": [
      "disk> vineyard_split_1_frame_1080.png-vineyard_split_1_frame_1075.png: 3132 matches @ 181th pair(disk+lightglue)\n"
     ]
    },
    {
     "name": "stderr",
     "output_type": "stream",
     "text": [
      " 98%|█████████▊| 6459/6611 [31:53<00:45,  3.38it/s]"
     ]
    },
    {
     "name": "stdout",
     "output_type": "stream",
     "text": [
      "disk> vineyard_split_1_frame_1040.png-vineyard_split_1_frame_1035.png: 3745 matches @ 182th pair(disk+lightglue)\n"
     ]
    },
    {
     "name": "stderr",
     "output_type": "stream",
     "text": [
      " 98%|█████████▊| 6468/6611 [31:55<00:42,  3.37it/s]"
     ]
    },
    {
     "name": "stdout",
     "output_type": "stream",
     "text": [
      "disk> vineyard_split_1_frame_1040.png-vineyard_split_1_frame_1030.png: 1007 matches @ 183th pair(disk+lightglue)\n"
     ]
    },
    {
     "name": "stderr",
     "output_type": "stream",
     "text": [
      " 98%|█████████▊| 6475/6611 [31:57<00:40,  3.37it/s]"
     ]
    },
    {
     "name": "stdout",
     "output_type": "stream",
     "text": [
      "disk> vineyard_split_1_frame_1110.png-vineyard_split_1_frame_1100.png: 3349 matches @ 184th pair(disk+lightglue)\n"
     ]
    },
    {
     "name": "stderr",
     "output_type": "stream",
     "text": [
      " 98%|█████████▊| 6480/6611 [31:59<00:38,  3.36it/s]"
     ]
    },
    {
     "name": "stdout",
     "output_type": "stream",
     "text": [
      "disk> vineyard_split_1_frame_1110.png-vineyard_split_1_frame_1105.png: 3678 matches @ 185th pair(disk+lightglue)\n"
     ]
    },
    {
     "name": "stderr",
     "output_type": "stream",
     "text": [
      " 98%|█████████▊| 6492/6611 [32:02<00:35,  3.37it/s]"
     ]
    },
    {
     "name": "stdout",
     "output_type": "stream",
     "text": [
      "disk> vineyard_split_1_frame_1020.png-vineyard_split_1_frame_1010.png: 260 matches @ 186th pair(disk+lightglue)\n"
     ]
    },
    {
     "name": "stderr",
     "output_type": "stream",
     "text": [
      " 98%|█████████▊| 6497/6611 [32:04<00:33,  3.36it/s]"
     ]
    },
    {
     "name": "stdout",
     "output_type": "stream",
     "text": [
      "disk> vineyard_split_1_frame_1020.png-vineyard_split_1_frame_1030.png: 964 matches @ 187th pair(disk+lightglue)\n"
     ]
    },
    {
     "name": "stderr",
     "output_type": "stream",
     "text": [
      " 98%|█████████▊| 6498/6611 [32:04<00:33,  3.36it/s]"
     ]
    },
    {
     "name": "stdout",
     "output_type": "stream",
     "text": [
      "disk> vineyard_split_1_frame_1020.png-vineyard_split_1_frame_1025.png: 2290 matches @ 188th pair(disk+lightglue)\n"
     ]
    },
    {
     "name": "stderr",
     "output_type": "stream",
     "text": [
      " 99%|█████████▊| 6526/6611 [32:13<00:25,  3.36it/s]"
     ]
    },
    {
     "name": "stdout",
     "output_type": "stream",
     "text": [
      "disk> vineyard_split_1_frame_1035.png-vineyard_split_1_frame_1030.png: 3460 matches @ 189th pair(disk+lightglue)\n"
     ]
    },
    {
     "name": "stderr",
     "output_type": "stream",
     "text": [
      " 99%|█████████▉| 6532/6611 [32:14<00:23,  3.37it/s]"
     ]
    },
    {
     "name": "stdout",
     "output_type": "stream",
     "text": [
      "disk> vineyard_split_1_frame_0910.png-vineyard_split_1_frame_0920.png: 1291 matches @ 190th pair(disk+lightglue)\n"
     ]
    },
    {
     "name": "stderr",
     "output_type": "stream",
     "text": [
      " 99%|█████████▉| 6537/6611 [32:16<00:22,  3.36it/s]"
     ]
    },
    {
     "name": "stdout",
     "output_type": "stream",
     "text": [
      "disk> vineyard_split_1_frame_1100.png-vineyard_split_1_frame_1105.png: 4440 matches @ 191th pair(disk+lightglue)\n"
     ]
    },
    {
     "name": "stderr",
     "output_type": "stream",
     "text": [
      " 99%|█████████▉| 6544/6611 [32:18<00:19,  3.37it/s]"
     ]
    },
    {
     "name": "stdout",
     "output_type": "stream",
     "text": [
      "disk> vineyard_split_1_frame_1100.png-vineyard_split_1_frame_1090.png: 171 matches @ 192th pair(disk+lightglue)\n"
     ]
    },
    {
     "name": "stderr",
     "output_type": "stream",
     "text": [
      "100%|█████████▉| 6586/6611 [32:30<00:07,  3.39it/s]"
     ]
    },
    {
     "name": "stdout",
     "output_type": "stream",
     "text": [
      "disk> vineyard_split_1_frame_0925.png-vineyard_split_1_frame_0930.png: 3813 matches @ 193th pair(disk+lightglue)\n"
     ]
    },
    {
     "name": "stderr",
     "output_type": "stream",
     "text": [
      "100%|█████████▉| 6589/6611 [32:31<00:06,  3.37it/s]"
     ]
    },
    {
     "name": "stdout",
     "output_type": "stream",
     "text": [
      "disk> vineyard_split_1_frame_0925.png-vineyard_split_1_frame_0920.png: 2969 matches @ 194th pair(disk+lightglue)\n"
     ]
    },
    {
     "name": "stderr",
     "output_type": "stream",
     "text": [
      "100%|█████████▉| 6596/6611 [32:33<00:04,  3.38it/s]"
     ]
    },
    {
     "name": "stdout",
     "output_type": "stream",
     "text": [
      "disk> vineyard_split_1_frame_0985.png-vineyard_split_1_frame_0975.png: 2174 matches @ 195th pair(disk+lightglue)\n"
     ]
    },
    {
     "name": "stderr",
     "output_type": "stream",
     "text": [
      "100%|█████████▉| 6599/6611 [32:34<00:03,  3.36it/s]"
     ]
    },
    {
     "name": "stdout",
     "output_type": "stream",
     "text": [
      "disk> vineyard_split_1_frame_1030.png-vineyard_split_1_frame_1025.png: 4161 matches @ 196th pair(disk+lightglue)\n"
     ]
    },
    {
     "name": "stderr",
     "output_type": "stream",
     "text": [
      "100%|██████████| 6611/6611 [32:38<00:00,  3.38it/s]\n"
     ]
    },
    {
     "name": "stdout",
     "output_type": "stream",
     "text": [
      "Features matched in  1985.2111 sec (disk+LightGlue)\n"
     ]
    },
    {
     "data": {
      "text/html": [
       "\n",
       "<style>\n",
       "    /* Turns off some styling */\n",
       "    progress {\n",
       "        /* gets rid of default border in Firefox and Opera. */\n",
       "        border: none;\n",
       "        /* Needs to be in here for Safari polyfill so background images work as expected. */\n",
       "        background-size: auto;\n",
       "    }\n",
       "    progress:not([value]), progress:not([value])::-webkit-progress-bar {\n",
       "        background: repeating-linear-gradient(45deg, #7e7e7e, #7e7e7e 10px, #5c5c5c 10px, #5c5c5c 20px);\n",
       "    }\n",
       "    .progress-bar-interrupted, .progress-bar-interrupted::-webkit-progress-bar {\n",
       "        background: #F44336;\n",
       "    }\n",
       "</style>\n"
      ],
      "text/plain": [
       "<IPython.core.display.HTML object>"
      ]
     },
     "metadata": {},
     "output_type": "display_data"
    },
    {
     "data": {
      "text/html": [
       "\n",
       "    <div>\n",
       "      <progress value='6611' class='' max='6611' style='width:300px; height:20px; vertical-align: middle;'></progress>\n",
       "      100.00% [6611/6611 00:08&lt;00:00]\n",
       "    </div>\n",
       "    "
      ],
      "text/plain": [
       "<IPython.core.display.HTML object>"
      ]
     },
     "metadata": {},
     "output_type": "display_data"
    },
    {
     "name": "stdout",
     "output_type": "stream",
     "text": [
      "filter_FundamentalMatrix: 100 matches --> 96 matches\n",
      "vineyard_split_2_frame_1260.png-vineyard_split_2_frame_1225.png: 100 --> 96 matches\n",
      "filter_FundamentalMatrix: 5757 matches --> 5756 matches\n",
      "vineyard_split_2_frame_1260.png-vineyard_split_2_frame_1255.png: 5757 --> 5756 matches\n",
      "filter_FundamentalMatrix: 640 matches --> 639 matches\n",
      "vineyard_split_2_frame_1260.png-vineyard_split_2_frame_1250.png: 640 --> 639 matches\n",
      "filter_FundamentalMatrix: 5138 matches --> 5136 matches\n",
      "vineyard_split_2_frame_1260.png-vineyard_split_2_frame_1265.png: 5138 --> 5136 matches\n",
      "filter_FundamentalMatrix: 6479 matches --> 6473 matches\n",
      "vineyard_split_2_frame_1225.png-vineyard_split_2_frame_1220.png: 6479 --> 6473 matches\n",
      "filter_FundamentalMatrix: 135 matches --> 134 matches\n",
      "vineyard_split_2_frame_1225.png-vineyard_split_2_frame_1165.png: 135 --> 134 matches\n",
      "filter_FundamentalMatrix: 141 matches --> 141 matches\n",
      "vineyard_split_2_frame_1225.png-vineyard_split_2_frame_1285.png: 141 --> 141 matches\n",
      "filter_FundamentalMatrix: 444 matches --> 442 matches\n",
      "vineyard_split_2_frame_1225.png-vineyard_split_2_frame_1235.png: 444 --> 442 matches\n",
      "filter_FundamentalMatrix: 3817 matches --> 3814 matches\n",
      "vineyard_split_2_frame_1225.png-vineyard_split_2_frame_1230.png: 3817 --> 3814 matches\n",
      "filter_FundamentalMatrix: 450 matches --> 447 matches\n",
      "vineyard_split_2_frame_1225.png-vineyard_split_2_frame_1215.png: 450 --> 447 matches\n",
      "filter_FundamentalMatrix: 4587 matches --> 4578 matches\n",
      "vineyard_split_2_frame_1245.png-vineyard_split_2_frame_1240.png: 4587 --> 4578 matches\n",
      "filter_FundamentalMatrix: 435 matches --> 435 matches\n",
      "vineyard_split_2_frame_1245.png-vineyard_split_2_frame_1255.png: 435 --> 435 matches\n",
      "filter_FundamentalMatrix: 102 matches --> 84 matches\n",
      "vineyard_split_2_frame_1245.png-vineyard_split_2_frame_1195.png: 102 --> 84 matches\n",
      "filter_FundamentalMatrix: 4639 matches --> 4637 matches\n",
      "vineyard_split_2_frame_1245.png-vineyard_split_2_frame_1250.png: 4639 --> 4637 matches\n",
      "filter_FundamentalMatrix: 578 matches --> 575 matches\n",
      "vineyard_split_2_frame_1245.png-vineyard_split_2_frame_1235.png: 578 --> 575 matches\n",
      "filter_FundamentalMatrix: 151 matches --> 146 matches\n",
      "vineyard_split_2_frame_1245.png-vineyard_split_2_frame_1230.png: 151 --> 146 matches\n",
      "filter_FundamentalMatrix: 392 matches --> 392 matches\n",
      "vineyard_split_2_frame_1320.png-vineyard_split_2_frame_1305.png: 392 --> 392 matches\n",
      "filter_FundamentalMatrix: 4620 matches --> 4612 matches\n",
      "vineyard_split_2_frame_1320.png-vineyard_split_2_frame_1315.png: 4620 --> 4612 matches\n",
      "filter_FundamentalMatrix: 50 matches --> 30 matches\n",
      "vineyard_split_2_frame_1320.png-vineyard_split_3_frame_1400.png: 50 --> 30 matches\n",
      "filter_FundamentalMatrix: 3682 matches --> 3672 matches\n",
      "vineyard_split_2_frame_1205.png-vineyard_split_2_frame_1200.png: 3682 --> 3672 matches\n",
      "filter_FundamentalMatrix: 193 matches --> 193 matches\n",
      "vineyard_split_2_frame_1205.png-vineyard_split_2_frame_1220.png: 193 --> 193 matches\n",
      "filter_FundamentalMatrix: 582 matches --> 581 matches\n",
      "vineyard_split_2_frame_1205.png-vineyard_split_2_frame_1195.png: 582 --> 581 matches\n",
      "filter_FundamentalMatrix: 6138 matches --> 6137 matches\n",
      "vineyard_split_2_frame_1205.png-vineyard_split_2_frame_1210.png: 6138 --> 6137 matches\n",
      "filter_FundamentalMatrix: 1229 matches --> 1221 matches\n",
      "vineyard_split_2_frame_1205.png-vineyard_split_2_frame_1215.png: 1229 --> 1221 matches\n",
      "filter_FundamentalMatrix: 256 matches --> 249 matches\n",
      "vineyard_split_2_frame_1240.png-vineyard_split_2_frame_1200.png: 256 --> 249 matches\n",
      "filter_FundamentalMatrix: 103 matches --> 99 matches\n",
      "vineyard_split_2_frame_1240.png-vineyard_split_2_frame_1255.png: 103 --> 99 matches\n",
      "filter_FundamentalMatrix: 129 matches --> 122 matches\n",
      "vineyard_split_2_frame_1240.png-vineyard_split_2_frame_1155.png: 129 --> 122 matches\n",
      "filter_FundamentalMatrix: 462 matches --> 461 matches\n",
      "vineyard_split_2_frame_1240.png-vineyard_split_2_frame_1250.png: 462 --> 461 matches\n",
      "filter_FundamentalMatrix: 5652 matches --> 5646 matches\n",
      "vineyard_split_2_frame_1240.png-vineyard_split_2_frame_1235.png: 5652 --> 5646 matches\n",
      "filter_FundamentalMatrix: 1740 matches --> 1730 matches\n",
      "vineyard_split_2_frame_1240.png-vineyard_split_2_frame_1230.png: 1740 --> 1730 matches\n",
      "filter_FundamentalMatrix: 57 matches --> 33 matches\n",
      "vineyard_split_2_frame_1240.png-vineyard_split_1_frame_1065.png: 57 --> 33 matches\n",
      "filter_FundamentalMatrix: 2148 matches --> 2146 matches\n",
      "vineyard_split_2_frame_1170.png-vineyard_split_2_frame_1180.png: 2148 --> 2146 matches\n",
      "filter_FundamentalMatrix: 5418 matches --> 5411 matches\n",
      "vineyard_split_2_frame_1170.png-vineyard_split_2_frame_1165.png: 5418 --> 5411 matches\n",
      "filter_FundamentalMatrix: 740 matches --> 735 matches\n",
      "vineyard_split_2_frame_1170.png-vineyard_split_2_frame_1160.png: 740 --> 735 matches\n",
      "filter_FundamentalMatrix: 191 matches --> 188 matches\n",
      "vineyard_split_2_frame_1170.png-vineyard_split_2_frame_1155.png: 191 --> 188 matches\n",
      "filter_FundamentalMatrix: 6896 matches --> 6894 matches\n",
      "vineyard_split_2_frame_1170.png-vineyard_split_2_frame_1175.png: 6896 --> 6894 matches\n",
      "filter_FundamentalMatrix: 1366 matches --> 1366 matches\n",
      "vineyard_split_2_frame_1300.png-vineyard_split_2_frame_1290.png: 1366 --> 1366 matches\n",
      "filter_FundamentalMatrix: 865 matches --> 865 matches\n",
      "vineyard_split_2_frame_1300.png-vineyard_split_2_frame_1310.png: 865 --> 865 matches\n",
      "filter_FundamentalMatrix: 5620 matches --> 5612 matches\n",
      "vineyard_split_2_frame_1300.png-vineyard_split_2_frame_1305.png: 5620 --> 5612 matches\n",
      "filter_FundamentalMatrix: 159 matches --> 151 matches\n",
      "vineyard_split_2_frame_1300.png-vineyard_split_3_frame_1465.png: 159 --> 151 matches\n",
      "filter_FundamentalMatrix: 111 matches --> 110 matches\n",
      "vineyard_split_2_frame_1300.png-vineyard_split_3_frame_1460.png: 111 --> 110 matches\n",
      "filter_FundamentalMatrix: 5940 matches --> 5938 matches\n",
      "vineyard_split_2_frame_1290.png-vineyard_split_2_frame_1295.png: 5940 --> 5938 matches\n",
      "filter_FundamentalMatrix: 239 matches --> 237 matches\n",
      "vineyard_split_2_frame_1290.png-vineyard_split_2_frame_1305.png: 239 --> 237 matches\n",
      "filter_FundamentalMatrix: 3552 matches --> 3548 matches\n",
      "vineyard_split_2_frame_1290.png-vineyard_split_2_frame_1285.png: 3552 --> 3548 matches\n",
      "filter_FundamentalMatrix: 5869 matches --> 5864 matches\n",
      "vineyard_split_2_frame_1310.png-vineyard_split_2_frame_1305.png: 5869 --> 5864 matches\n",
      "filter_FundamentalMatrix: 135 matches --> 128 matches\n",
      "vineyard_split_2_frame_1200.png-vineyard_split_2_frame_1155.png: 135 --> 128 matches\n",
      "filter_FundamentalMatrix: 5422 matches --> 5413 matches\n",
      "vineyard_split_2_frame_1200.png-vineyard_split_2_frame_1195.png: 5422 --> 5413 matches\n",
      "filter_FundamentalMatrix: 777 matches --> 775 matches\n",
      "vineyard_split_2_frame_1200.png-vineyard_split_2_frame_1210.png: 777 --> 775 matches\n",
      "filter_FundamentalMatrix: 109 matches --> 109 matches\n",
      "vineyard_split_2_frame_1200.png-vineyard_split_2_frame_1185.png: 109 --> 109 matches\n",
      "filter_FundamentalMatrix: 286 matches --> 286 matches\n",
      "vineyard_split_2_frame_1200.png-vineyard_split_2_frame_1215.png: 286 --> 286 matches\n",
      "filter_FundamentalMatrix: 274 matches --> 273 matches\n",
      "vineyard_split_2_frame_1180.png-vineyard_split_2_frame_1165.png: 274 --> 273 matches\n",
      "filter_FundamentalMatrix: 118 matches --> 114 matches\n",
      "vineyard_split_2_frame_1180.png-vineyard_split_2_frame_1195.png: 118 --> 114 matches\n",
      "filter_FundamentalMatrix: 2290 matches --> 2286 matches\n",
      "vineyard_split_2_frame_1180.png-vineyard_split_2_frame_1185.png: 2290 --> 2286 matches\n",
      "filter_FundamentalMatrix: 5265 matches --> 5253 matches\n",
      "vineyard_split_2_frame_1180.png-vineyard_split_2_frame_1175.png: 5265 --> 5253 matches\n",
      "filter_FundamentalMatrix: 4541 matches --> 4540 matches\n",
      "vineyard_split_2_frame_1255.png-vineyard_split_2_frame_1250.png: 4541 --> 4540 matches\n",
      "filter_FundamentalMatrix: 802 matches --> 796 matches\n",
      "vineyard_split_2_frame_1255.png-vineyard_split_2_frame_1265.png: 802 --> 796 matches\n",
      "filter_FundamentalMatrix: 317 matches --> 314 matches\n",
      "vineyard_split_2_frame_1220.png-vineyard_split_2_frame_1165.png: 317 --> 314 matches\n",
      "filter_FundamentalMatrix: 438 matches --> 437 matches\n",
      "vineyard_split_2_frame_1220.png-vineyard_split_2_frame_1210.png: 438 --> 437 matches\n",
      "filter_FundamentalMatrix: 191 matches --> 188 matches\n",
      "vineyard_split_2_frame_1220.png-vineyard_split_2_frame_1285.png: 191 --> 188 matches\n",
      "filter_FundamentalMatrix: 175 matches --> 166 matches\n",
      "vineyard_split_2_frame_1220.png-vineyard_split_2_frame_1235.png: 175 --> 166 matches\n",
      "filter_FundamentalMatrix: 662 matches --> 652 matches\n",
      "vineyard_split_2_frame_1220.png-vineyard_split_2_frame_1230.png: 662 --> 652 matches\n",
      "filter_FundamentalMatrix: 3296 matches --> 3291 matches\n",
      "vineyard_split_2_frame_1220.png-vineyard_split_2_frame_1215.png: 3296 --> 3291 matches\n",
      "filter_FundamentalMatrix: 102 matches --> 88 matches\n",
      "vineyard_split_2_frame_1220.png-vineyard_split_1_frame_1040.png: 102 --> 88 matches\n",
      "filter_FundamentalMatrix: 5518 matches --> 5511 matches\n",
      "vineyard_split_2_frame_1165.png-vineyard_split_2_frame_1160.png: 5518 --> 5511 matches\n",
      "filter_FundamentalMatrix: 802 matches --> 801 matches\n",
      "vineyard_split_2_frame_1165.png-vineyard_split_2_frame_1155.png: 802 --> 801 matches\n",
      "filter_FundamentalMatrix: 247 matches --> 247 matches\n",
      "vineyard_split_2_frame_1165.png-vineyard_split_2_frame_1150.png: 247 --> 247 matches\n",
      "filter_FundamentalMatrix: 1763 matches --> 1748 matches\n",
      "vineyard_split_2_frame_1165.png-vineyard_split_2_frame_1175.png: 1763 --> 1748 matches\n",
      "filter_FundamentalMatrix: 137 matches --> 130 matches\n",
      "vineyard_split_2_frame_1165.png-vineyard_split_1_frame_1080.png: 137 --> 130 matches\n",
      "filter_FundamentalMatrix: 5995 matches --> 5991 matches\n",
      "vineyard_split_2_frame_1275.png-vineyard_split_2_frame_1280.png: 5995 --> 5991 matches\n",
      "filter_FundamentalMatrix: 2756 matches --> 2750 matches\n",
      "vineyard_split_2_frame_1275.png-vineyard_split_2_frame_1270.png: 2756 --> 2750 matches\n",
      "filter_FundamentalMatrix: 1006 matches --> 1006 matches\n",
      "vineyard_split_2_frame_1275.png-vineyard_split_2_frame_1285.png: 1006 --> 1006 matches\n",
      "filter_FundamentalMatrix: 149 matches --> 148 matches\n",
      "vineyard_split_2_frame_1275.png-vineyard_split_2_frame_1265.png: 149 --> 148 matches\n",
      "filter_FundamentalMatrix: 5246 matches --> 5244 matches\n",
      "vineyard_split_2_frame_1160.png-vineyard_split_2_frame_1155.png: 5246 --> 5244 matches\n",
      "filter_FundamentalMatrix: 740 matches --> 739 matches\n",
      "vineyard_split_2_frame_1160.png-vineyard_split_2_frame_1150.png: 740 --> 739 matches\n",
      "filter_FundamentalMatrix: 351 matches --> 348 matches\n",
      "vineyard_split_2_frame_1160.png-vineyard_split_2_frame_1175.png: 351 --> 348 matches\n",
      "filter_FundamentalMatrix: 5980 matches --> 5972 matches\n",
      "vineyard_split_2_frame_1280.png-vineyard_split_2_frame_1285.png: 5980 --> 5972 matches\n",
      "filter_FundamentalMatrix: 5576 matches --> 5566 matches\n",
      "vineyard_split_2_frame_1155.png-vineyard_split_2_frame_1150.png: 5576 --> 5566 matches\n",
      "filter_FundamentalMatrix: 390 matches --> 389 matches\n",
      "vineyard_split_2_frame_1195.png-vineyard_split_2_frame_1210.png: 390 --> 389 matches\n",
      "filter_FundamentalMatrix: 3410 matches --> 3407 matches\n",
      "vineyard_split_2_frame_1195.png-vineyard_split_2_frame_1185.png: 3410 --> 3407 matches\n",
      "filter_FundamentalMatrix: 121 matches --> 121 matches\n",
      "vineyard_split_2_frame_1195.png-vineyard_split_2_frame_1215.png: 121 --> 121 matches\n",
      "filter_FundamentalMatrix: 4235 matches --> 4227 matches\n",
      "vineyard_split_2_frame_1270.png-vineyard_split_2_frame_1265.png: 4235 --> 4227 matches\n",
      "filter_FundamentalMatrix: 4807 matches --> 4803 matches\n",
      "vineyard_split_2_frame_1210.png-vineyard_split_2_frame_1215.png: 4807 --> 4803 matches\n",
      "filter_FundamentalMatrix: 145 matches --> 144 matches\n",
      "vineyard_split_2_frame_1250.png-vineyard_split_2_frame_1265.png: 145 --> 144 matches\n",
      "filter_FundamentalMatrix: 249 matches --> 245 matches\n",
      "vineyard_split_2_frame_1185.png-vineyard_split_2_frame_1175.png: 249 --> 245 matches\n",
      "filter_FundamentalMatrix: 113 matches --> 86 matches\n",
      "vineyard_split_2_frame_1285.png-vineyard_split_1_frame_1015.png: 113 --> 86 matches\n",
      "filter_FundamentalMatrix: 150 matches --> 147 matches\n",
      "vineyard_split_2_frame_1150.png-vineyard_split_2_frame_1235.png: 150 --> 147 matches\n",
      "filter_FundamentalMatrix: 103 matches --> 94 matches\n",
      "vineyard_split_2_frame_1150.png-vineyard_split_2_frame_1230.png: 103 --> 94 matches\n",
      "filter_FundamentalMatrix: 5147 matches --> 5141 matches\n",
      "vineyard_split_2_frame_1235.png-vineyard_split_2_frame_1230.png: 5147 --> 5141 matches\n",
      "filter_FundamentalMatrix: 110 matches --> 100 matches\n",
      "vineyard_split_2_frame_1235.png-vineyard_split_1_frame_0975.png: 110 --> 100 matches\n",
      "filter_FundamentalMatrix: 111 matches --> 108 matches\n",
      "vineyard_split_2_frame_1215.png-vineyard_split_1_frame_1080.png: 111 --> 108 matches\n",
      "filter_FundamentalMatrix: 3195 matches --> 3192 matches\n",
      "vineyard_split_3_frame_1395.png-vineyard_split_3_frame_1390.png: 3195 --> 3192 matches\n",
      "filter_FundamentalMatrix: 3118 matches --> 3108 matches\n",
      "vineyard_split_3_frame_1395.png-vineyard_split_3_frame_1405.png: 3118 --> 3108 matches\n",
      "filter_FundamentalMatrix: 168 matches --> 162 matches\n",
      "vineyard_split_3_frame_1395.png-vineyard_split_3_frame_1410.png: 168 --> 162 matches\n",
      "filter_FundamentalMatrix: 6075 matches --> 6064 matches\n",
      "vineyard_split_3_frame_1395.png-vineyard_split_3_frame_1400.png: 6075 --> 6064 matches\n",
      "filter_FundamentalMatrix: 100 matches --> 94 matches\n",
      "vineyard_split_3_frame_1395.png-vineyard_split_3_frame_1420.png: 100 --> 94 matches\n",
      "filter_FundamentalMatrix: 61 matches --> 40 matches\n",
      "vineyard_split_3_frame_1395.png-vineyard_split_1_frame_1020.png: 61 --> 40 matches\n",
      "filter_FundamentalMatrix: 4599 matches --> 4595 matches\n",
      "vineyard_split_3_frame_1475.png-vineyard_split_3_frame_1480.png: 4599 --> 4595 matches\n",
      "filter_FundamentalMatrix: 677 matches --> 675 matches\n",
      "vineyard_split_3_frame_1475.png-vineyard_split_3_frame_1465.png: 677 --> 675 matches\n",
      "filter_FundamentalMatrix: 381 matches --> 379 matches\n",
      "vineyard_split_3_frame_1475.png-vineyard_split_3_frame_1460.png: 381 --> 379 matches\n",
      "filter_FundamentalMatrix: 860 matches --> 853 matches\n",
      "vineyard_split_3_frame_1475.png-vineyard_split_3_frame_1485.png: 860 --> 853 matches\n",
      "filter_FundamentalMatrix: 6708 matches --> 6704 matches\n",
      "vineyard_split_3_frame_1475.png-vineyard_split_3_frame_1470.png: 6708 --> 6704 matches\n",
      "filter_FundamentalMatrix: 3284 matches --> 3279 matches\n",
      "vineyard_split_3_frame_0255.png-vineyard_split_3_frame_0265.png: 3284 --> 3279 matches\n",
      "filter_FundamentalMatrix: 2730 matches --> 2726 matches\n",
      "vineyard_split_3_frame_0255.png-vineyard_split_3_frame_0245.png: 2730 --> 2726 matches\n",
      "filter_FundamentalMatrix: 399 matches --> 399 matches\n",
      "vineyard_split_3_frame_0255.png-vineyard_split_3_frame_0240.png: 399 --> 399 matches\n",
      "filter_FundamentalMatrix: 5765 matches --> 5765 matches\n",
      "vineyard_split_3_frame_0255.png-vineyard_split_3_frame_0260.png: 5765 --> 5765 matches\n",
      "filter_FundamentalMatrix: 101 matches --> 96 matches\n",
      "vineyard_split_3_frame_1425.png-vineyard_split_3_frame_1405.png: 101 --> 96 matches\n",
      "filter_FundamentalMatrix: 192 matches --> 191 matches\n",
      "vineyard_split_3_frame_1425.png-vineyard_split_3_frame_1410.png: 192 --> 191 matches\n",
      "filter_FundamentalMatrix: 6016 matches --> 6014 matches\n",
      "vineyard_split_3_frame_1425.png-vineyard_split_3_frame_1430.png: 6016 --> 6014 matches\n",
      "filter_FundamentalMatrix: 272 matches --> 270 matches\n",
      "vineyard_split_3_frame_1425.png-vineyard_split_3_frame_1440.png: 272 --> 270 matches\n",
      "filter_FundamentalMatrix: 572 matches --> 572 matches\n",
      "vineyard_split_3_frame_1425.png-vineyard_split_3_frame_1415.png: 572 --> 572 matches\n",
      "filter_FundamentalMatrix: 1595 matches --> 1580 matches\n",
      "vineyard_split_3_frame_1425.png-vineyard_split_3_frame_1435.png: 1595 --> 1580 matches\n",
      "filter_FundamentalMatrix: 3620 matches --> 3618 matches\n",
      "vineyard_split_3_frame_1425.png-vineyard_split_3_frame_1420.png: 3620 --> 3618 matches\n",
      "filter_FundamentalMatrix: 127 matches --> 115 matches\n",
      "vineyard_split_3_frame_1425.png-vineyard_split_1_frame_0900.png: 127 --> 115 matches\n",
      "filter_FundamentalMatrix: 188 matches --> 188 matches\n",
      "vineyard_split_3_frame_0125.png-vineyard_split_3_frame_0140.png: 188 --> 188 matches\n",
      "filter_FundamentalMatrix: 6535 matches --> 6533 matches\n",
      "vineyard_split_3_frame_0125.png-vineyard_split_3_frame_0120.png: 6535 --> 6533 matches\n",
      "filter_FundamentalMatrix: 316 matches --> 311 matches\n",
      "vineyard_split_3_frame_0125.png-vineyard_split_3_frame_0105.png: 316 --> 311 matches\n",
      "filter_FundamentalMatrix: 1145 matches --> 1140 matches\n",
      "vineyard_split_3_frame_0125.png-vineyard_split_3_frame_0110.png: 1145 --> 1140 matches\n",
      "filter_FundamentalMatrix: 2629 matches --> 2628 matches\n",
      "vineyard_split_3_frame_0125.png-vineyard_split_3_frame_0135.png: 2629 --> 2628 matches\n",
      "filter_FundamentalMatrix: 182 matches --> 180 matches\n",
      "vineyard_split_3_frame_1480.png-vineyard_split_3_frame_1490.png: 182 --> 180 matches\n",
      "filter_FundamentalMatrix: 5588 matches --> 5582 matches\n",
      "vineyard_split_3_frame_1480.png-vineyard_split_3_frame_1485.png: 5588 --> 5582 matches\n",
      "filter_FundamentalMatrix: 2460 matches --> 2454 matches\n",
      "vineyard_split_3_frame_1480.png-vineyard_split_3_frame_1470.png: 2460 --> 2454 matches\n",
      "filter_FundamentalMatrix: 2739 matches --> 2727 matches\n",
      "vineyard_split_3_frame_0215.png-vineyard_split_3_frame_0225.png: 2739 --> 2727 matches\n",
      "filter_FundamentalMatrix: 2571 matches --> 2564 matches\n",
      "vineyard_split_3_frame_0215.png-vineyard_split_3_frame_0205.png: 2571 --> 2564 matches\n",
      "filter_FundamentalMatrix: 4652 matches --> 4645 matches\n",
      "vineyard_split_3_frame_0215.png-vineyard_split_3_frame_0210.png: 4652 --> 4645 matches\n",
      "filter_FundamentalMatrix: 6310 matches --> 6309 matches\n",
      "vineyard_split_3_frame_0215.png-vineyard_split_3_frame_0220.png: 6310 --> 6309 matches\n",
      "filter_FundamentalMatrix: 150 matches --> 143 matches\n",
      "vineyard_split_3_frame_0215.png-vineyard_split_3_frame_0200.png: 150 --> 143 matches\n",
      "filter_FundamentalMatrix: 169 matches --> 167 matches\n",
      "vineyard_split_3_frame_0215.png-vineyard_split_3_frame_0230.png: 169 --> 167 matches\n",
      "filter_FundamentalMatrix: 2098 matches --> 2089 matches\n",
      "vineyard_split_3_frame_0295.png-vineyard_split_3_frame_0285.png: 2098 --> 2089 matches\n",
      "filter_FundamentalMatrix: 2222 matches --> 2212 matches\n",
      "vineyard_split_3_frame_0295.png-vineyard_split_3_frame_0305.png: 2222 --> 2212 matches\n",
      "filter_FundamentalMatrix: 3518 matches --> 3510 matches\n",
      "vineyard_split_3_frame_0295.png-vineyard_split_3_frame_0300.png: 3518 --> 3510 matches\n",
      "filter_FundamentalMatrix: 1151 matches --> 1144 matches\n",
      "vineyard_split_3_frame_0090.png-vineyard_split_3_frame_0075.png: 1151 --> 1144 matches\n",
      "filter_FundamentalMatrix: 2727 matches --> 2723 matches\n",
      "vineyard_split_3_frame_0090.png-vineyard_split_3_frame_0080.png: 2727 --> 2723 matches\n",
      "filter_FundamentalMatrix: 2884 matches --> 2879 matches\n",
      "vineyard_split_3_frame_0090.png-vineyard_split_3_frame_0100.png: 2884 --> 2879 matches\n",
      "filter_FundamentalMatrix: 6579 matches --> 6575 matches\n",
      "vineyard_split_3_frame_0090.png-vineyard_split_3_frame_0085.png: 6579 --> 6575 matches\n",
      "filter_FundamentalMatrix: 5972 matches --> 5968 matches\n",
      "vineyard_split_3_frame_0090.png-vineyard_split_3_frame_0095.png: 5972 --> 5968 matches\n",
      "filter_FundamentalMatrix: 5132 matches --> 5125 matches\n",
      "vineyard_split_3_frame_0190.png-vineyard_split_3_frame_0195.png: 5132 --> 5125 matches\n",
      "filter_FundamentalMatrix: 1797 matches --> 1794 matches\n",
      "vineyard_split_3_frame_0190.png-vineyard_split_3_frame_0180.png: 1797 --> 1794 matches\n",
      "filter_FundamentalMatrix: 4476 matches --> 4471 matches\n",
      "vineyard_split_3_frame_0265.png-vineyard_split_3_frame_0270.png: 4476 --> 4471 matches\n",
      "filter_FundamentalMatrix: 581 matches --> 566 matches\n",
      "vineyard_split_3_frame_0265.png-vineyard_split_3_frame_0285.png: 581 --> 566 matches\n",
      "filter_FundamentalMatrix: 855 matches --> 852 matches\n",
      "vineyard_split_3_frame_0265.png-vineyard_split_3_frame_0280.png: 855 --> 852 matches\n",
      "filter_FundamentalMatrix: 2407 matches --> 2404 matches\n",
      "vineyard_split_3_frame_0265.png-vineyard_split_3_frame_0275.png: 2407 --> 2404 matches\n",
      "filter_FundamentalMatrix: 178 matches --> 174 matches\n",
      "vineyard_split_3_frame_0265.png-vineyard_split_3_frame_0245.png: 178 --> 174 matches\n",
      "filter_FundamentalMatrix: 6136 matches --> 6134 matches\n",
      "vineyard_split_3_frame_0265.png-vineyard_split_3_frame_0260.png: 6136 --> 6134 matches\n",
      "filter_FundamentalMatrix: 3765 matches --> 3764 matches\n",
      "vineyard_split_3_frame_1445.png-vineyard_split_3_frame_1450.png: 3765 --> 3764 matches\n",
      "filter_FundamentalMatrix: 5403 matches --> 5398 matches\n",
      "vineyard_split_3_frame_1445.png-vineyard_split_3_frame_1440.png: 5403 --> 5398 matches\n",
      "filter_FundamentalMatrix: 185 matches --> 181 matches\n",
      "vineyard_split_3_frame_1445.png-vineyard_split_3_frame_1435.png: 185 --> 181 matches\n",
      "filter_FundamentalMatrix: 202 matches --> 201 matches\n",
      "vineyard_split_3_frame_1450.png-vineyard_split_3_frame_1465.png: 202 --> 201 matches\n",
      "filter_FundamentalMatrix: 391 matches --> 390 matches\n",
      "vineyard_split_3_frame_1450.png-vineyard_split_3_frame_1440.png: 391 --> 390 matches\n",
      "filter_FundamentalMatrix: 480 matches --> 478 matches\n",
      "vineyard_split_3_frame_1450.png-vineyard_split_3_frame_1460.png: 480 --> 478 matches\n",
      "filter_FundamentalMatrix: 752 matches --> 745 matches\n",
      "vineyard_split_3_frame_1390.png-vineyard_split_3_frame_1400.png: 752 --> 745 matches\n",
      "filter_FundamentalMatrix: 320 matches --> 316 matches\n",
      "vineyard_split_3_frame_1555.png-vineyard_split_3_frame_1540.png: 320 --> 316 matches\n",
      "filter_FundamentalMatrix: 847 matches --> 845 matches\n",
      "vineyard_split_3_frame_1555.png-vineyard_split_3_frame_1545.png: 847 --> 845 matches\n",
      "filter_FundamentalMatrix: 4233 matches --> 4227 matches\n",
      "vineyard_split_3_frame_1555.png-vineyard_split_3_frame_1560.png: 4233 --> 4227 matches\n",
      "filter_FundamentalMatrix: 586 matches --> 584 matches\n",
      "vineyard_split_3_frame_1550.png-vineyard_split_3_frame_1535.png: 586 --> 584 matches\n",
      "filter_FundamentalMatrix: 5745 matches --> 5738 matches\n",
      "vineyard_split_3_frame_1550.png-vineyard_split_3_frame_1545.png: 5745 --> 5738 matches\n",
      "filter_FundamentalMatrix: 116 matches --> 112 matches\n",
      "vineyard_split_3_frame_0145.png-vineyard_split_3_frame_0235.png: 116 --> 112 matches\n",
      "filter_FundamentalMatrix: 109 matches --> 107 matches\n",
      "vineyard_split_3_frame_0145.png-vineyard_split_3_frame_0130.png: 109 --> 107 matches\n",
      "filter_FundamentalMatrix: 5198 matches --> 5196 matches\n",
      "vineyard_split_3_frame_1405.png-vineyard_split_3_frame_1410.png: 5198 --> 5196 matches\n",
      "filter_FundamentalMatrix: 6455 matches --> 6445 matches\n",
      "vineyard_split_3_frame_1405.png-vineyard_split_3_frame_1400.png: 6455 --> 6445 matches\n",
      "filter_FundamentalMatrix: 751 matches --> 747 matches\n",
      "vineyard_split_3_frame_1405.png-vineyard_split_3_frame_1415.png: 751 --> 747 matches\n",
      "filter_FundamentalMatrix: 133 matches --> 130 matches\n",
      "vineyard_split_3_frame_1405.png-vineyard_split_3_frame_1420.png: 133 --> 130 matches\n",
      "filter_FundamentalMatrix: 4094 matches --> 4089 matches\n",
      "vineyard_split_3_frame_0070.png-vineyard_split_3_frame_0075.png: 4094 --> 4089 matches\n",
      "filter_FundamentalMatrix: 1382 matches --> 1381 matches\n",
      "vineyard_split_3_frame_0070.png-vineyard_split_3_frame_0080.png: 1382 --> 1381 matches\n",
      "filter_FundamentalMatrix: 301 matches --> 294 matches\n",
      "vineyard_split_3_frame_0070.png-vineyard_split_3_frame_0085.png: 301 --> 294 matches\n",
      "filter_FundamentalMatrix: 2288 matches --> 2278 matches\n",
      "vineyard_split_3_frame_1500.png-vineyard_split_3_frame_1490.png: 2288 --> 2278 matches\n",
      "filter_FundamentalMatrix: 5754 matches --> 5749 matches\n",
      "vineyard_split_3_frame_1500.png-vineyard_split_3_frame_1495.png: 5754 --> 5749 matches\n",
      "filter_FundamentalMatrix: 794 matches --> 790 matches\n",
      "vineyard_split_3_frame_1500.png-vineyard_split_3_frame_1510.png: 794 --> 790 matches\n",
      "filter_FundamentalMatrix: 140 matches --> 138 matches\n",
      "vineyard_split_3_frame_1500.png-vineyard_split_3_frame_1485.png: 140 --> 138 matches\n",
      "filter_FundamentalMatrix: 6471 matches --> 6469 matches\n",
      "vineyard_split_3_frame_0075.png-vineyard_split_3_frame_0080.png: 6471 --> 6469 matches\n",
      "filter_FundamentalMatrix: 2741 matches --> 2739 matches\n",
      "vineyard_split_3_frame_0075.png-vineyard_split_3_frame_0085.png: 2741 --> 2739 matches\n",
      "filter_FundamentalMatrix: 666 matches --> 662 matches\n",
      "vineyard_split_3_frame_0160.png-vineyard_split_3_frame_0150.png: 666 --> 662 matches\n",
      "filter_FundamentalMatrix: 3564 matches --> 3555 matches\n",
      "vineyard_split_3_frame_0160.png-vineyard_split_3_frame_0170.png: 3564 --> 3555 matches\n",
      "filter_FundamentalMatrix: 447 matches --> 445 matches\n",
      "vineyard_split_3_frame_0160.png-vineyard_split_3_frame_0175.png: 447 --> 445 matches\n",
      "filter_FundamentalMatrix: 6531 matches --> 6530 matches\n",
      "vineyard_split_3_frame_0160.png-vineyard_split_3_frame_0165.png: 6531 --> 6530 matches\n",
      "filter_FundamentalMatrix: 4938 matches --> 4926 matches\n",
      "vineyard_split_3_frame_0160.png-vineyard_split_3_frame_0155.png: 4938 --> 4926 matches\n",
      "filter_FundamentalMatrix: 2996 matches --> 2993 matches\n",
      "vineyard_split_3_frame_0150.png-vineyard_split_3_frame_0140.png: 2996 --> 2993 matches\n",
      "filter_FundamentalMatrix: 236 matches --> 235 matches\n",
      "vineyard_split_3_frame_0150.png-vineyard_split_3_frame_0135.png: 236 --> 235 matches\n",
      "filter_FundamentalMatrix: 271 matches --> 271 matches\n",
      "vineyard_split_3_frame_0150.png-vineyard_split_3_frame_0165.png: 271 --> 271 matches\n",
      "filter_FundamentalMatrix: 5642 matches --> 5631 matches\n",
      "vineyard_split_3_frame_0150.png-vineyard_split_3_frame_0155.png: 5642 --> 5631 matches\n",
      "filter_FundamentalMatrix: 4512 matches --> 4500 matches\n",
      "vineyard_split_3_frame_0140.png-vineyard_split_3_frame_0135.png: 4512 --> 4500 matches\n",
      "filter_FundamentalMatrix: 448 matches --> 445 matches\n",
      "vineyard_split_3_frame_0140.png-vineyard_split_3_frame_0155.png: 448 --> 445 matches\n",
      "filter_FundamentalMatrix: 2651 matches --> 2642 matches\n",
      "vineyard_split_3_frame_0270.png-vineyard_split_3_frame_0285.png: 2651 --> 2642 matches\n",
      "filter_FundamentalMatrix: 4988 matches --> 4976 matches\n",
      "vineyard_split_3_frame_0270.png-vineyard_split_3_frame_0280.png: 4988 --> 4976 matches\n",
      "filter_FundamentalMatrix: 6147 matches --> 6144 matches\n",
      "vineyard_split_3_frame_0270.png-vineyard_split_3_frame_0275.png: 6147 --> 6144 matches\n",
      "filter_FundamentalMatrix: 2250 matches --> 2245 matches\n",
      "vineyard_split_3_frame_0270.png-vineyard_split_3_frame_0260.png: 2250 --> 2245 matches\n",
      "filter_FundamentalMatrix: 5830 matches --> 5826 matches\n",
      "vineyard_split_3_frame_0170.png-vineyard_split_3_frame_0175.png: 5830 --> 5826 matches\n",
      "filter_FundamentalMatrix: 5832 matches --> 5830 matches\n",
      "vineyard_split_3_frame_0170.png-vineyard_split_3_frame_0165.png: 5832 --> 5830 matches\n",
      "filter_FundamentalMatrix: 108 matches --> 102 matches\n",
      "vineyard_split_3_frame_0170.png-vineyard_split_3_frame_0155.png: 108 --> 102 matches\n",
      "filter_FundamentalMatrix: 2463 matches --> 2459 matches\n",
      "vineyard_split_3_frame_0170.png-vineyard_split_3_frame_0180.png: 2463 --> 2459 matches\n",
      "filter_FundamentalMatrix: 7363 matches --> 7361 matches\n",
      "vineyard_split_3_frame_0285.png-vineyard_split_3_frame_0280.png: 7363 --> 7361 matches\n",
      "filter_FundamentalMatrix: 5037 matches --> 5015 matches\n",
      "vineyard_split_3_frame_0285.png-vineyard_split_3_frame_0275.png: 5037 --> 5015 matches\n",
      "filter_FundamentalMatrix: 3982 matches --> 3969 matches\n",
      "vineyard_split_3_frame_1490.png-vineyard_split_3_frame_1485.png: 3982 --> 3969 matches\n",
      "filter_FundamentalMatrix: 7071 matches --> 7070 matches\n",
      "vineyard_split_3_frame_0280.png-vineyard_split_3_frame_0275.png: 7071 --> 7070 matches\n",
      "filter_FundamentalMatrix: 319 matches --> 319 matches\n",
      "vineyard_split_3_frame_0275.png-vineyard_split_3_frame_0260.png: 319 --> 319 matches\n",
      "filter_FundamentalMatrix: 181 matches --> 177 matches\n",
      "vineyard_split_3_frame_0225.png-vineyard_split_3_frame_0210.png: 181 --> 177 matches\n",
      "filter_FundamentalMatrix: 4543 matches --> 4539 matches\n",
      "vineyard_split_3_frame_0225.png-vineyard_split_3_frame_0220.png: 4543 --> 4539 matches\n",
      "filter_FundamentalMatrix: 330 matches --> 329 matches\n",
      "vineyard_split_3_frame_0225.png-vineyard_split_3_frame_0240.png: 330 --> 329 matches\n",
      "filter_FundamentalMatrix: 4104 matches --> 4098 matches\n",
      "vineyard_split_3_frame_0225.png-vineyard_split_3_frame_0230.png: 4104 --> 4098 matches\n",
      "filter_FundamentalMatrix: 5049 matches --> 5044 matches\n",
      "vineyard_split_3_frame_0080.png-vineyard_split_3_frame_0085.png: 5049 --> 5044 matches\n",
      "filter_FundamentalMatrix: 375 matches --> 374 matches\n",
      "vineyard_split_3_frame_0080.png-vineyard_split_3_frame_0095.png: 375 --> 374 matches\n",
      "filter_FundamentalMatrix: 506 matches --> 504 matches\n",
      "vineyard_split_3_frame_0250.png-vineyard_split_3_frame_0235.png: 506 --> 504 matches\n",
      "filter_FundamentalMatrix: 508 matches --> 508 matches\n",
      "vineyard_split_3_frame_1495.png-vineyard_split_3_frame_1505.png: 508 --> 508 matches\n",
      "filter_FundamentalMatrix: 1116 matches --> 1111 matches\n",
      "vineyard_split_3_frame_0120.png-vineyard_split_3_frame_0105.png: 1116 --> 1111 matches\n",
      "filter_FundamentalMatrix: 3772 matches --> 3764 matches\n",
      "vineyard_split_3_frame_0120.png-vineyard_split_3_frame_0110.png: 3772 --> 3764 matches\n",
      "filter_FundamentalMatrix: 569 matches --> 568 matches\n",
      "vineyard_split_3_frame_0120.png-vineyard_split_3_frame_0135.png: 569 --> 568 matches\n",
      "filter_FundamentalMatrix: 3142 matches --> 3131 matches\n",
      "vineyard_split_3_frame_1510.png-vineyard_split_3_frame_1520.png: 3142 --> 3131 matches\n",
      "filter_FundamentalMatrix: 132 matches --> 131 matches\n",
      "vineyard_split_3_frame_1510.png-vineyard_split_3_frame_1525.png: 132 --> 131 matches\n",
      "filter_FundamentalMatrix: 6694 matches --> 6688 matches\n",
      "vineyard_split_3_frame_1510.png-vineyard_split_3_frame_1515.png: 6694 --> 6688 matches\n",
      "filter_FundamentalMatrix: 59 matches --> 41 matches\n",
      "vineyard_split_3_frame_1510.png-vineyard_split_1_frame_1010.png: 59 --> 41 matches\n",
      "filter_FundamentalMatrix: 7074 matches --> 7074 matches\n",
      "vineyard_split_3_frame_0105.png-vineyard_split_3_frame_0110.png: 7074 --> 7074 matches\n",
      "filter_FundamentalMatrix: 3580 matches --> 3569 matches\n",
      "vineyard_split_3_frame_0105.png-vineyard_split_3_frame_0100.png: 3580 --> 3569 matches\n",
      "filter_FundamentalMatrix: 600 matches --> 596 matches\n",
      "vineyard_split_3_frame_0105.png-vineyard_split_3_frame_0095.png: 600 --> 596 matches\n",
      "filter_FundamentalMatrix: 3216 matches --> 3197 matches\n",
      "vineyard_split_3_frame_1535.png-vineyard_split_3_frame_1530.png: 3216 --> 3197 matches\n",
      "filter_FundamentalMatrix: 6774 matches --> 6768 matches\n",
      "vineyard_split_3_frame_1540.png-vineyard_split_3_frame_1545.png: 6774 --> 6768 matches\n",
      "filter_FundamentalMatrix: 130 matches --> 127 matches\n",
      "vineyard_split_3_frame_1540.png-vineyard_split_3_frame_1525.png: 130 --> 127 matches\n",
      "filter_FundamentalMatrix: 1361 matches --> 1354 matches\n",
      "vineyard_split_3_frame_0205.png-vineyard_split_3_frame_0195.png: 1361 --> 1354 matches\n",
      "filter_FundamentalMatrix: 5728 matches --> 5724 matches\n",
      "vineyard_split_3_frame_0205.png-vineyard_split_3_frame_0210.png: 5728 --> 5724 matches\n",
      "filter_FundamentalMatrix: 662 matches --> 649 matches\n",
      "vineyard_split_3_frame_0205.png-vineyard_split_3_frame_0220.png: 662 --> 649 matches\n",
      "filter_FundamentalMatrix: 4549 matches --> 4543 matches\n",
      "vineyard_split_3_frame_0205.png-vineyard_split_3_frame_0200.png: 4549 --> 4543 matches\n",
      "filter_FundamentalMatrix: 5917 matches --> 5914 matches\n",
      "vineyard_split_3_frame_1410.png-vineyard_split_3_frame_1415.png: 5917 --> 5914 matches\n",
      "filter_FundamentalMatrix: 2541 matches --> 2527 matches\n",
      "vineyard_split_3_frame_1410.png-vineyard_split_3_frame_1420.png: 2541 --> 2527 matches\n",
      "filter_FundamentalMatrix: 7659 matches --> 7657 matches\n",
      "vineyard_split_3_frame_0305.png-vineyard_split_3_frame_0300.png: 7659 --> 7657 matches\n",
      "filter_FundamentalMatrix: 1980 matches --> 1973 matches\n",
      "vineyard_split_3_frame_0175.png-vineyard_split_3_frame_0185.png: 1980 --> 1973 matches\n",
      "filter_FundamentalMatrix: 5093 matches --> 5088 matches\n",
      "vineyard_split_3_frame_0175.png-vineyard_split_3_frame_0180.png: 5093 --> 5088 matches\n",
      "filter_FundamentalMatrix: 3634 matches --> 3628 matches\n",
      "vineyard_split_3_frame_1520.png-vineyard_split_3_frame_1525.png: 3634 --> 3628 matches\n",
      "filter_FundamentalMatrix: 3989 matches --> 3980 matches\n",
      "vineyard_split_3_frame_1520.png-vineyard_split_3_frame_1515.png: 3989 --> 3980 matches\n",
      "filter_FundamentalMatrix: 561 matches --> 556 matches\n",
      "vineyard_split_3_frame_1520.png-vineyard_split_3_frame_1530.png: 561 --> 556 matches\n",
      "filter_FundamentalMatrix: 7622 matches --> 7619 matches\n",
      "vineyard_split_3_frame_1465.png-vineyard_split_3_frame_1460.png: 7622 --> 7619 matches\n",
      "filter_FundamentalMatrix: 3105 matches --> 3094 matches\n",
      "vineyard_split_3_frame_1465.png-vineyard_split_3_frame_1470.png: 3105 --> 3094 matches\n",
      "filter_FundamentalMatrix: 294 matches --> 283 matches\n",
      "vineyard_split_3_frame_1525.png-vineyard_split_3_frame_1515.png: 294 --> 283 matches\n",
      "filter_FundamentalMatrix: 5346 matches --> 5330 matches\n",
      "vineyard_split_3_frame_1525.png-vineyard_split_3_frame_1530.png: 5346 --> 5330 matches\n",
      "filter_FundamentalMatrix: 2384 matches --> 2372 matches\n",
      "vineyard_split_3_frame_0110.png-vineyard_split_3_frame_0100.png: 2384 --> 2372 matches\n",
      "filter_FundamentalMatrix: 6487 matches --> 6485 matches\n",
      "vineyard_split_3_frame_0110.png-vineyard_split_3_frame_0115.png: 6487 --> 6485 matches\n",
      "filter_FundamentalMatrix: 5228 matches --> 5225 matches\n",
      "vineyard_split_3_frame_0195.png-vineyard_split_3_frame_0200.png: 5228 --> 5225 matches\n",
      "filter_FundamentalMatrix: 1652 matches --> 1642 matches\n",
      "vineyard_split_3_frame_1570.png-vineyard_split_3_frame_1560.png: 1652 --> 1642 matches\n",
      "filter_FundamentalMatrix: 5991 matches --> 5986 matches\n",
      "vineyard_split_3_frame_1570.png-vineyard_split_3_frame_1565.png: 5991 --> 5986 matches\n",
      "filter_FundamentalMatrix: 3095 matches --> 3071 matches\n",
      "vineyard_split_3_frame_0210.png-vineyard_split_3_frame_0220.png: 3095 --> 3071 matches\n",
      "filter_FundamentalMatrix: 2033 matches --> 2024 matches\n",
      "vineyard_split_3_frame_0210.png-vineyard_split_3_frame_0200.png: 2033 --> 2024 matches\n",
      "filter_FundamentalMatrix: 394 matches --> 391 matches\n",
      "vineyard_split_3_frame_0100.png-vineyard_split_3_frame_0085.png: 394 --> 391 matches\n",
      "filter_FundamentalMatrix: 5167 matches --> 5167 matches\n",
      "vineyard_split_3_frame_0100.png-vineyard_split_3_frame_0095.png: 5167 --> 5167 matches\n",
      "filter_FundamentalMatrix: 5749 matches --> 5746 matches\n",
      "vineyard_split_3_frame_1560.png-vineyard_split_3_frame_1565.png: 5749 --> 5746 matches\n",
      "filter_FundamentalMatrix: 524 matches --> 522 matches\n",
      "vineyard_split_3_frame_1430.png-vineyard_split_3_frame_1440.png: 524 --> 522 matches\n",
      "filter_FundamentalMatrix: 169 matches --> 168 matches\n",
      "vineyard_split_3_frame_1430.png-vineyard_split_3_frame_1415.png: 169 --> 168 matches\n",
      "filter_FundamentalMatrix: 5056 matches --> 5056 matches\n",
      "vineyard_split_3_frame_1430.png-vineyard_split_3_frame_1435.png: 5056 --> 5056 matches\n",
      "filter_FundamentalMatrix: 6293 matches --> 6282 matches\n",
      "vineyard_split_3_frame_0245.png-vineyard_split_3_frame_0240.png: 6293 --> 6282 matches\n",
      "filter_FundamentalMatrix: 489 matches --> 484 matches\n",
      "vineyard_split_3_frame_0245.png-vineyard_split_3_frame_0230.png: 489 --> 484 matches\n",
      "filter_FundamentalMatrix: 347 matches --> 347 matches\n",
      "vineyard_split_3_frame_0245.png-vineyard_split_3_frame_0260.png: 347 --> 347 matches\n",
      "filter_FundamentalMatrix: 425 matches --> 423 matches\n",
      "vineyard_split_3_frame_0130.png-vineyard_split_3_frame_0115.png: 425 --> 423 matches\n",
      "filter_FundamentalMatrix: 939 matches --> 938 matches\n",
      "vineyard_split_3_frame_0220.png-vineyard_split_3_frame_0230.png: 939 --> 938 matches\n",
      "filter_FundamentalMatrix: 4570 matches --> 4552 matches\n",
      "vineyard_split_3_frame_1440.png-vineyard_split_3_frame_1435.png: 4570 --> 4552 matches\n",
      "filter_FundamentalMatrix: 2774 matches --> 2770 matches\n",
      "vineyard_split_3_frame_0240.png-vineyard_split_3_frame_0230.png: 2774 --> 2770 matches\n",
      "filter_FundamentalMatrix: 120 matches --> 120 matches\n",
      "vineyard_split_3_frame_0240.png-vineyard_split_3_frame_0260.png: 120 --> 120 matches\n",
      "filter_FundamentalMatrix: 857 matches --> 853 matches\n",
      "vineyard_split_3_frame_1460.png-vineyard_split_3_frame_1470.png: 857 --> 853 matches\n",
      "filter_FundamentalMatrix: 2744 matches --> 2732 matches\n",
      "vineyard_split_3_frame_0165.png-vineyard_split_3_frame_0155.png: 2744 --> 2732 matches\n",
      "filter_FundamentalMatrix: 112 matches --> 112 matches\n",
      "vineyard_split_3_frame_1400.png-vineyard_split_3_frame_1415.png: 112 --> 112 matches\n",
      "filter_FundamentalMatrix: 5852 matches --> 5845 matches\n",
      "vineyard_split_3_frame_1415.png-vineyard_split_3_frame_1420.png: 5852 --> 5845 matches\n",
      "filter_FundamentalMatrix: 151 matches --> 150 matches\n",
      "vineyard_split_3_frame_1435.png-vineyard_split_3_frame_1420.png: 151 --> 150 matches\n",
      "filter_FundamentalMatrix: 144 matches --> 141 matches\n",
      "vineyard_split_3_frame_1485.png-vineyard_split_3_frame_1470.png: 144 --> 141 matches\n",
      "filter_FundamentalMatrix: 3404 matches --> 3395 matches\n",
      "vineyard_split_3_frame_0085.png-vineyard_split_3_frame_0095.png: 3404 --> 3395 matches\n",
      "filter_FundamentalMatrix: 776 matches --> 775 matches\n",
      "vineyard_split_1_frame_0950.png-vineyard_split_1_frame_0960.png: 776 --> 775 matches\n",
      "filter_FundamentalMatrix: 1911 matches --> 1908 matches\n",
      "vineyard_split_1_frame_1005.png-vineyard_split_1_frame_0995.png: 1911 --> 1908 matches\n",
      "filter_FundamentalMatrix: 1854 matches --> 1845 matches\n",
      "vineyard_split_1_frame_0915.png-vineyard_split_1_frame_0905.png: 1854 --> 1845 matches\n",
      "filter_FundamentalMatrix: 7694 matches --> 7689 matches\n",
      "vineyard_split_1_frame_0915.png-vineyard_split_1_frame_0910.png: 7694 --> 7689 matches\n",
      "filter_FundamentalMatrix: 301 matches --> 301 matches\n",
      "vineyard_split_1_frame_0915.png-vineyard_split_1_frame_0925.png: 301 --> 301 matches\n",
      "filter_FundamentalMatrix: 4167 matches --> 4160 matches\n",
      "vineyard_split_1_frame_0915.png-vineyard_split_1_frame_0920.png: 4167 --> 4160 matches\n",
      "filter_FundamentalMatrix: 181 matches --> 179 matches\n",
      "vineyard_split_1_frame_1070.png-vineyard_split_1_frame_1055.png: 181 --> 179 matches\n",
      "filter_FundamentalMatrix: 3810 matches --> 3810 matches\n",
      "vineyard_split_1_frame_1070.png-vineyard_split_1_frame_1065.png: 3810 --> 3810 matches\n",
      "filter_FundamentalMatrix: 742 matches --> 734 matches\n",
      "vineyard_split_1_frame_1070.png-vineyard_split_1_frame_1080.png: 742 --> 734 matches\n",
      "filter_FundamentalMatrix: 3894 matches --> 3890 matches\n",
      "vineyard_split_1_frame_1070.png-vineyard_split_1_frame_1075.png: 3894 --> 3890 matches\n",
      "filter_FundamentalMatrix: 5975 matches --> 5965 matches\n",
      "vineyard_split_1_frame_1015.png-vineyard_split_1_frame_1020.png: 5975 --> 5965 matches\n",
      "filter_FundamentalMatrix: 56 matches --> 39 matches\n",
      "vineyard_split_1_frame_1015.png-vineyard_split_1_frame_1100.png: 56 --> 39 matches\n",
      "filter_FundamentalMatrix: 3857 matches --> 3850 matches\n",
      "vineyard_split_1_frame_1015.png-vineyard_split_1_frame_1010.png: 3857 --> 3850 matches\n",
      "filter_FundamentalMatrix: 130 matches --> 127 matches\n",
      "vineyard_split_1_frame_1015.png-vineyard_split_1_frame_1030.png: 130 --> 127 matches\n",
      "filter_FundamentalMatrix: 723 matches --> 706 matches\n",
      "vineyard_split_1_frame_0990.png-vineyard_split_1_frame_0980.png: 723 --> 706 matches\n",
      "filter_FundamentalMatrix: 1239 matches --> 1233 matches\n",
      "vineyard_split_1_frame_0990.png-vineyard_split_1_frame_1000.png: 1239 --> 1233 matches\n",
      "filter_FundamentalMatrix: 5857 matches --> 5848 matches\n",
      "vineyard_split_1_frame_0990.png-vineyard_split_1_frame_0985.png: 5857 --> 5848 matches\n",
      "filter_FundamentalMatrix: 161 matches --> 160 matches\n",
      "vineyard_split_1_frame_0990.png-vineyard_split_1_frame_0975.png: 161 --> 160 matches\n",
      "filter_FundamentalMatrix: 868 matches --> 865 matches\n",
      "vineyard_split_1_frame_1055.png-vineyard_split_1_frame_1065.png: 868 --> 865 matches\n",
      "filter_FundamentalMatrix: 1302 matches --> 1295 matches\n",
      "vineyard_split_1_frame_1055.png-vineyard_split_1_frame_1045.png: 1302 --> 1295 matches\n",
      "filter_FundamentalMatrix: 242 matches --> 240 matches\n",
      "vineyard_split_1_frame_1055.png-vineyard_split_1_frame_1040.png: 242 --> 240 matches\n",
      "filter_FundamentalMatrix: 5557 matches --> 5555 matches\n",
      "vineyard_split_1_frame_1055.png-vineyard_split_1_frame_1050.png: 5557 --> 5555 matches\n",
      "filter_FundamentalMatrix: 4283 matches --> 4277 matches\n",
      "vineyard_split_1_frame_0965.png-vineyard_split_1_frame_0960.png: 4283 --> 4277 matches\n",
      "filter_FundamentalMatrix: 996 matches --> 990 matches\n",
      "vineyard_split_1_frame_0935.png-vineyard_split_1_frame_0945.png: 996 --> 990 matches\n",
      "filter_FundamentalMatrix: 5744 matches --> 5739 matches\n",
      "vineyard_split_1_frame_0935.png-vineyard_split_1_frame_0940.png: 5744 --> 5739 matches\n",
      "filter_FundamentalMatrix: 2990 matches --> 2985 matches\n",
      "vineyard_split_1_frame_0935.png-vineyard_split_1_frame_0925.png: 2990 --> 2985 matches\n",
      "filter_FundamentalMatrix: 218 matches --> 215 matches\n",
      "vineyard_split_1_frame_0935.png-vineyard_split_1_frame_0920.png: 218 --> 215 matches\n",
      "filter_FundamentalMatrix: 451 matches --> 451 matches\n",
      "vineyard_split_1_frame_0970.png-vineyard_split_1_frame_0960.png: 451 --> 451 matches\n",
      "filter_FundamentalMatrix: 131 matches --> 128 matches\n",
      "vineyard_split_1_frame_0970.png-vineyard_split_1_frame_0955.png: 131 --> 128 matches\n",
      "filter_FundamentalMatrix: 3129 matches --> 3122 matches\n",
      "vineyard_split_1_frame_0970.png-vineyard_split_1_frame_0980.png: 3129 --> 3122 matches\n",
      "filter_FundamentalMatrix: 345 matches --> 342 matches\n",
      "vineyard_split_1_frame_0970.png-vineyard_split_1_frame_0985.png: 345 --> 342 matches\n",
      "filter_FundamentalMatrix: 5978 matches --> 5977 matches\n",
      "vineyard_split_1_frame_0970.png-vineyard_split_1_frame_0975.png: 5978 --> 5977 matches\n",
      "filter_FundamentalMatrix: 5771 matches --> 5762 matches\n",
      "vineyard_split_1_frame_0960.png-vineyard_split_1_frame_0955.png: 5771 --> 5762 matches\n",
      "filter_FundamentalMatrix: 103 matches --> 97 matches\n",
      "vineyard_split_1_frame_1095.png-vineyard_split_1_frame_1080.png: 103 --> 97 matches\n",
      "filter_FundamentalMatrix: 1663 matches --> 1651 matches\n",
      "vineyard_split_1_frame_1095.png-vineyard_split_1_frame_1110.png: 1663 --> 1651 matches\n",
      "filter_FundamentalMatrix: 6346 matches --> 6341 matches\n",
      "vineyard_split_1_frame_1095.png-vineyard_split_1_frame_1100.png: 6346 --> 6341 matches\n",
      "filter_FundamentalMatrix: 4697 matches --> 4693 matches\n",
      "vineyard_split_1_frame_1095.png-vineyard_split_1_frame_1105.png: 4697 --> 4693 matches\n",
      "filter_FundamentalMatrix: 2046 matches --> 2037 matches\n",
      "vineyard_split_1_frame_0945.png-vineyard_split_1_frame_0955.png: 2046 --> 2037 matches\n",
      "filter_FundamentalMatrix: 4788 matches --> 4777 matches\n",
      "vineyard_split_1_frame_0945.png-vineyard_split_1_frame_0940.png: 4788 --> 4777 matches\n",
      "filter_FundamentalMatrix: 5576 matches --> 5563 matches\n",
      "vineyard_split_1_frame_0905.png-vineyard_split_1_frame_0910.png: 5576 --> 5563 matches\n",
      "filter_FundamentalMatrix: 4592 matches --> 4578 matches\n",
      "vineyard_split_1_frame_0905.png-vineyard_split_1_frame_0900.png: 4592 --> 4578 matches\n",
      "filter_FundamentalMatrix: 172 matches --> 172 matches\n",
      "vineyard_split_1_frame_0905.png-vineyard_split_1_frame_0920.png: 172 --> 172 matches\n",
      "filter_FundamentalMatrix: 5201 matches --> 5201 matches\n",
      "vineyard_split_1_frame_1085.png-vineyard_split_1_frame_1090.png: 5201 --> 5201 matches\n",
      "filter_FundamentalMatrix: 189 matches --> 184 matches\n",
      "vineyard_split_1_frame_0955.png-vineyard_split_1_frame_0940.png: 189 --> 184 matches\n",
      "filter_FundamentalMatrix: 5904 matches --> 5901 matches\n",
      "vineyard_split_1_frame_0980.png-vineyard_split_1_frame_0985.png: 5904 --> 5901 matches\n",
      "filter_FundamentalMatrix: 6929 matches --> 6928 matches\n",
      "vineyard_split_1_frame_0980.png-vineyard_split_1_frame_0975.png: 6929 --> 6928 matches\n",
      "filter_FundamentalMatrix: 5273 matches --> 5267 matches\n",
      "vineyard_split_1_frame_1045.png-vineyard_split_1_frame_1040.png: 5273 --> 5267 matches\n",
      "filter_FundamentalMatrix: 2836 matches --> 2822 matches\n",
      "vineyard_split_1_frame_1045.png-vineyard_split_1_frame_1035.png: 2836 --> 2822 matches\n",
      "filter_FundamentalMatrix: 3916 matches --> 3916 matches\n",
      "vineyard_split_1_frame_1045.png-vineyard_split_1_frame_1050.png: 3916 --> 3916 matches\n",
      "filter_FundamentalMatrix: 4993 matches --> 4993 matches\n",
      "vineyard_split_1_frame_1080.png-vineyard_split_1_frame_1075.png: 4993 --> 4993 matches\n",
      "filter_FundamentalMatrix: 924 matches --> 922 matches\n",
      "vineyard_split_1_frame_1080.png-vineyard_split_1_frame_1090.png: 924 --> 922 matches\n",
      "filter_FundamentalMatrix: 5851 matches --> 5850 matches\n",
      "vineyard_split_1_frame_1040.png-vineyard_split_1_frame_1035.png: 5851 --> 5850 matches\n",
      "filter_FundamentalMatrix: 2000 matches --> 1994 matches\n",
      "vineyard_split_1_frame_1040.png-vineyard_split_1_frame_1030.png: 2000 --> 1994 matches\n",
      "filter_FundamentalMatrix: 619 matches --> 617 matches\n",
      "vineyard_split_1_frame_1040.png-vineyard_split_1_frame_1050.png: 619 --> 617 matches\n",
      "filter_FundamentalMatrix: 5197 matches --> 5178 matches\n",
      "vineyard_split_1_frame_1110.png-vineyard_split_1_frame_1100.png: 5197 --> 5178 matches\n",
      "filter_FundamentalMatrix: 5760 matches --> 5748 matches\n",
      "vineyard_split_1_frame_1110.png-vineyard_split_1_frame_1105.png: 5760 --> 5748 matches\n",
      "filter_FundamentalMatrix: 862 matches --> 849 matches\n",
      "vineyard_split_1_frame_1020.png-vineyard_split_1_frame_1010.png: 862 --> 849 matches\n",
      "filter_FundamentalMatrix: 1679 matches --> 1666 matches\n",
      "vineyard_split_1_frame_1020.png-vineyard_split_1_frame_1030.png: 1679 --> 1666 matches\n",
      "filter_FundamentalMatrix: 3519 matches --> 3518 matches\n",
      "vineyard_split_1_frame_1020.png-vineyard_split_1_frame_1025.png: 3519 --> 3518 matches\n",
      "filter_FundamentalMatrix: 544 matches --> 544 matches\n",
      "vineyard_split_1_frame_1000.png-vineyard_split_1_frame_1010.png: 544 --> 544 matches\n",
      "filter_FundamentalMatrix: 120 matches --> 112 matches\n",
      "vineyard_split_1_frame_1000.png-vineyard_split_1_frame_0985.png: 120 --> 112 matches\n",
      "filter_FundamentalMatrix: 5241 matches --> 5236 matches\n",
      "vineyard_split_1_frame_1035.png-vineyard_split_1_frame_1030.png: 5241 --> 5236 matches\n",
      "filter_FundamentalMatrix: 181 matches --> 180 matches\n",
      "vineyard_split_1_frame_1035.png-vineyard_split_1_frame_1050.png: 181 --> 180 matches\n",
      "filter_FundamentalMatrix: 2210 matches --> 2194 matches\n",
      "vineyard_split_1_frame_0910.png-vineyard_split_1_frame_0920.png: 2210 --> 2194 matches\n",
      "filter_FundamentalMatrix: 7086 matches --> 7082 matches\n",
      "vineyard_split_1_frame_1100.png-vineyard_split_1_frame_1105.png: 7086 --> 7082 matches\n",
      "filter_FundamentalMatrix: 1095 matches --> 1090 matches\n",
      "vineyard_split_1_frame_1100.png-vineyard_split_1_frame_1090.png: 1095 --> 1090 matches\n",
      "filter_FundamentalMatrix: 418 matches --> 413 matches\n",
      "vineyard_split_1_frame_0940.png-vineyard_split_1_frame_0925.png: 418 --> 413 matches\n",
      "filter_FundamentalMatrix: 5913 matches --> 5908 matches\n",
      "vineyard_split_1_frame_0925.png-vineyard_split_1_frame_0930.png: 5913 --> 5908 matches\n",
      "filter_FundamentalMatrix: 4617 matches --> 4606 matches\n",
      "vineyard_split_1_frame_0925.png-vineyard_split_1_frame_0920.png: 4617 --> 4606 matches\n",
      "filter_FundamentalMatrix: 3481 matches --> 3453 matches\n",
      "vineyard_split_1_frame_0985.png-vineyard_split_1_frame_0975.png: 3481 --> 3453 matches\n",
      "filter_FundamentalMatrix: 6528 matches --> 6523 matches\n",
      "vineyard_split_1_frame_1030.png-vineyard_split_1_frame_1025.png: 6528 --> 6523 matches\n",
      "Ensembled pairs : 330 pairs\n",
      "Local feature extracting and matching. Done in 3179.2524 sec\n"
     ]
    },
    {
     "name": "stderr",
     "output_type": "stream",
     "text": [
      "100%|██████████| 159/159 [00:02<00:00, 77.19it/s]\n",
      "  4%|▍         | 330/7503 [00:00<00:02, 3302.03it/s]\n"
     ]
    },
    {
     "name": "stdout",
     "output_type": "stream",
     "text": [
      "Original results\n",
      "{0: Reconstruction(num_reg_images=44, num_cameras=44, num_points3D=54947, num_observations=214994), 1: Reconstruction(num_reg_images=21, num_cameras=21, num_points3D=12361, num_observations=47247), 2: Reconstruction(num_reg_images=22, num_cameras=22, num_points3D=21784, num_observations=77370), 3: Reconstruction(num_reg_images=59, num_cameras=59, num_points3D=41665, num_observations=142337), 4: Reconstruction(num_reg_images=31, num_cameras=31, num_points3D=36331, num_observations=125490)}\n",
      "{}\n",
      "map 0:Image(image_id=77, camera_id=77, name=\"vineyard_split_3_frame_0070.png\", triangulated=2166/4306)\n",
      "map 0:Image(image_id=78, camera_id=78, name=\"vineyard_split_3_frame_0075.png\", triangulated=4801/8869)\n",
      "map 0:Image(image_id=79, camera_id=79, name=\"vineyard_split_3_frame_0080.png\", triangulated=6266/9279)\n",
      "map 0:Image(image_id=80, camera_id=80, name=\"vineyard_split_3_frame_0085.png\", triangulated=7486/9749)\n",
      "map 0:Image(image_id=81, camera_id=81, name=\"vineyard_split_3_frame_0090.png\", triangulated=7590/10071)\n",
      "map 0:Image(image_id=82, camera_id=82, name=\"vineyard_split_3_frame_0095.png\", triangulated=6255/9136)\n",
      "map 0:Image(image_id=83, camera_id=83, name=\"vineyard_split_3_frame_0100.png\", triangulated=5729/8434)\n",
      "map 0:Image(image_id=84, camera_id=84, name=\"vineyard_split_3_frame_0105.png\", triangulated=6288/8779)\n",
      "map 0:Image(image_id=85, camera_id=85, name=\"vineyard_split_3_frame_0110.png\", triangulated=7156/10021)\n",
      "map 0:Image(image_id=86, camera_id=86, name=\"vineyard_split_3_frame_0115.png\", triangulated=5000/6554)\n",
      "map 0:Image(image_id=87, camera_id=87, name=\"vineyard_split_3_frame_0120.png\", triangulated=4880/8556)\n",
      "map 0:Image(image_id=88, camera_id=88, name=\"vineyard_split_3_frame_0125.png\", triangulated=3686/8062)\n",
      "map 0:Image(image_id=89, camera_id=89, name=\"vineyard_split_3_frame_0130.png\", triangulated=165/530)\n",
      "map 0:Image(image_id=90, camera_id=90, name=\"vineyard_split_3_frame_0135.png\", triangulated=2274/6681)\n",
      "map 0:Image(image_id=91, camera_id=91, name=\"vineyard_split_3_frame_0140.png\", triangulated=2166/6924)\n",
      "map 0:Image(image_id=93, camera_id=93, name=\"vineyard_split_3_frame_0150.png\", triangulated=3667/7603)\n",
      "map 0:Image(image_id=94, camera_id=94, name=\"vineyard_split_3_frame_0155.png\", triangulated=5187/8546)\n",
      "map 0:Image(image_id=95, camera_id=95, name=\"vineyard_split_3_frame_0160.png\", triangulated=6851/9026)\n",
      "map 0:Image(image_id=96, camera_id=96, name=\"vineyard_split_3_frame_0165.png\", triangulated=6923/9330)\n",
      "map 0:Image(image_id=97, camera_id=97, name=\"vineyard_split_3_frame_0170.png\", triangulated=6838/9596)\n",
      "map 0:Image(image_id=98, camera_id=98, name=\"vineyard_split_3_frame_0175.png\", triangulated=5594/8755)\n",
      "map 0:Image(image_id=99, camera_id=99, name=\"vineyard_split_3_frame_0180.png\", triangulated=3758/6771)\n",
      "map 0:Image(image_id=100, camera_id=100, name=\"vineyard_split_3_frame_0185.png\", triangulated=1529/1933)\n",
      "map 0:Image(image_id=101, camera_id=101, name=\"vineyard_split_3_frame_0190.png\", triangulated=2301/6587)\n",
      "map 0:Image(image_id=102, camera_id=102, name=\"vineyard_split_3_frame_0195.png\", triangulated=3390/8385)\n",
      "map 0:Image(image_id=103, camera_id=103, name=\"vineyard_split_3_frame_0200.png\", triangulated=4973/8323)\n",
      "map 0:Image(image_id=104, camera_id=104, name=\"vineyard_split_3_frame_0205.png\", triangulated=5646/8803)\n",
      "map 0:Image(image_id=105, camera_id=105, name=\"vineyard_split_3_frame_0210.png\", triangulated=6006/8543)\n",
      "map 0:Image(image_id=106, camera_id=106, name=\"vineyard_split_3_frame_0215.png\", triangulated=6346/8796)\n",
      "map 0:Image(image_id=107, camera_id=107, name=\"vineyard_split_3_frame_0220.png\", triangulated=6117/9004)\n",
      "map 0:Image(image_id=108, camera_id=108, name=\"vineyard_split_3_frame_0225.png\", triangulated=4274/8149)\n",
      "map 0:Image(image_id=109, camera_id=109, name=\"vineyard_split_3_frame_0230.png\", triangulated=2719/6541)\n",
      "map 0:Image(image_id=111, camera_id=111, name=\"vineyard_split_3_frame_0240.png\", triangulated=2665/7972)\n",
      "map 0:Image(image_id=112, camera_id=112, name=\"vineyard_split_3_frame_0245.png\", triangulated=2918/7885)\n",
      "map 0:Image(image_id=114, camera_id=114, name=\"vineyard_split_3_frame_0255.png\", triangulated=4787/7890)\n",
      "map 0:Image(image_id=115, camera_id=115, name=\"vineyard_split_3_frame_0260.png\", triangulated=5633/9298)\n",
      "map 0:Image(image_id=116, camera_id=116, name=\"vineyard_split_3_frame_0265.png\", triangulated=6510/9272)\n",
      "map 0:Image(image_id=117, camera_id=117, name=\"vineyard_split_3_frame_0270.png\", triangulated=7423/9449)\n",
      "map 0:Image(image_id=118, camera_id=118, name=\"vineyard_split_3_frame_0275.png\", triangulated=7937/9476)\n",
      "map 0:Image(image_id=119, camera_id=119, name=\"vineyard_split_3_frame_0280.png\", triangulated=7826/9966)\n",
      "map 0:Image(image_id=120, camera_id=120, name=\"vineyard_split_3_frame_0285.png\", triangulated=6976/8903)\n",
      "map 0:Image(image_id=121, camera_id=121, name=\"vineyard_split_3_frame_0295.png\", triangulated=3604/5687)\n",
      "map 0:Image(image_id=122, camera_id=122, name=\"vineyard_split_3_frame_0300.png\", triangulated=2353/9029)\n",
      "map 0:Image(image_id=123, camera_id=123, name=\"vineyard_split_3_frame_0305.png\", triangulated=2335/8013)\n",
      "map 1:Image(image_id=21, camera_id=21, name=\"vineyard_split_1_frame_1000.png\", triangulated=97/1808)\n",
      "map 1:Image(image_id=23, camera_id=23, name=\"vineyard_split_1_frame_1010.png\", triangulated=787/4501)\n",
      "map 1:Image(image_id=24, camera_id=24, name=\"vineyard_split_1_frame_1015.png\", triangulated=1010/8339)\n",
      "map 1:Image(image_id=25, camera_id=25, name=\"vineyard_split_1_frame_1020.png\", triangulated=1372/8944)\n",
      "map 1:Image(image_id=26, camera_id=26, name=\"vineyard_split_1_frame_1025.png\", triangulated=1163/8169)\n",
      "map 1:Image(image_id=27, camera_id=27, name=\"vineyard_split_1_frame_1030.png\", triangulated=1533/9068)\n",
      "map 1:Image(image_id=28, camera_id=28, name=\"vineyard_split_1_frame_1035.png\", triangulated=1591/8768)\n",
      "map 1:Image(image_id=29, camera_id=29, name=\"vineyard_split_1_frame_1040.png\", triangulated=1626/8906)\n",
      "map 1:Image(image_id=30, camera_id=30, name=\"vineyard_split_1_frame_1045.png\", triangulated=1592/8214)\n",
      "map 1:Image(image_id=31, camera_id=31, name=\"vineyard_split_1_frame_1050.png\", triangulated=1211/8177)\n",
      "map 1:Image(image_id=32, camera_id=32, name=\"vineyard_split_1_frame_1055.png\", triangulated=900/6542)\n",
      "map 1:Image(image_id=33, camera_id=33, name=\"vineyard_split_1_frame_1065.png\", triangulated=658/4536)\n",
      "map 1:Image(image_id=34, camera_id=34, name=\"vineyard_split_1_frame_1070.png\", triangulated=1592/7311)\n",
      "map 1:Image(image_id=35, camera_id=35, name=\"vineyard_split_1_frame_1075.png\", triangulated=1764/7646)\n",
      "map 1:Image(image_id=36, camera_id=36, name=\"vineyard_split_1_frame_1080.png\", triangulated=1866/5880)\n",
      "map 1:Image(image_id=37, camera_id=37, name=\"vineyard_split_1_frame_1085.png\", triangulated=847/5057)\n",
      "map 1:Image(image_id=38, camera_id=38, name=\"vineyard_split_1_frame_1090.png\", triangulated=1589/6058)\n",
      "map 1:Image(image_id=39, camera_id=39, name=\"vineyard_split_1_frame_1095.png\", triangulated=5668/7369)\n",
      "map 1:Image(image_id=40, camera_id=40, name=\"vineyard_split_1_frame_1100.png\", triangulated=7617/9836)\n",
      "map 1:Image(image_id=41, camera_id=41, name=\"vineyard_split_1_frame_1105.png\", triangulated=6870/9370)\n",
      "map 1:Image(image_id=42, camera_id=42, name=\"vineyard_split_1_frame_1110.png\", triangulated=5894/7213)\n",
      "map 2:Image(image_id=1, camera_id=1, name=\"vineyard_split_1_frame_0900.png\", triangulated=1967/4506)\n",
      "map 2:Image(image_id=2, camera_id=2, name=\"vineyard_split_1_frame_0905.png\", triangulated=4586/8326)\n",
      "map 2:Image(image_id=3, camera_id=3, name=\"vineyard_split_1_frame_0910.png\", triangulated=5795/9800)\n",
      "map 2:Image(image_id=4, camera_id=4, name=\"vineyard_split_1_frame_0915.png\", triangulated=5540/9906)\n",
      "map 2:Image(image_id=5, camera_id=5, name=\"vineyard_split_1_frame_0920.png\", triangulated=4564/8232)\n",
      "map 2:Image(image_id=6, camera_id=6, name=\"vineyard_split_1_frame_0925.png\", triangulated=4714/8950)\n",
      "map 2:Image(image_id=7, camera_id=7, name=\"vineyard_split_1_frame_0930.png\", triangulated=3640/5788)\n",
      "map 2:Image(image_id=8, camera_id=8, name=\"vineyard_split_1_frame_0935.png\", triangulated=4625/7596)\n",
      "map 2:Image(image_id=9, camera_id=9, name=\"vineyard_split_1_frame_0940.png\", triangulated=3443/8241)\n",
      "map 2:Image(image_id=10, camera_id=10, name=\"vineyard_split_1_frame_0945.png\", triangulated=2858/6566)\n",
      "map 2:Image(image_id=11, camera_id=11, name=\"vineyard_split_1_frame_0950.png\", triangulated=537/775)\n",
      "map 2:Image(image_id=12, camera_id=12, name=\"vineyard_split_1_frame_0955.png\", triangulated=2836/7154)\n",
      "map 2:Image(image_id=13, camera_id=13, name=\"vineyard_split_1_frame_0960.png\", triangulated=2774/8468)\n",
      "map 2:Image(image_id=14, camera_id=14, name=\"vineyard_split_1_frame_0965.png\", triangulated=1762/4178)\n",
      "map 2:Image(image_id=15, camera_id=15, name=\"vineyard_split_1_frame_0970.png\", triangulated=4298/6940)\n",
      "map 2:Image(image_id=16, camera_id=16, name=\"vineyard_split_1_frame_0975.png\", triangulated=6209/9790)\n",
      "map 2:Image(image_id=17, camera_id=17, name=\"vineyard_split_1_frame_0980.png\", triangulated=7274/9856)\n",
      "map 2:Image(image_id=18, camera_id=18, name=\"vineyard_split_1_frame_0985.png\", triangulated=5698/9287)\n",
      "map 2:Image(image_id=19, camera_id=19, name=\"vineyard_split_1_frame_0990.png\", triangulated=3596/6625)\n",
      "map 2:Image(image_id=21, camera_id=21, name=\"vineyard_split_1_frame_1000.png\", triangulated=552/1808)\n",
      "map 2:Image(image_id=59, camera_id=59, name=\"vineyard_split_2_frame_1235.png\", triangulated=52/8991)\n",
      "map 2:Image(image_id=131, camera_id=131, name=\"vineyard_split_3_frame_1425.png\", triangulated=50/8755)\n",
      "map 3:Image(image_id=16, camera_id=16, name=\"vineyard_split_1_frame_0975.png\", triangulated=45/9790)\n",
      "map 3:Image(image_id=24, camera_id=24, name=\"vineyard_split_1_frame_1015.png\", triangulated=34/8339)\n",
      "map 3:Image(image_id=43, camera_id=43, name=\"vineyard_split_2_frame_1150.png\", triangulated=2123/5763)\n",
      "map 3:Image(image_id=44, camera_id=44, name=\"vineyard_split_2_frame_1155.png\", triangulated=3352/8918)\n",
      "map 3:Image(image_id=45, camera_id=45, name=\"vineyard_split_2_frame_1160.png\", triangulated=4711/9033)\n",
      "map 3:Image(image_id=46, camera_id=46, name=\"vineyard_split_2_frame_1165.png\", triangulated=5491/9732)\n",
      "map 3:Image(image_id=47, camera_id=47, name=\"vineyard_split_2_frame_1170.png\", triangulated=6220/9702)\n",
      "map 3:Image(image_id=48, camera_id=48, name=\"vineyard_split_2_frame_1175.png\", triangulated=5627/9458)\n",
      "map 3:Image(image_id=49, camera_id=49, name=\"vineyard_split_2_frame_1180.png\", triangulated=4015/7271)\n",
      "map 3:Image(image_id=50, camera_id=50, name=\"vineyard_split_2_frame_1185.png\", triangulated=1928/5249)\n",
      "map 3:Image(image_id=51, camera_id=51, name=\"vineyard_split_2_frame_1195.png\", triangulated=2903/7674)\n",
      "map 3:Image(image_id=52, camera_id=52, name=\"vineyard_split_2_frame_1200.png\", triangulated=3625/7813)\n",
      "map 3:Image(image_id=53, camera_id=53, name=\"vineyard_split_2_frame_1205.png\", triangulated=4090/8319)\n",
      "map 3:Image(image_id=54, camera_id=54, name=\"vineyard_split_2_frame_1210.png\", triangulated=3946/9163)\n",
      "map 3:Image(image_id=55, camera_id=55, name=\"vineyard_split_2_frame_1215.png\", triangulated=3745/7719)\n",
      "map 3:Image(image_id=56, camera_id=56, name=\"vineyard_split_2_frame_1220.png\", triangulated=3391/8919)\n",
      "map 3:Image(image_id=57, camera_id=57, name=\"vineyard_split_2_frame_1225.png\", triangulated=3491/9112)\n",
      "map 3:Image(image_id=58, camera_id=58, name=\"vineyard_split_2_frame_1230.png\", triangulated=4293/8597)\n",
      "map 3:Image(image_id=59, camera_id=59, name=\"vineyard_split_2_frame_1235.png\", triangulated=4591/8991)\n",
      "map 3:Image(image_id=60, camera_id=60, name=\"vineyard_split_2_frame_1240.png\", triangulated=4549/9101)\n",
      "map 3:Image(image_id=61, camera_id=61, name=\"vineyard_split_2_frame_1245.png\", triangulated=3396/8416)\n",
      "map 3:Image(image_id=62, camera_id=62, name=\"vineyard_split_2_frame_1250.png\", triangulated=3279/8320)\n",
      "map 3:Image(image_id=63, camera_id=63, name=\"vineyard_split_2_frame_1255.png\", triangulated=3911/8901)\n",
      "map 3:Image(image_id=64, camera_id=64, name=\"vineyard_split_2_frame_1260.png\", triangulated=3913/9184)\n",
      "map 3:Image(image_id=65, camera_id=65, name=\"vineyard_split_2_frame_1265.png\", triangulated=2980/8301)\n",
      "map 3:Image(image_id=66, camera_id=66, name=\"vineyard_split_2_frame_1270.png\", triangulated=1994/6467)\n",
      "map 3:Image(image_id=67, camera_id=67, name=\"vineyard_split_2_frame_1275.png\", triangulated=3789/8128)\n",
      "map 3:Image(image_id=68, camera_id=68, name=\"vineyard_split_2_frame_1280.png\", triangulated=4196/8830)\n",
      "map 3:Image(image_id=69, camera_id=69, name=\"vineyard_split_2_frame_1285.png\", triangulated=4138/8544)\n",
      "map 3:Image(image_id=70, camera_id=70, name=\"vineyard_split_2_frame_1290.png\", triangulated=2809/8693)\n",
      "map 3:Image(image_id=71, camera_id=71, name=\"vineyard_split_2_frame_1295.png\", triangulated=1749/5774)\n",
      "map 3:Image(image_id=72, camera_id=72, name=\"vineyard_split_2_frame_1300.png\", triangulated=3223/6767)\n",
      "map 3:Image(image_id=73, camera_id=73, name=\"vineyard_split_2_frame_1305.png\", triangulated=2672/9149)\n",
      "map 3:Image(image_id=74, camera_id=74, name=\"vineyard_split_2_frame_1310.png\", triangulated=2380/5943)\n",
      "map 3:Image(image_id=75, camera_id=75, name=\"vineyard_split_2_frame_1315.png\", triangulated=215/4473)\n",
      "map 3:Image(image_id=76, camera_id=76, name=\"vineyard_split_2_frame_1320.png\", triangulated=346/4689)\n",
      "map 3:Image(image_id=136, camera_id=136, name=\"vineyard_split_3_frame_1450.png\", triangulated=206/4320)\n",
      "map 3:Image(image_id=137, camera_id=137, name=\"vineyard_split_3_frame_1460.png\", triangulated=388/7967)\n",
      "map 3:Image(image_id=138, camera_id=138, name=\"vineyard_split_3_frame_1465.png\", triangulated=433/8759)\n",
      "map 3:Image(image_id=139, camera_id=139, name=\"vineyard_split_3_frame_1470.png\", triangulated=719/8644)\n",
      "map 3:Image(image_id=140, camera_id=140, name=\"vineyard_split_3_frame_1475.png\", triangulated=703/9118)\n",
      "map 3:Image(image_id=141, camera_id=141, name=\"vineyard_split_3_frame_1480.png\", triangulated=823/9021)\n",
      "map 3:Image(image_id=142, camera_id=142, name=\"vineyard_split_3_frame_1485.png\", triangulated=709/8483)\n",
      "map 3:Image(image_id=143, camera_id=143, name=\"vineyard_split_3_frame_1490.png\", triangulated=604/5749)\n",
      "map 3:Image(image_id=144, camera_id=144, name=\"vineyard_split_3_frame_1495.png\", triangulated=416/5715)\n",
      "map 3:Image(image_id=145, camera_id=145, name=\"vineyard_split_3_frame_1500.png\", triangulated=592/6634)\n",
      "map 3:Image(image_id=147, camera_id=147, name=\"vineyard_split_3_frame_1510.png\", triangulated=1294/7729)\n",
      "map 3:Image(image_id=148, camera_id=148, name=\"vineyard_split_3_frame_1515.png\", triangulated=1252/7761)\n",
      "map 3:Image(image_id=149, camera_id=149, name=\"vineyard_split_3_frame_1520.png\", triangulated=1708/7278)\n",
      "map 3:Image(image_id=150, camera_id=150, name=\"vineyard_split_3_frame_1525.png\", triangulated=1452/7709)\n",
      "map 3:Image(image_id=151, camera_id=151, name=\"vineyard_split_3_frame_1530.png\", triangulated=1226/7807)\n",
      "map 3:Image(image_id=152, camera_id=152, name=\"vineyard_split_3_frame_1535.png\", triangulated=742/3566)\n",
      "map 3:Image(image_id=153, camera_id=153, name=\"vineyard_split_3_frame_1540.png\", triangulated=1728/6750)\n",
      "map 3:Image(image_id=154, camera_id=154, name=\"vineyard_split_3_frame_1545.png\", triangulated=1938/9634)\n",
      "map 3:Image(image_id=155, camera_id=155, name=\"vineyard_split_3_frame_1550.png\", triangulated=1817/5793)\n",
      "map 3:Image(image_id=156, camera_id=156, name=\"vineyard_split_3_frame_1555.png\", triangulated=1283/4993)\n",
      "map 3:Image(image_id=157, camera_id=157, name=\"vineyard_split_3_frame_1560.png\", triangulated=1909/8916)\n",
      "map 3:Image(image_id=158, camera_id=158, name=\"vineyard_split_3_frame_1565.png\", triangulated=1780/9190)\n",
      "map 3:Image(image_id=159, camera_id=159, name=\"vineyard_split_3_frame_1570.png\", triangulated=1455/6207)\n",
      "map 4:Image(image_id=1, camera_id=1, name=\"vineyard_split_1_frame_0900.png\", triangulated=1990/4506)\n",
      "map 4:Image(image_id=2, camera_id=2, name=\"vineyard_split_1_frame_0905.png\", triangulated=4608/8326)\n",
      "map 4:Image(image_id=3, camera_id=3, name=\"vineyard_split_1_frame_0910.png\", triangulated=5802/9800)\n",
      "map 4:Image(image_id=4, camera_id=4, name=\"vineyard_split_1_frame_0915.png\", triangulated=5542/9906)\n",
      "map 4:Image(image_id=5, camera_id=5, name=\"vineyard_split_1_frame_0920.png\", triangulated=4595/8232)\n",
      "map 4:Image(image_id=6, camera_id=6, name=\"vineyard_split_1_frame_0925.png\", triangulated=4699/8950)\n",
      "map 4:Image(image_id=7, camera_id=7, name=\"vineyard_split_1_frame_0930.png\", triangulated=3646/5788)\n",
      "map 4:Image(image_id=8, camera_id=8, name=\"vineyard_split_1_frame_0935.png\", triangulated=4617/7596)\n",
      "map 4:Image(image_id=9, camera_id=9, name=\"vineyard_split_1_frame_0940.png\", triangulated=3457/8241)\n",
      "map 4:Image(image_id=10, camera_id=10, name=\"vineyard_split_1_frame_0945.png\", triangulated=2867/6566)\n",
      "map 4:Image(image_id=11, camera_id=11, name=\"vineyard_split_1_frame_0950.png\", triangulated=535/775)\n",
      "map 4:Image(image_id=12, camera_id=12, name=\"vineyard_split_1_frame_0955.png\", triangulated=2857/7154)\n",
      "map 4:Image(image_id=13, camera_id=13, name=\"vineyard_split_1_frame_0960.png\", triangulated=2747/8468)\n",
      "map 4:Image(image_id=14, camera_id=14, name=\"vineyard_split_1_frame_0965.png\", triangulated=1744/4178)\n",
      "map 4:Image(image_id=15, camera_id=15, name=\"vineyard_split_1_frame_0970.png\", triangulated=4344/6940)\n",
      "map 4:Image(image_id=16, camera_id=16, name=\"vineyard_split_1_frame_0975.png\", triangulated=6213/9790)\n",
      "map 4:Image(image_id=17, camera_id=17, name=\"vineyard_split_1_frame_0980.png\", triangulated=7185/9856)\n",
      "map 4:Image(image_id=18, camera_id=18, name=\"vineyard_split_1_frame_0985.png\", triangulated=5284/9287)\n",
      "map 4:Image(image_id=124, camera_id=124, name=\"vineyard_split_3_frame_1390.png\", triangulated=1328/3304)\n",
      "map 4:Image(image_id=125, camera_id=125, name=\"vineyard_split_3_frame_1395.png\", triangulated=4506/8492)\n",
      "map 4:Image(image_id=126, camera_id=126, name=\"vineyard_split_3_frame_1400.png\", triangulated=5771/9453)\n",
      "map 4:Image(image_id=127, camera_id=127, name=\"vineyard_split_3_frame_1405.png\", triangulated=6077/9592)\n",
      "map 4:Image(image_id=128, camera_id=128, name=\"vineyard_split_3_frame_1410.png\", triangulated=5420/9436)\n",
      "map 4:Image(image_id=129, camera_id=129, name=\"vineyard_split_3_frame_1415.png\", triangulated=4768/9731)\n",
      "map 4:Image(image_id=130, camera_id=130, name=\"vineyard_split_3_frame_1420.png\", triangulated=4389/8794)\n",
      "map 4:Image(image_id=131, camera_id=131, name=\"vineyard_split_3_frame_1425.png\", triangulated=4386/8755)\n",
      "map 4:Image(image_id=132, camera_id=132, name=\"vineyard_split_3_frame_1430.png\", triangulated=4394/8770)\n",
      "map 4:Image(image_id=133, camera_id=133, name=\"vineyard_split_3_frame_1435.png\", triangulated=4592/8198)\n",
      "map 4:Image(image_id=134, camera_id=134, name=\"vineyard_split_3_frame_1440.png\", triangulated=3766/8628)\n",
      "map 4:Image(image_id=135, camera_id=135, name=\"vineyard_split_3_frame_1445.png\", triangulated=2307/8043)\n",
      "map 4:Image(image_id=136, camera_id=136, name=\"vineyard_split_3_frame_1450.png\", triangulated=1054/4320)\n",
      "Dataset  fbk_vineyard -> Registered 177 / 163 images with 5 clusters\n",
      "Skipping \"ETs\"\n",
      "Skipping \"stairs\"\n",
      "\n",
      "Results\n",
      "Dataset  fbk_vineyard -> Registered 177 / 163 images with 5 clusters\n",
      "\n",
      "Timings\n",
      "rotation_detection -> total=0.00 sec.\n",
      "global feature extraction -> total=0.00 sec.\n",
      "shortlisting -> total=31.09 sec.\n",
      "feature_detection -> total=0.00 sec.\n",
      "feature_matching -> total=3156.26 sec.\n",
      "RANSAC -> total=3.59 sec.\n",
      "Reconstruction -> total=538.74 sec.\n"
     ]
    }
   ],
   "source": [
    "gc.collect()\n",
    "\n",
    "max_images = None  # Used For debugging only. Set to None to disable.\n",
    "datasets_to_process = None  # Not the best convention, but None means all datasets.\n",
    "\n",
    "if is_train:\n",
    "    # max_images = 5\n",
    "\n",
    "    # Note: When running on the training dataset, the notebook will hit the time limit and die. Use this filter to run on a few specific datasets.\n",
    "    datasets_to_process = [\n",
    "    \t# New data.\n",
    "    \t# 'amy_gardens',\n",
    "    \t# 'ETs',\n",
    "    \t'fbk_vineyard',\n",
    "    \t# 'stairs',\n",
    "    \t# Data from IMC 2023 and 2024.\n",
    "    \t# 'imc2024_dioscuri_baalshamin',\n",
    "    \t# 'imc2023_theather_imc2024_church',\n",
    "    \t# 'imc2023_heritage',\n",
    "    \t# 'imc2023_haiper',\n",
    "    \t# 'imc2024_lizard_pond',\n",
    "    \t# Crowdsourced PhotoTourism data.\n",
    "    \t# # 'pt_stpeters_stpauls',\n",
    "    \t# # 'pt_brandenburg_british_buckingham',\n",
    "    \t# # 'pt_piazzasanmarco_grandplace',\n",
    "    \t# # 'pt_sacrecoeur_trevi_tajmahal',\n",
    "    ]\n",
    "\n",
    "timings = {\n",
    "    'rotation_detection':[],\n",
    "    \"global feature extraction\":[],\n",
    "    \"shortlisting\":[],\n",
    "    \"feature_detection\": [],\n",
    "    \"feature_matching\":[],\n",
    "    \"RANSAC\": [],\n",
    "    \"Reconstruction\": [],\n",
    "}\n",
    "mapping_result_strs = []\n",
    "\n",
    "# Load DINOv2 model (for feature extraction, not global descriptor here)\n",
    "print(\"Loading DINOv2 model for patch feature extraction...\")\n",
    "dino_processor = AutoImageProcessor.from_pretrained('/kaggle/input/dinov2/pytorch/base/1')\n",
    "dino_model = AutoModel.from_pretrained('/kaggle/input/dinov2/pytorch/base/1')\n",
    "dino_model = dino_model.eval().to(device)\n",
    "print(\"DINOv2 model loaded.\")\n",
    "\n",
    "with concurrent.futures.ProcessPoolExecutor(max_workers=CONFIG.NUM_CORES) as executors:\n",
    "    # print (f\"Extracting on device {device}\")\n",
    "    for dataset, predictions in samples.items():\n",
    "        if datasets_to_process and dataset not in datasets_to_process:\n",
    "            print(f'Skipping \"{dataset}\"')\n",
    "            continue\n",
    "        \n",
    "        images_dir = os.path.join(data_dir, 'train' if is_train else 'test', dataset)\n",
    "        images = [os.path.join(images_dir, p.filename) for p in predictions]\n",
    "        if max_images is not None:\n",
    "            images = images[:max_images]\n",
    "    \n",
    "        print(f'\\nProcessing dataset \"{dataset}\": {len(images)} images')\n",
    "    \n",
    "        filename_to_index = {p.filename: idx for idx, p in enumerate(predictions)}\n",
    "    \n",
    "        feature_dir = os.path.join(workdir, 'featureout', dataset)\n",
    "        os.makedirs(feature_dir, exist_ok=True)\n",
    "    \n",
    "        # Wrap algos in try-except blocks so we can populate a submission even if one scene crashes.\n",
    "        try:\n",
    "            # --- Pipeline Execution ---\n",
    "            \n",
    "            #############################################################\n",
    "            # get image rotations\n",
    "            #############################################################\n",
    "            t = time()\n",
    "            # if CONFIG.ROTATION_CORRECTION:\n",
    "            #     rots = exec_rotation_detection(images, device)\n",
    "            # else:\n",
    "            #     rots = [ 0 for fname in images ]\n",
    "            rots = [ 0 for fname in images ]\n",
    "            t = time()-t\n",
    "            timings['rotation_detection'].append(t)\n",
    "            print(f'rotation_detection for {len(images)} images : {t:.4f} sec')\n",
    "            # print(\"!!!!!!!!!!!!!!!!!!!!!!\")\n",
    "            gc.collect()\n",
    "            #############################################################\n",
    "            # get image pairs\n",
    "            #############################################################\n",
    "            # 1. Detect ALIKED features and combine with DINO patch features\n",
    "            t = time()\n",
    "            index_pairs = get_image_pairs_shortlist(\n",
    "                images,\n",
    "                sim_th = 0.3, # should be strict\n",
    "                min_pairs = 10, # we should select at least min_pairs PER IMAGE with biggest similarity\n",
    "                max_pairs = 20,\n",
    "                exhaustive_if_less = 20,\n",
    "                device=device\n",
    "            )\n",
    "            timings['shortlisting'].append(time() - t)\n",
    "            print (f'Shortlisting. Number of pairs to match: {len(index_pairs)}. Done in {time() - t:.4f} sec')\n",
    "            gc.collect()\n",
    "            # print(\"\\n--- Step 1: Detecting ALIKED and Combining with DINO Patch Features ---\")\n",
    "            # detect_aliked_and_combine_with_dino(\n",
    "            #     img_fnames=images,\n",
    "            #     feature_dir=feature_dir,\n",
    "            #     num_features=4096,\n",
    "            #     resize_to=1024,\n",
    "            #     dino_processor=dino_processor,\n",
    "            #     dino_model=dino_model,\n",
    "            #     dino_patch_size=14, # Adjust based on your DINO model's patch size (e.g., 14 for DINOv2 base)\n",
    "            #     device=device\n",
    "            # )\n",
    "            # timings['global feature extraction'].append(time() - t)\n",
    "            # print (f'Gloabl feature extracting. Done in {time() - t:.4f} sec')\n",
    "            # gc.collect()\n",
    "            \n",
    "            # # 2. Get image pairs shortlist using VLAD global descriptors\n",
    "            # print(\"\\n--- Step 2: Generating Image Pair Shortlist using VLAD ---\")\n",
    "            # # Adjust num_clusters_vlad as needed (e.g., 64, 128, 256)\n",
    "            # # Higher clusters mean higher dimensionality for global descriptor.\n",
    "            # index_pairs = get_image_pairs_shortlist_vlad(\n",
    "            #     fnames=images,\n",
    "            #     sim_th=0.5,\n",
    "            #     min_pairs=20,\n",
    "            #     exhaustive_if_less=20,\n",
    "            #     feature_dir=feature_dir,\n",
    "            #     num_clusters_vlad=128, # Example: 128 clusters for VLAD\n",
    "            #     device=device\n",
    "            # )\n",
    "            # index_pairs = get_img_pairs_exhaustive(images)\n",
    "            \n",
    "            print(f\"Generated {len(index_pairs)} image pairs using VLAD global descriptor.\")\n",
    "            timings['shortlisting'].append(time() - t)\n",
    "            print (f'Shortlisting. Number of pairs to match: {len(index_pairs)}. Done in {time() - t:.4f} sec')\n",
    "            gc.collect()\n",
    "            #############################################################\n",
    "            # get keypoints\n",
    "            #############################################################    \n",
    "            t=time()\n",
    "            keypoints_timings = wrapper_keypoints(\n",
    "                images, index_pairs, feature_dir, device, timings, rots\n",
    "            )\n",
    "            timings['feature_matching'] = keypoints_timings['feature_matching']\n",
    "            gc.collect()\n",
    "            print (f'Local feature extracting and matching. Done in {time() - t:.4f} sec')\n",
    "            #############################################################\n",
    "            # kick COLMAP reconstruction\n",
    "            #############################################################            \n",
    "            future = executors.submit(\n",
    "                reconstruct_from_db, \n",
    "                feature_dir, images_dir)\n",
    "            maps, local_timings = future.result()\n",
    "            # 合并 timings（主进程里）\n",
    "            for k in local_timings:\n",
    "                timings[k].extend(local_timings[k])\n",
    "            # clear_output(wait=False)\n",
    "            registered = 0\n",
    "            for map_index, cur_map in maps.items():  # cur_map: image_name → {'R': list, 't': list}\n",
    "                for image_name, pose in cur_map.items():\n",
    "                    idx = filename_to_index[image_name]\n",
    "                    pred = predictions[idx]\n",
    "                    pred.cluster_index = map_index\n",
    "                    pred.rotation = np.array(pose['R'])  # convert back to np.ndarray\n",
    "                    pred.translation = np.array(pose['t'])\n",
    "                    registered += 1\n",
    "            mapping_result_str = f\"Dataset  {dataset} -> Registered {registered} / {len(images)} images with {len(maps)} clusters\"\n",
    "            mapping_result_strs.append(mapping_result_str)\n",
    "            print(mapping_result_str)\n",
    "\n",
    "            gc.collect()\n",
    "        except Exception as e:\n",
    "            print(e)\n",
    "            # raise e\n",
    "            mapping_result_str = f'Dataset \"{dataset}\" -> Failed!'\n",
    "            mapping_result_strs.append(mapping_result_str)\n",
    "            print(mapping_result_str)\n",
    "\n",
    "print('\\nResults')\n",
    "for s in mapping_result_strs:\n",
    "    print(s)\n",
    "\n",
    "print('\\nTimings')\n",
    "for k, v in timings.items():\n",
    "    print(f'{k} -> total={sum(v):.02f} sec.')"
   ]
  },
  {
   "cell_type": "code",
   "execution_count": 25,
   "id": "7b6cf3d9",
   "metadata": {
    "execution": {
     "iopub.execute_input": "2025-05-30T08:40:56.097786Z",
     "iopub.status.busy": "2025-05-30T08:40:56.097389Z",
     "iopub.status.idle": "2025-05-30T08:40:56.276777Z",
     "shell.execute_reply": "2025-05-30T08:40:56.275917Z"
    },
    "papermill": {
     "duration": 0.898327,
     "end_time": "2025-05-30T08:40:56.278162",
     "exception": false,
     "start_time": "2025-05-30T08:40:55.379835",
     "status": "completed"
    },
    "tags": []
   },
   "outputs": [
    {
     "name": "stdout",
     "output_type": "stream",
     "text": [
      "dataset,scene,image,rotation_matrix,translation_vector\r\n",
      "imc2023_haiper,outliers,fountain_image_116.png,nan;nan;nan;nan;nan;nan;nan;nan;nan,nan;nan;nan\r\n",
      "imc2023_haiper,outliers,fountain_image_108.png,nan;nan;nan;nan;nan;nan;nan;nan;nan,nan;nan;nan\r\n",
      "imc2023_haiper,outliers,fountain_image_101.png,nan;nan;nan;nan;nan;nan;nan;nan;nan,nan;nan;nan\r\n",
      "imc2023_haiper,outliers,fountain_image_082.png,nan;nan;nan;nan;nan;nan;nan;nan;nan,nan;nan;nan\r\n",
      "imc2023_haiper,outliers,fountain_image_071.png,nan;nan;nan;nan;nan;nan;nan;nan;nan,nan;nan;nan\r\n",
      "imc2023_haiper,outliers,fountain_image_025.png,nan;nan;nan;nan;nan;nan;nan;nan;nan,nan;nan;nan\r\n",
      "imc2023_haiper,outliers,fountain_image_000.png,nan;nan;nan;nan;nan;nan;nan;nan;nan,nan;nan;nan\r\n",
      "imc2023_haiper,outliers,fountain_image_007.png,nan;nan;nan;nan;nan;nan;nan;nan;nan,nan;nan;nan\r\n",
      "imc2023_haiper,outliers,fountain_image_012.png,nan;nan;nan;nan;nan;nan;nan;nan;nan,nan;nan;nan\r\n"
     ]
    }
   ],
   "source": [
    "# Helpers\n",
    "array_to_str = lambda array: ';'.join([f\"{x:.09f}\" for x in array])\n",
    "none_to_str = lambda n: ';'.join(['nan'] * n)\n",
    "\n",
    "submission_file = '/kaggle/working/submission.csv'\n",
    "with open(submission_file, 'w') as f:\n",
    "    if is_train:\n",
    "        f.write('dataset,scene,image,rotation_matrix,translation_vector\\n')\n",
    "        for dataset, predictions in samples.items():\n",
    "            for prediction in predictions:\n",
    "                cluster_name = 'outliers' if prediction.cluster_index is None else f'cluster{prediction.cluster_index}'\n",
    "\n",
    "                # ✅ `rotation` is a list of lists, flatten it\n",
    "                if prediction.rotation is None:\n",
    "                    rotation_str = none_to_str(9)\n",
    "                else:\n",
    "                    rotation_flat =  prediction.rotation.flatten()  # flatten 3x3 list -> 9 elems\n",
    "                    rotation_str = array_to_str(rotation_flat)\n",
    "\n",
    "                # ✅ `translation` is a flat list\n",
    "                if prediction.translation is None:\n",
    "                    translation_str = none_to_str(3)\n",
    "                else:\n",
    "                    translation_str = array_to_str(prediction.translation)\n",
    "\n",
    "                f.write(f'{prediction.dataset},{cluster_name},{prediction.filename},{rotation_str},{translation_str}\\n')\n",
    "    else:\n",
    "        f.write('image_id,dataset,scene,image,rotation_matrix,translation_vector\\n')\n",
    "        for dataset, predictions in samples.items():\n",
    "            for prediction in predictions:\n",
    "                cluster_name = 'outliers' if prediction.cluster_index is None else f'cluster{prediction.cluster_index}'\n",
    "\n",
    "                if prediction.rotation is None:\n",
    "                    rotation_str = none_to_str(9)\n",
    "                else:\n",
    "                    rotation_flat =  prediction.rotation.flatten()\n",
    "                    rotation_str = array_to_str(rotation_flat)\n",
    "\n",
    "                if prediction.translation is None:\n",
    "                    translation_str = none_to_str(3)\n",
    "                else:\n",
    "                    translation_str = array_to_str(prediction.translation)\n",
    "\n",
    "                f.write(f'{prediction.image_id},{prediction.dataset},{cluster_name},{prediction.filename},{rotation_str},{translation_str}\\n')\n",
    "\n",
    "# Preview the output\n",
    "!head {submission_file}\n"
   ]
  },
  {
   "cell_type": "code",
   "execution_count": 26,
   "id": "dc5a4d3f",
   "metadata": {
    "execution": {
     "iopub.execute_input": "2025-05-30T08:40:57.747788Z",
     "iopub.status.busy": "2025-05-30T08:40:57.747460Z",
     "iopub.status.idle": "2025-05-30T08:41:26.091732Z",
     "shell.execute_reply": "2025-05-30T08:41:26.090916Z"
    },
    "papermill": {
     "duration": 29.051596,
     "end_time": "2025-05-30T08:41:26.093043",
     "exception": false,
     "start_time": "2025-05-30T08:40:57.041447",
     "status": "completed"
    },
    "tags": []
   },
   "outputs": [
    {
     "name": "stdout",
     "output_type": "stream",
     "text": [
      "imc2023_haiper: score=0.00% (mAA=0.00%, clusterness=100.00%)\n",
      "imc2023_heritage: score=0.00% (mAA=0.00%, clusterness=100.00%)\n",
      "imc2023_theather_imc2024_church: score=0.00% (mAA=0.00%, clusterness=100.00%)\n",
      "imc2024_dioscuri_baalshamin: score=0.00% (mAA=0.00%, clusterness=100.00%)\n",
      "imc2024_lizard_pond: score=0.00% (mAA=0.00%, clusterness=100.00%)\n",
      "pt_brandenburg_british_buckingham: score=0.00% (mAA=0.00%, clusterness=100.00%)\n",
      "pt_piazzasanmarco_grandplace: score=0.00% (mAA=0.00%, clusterness=100.00%)\n",
      "pt_sacrecoeur_trevi_tajmahal: score=0.00% (mAA=0.00%, clusterness=100.00%)\n",
      "pt_stpeters_stpauls: score=0.00% (mAA=0.00%, clusterness=100.00%)\n",
      "amy_gardens: score=0.00% (mAA=0.00%, clusterness=100.00%)\n",
      "fbk_vineyard: score=41.86% (mAA=28.25%, clusterness=80.83%)\n",
      "ETs: score=0.00% (mAA=0.00%, clusterness=100.00%)\n",
      "stairs: score=0.00% (mAA=0.00%, clusterness=100.00%)\n",
      "Average over all datasets: score=3.22% (mAA=2.17%, clusterness=98.53%)\n",
      "Computed metric in: 28.34 sec.\n"
     ]
    }
   ],
   "source": [
    "# Definitely Compute results if running on the training set.\n",
    "# Do not do this when submitting a notebook for scoring. All you have to do is save your submission to /kaggle/working/submission.csv.\n",
    "\n",
    "if is_train:\n",
    "    t = time()\n",
    "    final_score, dataset_scores = metric.score(\n",
    "        gt_csv='/kaggle/input/image-matching-challenge-2025/train_labels.csv',\n",
    "        user_csv=submission_file,\n",
    "        thresholds_csv='/kaggle/input/image-matching-challenge-2025/train_thresholds.csv',\n",
    "        mask_csv=None if is_train else os.path.join(data_dir, 'mask.csv'),\n",
    "        inl_cf=0,\n",
    "        strict_cf=-1,\n",
    "        verbose=True,\n",
    "    )\n",
    "    print(f'Computed metric in: {time() - t:.02f} sec.')"
   ]
  },
  {
   "cell_type": "code",
   "execution_count": null,
   "id": "5009a682",
   "metadata": {
    "papermill": {
     "duration": 0.702094,
     "end_time": "2025-05-30T08:41:27.559429",
     "exception": false,
     "start_time": "2025-05-30T08:41:26.857335",
     "status": "completed"
    },
    "tags": []
   },
   "outputs": [],
   "source": []
  }
 ],
 "metadata": {
  "kaggle": {
   "accelerator": "nvidiaTeslaT4",
   "dataSources": [
    {
     "databundleVersionId": 11655853,
     "sourceId": 91498,
     "sourceType": "competition"
    },
    {
     "datasetId": 4628051,
     "sourceId": 7884485,
     "sourceType": "datasetVersion"
    },
    {
     "datasetId": 6988459,
     "sourceId": 11924468,
     "sourceType": "datasetVersion"
    },
    {
     "datasetId": 7505602,
     "sourceId": 11938492,
     "sourceType": "datasetVersion"
    },
    {
     "datasetId": 7542297,
     "sourceId": 11991336,
     "sourceType": "datasetVersion"
    },
    {
     "modelId": 986,
     "modelInstanceId": 3326,
     "sourceId": 4534,
     "sourceType": "modelInstanceVersion"
    },
    {
     "modelId": 21716,
     "modelInstanceId": 14317,
     "sourceId": 17191,
     "sourceType": "modelInstanceVersion"
    },
    {
     "modelId": 22086,
     "modelInstanceId": 14611,
     "sourceId": 17555,
     "sourceType": "modelInstanceVersion"
    }
   ],
   "dockerImageVersionId": 30919,
   "isGpuEnabled": true,
   "isInternetEnabled": false,
   "language": "python",
   "sourceType": "notebook"
  },
  "kernelspec": {
   "display_name": "Python 3",
   "language": "python",
   "name": "python3"
  },
  "language_info": {
   "codemirror_mode": {
    "name": "ipython",
    "version": 3
   },
   "file_extension": ".py",
   "mimetype": "text/x-python",
   "name": "python",
   "nbconvert_exporter": "python",
   "pygments_lexer": "ipython3",
   "version": "3.10.12"
  },
  "papermill": {
   "default_parameters": {},
   "duration": 3836.75044,
   "end_time": "2025-05-30T08:41:32.079602",
   "environment_variables": {},
   "exception": null,
   "input_path": "__notebook__.ipynb",
   "output_path": "__notebook__.ipynb",
   "parameters": {},
   "start_time": "2025-05-30T07:37:35.329162",
   "version": "2.6.0"
  }
 },
 "nbformat": 4,
 "nbformat_minor": 5
}
