{
 "cells": [
  {
   "cell_type": "markdown",
   "id": "226cc15e",
   "metadata": {
    "papermill": {
     "duration": 0.002347,
     "end_time": "2025-06-05T06:29:12.538882",
     "exception": false,
     "start_time": "2025-06-05T06:29:12.536535",
     "status": "completed"
    },
    "tags": []
   },
   "source": [
    "Version1, VGGT with refiner\n",
    "\n",
    "Version2, VGGT w/o refiner\n",
    "\n",
    "Version3, LightGlue with refiner"
   ]
  },
  {
   "cell_type": "code",
   "execution_count": 1,
   "id": "8af28262",
   "metadata": {
    "execution": {
     "iopub.execute_input": "2025-06-05T06:29:12.543651Z",
     "iopub.status.busy": "2025-06-05T06:29:12.543414Z",
     "iopub.status.idle": "2025-06-05T06:29:12.547736Z",
     "shell.execute_reply": "2025-06-05T06:29:12.547152Z"
    },
    "papermill": {
     "duration": 0.007899,
     "end_time": "2025-06-05T06:29:12.548928",
     "exception": false,
     "start_time": "2025-06-05T06:29:12.541029",
     "status": "completed"
    },
    "tags": []
   },
   "outputs": [],
   "source": [
    "DEBUG = False\n",
    "\n",
    "import os\n",
    "if os.getenv('KAGGLE_IS_COMPETITION_RERUN'):\n",
    "    DEBUG = False\n",
    "\n",
    "SAVE_FLAG = (not os.getenv('KAGGLE_IS_COMPETITION_RERUN') and not DEBUG)"
   ]
  },
  {
   "cell_type": "code",
   "execution_count": 2,
   "id": "9c331067",
   "metadata": {
    "execution": {
     "iopub.execute_input": "2025-06-05T06:29:12.553265Z",
     "iopub.status.busy": "2025-06-05T06:29:12.553071Z",
     "iopub.status.idle": "2025-06-05T06:29:12.556801Z",
     "shell.execute_reply": "2025-06-05T06:29:12.555865Z"
    },
    "papermill": {
     "duration": 0.007128,
     "end_time": "2025-06-05T06:29:12.557941",
     "exception": false,
     "start_time": "2025-06-05T06:29:12.550813",
     "status": "completed"
    },
    "tags": []
   },
   "outputs": [
    {
     "name": "stdout",
     "output_type": "stream",
     "text": [
      "True\n"
     ]
    }
   ],
   "source": [
    "print(SAVE_FLAG)"
   ]
  },
  {
   "cell_type": "code",
   "execution_count": 3,
   "id": "505dcd76",
   "metadata": {
    "execution": {
     "iopub.execute_input": "2025-06-05T06:29:12.562762Z",
     "iopub.status.busy": "2025-06-05T06:29:12.562571Z",
     "iopub.status.idle": "2025-06-05T06:29:12.568411Z",
     "shell.execute_reply": "2025-06-05T06:29:12.567775Z"
    },
    "papermill": {
     "duration": 0.009611,
     "end_time": "2025-06-05T06:29:12.569612",
     "exception": false,
     "start_time": "2025-06-05T06:29:12.560001",
     "status": "completed"
    },
    "tags": []
   },
   "outputs": [],
   "source": [
    "def install():\n",
    "\n",
    "    !dpkg -i --force-depends /kaggle/input/colmap-offline-installer/archives/*.deb >/dev/null 2>&1\n",
    "    \n",
    "    !cp -r /kaggle/input/incremental-model-refiner-binary/colmap-bin /kaggle/working\n",
    "    !chmod +x /kaggle/working/colmap-bin/bin/colmap\n",
    "\n",
    "    import os\n",
    "    os.environ[\"COLMAP_PATH\"] = \"/kaggle/working/colmap-bin/bin/colmap\"\n",
    "    \n",
    "    COLMAP_PATH = os.environ.get(\"COLMAP_PATH\", \"colmap\")\n",
    "    !{COLMAP_PATH} incremental_model_refiner -h"
   ]
  },
  {
   "cell_type": "code",
   "execution_count": 4,
   "id": "3e30e279",
   "metadata": {
    "execution": {
     "iopub.execute_input": "2025-06-05T06:29:12.574270Z",
     "iopub.status.busy": "2025-06-05T06:29:12.574072Z",
     "iopub.status.idle": "2025-06-05T06:29:12.586385Z",
     "shell.execute_reply": "2025-06-05T06:29:12.585755Z"
    },
    "papermill": {
     "duration": 0.015908,
     "end_time": "2025-06-05T06:29:12.587551",
     "exception": false,
     "start_time": "2025-06-05T06:29:12.571643",
     "status": "completed"
    },
    "tags": []
   },
   "outputs": [],
   "source": [
    "def preprocess():\n",
    "    \n",
    "    !mkdir -p /root/.cache/torch/hub/checkpoints\n",
    "\n",
    "    # KeyNet - adalam\n",
    "    !cp -v /kaggle/input/kornia-local-feature-weights/* /root/.cache/torch/hub/checkpoints/\n",
    "\n",
    "    # VGGT Tracker\n",
    "    !cp -v /kaggle/input/lightglue-offline/ALIKED/aliked-n16.pth /root/.cache/torch/hub/checkpoints/\n",
    "    !cp -v /kaggle/input/lightglue-offline/ALIKED/aliked_lightglue_v0-1_arxiv.pth /root/.cache/torch/hub/checkpoints/aliked_lightglue_v0-1_arxiv-pth\n",
    "    !cp -v /kaggle/input/lightglue-offline/SuperPoint/superpoint_v1.pth /root/.cache/torch/hub/checkpoints/\n",
    "\n",
    "    # ALIKED - LightGlue\n",
    "    !cp -v /kaggle/input/lightglue-offline/ALIKED/aliked-n16.pth /root/.cache/torch/hub/checkpoints/\n",
    "    !cp -v /kaggle/input/lightglue-offline/ALIKED/aliked_lightglue_v0-1_arxiv.pth /root/.cache/torch/hub/checkpoints/aliked_lightglue_v0-1_arxiv.pth\n",
    "    \n",
    "    return"
   ]
  },
  {
   "cell_type": "code",
   "execution_count": 5,
   "id": "6ae4ed02",
   "metadata": {
    "execution": {
     "iopub.execute_input": "2025-06-05T06:29:12.592042Z",
     "iopub.status.busy": "2025-06-05T06:29:12.591834Z",
     "iopub.status.idle": "2025-06-05T06:29:12.595080Z",
     "shell.execute_reply": "2025-06-05T06:29:12.594492Z"
    },
    "papermill": {
     "duration": 0.006675,
     "end_time": "2025-06-05T06:29:12.596186",
     "exception": false,
     "start_time": "2025-06-05T06:29:12.589511",
     "status": "completed"
    },
    "tags": []
   },
   "outputs": [],
   "source": [
    "def inference():\n",
    "\n",
    "    !python3 /kaggle/input/imc2025-exp66-vggt-with-incremental-model-refiner/inference.py \\\n",
    "        param=submission\n",
    "\n",
    "    return"
   ]
  },
  {
   "cell_type": "code",
   "execution_count": 6,
   "id": "0ecb2481",
   "metadata": {
    "execution": {
     "iopub.execute_input": "2025-06-05T06:29:12.600803Z",
     "iopub.status.busy": "2025-06-05T06:29:12.600610Z",
     "iopub.status.idle": "2025-06-05T06:29:13.317909Z",
     "shell.execute_reply": "2025-06-05T06:29:13.317013Z"
    },
    "papermill": {
     "duration": 0.721238,
     "end_time": "2025-06-05T06:29:13.319466",
     "exception": false,
     "start_time": "2025-06-05T06:29:12.598228",
     "status": "completed"
    },
    "tags": []
   },
   "outputs": [],
   "source": [
    "import pandas as pd\n",
    "import numpy as np\n",
    "\n",
    "def postprocess():\n",
    "    \n",
    "    df = pd.read_csv(\"/kaggle/working/submission.csv\")\n",
    "    !rm /kaggle/working/*.csv\n",
    "    !rm -r /kaggle/working/outputs\n",
    "    !rm -r /kaggle/working/featureout\n",
    "    !rm -r /kaggle/working/colmap-bin\n",
    "\n",
    "    df.to_csv(\"/kaggle/working/submission.csv\", index=False)"
   ]
  },
  {
   "cell_type": "code",
   "execution_count": 7,
   "id": "d7b10288",
   "metadata": {
    "_kg_hide-output": true,
    "execution": {
     "iopub.execute_input": "2025-06-05T06:29:13.325054Z",
     "iopub.status.busy": "2025-06-05T06:29:13.324710Z",
     "iopub.status.idle": "2025-06-05T06:29:13.451013Z",
     "shell.execute_reply": "2025-06-05T06:29:13.450144Z"
    },
    "papermill": {
     "duration": 0.130387,
     "end_time": "2025-06-05T06:29:13.452475",
     "exception": false,
     "start_time": "2025-06-05T06:29:13.322088",
     "status": "completed"
    },
    "tags": []
   },
   "outputs": [],
   "source": [
    "if SAVE_FLAG:\n",
    "    !cp /kaggle/input/image-matching-challenge-2025/sample_submission.csv /kaggle/working/submission.csv\n",
    "else:\n",
    "    install()\n",
    "    preprocess()\n",
    "    inference()\n",
    "    postprocess()"
   ]
  }
 ],
 "metadata": {
  "kaggle": {
   "accelerator": "nvidiaTeslaT4",
   "dataSources": [
    {
     "databundleVersionId": 11655853,
     "sourceId": 91498,
     "sourceType": "competition"
    },
    {
     "datasetId": 7354416,
     "sourceId": 11881365,
     "sourceType": "datasetVersion"
    },
    {
     "datasetId": 7584131,
     "sourceId": 12050928,
     "sourceType": "datasetVersion"
    },
    {
     "sourceId": 234806300,
     "sourceType": "kernelVersion"
    },
    {
     "sourceId": 237364349,
     "sourceType": "kernelVersion"
    },
    {
     "sourceId": 238248914,
     "sourceType": "kernelVersion"
    },
    {
     "sourceId": 240721482,
     "sourceType": "kernelVersion"
    },
    {
     "sourceId": 241082379,
     "sourceType": "kernelVersion"
    },
    {
     "sourceId": 241289474,
     "sourceType": "kernelVersion"
    },
    {
     "modelId": 986,
     "modelInstanceId": 3326,
     "sourceId": 4534,
     "sourceType": "modelInstanceVersion"
    }
   ],
   "dockerImageVersionId": 30919,
   "isGpuEnabled": true,
   "isInternetEnabled": false,
   "language": "python",
   "sourceType": "notebook"
  },
  "kernelspec": {
   "display_name": "Python 3",
   "language": "python",
   "name": "python3"
  },
  "language_info": {
   "codemirror_mode": {
    "name": "ipython",
    "version": 3
   },
   "file_extension": ".py",
   "mimetype": "text/x-python",
   "name": "python",
   "nbconvert_exporter": "python",
   "pygments_lexer": "ipython3",
   "version": "3.10.12"
  },
  "papermill": {
   "default_parameters": {},
   "duration": 3.926008,
   "end_time": "2025-06-05T06:29:13.871929",
   "environment_variables": {},
   "exception": null,
   "input_path": "__notebook__.ipynb",
   "output_path": "__notebook__.ipynb",
   "parameters": {},
   "start_time": "2025-06-05T06:29:09.945921",
   "version": "2.6.0"
  }
 },
 "nbformat": 4,
 "nbformat_minor": 5
}
