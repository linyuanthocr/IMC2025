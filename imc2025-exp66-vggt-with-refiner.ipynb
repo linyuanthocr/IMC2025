{
 "cells": [
  {
   "cell_type": "markdown",
   "id": "2da028af",
   "metadata": {
    "papermill": {
     "duration": 0.002254,
     "end_time": "2025-06-05T05:49:36.867862",
     "exception": false,
     "start_time": "2025-06-05T05:49:36.865608",
     "status": "completed"
    },
    "tags": []
   },
   "source": [
    "Version1, VGGT with refiner\n",
    "\n",
    "Version2, VGGT w/o refiner\n",
    "\n",
    "Version3, LightGlue with refiner"
   ]
  },
  {
   "cell_type": "code",
   "execution_count": 1,
   "id": "a38d7db2",
   "metadata": {
    "execution": {
     "iopub.execute_input": "2025-06-05T05:49:36.873460Z",
     "iopub.status.busy": "2025-06-05T05:49:36.873051Z",
     "iopub.status.idle": "2025-06-05T05:49:36.879838Z",
     "shell.execute_reply": "2025-06-05T05:49:36.879030Z"
    },
    "papermill": {
     "duration": 0.010897,
     "end_time": "2025-06-05T05:49:36.881126",
     "exception": false,
     "start_time": "2025-06-05T05:49:36.870229",
     "status": "completed"
    },
    "tags": []
   },
   "outputs": [],
   "source": [
    "DEBUG = False\n",
    "\n",
    "import os\n",
    "if os.getenv('KAGGLE_IS_COMPETITION_RERUN'):\n",
    "    DEBUG = False\n",
    "\n",
    "SAVE_FLAG = (not os.getenv('KAGGLE_IS_COMPETITION_RERUN') and not DEBUG)"
   ]
  },
  {
   "cell_type": "code",
   "execution_count": 2,
   "id": "de066252",
   "metadata": {
    "execution": {
     "iopub.execute_input": "2025-06-05T05:49:36.885587Z",
     "iopub.status.busy": "2025-06-05T05:49:36.885351Z",
     "iopub.status.idle": "2025-06-05T05:49:36.891553Z",
     "shell.execute_reply": "2025-06-05T05:49:36.890851Z"
    },
    "papermill": {
     "duration": 0.009905,
     "end_time": "2025-06-05T05:49:36.892871",
     "exception": false,
     "start_time": "2025-06-05T05:49:36.882966",
     "status": "completed"
    },
    "tags": []
   },
   "outputs": [],
   "source": [
    "def install():\n",
    "\n",
    "    !dpkg -i --force-depends /kaggle/input/colmap-offline-installer/archives/*.deb >/dev/null 2>&1\n",
    "    \n",
    "    !cp -r /kaggle/input/incremental-model-refiner-binary/colmap-bin /kaggle/working\n",
    "    !chmod +x /kaggle/working/colmap-bin/bin/colmap\n",
    "\n",
    "    import os\n",
    "    os.environ[\"COLMAP_PATH\"] = \"/kaggle/working/colmap-bin/bin/colmap\"\n",
    "    \n",
    "    COLMAP_PATH = os.environ.get(\"COLMAP_PATH\", \"colmap\")\n",
    "    !{COLMAP_PATH} incremental_model_refiner -h"
   ]
  },
  {
   "cell_type": "code",
   "execution_count": 3,
   "id": "27c5ebcf",
   "metadata": {
    "execution": {
     "iopub.execute_input": "2025-06-05T05:49:36.897187Z",
     "iopub.status.busy": "2025-06-05T05:49:36.896967Z",
     "iopub.status.idle": "2025-06-05T05:49:36.908960Z",
     "shell.execute_reply": "2025-06-05T05:49:36.908259Z"
    },
    "papermill": {
     "duration": 0.015636,
     "end_time": "2025-06-05T05:49:36.910339",
     "exception": false,
     "start_time": "2025-06-05T05:49:36.894703",
     "status": "completed"
    },
    "tags": []
   },
   "outputs": [],
   "source": [
    "def preprocess():\n",
    "    \n",
    "    !mkdir -p /root/.cache/torch/hub/checkpoints\n",
    "\n",
    "    # KeyNet - adalam\n",
    "    !cp -v /kaggle/input/kornia-local-feature-weights/* /root/.cache/torch/hub/checkpoints/\n",
    "\n",
    "    # VGGT Tracker\n",
    "    !cp -v /kaggle/input/lightglue-offline/ALIKED/aliked-n16.pth /root/.cache/torch/hub/checkpoints/\n",
    "    !cp -v /kaggle/input/lightglue-offline/ALIKED/aliked_lightglue_v0-1_arxiv.pth /root/.cache/torch/hub/checkpoints/aliked_lightglue_v0-1_arxiv-pth\n",
    "    !cp -v /kaggle/input/lightglue-offline/SuperPoint/superpoint_v1.pth /root/.cache/torch/hub/checkpoints/\n",
    "\n",
    "    # ALIKED - LightGlue\n",
    "    !cp -v /kaggle/input/lightglue-offline/ALIKED/aliked-n16.pth /root/.cache/torch/hub/checkpoints/\n",
    "    !cp -v /kaggle/input/lightglue-offline/ALIKED/aliked_lightglue_v0-1_arxiv.pth /root/.cache/torch/hub/checkpoints/aliked_lightglue_v0-1_arxiv.pth\n",
    "    \n",
    "    return"
   ]
  },
  {
   "cell_type": "code",
   "execution_count": 4,
   "id": "ab65c363",
   "metadata": {
    "execution": {
     "iopub.execute_input": "2025-06-05T05:49:36.914743Z",
     "iopub.status.busy": "2025-06-05T05:49:36.914526Z",
     "iopub.status.idle": "2025-06-05T05:49:36.918081Z",
     "shell.execute_reply": "2025-06-05T05:49:36.917297Z"
    },
    "papermill": {
     "duration": 0.007263,
     "end_time": "2025-06-05T05:49:36.919380",
     "exception": false,
     "start_time": "2025-06-05T05:49:36.912117",
     "status": "completed"
    },
    "tags": []
   },
   "outputs": [],
   "source": [
    "def inference():\n",
    "\n",
    "    !python3 /kaggle/input/imc2025-exp66-vggt-with-incremental-model-refiner/inference.py \\\n",
    "        param=submission\n",
    "\n",
    "    return"
   ]
  },
  {
   "cell_type": "code",
   "execution_count": 5,
   "id": "25245b22",
   "metadata": {
    "execution": {
     "iopub.execute_input": "2025-06-05T05:49:36.923873Z",
     "iopub.status.busy": "2025-06-05T05:49:36.923589Z",
     "iopub.status.idle": "2025-06-05T05:49:38.168218Z",
     "shell.execute_reply": "2025-06-05T05:49:38.167578Z"
    },
    "papermill": {
     "duration": 1.248556,
     "end_time": "2025-06-05T05:49:38.169765",
     "exception": false,
     "start_time": "2025-06-05T05:49:36.921209",
     "status": "completed"
    },
    "tags": []
   },
   "outputs": [],
   "source": [
    "import pandas as pd\n",
    "import numpy as np\n",
    "\n",
    "def postprocess():\n",
    "    \n",
    "    df = pd.read_csv(\"/kaggle/working/submission.csv\")\n",
    "    !rm /kaggle/working/*.csv\n",
    "    !rm -r /kaggle/working/outputs\n",
    "    !rm -r /kaggle/working/featureout\n",
    "    !rm -r /kaggle/working/colmap-bin\n",
    "\n",
    "    df.to_csv(\"/kaggle/working/submission.csv\", index=False)"
   ]
  },
  {
   "cell_type": "code",
   "execution_count": 6,
   "id": "9976b876",
   "metadata": {
    "_kg_hide-output": true,
    "execution": {
     "iopub.execute_input": "2025-06-05T05:49:38.174709Z",
     "iopub.status.busy": "2025-06-05T05:49:38.174364Z",
     "iopub.status.idle": "2025-06-05T05:49:38.306572Z",
     "shell.execute_reply": "2025-06-05T05:49:38.305681Z"
    },
    "papermill": {
     "duration": 0.136133,
     "end_time": "2025-06-05T05:49:38.308036",
     "exception": false,
     "start_time": "2025-06-05T05:49:38.171903",
     "status": "completed"
    },
    "tags": []
   },
   "outputs": [],
   "source": [
    "if SAVE_FLAG:\n",
    "    !cp /kaggle/input/image-matching-challenge-2025/sample_submission.csv /kaggle/working/submission.csv\n",
    "else:\n",
    "    install()\n",
    "    preprocess()\n",
    "    inference()\n",
    "    postprocess()"
   ]
  }
 ],
 "metadata": {
  "kaggle": {
   "accelerator": "nvidiaTeslaT4",
   "dataSources": [
    {
     "databundleVersionId": 11655853,
     "sourceId": 91498,
     "sourceType": "competition"
    },
    {
     "datasetId": 7354416,
     "sourceId": 11881365,
     "sourceType": "datasetVersion"
    },
    {
     "datasetId": 7584131,
     "sourceId": 12050928,
     "sourceType": "datasetVersion"
    },
    {
     "sourceId": 234806300,
     "sourceType": "kernelVersion"
    },
    {
     "sourceId": 237364349,
     "sourceType": "kernelVersion"
    },
    {
     "sourceId": 238248914,
     "sourceType": "kernelVersion"
    },
    {
     "sourceId": 240721482,
     "sourceType": "kernelVersion"
    },
    {
     "sourceId": 241082379,
     "sourceType": "kernelVersion"
    },
    {
     "sourceId": 241289474,
     "sourceType": "kernelVersion"
    },
    {
     "modelId": 986,
     "modelInstanceId": 3326,
     "sourceId": 4534,
     "sourceType": "modelInstanceVersion"
    }
   ],
   "dockerImageVersionId": 30919,
   "isGpuEnabled": true,
   "isInternetEnabled": false,
   "language": "python",
   "sourceType": "notebook"
  },
  "kernelspec": {
   "display_name": "Python 3",
   "language": "python",
   "name": "python3"
  },
  "language_info": {
   "codemirror_mode": {
    "name": "ipython",
    "version": 3
   },
   "file_extension": ".py",
   "mimetype": "text/x-python",
   "name": "python",
   "nbconvert_exporter": "python",
   "pygments_lexer": "ipython3",
   "version": "3.10.12"
  },
  "papermill": {
   "default_parameters": {},
   "duration": 5.448657,
   "end_time": "2025-06-05T05:49:38.727179",
   "environment_variables": {},
   "exception": null,
   "input_path": "__notebook__.ipynb",
   "output_path": "__notebook__.ipynb",
   "parameters": {},
   "start_time": "2025-06-05T05:49:33.278522",
   "version": "2.6.0"
  }
 },
 "nbformat": 4,
 "nbformat_minor": 5
}
